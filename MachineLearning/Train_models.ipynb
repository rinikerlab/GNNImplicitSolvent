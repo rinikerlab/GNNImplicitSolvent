{
 "cells": [
  {
   "cell_type": "markdown",
   "metadata": {},
   "source": [
    "# Make Imports"
   ]
  },
  {
   "cell_type": "code",
   "execution_count": 1,
   "metadata": {
    "tags": []
   },
   "outputs": [],
   "source": [
    "import sys\n",
    "from GNN_Trainer import Trainer\n",
    "from GNN_Models import GNN3_all_swish_multiple_peptides_GBNeck_trainable_dif_graphs_corr, GNN3_true_delta_all_swish_multiple_peptides_GBNeck_trainable_dif_graphs, GNN3_all_swish_GBNeck_trainable_dif_graphs_corr_run\n",
    "from GNN_Loss_Functions import calculate_force_loss_only"
   ]
  },
  {
   "attachments": {},
   "cell_type": "markdown",
   "metadata": {
    "tags": []
   },
   "source": [
    "COPY all files in topologies_and_starting_coordinates from doi: [10.3929/ethz-b-000599309](https://doi.org/10.3929/ethz-b-000599309) to [Data/data](../Data/data/) <br>\n",
    "COPY all files in training_data from from doi: [10.3929/ethz-b-000599309](https://doi.org/10.3929/ethz-b-000599309) to [Simulation/simulation](../Simulation/simulation/)"
   ]
  },
  {
   "cell_type": "markdown",
   "metadata": {},
   "source": [
    "## Prepare Trainer"
   ]
  },
  {
   "cell_type": "code",
   "execution_count": 8,
   "metadata": {
    "tags": []
   },
   "outputs": [
    {
     "name": "stdout",
     "output_type": "stream",
     "text": [
      "From Amber\n",
      "From Amber\n",
      "From Amber\n",
      "From Amber\n",
      "From Amber\n",
      "From Amber\n",
      "From Amber\n",
      "From Amber\n",
      "Constructed Dataset with 55000 frames from 8 compound sets\n"
     ]
    }
   ],
   "source": [
    "device = 'cuda'\n",
    "random = 19\n",
    "trainer = Trainer(verbose=True,name='GNN3_model',path='.',force_mode=True,enable_tmp_dir=False,random_state=random)\n",
    "trainer.explicit = True\n",
    "work_dir = '../'\n",
    "peptide_ids = ['ka%sae' % s for s in 'vlifpsty'] # train on all peptides\n",
    "gbneck_parameters = trainer.prepare_training_data_for_multiple_peptides(peptide_ids,0.8,work_dir,force_out_suffix='forces.npy',position_out_suffix='positions.npy')"
   ]
  },
  {
   "cell_type": "markdown",
   "metadata": {},
   "source": [
    "## Select Model Architecture"
   ]
  },
  {
   "cell_type": "code",
   "execution_count": 9,
   "metadata": {
    "tags": []
   },
   "outputs": [],
   "source": [
    "radius = 0.6\n",
    "fra = 0.1"
   ]
  },
  {
   "cell_type": "code",
   "execution_count": 10,
   "metadata": {
    "tags": []
   },
   "outputs": [],
   "source": [
    "model = GNN3_all_swish_multiple_peptides_GBNeck_trainable_dif_graphs_corr(radius=radius,max_num_neighbors=256,parameters=gbneck_parameters,device='cuda',fraction=fra)\n",
    "trainer.model = model"
   ]
  },
  {
   "cell_type": "markdown",
   "metadata": {},
   "source": [
    "## Train model"
   ]
  },
  {
   "cell_type": "code",
   "execution_count": 11,
   "metadata": {
    "tags": []
   },
   "outputs": [],
   "source": [
    "lr = 0.001\n",
    "batchsize = 32\n",
    "epochs = 3"
   ]
  },
  {
   "cell_type": "code",
   "execution_count": 12,
   "metadata": {
    "tags": []
   },
   "outputs": [
    {
     "name": "stdout",
     "output_type": "stream",
     "text": [
      "Run 0 avg time: 581.3043343 loss: 20.47582832503053\n",
      "Run 1 avg time: 577.3094223 loss: 18.92183435233763\n",
      "Run 2 avg time: 577.3550123 loss: 17.03356433499763\n"
     ]
    }
   ],
   "source": [
    "trainer.initialize_optimizer(lr,'Exponential100')\n",
    "trainer.set_lossfunction(calculate_force_loss_only)\n",
    "_ = trainer.train_model(epochs,batchsize)"
   ]
  },
  {
   "cell_type": "markdown",
   "metadata": {},
   "source": [
    "## Save Model"
   ]
  },
  {
   "cell_type": "code",
   "execution_count": 13,
   "metadata": {
    "tags": []
   },
   "outputs": [],
   "source": [
    "trainer.save_model()"
   ]
  },
  {
   "cell_type": "markdown",
   "metadata": {},
   "source": [
    "## Save Run Model"
   ]
  },
  {
   "cell_type": "code",
   "execution_count": 14,
   "metadata": {
    "tags": []
   },
   "outputs": [
    {
     "name": "stdout",
     "output_type": "stream",
     "text": [
      "From Amber\n"
     ]
    }
   ],
   "source": [
    "run_model = GNN3_all_swish_GBNeck_trainable_dif_graphs_corr_run\n",
    "trainer.prepare_run_model(pdbid='kasae',work_folder=work_dir,run_model=run_model,radius=radius,fraction=fra,savedir='./')"
   ]
  },
  {
   "cell_type": "code",
   "execution_count": null,
   "metadata": {},
   "outputs": [],
   "source": []
  }
 ],
 "metadata": {
  "kernelspec": {
   "display_name": "Python 3 (ipykernel)",
   "language": "python",
   "name": "python3"
  },
  "language_info": {
   "codemirror_mode": {
    "name": "ipython",
    "version": 3
   },
   "file_extension": ".py",
   "mimetype": "text/x-python",
   "name": "python",
   "nbconvert_exporter": "python",
   "pygments_lexer": "ipython3",
   "version": "3.9.16"
  },
  "vscode": {
   "interpreter": {
    "hash": "46e87b747cff41404eb43e2046185264745cc6e609e89010b1df7b0286c5cd1e"
   }
  }
 },
 "nbformat": 4,
 "nbformat_minor": 4
}
