{
 "cells": [
  {
   "cell_type": "code",
   "execution_count": 2,
   "metadata": {},
   "outputs": [
    {
     "name": "stderr",
     "output_type": "stream",
     "text": [
      "Warning: importing 'simtk.openmm' is deprecated.  Import 'openmm' instead.\n",
      "Warning: Unable to load toolkit 'OpenEye Toolkit'. The Open Force Field Toolkit does not require the OpenEye Toolkits, and can use RDKit/AmberTools instead. However, if you have a valid license for the OpenEye Toolkits, consider installing them for faster performance and additional file format support: https://docs.eyesopen.com/toolkits/python/quickstart-python/linuxosx.html OpenEye offers free Toolkit licenses for academics: https://www.eyesopen.com/academic-licensing\n"
     ]
    },
    {
     "data": {
      "application/vnd.jupyter.widget-view+json": {
       "model_id": "182002fe347f45e5ad9eeab8e02bf676",
       "version_major": 2,
       "version_minor": 0
      },
      "text/plain": []
     },
     "metadata": {},
     "output_type": "display_data"
    }
   ],
   "source": [
    "from helper_functions import SOLVENT_DICT"
   ]
  },
  {
   "cell_type": "code",
   "execution_count": 3,
   "metadata": {},
   "outputs": [],
   "source": [
    "submission_txt = \"\"\n",
    "for solvent in SOLVENT_DICT.keys():\n",
    "    sd = SOLVENT_DICT[solvent][\"dielectric\"]\n",
    "    submission_txt += f\"\"\"\n",
    "sbatch --array=0,1,2 -n 8 --gpus=1 --time=24:00:00  --mem-per-cpu=2000 -o simulation/slurm_log/production_run_sim_gbneck_%A_%a.out --wrap='python run_simulation_for_small_molecules.py -id $SLURM_ARRAY_TASK_ID -n 1000 -f simulation_smiles/intra_molecular_hbond2.txt -s GBNeck2 -r 161311 -sd {sd} -i 100 -ad \"gbneck2_production\"'\n",
    "sbatch --array=0 -n 8 --gpus=1 --time=24:00:00  --mem-per-cpu=2000 -o simulation/slurm_log/production_run_sim_gbneck_%A_%a.out --wrap='python run_simulation_for_small_molecules.py -id $SLURM_ARRAY_TASK_ID -n 1000 -f simulation_smiles/dimethoxy.txt -s GBNeck2 -r 161311 -sd {sd} -i 100 -ad \"gbneck2_production\"'\"\"\"\n",
    "    \n",
    "with open(\"submit_gbneck2_reference_simulations.sh\", \"w\") as f:\n",
    "    f.write(submission_txt)"
   ]
  },
  {
   "cell_type": "code",
   "execution_count": null,
   "metadata": {},
   "outputs": [],
   "source": []
  }
 ],
 "metadata": {
  "kernelspec": {
   "display_name": "GNNImplicitSolvent",
   "language": "python",
   "name": "python3"
  },
  "language_info": {
   "codemirror_mode": {
    "name": "ipython",
    "version": 3
   },
   "file_extension": ".py",
   "mimetype": "text/x-python",
   "name": "python",
   "nbconvert_exporter": "python",
   "pygments_lexer": "ipython3",
   "version": "3.10.9"
  }
 },
 "nbformat": 4,
 "nbformat_minor": 2
}
