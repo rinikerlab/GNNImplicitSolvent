{
 "cells": [
  {
   "cell_type": "code",
   "execution_count": 2,
   "metadata": {},
   "outputs": [
    {
     "data": {
      "application/vnd.jupyter.widget-view+json": {
       "model_id": "837ff379334e4e549802b37ff49cb5bb",
       "version_major": 2,
       "version_minor": 0
      },
      "text/plain": []
     },
     "metadata": {},
     "output_type": "display_data"
    }
   ],
   "source": [
    "import rdkit\n",
    "import nglview\n",
    "from rdkit.Chem import rdMolDescriptors\n",
    "from rdkit.Chem.rdmolops import GetFormalCharge\n",
    "import numpy as np"
   ]
  },
  {
   "cell_type": "code",
   "execution_count": 3,
   "metadata": {},
   "outputs": [],
   "source": [
    "molsupl = rdkit.Chem.SDMolSupplier('/home/kpaul/Downloads/platinum_diverse_dataset_2017_01.sdf')"
   ]
  },
  {
   "cell_type": "code",
   "execution_count": 4,
   "metadata": {},
   "outputs": [],
   "source": [
    "molecules = [mol for mol in molsupl if mol is not None]\n",
    "\n",
    "rotatable_bonds = np.array([rdMolDescriptors.CalcNumRotatableBonds(mol) for mol in molecules])\n",
    "molecular_weights = np.array([rdMolDescriptors.CalcExactMolWt(mol) for mol in molecules])\n",
    "molecular_net_charge = np.array([GetFormalCharge(mol) for mol in molecules])\n",
    "# molecules = [rdkit.Chem.AddHs(mol) for mol in molecules]"
   ]
  },
  {
   "cell_type": "code",
   "execution_count": 5,
   "metadata": {},
   "outputs": [
    {
     "data": {
      "text/plain": [
       "462.20234741609"
      ]
     },
     "execution_count": 5,
     "metadata": {},
     "output_type": "execute_result"
    }
   ],
   "source": [
    "rdMolDescriptors.CalcExactMolWt(molecules[0])"
   ]
  },
  {
   "cell_type": "code",
   "execution_count": 6,
   "metadata": {},
   "outputs": [],
   "source": [
    "all_truths = (molecular_weights > 500) & (rotatable_bonds > 5) & (rotatable_bonds < 10) & (molecular_net_charge == 0)"
   ]
  },
  {
   "cell_type": "code",
   "execution_count": 7,
   "metadata": {},
   "outputs": [
    {
     "data": {
      "text/plain": [
       "60"
      ]
     },
     "execution_count": 7,
     "metadata": {},
     "output_type": "execute_result"
    }
   ],
   "source": [
    "compound_selection = np.argwhere(all_truths)\n",
    "len(compound_selection)"
   ]
  },
  {
   "cell_type": "markdown",
   "metadata": {},
   "source": [
    "# Select 10 compounds"
   ]
  },
  {
   "cell_type": "code",
   "execution_count": 50,
   "metadata": {},
   "outputs": [
    {
     "name": "stdout",
     "output_type": "stream",
     "text": [
      "COc1cc2nccc(Oc3ccc(NC(=O)c4c(C)n(C)n(-c5ccccc5)c4=O)cc3F)c2cc1OC\n",
      "N#CC1(c2cccc(C(=O)Nc3cc(Oc4ccc5nc(NC(=O)C6CC6)sc5n4)ccc3F)c2Cl)CC1\n",
      "CC(=O)Nc1cccc(-c2ccc3nc(-c4cccnc4N)n(-c4ccc(CNC(=O)c5cccc(F)c5)cc4)c3n2)c1\n",
      "Cc1cn([C@H]2CCC[N@@H+]([C@H](CC(C)C)c3ccc(C(=O)[O-])c(Oc4cccc(Cl)c4)c3)C2)c(=O)[nH]c1=O\n",
      "C[NH2+][C@@H](C)C(=O)N[C@@H]1C(=O)N(Cc2c(OC)ccc3cc(C(=O)[O-])ccc23)c2ccccc2OC12CCOCC2\n",
      "CC(C)(O)c1ccnc(-c2cccc3cc([C@H](NS(=O)(=O)C4CC4)c4c(Cl)cnc(N)c4F)sc23)c1\n",
      "COc1c(NC(=O)c2ccc(C)c(-n3cc(C(=O)NCc4ccccc4)nn3)c2)cc(C(C)(C)C)cc1NS(C)(=O)=O\n",
      "Cc1cccc2nc(Cn3c(=O)n(C[C@H]4CC[C@H](C(=O)NCc5ccccc5)CC4)c(=O)c4ccccc43)cc(=O)n12\n",
      "COc1ccc(S(=O)(=O)N2Cc3cc(C#N)ccc3N(Cc3cncn3C)C[C@H]2Cc2ccccc2)cc1\n",
      "CNc1ncc2c(F)c(-c3c(C)ccc(C(=O)c4c(-c5ccccc5)n(C)n(-c5ccccc5)c4=O)c3N)ccc2n1\n"
     ]
    }
   ],
   "source": [
    "for cs in compound_selection[:10]:\n",
    "    print(rdkit.Chem.MolToSmiles(molecules[cs[0]]))"
   ]
  },
  {
   "cell_type": "code",
   "execution_count": 49,
   "metadata": {},
   "outputs": [
    {
     "data": {
      "application/vnd.jupyter.widget-view+json": {
       "model_id": "72d28e157908483ab7df4a0844e5c13e",
       "version_major": 2,
       "version_minor": 0
      },
      "text/plain": [
       "NGLWidget()"
      ]
     },
     "metadata": {},
     "output_type": "display_data"
    }
   ],
   "source": [
    "nglview.show_rdkit(molecules[compound_selection[9].item()])"
   ]
  },
  {
   "cell_type": "code",
   "execution_count": null,
   "metadata": {},
   "outputs": [],
   "source": []
  }
 ],
 "metadata": {
  "kernelspec": {
   "display_name": "newest_pyg_ot14",
   "language": "python",
   "name": "python3"
  },
  "language_info": {
   "codemirror_mode": {
    "name": "ipython",
    "version": 3
   },
   "file_extension": ".py",
   "mimetype": "text/x-python",
   "name": "python",
   "nbconvert_exporter": "python",
   "pygments_lexer": "ipython3",
   "version": "3.10.9"
  }
 },
 "nbformat": 4,
 "nbformat_minor": 2
}
