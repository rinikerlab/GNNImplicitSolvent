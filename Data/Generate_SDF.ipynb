{
 "cells": [
  {
   "cell_type": "code",
   "execution_count": 1,
   "metadata": {},
   "outputs": [],
   "source": [
    "import sys\n",
    "import numpy as np\n",
    "import tqdm\n",
    "\n",
    "sys.path.append(\"../\")\n",
    "from lwreg import standardization_lib\n",
    "import lwreg\n",
    "from rdkit import Chem\n",
    "\n",
    "import yaml\n",
    "solvent_dict = yaml.load(open(\"../Simulation/solvents.yml\"), Loader=yaml.FullLoader)[\n",
    "    \"solvent_mapping_dict\"\n",
    "]\n",
    "\n",
    "with open(\"/home/kpaul/.lwreg_key\", \"r\") as f:\n",
    "    key = f.read().strip()\n",
    "\n",
    "config = lwreg.utils.defaultConfig()\n",
    "config[\"standardization\"] = standardization_lib.NoStandardization()\n",
    "config[\"dbname\"] = \"solvent_forces\"\n",
    "config[\"dbtype\"] = \"postgresql\"\n",
    "config[\"removeHs\"] = 0\n",
    "config[\"registerConformers\"] = True\n",
    "config[\"hashConformer\"] = 0  # set to 0\n",
    "config[\"numConformerDigits\"] = 3  #\n",
    "config[\"host\"] = \"scotland\"\n",
    "config[\"user\"] = \"kpaul_lwreg\"\n",
    "config[\"password\"] = key"
   ]
  },
  {
   "cell_type": "code",
   "execution_count": 2,
   "metadata": {},
   "outputs": [
    {
     "name": "stderr",
     "output_type": "stream",
     "text": [
      "  0%|          | 0/39 [00:00<?, ?it/s]"
     ]
    },
    {
     "name": "stdout",
     "output_type": "stream",
     "text": [
      "Processing tip3p\n",
      "Skipping TIP3P\n",
      "Processing Chloroform\n"
     ]
    },
    {
     "name": "stderr",
     "output_type": "stream",
     "text": [
      "1089696it [47:10, 384.96it/s]\n",
      "  5%|▌         | 2/39 [56:02<17:16:54, 1681.47s/it]"
     ]
    },
    {
     "name": "stdout",
     "output_type": "stream",
     "text": [
      "Processing Methanol\n"
     ]
    },
    {
     "name": "stderr",
     "output_type": "stream",
     "text": [
      "1107512it [48:00, 384.49it/s]\n",
      "  8%|▊         | 3/39 [1:54:37<24:27:16, 2445.46s/it]"
     ]
    },
    {
     "name": "stdout",
     "output_type": "stream",
     "text": [
      "Processing DMSO\n"
     ]
    },
    {
     "name": "stderr",
     "output_type": "stream",
     "text": [
      "1105447it [50:36, 364.09it/s]\n",
      " 10%|█         | 4/39 [2:54:43<27:58:59, 2878.27s/it]"
     ]
    },
    {
     "name": "stdout",
     "output_type": "stream",
     "text": [
      "Processing DMPU\n"
     ]
    },
    {
     "name": "stderr",
     "output_type": "stream",
     "text": [
      "369745it [17:13, 357.77it/s]\n",
      " 13%|█▎        | 5/39 [3:15:03<21:44:15, 2301.63s/it]"
     ]
    },
    {
     "name": "stdout",
     "output_type": "stream",
     "text": [
      "Processing Diethylether\n"
     ]
    },
    {
     "name": "stderr",
     "output_type": "stream",
     "text": [
      "364052it [17:02, 355.91it/s]\n",
      " 15%|█▌        | 6/39 [3:35:04<17:44:59, 1936.34s/it]"
     ]
    },
    {
     "name": "stdout",
     "output_type": "stream",
     "text": [
      "Processing Ethanol\n"
     ]
    },
    {
     "name": "stderr",
     "output_type": "stream",
     "text": [
      "360079it [16:56, 354.37it/s]\n",
      " 18%|█▊        | 7/39 [3:54:57<15:05:14, 1697.34s/it]"
     ]
    },
    {
     "name": "stdout",
     "output_type": "stream",
     "text": [
      "Processing DMF\n"
     ]
    },
    {
     "name": "stderr",
     "output_type": "stream",
     "text": [
      "367528it [17:25, 351.39it/s]\n",
      " 21%|██        | 8/39 [4:15:22<13:20:12, 1548.79s/it]"
     ]
    },
    {
     "name": "stdout",
     "output_type": "stream",
     "text": [
      "Processing DCM\n"
     ]
    },
    {
     "name": "stderr",
     "output_type": "stream",
     "text": [
      "367312it [16:38, 368.00it/s]\n",
      " 23%|██▎       | 9/39 [4:35:01<11:56:56, 1433.88s/it]"
     ]
    },
    {
     "name": "stdout",
     "output_type": "stream",
     "text": [
      "Processing Toluol\n"
     ]
    },
    {
     "name": "stderr",
     "output_type": "stream",
     "text": [
      "361517it [15:44, 382.83it/s]\n",
      " 26%|██▌       | 10/39 [4:53:41<10:46:29, 1337.58s/it]"
     ]
    },
    {
     "name": "stdout",
     "output_type": "stream",
     "text": [
      "Processing Benzol\n"
     ]
    },
    {
     "name": "stderr",
     "output_type": "stream",
     "text": [
      "364541it [15:46, 385.28it/s]\n",
      " 28%|██▊       | 11/39 [5:12:25<9:53:49, 1272.47s/it] "
     ]
    },
    {
     "name": "stdout",
     "output_type": "stream",
     "text": [
      "Processing Hexan\n"
     ]
    },
    {
     "name": "stderr",
     "output_type": "stream",
     "text": [
      "361073it [16:27, 365.79it/s]\n",
      " 31%|███       | 12/39 [5:31:49<9:17:49, 1239.62s/it]"
     ]
    },
    {
     "name": "stdout",
     "output_type": "stream",
     "text": [
      "Processing acetonitrile\n"
     ]
    },
    {
     "name": "stderr",
     "output_type": "stream",
     "text": [
      "365464it [16:56, 359.47it/s]\n",
      " 33%|███▎      | 13/39 [5:51:45<8:51:26, 1226.40s/it]"
     ]
    },
    {
     "name": "stdout",
     "output_type": "stream",
     "text": [
      "Processing acetone\n"
     ]
    },
    {
     "name": "stderr",
     "output_type": "stream",
     "text": [
      "364183it [16:20, 371.57it/s]\n",
      " 36%|███▌      | 14/39 [6:11:03<8:22:25, 1205.81s/it]"
     ]
    },
    {
     "name": "stdout",
     "output_type": "stream",
     "text": [
      "Processing aceticacid\n"
     ]
    },
    {
     "name": "stderr",
     "output_type": "stream",
     "text": [
      "359122it [16:31, 362.25it/s]\n",
      " 38%|███▊      | 15/39 [6:30:32<7:57:52, 1194.68s/it]"
     ]
    },
    {
     "name": "stdout",
     "output_type": "stream",
     "text": [
      "Processing 14dioxane\n"
     ]
    },
    {
     "name": "stderr",
     "output_type": "stream",
     "text": [
      "364334it [16:42, 363.40it/s]\n",
      " 41%|████      | 16/39 [6:50:12<7:36:11, 1190.08s/it]"
     ]
    },
    {
     "name": "stdout",
     "output_type": "stream",
     "text": [
      "Processing nitrobenzol\n"
     ]
    },
    {
     "name": "stderr",
     "output_type": "stream",
     "text": [
      "363863it [16:37, 364.84it/s]\n",
      " 44%|████▎     | 17/39 [7:09:48<7:14:53, 1186.08s/it]"
     ]
    },
    {
     "name": "stdout",
     "output_type": "stream",
     "text": [
      "Processing HMPA\n"
     ]
    },
    {
     "name": "stderr",
     "output_type": "stream",
     "text": [
      "367365it [16:58, 360.53it/s]\n",
      " 46%|████▌     | 18/39 [7:29:47<6:56:26, 1189.82s/it]"
     ]
    },
    {
     "name": "stdout",
     "output_type": "stream",
     "text": [
      "Processing MTBE\n"
     ]
    },
    {
     "name": "stderr",
     "output_type": "stream",
     "text": [
      "359136it [16:22, 365.46it/s]\n",
      " 49%|████▊     | 19/39 [7:49:06<6:33:32, 1180.60s/it]"
     ]
    },
    {
     "name": "stdout",
     "output_type": "stream",
     "text": [
      "Processing IPA\n"
     ]
    },
    {
     "name": "stderr",
     "output_type": "stream",
     "text": [
      "370158it [17:54, 344.40it/s]\n",
      " 51%|█████▏    | 20/39 [8:10:02<6:21:02, 1203.27s/it]"
     ]
    },
    {
     "name": "stdout",
     "output_type": "stream",
     "text": [
      "Processing Hexafluorobenzene\n"
     ]
    },
    {
     "name": "stderr",
     "output_type": "stream",
     "text": [
      "366831it [17:35, 347.69it/s]\n",
      " 54%|█████▍    | 21/39 [8:30:37<6:03:51, 1212.89s/it]"
     ]
    },
    {
     "name": "stdout",
     "output_type": "stream",
     "text": [
      "Processing pyridine\n"
     ]
    },
    {
     "name": "stderr",
     "output_type": "stream",
     "text": [
      "366067it [17:43, 344.37it/s]\n",
      " 56%|█████▋    | 22/39 [8:51:20<5:46:09, 1221.75s/it]"
     ]
    },
    {
     "name": "stdout",
     "output_type": "stream",
     "text": [
      "Processing THF\n"
     ]
    },
    {
     "name": "stderr",
     "output_type": "stream",
     "text": [
      "361535it [17:28, 344.69it/s]\n",
      " 59%|█████▉    | 23/39 [9:11:44<5:25:58, 1222.40s/it]"
     ]
    },
    {
     "name": "stdout",
     "output_type": "stream",
     "text": [
      "Processing Ethylacetate\n"
     ]
    },
    {
     "name": "stderr",
     "output_type": "stream",
     "text": [
      "369272it [17:36, 349.57it/s]\n",
      " 62%|██████▏   | 24/39 [9:32:20<5:06:39, 1226.64s/it]"
     ]
    },
    {
     "name": "stdout",
     "output_type": "stream",
     "text": [
      "Processing Sulfolane\n"
     ]
    },
    {
     "name": "stderr",
     "output_type": "stream",
     "text": [
      "370280it [17:31, 352.05it/s]\n",
      " 64%|██████▍   | 25/39 [9:52:56<4:46:49, 1229.24s/it]"
     ]
    },
    {
     "name": "stdout",
     "output_type": "stream",
     "text": [
      "Processing nitromethane\n"
     ]
    },
    {
     "name": "stderr",
     "output_type": "stream",
     "text": [
      "370304it [17:51, 345.56it/s]\n",
      " 67%|██████▋   | 26/39 [10:13:50<4:27:57, 1236.76s/it]"
     ]
    },
    {
     "name": "stdout",
     "output_type": "stream",
     "text": [
      "Processing Butylformate\n"
     ]
    },
    {
     "name": "stderr",
     "output_type": "stream",
     "text": [
      "370327it [18:08, 340.36it/s]\n",
      " 69%|██████▉   | 27/39 [10:34:59<4:09:19, 1246.59s/it]"
     ]
    },
    {
     "name": "stdout",
     "output_type": "stream",
     "text": [
      "Processing NMP\n"
     ]
    },
    {
     "name": "stderr",
     "output_type": "stream",
     "text": [
      "370315it [17:56, 343.97it/s]\n",
      " 72%|███████▏  | 28/39 [10:55:59<3:49:15, 1250.51s/it]"
     ]
    },
    {
     "name": "stdout",
     "output_type": "stream",
     "text": [
      "Processing Octanol\n"
     ]
    },
    {
     "name": "stderr",
     "output_type": "stream",
     "text": [
      "369453it [18:25, 334.04it/s]\n",
      " 74%|███████▍  | 29/39 [11:17:28<3:30:19, 1261.91s/it]"
     ]
    },
    {
     "name": "stdout",
     "output_type": "stream",
     "text": [
      "Processing cyclohexane\n"
     ]
    },
    {
     "name": "stderr",
     "output_type": "stream",
     "text": [
      "365364it [17:09, 354.75it/s]\n",
      " 77%|███████▋  | 30/39 [11:37:38<3:06:59, 1246.59s/it]"
     ]
    },
    {
     "name": "stdout",
     "output_type": "stream",
     "text": [
      "Processing glycerin\n"
     ]
    },
    {
     "name": "stderr",
     "output_type": "stream",
     "text": [
      "368570it [17:46, 345.47it/s]\n",
      " 79%|███████▉  | 31/39 [11:58:27<2:46:18, 1247.29s/it]"
     ]
    },
    {
     "name": "stdout",
     "output_type": "stream",
     "text": [
      "Processing carbontetrachloride\n"
     ]
    },
    {
     "name": "stderr",
     "output_type": "stream",
     "text": [
      "365678it [17:54, 340.19it/s]\n",
      " 82%|████████▏ | 32/39 [12:19:22<2:25:46, 1249.51s/it]"
     ]
    },
    {
     "name": "stdout",
     "output_type": "stream",
     "text": [
      "Processing DME\n"
     ]
    },
    {
     "name": "stderr",
     "output_type": "stream",
     "text": [
      "308870it [14:50, 347.00it/s]\n",
      " 85%|████████▍ | 33/39 [12:36:48<1:58:51, 1188.58s/it]"
     ]
    },
    {
     "name": "stdout",
     "output_type": "stream",
     "text": [
      "Processing 2Nitropropane\n"
     ]
    },
    {
     "name": "stderr",
     "output_type": "stream",
     "text": [
      "359196it [17:07, 349.53it/s]\n",
      " 87%|████████▋ | 34/39 [12:56:53<1:39:26, 1193.31s/it]"
     ]
    },
    {
     "name": "stdout",
     "output_type": "stream",
     "text": [
      "Processing Trifluorotoluene\n"
     ]
    },
    {
     "name": "stderr",
     "output_type": "stream",
     "text": [
      "363727it [17:36, 344.22it/s]\n",
      " 90%|████████▉ | 35/39 [13:17:30<1:20:25, 1206.32s/it]"
     ]
    },
    {
     "name": "stdout",
     "output_type": "stream",
     "text": [
      "Processing hexafluroacetone\n"
     ]
    },
    {
     "name": "stderr",
     "output_type": "stream",
     "text": [
      "367490it [17:42, 345.85it/s]\n",
      " 92%|█████████▏| 36/39 [13:38:14<1:00:53, 1217.79s/it]"
     ]
    },
    {
     "name": "stdout",
     "output_type": "stream",
     "text": [
      "Processing Propionitrile\n"
     ]
    },
    {
     "name": "stderr",
     "output_type": "stream",
     "text": [
      "366828it [17:33, 348.05it/s]\n",
      " 95%|█████████▍| 37/39 [13:58:49<40:45, 1222.97s/it]  "
     ]
    },
    {
     "name": "stdout",
     "output_type": "stream",
     "text": [
      "Processing Benzonitrile\n"
     ]
    },
    {
     "name": "stderr",
     "output_type": "stream",
     "text": [
      "367008it [17:33, 348.45it/s]\n",
      " 97%|█████████▋| 38/39 [14:19:23<20:26, 1226.31s/it]"
     ]
    },
    {
     "name": "stdout",
     "output_type": "stream",
     "text": [
      "Processing oxylol\n"
     ]
    },
    {
     "name": "stderr",
     "output_type": "stream",
     "text": [
      "358606it [17:02, 350.65it/s]\n",
      "100%|██████████| 39/39 [14:39:22<00:00, 1352.88s/it]\n"
     ]
    }
   ],
   "source": [
    "save_folder = \"/fileserver/pine/pine8/kpaul/multi_solvent_pub/data/Extracted_forces_SDFs/\"\n",
    "for solvent in tqdm.tqdm(solvent_dict.keys()):\n",
    "    print(f\"Processing {solvent}\")\n",
    "    if solvent == \"tip3p\": # TIP3P is already published\n",
    "        print(\"Skipping TIP3P\")\n",
    "        continue\n",
    "\n",
    "    sdf_filename = f\"{save_folder}dataset_{solvent}.sdf\"\n",
    "\n",
    "    cn = lwreg.utils.connect(config)\n",
    "    curs = cn.cursor()\n",
    "    curs.execute(\n",
    "        \"select canonical_smiles, hashes.molregno, calcs.conf_id, calcs.positions, calcs.forces, calcs.usage_flag from solvent_%s.explicit_calculations calcs join conformers using (conf_id) join hashes using (molregno) where usage_flag='train' or usage_flag='test'\" %solvent\n",
    "    )\n",
    "    data_list = []\n",
    "\n",
    "    with Chem.SDWriter(sdf_filename) as w:\n",
    "\n",
    "        for smiles, molregno, conf_id, positions, forces, usage_flag in tqdm.tqdm(curs):\n",
    "\n",
    "            results = lwreg.retrieve(config,id=(molregno,conf_id),as_submitted=True)\n",
    "            mol = Chem.MolFromMolBlock(results[(molregno,conf_id)][0],sanitize=False)\n",
    "            diff = mol.GetConformer().GetPositions() - positions\n",
    "            assert np.isclose(diff,0.0,atol=1e-5).all()\n",
    "            mol.SetProp(\"forces\",np.array2string(np.array(forces)[:,1:], separator=\",\"))\n",
    "            mol.SetProp(\"usage_flag\",usage_flag)\n",
    "            mol.SetProp(\"SMILES\",smiles)\n",
    "            \n",
    "            w.write(mol)\n",
    "    cn.commit()"
   ]
  }
 ],
 "metadata": {
  "kernelspec": {
   "display_name": "GNNImplicitSolvent",
   "language": "python",
   "name": "python3"
  },
  "language_info": {
   "codemirror_mode": {
    "name": "ipython",
    "version": 3
   },
   "file_extension": ".py",
   "mimetype": "text/x-python",
   "name": "python",
   "nbconvert_exporter": "python",
   "pygments_lexer": "ipython3",
   "version": "3.10.9"
  }
 },
 "nbformat": 4,
 "nbformat_minor": 2
}
