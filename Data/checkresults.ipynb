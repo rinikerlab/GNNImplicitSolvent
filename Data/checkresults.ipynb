{
 "cells": [
  {
   "cell_type": "code",
   "execution_count": 53,
   "metadata": {},
   "outputs": [],
   "source": [
    "from Datahandler import hdf5_storage\n",
    "import tqdm\n",
    "import os"
   ]
  },
  {
   "cell_type": "code",
   "execution_count": 56,
   "metadata": {},
   "outputs": [
    {
     "name": "stderr",
     "output_type": "stream",
     "text": [
      "  1%|          | 5/800 [00:01<04:43,  2.81it/s]"
     ]
    },
    {
     "name": "stdout",
     "output_type": "stream",
     "text": [
      "5\n",
      "\"Unable to open object (object 'simulation' doesn't exist)\"\n"
     ]
    },
    {
     "name": "stderr",
     "output_type": "stream",
     "text": [
      " 16%|█▋        | 132/800 [01:20<07:29,  1.49it/s]"
     ]
    },
    {
     "name": "stdout",
     "output_type": "stream",
     "text": [
      "131\n",
      "\"Unable to open object (object 'simulation' doesn't exist)\"\n"
     ]
    },
    {
     "name": "stderr",
     "output_type": "stream",
     "text": [
      " 21%|██        | 166/800 [01:41<05:34,  1.89it/s]"
     ]
    },
    {
     "name": "stdout",
     "output_type": "stream",
     "text": [
      "166\n",
      "'Unable to open object (component not found)'\n"
     ]
    },
    {
     "name": "stderr",
     "output_type": "stream",
     "text": [
      " 22%|██▏       | 173/800 [01:44<03:42,  2.82it/s]"
     ]
    },
    {
     "name": "stdout",
     "output_type": "stream",
     "text": [
      "171\n",
      "\"Unable to open object (object 'simulation' doesn't exist)\"\n"
     ]
    },
    {
     "name": "stderr",
     "output_type": "stream",
     "text": [
      " 43%|████▎     | 342/800 [03:31<05:15,  1.45it/s]"
     ]
    },
    {
     "name": "stdout",
     "output_type": "stream",
     "text": [
      "342\n",
      "'Unable to open object (component not found)'\n",
      "343\n",
      "'Unable to open object (component not found)'\n",
      "344\n",
      "\"Unable to open object (object 'simulation' doesn't exist)\"\n"
     ]
    },
    {
     "name": "stderr",
     "output_type": "stream",
     "text": [
      " 43%|████▎     | 347/800 [03:32<02:58,  2.54it/s]"
     ]
    },
    {
     "name": "stdout",
     "output_type": "stream",
     "text": [
      "347\n",
      "\"Unable to open object (object 'simulation' doesn't exist)\"\n",
      "348\n",
      "'Unable to open object (component not found)'\n",
      "349\n",
      "'Unable to open object (component not found)'\n",
      "350\n",
      "\"Unable to open object (object 'simulation' doesn't exist)\"\n"
     ]
    },
    {
     "name": "stderr",
     "output_type": "stream",
     "text": [
      " 44%|████▍     | 355/800 [03:33<02:11,  3.38it/s]"
     ]
    },
    {
     "name": "stdout",
     "output_type": "stream",
     "text": [
      "355\n",
      "'Unable to open object (component not found)'\n"
     ]
    },
    {
     "name": "stderr",
     "output_type": "stream",
     "text": [
      " 45%|████▌     | 363/800 [03:39<04:47,  1.52it/s]"
     ]
    },
    {
     "name": "stdout",
     "output_type": "stream",
     "text": [
      "363\n",
      "'Unable to open object (component not found)'\n",
      "364\n",
      "'Unable to open object (component not found)'\n"
     ]
    },
    {
     "name": "stderr",
     "output_type": "stream",
     "text": [
      " 46%|████▋     | 371/800 [03:42<04:11,  1.71it/s]"
     ]
    },
    {
     "name": "stdout",
     "output_type": "stream",
     "text": [
      "371\n",
      "\"Unable to open object (object 'simulation' doesn't exist)\"\n"
     ]
    },
    {
     "name": "stderr",
     "output_type": "stream",
     "text": [
      " 49%|████▉     | 391/800 [03:55<03:27,  1.97it/s]"
     ]
    },
    {
     "name": "stdout",
     "output_type": "stream",
     "text": [
      "391\n",
      "\"Unable to open object (object 'simulation' doesn't exist)\"\n"
     ]
    },
    {
     "name": "stderr",
     "output_type": "stream",
     "text": [
      " 49%|████▉     | 394/800 [03:56<03:08,  2.15it/s]"
     ]
    },
    {
     "name": "stdout",
     "output_type": "stream",
     "text": [
      "394\n",
      "\"Unable to open object (object 'simulation' doesn't exist)\"\n"
     ]
    },
    {
     "name": "stderr",
     "output_type": "stream",
     "text": [
      " 50%|████▉     | 398/800 [03:58<03:11,  2.10it/s]"
     ]
    },
    {
     "name": "stdout",
     "output_type": "stream",
     "text": [
      "398\n",
      "'Unable to open object (component not found)'\n",
      "399\n",
      "'Unable to open object (component not found)'\n"
     ]
    },
    {
     "name": "stderr",
     "output_type": "stream",
     "text": [
      " 50%|█████     | 404/800 [04:01<03:39,  1.80it/s]"
     ]
    },
    {
     "name": "stdout",
     "output_type": "stream",
     "text": [
      "404\n",
      "'Unable to open object (component not found)'\n"
     ]
    },
    {
     "name": "stderr",
     "output_type": "stream",
     "text": [
      " 74%|███████▍  | 593/800 [06:25<01:59,  1.73it/s]"
     ]
    },
    {
     "name": "stdout",
     "output_type": "stream",
     "text": [
      "593\n",
      "\"Unable to open object (object 'simulation' doesn't exist)\"\n"
     ]
    },
    {
     "name": "stderr",
     "output_type": "stream",
     "text": [
      " 81%|████████  | 648/800 [07:02<01:46,  1.42it/s]"
     ]
    },
    {
     "name": "stdout",
     "output_type": "stream",
     "text": [
      "648\n",
      "'Unable to open object (component not found)'\n"
     ]
    },
    {
     "name": "stderr",
     "output_type": "stream",
     "text": [
      " 88%|████████▊ | 700/800 [07:35<01:09,  1.43it/s]"
     ]
    },
    {
     "name": "stdout",
     "output_type": "stream",
     "text": [
      "700\n",
      "\"Unable to open object (object 'simulation' doesn't exist)\"\n"
     ]
    },
    {
     "name": "stderr",
     "output_type": "stream",
     "text": [
      " 88%|████████▊ | 702/800 [07:35<00:42,  2.32it/s]"
     ]
    },
    {
     "name": "stdout",
     "output_type": "stream",
     "text": [
      "702\n",
      "'Unable to open object (component not found)'\n"
     ]
    },
    {
     "name": "stderr",
     "output_type": "stream",
     "text": [
      "100%|██████████| 800/800 [08:02<00:00,  1.66it/s]"
     ]
    },
    {
     "name": "stdout",
     "output_type": "stream",
     "text": [
      "741\n",
      "'Unable to open object (component not found)'\n",
      "file does not exist 742\n",
      "file does not exist 743\n",
      "file does not exist 744\n",
      "file does not exist 745\n",
      "file does not exist 746\n",
      "file does not exist 747\n",
      "file does not exist 748\n",
      "file does not exist 749\n",
      "file does not exist 750\n",
      "file does not exist 751\n",
      "file does not exist 752\n",
      "file does not exist 753\n",
      "file does not exist 754\n",
      "file does not exist 755\n",
      "file does not exist 756\n",
      "file does not exist 757\n",
      "file does not exist 758\n",
      "file does not exist 759\n",
      "file does not exist 760\n",
      "file does not exist 761\n",
      "file does not exist 762\n",
      "file does not exist 763\n",
      "file does not exist 764\n",
      "file does not exist 765\n",
      "file does not exist 766\n",
      "file does not exist 767\n",
      "file does not exist 768\n",
      "file does not exist 769\n",
      "file does not exist 770\n",
      "file does not exist 771\n",
      "file does not exist 772\n",
      "file does not exist 773\n",
      "file does not exist 774\n",
      "file does not exist 775\n",
      "file does not exist 776\n",
      "file does not exist 777\n",
      "file does not exist 778\n",
      "file does not exist 779\n",
      "file does not exist 780\n",
      "file does not exist 781\n",
      "file does not exist 782\n",
      "file does not exist 783\n",
      "file does not exist 784\n",
      "file does not exist 785\n",
      "file does not exist 786\n",
      "file does not exist 787\n",
      "file does not exist 788\n",
      "file does not exist 789\n",
      "file does not exist 790\n",
      "file does not exist 791\n",
      "file does not exist 792\n",
      "file does not exist 793\n",
      "file does not exist 794\n",
      "file does not exist 795\n",
      "file does not exist 796\n",
      "file does not exist 797\n",
      "file does not exist 798\n",
      "file does not exist 799\n"
     ]
    },
    {
     "name": "stderr",
     "output_type": "stream",
     "text": [
      "\n"
     ]
    }
   ],
   "source": [
    "training_set_size = []\n",
    "traj_length = []\n",
    "for i in tqdm.tqdm(range(800)):\n",
    "    if os.path.isfile(\"/home/glandrum/for_Paul/Calculated_data/DME/COCCOC_small_molecules_n_50_id_%i_seed_16131141.hdf5\" %(i*10)):\n",
    "        pass\n",
    "    else:\n",
    "        print(\"file does not exist\",i)\n",
    "        continue\n",
    "    teststorage = hdf5_storage(\"/home/glandrum/for_Paul/Calculated_data/DME/COCCOC_small_molecules_n_50_id_%i_seed_16131141.hdf5\" %(i*10))\n",
    "    training_set_size.append(len(teststorage.get_entire_training_set()[0]))\n",
    "    try:\n",
    "        traj_length.append(teststorage.get_trajectory('16','0').n_frames)\n",
    "    except Exception as e:\n",
    "        print(i)\n",
    "        print(e)"
   ]
  },
  {
   "cell_type": "code",
   "execution_count": 57,
   "metadata": {},
   "outputs": [],
   "source": [
    "import matplotlib.pyplot as plt"
   ]
  },
  {
   "cell_type": "code",
   "execution_count": 43,
   "metadata": {},
   "outputs": [
    {
     "data": {
      "text/plain": [
       "50"
      ]
     },
     "execution_count": 43,
     "metadata": {},
     "output_type": "execute_result"
    }
   ],
   "source": [
    "len(teststorage.get_entire_training_set()[0])"
   ]
  },
  {
   "cell_type": "code",
   "execution_count": 48,
   "metadata": {},
   "outputs": [
    {
     "data": {
      "text/plain": [
       "1"
      ]
     },
     "execution_count": 48,
     "metadata": {},
     "output_type": "execute_result"
    }
   ],
   "source": [
    "teststorage.get_trajectory('16','0').n_frames"
   ]
  },
  {
   "cell_type": "code",
   "execution_count": 45,
   "metadata": {},
   "outputs": [
    {
     "data": {
      "application/vnd.jupyter.widget-view+json": {
       "model_id": "82212e8e8ced4cd28446315e69c441e7",
       "version_major": 2,
       "version_minor": 0
      },
      "text/plain": [
       "NGLWidget()"
      ]
     },
     "metadata": {},
     "output_type": "display_data"
    }
   ],
   "source": [
    "teststorage.show_forces_of_traj('46','0',0)"
   ]
  },
  {
   "cell_type": "code",
   "execution_count": null,
   "metadata": {},
   "outputs": [],
   "source": []
  }
 ],
 "metadata": {
  "kernelspec": {
   "display_name": "newest_pyg_ot14",
   "language": "python",
   "name": "python3"
  },
  "language_info": {
   "codemirror_mode": {
    "name": "ipython",
    "version": 3
   },
   "file_extension": ".py",
   "mimetype": "text/x-python",
   "name": "python",
   "nbconvert_exporter": "python",
   "pygments_lexer": "ipython3",
   "version": "3.10.9"
  }
 },
 "nbformat": 4,
 "nbformat_minor": 2
}
