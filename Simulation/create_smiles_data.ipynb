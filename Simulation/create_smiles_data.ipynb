{
 "cells": [
  {
   "cell_type": "code",
   "execution_count": 1,
   "metadata": {},
   "outputs": [],
   "source": [
    "import lwreg\n",
    "import numpy as np"
   ]
  },
  {
   "cell_type": "code",
   "execution_count": 2,
   "metadata": {},
   "outputs": [],
   "source": [
    "with open(\"/home/kpaul/.lwreg_key\",\"r\") as f:\n",
    "    key = f.read().strip()"
   ]
  },
  {
   "cell_type": "code",
   "execution_count": 3,
   "metadata": {},
   "outputs": [],
   "source": [
    "config = lwreg.utils.defaultConfig()\n",
    "config[\"standardization\"] = \"none\"\n",
    "config[\"dbname\"] = \"solvent_forces\"\n",
    "config[\"dbtype\"] = \"postgresql\"\n",
    "config[\"removeHs\"] = 0\n",
    "config[\"registerConformers\"] = 1\n",
    "config[\"hashConformer\"] = 1\n",
    "config[\"numConformerDigits\"] = 3\n",
    "config[\"host\"] = \"scotland\"\n",
    "config[\"user\"] = \"kpaul_lwreg\"\n",
    "config[\"password\"] = key"
   ]
  },
  {
   "cell_type": "code",
   "execution_count": 4,
   "metadata": {},
   "outputs": [],
   "source": [
    "psql_connection_string = f\"postgresql://{config['user']}:{config['password']}@{config['host']}/{config['dbname']}\""
   ]
  },
  {
   "cell_type": "code",
   "execution_count": 6,
   "metadata": {},
   "outputs": [],
   "source": [
    "%load_ext sql"
   ]
  },
  {
   "cell_type": "code",
   "execution_count": 13,
   "metadata": {},
   "outputs": [
    {
     "name": "stdout",
     "output_type": "stream",
     "text": [
      "370508 rows affected.\n"
     ]
    }
   ],
   "source": [
    "d = %sql $psql_connection_string \\\n",
    "    select hashes.molregno, hashes.canonical_smiles, hashes.no_stereo_smiles from public.hashes;"
   ]
  },
  {
   "cell_type": "code",
   "execution_count": 14,
   "metadata": {},
   "outputs": [],
   "source": [
    "df = d.DataFrame()"
   ]
  },
  {
   "cell_type": "code",
   "execution_count": 18,
   "metadata": {},
   "outputs": [],
   "source": [
    "np.save(\"generation_smiles/canonical_smiles.npy\",df['canonical_smiles'].values)"
   ]
  },
  {
   "cell_type": "code",
   "execution_count": 3,
   "metadata": {},
   "outputs": [
    {
     "data": {
      "text/plain": [
       "7410.16"
      ]
     },
     "execution_count": 3,
     "metadata": {},
     "output_type": "execute_result"
    }
   ],
   "source": [
    "370508/50"
   ]
  }
 ],
 "metadata": {
  "kernelspec": {
   "display_name": "newest_pyg",
   "language": "python",
   "name": "python3"
  },
  "language_info": {
   "codemirror_mode": {
    "name": "ipython",
    "version": 3
   },
   "file_extension": ".py",
   "mimetype": "text/x-python",
   "name": "python",
   "nbconvert_exporter": "python",
   "pygments_lexer": "ipython3",
   "version": "3.10.9"
  }
 },
 "nbformat": 4,
 "nbformat_minor": 2
}
