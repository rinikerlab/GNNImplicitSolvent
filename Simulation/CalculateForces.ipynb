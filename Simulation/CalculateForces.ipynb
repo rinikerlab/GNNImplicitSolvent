{
 "cells": [
  {
   "cell_type": "markdown",
   "id": "5b8662aa-9ce9-49bb-b96a-e0c5b6becc71",
   "metadata": {},
   "source": [
    "### Make imports"
   ]
  },
  {
   "cell_type": "code",
   "execution_count": 1,
   "id": "a3ad12c6-ed71-4cd9-9420-13efac074ce8",
   "metadata": {
    "tags": []
   },
   "outputs": [],
   "source": [
    "from Simulator import Simulator, Explicit_water_simulator\n",
    "import time"
   ]
  },
  {
   "cell_type": "markdown",
   "id": "5bed0761-464b-4cdc-b4aa-76d60734e27a",
   "metadata": {
    "tags": []
   },
   "source": [
    "### Setup filelocations"
   ]
  },
  {
   "attachments": {},
   "cell_type": "markdown",
   "id": "6be3ccbb",
   "metadata": {},
   "source": [
    "COPY all files in topologies_and_starting_coordinates from doi: [10.3929/ethz-b-000599309](https://doi.org/10.3929/ethz-b-000599309) to [Data/data](../Data/data/) <br>\n",
    "COPY all files in training_data from from doi: [10.3929/ethz-b-000599309](https://doi.org/10.3929/ethz-b-000599309) to [Simulation/simulation](../Simulation/simulation/)"
   ]
  },
  {
   "cell_type": "code",
   "execution_count": 5,
   "id": "55d129b5-3426-4033-869b-6fded29bbe7b",
   "metadata": {
    "tags": []
   },
   "outputs": [],
   "source": [
    "work_dir = \"../\"\n",
    "pdb_id = 'kasae' # Amino acid sequence\n",
    "hdf5_file = 'simulation/'+pdb_id+'/'+pdb_id+'_TIP5P_0_output.h5' # trajectory to extract force for\n",
    "savedir = 'simulation/'+pdb_id+'/' # location where to save forces to\n",
    "frames = [i for i in range(10)] # frames for which forces should be calculated\n",
    "n_steps = 100 # Steps between frames\n",
    "n_frames = 10 # Frames to collect"
   ]
  },
  {
   "cell_type": "code",
   "execution_count": 6,
   "id": "d7d2f106-fc98-4c4e-8379-abc04dbe8d71",
   "metadata": {
    "tags": []
   },
   "outputs": [],
   "source": [
    "### Extract forces"
   ]
  },
  {
   "cell_type": "code",
   "execution_count": 7,
   "id": "5a8c7d36-3b37-40bb-b992-6e72cb3c6df8",
   "metadata": {
    "tags": []
   },
   "outputs": [
    {
     "name": "stdout",
     "output_type": "stream",
     "text": [
      "From Amber\n",
      "built explicit System PME 1 nm\n",
      "From Amber\n",
      "Platform:  GPU  ready\n",
      "Platform:  GPU  ready\n"
     ]
    },
    {
     "name": "stderr",
     "output_type": "stream",
     "text": [
      "100%|██████████| 10/10 [00:13<00:00,  1.33s/it]\n"
     ]
    }
   ],
   "source": [
    "explicit_sim = Explicit_water_simulator(work_dir=work_dir,pdb_id=pdb_id,run_name=\"Explicit_Force_calc\",hdf5_file=hdf5_file,platform='CPU')\n",
    "explicit_sim.read_in_frame_and_set_positions(0)\n",
    "explicit_sim.constrain_solute()\n",
    "explicit_sim.platform = 'GPU'\n",
    "explicit_sim.calculate_mean_force_for_pre_calc_pos(\n",
    "        save_location=savedir,save_add='it_0', n_steps=n_steps, n_frames=n_frames,frames = frames)"
   ]
  },
  {
   "cell_type": "code",
   "execution_count": null,
   "id": "a3723923",
   "metadata": {},
   "outputs": [],
   "source": []
  }
 ],
 "metadata": {
  "kernelspec": {
   "display_name": "Python 3.9.16 ('implicitml_publication1')",
   "language": "python",
   "name": "python3"
  },
  "language_info": {
   "codemirror_mode": {
    "name": "ipython",
    "version": 3
   },
   "file_extension": ".py",
   "mimetype": "text/x-python",
   "name": "python",
   "nbconvert_exporter": "python",
   "pygments_lexer": "ipython3",
   "version": "3.9.16"
  },
  "vscode": {
   "interpreter": {
    "hash": "46e87b747cff41404eb43e2046185264745cc6e609e89010b1df7b0286c5cd1e"
   }
  }
 },
 "nbformat": 4,
 "nbformat_minor": 5
}
