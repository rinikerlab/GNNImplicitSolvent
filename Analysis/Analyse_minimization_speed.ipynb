{
 "cells": [
  {
   "cell_type": "code",
   "execution_count": 1,
   "metadata": {},
   "outputs": [],
   "source": [
    "import numpy as np"
   ]
  },
  {
   "cell_type": "code",
   "execution_count": 15,
   "metadata": {},
   "outputs": [],
   "source": [
    "def convert_to_int(x):\n",
    "    if x[0] == '0':\n",
    "        return int(x[1])\n",
    "    else:\n",
    "        return int(x)"
   ]
  },
  {
   "cell_type": "code",
   "execution_count": 34,
   "metadata": {},
   "outputs": [],
   "source": [
    "folder = \"/fileserver/pine/pine8/kpaul/multi_solvent_pub/data/Minimizations/Conformational_analysis_log/\"\n",
    "in_file = folder + \"speed_analysis.txt\"\n",
    "\n",
    "with open(in_file, 'r') as f:\n",
    "    lines = f.readlines()\n",
    "\n",
    "lines = [convert_to_int(line.strip()[1:3])*60 + convert_to_int(line.strip()[4:6]) for line in lines]\n",
    "vac_speeds = lines[4::5]\n",
    "gnn_speeds = lines\n",
    "for vs in vac_speeds: gnn_speeds.remove(vs) "
   ]
  },
  {
   "cell_type": "code",
   "execution_count": 38,
   "metadata": {},
   "outputs": [
    {
     "data": {
      "text/plain": [
       "(0.010312499999999999, 0.054931640625)"
      ]
     },
     "execution_count": 38,
     "metadata": {},
     "output_type": "execute_result"
    }
   ],
   "source": [
    "np.mean(vac_speeds) / 5120, np.mean(gnn_speeds) / 5120"
   ]
  },
  {
   "cell_type": "code",
   "execution_count": null,
   "metadata": {},
   "outputs": [],
   "source": []
  },
  {
   "cell_type": "code",
   "execution_count": 74,
   "metadata": {},
   "outputs": [],
   "source": [
    "def convert_to_int(x):\n",
    "    if len(x) == 8:\n",
    "        return int(x[1])*3600 + int(x[3:5])*60 + int(x[6])\n",
    "    elif len(x) == 6:\n",
    "        return int(x[1:3])*60 + int(x[4:6])\n",
    "    if x[0] == '0':\n",
    "        return int(x[1])\n",
    "    else:\n",
    "        return int(x)"
   ]
  },
  {
   "cell_type": "code",
   "execution_count": 75,
   "metadata": {},
   "outputs": [],
   "source": [
    "folder = \"/fileserver/pine/pine8/kpaul/multi_solvent_pub/data/Minimizations/Platinum_analysis_log/\"\n",
    "in_file = folder + \"speed_analysis.txt\"\n",
    "\n",
    "with open(in_file, 'r') as f:\n",
    "    lines = f.readlines()\n",
    "\n",
    "lines = [convert_to_int(line.strip().split(\"<\")[0]) for line in lines[:-1]]\n",
    "\n",
    "vac_speeds = lines[4::5]\n",
    "gnn_speeds = lines\n",
    "for vs in vac_speeds: gnn_speeds.remove(vs)"
   ]
  },
  {
   "cell_type": "code",
   "execution_count": 79,
   "metadata": {},
   "outputs": [
    {
     "data": {
      "text/plain": [
       "(0.0323515625, 0.11079785156250001)"
      ]
     },
     "execution_count": 79,
     "metadata": {},
     "output_type": "execute_result"
    }
   ],
   "source": [
    "np.mean(vac_speeds) / 51200, np.mean(gnn_speeds) / 51200"
   ]
  }
 ],
 "metadata": {
  "kernelspec": {
   "display_name": "GNNImplicitSolvent",
   "language": "python",
   "name": "python3"
  },
  "language_info": {
   "codemirror_mode": {
    "name": "ipython",
    "version": 3
   },
   "file_extension": ".py",
   "mimetype": "text/x-python",
   "name": "python",
   "nbconvert_exporter": "python",
   "pygments_lexer": "ipython3",
   "version": "3.10.9"
  }
 },
 "nbformat": 4,
 "nbformat_minor": 2
}
