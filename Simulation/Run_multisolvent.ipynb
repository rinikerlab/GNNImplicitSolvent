{
 "cells": [
  {
   "cell_type": "code",
   "execution_count": 1,
   "metadata": {},
   "outputs": [
    {
     "name": "stderr",
     "output_type": "stream",
     "text": [
      "Warning: importing 'simtk.openmm' is deprecated.  Import 'openmm' instead.\n",
      "Warning: Unable to load toolkit 'OpenEye Toolkit'. The Open Force Field Toolkit does not require the OpenEye Toolkits, and can use RDKit/AmberTools instead. However, if you have a valid license for the OpenEye Toolkits, consider installing them for faster performance and additional file format support: https://docs.eyesopen.com/toolkits/python/quickstart-python/linuxosx.html OpenEye offers free Toolkit licenses for academics: https://www.eyesopen.com/academic-licensing\n"
     ]
    },
    {
     "data": {
      "application/vnd.jupyter.widget-view+json": {
       "model_id": "289e380562b2403391590bb73a3c32c4",
       "version_major": 2,
       "version_minor": 0
      },
      "text/plain": []
     },
     "metadata": {},
     "output_type": "display_data"
    }
   ],
   "source": [
    "import sys\n",
    "\n",
    "sys.path.append(\"../\")\n",
    "sys.path.append(\"../MachineLearning/\")\n",
    "\n",
    "import os\n",
    "from Simulator import Simulator, Multi_simulator\n",
    "from ForceField.Forcefield import (\n",
    "    TIP5P_force_field,\n",
    "    TIP3P_force_field,\n",
    "    GB_Neck2_force_field,\n",
    "    Vacuum_force_field,\n",
    "    Vacuum_force_field_plus_custom,\n",
    "    Vacuum_force_field,\n",
    "    OpenFF_forcefield_vacuum_plus_custom,\n",
    "    OpenFF_forcefield_vacuum,\n",
    ")\n",
    "from openmmtorch import TorchForce\n",
    "from openmm import LangevinMiddleIntegrator\n",
    "from MachineLearning.GNN_Models import *\n",
    "from MachineLearning.GNN_Trainer import Trainer\n",
    "from openmmtorch import TorchForce\n",
    "from openmm.unit import kelvin, picosecond, picoseconds, bar\n",
    "import pandas as pd\n",
    "from helper_functions import (\n",
    "    create_gnn_sim,\n",
    "    smiles_to_mol,\n",
    "    calculate_DGv3,\n",
    "    set_positions_for_simulation,\n",
    "    run_minimisation,\n",
    ")\n"
   ]
  },
  {
   "cell_type": "code",
   "execution_count": 2,
   "metadata": {},
   "outputs": [],
   "source": [
    "num_rep = 2\n",
    "solvent_model_provided = [0,1,]\n",
    "solvent_dielc_provided = [78.5,4.81]"
   ]
  },
  {
   "cell_type": "code",
   "execution_count": 3,
   "metadata": {},
   "outputs": [],
   "source": [
    "solvent_model = []\n",
    "solvent_dielectric = []\n",
    "for repetition in range(num_rep):\n",
    "    solvent_model += solvent_model_provided\n",
    "    solvent_dielectric += solvent_dielc_provided"
   ]
  },
  {
   "cell_type": "code",
   "execution_count": 4,
   "metadata": {},
   "outputs": [],
   "source": [
    "class GNN3_multisolvent_run_multiple_e(GNN3_Multisolvent_embedding_run_multiple):\n",
    "\n",
    "    def __init__(\n",
    "        self,\n",
    "        fraction=0.5,\n",
    "        radius=0.4,\n",
    "        max_num_neighbors=32,\n",
    "        parameters=None,\n",
    "        device=None,\n",
    "        jittable=False,\n",
    "        num_reps=1,\n",
    "        gbneck_radius=10.0,\n",
    "        unique_radii=None,\n",
    "        hidden=64,\n",
    "        num_solvents=42,\n",
    "        hidden_token=128\n",
    "    ):\n",
    "        super().__init__(\n",
    "            fraction,\n",
    "            radius,\n",
    "            max_num_neighbors,\n",
    "            parameters,\n",
    "            device,\n",
    "            jittable,\n",
    "            num_reps,\n",
    "            gbneck_radius,\n",
    "            unique_radii,\n",
    "            hidden,\n",
    "            78.5,\n",
    "            num_solvents=num_solvents,\n",
    "            hidden_token=hidden_token,\n",
    "        )\n",
    "\n",
    "    def set_num_reps(\n",
    "        self,\n",
    "        num_reps=len(solvent_model),\n",
    "        solvent_models=solvent_model,\n",
    "        solvent_dielectric=solvent_dielectric,\n",
    "    ):\n",
    "        return super().set_num_reps(num_reps, solvent_models, solvent_dielectric)\n",
    "\n",
    "\n",
    "class GNN3_multisolvent_e(GNN3_Multisolvent_embedding):\n",
    "\n",
    "    def __init__(\n",
    "        self,\n",
    "        fraction=0.5,\n",
    "        radius=0.4,\n",
    "        max_num_neighbors=32,\n",
    "        parameters=None,\n",
    "        device=None,\n",
    "        jittable=False,\n",
    "        gbneck_radius=10.0,\n",
    "        unique_radii=None,\n",
    "        hidden=64,\n",
    "        num_solvents=42,\n",
    "        hidden_token=128,\n",
    "    ):\n",
    "        super().__init__(\n",
    "            fraction=fraction,\n",
    "            radius=radius,\n",
    "            max_num_neighbors=max_num_neighbors,\n",
    "            parameters=parameters,\n",
    "            device=device,\n",
    "            jittable=jittable,\n",
    "            unique_radii=unique_radii,\n",
    "            hidden=hidden,\n",
    "            num_solvents=num_solvents,\n",
    "            hidden_token=hidden_token,\n",
    "        )\n",
    "\n",
    "\n",
    "setup_dict_multisolv = {\n",
    "    \"trained_model\": '../MachineLearning/trained_models/AdamWmodel.model',\n",
    "    \"model\": GNN3_multisolvent_e,\n",
    "    \"run_model\": GNN3_multisolvent_run_multiple_e,\n",
    "}"
   ]
  },
  {
   "cell_type": "code",
   "execution_count": 5,
   "metadata": {},
   "outputs": [],
   "source": [
    "run_name = \"_multi_\"\n",
    "run_name += \"test\"\n",
    "work_dir = \"../\"  # directory of the repository\n",
    "n_interval = 100  # Interval for saving frames in steps\n",
    "ns = 0.01  # Nanoseconds to run the simulation for\n",
    "\n",
    "smiles = \"CCCOCCO\"\n",
    "mol = smiles_to_mol(smiles)\n",
    "dg_traj, dgmol = calculate_DGv3(\n",
    "    mol, len(solvent_model), return_mol=True, pruneRmsThresh=0\n",
    ")\n",
    "num_confs = dg_traj.n_frames"
   ]
  },
  {
   "cell_type": "code",
   "execution_count": 6,
   "metadata": {},
   "outputs": [
    {
     "name": "stderr",
     "output_type": "stream",
     "text": [
      "/localhome/kpaul/.conda/envs/newest_pyg_ot14/lib/python3.10/site-packages/torch_geometric/nn/conv/message_passing.py:972: UserWarning: 'GBNeck_interaction.jittable' is deprecated and a no-op. Please remove its usage.\n",
      "  warnings.warn(f\"'{self.__class__.__name__}.jittable' is deprecated \"\n",
      "/localhome/kpaul/.conda/envs/newest_pyg_ot14/lib/python3.10/site-packages/torch_geometric/nn/conv/message_passing.py:972: UserWarning: 'GBNeck_energies.jittable' is deprecated and a no-op. Please remove its usage.\n",
      "  warnings.warn(f\"'{self.__class__.__name__}.jittable' is deprecated \"\n",
      "/localhome/kpaul/.conda/envs/newest_pyg_ot14/lib/python3.10/site-packages/torch_geometric/nn/conv/message_passing.py:972: UserWarning: 'GBNeck_energies_no_dielectric.jittable' is deprecated and a no-op. Please remove its usage.\n",
      "  warnings.warn(f\"'{self.__class__.__name__}.jittable' is deprecated \"\n",
      "/localhome/kpaul/.conda/envs/newest_pyg_ot14/lib/python3.10/site-packages/torch_geometric/nn/conv/message_passing.py:972: UserWarning: 'IN_layer_all_swish_2pass_tokens.jittable' is deprecated and a no-op. Please remove its usage.\n",
      "  warnings.warn(f\"'{self.__class__.__name__}.jittable' is deprecated \"\n"
     ]
    },
    {
     "name": "stdout",
     "output_type": "stream",
     "text": [
      "run_models/CCCOCCO_in_v_r_10_multi_1_gr_10.0_run.pt\n",
      "Platform:  GPU  ready\n",
      "Platform:  GPU  ready\n",
      "Platform:  GPU  ready\n",
      "Platform:  GPU  ready\n",
      "All parallel systems have the same forces as the reference System\n"
     ]
    }
   ],
   "source": [
    "gnn_sim = create_gnn_sim(\n",
    "    smiles,\n",
    "    cache=\"/tmp/tmp.cache\",\n",
    "    num_confs=num_confs,\n",
    "    setup_dict=setup_dict_multisolv,\n",
    "    additional_parameters={\"solvent_model\": -1, \"solvent_dielectric\": 78.5},\n",
    "    workdir=work_dir,\n",
    "    run_name=run_name,\n",
    ")"
   ]
  },
  {
   "cell_type": "code",
   "execution_count": 7,
   "metadata": {},
   "outputs": [
    {
     "name": "stderr",
     "output_type": "stream",
     "text": [
      "[W manager.cpp:335] Warning: FALLBACK path has been taken inside: runCudaFusionGroup. This is an indication that codegen Failed for some reason.\n",
      "To debug try disable codegen fallback path via setting the env variable `export PYTORCH_NVFUSER_DISABLE=fallback`\n",
      " (function runCudaFusionGroup)\n",
      "[W graph_fuser.cpp:104] Warning: operator() profile_node %551 : int[] = prim::profile_ivalue(%dims.24)\n",
      " does not have profile information (function operator())\n"
     ]
    }
   ],
   "source": [
    "gnn_sim = set_positions_for_simulation(gnn_sim, dgmol, num_confs=num_confs, iteration=0)\n",
    "gnn_sim = run_minimisation(gnn_sim)\n",
    "n_steps = ns / 0.002 * 1000\n",
    "gnn_sim.run_simulation(n_steps, n_interval, minimize=False)\n",
    "gnn_sim.save_states(0)"
   ]
  }
 ],
 "metadata": {
  "kernelspec": {
   "display_name": "newest_pyg_ot14",
   "language": "python",
   "name": "python3"
  },
  "language_info": {
   "codemirror_mode": {
    "name": "ipython",
    "version": 3
   },
   "file_extension": ".py",
   "mimetype": "text/x-python",
   "name": "python",
   "nbconvert_exporter": "python",
   "pygments_lexer": "ipython3",
   "version": "3.1.-1"
  }
 },
 "nbformat": 4,
 "nbformat_minor": 2
}
