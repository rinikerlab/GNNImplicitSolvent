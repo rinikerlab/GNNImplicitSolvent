{
 "cells": [
  {
   "cell_type": "code",
   "execution_count": null,
   "metadata": {},
   "outputs": [
    {
     "name": "stderr",
     "output_type": "stream",
     "text": [
      "Warning: importing 'simtk.openmm' is deprecated.  Import 'openmm' instead.\n",
      "Warning: Unable to load toolkit 'OpenEye Toolkit'. The Open Force Field Toolkit does not require the OpenEye Toolkits, and can use RDKit/AmberTools instead. However, if you have a valid license for the OpenEye Toolkits, consider installing them for faster performance and additional file format support: https://docs.eyesopen.com/toolkits/python/quickstart-python/linuxosx.html OpenEye offers free Toolkit licenses for academics: https://www.eyesopen.com/academic-licensing\n"
     ]
    },
    {
     "data": {
      "application/vnd.jupyter.widget-view+json": {
       "model_id": "2f5819333514413ba4932dc3aa68234d",
       "version_major": 2,
       "version_minor": 0
      },
      "text/plain": []
     },
     "metadata": {},
     "output_type": "display_data"
    }
   ],
   "source": [
    "import sys\n",
    "sys.path.append('..')\n",
    "from Simulation.helper_functions import calculate_DGv3, minimize_mol, calculate_entropy, get_dihedrals_by_name, kjmol_to_prop, get_cluster_asignments_ordered, mol_to_traj\n",
    "from Simulation.helper_functions import SOLVENT_DICT as solvent_dict\n",
    "from Simulation.helper_functions import MODEL_PATH\n",
    "import matplotlib.pyplot as plt\n",
    "from matplotlib import cm\n",
    "from rdkit import Chem\n",
    "from rdkit.Chem import AllChem\n",
    "import numpy as np"
   ]
  },
  {
   "cell_type": "markdown",
   "metadata": {},
   "source": [
    "### Function Definitions"
   ]
  },
  {
   "cell_type": "code",
   "execution_count": 3,
   "metadata": {},
   "outputs": [],
   "source": [
    "kbt = 2.479"
   ]
  },
  {
   "cell_type": "code",
   "execution_count": 4,
   "metadata": {},
   "outputs": [],
   "source": [
    "def get_mol(smiles, num_confs=1024):\n",
    "    mol = Chem.MolFromSmiles(smiles)\n",
    "    mol = Chem.AddHs(mol)\n",
    "    if num_confs > 0:\n",
    "        AllChem.EmbedMultipleConfs(\n",
    "            mol,\n",
    "            numConfs=num_confs,\n",
    "            randomSeed=42,\n",
    "            useExpTorsionAnglePrefs=False,\n",
    "            numThreads=int(8),\n",
    "        )\n",
    "    return mol\n",
    "\n",
    "import mdtraj\n",
    "from typing import DefaultDict\n",
    "import sys\n",
    "sys.path.append(\"../\")\n",
    "from Simulation.helper_functions import get_cluster_asignments_ordered, get_dihedrals_by_name, in_kjmol, calculate_entropy\n",
    "from analysis import get_xyz\n",
    "import tqdm\n",
    "torsion_dict ={0:[('C7','C6','C5','N1'),('C5','N1','C4','C3')],\n",
    "               1:[('C7','C6','C5','N1'),('C5','N1','C4','C3')],\n",
    "               2:[('C1','C10','N1','H8'),('C13','C12','C11','O2')],\n",
    "               3:[('C5','C6','N1','C7'),('C9','C8','C7','O2')],\n",
    "               4:[('C5','C6','N1','C7'),('C9','C8','C7','O2')],}\n",
    "\n",
    "def get_xyz_and_plot(ax,traj,idx,lims=5,set_max=0,levels=10,legend=True,colors=\"Blues_r\"):\n",
    "\n",
    "    indices = torsion_dict[idx]\n",
    "    ref_dh1 = get_dihedrals_by_name(traj, *indices[0]).flatten() + np.pi\n",
    "    ref_dh2 = get_dihedrals_by_name(traj, *indices[1]).flatten() + np.pi\n",
    "    x,y,kjz = get_xyz(ref_dh1,ref_dh2,50,bins=np.linspace(0,2*np.pi,50))\n",
    "\n",
    "    if set_max:\n",
    "        kjz[kjz>=set_max] = set_max\n",
    "\n",
    "    if idx in [3,4]:\n",
    "        selection = (x<5) & (x>1)\n",
    "    else:\n",
    "        selection = (x<3) & (x>1)\n",
    "\n",
    "    min_1 = np.min(kjz.T[selection,:])\n",
    "    min_2 = np.min(kjz.T[~selection,:])\n",
    "\n",
    "    ret = ax.contourf(x,y,kjz,levels=levels,cmap=colors,vmax=lims)\n",
    "    if legend:\n",
    "        plt.colorbar(ret,ax=ax,orientation=\"horizontal\",label=\"Free Energy [kJ/mol]\")\n",
    "    \n",
    "    return min_1-min_2\n",
    "\n",
    "def plot_minimized_pos_and_energies(ax,traj,energies,idx,lims=5,zorder=0):\n",
    "    indices = torsion_dict[idx]\n",
    "    energies = energies - np.min(energies)\n",
    "    ref_dh1 = get_dihedrals_by_name(traj, *indices[0]).flatten() + np.pi\n",
    "    ref_dh2 = get_dihedrals_by_name(traj, *indices[1]).flatten() + np.pi\n",
    "\n",
    "    selection = (ref_dh1<5) & (ref_dh1>1)\n",
    "    min_1 = np.min(energies[selection])\n",
    "    min_2 = np.min(energies[~selection])\n",
    "\n",
    "    ref_dh1 = ref_dh1[energies<lims]\n",
    "    ref_dh2 = ref_dh2[energies<lims]\n",
    "    energies = energies[energies<lims]\n",
    "\n",
    "    sorted_energies = np.argsort(energies)[::-1]\n",
    "    ref_dh1 = ref_dh1[sorted_energies]\n",
    "    ref_dh2 = ref_dh2[sorted_energies]\n",
    "    energies = energies[sorted_energies]\n",
    "    if lims == np.inf:\n",
    "        colors = \"Greys_r\"\n",
    "    else:\n",
    "        colors = \"Greys_r\"\n",
    "    ax.scatter(ref_dh1,ref_dh2,c=energies,cmap=colors,vmax=lims,zorder=zorder,marker=\"o\",edgecolors=\"k\",linewidths=0.5)\n",
    "    return min_1-min_2"
   ]
  },
  {
   "cell_type": "code",
   "execution_count": null,
   "metadata": {},
   "outputs": [],
   "source": [
    "conformational_smiles = np.loadtxt(\"../Simulation/simulation_smiles/conformational_ensemble_smiles.txt\", dtype=str,comments=None)\n",
    "model_path=MODEL_PATH"
   ]
  },
  {
   "cell_type": "markdown",
   "metadata": {},
   "source": [
    "### Run minimisation"
   ]
  },
  {
   "cell_type": "code",
   "execution_count": 6,
   "metadata": {},
   "outputs": [
    {
     "name": "stdout",
     "output_type": "stream",
     "text": [
      "Using OpenFF forcefield: openff-2.0.0\n",
      "using rdkit molecule\n",
      "setting charges based on AM1BCC\n",
      "Using OpenFF forcefield: openff-2.0.0\n",
      "using rdkit molecule\n",
      "setting charges based on AM1BCC\n",
      "Using OpenFF forcefield: openff-2.0.0\n",
      "using rdkit molecule\n",
      "setting charges based on AM1BCC\n",
      "Using OpenFF forcefield: openff-2.0.0\n",
      "using rdkit molecule\n",
      "setting charges based on AM1BCC\n",
      "Platform:  GPU  ready\n",
      "Using OpenFF forcefield: openff-2.0.0\n",
      "using rdkit molecule\n",
      "setting charges based on AM1BCC\n",
      "Platform:  GPU  ready\n",
      "Platform:  GPU  ready\n",
      "Platform:  GPU  ready\n",
      "All parallel systems have the same forces as the reference System\n"
     ]
    },
    {
     "name": "stderr",
     "output_type": "stream",
     "text": [
      "  0%|          | 0/16 [00:00<?, ?it/s][W manager.cpp:335] Warning: FALLBACK path has been taken inside: runCudaFusionGroup. This is an indication that codegen Failed for some reason.\n",
      "To debug try disable codegen fallback path via setting the env variable `export PYTORCH_NVFUSER_DISABLE=fallback`\n",
      " (function runCudaFusionGroup)\n",
      "[W graph_fuser.cpp:104] Warning: operator() profile_node %551 : int[] = prim::profile_ivalue(%dims.24)\n",
      " does not have profile information (function operator())\n",
      "100%|██████████| 16/16 [01:53<00:00,  7.08s/it]\n"
     ]
    }
   ],
   "source": [
    "smiles = conformational_smiles[0]\n",
    "mol = get_mol(smiles, num_confs=512)\n",
    "out = minimize_mol(Chem.Mol(mol),\"tip3p\",model_path,solvent_dict,return_traj=True,return_gnn_sim=True,strides=16,cache=\"/tmp/example.cache\")"
   ]
  },
  {
   "cell_type": "code",
   "execution_count": 7,
   "metadata": {},
   "outputs": [],
   "source": [
    "minimized_traj = out[1]\n",
    "energies = out[2]\n",
    "energies = energies - np.min(energies)\n",
    "unoptimized_traj = mol_to_traj(mol)"
   ]
  },
  {
   "cell_type": "markdown",
   "metadata": {},
   "source": [
    "### Get clusters and calculate entropy"
   ]
  },
  {
   "cell_type": "code",
   "execution_count": 7,
   "metadata": {},
   "outputs": [
    {
     "name": "stdout",
     "output_type": "stream",
     "text": [
      "Using OpenFF forcefield: openff-2.0.0\n",
      "using rdkit molecule\n",
      "setting charges based on AM1BCC\n",
      "Using OpenFF forcefield: openff-2.0.0\n",
      "using rdkit molecule\n",
      "setting charges based on AM1BCC\n",
      "Using OpenFF forcefield: openff-2.0.0\n",
      "using rdkit molecule\n",
      "setting charges based on AM1BCC\n",
      "Using OpenFF forcefield: openff-2.0.0\n",
      "using rdkit molecule\n",
      "setting charges based on AM1BCC\n",
      "Platform:  GPU  ready\n",
      "Using OpenFF forcefield: openff-2.0.0\n",
      "using rdkit molecule\n",
      "setting charges based on AM1BCC\n",
      "Platform:  GPU  ready\n",
      "Platform:  GPU  ready\n",
      "Platform:  GPU  ready\n",
      "All parallel systems have the same forces as the reference System\n"
     ]
    },
    {
     "name": "stderr",
     "output_type": "stream",
     "text": [
      "  0%|          | 0/1 [00:00<?, ?it/s][W manager.cpp:335] Warning: FALLBACK path has been taken inside: runCudaFusionGroup. This is an indication that codegen Failed for some reason.\n",
      "To debug try disable codegen fallback path via setting the env variable `export PYTORCH_NVFUSER_DISABLE=fallback`\n",
      " (function runCudaFusionGroup)\n",
      "100%|██████████| 1/1 [00:09<00:00,  9.46s/it]\n",
      "[W manager.cpp:335] Warning: FALLBACK path has been taken inside: runCudaFusionGroup. This is an indication that codegen Failed for some reason.\n",
      "To debug try disable codegen fallback path via setting the env variable `export PYTORCH_NVFUSER_DISABLE=fallback`\n",
      " (function runCudaFusionGroup)\n",
      " 11%|█         | 11/100 [00:12<01:39,  1.11s/it]\n",
      " 44%|████▍     | 44/100 [00:20<00:26,  2.14it/s]\n"
     ]
    }
   ],
   "source": [
    "# Select the lowest energy conformations\n",
    "\n",
    "selected_traj = minimized_traj[energies < 5*kbt]\n",
    "selected_energy = energies[energies < 5*kbt]\n",
    "selected_mol = Chem.Mol(mol)\n",
    "selected_mol.RemoveAllConformers()\n",
    "for e,en in enumerate(energies):\n",
    "    if en < 5*kbt:\n",
    "        selected_mol.AddConformer(mol.GetConformer(e),assignId=True)\n",
    "\n",
    "selected_traj, selected_energy, selected_mol = get_cluster_asignments_ordered(selected_traj,selected_energy,0.075,100,mol=selected_mol)\n",
    "entropy_out = calculate_entropy(selected_mol,\"tip3p\",model_path,solvent_dict,strides=1,cache=\"/tmp/example.cache\")"
   ]
  },
  {
   "cell_type": "markdown",
   "metadata": {},
   "source": [
    "### Plot Results"
   ]
  },
  {
   "cell_type": "markdown",
   "metadata": {},
   "source": [
    "#### Plot setup"
   ]
  },
  {
   "cell_type": "code",
   "execution_count": 8,
   "metadata": {},
   "outputs": [],
   "source": [
    "plt.rcParams.update({'font.size': 8})"
   ]
  },
  {
   "cell_type": "code",
   "execution_count": null,
   "metadata": {},
   "outputs": [],
   "source": [
    "## Download example from ETH Research Collection\n",
    "## https://www.research-collection.ethz.ch/handle/20.500.11850/710355"
   ]
  },
  {
   "cell_type": "code",
   "execution_count": null,
   "metadata": {},
   "outputs": [
    {
     "data": {
      "image/png": "[encoded data removed]",
      "text/plain": [
       "<Figure size 700x300 with 6 Axes>"
      ]
     },
     "metadata": {},
     "output_type": "display_data"
    }
   ],
   "source": [
    "import mdtraj\n",
    "fig,axd = plt.subplot_mosaic([[\"DG\",\"Minimized\",\"Minimizeden\",\"Minimizedens\",\"Entropy\"]],figsize=(7,3),constrained_layout=True)\n",
    "\n",
    "ref_traj = mdtraj.load(\"example_xtc_C1_water.xtc\",top=minimized_traj.top)\n",
    "energies = out[2]\n",
    "energies = energies - np.min(energies)\n",
    "\n",
    "# get_xyz_and_plot(axd['DG'],ref_traj,0,15,0,10,legend=False)\n",
    "plot_minimized_pos_and_energies(axd['DG'],unoptimized_traj,energies,0,np.inf,zorder=10)\n",
    "plot_minimized_pos_and_energies(axd['Minimized'],minimized_traj,energies,0,np.inf,zorder=10)\n",
    "plot_minimized_pos_and_energies(axd['Minimizeden'],minimized_traj,energies,0,5*kbt,zorder=10)\n",
    "plot_minimized_pos_and_energies(axd['Minimizedens'],selected_traj,selected_energy,0,5*kbt,zorder=10)\n",
    "plot_minimized_pos_and_energies(axd['Entropy'],selected_traj,entropy_out[1],0,5*kbt,zorder=10)\n",
    "\n",
    "for ax in axd.values():\n",
    "    get_xyz_and_plot(ax,ref_traj,0,5*kbt,0,10,legend=False)\n",
    "    ax.set_xlabel(\"Dihedral 1\")\n",
    "    ax.set_ylabel(\"Dihedral 2\")\n",
    "\n",
    "    ax.set_xticks([np.pi/2,np.pi,np.pi/2+np.pi])\n",
    "    ax.set_xticklabels([r\"$-\\frac{\\pi}{2}$\",r\"0\",r\"$\\frac{\\pi}{2}$\"])\n",
    "    ax.set_yticks([np.pi/2,np.pi,np.pi/2+np.pi])\n",
    "    ax.set_yticklabels([r\"$-\\frac{\\pi}{2}$\",r\"0\",r\"$\\frac{\\pi}{2}$\"])\n",
    "    ax.axis('square')\n",
    "\n",
    "    ax.set_xlim([0,2*np.pi])\n",
    "    ax.set_ylim([0,2*np.pi])\n",
    "    ax.get_yaxis().set_visible(False)\n",
    "    \n",
    "axd[\"DG\"].get_yaxis().set_visible(True)\n",
    "\n",
    "# make colorbar using Greys_r colormap from 0 to 5 kbt\n",
    "norm = plt.Normalize(0,5*kbt)\n",
    "sm = plt.cm.ScalarMappable(cmap=\"Greys_r\", norm=norm)\n",
    "sm.set_array([])\n",
    "plt.colorbar(sm,ax=axd[\"Entropy\"],orientation=\"vertical\",label=\"Free Energy [kJ/mol]\",ticks=[0,5,10],shrink=0.39)\n",
    "\n",
    "fig.savefig(\"/fileserver/pine/pine8/kpaul/multi_solvent_pub/manuscript/Plots/Example_minimization.pdf\")"
   ]
  },
  {
   "cell_type": "code",
   "execution_count": null,
   "metadata": {},
   "outputs": [],
   "source": []
  }
 ],
 "metadata": {
  "kernelspec": {
   "display_name": "GNNImplicitSolvent",
   "language": "python",
   "name": "python3"
  },
  "language_info": {
   "codemirror_mode": {
    "name": "ipython",
    "version": 3
   },
   "file_extension": ".py",
   "mimetype": "text/x-python",
   "name": "python",
   "nbconvert_exporter": "python",
   "pygments_lexer": "ipython3",
   "version": "3.10.9"
  }
 },
 "nbformat": 4,
 "nbformat_minor": 2
}
