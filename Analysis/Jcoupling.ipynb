{
 "cells": [
  {
   "cell_type": "code",
   "execution_count": 1,
   "metadata": {},
   "outputs": [
    {
     "name": "stderr",
     "output_type": "stream",
     "text": [
      "Warning: importing 'simtk.openmm' is deprecated.  Import 'openmm' instead.\n",
      "Warning: Unable to load toolkit 'OpenEye Toolkit'. The Open Force Field Toolkit does not require the OpenEye Toolkits, and can use RDKit/AmberTools instead. However, if you have a valid license for the OpenEye Toolkits, consider installing them for faster performance and additional file format support: https://docs.eyesopen.com/toolkits/python/quickstart-python/linuxosx.html OpenEye offers free Toolkit licenses for academics: https://www.eyesopen.com/academic-licensing\n"
     ]
    },
    {
     "data": {
      "application/vnd.jupyter.widget-view+json": {
       "model_id": "4086c4d3cce24627b5c15087985c594f",
       "version_major": 2,
       "version_minor": 0
      },
      "text/plain": []
     },
     "metadata": {},
     "output_type": "display_data"
    }
   ],
   "source": [
    "import sys\n",
    "sys.path.append('..')\n",
    "from Simulation.helper_functions import calculate_DGv3, minimize_mol, calculate_entropy, get_dihedrals_by_name, kjmol_to_prop, get_cluster_asignments_ordered\n",
    "from Simulation.helper_functions import SOLVENT_DICT as solvent_dict\n",
    "from Simulation.helper_functions import MODEL_PATH\n",
    "import matplotlib.pyplot as plt\n",
    "from matplotlib import cm\n",
    "from rdkit import Chem\n",
    "import numpy as np\n",
    "\n",
    "def get_color_from_sd(sd):\n",
    "    return cm.RdBu(sd/80)\n"
   ]
  },
  {
   "cell_type": "code",
   "execution_count": 29,
   "metadata": {},
   "outputs": [],
   "source": [
    "PLOTFOLDER = \"/fileserver/birch/birch1/kpaul/pine8/multi_solvent_pub/manuscript/Plots/\""
   ]
  },
  {
   "cell_type": "code",
   "execution_count": 30,
   "metadata": {},
   "outputs": [
    {
     "data": {
      "text/plain": [
       "'TIP3P, Chloroform, Methanol, DMSO, DMPU, Diethyl Ether, Ethanol, DMF, DCM, Toluene, Benzene, Hexane, Acetonitrile, Acetone, Acetic Acid, 1,4-Dioxane, Nitrobenzene, HMPA, MTBE, IPA, Hexafluorobenzene, Pyridine, THF, Ethyl Acetate, Sulfolane, Nitromethane, Butyl Formate, NMP, Octanol, Cyclohexane, Glycerin, Carbon Tetrachloride, DME, 2-Nitropropane, Trifluorotoluene, Hexafluoroacetone, Propionitrile, Benzonitrile, Oxylol, '"
      ]
     },
     "execution_count": 30,
     "metadata": {},
     "output_type": "execute_result"
    }
   ],
   "source": [
    "nicenames = \"\"\n",
    "for solvent in solvent_dict:\n",
    "    nicenames += solvent_dict[solvent][\"nice_name\"] + \", \"\n",
    "nicenames"
   ]
  },
  {
   "cell_type": "code",
   "execution_count": 31,
   "metadata": {},
   "outputs": [],
   "source": [
    "def get_Jtot(tup):\n",
    "    return (tup[1]-tup[0])*500"
   ]
  },
  {
   "cell_type": "code",
   "execution_count": 32,
   "metadata": {},
   "outputs": [],
   "source": [
    "DMSO = (3.329792,3.350559)\n",
    "Methanol = (3.476629,3.496138)\n",
    "Acetone = (3.411923,3.432143)\n",
    "Chloroform = (3.499005,3.517427)\n",
    "Benzene = (3.113495,3.132309)\n",
    "Acetonitrile = (3.414090,3.433687)\n",
    "Water = (3.479675,3.498249)\n",
    "Pyridine = (3.581476,3.601787)\n",
    "THF = (3.383884,3.404144)"
   ]
  },
  {
   "cell_type": "code",
   "execution_count": 33,
   "metadata": {},
   "outputs": [],
   "source": [
    "smiles = \"COCCO\"\n",
    "reference_J_couplings = {\"Methanol\":(Methanol[1]-Methanol[0])*500,\"acetone\":(Acetone[1]-Acetone[0])*500,\"Chloroform\":(Chloroform[1]-Chloroform[0])*500,\"Benzol\":(Benzene[1]-Benzene[0])*500,\"acetonitrile\":(Acetonitrile[1]-Acetonitrile[0])*500,\"tip3p\":(Water[1]-Water[0])*500,\"pyridine\":(Pyridine[1]-Pyridine[0])*500,\"THF\":(THF[1]-THF[0])*500,\"DMSO\":(DMSO[1]-DMSO[0])*500}"
   ]
  },
  {
   "cell_type": "code",
   "execution_count": 34,
   "metadata": {},
   "outputs": [
    {
     "data": {
      "text/plain": [
       "(9.287000000000045, 9.21100000000008)"
      ]
     },
     "execution_count": 34,
     "metadata": {},
     "output_type": "execute_result"
    }
   ],
   "source": [
    "get_Jtot(Water), get_Jtot(Chloroform)"
   ]
  },
  {
   "cell_type": "code",
   "execution_count": 35,
   "metadata": {},
   "outputs": [],
   "source": [
    "model_file = MODEL_PATH"
   ]
  },
  {
   "cell_type": "code",
   "execution_count": 36,
   "metadata": {},
   "outputs": [
    {
     "name": "stdout",
     "output_type": "stream",
     "text": [
      "Using OpenFF forcefield: openff-2.0.0\n",
      "using rdkit molecule\n",
      "setting charges based on AM1BCC\n",
      "Using OpenFF forcefield: openff-2.0.0\n",
      "using rdkit molecule\n",
      "setting charges based on AM1BCC\n",
      "Using OpenFF forcefield: openff-2.0.0\n",
      "using rdkit molecule\n",
      "setting charges based on AM1BCC\n",
      "Using OpenFF forcefield: openff-2.0.0\n",
      "using rdkit molecule\n",
      "setting charges based on AM1BCC\n",
      "Platform:  GPU  ready\n",
      "Using OpenFF forcefield: openff-2.0.0\n",
      "using rdkit molecule\n",
      "setting charges based on AM1BCC\n",
      "Platform:  GPU  ready\n",
      "Platform:  GPU  ready\n",
      "Platform:  GPU  ready\n",
      "All parallel systems have the same forces as the reference System\n"
     ]
    },
    {
     "name": "stderr",
     "output_type": "stream",
     "text": [
      "100%|██████████| 1/1 [00:10<00:00, 10.84s/it]\n"
     ]
    },
    {
     "name": "stdout",
     "output_type": "stream",
     "text": [
      "Using OpenFF forcefield: openff-2.0.0\n",
      "using rdkit molecule\n",
      "setting charges based on AM1BCC\n",
      "Using OpenFF forcefield: openff-2.0.0\n",
      "using rdkit molecule\n",
      "setting charges based on AM1BCC\n",
      "Using OpenFF forcefield: openff-2.0.0\n",
      "using rdkit molecule\n",
      "setting charges based on AM1BCC\n",
      "Using OpenFF forcefield: openff-2.0.0\n",
      "using rdkit molecule\n",
      "setting charges based on AM1BCC\n",
      "Platform:  GPU  ready\n",
      "Using OpenFF forcefield: openff-2.0.0\n",
      "using rdkit molecule\n",
      "setting charges based on AM1BCC\n",
      "Platform:  GPU  ready\n",
      "Platform:  GPU  ready\n",
      "Platform:  GPU  ready\n",
      "All parallel systems have the same forces as the reference System\n"
     ]
    },
    {
     "name": "stderr",
     "output_type": "stream",
     "text": [
      "100%|██████████| 1/1 [00:01<00:00,  1.15s/it]\n"
     ]
    },
    {
     "name": "stdout",
     "output_type": "stream",
     "text": [
      "Using OpenFF forcefield: openff-2.0.0\n",
      "using rdkit molecule\n",
      "setting charges based on AM1BCC\n",
      "Using OpenFF forcefield: openff-2.0.0\n",
      "using rdkit molecule\n",
      "setting charges based on AM1BCC\n",
      "Using OpenFF forcefield: openff-2.0.0\n",
      "using rdkit molecule\n",
      "setting charges based on AM1BCC\n",
      "Using OpenFF forcefield: openff-2.0.0\n",
      "using rdkit molecule\n",
      "setting charges based on AM1BCC\n",
      "Platform:  GPU  ready\n",
      "Using OpenFF forcefield: openff-2.0.0\n",
      "using rdkit molecule\n",
      "setting charges based on AM1BCC\n",
      "Platform:  GPU  ready\n",
      "Platform:  GPU  ready\n",
      "Platform:  GPU  ready\n",
      "All parallel systems have the same forces as the reference System\n"
     ]
    },
    {
     "name": "stderr",
     "output_type": "stream",
     "text": [
      "100%|██████████| 1/1 [00:07<00:00,  7.94s/it]\n"
     ]
    },
    {
     "name": "stdout",
     "output_type": "stream",
     "text": [
      "Using OpenFF forcefield: openff-2.0.0\n",
      "using rdkit molecule\n",
      "setting charges based on AM1BCC\n",
      "Using OpenFF forcefield: openff-2.0.0\n",
      "using rdkit molecule\n",
      "setting charges based on AM1BCC\n",
      "Using OpenFF forcefield: openff-2.0.0\n",
      "using rdkit molecule\n",
      "setting charges based on AM1BCC\n",
      "Using OpenFF forcefield: openff-2.0.0\n",
      "using rdkit molecule\n",
      "setting charges based on AM1BCC\n",
      "Platform:  GPU  ready\n",
      "Using OpenFF forcefield: openff-2.0.0\n",
      "using rdkit molecule\n",
      "setting charges based on AM1BCC\n",
      "Platform:  GPU  ready\n",
      "Platform:  GPU  ready\n",
      "Platform:  GPU  ready\n",
      "All parallel systems have the same forces as the reference System\n"
     ]
    },
    {
     "name": "stderr",
     "output_type": "stream",
     "text": [
      "100%|██████████| 1/1 [00:01<00:00,  1.14s/it]\n"
     ]
    },
    {
     "name": "stdout",
     "output_type": "stream",
     "text": [
      "Using OpenFF forcefield: openff-2.0.0\n",
      "using rdkit molecule\n",
      "setting charges based on AM1BCC\n",
      "Using OpenFF forcefield: openff-2.0.0\n",
      "using rdkit molecule\n",
      "setting charges based on AM1BCC\n",
      "Using OpenFF forcefield: openff-2.0.0\n",
      "using rdkit molecule\n",
      "setting charges based on AM1BCC\n",
      "Using OpenFF forcefield: openff-2.0.0\n",
      "using rdkit molecule\n",
      "setting charges based on AM1BCC\n",
      "Platform:  GPU  ready\n",
      "Using OpenFF forcefield: openff-2.0.0\n",
      "using rdkit molecule\n",
      "setting charges based on AM1BCC\n",
      "Platform:  GPU  ready\n",
      "Platform:  GPU  ready\n",
      "Platform:  GPU  ready\n",
      "All parallel systems have the same forces as the reference System\n"
     ]
    },
    {
     "name": "stderr",
     "output_type": "stream",
     "text": [
      "100%|██████████| 1/1 [00:08<00:00,  8.51s/it]\n"
     ]
    },
    {
     "name": "stdout",
     "output_type": "stream",
     "text": [
      "Using OpenFF forcefield: openff-2.0.0\n",
      "using rdkit molecule\n",
      "setting charges based on AM1BCC\n",
      "Using OpenFF forcefield: openff-2.0.0\n",
      "using rdkit molecule\n",
      "setting charges based on AM1BCC\n",
      "Using OpenFF forcefield: openff-2.0.0\n",
      "using rdkit molecule\n",
      "setting charges based on AM1BCC\n",
      "Using OpenFF forcefield: openff-2.0.0\n",
      "using rdkit molecule\n",
      "setting charges based on AM1BCC\n",
      "Platform:  GPU  ready\n",
      "Using OpenFF forcefield: openff-2.0.0\n",
      "using rdkit molecule\n",
      "setting charges based on AM1BCC\n",
      "Platform:  GPU  ready\n",
      "Platform:  GPU  ready\n",
      "Platform:  GPU  ready\n",
      "All parallel systems have the same forces as the reference System\n"
     ]
    },
    {
     "name": "stderr",
     "output_type": "stream",
     "text": [
      "100%|██████████| 1/1 [00:01<00:00,  1.11s/it]\n"
     ]
    },
    {
     "name": "stdout",
     "output_type": "stream",
     "text": [
      "Using OpenFF forcefield: openff-2.0.0\n",
      "using rdkit molecule\n",
      "setting charges based on AM1BCC\n",
      "Using OpenFF forcefield: openff-2.0.0\n",
      "using rdkit molecule\n",
      "setting charges based on AM1BCC\n",
      "Using OpenFF forcefield: openff-2.0.0\n",
      "using rdkit molecule\n",
      "setting charges based on AM1BCC\n",
      "Using OpenFF forcefield: openff-2.0.0\n",
      "using rdkit molecule\n",
      "setting charges based on AM1BCC\n",
      "Platform:  GPU  ready\n",
      "Using OpenFF forcefield: openff-2.0.0\n",
      "using rdkit molecule\n",
      "setting charges based on AM1BCC\n",
      "Platform:  GPU  ready\n",
      "Platform:  GPU  ready\n",
      "Platform:  GPU  ready\n",
      "All parallel systems have the same forces as the reference System\n"
     ]
    },
    {
     "name": "stderr",
     "output_type": "stream",
     "text": [
      "100%|██████████| 1/1 [00:08<00:00,  8.80s/it]\n"
     ]
    },
    {
     "name": "stdout",
     "output_type": "stream",
     "text": [
      "Using OpenFF forcefield: openff-2.0.0\n",
      "using rdkit molecule\n",
      "setting charges based on AM1BCC\n",
      "Using OpenFF forcefield: openff-2.0.0\n",
      "using rdkit molecule\n",
      "setting charges based on AM1BCC\n",
      "Using OpenFF forcefield: openff-2.0.0\n",
      "using rdkit molecule\n",
      "setting charges based on AM1BCC\n",
      "Using OpenFF forcefield: openff-2.0.0\n",
      "using rdkit molecule\n",
      "setting charges based on AM1BCC\n",
      "Platform:  GPU  ready\n",
      "Using OpenFF forcefield: openff-2.0.0\n",
      "using rdkit molecule\n",
      "setting charges based on AM1BCC\n",
      "Platform:  GPU  ready\n",
      "Platform:  GPU  ready\n",
      "Platform:  GPU  ready\n",
      "All parallel systems have the same forces as the reference System\n"
     ]
    },
    {
     "name": "stderr",
     "output_type": "stream",
     "text": [
      "100%|██████████| 1/1 [00:01<00:00,  1.15s/it]\n"
     ]
    },
    {
     "name": "stdout",
     "output_type": "stream",
     "text": [
      "Using OpenFF forcefield: openff-2.0.0\n",
      "using rdkit molecule\n",
      "setting charges based on AM1BCC\n",
      "Using OpenFF forcefield: openff-2.0.0\n",
      "using rdkit molecule\n",
      "setting charges based on AM1BCC\n",
      "Using OpenFF forcefield: openff-2.0.0\n",
      "using rdkit molecule\n",
      "setting charges based on AM1BCC\n",
      "Using OpenFF forcefield: openff-2.0.0\n",
      "using rdkit molecule\n",
      "setting charges based on AM1BCC\n",
      "Platform:  GPU  ready\n",
      "Using OpenFF forcefield: openff-2.0.0\n",
      "using rdkit molecule\n",
      "setting charges based on AM1BCC\n",
      "Platform:  GPU  ready\n",
      "Platform:  GPU  ready\n",
      "Platform:  GPU  ready\n",
      "All parallel systems have the same forces as the reference System\n"
     ]
    },
    {
     "name": "stderr",
     "output_type": "stream",
     "text": [
      "100%|██████████| 1/1 [00:08<00:00,  8.06s/it]\n"
     ]
    },
    {
     "name": "stdout",
     "output_type": "stream",
     "text": [
      "Using OpenFF forcefield: openff-2.0.0\n",
      "using rdkit molecule\n",
      "setting charges based on AM1BCC\n",
      "Using OpenFF forcefield: openff-2.0.0\n",
      "using rdkit molecule\n",
      "setting charges based on AM1BCC\n",
      "Using OpenFF forcefield: openff-2.0.0\n",
      "using rdkit molecule\n",
      "setting charges based on AM1BCC\n",
      "Using OpenFF forcefield: openff-2.0.0\n",
      "using rdkit molecule\n",
      "setting charges based on AM1BCC\n",
      "Platform:  GPU  ready\n",
      "Using OpenFF forcefield: openff-2.0.0\n",
      "using rdkit molecule\n",
      "setting charges based on AM1BCC\n",
      "Platform:  GPU  ready\n",
      "Platform:  GPU  ready\n",
      "Platform:  GPU  ready\n",
      "All parallel systems have the same forces as the reference System\n"
     ]
    },
    {
     "name": "stderr",
     "output_type": "stream",
     "text": [
      "100%|██████████| 1/1 [00:01<00:00,  1.09s/it]\n"
     ]
    },
    {
     "name": "stdout",
     "output_type": "stream",
     "text": [
      "Using OpenFF forcefield: openff-2.0.0\n",
      "using rdkit molecule\n",
      "setting charges based on AM1BCC\n",
      "Using OpenFF forcefield: openff-2.0.0\n",
      "using rdkit molecule\n",
      "setting charges based on AM1BCC\n",
      "Using OpenFF forcefield: openff-2.0.0\n",
      "using rdkit molecule\n",
      "setting charges based on AM1BCC\n",
      "Using OpenFF forcefield: openff-2.0.0\n",
      "using rdkit molecule\n",
      "setting charges based on AM1BCC\n",
      "Platform:  GPU  ready\n",
      "Using OpenFF forcefield: openff-2.0.0\n",
      "using rdkit molecule\n",
      "setting charges based on AM1BCC\n",
      "Platform:  GPU  ready\n",
      "Platform:  GPU  ready\n",
      "Platform:  GPU  ready\n",
      "All parallel systems have the same forces as the reference System\n"
     ]
    },
    {
     "name": "stderr",
     "output_type": "stream",
     "text": [
      "100%|██████████| 1/1 [00:07<00:00,  7.64s/it]\n"
     ]
    },
    {
     "name": "stdout",
     "output_type": "stream",
     "text": [
      "Using OpenFF forcefield: openff-2.0.0\n",
      "using rdkit molecule\n",
      "setting charges based on AM1BCC\n",
      "Using OpenFF forcefield: openff-2.0.0\n",
      "using rdkit molecule\n",
      "setting charges based on AM1BCC\n",
      "Using OpenFF forcefield: openff-2.0.0\n",
      "using rdkit molecule\n",
      "setting charges based on AM1BCC\n",
      "Using OpenFF forcefield: openff-2.0.0\n",
      "using rdkit molecule\n",
      "setting charges based on AM1BCC\n",
      "Platform:  GPU  ready\n",
      "Using OpenFF forcefield: openff-2.0.0\n",
      "using rdkit molecule\n",
      "setting charges based on AM1BCC\n",
      "Platform:  GPU  ready\n",
      "Platform:  GPU  ready\n",
      "Platform:  GPU  ready\n",
      "All parallel systems have the same forces as the reference System\n"
     ]
    },
    {
     "name": "stderr",
     "output_type": "stream",
     "text": [
      "100%|██████████| 1/1 [00:01<00:00,  1.24s/it]\n"
     ]
    },
    {
     "name": "stdout",
     "output_type": "stream",
     "text": [
      "Using OpenFF forcefield: openff-2.0.0\n",
      "using rdkit molecule\n",
      "setting charges based on AM1BCC\n",
      "Using OpenFF forcefield: openff-2.0.0\n",
      "using rdkit molecule\n",
      "setting charges based on AM1BCC\n",
      "Using OpenFF forcefield: openff-2.0.0\n",
      "using rdkit molecule\n",
      "setting charges based on AM1BCC\n",
      "Using OpenFF forcefield: openff-2.0.0\n",
      "using rdkit molecule\n",
      "setting charges based on AM1BCC\n",
      "Platform:  GPU  ready\n",
      "Using OpenFF forcefield: openff-2.0.0\n",
      "using rdkit molecule\n",
      "setting charges based on AM1BCC\n",
      "Platform:  GPU  ready\n",
      "Platform:  GPU  ready\n",
      "Platform:  GPU  ready\n",
      "All parallel systems have the same forces as the reference System\n"
     ]
    },
    {
     "name": "stderr",
     "output_type": "stream",
     "text": [
      "100%|██████████| 1/1 [00:08<00:00,  8.82s/it]\n"
     ]
    },
    {
     "name": "stdout",
     "output_type": "stream",
     "text": [
      "Using OpenFF forcefield: openff-2.0.0\n",
      "using rdkit molecule\n",
      "setting charges based on AM1BCC\n",
      "Using OpenFF forcefield: openff-2.0.0\n",
      "using rdkit molecule\n",
      "setting charges based on AM1BCC\n",
      "Using OpenFF forcefield: openff-2.0.0\n",
      "using rdkit molecule\n",
      "setting charges based on AM1BCC\n",
      "Using OpenFF forcefield: openff-2.0.0\n",
      "using rdkit molecule\n",
      "setting charges based on AM1BCC\n",
      "Platform:  GPU  ready\n",
      "Using OpenFF forcefield: openff-2.0.0\n",
      "using rdkit molecule\n",
      "setting charges based on AM1BCC\n",
      "Platform:  GPU  ready\n",
      "Platform:  GPU  ready\n",
      "Platform:  GPU  ready\n",
      "All parallel systems have the same forces as the reference System\n"
     ]
    },
    {
     "name": "stderr",
     "output_type": "stream",
     "text": [
      "100%|██████████| 1/1 [00:01<00:00,  1.20s/it]\n"
     ]
    },
    {
     "name": "stdout",
     "output_type": "stream",
     "text": [
      "Using OpenFF forcefield: openff-2.0.0\n",
      "using rdkit molecule\n",
      "setting charges based on AM1BCC\n",
      "Using OpenFF forcefield: openff-2.0.0\n",
      "using rdkit molecule\n",
      "setting charges based on AM1BCC\n",
      "Using OpenFF forcefield: openff-2.0.0\n",
      "using rdkit molecule\n",
      "setting charges based on AM1BCC\n",
      "Using OpenFF forcefield: openff-2.0.0\n",
      "using rdkit molecule\n",
      "setting charges based on AM1BCC\n",
      "Platform:  GPU  ready\n",
      "Using OpenFF forcefield: openff-2.0.0\n",
      "using rdkit molecule\n",
      "setting charges based on AM1BCC\n",
      "Platform:  GPU  ready\n",
      "Platform:  GPU  ready\n",
      "Platform:  GPU  ready\n",
      "All parallel systems have the same forces as the reference System\n"
     ]
    },
    {
     "name": "stderr",
     "output_type": "stream",
     "text": [
      "100%|██████████| 1/1 [00:08<00:00,  8.54s/it]\n"
     ]
    },
    {
     "name": "stdout",
     "output_type": "stream",
     "text": [
      "Using OpenFF forcefield: openff-2.0.0\n",
      "using rdkit molecule\n",
      "setting charges based on AM1BCC\n",
      "Using OpenFF forcefield: openff-2.0.0\n",
      "using rdkit molecule\n",
      "setting charges based on AM1BCC\n",
      "Using OpenFF forcefield: openff-2.0.0\n",
      "using rdkit molecule\n",
      "setting charges based on AM1BCC\n",
      "Using OpenFF forcefield: openff-2.0.0\n",
      "using rdkit molecule\n",
      "setting charges based on AM1BCC\n",
      "Platform:  GPU  ready\n",
      "Using OpenFF forcefield: openff-2.0.0\n",
      "using rdkit molecule\n",
      "setting charges based on AM1BCC\n",
      "Platform:  GPU  ready\n",
      "Platform:  GPU  ready\n",
      "Platform:  GPU  ready\n",
      "All parallel systems have the same forces as the reference System\n"
     ]
    },
    {
     "name": "stderr",
     "output_type": "stream",
     "text": [
      "100%|██████████| 1/1 [00:01<00:00,  1.15s/it]\n"
     ]
    },
    {
     "name": "stdout",
     "output_type": "stream",
     "text": [
      "Using OpenFF forcefield: openff-2.0.0\n",
      "using rdkit molecule\n",
      "setting charges based on AM1BCC\n",
      "Using OpenFF forcefield: openff-2.0.0\n",
      "using rdkit molecule\n",
      "setting charges based on AM1BCC\n",
      "Using OpenFF forcefield: openff-2.0.0\n",
      "using rdkit molecule\n",
      "setting charges based on AM1BCC\n",
      "Using OpenFF forcefield: openff-2.0.0\n",
      "using rdkit molecule\n",
      "setting charges based on AM1BCC\n",
      "Platform:  GPU  ready\n",
      "Using OpenFF forcefield: openff-2.0.0\n",
      "using rdkit molecule\n",
      "setting charges based on AM1BCC\n",
      "Platform:  GPU  ready\n",
      "Platform:  GPU  ready\n",
      "Platform:  GPU  ready\n",
      "All parallel systems have the same forces as the reference System\n"
     ]
    },
    {
     "name": "stderr",
     "output_type": "stream",
     "text": [
      "100%|██████████| 1/1 [00:08<00:00,  8.35s/it]\n"
     ]
    },
    {
     "name": "stdout",
     "output_type": "stream",
     "text": [
      "Using OpenFF forcefield: openff-2.0.0\n",
      "using rdkit molecule\n",
      "setting charges based on AM1BCC\n",
      "Using OpenFF forcefield: openff-2.0.0\n",
      "using rdkit molecule\n",
      "setting charges based on AM1BCC\n",
      "Using OpenFF forcefield: openff-2.0.0\n",
      "using rdkit molecule\n",
      "setting charges based on AM1BCC\n",
      "Using OpenFF forcefield: openff-2.0.0\n",
      "using rdkit molecule\n",
      "setting charges based on AM1BCC\n",
      "Platform:  GPU  ready\n",
      "Using OpenFF forcefield: openff-2.0.0\n",
      "using rdkit molecule\n",
      "setting charges based on AM1BCC\n",
      "Platform:  GPU  ready\n",
      "Platform:  GPU  ready\n",
      "Platform:  GPU  ready\n",
      "All parallel systems have the same forces as the reference System\n"
     ]
    },
    {
     "name": "stderr",
     "output_type": "stream",
     "text": [
      "100%|██████████| 1/1 [00:01<00:00,  1.11s/it]\n"
     ]
    }
   ],
   "source": [
    "solvent_results = {}\n",
    "for solvent in reference_J_couplings.keys():\n",
    "    mol = Chem.MolFromSmiles(smiles)\n",
    "    traj, mol = calculate_DGv3(mol,256,True,0)\n",
    "    mol, gnn_traj, gnn_energies = minimize_mol(mol,solvent,model_file,solvent_dict,return_traj=True,constraints=None)\n",
    "    cluster_center_traj, cluster_energies, cluster_mol = get_cluster_asignments_ordered(gnn_traj,gnn_energies,thresh=0.05,energy_thresh=100,mol=mol)\n",
    "    entropies, free_energies = calculate_entropy(cluster_mol,solvent,model_file,solvent_dict)\n",
    "    solvent_results[solvent] = (cluster_center_traj,cluster_energies, free_energies)"
   ]
  },
  {
   "cell_type": "code",
   "execution_count": 37,
   "metadata": {},
   "outputs": [
    {
     "name": "stdout",
     "output_type": "stream",
     "text": [
      "SA model:  None\n",
      "Using OpenFF forcefield: openff-2.0.0\n",
      "using rdkit molecule\n",
      "setting charges based on AM1BCC\n",
      "Using OpenFF forcefield: openff-2.0.0\n",
      "using rdkit molecule\n",
      "setting charges based on AM1BCC\n",
      "Platform:  GPU  ready\n",
      "SA model:  None\n",
      "Using OpenFF forcefield: openff-2.0.0\n",
      "using rdkit molecule\n",
      "setting charges based on AM1BCC\n",
      "Using OpenFF forcefield: openff-2.0.0\n",
      "using rdkit molecule\n",
      "setting charges based on AM1BCC\n",
      "Platform:  GPU  ready\n",
      "SA model:  None\n",
      "Using OpenFF forcefield: openff-2.0.0\n",
      "using rdkit molecule\n",
      "setting charges based on AM1BCC\n",
      "Using OpenFF forcefield: openff-2.0.0\n",
      "using rdkit molecule\n",
      "setting charges based on AM1BCC\n",
      "Platform:  GPU  ready\n",
      "SA model:  None\n",
      "Using OpenFF forcefield: openff-2.0.0\n",
      "using rdkit molecule\n",
      "setting charges based on AM1BCC\n",
      "Using OpenFF forcefield: openff-2.0.0\n",
      "using rdkit molecule\n",
      "setting charges based on AM1BCC\n",
      "Platform:  GPU  ready\n",
      "SA model:  None\n",
      "Using OpenFF forcefield: openff-2.0.0\n",
      "using rdkit molecule\n",
      "setting charges based on AM1BCC\n",
      "Using OpenFF forcefield: openff-2.0.0\n",
      "using rdkit molecule\n",
      "setting charges based on AM1BCC\n",
      "Platform:  GPU  ready\n",
      "SA model:  None\n",
      "Using OpenFF forcefield: openff-2.0.0\n",
      "using rdkit molecule\n",
      "setting charges based on AM1BCC\n",
      "Using OpenFF forcefield: openff-2.0.0\n",
      "using rdkit molecule\n",
      "setting charges based on AM1BCC\n",
      "Platform:  GPU  ready\n",
      "SA model:  None\n",
      "Using OpenFF forcefield: openff-2.0.0\n",
      "using rdkit molecule\n",
      "setting charges based on AM1BCC\n",
      "Using OpenFF forcefield: openff-2.0.0\n",
      "using rdkit molecule\n",
      "setting charges based on AM1BCC\n",
      "Platform:  GPU  ready\n",
      "SA model:  None\n",
      "Using OpenFF forcefield: openff-2.0.0\n",
      "using rdkit molecule\n",
      "setting charges based on AM1BCC\n",
      "Using OpenFF forcefield: openff-2.0.0\n",
      "using rdkit molecule\n",
      "setting charges based on AM1BCC\n",
      "Platform:  GPU  ready\n",
      "SA model:  None\n",
      "Using OpenFF forcefield: openff-2.0.0\n",
      "using rdkit molecule\n",
      "setting charges based on AM1BCC\n",
      "Using OpenFF forcefield: openff-2.0.0\n",
      "using rdkit molecule\n",
      "setting charges based on AM1BCC\n",
      "Platform:  GPU  ready\n",
      "SA model:  None\n",
      "Using OpenFF forcefield: openff-2.0.0\n",
      "using rdkit molecule\n",
      "setting charges based on AM1BCC\n",
      "Using OpenFF forcefield: openff-2.0.0\n",
      "using rdkit molecule\n",
      "setting charges based on AM1BCC\n",
      "Platform:  GPU  ready\n",
      "SA model:  None\n",
      "Using OpenFF forcefield: openff-2.0.0\n",
      "using rdkit molecule\n",
      "setting charges based on AM1BCC\n",
      "Using OpenFF forcefield: openff-2.0.0\n",
      "using rdkit molecule\n",
      "setting charges based on AM1BCC\n",
      "Platform:  GPU  ready\n",
      "SA model:  None\n",
      "Using OpenFF forcefield: openff-2.0.0\n",
      "using rdkit molecule\n",
      "setting charges based on AM1BCC\n",
      "Using OpenFF forcefield: openff-2.0.0\n",
      "using rdkit molecule\n",
      "setting charges based on AM1BCC\n",
      "Platform:  GPU  ready\n",
      "SA model:  None\n",
      "Using OpenFF forcefield: openff-2.0.0\n",
      "using rdkit molecule\n",
      "setting charges based on AM1BCC\n",
      "Using OpenFF forcefield: openff-2.0.0\n",
      "using rdkit molecule\n",
      "setting charges based on AM1BCC\n",
      "Platform:  GPU  ready\n",
      "SA model:  None\n",
      "Using OpenFF forcefield: openff-2.0.0\n",
      "using rdkit molecule\n",
      "setting charges based on AM1BCC\n",
      "Using OpenFF forcefield: openff-2.0.0\n",
      "using rdkit molecule\n",
      "setting charges based on AM1BCC\n",
      "Platform:  GPU  ready\n",
      "SA model:  None\n",
      "Using OpenFF forcefield: openff-2.0.0\n",
      "using rdkit molecule\n",
      "setting charges based on AM1BCC\n",
      "Using OpenFF forcefield: openff-2.0.0\n",
      "using rdkit molecule\n",
      "setting charges based on AM1BCC\n",
      "Platform:  GPU  ready\n",
      "SA model:  None\n",
      "Using OpenFF forcefield: openff-2.0.0\n",
      "using rdkit molecule\n",
      "setting charges based on AM1BCC\n",
      "Using OpenFF forcefield: openff-2.0.0\n",
      "using rdkit molecule\n",
      "setting charges based on AM1BCC\n",
      "Platform:  GPU  ready\n",
      "SA model:  None\n",
      "Using OpenFF forcefield: openff-2.0.0\n",
      "using rdkit molecule\n",
      "setting charges based on AM1BCC\n",
      "Using OpenFF forcefield: openff-2.0.0\n",
      "using rdkit molecule\n",
      "setting charges based on AM1BCC\n",
      "Platform:  GPU  ready\n",
      "SA model:  None\n",
      "Using OpenFF forcefield: openff-2.0.0\n",
      "using rdkit molecule\n",
      "setting charges based on AM1BCC\n",
      "Using OpenFF forcefield: openff-2.0.0\n",
      "using rdkit molecule\n",
      "setting charges based on AM1BCC\n",
      "Platform:  GPU  ready\n"
     ]
    }
   ],
   "source": [
    "gb_solvent_results = {}\n",
    "for solvent in reference_J_couplings.keys():\n",
    "    mol = Chem.MolFromSmiles(smiles)\n",
    "    traj, mol = calculate_DGv3(mol,256,True,0)\n",
    "    mol, gnn_traj, gnn_energies = minimize_mol(mol,\"gbneck_\" + solvent,model_file,solvent_dict,return_traj=True,constraints=None)\n",
    "    cluster_center_traj, cluster_energies, cluster_mol = get_cluster_asignments_ordered(gnn_traj,gnn_energies,thresh=0.05,energy_thresh=100,mol=mol)\n",
    "    entropies, free_energies = calculate_entropy(cluster_mol,\"gbneck_\" +solvent,model_file,solvent_dict)\n",
    "    gb_solvent_results[solvent] = (cluster_center_traj,cluster_energies,free_energies)"
   ]
  },
  {
   "cell_type": "code",
   "execution_count": 38,
   "metadata": {},
   "outputs": [],
   "source": [
    "min_populations = []\n",
    "for solvent in reference_J_couplings.keys():\n",
    "    cluster_center_traj, cluster_energies, free_energies = solvent_results[solvent]\n",
    "    gnn_dh = get_dihedrals_by_name(cluster_center_traj,*(\"O1,C2,C3,O2\".split(\",\")))\n",
    "    selection = (gnn_dh < 2.1) & (gnn_dh > -2.1)\n",
    "    min_pre = np.sum(kjmol_to_prop(np.array(free_energies))[selection.flatten()])\n",
    "    min_populations.append(1-min_pre)\n",
    "\n",
    "min_gb_populations = []\n",
    "for solvent in reference_J_couplings.keys():\n",
    "    cluster_center_traj, cluster_energies, free_energies = gb_solvent_results[solvent]\n",
    "    gnn_dh = get_dihedrals_by_name(cluster_center_traj,*(\"O1,C2,C3,O2\".split(\",\")))\n",
    "    selection = (gnn_dh < 2.1) & (gnn_dh > -2.1)\n",
    "    min_pre = np.sum(kjmol_to_prop(np.array(free_energies))[selection.flatten()])\n",
    "    min_gb_populations.append(1-min_pre)"
   ]
  },
  {
   "cell_type": "code",
   "execution_count": 39,
   "metadata": {},
   "outputs": [],
   "source": [
    "def get_color_from_sd(sd):\n",
    "    return cm.RdBu(sd/80)"
   ]
  },
  {
   "cell_type": "code",
   "execution_count": 40,
   "metadata": {},
   "outputs": [],
   "source": [
    "Js = []\n",
    "colors = []\n",
    "names = []\n",
    "for s in reference_J_couplings.keys():\n",
    "    Js.append(np.sum(reference_J_couplings[s]))\n",
    "    colors.append(get_color_from_sd(solvent_dict[s]['dielectric']))\n",
    "    names.append(s)"
   ]
  },
  {
   "cell_type": "code",
   "execution_count": 47,
   "metadata": {},
   "outputs": [
    {
     "data": {
      "text/plain": [
       "([0.052463742936593787394,\n",
       "  0.070032199179402626925,\n",
       "  0.004918291201810023373,\n",
       "  0.017312044952547807949,\n",
       "  0.023098285864166619261,\n",
       "  0.028951245723528006514,\n",
       "  0.07609156163124008879,\n",
       "  0.04907498816264741772,\n",
       "  0.130309667745375737],\n",
       " dict_keys(['Methanol', 'acetone', 'Chloroform', 'Benzol', 'acetonitrile', 'tip3p', 'pyridine', 'THF', 'DMSO']))"
      ]
     },
     "execution_count": 47,
     "metadata": {},
     "output_type": "execute_result"
    }
   ],
   "source": [
    "min_populations, reference_J_couplings.keys()"
   ]
  },
  {
   "cell_type": "code",
   "execution_count": 42,
   "metadata": {},
   "outputs": [],
   "source": [
    "# set font size\n",
    "plt.rcParams.update({'font.size': 8})"
   ]
  },
  {
   "cell_type": "code",
   "execution_count": 43,
   "metadata": {},
   "outputs": [
    {
     "name": "stderr",
     "output_type": "stream",
     "text": [
      "/tmp/ipykernel_1516453/2853980683.py:6: UserWarning: This figure was using a layout engine that is incompatible with subplots_adjust and/or tight_layout; not calling subplots_adjust.\n",
      "  plt.subplots_adjust(hspace=0.2)\n"
     ]
    },
    {
     "data": {
      "image/png": "[encoded data removed]",
      "text/plain": [
       "<Figure size 250x380 with 2 Axes>"
      ]
     },
     "metadata": {},
     "output_type": "display_data"
    }
   ],
   "source": [
    "fig, axd = plt.subplot_mosaic([[\"gb\"],[\"main\"]],figsize=(2.5,3.8),constrained_layout=True)\n",
    "\n",
    "\n",
    "\n",
    "# set vertical distance between subplots\n",
    "plt.subplots_adjust(hspace=0.2)\n",
    "\n",
    "ax = axd[\"main\"]\n",
    "ax.scatter(min_populations,Js,c=colors,s=60,marker='o',edgecolors='black')\n",
    "# ax.errorbar(min_populations,Js,xerr=populations_std,fmt='o',color='black',zorder=0)\n",
    "ax.set_xlabel(\"Predicted Population of trans rotamer\")\n",
    "ax.set_ylabel(\"JHH + JHH' Coupling (Hz)\")\n",
    "# ax.set_title(\"GNN\")\n",
    "\n",
    "for i in range(len(min_populations)):\n",
    "\n",
    "    shifty=0.015\n",
    "    shiftx=0.002\n",
    "    if names[i] == \"acetonitrile\":\n",
    "        shifty = -0.095\n",
    "        shiftx = -0.001\n",
    "    if names[i] == \"acetone\":\n",
    "        shifty = 0.075\n",
    "        shiftx = 0.005\n",
    "    if names[i] == \"THF\":\n",
    "        shifty = 0.02\n",
    "        # shiftx = -0.014\n",
    "    if names[i] == \"pyridine\":\n",
    "        shiftx = -0.005\n",
    "        shifty = -0.12\n",
    "    if names[i] == \"DMSO\":\n",
    "        shifty = 0.05\n",
    "        shiftx = -0.015\n",
    "    ax.text(min_populations[i]+0.002+shiftx,Js[i]+shifty,solvent_dict[names[i]][\"nice_name\"],fontsize=8)\n",
    "\n",
    "ax = axd[\"gb\"]\n",
    "ax.scatter(min_gb_populations,Js,c=colors,s=60,marker='o',edgecolors='black')\n",
    "# ax.errorbar(min_populations,Js,xerr=populations_std,fmt='o',color='black',zorder=0)\n",
    "ax.get_xaxis().set_visible(False)\n",
    "# ax.set_title(\"GBneck2\")\n",
    "\n",
    "for i in range(len(min_populations)):\n",
    "\n",
    "    shifty=0.015\n",
    "    shiftx=0.002\n",
    "    if names[i] == \"acetonitrile\":\n",
    "        shifty = 0.05\n",
    "    if names[i] == \"acetone\":\n",
    "        shifty = -0.01\n",
    "        shiftx = 0.002\n",
    "    if names[i] == \"THF\":\n",
    "        shifty = 0.04\n",
    "        shiftx = -0.018\n",
    "    if names[i] == \"pyridine\":\n",
    "        shiftx = -0.005\n",
    "        shifty = -0.14\n",
    "\n",
    "    ax.text(min_gb_populations[i]+0.002+shiftx,Js[i]+shifty,solvent_dict[names[i]][\"nice_name\"],fontsize=8)\n",
    "\n",
    "for ax in axd.values():\n",
    "    ax.set_xlabel(\"Predicted trans population\")\n",
    "    ax.set_ylabel(r\"J$_{tot}$ [Hz]\")\n",
    "    ax.set_xlim(0,0.15)\n",
    "    ax.set_ylim(9.1,10.6)\n",
    "    ax.set_yticks([9.2,9.6,10,10.4])\n",
    "\n",
    "fig.savefig(PLOTFOLDER+\"JHH_h.pdf\",bbox_inches='tight')"
   ]
  },
  {
   "cell_type": "code",
   "execution_count": 48,
   "metadata": {},
   "outputs": [
    {
     "data": {
      "text/plain": [
       "(0.023098285864166619261, 0.04907498816264741772)"
      ]
     },
     "execution_count": 48,
     "metadata": {},
     "output_type": "execute_result"
    }
   ],
   "source": [
    "min_populations[4], min_populations[7]# Aceonitrile, THF"
   ]
  },
  {
   "cell_type": "code",
   "execution_count": 16,
   "metadata": {},
   "outputs": [
    {
     "name": "stderr",
     "output_type": "stream",
     "text": [
      "/tmp/ipykernel_1516453/1555543234.py:7: UserWarning: This figure was using a layout engine that is incompatible with subplots_adjust and/or tight_layout; not calling subplots_adjust.\n",
      "  plt.subplots_adjust(hspace=0.2)\n"
     ]
    },
    {
     "data": {
      "image/png": "[encoded data removed]",
      "text/plain": [
       "<Figure size 700x250 with 2 Axes>"
      ]
     },
     "metadata": {},
     "output_type": "display_data"
    }
   ],
   "source": [
    "fig, axd = plt.subplot_mosaic([[\"gb\",\"main\"]],figsize=(7,2.5),constrained_layout=True)\n",
    "\n",
    "# set font size\n",
    "plt.rcParams.update({'font.size': 8})\n",
    "\n",
    "# set vertical distance between subplots\n",
    "plt.subplots_adjust(hspace=0.2)\n",
    "\n",
    "ax = axd[\"main\"]\n",
    "ax.scatter(min_populations,Js,c=colors,s=90,marker='o',edgecolors='black')\n",
    "# ax.errorbar(min_populations,Js,xerr=populations_std,fmt='o',color='black',zorder=0)\n",
    "ax.set_xlabel(\"Predicted Population of trans rotamer\")\n",
    "ax.set_ylabel(\"JHH + JHH' Coupling (Hz)\")\n",
    "# ax.set_title(\"GNN\")\n",
    "\n",
    "for i in range(len(min_populations)):\n",
    "\n",
    "    shifty=0.015\n",
    "    shiftx=0.002\n",
    "    if names[i] == \"acetonitrile\":\n",
    "        shifty = -0.095\n",
    "        shiftx = -0.001\n",
    "    if names[i] == \"acetone\":\n",
    "        shifty = 0.075\n",
    "        shiftx = 0.005\n",
    "    if names[i] == \"THF\":\n",
    "        shifty = 0.02\n",
    "        # shiftx = -0.014\n",
    "    if names[i] == \"pyridine\":\n",
    "        shiftx = -0.005\n",
    "        shifty = -0.12\n",
    "    if names[i] == \"DMSO\":\n",
    "        shifty = 0.05\n",
    "        shiftx = -0.001\n",
    "    ax.text(min_populations[i]+0.002+shiftx,Js[i]+shifty,solvent_dict[names[i]][\"nice_name\"],fontsize=8)\n",
    "ax.get_yaxis().set_visible(False)\n",
    "\n",
    "ax = axd[\"gb\"]\n",
    "ax.scatter(min_gb_populations,Js,c=colors,s=90,marker='o',edgecolors='black')\n",
    "# ax.errorbar(min_populations,Js,xerr=populations_std,fmt='o',color='black',zorder=0)\n",
    "# ax.set_title(\"GBneck2\")\n",
    "\n",
    "for i in range(len(min_populations)):\n",
    "\n",
    "    shifty=0.015\n",
    "    shiftx=0.002\n",
    "    if names[i] == \"acetonitrile\":\n",
    "        shifty = 0.05\n",
    "    if names[i] == \"acetone\":\n",
    "        shifty = -0.01\n",
    "        shiftx = 0.002\n",
    "    if names[i] == \"THF\":\n",
    "        shifty = 0.04\n",
    "        shiftx = -0.018\n",
    "    if names[i] == \"pyridine\":\n",
    "        shiftx = -0.005\n",
    "        shifty = -0.14\n",
    "    ax.text(min_gb_populations[i]+0.002+shiftx,Js[i]+shifty,solvent_dict[names[i]][\"nice_name\"],fontsize=8)\n",
    "\n",
    "for ax in axd.values():\n",
    "    ax.set_xlabel(\"Predicted Population\")\n",
    "    ax.set_ylabel(\"JHH + JHH' Coupling (Hz)\")\n",
    "    ax.set_xlim(0,0.15)\n",
    "    ax.set_ylim(9.1,10.6)\n",
    "\n",
    "fig.savefig(PLOTFOLDER+\"/JHH_v.pdf\",bbox_inches='tight')"
   ]
  },
  {
   "cell_type": "markdown",
   "metadata": {},
   "source": [
    "### Compound I4"
   ]
  },
  {
   "cell_type": "code",
   "execution_count": 17,
   "metadata": {},
   "outputs": [],
   "source": [
    "smiles = \"COCCOC\"\n",
    "reference_J_couplings = {\"tip3p\":9.25,\"DMSO\":9.71,\"Chloroform\":9.45,\"Methanol\":9.43,\"Hexan\":10.33}\n",
    "model_file = MODEL_PATH"
   ]
  },
  {
   "cell_type": "code",
   "execution_count": 18,
   "metadata": {},
   "outputs": [
    {
     "name": "stdout",
     "output_type": "stream",
     "text": [
      "Using OpenFF forcefield: openff-2.0.0\n",
      "using rdkit molecule\n",
      "setting charges based on AM1BCC\n",
      "Using OpenFF forcefield: openff-2.0.0\n",
      "using rdkit molecule\n",
      "setting charges based on AM1BCC\n",
      "Using OpenFF forcefield: openff-2.0.0\n",
      "using rdkit molecule\n",
      "setting charges based on AM1BCC\n",
      "Using OpenFF forcefield: openff-2.0.0\n",
      "using rdkit molecule\n",
      "setting charges based on AM1BCC\n",
      "Platform:  GPU  ready\n",
      "Using OpenFF forcefield: openff-2.0.0\n",
      "using rdkit molecule\n",
      "setting charges based on AM1BCC\n",
      "Platform:  GPU  ready\n",
      "Platform:  GPU  ready\n",
      "Platform:  GPU  ready\n",
      "All parallel systems have the same forces as the reference System\n"
     ]
    },
    {
     "name": "stderr",
     "output_type": "stream",
     "text": [
      "  0%|          | 0/1 [00:00<?, ?it/s][W manager.cpp:335] Warning: FALLBACK path has been taken inside: runCudaFusionGroup. This is an indication that codegen Failed for some reason.\n",
      "To debug try disable codegen fallback path via setting the env variable `export PYTORCH_NVFUSER_DISABLE=fallback`\n",
      " (function runCudaFusionGroup)\n",
      "100%|██████████| 1/1 [00:13<00:00, 13.42s/it]\n"
     ]
    },
    {
     "name": "stdout",
     "output_type": "stream",
     "text": [
      "Using OpenFF forcefield: openff-2.0.0\n",
      "using rdkit molecule\n",
      "setting charges based on AM1BCC\n",
      "Using OpenFF forcefield: openff-2.0.0\n",
      "using rdkit molecule\n",
      "setting charges based on AM1BCC\n",
      "Using OpenFF forcefield: openff-2.0.0\n",
      "using rdkit molecule\n",
      "setting charges based on AM1BCC\n",
      "Using OpenFF forcefield: openff-2.0.0\n",
      "using rdkit molecule\n",
      "setting charges based on AM1BCC\n",
      "Platform:  GPU  ready\n",
      "Using OpenFF forcefield: openff-2.0.0\n",
      "using rdkit molecule\n",
      "setting charges based on AM1BCC\n",
      "Platform:  GPU  ready\n",
      "Platform:  GPU  ready\n",
      "Platform:  GPU  ready\n",
      "All parallel systems have the same forces as the reference System\n"
     ]
    },
    {
     "name": "stderr",
     "output_type": "stream",
     "text": [
      "  0%|          | 0/1 [00:00<?, ?it/s][W manager.cpp:335] Warning: FALLBACK path has been taken inside: runCudaFusionGroup. This is an indication that codegen Failed for some reason.\n",
      "To debug try disable codegen fallback path via setting the env variable `export PYTORCH_NVFUSER_DISABLE=fallback`\n",
      " (function runCudaFusionGroup)\n",
      "100%|██████████| 1/1 [00:06<00:00,  6.53s/it]\n"
     ]
    },
    {
     "name": "stdout",
     "output_type": "stream",
     "text": [
      "Using OpenFF forcefield: openff-2.0.0\n",
      "using rdkit molecule\n",
      "setting charges based on AM1BCC\n",
      "Using OpenFF forcefield: openff-2.0.0\n",
      "using rdkit molecule\n",
      "setting charges based on AM1BCC\n",
      "Using OpenFF forcefield: openff-2.0.0\n",
      "using rdkit molecule\n",
      "setting charges based on AM1BCC\n",
      "Using OpenFF forcefield: openff-2.0.0\n",
      "using rdkit molecule\n",
      "setting charges based on AM1BCC\n",
      "Platform:  GPU  ready\n",
      "Using OpenFF forcefield: openff-2.0.0\n",
      "using rdkit molecule\n",
      "setting charges based on AM1BCC\n",
      "Platform:  GPU  ready\n",
      "Platform:  GPU  ready\n",
      "Platform:  GPU  ready\n",
      "All parallel systems have the same forces as the reference System\n"
     ]
    },
    {
     "name": "stderr",
     "output_type": "stream",
     "text": [
      "100%|██████████| 1/1 [00:09<00:00,  9.82s/it]\n"
     ]
    },
    {
     "name": "stdout",
     "output_type": "stream",
     "text": [
      "Using OpenFF forcefield: openff-2.0.0\n",
      "using rdkit molecule\n",
      "setting charges based on AM1BCC\n",
      "Using OpenFF forcefield: openff-2.0.0\n",
      "using rdkit molecule\n",
      "setting charges based on AM1BCC\n",
      "Using OpenFF forcefield: openff-2.0.0\n",
      "using rdkit molecule\n",
      "setting charges based on AM1BCC\n",
      "Using OpenFF forcefield: openff-2.0.0\n",
      "using rdkit molecule\n",
      "setting charges based on AM1BCC\n",
      "Platform:  GPU  ready\n",
      "Using OpenFF forcefield: openff-2.0.0\n",
      "using rdkit molecule\n",
      "setting charges based on AM1BCC\n",
      "Platform:  GPU  ready\n",
      "Platform:  GPU  ready\n",
      "Platform:  GPU  ready\n",
      "All parallel systems have the same forces as the reference System\n"
     ]
    },
    {
     "name": "stderr",
     "output_type": "stream",
     "text": [
      "100%|██████████| 1/1 [00:01<00:00,  1.27s/it]\n"
     ]
    },
    {
     "name": "stdout",
     "output_type": "stream",
     "text": [
      "Using OpenFF forcefield: openff-2.0.0\n",
      "using rdkit molecule\n",
      "setting charges based on AM1BCC\n",
      "Using OpenFF forcefield: openff-2.0.0\n",
      "using rdkit molecule\n",
      "setting charges based on AM1BCC\n",
      "Using OpenFF forcefield: openff-2.0.0\n",
      "using rdkit molecule\n",
      "setting charges based on AM1BCC\n",
      "Using OpenFF forcefield: openff-2.0.0\n",
      "using rdkit molecule\n",
      "setting charges based on AM1BCC\n",
      "Platform:  GPU  ready\n",
      "Using OpenFF forcefield: openff-2.0.0\n",
      "using rdkit molecule\n",
      "setting charges based on AM1BCC\n",
      "Platform:  GPU  ready\n",
      "Platform:  GPU  ready\n",
      "Platform:  GPU  ready\n",
      "All parallel systems have the same forces as the reference System\n"
     ]
    },
    {
     "name": "stderr",
     "output_type": "stream",
     "text": [
      "100%|██████████| 1/1 [00:10<00:00, 10.14s/it]\n"
     ]
    },
    {
     "name": "stdout",
     "output_type": "stream",
     "text": [
      "Using OpenFF forcefield: openff-2.0.0\n",
      "using rdkit molecule\n",
      "setting charges based on AM1BCC\n",
      "Using OpenFF forcefield: openff-2.0.0\n",
      "using rdkit molecule\n",
      "setting charges based on AM1BCC\n",
      "Using OpenFF forcefield: openff-2.0.0\n",
      "using rdkit molecule\n",
      "setting charges based on AM1BCC\n",
      "Using OpenFF forcefield: openff-2.0.0\n",
      "using rdkit molecule\n",
      "setting charges based on AM1BCC\n",
      "Platform:  GPU  ready\n",
      "Using OpenFF forcefield: openff-2.0.0\n",
      "using rdkit molecule\n",
      "setting charges based on AM1BCC\n",
      "Platform:  GPU  ready\n",
      "Platform:  GPU  ready\n",
      "Platform:  GPU  ready\n",
      "All parallel systems have the same forces as the reference System\n"
     ]
    },
    {
     "name": "stderr",
     "output_type": "stream",
     "text": [
      "  0%|          | 0/1 [00:00<?, ?it/s][W manager.cpp:335] Warning: FALLBACK path has been taken inside: runCudaFusionGroup. This is an indication that codegen Failed for some reason.\n",
      "To debug try disable codegen fallback path via setting the env variable `export PYTORCH_NVFUSER_DISABLE=fallback`\n",
      " (function runCudaFusionGroup)\n",
      "100%|██████████| 1/1 [00:06<00:00,  6.60s/it]\n"
     ]
    },
    {
     "name": "stdout",
     "output_type": "stream",
     "text": [
      "Using OpenFF forcefield: openff-2.0.0\n",
      "using rdkit molecule\n",
      "setting charges based on AM1BCC\n",
      "Using OpenFF forcefield: openff-2.0.0\n",
      "using rdkit molecule\n",
      "setting charges based on AM1BCC\n",
      "Using OpenFF forcefield: openff-2.0.0\n",
      "using rdkit molecule\n",
      "setting charges based on AM1BCC\n",
      "Using OpenFF forcefield: openff-2.0.0\n",
      "using rdkit molecule\n",
      "setting charges based on AM1BCC\n",
      "Platform:  GPU  ready\n",
      "Using OpenFF forcefield: openff-2.0.0\n",
      "using rdkit molecule\n",
      "setting charges based on AM1BCC\n",
      "Platform:  GPU  ready\n",
      "Platform:  GPU  ready\n",
      "Platform:  GPU  ready\n",
      "All parallel systems have the same forces as the reference System\n"
     ]
    },
    {
     "name": "stderr",
     "output_type": "stream",
     "text": [
      "100%|██████████| 1/1 [00:08<00:00,  8.14s/it]\n"
     ]
    },
    {
     "name": "stdout",
     "output_type": "stream",
     "text": [
      "Using OpenFF forcefield: openff-2.0.0\n",
      "using rdkit molecule\n",
      "setting charges based on AM1BCC\n",
      "Using OpenFF forcefield: openff-2.0.0\n",
      "using rdkit molecule\n",
      "setting charges based on AM1BCC\n",
      "Using OpenFF forcefield: openff-2.0.0\n",
      "using rdkit molecule\n",
      "setting charges based on AM1BCC\n",
      "Using OpenFF forcefield: openff-2.0.0\n",
      "using rdkit molecule\n",
      "setting charges based on AM1BCC\n",
      "Platform:  GPU  ready\n",
      "Using OpenFF forcefield: openff-2.0.0\n",
      "using rdkit molecule\n",
      "setting charges based on AM1BCC\n",
      "Platform:  GPU  ready\n",
      "Platform:  GPU  ready\n",
      "Platform:  GPU  ready\n",
      "All parallel systems have the same forces as the reference System\n"
     ]
    },
    {
     "name": "stderr",
     "output_type": "stream",
     "text": [
      "100%|██████████| 1/1 [00:01<00:00,  1.20s/it]\n"
     ]
    },
    {
     "name": "stdout",
     "output_type": "stream",
     "text": [
      "Using OpenFF forcefield: openff-2.0.0\n",
      "using rdkit molecule\n",
      "setting charges based on AM1BCC\n",
      "Using OpenFF forcefield: openff-2.0.0\n",
      "using rdkit molecule\n",
      "setting charges based on AM1BCC\n",
      "Using OpenFF forcefield: openff-2.0.0\n",
      "using rdkit molecule\n",
      "setting charges based on AM1BCC\n",
      "Using OpenFF forcefield: openff-2.0.0\n",
      "using rdkit molecule\n",
      "setting charges based on AM1BCC\n",
      "Platform:  GPU  ready\n",
      "Using OpenFF forcefield: openff-2.0.0\n",
      "using rdkit molecule\n",
      "setting charges based on AM1BCC\n",
      "Platform:  GPU  ready\n",
      "Platform:  GPU  ready\n",
      "Platform:  GPU  ready\n",
      "All parallel systems have the same forces as the reference System\n"
     ]
    },
    {
     "name": "stderr",
     "output_type": "stream",
     "text": [
      "100%|██████████| 1/1 [00:12<00:00, 12.86s/it]\n"
     ]
    },
    {
     "name": "stdout",
     "output_type": "stream",
     "text": [
      "Using OpenFF forcefield: openff-2.0.0\n",
      "using rdkit molecule\n",
      "setting charges based on AM1BCC\n",
      "Using OpenFF forcefield: openff-2.0.0\n",
      "using rdkit molecule\n",
      "setting charges based on AM1BCC\n",
      "Using OpenFF forcefield: openff-2.0.0\n",
      "using rdkit molecule\n",
      "setting charges based on AM1BCC\n",
      "Using OpenFF forcefield: openff-2.0.0\n",
      "using rdkit molecule\n",
      "setting charges based on AM1BCC\n",
      "Platform:  GPU  ready\n",
      "Using OpenFF forcefield: openff-2.0.0\n",
      "using rdkit molecule\n",
      "setting charges based on AM1BCC\n",
      "Platform:  GPU  ready\n",
      "Platform:  GPU  ready\n",
      "Platform:  GPU  ready\n",
      "All parallel systems have the same forces as the reference System\n"
     ]
    },
    {
     "name": "stderr",
     "output_type": "stream",
     "text": [
      "  0%|          | 0/1 [00:00<?, ?it/s][W manager.cpp:335] Warning: FALLBACK path has been taken inside: runCudaFusionGroup. This is an indication that codegen Failed for some reason.\n",
      "To debug try disable codegen fallback path via setting the env variable `export PYTORCH_NVFUSER_DISABLE=fallback`\n",
      " (function runCudaFusionGroup)\n",
      "100%|██████████| 1/1 [00:06<00:00,  6.09s/it]\n"
     ]
    }
   ],
   "source": [
    "solvent_results = {}\n",
    "for solvent in reference_J_couplings.keys():\n",
    "    mol = Chem.MolFromSmiles(smiles)\n",
    "    traj, mol = calculate_DGv3(mol,256,True,0)\n",
    "    mol, gnn_traj, gnn_energies = minimize_mol(mol,solvent,model_file,solvent_dict,return_traj=True,constraints=None)\n",
    "    cluster_center_traj, cluster_energies, cluster_mol = get_cluster_asignments_ordered(gnn_traj,gnn_energies,thresh=0.05,energy_thresh=100,mol=mol)\n",
    "    entropies, free_energies = calculate_entropy(cluster_mol,solvent,model_file,solvent_dict)\n",
    "    solvent_results[solvent] = (cluster_center_traj,cluster_energies, free_energies)"
   ]
  },
  {
   "cell_type": "code",
   "execution_count": 19,
   "metadata": {},
   "outputs": [
    {
     "name": "stdout",
     "output_type": "stream",
     "text": [
      "SA model:  None\n",
      "Using OpenFF forcefield: openff-2.0.0\n",
      "using rdkit molecule\n",
      "setting charges based on AM1BCC\n",
      "Using OpenFF forcefield: openff-2.0.0\n",
      "using rdkit molecule\n",
      "setting charges based on AM1BCC\n",
      "Platform:  GPU  ready\n",
      "SA model:  None\n",
      "Using OpenFF forcefield: openff-2.0.0\n",
      "using rdkit molecule\n",
      "setting charges based on AM1BCC\n",
      "Using OpenFF forcefield: openff-2.0.0\n",
      "using rdkit molecule\n",
      "setting charges based on AM1BCC\n",
      "Platform:  GPU  ready\n"
     ]
    },
    {
     "name": "stderr",
     "output_type": "stream",
     "text": [
      "  0%|          | 0/100 [00:00<?, ?it/s]\n"
     ]
    },
    {
     "name": "stdout",
     "output_type": "stream",
     "text": [
      "SA model:  None\n",
      "Using OpenFF forcefield: openff-2.0.0\n",
      "using rdkit molecule\n",
      "setting charges based on AM1BCC\n",
      "Using OpenFF forcefield: openff-2.0.0\n",
      "using rdkit molecule\n",
      "setting charges based on AM1BCC\n",
      "Platform:  GPU  ready\n",
      "SA model:  None\n",
      "Using OpenFF forcefield: openff-2.0.0\n",
      "using rdkit molecule\n",
      "setting charges based on AM1BCC\n",
      "Using OpenFF forcefield: openff-2.0.0\n",
      "using rdkit molecule\n",
      "setting charges based on AM1BCC\n",
      "Platform:  GPU  ready\n"
     ]
    },
    {
     "name": "stderr",
     "output_type": "stream",
     "text": [
      "  0%|          | 0/100 [00:00<?, ?it/s]\n"
     ]
    },
    {
     "name": "stdout",
     "output_type": "stream",
     "text": [
      "SA model:  None\n",
      "Using OpenFF forcefield: openff-2.0.0\n",
      "using rdkit molecule\n",
      "setting charges based on AM1BCC\n",
      "Using OpenFF forcefield: openff-2.0.0\n",
      "using rdkit molecule\n",
      "setting charges based on AM1BCC\n",
      "Platform:  GPU  ready\n",
      "SA model:  None\n",
      "Using OpenFF forcefield: openff-2.0.0\n",
      "using rdkit molecule\n",
      "setting charges based on AM1BCC\n",
      "Using OpenFF forcefield: openff-2.0.0\n",
      "using rdkit molecule\n",
      "setting charges based on AM1BCC\n",
      "Platform:  GPU  ready\n"
     ]
    },
    {
     "name": "stderr",
     "output_type": "stream",
     "text": [
      "  0%|          | 0/100 [00:00<?, ?it/s]\n",
      "  0%|          | 0/100 [00:00<?, ?it/s]\n",
      "  0%|          | 0/100 [00:00<?, ?it/s]\n"
     ]
    },
    {
     "name": "stdout",
     "output_type": "stream",
     "text": [
      "SA model:  None\n",
      "Using OpenFF forcefield: openff-2.0.0\n",
      "using rdkit molecule\n",
      "setting charges based on AM1BCC\n",
      "Using OpenFF forcefield: openff-2.0.0\n",
      "using rdkit molecule\n",
      "setting charges based on AM1BCC\n",
      "Platform:  GPU  ready\n",
      "SA model:  None\n",
      "Using OpenFF forcefield: openff-2.0.0\n",
      "using rdkit molecule\n",
      "setting charges based on AM1BCC\n",
      "Using OpenFF forcefield: openff-2.0.0\n",
      "using rdkit molecule\n",
      "setting charges based on AM1BCC\n",
      "Platform:  GPU  ready\n"
     ]
    },
    {
     "name": "stderr",
     "output_type": "stream",
     "text": [
      "  0%|          | 0/100 [00:00<?, ?it/s]\n",
      "  0%|          | 0/100 [00:00<?, ?it/s]\n",
      "  0%|          | 0/100 [00:00<?, ?it/s]\n"
     ]
    },
    {
     "name": "stdout",
     "output_type": "stream",
     "text": [
      "SA model:  None\n",
      "Using OpenFF forcefield: openff-2.0.0\n",
      "using rdkit molecule\n",
      "setting charges based on AM1BCC\n",
      "Using OpenFF forcefield: openff-2.0.0\n",
      "using rdkit molecule\n",
      "setting charges based on AM1BCC\n",
      "Platform:  GPU  ready\n",
      "SA model:  None\n",
      "Using OpenFF forcefield: openff-2.0.0\n",
      "using rdkit molecule\n",
      "setting charges based on AM1BCC\n",
      "Using OpenFF forcefield: openff-2.0.0\n",
      "using rdkit molecule\n",
      "setting charges based on AM1BCC\n",
      "Platform:  GPU  ready\n"
     ]
    },
    {
     "name": "stderr",
     "output_type": "stream",
     "text": [
      "  0%|          | 0/100 [00:00<?, ?it/s]\n",
      "  0%|          | 0/100 [00:00<?, ?it/s]\n",
      "  0%|          | 0/100 [00:00<?, ?it/s]\n",
      "  0%|          | 0/100 [00:00<?, ?it/s]\n"
     ]
    }
   ],
   "source": [
    "gb_solvent_results = {}\n",
    "for solvent in reference_J_couplings.keys():\n",
    "    mol = Chem.MolFromSmiles(smiles)\n",
    "    traj, mol = calculate_DGv3(mol,256,True,0)\n",
    "    mol, gnn_traj, gnn_energies = minimize_mol(mol,\"gbneck_\" + solvent,MODEL_PATH,solvent_dict,return_traj=True,constraints=None)\n",
    "    cluster_center_traj, cluster_energies, cluster_mol = get_cluster_asignments_ordered(gnn_traj,gnn_energies,thresh=0.05,energy_thresh=100,mol=mol)\n",
    "    entropies, free_energies = calculate_entropy(cluster_mol,\"gbneck_\" +solvent,MODEL_PATH,solvent_dict)\n",
    "    gb_solvent_results[solvent] = (cluster_center_traj,cluster_energies,free_energies)"
   ]
  },
  {
   "cell_type": "code",
   "execution_count": 20,
   "metadata": {},
   "outputs": [],
   "source": [
    "min_populations = []\n",
    "for solvent in reference_J_couplings.keys():\n",
    "    cluster_center_traj, cluster_energies, free_energies = solvent_results[solvent]\n",
    "    gnn_dh = get_dihedrals_by_name(cluster_center_traj,*(\"O1,C2,C3,O2\".split(\",\")))\n",
    "    selection = (gnn_dh < 2.1) & (gnn_dh > -2.1)\n",
    "    min_pre = np.sum(kjmol_to_prop(np.array(free_energies))[selection.flatten()])\n",
    "    min_populations.append(1-min_pre)\n",
    "\n",
    "min_gb_populations = []\n",
    "for solvent in reference_J_couplings.keys():\n",
    "    cluster_center_traj, cluster_energies, free_energies = gb_solvent_results[solvent]\n",
    "    gnn_dh = get_dihedrals_by_name(cluster_center_traj,*(\"O1,C2,C3,O2\".split(\",\")))\n",
    "    selection = (gnn_dh < 2.1) & (gnn_dh > -2.1)\n",
    "    min_pre = np.sum(kjmol_to_prop(np.array(free_energies))[selection.flatten()])\n",
    "    min_gb_populations.append(1-min_pre)"
   ]
  },
  {
   "cell_type": "code",
   "execution_count": 21,
   "metadata": {},
   "outputs": [],
   "source": [
    "Js = []\n",
    "colors = []\n",
    "names = []\n",
    "for s in reference_J_couplings.keys():\n",
    "    Js.append(np.sum(reference_J_couplings[s]))\n",
    "    colors.append(get_color_from_sd(solvent_dict[s]['dielectric']))\n",
    "    names.append(s)"
   ]
  },
  {
   "cell_type": "code",
   "execution_count": 22,
   "metadata": {},
   "outputs": [
    {
     "name": "stderr",
     "output_type": "stream",
     "text": [
      "/tmp/ipykernel_1516453/2734657855.py:6: UserWarning: This figure was using a layout engine that is incompatible with subplots_adjust and/or tight_layout; not calling subplots_adjust.\n",
      "  plt.subplots_adjust(hspace=0.2)\n"
     ]
    },
    {
     "data": {
      "image/png": "[encoded data removed]",
      "text/plain": [
       "<Figure size 700x250 with 2 Axes>"
      ]
     },
     "metadata": {},
     "output_type": "display_data"
    }
   ],
   "source": [
    "fig, axd = plt.subplot_mosaic([[\"gb\",\"main\"]],figsize=(7,2.5),constrained_layout=True)\n",
    "# set font size\n",
    "plt.rcParams.update({'font.size': 8})\n",
    "\n",
    "# set vertical distance between subplots\n",
    "plt.subplots_adjust(hspace=0.2)\n",
    "\n",
    "ax = axd[\"main\"]\n",
    "ax.scatter(min_populations,Js,c=colors,s=90,marker='o',edgecolors='black')\n",
    "# ax.errorbar(min_populations,Js,xerr=populations_std,fmt='o',color='black',zorder=0)\n",
    "ax.set_xlabel(\"Predicted Population of trans rotamer\")\n",
    "ax.set_ylabel(\"JHH + JHH' Coupling (Hz)\")\n",
    "# ax.set_title(\"GNN\")\n",
    "\n",
    "for i in range(len(min_populations)):\n",
    "\n",
    "    shifty=0.035\n",
    "    shiftx=0.01\n",
    "    if names[i] == \"Hexan\":\n",
    "        shiftx = -0.1\n",
    "\n",
    "    #     shiftx = -0.001\n",
    "    ax.text(min_populations[i]+0.002+shiftx,Js[i]+shifty,solvent_dict[names[i]][\"nice_name\"],fontsize=8)\n",
    "\n",
    "ax.get_yaxis().set_visible(False)\n",
    "\n",
    "\n",
    "ax = axd[\"gb\"]\n",
    "ax.scatter(min_gb_populations,Js,c=colors,s=90,marker='o',edgecolors='black')\n",
    "# ax.errorbar(min_populations,Js,xerr=populations_std,fmt='o',color='black',zorder=0)\n",
    "# ax.set_title(\"GBneck2\")\n",
    "\n",
    "for i in range(len(min_populations)):\n",
    "\n",
    "    shifty=0.035\n",
    "    shiftx=0.01\n",
    "    if names[i] == \"Chloroform\":\n",
    "        shifty = -0.1\n",
    "    elif names[i] == \"Methanol\":\n",
    "        shiftx = -0.1\n",
    "        shifty = 0.075\n",
    "\n",
    "    ax.text(min_gb_populations[i]+0.002+shiftx,Js[i]+shifty,solvent_dict[names[i]][\"nice_name\"],fontsize=8)\n",
    "\n",
    "for ax in axd.values():\n",
    "    ax.set_xlabel(\"Predicted Population\")\n",
    "    ax.set_ylabel(\"JHH + JHH' Coupling (Hz)\")\n",
    "    ax.set_xlim(0,0.5)\n",
    "    ax.set_ylim(9.1,10.6)\n",
    "\n",
    "fig.savefig(\"/fileserver/pine/pine8/kpaul/multi_solvent_pub/manuscript/Plots/JHH_I4_v.pdf\",bbox_inches='tight')"
   ]
  },
  {
   "cell_type": "code",
   "execution_count": 28,
   "metadata": {},
   "outputs": [
    {
     "name": "stderr",
     "output_type": "stream",
     "text": [
      "/tmp/ipykernel_1516453/2230223568.py:6: UserWarning: This figure was using a layout engine that is incompatible with subplots_adjust and/or tight_layout; not calling subplots_adjust.\n",
      "  plt.subplots_adjust(hspace=0.2)\n"
     ]
    },
    {
     "data": {
      "image/png": "[encoded data removed]",
      "text/plain": [
       "<Figure size 250x380 with 2 Axes>"
      ]
     },
     "metadata": {},
     "output_type": "display_data"
    }
   ],
   "source": [
    "fig, axd = plt.subplot_mosaic([[\"gb\"],[\"main\"]],figsize=(2.5,3.8),constrained_layout=True)\n",
    "# set font size\n",
    "plt.rcParams.update({'font.size': 8})\n",
    "\n",
    "# set vertical distance between subplots\n",
    "plt.subplots_adjust(hspace=0.2)\n",
    "\n",
    "ax = axd[\"main\"]\n",
    "ax.scatter(min_populations,Js,c=colors,s=60,marker='o',edgecolors='black')\n",
    "# ax.errorbar(min_populations,Js,xerr=populations_std,fmt='o',color='black',zorder=0)\n",
    "ax.set_xlabel(\"Predicted Population of trans rotamer\")\n",
    "ax.set_ylabel(\"JHH + JHH' Coupling (Hz)\")\n",
    "# ax.set_title(\"GNN\")\n",
    "\n",
    "for i in range(len(min_populations)):\n",
    "\n",
    "    shifty=0.035\n",
    "    shiftx=0.01\n",
    "    if names[i] == \"Hexan\":\n",
    "        shiftx = -0.1\n",
    "\n",
    "    #     shiftx = -0.001\n",
    "    ax.text(min_populations[i]+0.002+shiftx,Js[i]+shifty,solvent_dict[names[i]][\"nice_name\"],fontsize=8)\n",
    "\n",
    "\n",
    "\n",
    "\n",
    "ax = axd[\"gb\"]\n",
    "ax.get_xaxis().set_visible(False)\n",
    "\n",
    "ax.scatter(min_gb_populations,Js,c=colors,s=60,marker='o',edgecolors='black')\n",
    "# ax.errorbar(min_populations,Js,xerr=populations_std,fmt='o',color='black',zorder=0)\n",
    "# ax.set_title(\"GBneck2\")\n",
    "\n",
    "for i in range(len(min_populations)):\n",
    "\n",
    "    shifty=0.035\n",
    "    shiftx=0.01\n",
    "    if names[i] == \"Chloroform\":\n",
    "        shifty = -0.1\n",
    "    elif names[i] == \"Methanol\":\n",
    "        shiftx = -0.1\n",
    "        shifty = 0.075\n",
    "\n",
    "    ax.text(min_gb_populations[i]+0.002+shiftx,Js[i]+shifty,solvent_dict[names[i]][\"nice_name\"],fontsize=8)\n",
    "\n",
    "for ax in axd.values():\n",
    "    ax.set_xlabel(\"Predicted Population\")\n",
    "    ax.set_ylabel(r\"J$_{tot}$ [Hz]\")\n",
    "    ax.set_xlim(0,0.5)\n",
    "    ax.set_ylim(9.1,10.6)\n",
    "    ax.set_yticks([9.2,9.6,10,10.4])\n",
    "    # put ticks on the right side\n",
    "    ax.yaxis.tick_right()\n",
    "    ax.yaxis.set_label_position(\"right\")\n",
    "\n",
    "fig.savefig(\"/fileserver/pine/pine8/kpaul/multi_solvent_pub/manuscript/Plots/JHH_I4_h.pdf\",bbox_inches='tight')"
   ]
  },
  {
   "cell_type": "code",
   "execution_count": null,
   "metadata": {},
   "outputs": [],
   "source": []
  },
  {
   "cell_type": "code",
   "execution_count": null,
   "metadata": {},
   "outputs": [],
   "source": []
  }
 ],
 "metadata": {
  "kernelspec": {
   "display_name": "GNNImplicitSolvent",
   "language": "python",
   "name": "python3"
  },
  "language_info": {
   "codemirror_mode": {
    "name": "ipython",
    "version": 3
   },
   "file_extension": ".py",
   "mimetype": "text/x-python",
   "name": "python",
   "nbconvert_exporter": "python",
   "pygments_lexer": "ipython3",
   "version": "3.10.9"
  }
 },
 "nbformat": 4,
 "nbformat_minor": 2
}
