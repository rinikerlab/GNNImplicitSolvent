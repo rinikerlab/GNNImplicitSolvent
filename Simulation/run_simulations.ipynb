{
 "cells": [
  {
   "cell_type": "markdown",
   "id": "4d99c50b-610b-41c6-bbb3-e3bccb1ea095",
   "metadata": {},
   "source": [
    "### Run explicit simulation"
   ]
  },
  {
   "cell_type": "code",
   "execution_count": 4,
   "id": "ad8e885b-e8d3-4c50-ac1a-6cd72513de0e",
   "metadata": {
    "tags": []
   },
   "outputs": [],
   "source": [
    "from Simulator import Simulator\n",
    "from ForceField.Forcefield import TIP5P_force_field, TIP3P_force_field, GB_Neck2_force_field, Vacuum_force_field, Vacuum_force_field_plus_custom\n",
    "from openmmtorch import TorchForce\n",
    "from openmm import LangevinMiddleIntegrator\n",
    "from openmm.unit import kelvin, picosecond, picoseconds\n",
    "import numpy as np"
   ]
  },
  {
   "cell_type": "markdown",
   "id": "1a7509ad-f0de-40ee-9706-9cd6c27bfc31",
   "metadata": {
    "tags": []
   },
   "source": [
    "### Setup Simulation"
   ]
  },
  {
   "attachments": {},
   "cell_type": "markdown",
   "id": "f041e2c0",
   "metadata": {},
   "source": [
    "COPY all files in topologies_and_starting_coordinates from doi: [10.3929/ethz-b-000599309](https://doi.org/10.3929/ethz-b-000599309) to [Data/data](../Data/data/) <br>"
   ]
  },
  {
   "cell_type": "code",
   "execution_count": 2,
   "id": "0d7ba4da-d105-4fbb-b66e-cdc86e046c7a",
   "metadata": {
    "tags": []
   },
   "outputs": [],
   "source": [
    "work_dir = \"../\" # directory of the repository\n",
    "pdb_id = 'kasae' # Amino acid sequence\n",
    "n_interval = 1000 # Interval for saving frames in steps\n",
    "ns = 0.1 # Nanoseconds to run the simulation for"
   ]
  },
  {
   "cell_type": "markdown",
   "id": "ec381bda-9b86-4565-8260-eb36d07b82d6",
   "metadata": {},
   "source": [
    "### Run TIP5P Simulation (TIP3P analog)"
   ]
  },
  {
   "cell_type": "code",
   "execution_count": 12,
   "id": "f6c918a6-b69c-45a5-9c18-e0448635dfc3",
   "metadata": {
    "tags": []
   },
   "outputs": [
    {
     "name": "stdout",
     "output_type": "stream",
     "text": [
      "From Amber\n",
      "built explicit System PME 1 nm\n",
      "Platform:  GPU  ready\n"
     ]
    }
   ],
   "source": [
    "sim = Simulator(work_dir=work_dir,pdb_id=pdb_id,run_name=pdb_id)\n",
    "sim._datahandler._ready_for_usage = False # Disable as box will be added\n",
    "sim.forcefield = TIP5P_force_field()\n",
    "sim.add_box()\n",
    "sim._datahandler._ready_for_usage = True # Enable to allow simulation run\n",
    "sim.integrator = LangevinMiddleIntegrator(300*kelvin, 1/picosecond, 0.002*picoseconds)\n",
    "sim.platform = \"GPU\"\n",
    "n_steps = ns / 0.002 * 1000\n",
    "sim.run_simulation(n_steps=n_steps,minimize=True,n_interval=1000)"
   ]
  },
  {
   "cell_type": "markdown",
   "id": "14db874c-99cc-437f-8af6-ce05576d9b98",
   "metadata": {},
   "source": [
    "### Run GBNeck2 Simulation"
   ]
  },
  {
   "cell_type": "code",
   "execution_count": 25,
   "id": "5b7bddea-cead-473c-81b7-d374de9d3c57",
   "metadata": {
    "tags": []
   },
   "outputs": [
    {
     "name": "stdout",
     "output_type": "stream",
     "text": [
      "From Amber\n",
      "Platform:  GPU  ready\n"
     ]
    }
   ],
   "source": [
    "sim = Simulator(work_dir=work_dir,pdb_id=pdb_id,run_name=pdb_id)\n",
    "sim.forcefield = Vacuum_force_field()\n",
    "\n",
    "def get_charges(): # Get charges from Vacuum force field\n",
    "    topology = sim._datahandler.topology\n",
    "    charges = np.array([sim._system.getForces()[3].getParticleParameters(i)[0]._value for i in range(topology._numAtoms)])\n",
    "    gbn2_parameters = np.empty((topology.getNumAtoms(),7))\n",
    "    gbn2_parameters[:,0] = charges # Charges\n",
    "    return gbn2_parameters\n",
    "\n",
    "sim.forcefield = GB_Neck2_force_field(get_charges())\n",
    "sim.integrator = LangevinMiddleIntegrator(300*kelvin, 1/picosecond, 0.002*picoseconds)\n",
    "sim.platform = \"GPU\"\n",
    "n_steps = ns / 0.002 * 1000\n",
    "sim.run_simulation(n_steps=n_steps,minimize=True,n_interval=1000)"
   ]
  },
  {
   "cell_type": "markdown",
   "id": "de8dc2b2",
   "metadata": {},
   "source": [
    "### Run GNN Simulation"
   ]
  },
  {
   "attachments": {},
   "cell_type": "markdown",
   "id": "eff44bbd",
   "metadata": {},
   "source": [
    "Run [Train_models.ipynb](../MachineLearning/Train_models.ipynb) Jupyter notebook before to generate model."
   ]
  },
  {
   "cell_type": "code",
   "execution_count": 6,
   "id": "1d234037",
   "metadata": {},
   "outputs": [
    {
     "name": "stdout",
     "output_type": "stream",
     "text": [
      "From Amber\n",
      "Platform:  GPU  ready\n"
     ]
    }
   ],
   "source": [
    "run_model_file = '../MachineLearning/trained_models/GNN3_model_run_kasae.pt'\n",
    "sim = Simulator(work_dir=work_dir,pdb_id=pdb_id,run_name=pdb_id)\n",
    "torch_force = TorchForce(run_model_file)\n",
    "sim.forcefield = Vacuum_force_field_plus_custom(torch_force)\n",
    "sim.integrator = LangevinMiddleIntegrator(300*kelvin, 1/picosecond, 0.002*picoseconds)\n",
    "sim.platform = \"GPU\"\n",
    "n_steps = ns / 0.002 * 1000\n",
    "sim.run_simulation(n_steps=n_steps,minimize=True,n_interval=1000)"
   ]
  }
 ],
 "metadata": {
  "kernelspec": {
   "display_name": "Python 3.9.16 ('implicitml_publication1')",
   "language": "python",
   "name": "python3"
  },
  "language_info": {
   "codemirror_mode": {
    "name": "ipython",
    "version": 3
   },
   "file_extension": ".py",
   "mimetype": "text/x-python",
   "name": "python",
   "nbconvert_exporter": "python",
   "pygments_lexer": "ipython3",
   "version": "3.9.16"
  },
  "vscode": {
   "interpreter": {
    "hash": "46e87b747cff41404eb43e2046185264745cc6e609e89010b1df7b0286c5cd1e"
   }
  }
 },
 "nbformat": 4,
 "nbformat_minor": 5
}
