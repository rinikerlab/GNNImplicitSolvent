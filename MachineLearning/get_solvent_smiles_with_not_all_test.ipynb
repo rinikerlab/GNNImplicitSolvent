{
 "cells": [
  {
   "cell_type": "code",
   "execution_count": 37,
   "metadata": {},
   "outputs": [],
   "source": [
    "import lwreg\n",
    "from lwreg import standardization_lib\n",
    "import psycopg2\n",
    "import numpy as np\n",
    "\n",
    "import yaml\n",
    "solvent_dict = yaml.load(open(\"../Simulation/solvents.yml\"), Loader=yaml.FullLoader)[\n",
    "    \"solvent_mapping_dict\"\n",
    "]\n",
    "from rdkit import Chem"
   ]
  },
  {
   "cell_type": "code",
   "execution_count": 38,
   "metadata": {},
   "outputs": [],
   "source": [
    "with open(\"/home/kpaul/.lwreg_key\",\"r\") as f:\n",
    "    key = f.read().strip()\n",
    "\n",
    "config = lwreg.utils.defaultConfig()\n",
    "config[\"standardization\"] = standardization_lib.NoStandardization()\n",
    "config[\"dbname\"] = \"solvent_forces\"\n",
    "config[\"dbtype\"] = \"postgresql\"\n",
    "config[\"removeHs\"] = 0\n",
    "config[\"registerConformers\"] = True\n",
    "config[\"hashConformer\"] = 0 # set to 0\n",
    "config[\"numConformerDigits\"] = 3 # Question: what is this?\n",
    "config[\"host\"] = \"scotland\"\n",
    "config[\"user\"] = \"kpaul_lwreg\"\n",
    "config[\"password\"] = key"
   ]
  },
  {
   "cell_type": "markdown",
   "metadata": {},
   "source": [
    "### Get all external test set molecules from water"
   ]
  },
  {
   "cell_type": "code",
   "execution_count": 39,
   "metadata": {},
   "outputs": [
    {
     "data": {
      "text/plain": [
       "(1000,)"
      ]
     },
     "execution_count": 39,
     "metadata": {},
     "output_type": "execute_result"
    }
   ],
   "source": [
    "solvent = \"tip3p\"\n",
    "cn = lwreg.utils.connect(config) # Connection to the database\n",
    "curs = cn.cursor() # Command line cursor in postgresql\n",
    "curs.execute(\"select molregno from public.conformers inner join solvent_%s.explicit_calculations on public.conformers.conf_id=solvent_%s.explicit_calculations.conf_id where solvent_%s.explicit_calculations.usage_flag='test'\" % (solvent,solvent,solvent))\n",
    "df = curs.fetchall()\n",
    "cn.commit()\n",
    "\n",
    "testmolregnos = [m[0] for m in df]\n",
    "testmolregnos = np.sort(np.unique(np.array(testmolregnos)))\n",
    "testmolregnos.shape"
   ]
  },
  {
   "cell_type": "markdown",
   "metadata": {},
   "source": [
    "### get results for other solvent molecules"
   ]
  },
  {
   "cell_type": "code",
   "execution_count": 53,
   "metadata": {},
   "outputs": [],
   "source": [
    "solvent_mol_regno_dict = {}\n",
    "\n",
    "for solvent in solvent_dict.keys():\n",
    "    cn = lwreg.utils.connect(config) # Connection to the database\n",
    "    curs = cn.cursor() # Command line cursor in postgresql\n",
    "    curs.execute(\"select molregno from public.conformers inner join solvent_%s.explicit_calculations on public.conformers.conf_id=solvent_%s.explicit_calculations.conf_id where solvent_%s.explicit_calculations.usage_flag='test'\" % (solvent,solvent,solvent))\n",
    "    df = curs.fetchall()\n",
    "    cn.commit()\n",
    "\n",
    "    testmolregnos = [m[0] for m in df]\n",
    "    testmolregnos = np.sort(np.unique(np.array(testmolregnos)))\n",
    "    solvent_mol_regno_dict[solvent] = testmolregnos"
   ]
  },
  {
   "cell_type": "markdown",
   "metadata": {},
   "source": [
    "#### Get molregnos not in water test set"
   ]
  },
  {
   "cell_type": "code",
   "execution_count": 54,
   "metadata": {},
   "outputs": [],
   "source": [
    "solvent_missing_molregno_dict = {}\n",
    "set_water = set(solvent_mol_regno_dict[\"tip3p\"])\n",
    "for solvent in solvent_dict.keys():\n",
    "    set_solvent = set(solvent_mol_regno_dict[solvent])\n",
    "    solvent_missing_molregno_dict[solvent] = list(set_water - set_solvent)"
   ]
  },
  {
   "cell_type": "code",
   "execution_count": 55,
   "metadata": {},
   "outputs": [
    {
     "name": "stdout",
     "output_type": "stream",
     "text": [
      "tip3p 0\n",
      "Chloroform 0\n",
      "Methanol 0\n",
      "DMSO 0\n",
      "DMPU 0\n",
      "Diethylether 0\n",
      "Ethanol 0\n",
      "DMF 0\n",
      "DCM 0\n",
      "Toluol 0\n",
      "Benzol 0\n",
      "Hexan 0\n",
      "acetonitrile 0\n",
      "acetone 0\n",
      "aceticacid 0\n",
      "14dioxane 0\n",
      "nitrobenzol 0\n",
      "HMPA 0\n",
      "MTBE 0\n",
      "IPA 0\n",
      "Hexafluorobenzene 0\n",
      "pyridine 0\n",
      "THF 0\n",
      "Ethylacetate 0\n",
      "Sulfolane 0\n",
      "nitromethane 0\n",
      "Butylformate 0\n",
      "NMP 0\n",
      "Octanol 0\n",
      "cyclohexane 0\n",
      "glycerin 0\n",
      "carbontetrachloride 0\n",
      "DME 0\n",
      "2Nitropropane 0\n",
      "Trifluorotoluene 0\n",
      "hexafluroacetone 0\n",
      "Propionitrile 0\n",
      "Benzonitrile 0\n",
      "oxylol 0\n"
     ]
    }
   ],
   "source": [
    "for solvent in solvent_dict.keys():\n",
    "    print(solvent, len(solvent_missing_molregno_dict[solvent]))"
   ]
  },
  {
   "cell_type": "code",
   "execution_count": 43,
   "metadata": {},
   "outputs": [],
   "source": [
    "import psycopg2"
   ]
  },
  {
   "cell_type": "markdown",
   "metadata": {},
   "source": [
    "#### Get smiles for missing molregnos"
   ]
  },
  {
   "cell_type": "code",
   "execution_count": 44,
   "metadata": {},
   "outputs": [],
   "source": [
    "missing_smiles = {}\n",
    "for solvent in solvent_dict.keys():\n",
    "    missing_ids = solvent_missing_molregno_dict[solvent]\n",
    "    if missing_ids == []:\n",
    "        continue\n",
    "    cn = psycopg2.connect(\n",
    "        database=config.get(\"dbname\", None),\n",
    "        host=config.get(\"host\", None),\n",
    "        user=config.get(\"user\", None),\n",
    "        password=config.get(\"password\", None),\n",
    "    )\n",
    "    curs = cn.cursor() # Command line cursor in postgresql\n",
    "    curs.execute(\"select canonical_smiles from hashes where molregno in %s\",\n",
    "                (\n",
    "                    tuple(\n",
    "                        [int(id) for id in missing_ids]\n",
    "                    ),\n",
    "                ),)\n",
    "    df = curs.fetchall()\n",
    "    cn.commit()\n",
    "\n",
    "    missing_smiles[solvent] = [m[0] for m in df]\n",
    "\n",
    "    np.save(\"../Simulation/generation_smiles/missing_testset_smiles/missing_smiles_r2_%s.npy\" % solvent, np.array(missing_smiles[solvent],dtype=object))"
   ]
  },
  {
   "cell_type": "markdown",
   "metadata": {},
   "source": [
    "#### Write input for Euler calculations"
   ]
  },
  {
   "cell_type": "code",
   "execution_count": 10,
   "metadata": {},
   "outputs": [],
   "source": [
    "submission_string = \"# Setup additional external test set\\n\"\n",
    "for s,solvent in enumerate(missing_smiles.keys()):\n",
    "    num_missing_smiles = len(missing_smiles[solvent])\n",
    "    if num_missing_smiles == 0:\n",
    "        continue\n",
    "    num_jobs = num_missing_smiles // 50\n",
    "    solvent_smiles = solvent_dict[solvent][\"SMILES\"]\n",
    "    solvent_random_seed = 161311 + s\n",
    "\n",
    "    submission_string += f\"\"\"\n",
    "mkdir -p /cluster/project/igc/kpaul/Additional_external_test_set/{solvent}_starting_coordinates\n",
    "mkdir -p additional_external_caches/CACHE_{solvent}_external_test_set/\n",
    "job{s}=$(sbatch --parsable --array=0-{num_jobs} -n 4 --time=24:00:00 --tmp=1000 --mem-per-cpu=4000 -o Calculated_data/slurm_log/run_generation_external_test_additional_{solvent}_starting_%A_%a.out --wrap='python run_training_set_generation.py -i $SLURM_ARRAY_TASK_ID -n 50 -s \"{solvent_smiles}\" -r {solvent_random_seed} -f generation_smiles/missing_testset_smiles/missing_smiles_{solvent}.npy --startonly --starttrajloc /cluster/project/igc/kpaul/Additional_external_test_set/{solvent}_starting_coordinates/ --cachelocation additional_external_caches/CACHE_{solvent}_external_test_set/ --oneonly')\n",
    "sbatch --dependency=afterany:$job{s} --array=0-{num_jobs} -n 4 --time=24:00:00 --tmp=5000 --mem-per-cpu=4000 --gpus=1 -o Calculated_data/Externalt_test_set_additional_{solvent}/slurm_log/run_generation_{solvent}_%A_%a.out --wrap='python run_training_set_generation.py -i $SLURM_ARRAY_TASK_ID -n 50 -s \"{solvent_smiles}\" -r {solvent_random_seed} -f generation_smiles/canonical_smiles.npy -nf 1 --starttrajloc /cluster/project/igc/kpaul/Additional_external_test_set/{solvent}_starting_coordinates/ -sl Calculated_data/Externalt_test_set_additional_{solvent}/ --cachelocation additional_external_caches/CACHE_{solvent}_external_test_set/ --oneonly'\n",
    "\"\"\"\n"
   ]
  },
  {
   "cell_type": "code",
   "execution_count": 45,
   "metadata": {},
   "outputs": [],
   "source": [
    "submission_string = \"# Setup additional external test set\\n\"\n",
    "for s,solvent in enumerate(missing_smiles.keys()):\n",
    "    num_missing_smiles = len(missing_smiles[solvent])\n",
    "    if num_missing_smiles == 0:\n",
    "        continue\n",
    "    num_jobs = num_missing_smiles // 50\n",
    "    solvent_smiles = solvent_dict[solvent][\"SMILES\"]\n",
    "    solvent_random_seed = 161311 + s\n",
    "\n",
    "    submission_string += f\"\"\"\n",
    "mkdir -p /cluster/project/igc/kpaul/Additional_external_test_set_r2/{solvent}_starting_coordinates\n",
    "mkdir -p additional_external_caches/CACHE_{solvent}_external_test_set_r2/\n",
    "mkdir -p Calculated_data/Externalt_test_set_additional_r2_{solvent}/\n",
    "job{s}=$(sbatch --parsable --array=0-{num_jobs} -n 4 --time=24:00:00 --tmp=1000 --mem-per-cpu=4000 -o Calculated_data/slurm_log/run_generation_external_test_additional_r2_{solvent}_starting_%A_%a.out --wrap='python run_training_set_generation.py -i $SLURM_ARRAY_TASK_ID -n 50 -s \"{solvent_smiles}\" -r {solvent_random_seed} -f generation_smiles/missing_testset_smiles/missing_smiles_r2_{solvent}.npy --startonly --starttrajloc /cluster/project/igc/kpaul/Additional_external_test_set_r2/{solvent}_starting_coordinates/ --cachelocation additional_external_caches/CACHE_{solvent}_external_test_set_r2/ --oneonly')\n",
    "sbatch --dependency=afterany:$job{s} --array=0-{num_jobs} -n 4 --time=24:00:00 --tmp=5000 --mem-per-cpu=4000 --gpus=1 -o Calculated_data/Externalt_test_set_additional_r2_{solvent}/slurm_log/run_generation_{solvent}_%A_%a.out --wrap='python run_training_set_generation.py -i $SLURM_ARRAY_TASK_ID -n 50 -s \"{solvent_smiles}\" -r {solvent_random_seed} -f generation_smiles/missing_testset_smiles/missing_smiles_r2_{solvent}.npy -nf 1 --starttrajloc /cluster/project/igc/kpaul/Additional_external_test_set_r2/{solvent}_starting_coordinates/ -sl Calculated_data/Externalt_test_set_additional_r2_{solvent}/ --cachelocation additional_external_caches/CACHE_{solvent}_external_test_set_r2/ --oneonly'\n",
    "\"\"\""
   ]
  },
  {
   "cell_type": "markdown",
   "metadata": {},
   "source": [
    "#### Deposit results in Database"
   ]
  },
  {
   "cell_type": "code",
   "execution_count": 30,
   "metadata": {},
   "outputs": [],
   "source": [
    "submission_string = \"# Setup deposition external test set\\n\"\n",
    "for s,solvent in enumerate(missing_smiles.keys()):\n",
    "    num_missing_smiles = len(missing_smiles[solvent])\n",
    "    num_jobs = num_missing_smiles // 50\n",
    "    solvent_smiles = solvent_dict[solvent][\"SMILES\"]\n",
    "    solvent_random_seed = 161311 + s\n",
    "\n",
    "    submission_string += f\"\"\"python run_deposit_database.py -s 0 -e {num_jobs+1} -t test -h5 \"Calculated_data/Externalt_test_set_additional_{solvent}/{solvent_smiles}_small_molecules_n_50_id_XXX_seed_{solvent_random_seed}.hdf5\" -nc 1 -d solvent_{solvent.lower()}\n",
    "\"\"\""
   ]
  },
  {
   "cell_type": "code",
   "execution_count": 48,
   "metadata": {},
   "outputs": [],
   "source": [
    "submission_string = \"# Setup deposition external test set\\n\"\n",
    "for s,solvent in enumerate(missing_smiles.keys()):\n",
    "    num_missing_smiles = len(missing_smiles[solvent])\n",
    "    num_jobs = num_missing_smiles // 50\n",
    "    solvent_smiles = solvent_dict[solvent][\"SMILES\"]\n",
    "    solvent_random_seed = 161311 + s\n",
    "\n",
    "    submission_string += f\"\"\"python run_deposit_database.py -s 0 -e {num_jobs+1} -t test -h5 \"Calculated_data/Externalt_test_set_additional_r2_{solvent}/{solvent_smiles}_small_molecules_n_50_id_XXX_seed_{solvent_random_seed}.hdf5\" -nc 1 -d solvent_{solvent.lower()}\n",
    "\"\"\""
   ]
  },
  {
   "cell_type": "code",
   "execution_count": 33,
   "metadata": {},
   "outputs": [],
   "source": [
    "with open(\"../Simulation/run_external_test_set_database.sh\",\"w\") as f:\n",
    "    f.write(submission_string)"
   ]
  },
  {
   "cell_type": "code",
   "execution_count": 202,
   "metadata": {},
   "outputs": [
    {
     "data": {
      "text/plain": [
       "(38,)"
      ]
     },
     "execution_count": 202,
     "metadata": {},
     "output_type": "execute_result"
    }
   ],
   "source": [
    "np.load(\"../Simulation/generation_smiles/missing_testset_smiles/missing_smiles_Methanol.npy\").shape"
   ]
  }
 ],
 "metadata": {
  "kernelspec": {
   "display_name": "newest_pyg_ot14",
   "language": "python",
   "name": "python3"
  },
  "language_info": {
   "codemirror_mode": {
    "name": "ipython",
    "version": 3
   },
   "file_extension": ".py",
   "mimetype": "text/x-python",
   "name": "python",
   "nbconvert_exporter": "python",
   "pygments_lexer": "ipython3",
   "version": "3.10.9"
  }
 },
 "nbformat": 4,
 "nbformat_minor": 2
}
