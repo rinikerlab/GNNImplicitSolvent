{
 "cells": [
  {
   "cell_type": "code",
   "execution_count": 6,
   "metadata": {},
   "outputs": [
    {
     "name": "stdout",
     "output_type": "stream",
     "text": [
      "The autoreload extension is already loaded. To reload it, use:\n",
      "  %reload_ext autoreload\n"
     ]
    }
   ],
   "source": [
    "# Use autoreload\n",
    "%load_ext autoreload\n",
    "%autoreload 2"
   ]
  },
  {
   "cell_type": "code",
   "execution_count": 114,
   "metadata": {},
   "outputs": [],
   "source": [
    "import h5py"
   ]
  },
  {
   "cell_type": "code",
   "execution_count": 130,
   "metadata": {},
   "outputs": [
    {
     "name": "stdout",
     "output_type": "stream",
     "text": [
      "<KeysViewHDF5 ['bonds', 'chainID', 'element', 'name', 'resName', 'resSeq', 'segmentID', 'serial']>\n"
     ]
    }
   ],
   "source": [
    "\n",
    "mol_id = '0'\n",
    "conf_id = 'conf_02'\n",
    "\n",
    "with h5py.File('/tmp/Additional_elements_999.h5', \"r\") as f:\n",
    "    print(f[\"smileIDs/\" + mol_id + '/' + conf_id + \"/simulation\"][\"topology\"].keys())"
   ]
  },
  {
   "cell_type": "code",
   "execution_count": 81,
   "metadata": {},
   "outputs": [
    {
     "data": {
      "image/png": "[encoded data removed]",
      "text/plain": [
       "<rdkit.Chem.rdchem.Mol at 0x71f508124970>"
      ]
     },
     "execution_count": 81,
     "metadata": {},
     "output_type": "execute_result"
    }
   ],
   "source": [
    "from Datahandler import hdf5_storage\n",
    "import rdkit\n",
    "import mdtraj\n",
    "import nglview\n",
    "\n",
    "storage = hdf5_storage('/tmp/Additional_elements_999.h5')\n",
    "mcdict = storage.get_molids_and_confids()\n",
    "\n",
    "tmpfile = \"/tmp/test.pdb\"\n",
    "\n",
    "id = '0'\n",
    "confid = 'conf_02'\n",
    "traj = storage.get_trajectory(id, confid)\n",
    "indices = traj.top.select('resid %i' % (traj.n_residues-1))\n",
    "\n",
    "traj.save_pdb(tmpfile)\n",
    "new_trajectory = mdtraj.load_pdb(tmpfile,atom_indices=indices).center_coordinates()\n",
    "new_trajectory.save_pdb(tmpfile)\n",
    "rdkit_mol = rdkit.Chem.MolFromPDBFile(tmpfile, removeHs=False, sanitize=False)\n",
    "rdkit_mol"
   ]
  },
  {
   "cell_type": "code",
   "execution_count": 82,
   "metadata": {},
   "outputs": [],
   "source": [
    "# Import Point3D\n",
    "from rdkit.Chem import rdGeometry\n",
    "from rdkit.Chem import rdMolTransforms\n",
    "from rdkit.Chem import rdDistGeom\n",
    "from rdkit.Chem import AllChem\n",
    "from rdkit.Geometry import Point3D\n"
   ]
  },
  {
   "cell_type": "code",
   "execution_count": 84,
   "metadata": {},
   "outputs": [
    {
     "data": {
      "text/plain": [
       "False"
      ]
     },
     "execution_count": 84,
     "metadata": {},
     "output_type": "execute_result"
    }
   ],
   "source": [
    "storage.get_smiles(id) == rdkit.Chem.CanonSmiles(storage.get_smiles(id))"
   ]
  },
  {
   "cell_type": "code",
   "execution_count": 71,
   "metadata": {},
   "outputs": [
    {
     "data": {
      "text/plain": [
       "array([1.4353833, 2.6894414, 1.9270004], dtype=float32)"
      ]
     },
     "execution_count": 71,
     "metadata": {},
     "output_type": "execute_result"
    }
   ],
   "source": [
    "traj.xyz[0,0]"
   ]
  },
  {
   "cell_type": "code",
   "execution_count": null,
   "metadata": {},
   "outputs": [],
   "source": []
  },
  {
   "cell_type": "code",
   "execution_count": 132,
   "metadata": {},
   "outputs": [
    {
     "name": "stderr",
     "output_type": "stream",
     "text": [
      "[16:15:46] WARNING: More than one matching pattern found - picking one\n",
      "\n"
     ]
    }
   ],
   "source": [
    "id = '0'\n",
    "confid = 'conf_02'\n",
    "traj = storage.get_trajectory(id, confid)\n",
    "indices = traj.top.select('resid %i' % (traj.n_residues-1))\n",
    "mol = Chem.MolFromSmiles(storage.get_smiles(id))\n",
    "smiles = Chem.MolToSmiles(mol)\n",
    "mol = Chem.MolFromSmiles(smiles)\n",
    "\n",
    "\n",
    "indices = traj.top.select('resid %i' % (traj.n_residues-1))\n",
    "traj.save_pdb(tmpfile)\n",
    "new_trajectory = mdtraj.load_pdb(tmpfile,atom_indices=indices).center_coordinates()\n",
    "new_trajectory.save_pdb(tmpfile)\n",
    "rdkit_mol = rdkit.Chem.MolFromPDBFile(tmpfile, removeHs=False)\n",
    "newMol = AllChem.AssignBondOrdersFromTemplate(mol, rdkit_mol)\n",
    "\n",
    "\n",
    "# mol = rdkit.Chem.AddHs(mol)\n",
    "# rdkit.Chem.AllChem.EmbedMolecule(mol)\n",
    "\n",
    "# conf = mol.GetConformer(0)\n",
    "# for i in range(len(indices)):\n",
    "#     x,y,z = traj.xyz[0][indices[i],:]*10\n",
    "#     conf.SetAtomPosition(i, Point3D(float(x),float(y),float(z)))\n",
    "\n",
    "# for bond in mol.GetBonds():\n",
    "#     assert rdMolTransforms.GetBondLength(conf, bond.GetBeginAtomIdx(), bond.GetEndAtomIdx()) < 2.5"
   ]
  },
  {
   "cell_type": "code",
   "execution_count": 135,
   "metadata": {},
   "outputs": [
    {
     "data": {
      "image/png": "[encoded data removed]",
      "text/plain": [
       "<PIL.PngImagePlugin.PngImageFile image mode=RGB size=300x300>"
      ]
     },
     "execution_count": 135,
     "metadata": {},
     "output_type": "execute_result"
    }
   ],
   "source": [
    "rdkit.IPythonConsole.Draw.MolToImage(newMol)"
   ]
  },
  {
   "cell_type": "code",
   "execution_count": 92,
   "metadata": {},
   "outputs": [],
   "source": [
    "from rdkit.Chem import rdMolTransforms"
   ]
  },
  {
   "cell_type": "code",
   "execution_count": 96,
   "metadata": {},
   "outputs": [],
   "source": [
    "for bond in mol.GetBonds():\n",
    "    assert rdMolTransforms.GetBondLength(conf, bond.GetBeginAtomIdx(), bond.GetEndAtomIdx()) < 2.0"
   ]
  },
  {
   "cell_type": "code",
   "execution_count": 93,
   "metadata": {},
   "outputs": [
    {
     "data": {
      "text/plain": [
       "1.3649234382362994"
      ]
     },
     "execution_count": 93,
     "metadata": {},
     "output_type": "execute_result"
    }
   ],
   "source": []
  },
  {
   "cell_type": "code",
   "execution_count": 131,
   "metadata": {},
   "outputs": [
    {
     "name": "stdout",
     "output_type": "stream",
     "text": [
      "SINGLE\n",
      "AROMATIC\n",
      "AROMATIC\n",
      "AROMATIC\n",
      "AROMATIC\n",
      "SINGLE\n",
      "SINGLE\n",
      "DOUBLE\n",
      "SINGLE\n",
      "AROMATIC\n",
      "SINGLE\n",
      "AROMATIC\n",
      "AROMATIC\n",
      "AROMATIC\n",
      "AROMATIC\n",
      "SINGLE\n",
      "AROMATIC\n",
      "AROMATIC\n",
      "AROMATIC\n",
      "SINGLE\n",
      "SINGLE\n",
      "SINGLE\n",
      "SINGLE\n",
      "SINGLE\n",
      "SINGLE\n",
      "SINGLE\n",
      "SINGLE\n"
     ]
    }
   ],
   "source": [
    "for bond in mol.GetBonds():\n",
    "    print(bond.GetBondType())"
   ]
  },
  {
   "cell_type": "code",
   "execution_count": 90,
   "metadata": {},
   "outputs": [
    {
     "data": {
      "application/3dmoljs_load.v0": "<div id=\"3dmolviewer_17180269815111156\"  style=\"position: relative; width: 400px; height: 400px;\">\n        <p id=\"3dmolwarning_17180269815111156\" style=\"background-color:#ffcccc;color:black\">3Dmol.js failed to load for some reason.  Please check your browser console for error messages.<br></p>\n        </div>\n<script>\n\nvar loadScriptAsync = function(uri){\n  return new Promise((resolve, reject) => {\n    //this is to ignore the existence of requirejs amd\n    var savedexports, savedmodule;\n    if (typeof exports !== 'undefined') savedexports = exports;\n    else exports = {}\n    if (typeof module !== 'undefined') savedmodule = module;\n    else module = {}\n\n    var tag = document.createElement('script');\n    tag.src = uri;\n    tag.async = true;\n    tag.onload = () => {\n        exports = savedexports;\n        module = savedmodule;\n        resolve();\n    };\n  var firstScriptTag = document.getElementsByTagName('script')[0];\n  firstScriptTag.parentNode.insertBefore(tag, firstScriptTag);\n});\n};\n\nif(typeof $3Dmolpromise === 'undefined') {\n$3Dmolpromise = null;\n  $3Dmolpromise = loadScriptAsync('https://cdnjs.cloudflare.com/ajax/libs/3Dmol/2.1.0/3Dmol-min.js');\n}\n\nvar viewer_17180269815111156 = null;\nvar warn = document.getElementById(\"3dmolwarning_17180269815111156\");\nif(warn) {\n    warn.parentNode.removeChild(warn);\n}\n$3Dmolpromise.then(function() {\nviewer_17180269815111156 = $3Dmol.createViewer(document.getElementById(\"3dmolviewer_17180269815111156\"),{backgroundColor:\"white\"});\nviewer_17180269815111156.zoomTo();\n\tviewer_17180269815111156.removeAllModels();\n\tviewer_17180269815111156.addModel(\"\\n     RDKit          3D\\n\\n 26 27  0  0  0  0  0  0  0  0999 V2000\\n   28.5231   29.4359   19.6902 O   0  0  0  0  0  0  0  0  0  0  0  0\\n   28.7672   28.2484   20.3172 C   0  0  0  0  0  0  0  0  0  0  0  0\\n   29.7289   28.3321   21.2296 N   0  0  0  0  0  0  0  0  0  0  0  0\\n   30.1944   27.2364   21.7619 C   0  0  0  0  0  0  0  0  0  0  0  0\\n   29.6269   25.9968   21.4528 C   0  0  0  0  0  0  0  0  0  0  0  0\\n   28.4645   25.9606   20.6671 C   0  0  0  0  0  0  0  0  0  0  0  0\\n   27.6874   24.8168   20.3768 N   0  0  0  0  0  0  0  0  0  0  0  0\\n   27.4713   23.7428   21.2461 C   0  0  0  0  0  0  0  0  0  0  0  0\\n   28.0872   23.7645   22.3309 O   0  0  0  0  0  0  0  0  0  0  0  0\\n   26.7394   22.6198   20.9176 C   0  0  0  0  0  0  0  0  0  0  0  0\\n   27.1303   21.9485   19.7132 C   0  0  0  0  0  0  0  0  0  0  0  0\\n   28.3980   22.5634   18.6465 Cl  0  0  0  0  0  0  0  0  0  0  0  0\\n   26.4396   20.8255   19.3459 C   0  0  0  0  0  0  0  0  0  0  0  0\\n   25.4733   20.2465   20.1290 C   0  0  0  0  0  0  0  0  0  0  0  0\\n   24.9934   20.9923   21.2327 C   0  0  0  0  0  0  0  0  0  0  0  0\\n   25.6558   22.1323   21.6877 C   0  0  0  0  0  0  0  0  0  0  0  0\\n   25.2142   22.8556   23.1725 Cl  0  0  0  0  0  0  0  0  0  0  0  0\\n   28.0561   27.0955   20.0966 C   0  0  0  0  0  0  0  0  0  0  0  0\\n   29.3786   29.8966   19.6850 H   0  0  0  0  0  0  0  0  0  0  0  0\\n   31.0919   27.2532   22.3720 H   0  0  0  0  0  0  0  0  0  0  0  0\\n   29.9212   25.0752   21.9448 H   0  0  0  0  0  0  0  0  0  0  0  0\\n   27.0867   24.8894   19.5563 H   0  0  0  0  0  0  0  0  0  0  0  0\\n   26.8374   20.3545   18.4526 H   0  0  0  0  0  0  0  0  0  0  0  0\\n   25.1609   19.2601   19.8012 H   0  0  0  0  0  0  0  0  0  0  0  0\\n   24.1557   20.5656   21.7751 H   0  0  0  0  0  0  0  0  0  0  0  0\\n   27.2385   27.0806   19.3829 H   0  0  0  0  0  0  0  0  0  0  0  0\\n  1  2  1  0\\n  2  3  2  0\\n  3  4  1  0\\n  4  5  2  0\\n  5  6  1  0\\n  6  7  1  0\\n  7  8  1  0\\n  8  9  2  0\\n  8 10  1  0\\n 10 11  2  0\\n 11 12  1  0\\n 11 13  1  0\\n 13 14  2  0\\n 14 15  1  0\\n 15 16  2  0\\n 16 17  1  0\\n  6 18  2  0\\n 18  2  1  0\\n 16 10  1  0\\n  1 19  1  0\\n  4 20  1  0\\n  5 21  1  0\\n  7 22  1  0\\n 13 23  1  0\\n 14 24  1  0\\n 15 25  1  0\\n 18 26  1  0\\nM  END\\n\",\"sdf\");\n\tviewer_17180269815111156.setStyle({\"stick\": {}});\n\tviewer_17180269815111156.setBackgroundColor(\"0xeeeeee\");\n\tviewer_17180269815111156.zoomTo();\nviewer_17180269815111156.render();\n});\n</script>",
      "text/html": [
       "<div id=\"3dmolviewer_17180269815111156\"  style=\"position: relative; width: 400px; height: 400px;\">\n",
       "        <p id=\"3dmolwarning_17180269815111156\" style=\"background-color:#ffcccc;color:black\">3Dmol.js failed to load for some reason.  Please check your browser console for error messages.<br></p>\n",
       "        </div>\n",
       "<script>\n",
       "\n",
       "var loadScriptAsync = function(uri){\n",
       "  return new Promise((resolve, reject) => {\n",
       "    //this is to ignore the existence of requirejs amd\n",
       "    var savedexports, savedmodule;\n",
       "    if (typeof exports !== 'undefined') savedexports = exports;\n",
       "    else exports = {}\n",
       "    if (typeof module !== 'undefined') savedmodule = module;\n",
       "    else module = {}\n",
       "\n",
       "    var tag = document.createElement('script');\n",
       "    tag.src = uri;\n",
       "    tag.async = true;\n",
       "    tag.onload = () => {\n",
       "        exports = savedexports;\n",
       "        module = savedmodule;\n",
       "        resolve();\n",
       "    };\n",
       "  var firstScriptTag = document.getElementsByTagName('script')[0];\n",
       "  firstScriptTag.parentNode.insertBefore(tag, firstScriptTag);\n",
       "});\n",
       "};\n",
       "\n",
       "if(typeof $3Dmolpromise === 'undefined') {\n",
       "$3Dmolpromise = null;\n",
       "  $3Dmolpromise = loadScriptAsync('https://cdnjs.cloudflare.com/ajax/libs/3Dmol/2.1.0/3Dmol-min.js');\n",
       "}\n",
       "\n",
       "var viewer_17180269815111156 = null;\n",
       "var warn = document.getElementById(\"3dmolwarning_17180269815111156\");\n",
       "if(warn) {\n",
       "    warn.parentNode.removeChild(warn);\n",
       "}\n",
       "$3Dmolpromise.then(function() {\n",
       "viewer_17180269815111156 = $3Dmol.createViewer(document.getElementById(\"3dmolviewer_17180269815111156\"),{backgroundColor:\"white\"});\n",
       "viewer_17180269815111156.zoomTo();\n",
       "\tviewer_17180269815111156.removeAllModels();\n",
       "\tviewer_17180269815111156.addModel(\"\\n     RDKit          3D\\n\\n 26 27  0  0  0  0  0  0  0  0999 V2000\\n   28.5231   29.4359   19.6902 O   0  0  0  0  0  0  0  0  0  0  0  0\\n   28.7672   28.2484   20.3172 C   0  0  0  0  0  0  0  0  0  0  0  0\\n   29.7289   28.3321   21.2296 N   0  0  0  0  0  0  0  0  0  0  0  0\\n   30.1944   27.2364   21.7619 C   0  0  0  0  0  0  0  0  0  0  0  0\\n   29.6269   25.9968   21.4528 C   0  0  0  0  0  0  0  0  0  0  0  0\\n   28.4645   25.9606   20.6671 C   0  0  0  0  0  0  0  0  0  0  0  0\\n   27.6874   24.8168   20.3768 N   0  0  0  0  0  0  0  0  0  0  0  0\\n   27.4713   23.7428   21.2461 C   0  0  0  0  0  0  0  0  0  0  0  0\\n   28.0872   23.7645   22.3309 O   0  0  0  0  0  0  0  0  0  0  0  0\\n   26.7394   22.6198   20.9176 C   0  0  0  0  0  0  0  0  0  0  0  0\\n   27.1303   21.9485   19.7132 C   0  0  0  0  0  0  0  0  0  0  0  0\\n   28.3980   22.5634   18.6465 Cl  0  0  0  0  0  0  0  0  0  0  0  0\\n   26.4396   20.8255   19.3459 C   0  0  0  0  0  0  0  0  0  0  0  0\\n   25.4733   20.2465   20.1290 C   0  0  0  0  0  0  0  0  0  0  0  0\\n   24.9934   20.9923   21.2327 C   0  0  0  0  0  0  0  0  0  0  0  0\\n   25.6558   22.1323   21.6877 C   0  0  0  0  0  0  0  0  0  0  0  0\\n   25.2142   22.8556   23.1725 Cl  0  0  0  0  0  0  0  0  0  0  0  0\\n   28.0561   27.0955   20.0966 C   0  0  0  0  0  0  0  0  0  0  0  0\\n   29.3786   29.8966   19.6850 H   0  0  0  0  0  0  0  0  0  0  0  0\\n   31.0919   27.2532   22.3720 H   0  0  0  0  0  0  0  0  0  0  0  0\\n   29.9212   25.0752   21.9448 H   0  0  0  0  0  0  0  0  0  0  0  0\\n   27.0867   24.8894   19.5563 H   0  0  0  0  0  0  0  0  0  0  0  0\\n   26.8374   20.3545   18.4526 H   0  0  0  0  0  0  0  0  0  0  0  0\\n   25.1609   19.2601   19.8012 H   0  0  0  0  0  0  0  0  0  0  0  0\\n   24.1557   20.5656   21.7751 H   0  0  0  0  0  0  0  0  0  0  0  0\\n   27.2385   27.0806   19.3829 H   0  0  0  0  0  0  0  0  0  0  0  0\\n  1  2  1  0\\n  2  3  2  0\\n  3  4  1  0\\n  4  5  2  0\\n  5  6  1  0\\n  6  7  1  0\\n  7  8  1  0\\n  8  9  2  0\\n  8 10  1  0\\n 10 11  2  0\\n 11 12  1  0\\n 11 13  1  0\\n 13 14  2  0\\n 14 15  1  0\\n 15 16  2  0\\n 16 17  1  0\\n  6 18  2  0\\n 18  2  1  0\\n 16 10  1  0\\n  1 19  1  0\\n  4 20  1  0\\n  5 21  1  0\\n  7 22  1  0\\n 13 23  1  0\\n 14 24  1  0\\n 15 25  1  0\\n 18 26  1  0\\nM  END\\n\",\"sdf\");\n",
       "\tviewer_17180269815111156.setStyle({\"stick\": {}});\n",
       "\tviewer_17180269815111156.setBackgroundColor(\"0xeeeeee\");\n",
       "\tviewer_17180269815111156.zoomTo();\n",
       "viewer_17180269815111156.render();\n",
       "});\n",
       "</script>"
      ]
     },
     "metadata": {},
     "output_type": "display_data"
    }
   ],
   "source": [
    "rdkit.Chem.Draw.IPythonConsole.drawMol3D(mol)"
   ]
  },
  {
   "cell_type": "code",
   "execution_count": 36,
   "metadata": {},
   "outputs": [
    {
     "data": {
      "text/plain": [
       "'[H]OC([H])([H])C1([H])SC([H])(N2C([H])C(C([H])C([H])[H])C(O)N([H])C2O)C([H])([H])C1([H])O[H]'"
      ]
     },
     "execution_count": 36,
     "metadata": {},
     "output_type": "execute_result"
    }
   ],
   "source": [
    "Chem.MolToSmiles(rdkit_mol)"
   ]
  },
  {
   "cell_type": "code",
   "execution_count": 32,
   "metadata": {},
   "outputs": [
    {
     "data": {
      "text/plain": [
       "'[H]OC([H])([H])C1([H])SC([H])(N2C([H])C(C([H])C([H])[H])C(O)N([H])C2O)C([H])([H])C1([H])O[H] |(2.366,-0.743,-1.662;2.952,-1.455,-1.969;2.283,-2.727,-1.973;2.019,-3.004,-2.998;2.985,-3.524,-1.714;1.127,-2.628,-1.002;0.819,-3.589,-0.581;1.615,-1.726,0.445;-0.064,-0.938,0.602;-0.388,-1.152,1.625;0.006,0.534,0.557;-0.815,1.17,1.513;-1.313,0.584,2.279;-0.792,2.533,1.542;-1.677,3.331,2.481;-1.813,4.404,2.399;-2.46,2.772,3.436;-2.975,3.377,4.176;-2.503,1.701,3.605;0.078,3.305,0.592;0.185,4.503,0.554;0.709,2.554,-0.408;1.364,3.073,-0.991;0.643,1.221,-0.46;1.17,0.783,-1.412;-1.017,-1.535,-0.412;-1.49,-2.418,0.029;-1.774,-0.796,-0.689;-0.181,-2.077,-1.605;0.067,-1.21,-2.224;-0.844,-3.025,-2.498;-0.285,-3.29,-3.248)|'"
      ]
     },
     "execution_count": 32,
     "metadata": {},
     "output_type": "execute_result"
    }
   ],
   "source": [
    "Chem.MolToCXSmiles(rdkit_mol)"
   ]
  },
  {
   "cell_type": "code",
   "execution_count": 30,
   "metadata": {},
   "outputs": [
    {
     "ename": "AttributeError",
     "evalue": "module 'rdkit.Chem' has no attribute 'MolFromCXSmiles'",
     "output_type": "error",
     "traceback": [
      "\u001b[0;31m---------------------------------------------------------------------------\u001b[0m",
      "\u001b[0;31mAttributeError\u001b[0m                            Traceback (most recent call last)",
      "Cell \u001b[0;32mIn[30], line 1\u001b[0m\n\u001b[0;32m----> 1\u001b[0m \u001b[43mChem\u001b[49m\u001b[38;5;241;43m.\u001b[39;49m\u001b[43mMolFromCXSmiles\u001b[49m(\u001b[38;5;124m\"\u001b[39m\u001b[38;5;124mCC|(0,0,0,1,1,1)\u001b[39m\u001b[38;5;124m\"\u001b[39m)\n",
      "\u001b[0;31mAttributeError\u001b[0m: module 'rdkit.Chem' has no attribute 'MolFromCXSmiles'"
     ]
    }
   ],
   "source": [
    "Chem.MolFromCXSmiles(\"CC|(0,0,0,1,1,1)\")"
   ]
  },
  {
   "cell_type": "code",
   "execution_count": null,
   "metadata": {},
   "outputs": [],
   "source": []
  },
  {
   "cell_type": "code",
   "execution_count": 20,
   "metadata": {},
   "outputs": [],
   "source": [
    "from rdkit import Chem"
   ]
  },
  {
   "cell_type": "code",
   "execution_count": 27,
   "metadata": {},
   "outputs": [
    {
     "data": {
      "text/plain": [
       "'/tmp/test.pdb'"
      ]
     },
     "execution_count": 27,
     "metadata": {},
     "output_type": "execute_result"
    }
   ],
   "source": [
    "tmpfile"
   ]
  },
  {
   "cell_type": "code",
   "execution_count": 25,
   "metadata": {},
   "outputs": [
    {
     "name": "stderr",
     "output_type": "stream",
     "text": [
      "[15:11:23] \n",
      "\n",
      "****\n",
      "Post-condition Violation\n",
      "Element 'CL1' not found\n",
      "Violation occurred on line 93 in file /home/conda/feedstock_root/build_artifacts/rdkit_1692275722171/work/Code/GraphMol/PeriodicTable.h\n",
      "Failed Expression: anum > -1\n",
      "****\n",
      "\n",
      "[15:11:23] Element 'CL1' not found\n"
     ]
    }
   ],
   "source": [
    "traj.save_xyz(tmpfile)\n",
    "rdkit_mol = Chem.MolFromXYZFile(tmpfile)"
   ]
  },
  {
   "cell_type": "code",
   "execution_count": 26,
   "metadata": {},
   "outputs": [
    {
     "ename": "AttributeError",
     "evalue": "'NoneType' object has no attribute 'GetNumAtoms'",
     "output_type": "error",
     "traceback": [
      "\u001b[0;31m---------------------------------------------------------------------------\u001b[0m",
      "\u001b[0;31mTypeError\u001b[0m                                 Traceback (most recent call last)",
      "File \u001b[0;32m/localhome/kpaul/.conda/envs/newest_pyg_ot14/lib/python3.10/site-packages/rdkit/Chem/Draw/IPythonConsole.py:76\u001b[0m, in \u001b[0;36mdrawMol3D\u001b[0;34m(m, view, confId, drawAs, bgColor, size)\u001b[0m\n\u001b[1;32m     75\u001b[0m \u001b[38;5;28;01mtry\u001b[39;00m:\n\u001b[0;32m---> 76\u001b[0m   ms \u001b[38;5;241m=\u001b[39m \u001b[38;5;28;43miter\u001b[39;49m\u001b[43m(\u001b[49m\u001b[43mm\u001b[49m\u001b[43m)\u001b[49m\n\u001b[1;32m     77\u001b[0m   \u001b[38;5;28;01mfor\u001b[39;00m m \u001b[38;5;129;01min\u001b[39;00m ms:\n",
      "\u001b[0;31mTypeError\u001b[0m: 'NoneType' object is not iterable",
      "\nDuring handling of the above exception, another exception occurred:\n",
      "\u001b[0;31mAttributeError\u001b[0m                            Traceback (most recent call last)",
      "Cell \u001b[0;32mIn[26], line 1\u001b[0m\n\u001b[0;32m----> 1\u001b[0m \u001b[43mrdkit\u001b[49m\u001b[38;5;241;43m.\u001b[39;49m\u001b[43mChem\u001b[49m\u001b[38;5;241;43m.\u001b[39;49m\u001b[43mDraw\u001b[49m\u001b[38;5;241;43m.\u001b[39;49m\u001b[43mIPythonConsole\u001b[49m\u001b[38;5;241;43m.\u001b[39;49m\u001b[43mdrawMol3D\u001b[49m\u001b[43m(\u001b[49m\u001b[43mrdkit_mol\u001b[49m\u001b[43m)\u001b[49m\n",
      "File \u001b[0;32m/localhome/kpaul/.conda/envs/newest_pyg_ot14/lib/python3.10/site-packages/rdkit/Chem/Draw/IPythonConsole.py:80\u001b[0m, in \u001b[0;36mdrawMol3D\u001b[0;34m(m, view, confId, drawAs, bgColor, size)\u001b[0m\n\u001b[1;32m     78\u001b[0m     addMolToView(m, view, confId, drawAs)\n\u001b[1;32m     79\u001b[0m \u001b[38;5;28;01mexcept\u001b[39;00m \u001b[38;5;167;01mTypeError\u001b[39;00m:\n\u001b[0;32m---> 80\u001b[0m   \u001b[43maddMolToView\u001b[49m\u001b[43m(\u001b[49m\u001b[43mm\u001b[49m\u001b[43m,\u001b[49m\u001b[43m \u001b[49m\u001b[43mview\u001b[49m\u001b[43m,\u001b[49m\u001b[43m \u001b[49m\u001b[43mconfId\u001b[49m\u001b[43m,\u001b[49m\u001b[43m \u001b[49m\u001b[43mdrawAs\u001b[49m\u001b[43m)\u001b[49m\n\u001b[1;32m     81\u001b[0m view\u001b[38;5;241m.\u001b[39msetBackgroundColor(bgColor)\n\u001b[1;32m     82\u001b[0m view\u001b[38;5;241m.\u001b[39mzoomTo()\n",
      "File \u001b[0;32m/localhome/kpaul/.conda/envs/newest_pyg_ot14/lib/python3.10/site-packages/rdkit/Chem/Draw/IPythonConsole.py:52\u001b[0m, in \u001b[0;36maddMolToView\u001b[0;34m(mol, view, confId, drawAs)\u001b[0m\n\u001b[1;32m     51\u001b[0m \u001b[38;5;28;01mdef\u001b[39;00m \u001b[38;5;21maddMolToView\u001b[39m(mol, view, confId\u001b[38;5;241m=\u001b[39m\u001b[38;5;241m-\u001b[39m\u001b[38;5;241m1\u001b[39m, drawAs\u001b[38;5;241m=\u001b[39m\u001b[38;5;28;01mNone\u001b[39;00m):\n\u001b[0;32m---> 52\u001b[0m   \u001b[38;5;28;01mif\u001b[39;00m \u001b[43mmol\u001b[49m\u001b[38;5;241;43m.\u001b[39;49m\u001b[43mGetNumAtoms\u001b[49m() \u001b[38;5;241m>\u001b[39m\u001b[38;5;241m=\u001b[39m \u001b[38;5;241m999\u001b[39m \u001b[38;5;129;01mor\u001b[39;00m drawAs \u001b[38;5;241m==\u001b[39m \u001b[38;5;124m'\u001b[39m\u001b[38;5;124mcartoon\u001b[39m\u001b[38;5;124m'\u001b[39m:\n\u001b[1;32m     53\u001b[0m     \u001b[38;5;66;03m# py3DMol is happier with TER and MASTER records present\u001b[39;00m\n\u001b[1;32m     54\u001b[0m     pdb \u001b[38;5;241m=\u001b[39m Chem\u001b[38;5;241m.\u001b[39mMolToPDBBlock(mol, flavor\u001b[38;5;241m=\u001b[39m\u001b[38;5;241m0x20\u001b[39m \u001b[38;5;241m|\u001b[39m \u001b[38;5;241m0x10\u001b[39m)\n\u001b[1;32m     55\u001b[0m     view\u001b[38;5;241m.\u001b[39maddModel(pdb, \u001b[38;5;124m'\u001b[39m\u001b[38;5;124mpdb\u001b[39m\u001b[38;5;124m'\u001b[39m)\n",
      "\u001b[0;31mAttributeError\u001b[0m: 'NoneType' object has no attribute 'GetNumAtoms'"
     ]
    }
   ],
   "source": [
    "rdkit.Chem.Draw.IPythonConsole.drawMol3D(rdkit_mol)"
   ]
  },
  {
   "cell_type": "code",
   "execution_count": 11,
   "metadata": {},
   "outputs": [
    {
     "data": {
      "application/vnd.jupyter.widget-view+json": {
       "model_id": "54b38634b51e456e8c1ac4c4b9514cb7",
       "version_major": 2,
       "version_minor": 0
      },
      "text/plain": [
       "NGLWidget()"
      ]
     },
     "metadata": {},
     "output_type": "display_data"
    }
   ],
   "source": [
    "nglview.show_rdkit(rdkit_mol)"
   ]
  },
  {
   "cell_type": "code",
   "execution_count": 81,
   "metadata": {},
   "outputs": [],
   "source": [
    "storage = hdf5_storage('/tmp/ClC(Cl)Cl_small_molecules_n_50_id_89_seed_161311.hdf5')\n",
    "mcdict = storage.get_molids_and_confids()"
   ]
  },
  {
   "cell_type": "code",
   "execution_count": 86,
   "metadata": {},
   "outputs": [
    {
     "data": {
      "text/plain": [
       "{'0': ['0'],\n",
       " '1': ['0'],\n",
       " '10': ['0'],\n",
       " '11': ['0'],\n",
       " '12': ['0'],\n",
       " '13': ['0'],\n",
       " '14': ['0'],\n",
       " '15': ['0'],\n",
       " '16': ['0'],\n",
       " '17': ['0'],\n",
       " '18': ['0'],\n",
       " '19': ['0'],\n",
       " '2': ['0'],\n",
       " '20': ['0'],\n",
       " '21': ['0'],\n",
       " '22': ['0'],\n",
       " '23': ['0'],\n",
       " '24': ['0'],\n",
       " '25': ['0'],\n",
       " '26': ['0'],\n",
       " '27': ['0'],\n",
       " '28': ['0'],\n",
       " '29': ['0'],\n",
       " '3': ['0'],\n",
       " '30': ['0'],\n",
       " '31': ['0'],\n",
       " '32': ['0'],\n",
       " '33': ['0'],\n",
       " '34': ['0'],\n",
       " '35': ['0'],\n",
       " '36': ['0'],\n",
       " '37': ['0'],\n",
       " '38': ['0'],\n",
       " '39': ['0'],\n",
       " '4': ['0'],\n",
       " '40': ['0'],\n",
       " '41': ['0'],\n",
       " '42': ['0'],\n",
       " '43': ['0'],\n",
       " '44': ['0'],\n",
       " '45': ['0'],\n",
       " '46': ['0'],\n",
       " '47': ['0'],\n",
       " '48': ['0'],\n",
       " '49': ['0'],\n",
       " '5': ['0'],\n",
       " '6': ['0'],\n",
       " '7': ['0'],\n",
       " '8': ['0'],\n",
       " '9': ['0']}"
      ]
     },
     "execution_count": 86,
     "metadata": {},
     "output_type": "execute_result"
    }
   ],
   "source": [
    "mcdict"
   ]
  },
  {
   "cell_type": "code",
   "execution_count": 82,
   "metadata": {},
   "outputs": [],
   "source": [
    "import io"
   ]
  },
  {
   "cell_type": "code",
   "execution_count": 83,
   "metadata": {},
   "outputs": [],
   "source": [
    "tmpfile = \"/tmp/test.pdb\""
   ]
  },
  {
   "cell_type": "code",
   "execution_count": 87,
   "metadata": {},
   "outputs": [
    {
     "name": "stdout",
     "output_type": "stream",
     "text": [
      "END\n"
     ]
    }
   ],
   "source": [
    "id = '3'\n",
    "confid = '0'\n",
    "traj = storage.get_trajectory(id, confid)\n",
    "indices = traj.top.select('resid %i' % (traj.n_residues-1))\n",
    "\n",
    "traj.save_pdb(tmpfile)\n",
    "new_trajectory = mdtraj.load_pdb(tmpfile,atom_indices=indices).center_coordinates()\n",
    "new_trajectory.save_pdb(tmpfile)\n",
    "rdkit_mol = rdkit.Chem.MolFromPDBFile(tmpfile, removeHs=False)"
   ]
  },
  {
   "cell_type": "code",
   "execution_count": 88,
   "metadata": {},
   "outputs": [
    {
     "data": {
      "text/plain": [
       "25"
      ]
     },
     "execution_count": 88,
     "metadata": {},
     "output_type": "execute_result"
    }
   ],
   "source": [
    "rdkit_mol.GetNumConformers()"
   ]
  },
  {
   "cell_type": "code",
   "execution_count": 89,
   "metadata": {},
   "outputs": [
    {
     "data": {
      "application/vnd.jupyter.widget-view+json": {
       "model_id": "eb4e9451538a4f0ca0332fd6042c5aae",
       "version_major": 2,
       "version_minor": 0
      },
      "text/plain": [
       "NGLWidget()"
      ]
     },
     "metadata": {},
     "output_type": "display_data"
    }
   ],
   "source": [
    "nglview.show_rdkit(rdkit_mol)"
   ]
  },
  {
   "cell_type": "code",
   "execution_count": 52,
   "metadata": {},
   "outputs": [
    {
     "data": {
      "text/plain": [
       "array([2424, 2425, 2426, 2427, 2428, 2429, 2430, 2431, 2432, 2433, 2434,\n",
       "       2435, 2436, 2437, 2438, 2439, 2440, 2441, 2442, 2443, 2444, 2445,\n",
       "       2446, 2447, 2448, 2449])"
      ]
     },
     "execution_count": 52,
     "metadata": {},
     "output_type": "execute_result"
    }
   ],
   "source": []
  },
  {
   "cell_type": "code",
   "execution_count": 54,
   "metadata": {},
   "outputs": [
    {
     "data": {
      "text/plain": [
       "array([[[ 0.91573834,  0.9327925 ,  2.4541643 ],\n",
       "        [ 0.9193263 ,  0.8780598 ,  2.5326097 ],\n",
       "        [ 0.822336  ,  0.953441  ,  2.4507055 ],\n",
       "        ...,\n",
       "        [ 2.5160944 ,  1.9260145 ,  1.9801213 ],\n",
       "        [ 2.415574  ,  2.0565596 ,  2.177512  ],\n",
       "        [ 2.723849  ,  2.7080648 ,  1.9382894 ]],\n",
       "\n",
       "       [[ 0.84111285,  1.2054324 ,  2.3318088 ],\n",
       "        [ 0.8212699 ,  1.1564621 ,  2.4116242 ],\n",
       "        [ 0.75094944,  1.22086   ,  2.3036153 ],\n",
       "        ...,\n",
       "        [ 2.474987  ,  2.0432248 ,  1.6817634 ],\n",
       "        [ 2.391162  ,  2.2326987 ,  1.8125645 ],\n",
       "        [ 2.7956793 ,  2.758197  ,  1.5749756 ]],\n",
       "\n",
       "       [[ 0.9850107 ,  0.7647221 ,  2.3648415 ],\n",
       "        [ 0.9180021 ,  0.7849637 ,  2.2995546 ],\n",
       "        [ 0.954788  ,  0.6818979 ,  2.4021115 ],\n",
       "        ...,\n",
       "        [ 2.4734087 ,  2.1087291 ,  1.6459508 ],\n",
       "        [ 2.5086462 ,  2.2584472 ,  1.4555689 ],\n",
       "        [ 2.8486695 ,  2.7545671 ,  1.4287969 ]],\n",
       "\n",
       "       ...,\n",
       "\n",
       "       [[ 0.42651668,  1.118562  ,  1.0661521 ],\n",
       "        [ 0.49658352,  1.0553852 ,  1.0499762 ],\n",
       "        [ 0.45180252,  1.1973076 ,  1.0179641 ],\n",
       "        ...,\n",
       "        [ 0.28698286,  0.34066203,  1.9723194 ],\n",
       "        [ 0.53022516,  0.3302793 ,  1.9023534 ],\n",
       "        [ 0.61005795, -0.107683  ,  2.5526412 ]],\n",
       "\n",
       "       [[ 0.73471963,  1.8209472 ,  1.4911598 ],\n",
       "        [ 0.6573098 ,  1.7709541 ,  1.5170581 ],\n",
       "        [ 0.80850327,  1.7791948 ,  1.5356013 ],\n",
       "        ...,\n",
       "        [ 0.10540817, -0.18428303,  2.0615778 ],\n",
       "        [ 0.34239668, -0.2669801 ,  2.0890992 ],\n",
       "        [ 0.5917301 ,  0.06921235,  2.5861218 ]],\n",
       "\n",
       "       [[ 1.2691517 ,  1.8522916 ,  1.6161406 ],\n",
       "        [ 1.3110878 ,  1.8354105 ,  1.700513  ],\n",
       "        [ 1.1827072 ,  1.8112533 ,  1.613789  ],\n",
       "        ...,\n",
       "        [ 0.1228628 ,  0.58556706,  2.5828915 ],\n",
       "        [ 0.06799188,  0.43465817,  2.3784027 ],\n",
       "        [ 0.7088443 ,  0.11809075,  2.5887773 ]]], dtype=float32)"
      ]
     },
     "execution_count": 54,
     "metadata": {},
     "output_type": "execute_result"
    }
   ],
   "source": [
    "traj.xyz"
   ]
  },
  {
   "cell_type": "code",
   "execution_count": 55,
   "metadata": {},
   "outputs": [],
   "source": [
    "indices = traj.top.select('resid %i' % (traj.n_residues-1))\n",
    "new_trajectory = mdtraj.Trajectory(traj.xyz[:,indices],topology=traj.top.subset(indices))"
   ]
  },
  {
   "cell_type": "code",
   "execution_count": 51,
   "metadata": {},
   "outputs": [
    {
     "data": {
      "text/plain": [
       "25"
      ]
     },
     "execution_count": 51,
     "metadata": {},
     "output_type": "execute_result"
    }
   ],
   "source": [
    "rdkit_mol.GetNumConformers()"
   ]
  },
  {
   "cell_type": "code",
   "execution_count": 37,
   "metadata": {},
   "outputs": [
    {
     "data": {
      "text/plain": [
       "array([2424, 2425, 2426, 2427, 2428, 2429, 2430, 2431, 2432, 2433, 2434,\n",
       "       2435, 2436, 2437, 2438, 2439, 2440, 2441, 2442, 2443, 2444, 2445,\n",
       "       2446, 2447, 2448, 2449])"
      ]
     },
     "execution_count": 37,
     "metadata": {},
     "output_type": "execute_result"
    }
   ],
   "source": []
  },
  {
   "cell_type": "code",
   "execution_count": 38,
   "metadata": {},
   "outputs": [
    {
     "data": {
      "text/plain": [
       "2450"
      ]
     },
     "execution_count": 38,
     "metadata": {},
     "output_type": "execute_result"
    }
   ],
   "source": [
    "traj.n_atoms"
   ]
  },
  {
   "cell_type": "code",
   "execution_count": 34,
   "metadata": {},
   "outputs": [],
   "source": [
    "molecular_traj = traj.atom_slice()"
   ]
  },
  {
   "cell_type": "code",
   "execution_count": 39,
   "metadata": {},
   "outputs": [
    {
     "data": {
      "text/plain": [
       "<mdtraj.Topology with 1 chains, 1 residues, 26 atoms, 27 bonds at 0x7587b0604d00>"
      ]
     },
     "execution_count": 39,
     "metadata": {},
     "output_type": "execute_result"
    }
   ],
   "source": []
  },
  {
   "cell_type": "code",
   "execution_count": 36,
   "metadata": {},
   "outputs": [
    {
     "ename": "TypeError",
     "evalue": "not all arguments converted during string formatting",
     "output_type": "error",
     "traceback": [
      "\u001b[0;31m---------------------------------------------------------------------------\u001b[0m",
      "\u001b[0;31mTypeError\u001b[0m                                 Traceback (most recent call last)",
      "Cell \u001b[0;32mIn[36], line 1\u001b[0m\n\u001b[0;32m----> 1\u001b[0m \u001b[43mmolecular_traj\u001b[49m\u001b[38;5;241;43m.\u001b[39;49m\u001b[43msave_pdb\u001b[49m\u001b[43m(\u001b[49m\u001b[38;5;124;43m'\u001b[39;49m\u001b[38;5;124;43m/tmp/molecular_traj.pdb\u001b[39;49m\u001b[38;5;124;43m'\u001b[39;49m\u001b[43m)\u001b[49m\n\u001b[1;32m      2\u001b[0m rdkit_mol \u001b[38;5;241m=\u001b[39m rdkit\u001b[38;5;241m.\u001b[39mChem\u001b[38;5;241m.\u001b[39mMolFromPDBFile(\u001b[38;5;124m'\u001b[39m\u001b[38;5;124m/tmp/molecular_traj.pdb\u001b[39m\u001b[38;5;124m'\u001b[39m)\n",
      "File \u001b[0;32m/localhome/kpaul/.conda/envs/newest_pyg_ot14/lib/python3.10/site-packages/mdtraj/core/trajectory.py:1466\u001b[0m, in \u001b[0;36mTrajectory.save_pdb\u001b[0;34m(self, filename, force_overwrite, bfactors)\u001b[0m\n\u001b[1;32m   1463\u001b[0m \u001b[38;5;28;01mfor\u001b[39;00m i \u001b[38;5;129;01min\u001b[39;00m xrange(\u001b[38;5;28mself\u001b[39m\u001b[38;5;241m.\u001b[39mn_frames):\n\u001b[1;32m   1465\u001b[0m     \u001b[38;5;28;01mif\u001b[39;00m \u001b[38;5;28mself\u001b[39m\u001b[38;5;241m.\u001b[39m_have_unitcell:\n\u001b[0;32m-> 1466\u001b[0m         \u001b[43mf\u001b[49m\u001b[38;5;241;43m.\u001b[39;49m\u001b[43mwrite\u001b[49m\u001b[43m(\u001b[49m\u001b[43min_units_of\u001b[49m\u001b[43m(\u001b[49m\u001b[38;5;28;43mself\u001b[39;49m\u001b[38;5;241;43m.\u001b[39;49m\u001b[43m_xyz\u001b[49m\u001b[43m[\u001b[49m\u001b[43mi\u001b[49m\u001b[43m]\u001b[49m\u001b[43m,\u001b[49m\u001b[43m \u001b[49m\u001b[43mTrajectory\u001b[49m\u001b[38;5;241;43m.\u001b[39;49m\u001b[43m_distance_unit\u001b[49m\u001b[43m,\u001b[49m\u001b[43m \u001b[49m\u001b[43mf\u001b[49m\u001b[38;5;241;43m.\u001b[39;49m\u001b[43mdistance_unit\u001b[49m\u001b[43m)\u001b[49m\u001b[43m,\u001b[49m\n\u001b[1;32m   1467\u001b[0m \u001b[43m                \u001b[49m\u001b[38;5;28;43mself\u001b[39;49m\u001b[38;5;241;43m.\u001b[39;49m\u001b[43mtopology\u001b[49m\u001b[43m,\u001b[49m\n\u001b[1;32m   1468\u001b[0m \u001b[43m                \u001b[49m\u001b[43mmodelIndex\u001b[49m\u001b[38;5;241;43m=\u001b[39;49m\u001b[43mi\u001b[49m\u001b[43m,\u001b[49m\n\u001b[1;32m   1469\u001b[0m \u001b[43m                \u001b[49m\u001b[43mbfactors\u001b[49m\u001b[38;5;241;43m=\u001b[39;49m\u001b[43mbfactors\u001b[49m\u001b[43m[\u001b[49m\u001b[43mi\u001b[49m\u001b[43m]\u001b[49m\u001b[43m,\u001b[49m\n\u001b[1;32m   1470\u001b[0m \u001b[43m                \u001b[49m\u001b[43munitcell_lengths\u001b[49m\u001b[38;5;241;43m=\u001b[39;49m\u001b[43min_units_of\u001b[49m\u001b[43m(\u001b[49m\u001b[38;5;28;43mself\u001b[39;49m\u001b[38;5;241;43m.\u001b[39;49m\u001b[43munitcell_lengths\u001b[49m\u001b[43m[\u001b[49m\u001b[43mi\u001b[49m\u001b[43m]\u001b[49m\u001b[43m,\u001b[49m\u001b[43m \u001b[49m\u001b[43mTrajectory\u001b[49m\u001b[38;5;241;43m.\u001b[39;49m\u001b[43m_distance_unit\u001b[49m\u001b[43m,\u001b[49m\u001b[43m \u001b[49m\u001b[43mf\u001b[49m\u001b[38;5;241;43m.\u001b[39;49m\u001b[43mdistance_unit\u001b[49m\u001b[43m)\u001b[49m\u001b[43m,\u001b[49m\n\u001b[1;32m   1471\u001b[0m \u001b[43m                \u001b[49m\u001b[43munitcell_angles\u001b[49m\u001b[38;5;241;43m=\u001b[39;49m\u001b[38;5;28;43mself\u001b[39;49m\u001b[38;5;241;43m.\u001b[39;49m\u001b[43munitcell_angles\u001b[49m\u001b[43m[\u001b[49m\u001b[43mi\u001b[49m\u001b[43m]\u001b[49m\u001b[43m)\u001b[49m\n\u001b[1;32m   1472\u001b[0m     \u001b[38;5;28;01melse\u001b[39;00m:\n\u001b[1;32m   1473\u001b[0m         f\u001b[38;5;241m.\u001b[39mwrite(in_units_of(\u001b[38;5;28mself\u001b[39m\u001b[38;5;241m.\u001b[39m_xyz[i], Trajectory\u001b[38;5;241m.\u001b[39m_distance_unit, f\u001b[38;5;241m.\u001b[39mdistance_unit),\n\u001b[1;32m   1474\u001b[0m                 \u001b[38;5;28mself\u001b[39m\u001b[38;5;241m.\u001b[39mtopology,\n\u001b[1;32m   1475\u001b[0m                 modelIndex\u001b[38;5;241m=\u001b[39mi,\n\u001b[1;32m   1476\u001b[0m                 bfactors\u001b[38;5;241m=\u001b[39mbfactors[i])\n",
      "File \u001b[0;32m/localhome/kpaul/.conda/envs/newest_pyg_ot14/lib/python3.10/site-packages/mdtraj/formats/pdb/pdbfile.py:361\u001b[0m, in \u001b[0;36mPDBTrajectoryFile.write\u001b[0;34m(self, positions, topology, modelIndex, unitcell_lengths, unitcell_angles, bfactors)\u001b[0m\n\u001b[1;32m    358\u001b[0m \u001b[38;5;28;01melse\u001b[39;00m:\n\u001b[1;32m    359\u001b[0m     atomSerial \u001b[38;5;241m=\u001b[39m atomIndex\n\u001b[1;32m    360\u001b[0m line \u001b[38;5;241m=\u001b[39m \u001b[38;5;124m\"\u001b[39m\u001b[38;5;124mATOM  \u001b[39m\u001b[38;5;132;01m%5d\u001b[39;00m\u001b[38;5;124m \u001b[39m\u001b[38;5;132;01m%-4s\u001b[39;00m\u001b[38;5;124m \u001b[39m\u001b[38;5;132;01m%3s\u001b[39;00m\u001b[38;5;124m \u001b[39m\u001b[38;5;132;01m%1s\u001b[39;00m\u001b[38;5;132;01m%4d\u001b[39;00m\u001b[38;5;124m    \u001b[39m\u001b[38;5;132;01m%s\u001b[39;00m\u001b[38;5;132;01m%s\u001b[39;00m\u001b[38;5;132;01m%s\u001b[39;00m\u001b[38;5;124m  1.00 \u001b[39m\u001b[38;5;132;01m%5s\u001b[39;00m\u001b[38;5;124m      \u001b[39m\u001b[38;5;132;01m%-4s\u001b[39;00m\u001b[38;5;132;01m%2s\u001b[39;00m\u001b[38;5;124m  \u001b[39m\u001b[38;5;124m\"\u001b[39m \u001b[38;5;241m%\u001b[39m ( \u001b[38;5;66;03m# Right-justify atom symbol\u001b[39;00m\n\u001b[0;32m--> 361\u001b[0m     \u001b[43matomSerial\u001b[49m\u001b[43m \u001b[49m\u001b[38;5;241;43m%\u001b[39;49m\u001b[43m \u001b[49m\u001b[38;5;241;43m100000\u001b[39;49m, atomName, resName, chainName,\n\u001b[1;32m    362\u001b[0m     (res\u001b[38;5;241m.\u001b[39mresSeq) \u001b[38;5;241m%\u001b[39m \u001b[38;5;241m10000\u001b[39m, _format_83(coords[\u001b[38;5;241m0\u001b[39m]),\n\u001b[1;32m    363\u001b[0m     _format_83(coords[\u001b[38;5;241m1\u001b[39m]), _format_83(coords[\u001b[38;5;241m2\u001b[39m]),\n\u001b[1;32m    364\u001b[0m     bfactors[posIndex], atom\u001b[38;5;241m.\u001b[39msegment_id[:\u001b[38;5;241m4\u001b[39m], symbol[\u001b[38;5;241m-\u001b[39m\u001b[38;5;241m2\u001b[39m:])\n\u001b[1;32m    365\u001b[0m \u001b[38;5;28;01massert\u001b[39;00m \u001b[38;5;28mlen\u001b[39m(line) \u001b[38;5;241m==\u001b[39m \u001b[38;5;241m80\u001b[39m, \u001b[38;5;124m'\u001b[39m\u001b[38;5;124mFixed width overflow detected\u001b[39m\u001b[38;5;124m'\u001b[39m\n\u001b[1;32m    366\u001b[0m \u001b[38;5;28mprint\u001b[39m(line, file\u001b[38;5;241m=\u001b[39m\u001b[38;5;28mself\u001b[39m\u001b[38;5;241m.\u001b[39m_file)\n",
      "\u001b[0;31mTypeError\u001b[0m: not all arguments converted during string formatting"
     ]
    }
   ],
   "source": [
    "molecular_traj.save_pdb('/tmp/molecular_traj.pdb')\n",
    "rdkit_mol = rdkit.Chem.MolFromPDBFile('/tmp/molecular_traj.pdb')"
   ]
  },
  {
   "cell_type": "code",
   "execution_count": 33,
   "metadata": {},
   "outputs": [
    {
     "ename": "TypeError",
     "evalue": "not all arguments converted during string formatting",
     "output_type": "error",
     "traceback": [
      "\u001b[0;31m---------------------------------------------------------------------------\u001b[0m",
      "\u001b[0;31mTypeError\u001b[0m                                 Traceback (most recent call last)",
      "Cell \u001b[0;32mIn[33], line 2\u001b[0m\n\u001b[1;32m      1\u001b[0m \u001b[38;5;28;01mimport\u001b[39;00m \u001b[38;5;21;01mnglview\u001b[39;00m\n\u001b[0;32m----> 2\u001b[0m \u001b[43mnglview\u001b[49m\u001b[38;5;241;43m.\u001b[39;49m\u001b[43mshow_mdtraj\u001b[49m\u001b[43m(\u001b[49m\u001b[43mmolecular_traj\u001b[49m\u001b[43m[\u001b[49m\u001b[38;5;241;43m0\u001b[39;49m\u001b[43m]\u001b[49m\u001b[43m)\u001b[49m\n",
      "File \u001b[0;32m/localhome/kpaul/.conda/envs/newest_pyg_ot14/lib/python3.10/site-packages/nglview/show.py:296\u001b[0m, in \u001b[0;36mshow_mdtraj\u001b[0;34m(mdtraj_trajectory, **kwargs)\u001b[0m\n\u001b[1;32m    285\u001b[0m \u001b[38;5;250m\u001b[39m\u001b[38;5;124;03m'''Show mdtraj trajectory.\u001b[39;00m\n\u001b[1;32m    286\u001b[0m \n\u001b[1;32m    287\u001b[0m \u001b[38;5;124;03mExamples\u001b[39;00m\n\u001b[0;32m   (...)\u001b[0m\n\u001b[1;32m    293\u001b[0m \u001b[38;5;124;03m... w\u001b[39;00m\n\u001b[1;32m    294\u001b[0m \u001b[38;5;124;03m'''\u001b[39;00m\n\u001b[1;32m    295\u001b[0m structure_trajectory \u001b[38;5;241m=\u001b[39m MDTrajTrajectory(mdtraj_trajectory)\n\u001b[0;32m--> 296\u001b[0m \u001b[38;5;28;01mreturn\u001b[39;00m \u001b[43mNGLWidget\u001b[49m\u001b[43m(\u001b[49m\u001b[43mstructure_trajectory\u001b[49m\u001b[43m,\u001b[49m\u001b[43m \u001b[49m\u001b[38;5;241;43m*\u001b[39;49m\u001b[38;5;241;43m*\u001b[39;49m\u001b[43mkwargs\u001b[49m\u001b[43m)\u001b[49m\n",
      "File \u001b[0;32m/localhome/kpaul/.conda/envs/newest_pyg_ot14/lib/python3.10/site-packages/nglview/widget.py:237\u001b[0m, in \u001b[0;36mNGLWidget.__init__\u001b[0;34m(self, structure, representations, parameters, **kwargs)\u001b[0m\n\u001b[1;32m    235\u001b[0m \u001b[38;5;28;01mif\u001b[39;00m \u001b[38;5;28misinstance\u001b[39m(structure, Trajectory):\n\u001b[1;32m    236\u001b[0m     name \u001b[38;5;241m=\u001b[39m py_utils\u001b[38;5;241m.\u001b[39mget_name(structure, \u001b[38;5;241m*\u001b[39m\u001b[38;5;241m*\u001b[39mkwargs)\n\u001b[0;32m--> 237\u001b[0m     \u001b[38;5;28;43mself\u001b[39;49m\u001b[38;5;241;43m.\u001b[39;49m\u001b[43madd_trajectory\u001b[49m\u001b[43m(\u001b[49m\u001b[43mstructure\u001b[49m\u001b[43m,\u001b[49m\u001b[43m \u001b[49m\u001b[43mname\u001b[49m\u001b[38;5;241;43m=\u001b[39;49m\u001b[43mname\u001b[49m\u001b[43m,\u001b[49m\u001b[43m \u001b[49m\u001b[38;5;241;43m*\u001b[39;49m\u001b[38;5;241;43m*\u001b[39;49m\u001b[43mkwargs\u001b[49m\u001b[43m)\u001b[49m\n\u001b[1;32m    238\u001b[0m \u001b[38;5;28;01melif\u001b[39;00m \u001b[38;5;28misinstance\u001b[39m(structure, (\u001b[38;5;28mlist\u001b[39m, \u001b[38;5;28mtuple\u001b[39m)):\n\u001b[1;32m    239\u001b[0m     trajectories \u001b[38;5;241m=\u001b[39m structure\n",
      "File \u001b[0;32m/localhome/kpaul/.conda/envs/newest_pyg_ot14/lib/python3.10/site-packages/nglview/widget.py:1153\u001b[0m, in \u001b[0;36mNGLWidget.add_trajectory\u001b[0;34m(self, trajectory, **kwargs)\u001b[0m\n\u001b[1;32m   1150\u001b[0m \u001b[38;5;28;01melse\u001b[39;00m:\n\u001b[1;32m   1151\u001b[0m     trajectory \u001b[38;5;241m=\u001b[39m trajectory\n\u001b[0;32m-> 1153\u001b[0m \u001b[38;5;28;43mself\u001b[39;49m\u001b[38;5;241;43m.\u001b[39;49m\u001b[43m_load_data\u001b[49m\u001b[43m(\u001b[49m\u001b[43mtrajectory\u001b[49m\u001b[43m,\u001b[49m\u001b[43m \u001b[49m\u001b[38;5;241;43m*\u001b[39;49m\u001b[38;5;241;43m*\u001b[39;49m\u001b[43mkwargs\u001b[49m\u001b[43m)\u001b[49m\n\u001b[1;32m   1154\u001b[0m \u001b[38;5;28msetattr\u001b[39m(trajectory, \u001b[38;5;124m'\u001b[39m\u001b[38;5;124mshown\u001b[39m\u001b[38;5;124m'\u001b[39m, \u001b[38;5;28;01mTrue\u001b[39;00m)\n\u001b[1;32m   1155\u001b[0m \u001b[38;5;28mself\u001b[39m\u001b[38;5;241m.\u001b[39m_trajlist\u001b[38;5;241m.\u001b[39mappend(trajectory)\n",
      "File \u001b[0;32m/localhome/kpaul/.conda/envs/newest_pyg_ot14/lib/python3.10/site-packages/nglview/widget.py:1231\u001b[0m, in \u001b[0;36mNGLWidget._load_data\u001b[0;34m(self, obj, **kwargs)\u001b[0m\n\u001b[1;32m   1229\u001b[0m \u001b[38;5;28;01mif\u001b[39;00m \u001b[38;5;129;01mnot\u001b[39;00m is_url:\n\u001b[1;32m   1230\u001b[0m     \u001b[38;5;28;01mif\u001b[39;00m \u001b[38;5;28mhasattr\u001b[39m(obj, \u001b[38;5;124m'\u001b[39m\u001b[38;5;124mget_structure_string\u001b[39m\u001b[38;5;124m'\u001b[39m):\n\u001b[0;32m-> 1231\u001b[0m         blob \u001b[38;5;241m=\u001b[39m \u001b[43mobj\u001b[49m\u001b[38;5;241;43m.\u001b[39;49m\u001b[43mget_structure_string\u001b[49m\u001b[43m(\u001b[49m\u001b[43m)\u001b[49m\n\u001b[1;32m   1232\u001b[0m         kwargs2[\u001b[38;5;124m'\u001b[39m\u001b[38;5;124mext\u001b[39m\u001b[38;5;124m'\u001b[39m] \u001b[38;5;241m=\u001b[39m obj\u001b[38;5;241m.\u001b[39mext\n\u001b[1;32m   1233\u001b[0m         passing_buffer \u001b[38;5;241m=\u001b[39m \u001b[38;5;28;01mTrue\u001b[39;00m\n",
      "File \u001b[0;32m/localhome/kpaul/.conda/envs/newest_pyg_ot14/lib/python3.10/site-packages/nglview/adaptor.py:337\u001b[0m, in \u001b[0;36mMDTrajTrajectory.get_structure_string\u001b[0;34m(self)\u001b[0m\n\u001b[1;32m    336\u001b[0m \u001b[38;5;28;01mdef\u001b[39;00m \u001b[38;5;21mget_structure_string\u001b[39m(\u001b[38;5;28mself\u001b[39m):\n\u001b[0;32m--> 337\u001b[0m     \u001b[38;5;28;01mreturn\u001b[39;00m \u001b[43m_get_structure_string\u001b[49m\u001b[43m(\u001b[49m\u001b[38;5;28;43mself\u001b[39;49m\u001b[38;5;241;43m.\u001b[39;49m\u001b[43mtrajectory\u001b[49m\u001b[43m[\u001b[49m\u001b[38;5;241;43m0\u001b[39;49m\u001b[43m]\u001b[49m\u001b[38;5;241;43m.\u001b[39;49m\u001b[43msave_pdb\u001b[49m\u001b[43m)\u001b[49m\n",
      "File \u001b[0;32m/localhome/kpaul/.conda/envs/newest_pyg_ot14/lib/python3.10/site-packages/nglview/adaptor.py:59\u001b[0m, in \u001b[0;36m_get_structure_string\u001b[0;34m(write_method, suffix)\u001b[0m\n\u001b[1;32m     57\u001b[0m \u001b[38;5;28;01mdef\u001b[39;00m \u001b[38;5;21m_get_structure_string\u001b[39m(write_method, suffix\u001b[38;5;241m=\u001b[39m\u001b[38;5;124m'\u001b[39m\u001b[38;5;124m.pdb\u001b[39m\u001b[38;5;124m'\u001b[39m):\n\u001b[1;32m     58\u001b[0m     \u001b[38;5;28;01mwith\u001b[39;00m mkstemp_wrapper(suffix\u001b[38;5;241m=\u001b[39msuffix) \u001b[38;5;28;01mas\u001b[39;00m fname:\n\u001b[0;32m---> 59\u001b[0m         \u001b[43mwrite_method\u001b[49m\u001b[43m(\u001b[49m\u001b[43mfname\u001b[49m\u001b[43m)\u001b[49m\n\u001b[1;32m     60\u001b[0m         \u001b[38;5;28;01mwith\u001b[39;00m \u001b[38;5;28mopen\u001b[39m(fname) \u001b[38;5;28;01mas\u001b[39;00m fh:\n\u001b[1;32m     61\u001b[0m             \u001b[38;5;28;01mreturn\u001b[39;00m fh\u001b[38;5;241m.\u001b[39mread()\n",
      "File \u001b[0;32m/localhome/kpaul/.conda/envs/newest_pyg_ot14/lib/python3.10/site-packages/mdtraj/core/trajectory.py:1466\u001b[0m, in \u001b[0;36mTrajectory.save_pdb\u001b[0;34m(self, filename, force_overwrite, bfactors)\u001b[0m\n\u001b[1;32m   1463\u001b[0m \u001b[38;5;28;01mfor\u001b[39;00m i \u001b[38;5;129;01min\u001b[39;00m xrange(\u001b[38;5;28mself\u001b[39m\u001b[38;5;241m.\u001b[39mn_frames):\n\u001b[1;32m   1465\u001b[0m     \u001b[38;5;28;01mif\u001b[39;00m \u001b[38;5;28mself\u001b[39m\u001b[38;5;241m.\u001b[39m_have_unitcell:\n\u001b[0;32m-> 1466\u001b[0m         \u001b[43mf\u001b[49m\u001b[38;5;241;43m.\u001b[39;49m\u001b[43mwrite\u001b[49m\u001b[43m(\u001b[49m\u001b[43min_units_of\u001b[49m\u001b[43m(\u001b[49m\u001b[38;5;28;43mself\u001b[39;49m\u001b[38;5;241;43m.\u001b[39;49m\u001b[43m_xyz\u001b[49m\u001b[43m[\u001b[49m\u001b[43mi\u001b[49m\u001b[43m]\u001b[49m\u001b[43m,\u001b[49m\u001b[43m \u001b[49m\u001b[43mTrajectory\u001b[49m\u001b[38;5;241;43m.\u001b[39;49m\u001b[43m_distance_unit\u001b[49m\u001b[43m,\u001b[49m\u001b[43m \u001b[49m\u001b[43mf\u001b[49m\u001b[38;5;241;43m.\u001b[39;49m\u001b[43mdistance_unit\u001b[49m\u001b[43m)\u001b[49m\u001b[43m,\u001b[49m\n\u001b[1;32m   1467\u001b[0m \u001b[43m                \u001b[49m\u001b[38;5;28;43mself\u001b[39;49m\u001b[38;5;241;43m.\u001b[39;49m\u001b[43mtopology\u001b[49m\u001b[43m,\u001b[49m\n\u001b[1;32m   1468\u001b[0m \u001b[43m                \u001b[49m\u001b[43mmodelIndex\u001b[49m\u001b[38;5;241;43m=\u001b[39;49m\u001b[43mi\u001b[49m\u001b[43m,\u001b[49m\n\u001b[1;32m   1469\u001b[0m \u001b[43m                \u001b[49m\u001b[43mbfactors\u001b[49m\u001b[38;5;241;43m=\u001b[39;49m\u001b[43mbfactors\u001b[49m\u001b[43m[\u001b[49m\u001b[43mi\u001b[49m\u001b[43m]\u001b[49m\u001b[43m,\u001b[49m\n\u001b[1;32m   1470\u001b[0m \u001b[43m                \u001b[49m\u001b[43munitcell_lengths\u001b[49m\u001b[38;5;241;43m=\u001b[39;49m\u001b[43min_units_of\u001b[49m\u001b[43m(\u001b[49m\u001b[38;5;28;43mself\u001b[39;49m\u001b[38;5;241;43m.\u001b[39;49m\u001b[43munitcell_lengths\u001b[49m\u001b[43m[\u001b[49m\u001b[43mi\u001b[49m\u001b[43m]\u001b[49m\u001b[43m,\u001b[49m\u001b[43m \u001b[49m\u001b[43mTrajectory\u001b[49m\u001b[38;5;241;43m.\u001b[39;49m\u001b[43m_distance_unit\u001b[49m\u001b[43m,\u001b[49m\u001b[43m \u001b[49m\u001b[43mf\u001b[49m\u001b[38;5;241;43m.\u001b[39;49m\u001b[43mdistance_unit\u001b[49m\u001b[43m)\u001b[49m\u001b[43m,\u001b[49m\n\u001b[1;32m   1471\u001b[0m \u001b[43m                \u001b[49m\u001b[43munitcell_angles\u001b[49m\u001b[38;5;241;43m=\u001b[39;49m\u001b[38;5;28;43mself\u001b[39;49m\u001b[38;5;241;43m.\u001b[39;49m\u001b[43munitcell_angles\u001b[49m\u001b[43m[\u001b[49m\u001b[43mi\u001b[49m\u001b[43m]\u001b[49m\u001b[43m)\u001b[49m\n\u001b[1;32m   1472\u001b[0m     \u001b[38;5;28;01melse\u001b[39;00m:\n\u001b[1;32m   1473\u001b[0m         f\u001b[38;5;241m.\u001b[39mwrite(in_units_of(\u001b[38;5;28mself\u001b[39m\u001b[38;5;241m.\u001b[39m_xyz[i], Trajectory\u001b[38;5;241m.\u001b[39m_distance_unit, f\u001b[38;5;241m.\u001b[39mdistance_unit),\n\u001b[1;32m   1474\u001b[0m                 \u001b[38;5;28mself\u001b[39m\u001b[38;5;241m.\u001b[39mtopology,\n\u001b[1;32m   1475\u001b[0m                 modelIndex\u001b[38;5;241m=\u001b[39mi,\n\u001b[1;32m   1476\u001b[0m                 bfactors\u001b[38;5;241m=\u001b[39mbfactors[i])\n",
      "File \u001b[0;32m/localhome/kpaul/.conda/envs/newest_pyg_ot14/lib/python3.10/site-packages/mdtraj/formats/pdb/pdbfile.py:361\u001b[0m, in \u001b[0;36mPDBTrajectoryFile.write\u001b[0;34m(self, positions, topology, modelIndex, unitcell_lengths, unitcell_angles, bfactors)\u001b[0m\n\u001b[1;32m    358\u001b[0m \u001b[38;5;28;01melse\u001b[39;00m:\n\u001b[1;32m    359\u001b[0m     atomSerial \u001b[38;5;241m=\u001b[39m atomIndex\n\u001b[1;32m    360\u001b[0m line \u001b[38;5;241m=\u001b[39m \u001b[38;5;124m\"\u001b[39m\u001b[38;5;124mATOM  \u001b[39m\u001b[38;5;132;01m%5d\u001b[39;00m\u001b[38;5;124m \u001b[39m\u001b[38;5;132;01m%-4s\u001b[39;00m\u001b[38;5;124m \u001b[39m\u001b[38;5;132;01m%3s\u001b[39;00m\u001b[38;5;124m \u001b[39m\u001b[38;5;132;01m%1s\u001b[39;00m\u001b[38;5;132;01m%4d\u001b[39;00m\u001b[38;5;124m    \u001b[39m\u001b[38;5;132;01m%s\u001b[39;00m\u001b[38;5;132;01m%s\u001b[39;00m\u001b[38;5;132;01m%s\u001b[39;00m\u001b[38;5;124m  1.00 \u001b[39m\u001b[38;5;132;01m%5s\u001b[39;00m\u001b[38;5;124m      \u001b[39m\u001b[38;5;132;01m%-4s\u001b[39;00m\u001b[38;5;132;01m%2s\u001b[39;00m\u001b[38;5;124m  \u001b[39m\u001b[38;5;124m\"\u001b[39m \u001b[38;5;241m%\u001b[39m ( \u001b[38;5;66;03m# Right-justify atom symbol\u001b[39;00m\n\u001b[0;32m--> 361\u001b[0m     \u001b[43matomSerial\u001b[49m\u001b[43m \u001b[49m\u001b[38;5;241;43m%\u001b[39;49m\u001b[43m \u001b[49m\u001b[38;5;241;43m100000\u001b[39;49m, atomName, resName, chainName,\n\u001b[1;32m    362\u001b[0m     (res\u001b[38;5;241m.\u001b[39mresSeq) \u001b[38;5;241m%\u001b[39m \u001b[38;5;241m10000\u001b[39m, _format_83(coords[\u001b[38;5;241m0\u001b[39m]),\n\u001b[1;32m    363\u001b[0m     _format_83(coords[\u001b[38;5;241m1\u001b[39m]), _format_83(coords[\u001b[38;5;241m2\u001b[39m]),\n\u001b[1;32m    364\u001b[0m     bfactors[posIndex], atom\u001b[38;5;241m.\u001b[39msegment_id[:\u001b[38;5;241m4\u001b[39m], symbol[\u001b[38;5;241m-\u001b[39m\u001b[38;5;241m2\u001b[39m:])\n\u001b[1;32m    365\u001b[0m \u001b[38;5;28;01massert\u001b[39;00m \u001b[38;5;28mlen\u001b[39m(line) \u001b[38;5;241m==\u001b[39m \u001b[38;5;241m80\u001b[39m, \u001b[38;5;124m'\u001b[39m\u001b[38;5;124mFixed width overflow detected\u001b[39m\u001b[38;5;124m'\u001b[39m\n\u001b[1;32m    366\u001b[0m \u001b[38;5;28mprint\u001b[39m(line, file\u001b[38;5;241m=\u001b[39m\u001b[38;5;28mself\u001b[39m\u001b[38;5;241m.\u001b[39m_file)\n",
      "\u001b[0;31mTypeError\u001b[0m: not all arguments converted during string formatting"
     ]
    }
   ],
   "source": [
    "import nglview\n",
    "nglview.show_mdtraj(molecular_traj[0])"
   ]
  },
  {
   "cell_type": "code",
   "execution_count": 14,
   "metadata": {},
   "outputs": [
    {
     "ename": "AttributeError",
     "evalue": "module 'mdtraj' has no attribute 'select'",
     "output_type": "error",
     "traceback": [
      "\u001b[0;31m---------------------------------------------------------------------------\u001b[0m",
      "\u001b[0;31mAttributeError\u001b[0m                            Traceback (most recent call last)",
      "Cell \u001b[0;32mIn[14], line 1\u001b[0m\n\u001b[0;32m----> 1\u001b[0m \u001b[43mmdtraj\u001b[49m\u001b[38;5;241;43m.\u001b[39;49m\u001b[43mselect\u001b[49m(\u001b[38;5;124m'\u001b[39m\u001b[38;5;124mchain 808\u001b[39m\u001b[38;5;124m'\u001b[39m)\n",
      "\u001b[0;31mAttributeError\u001b[0m: module 'mdtraj' has no attribute 'select'"
     ]
    }
   ],
   "source": [
    "mdtraj.select('chain 808')"
   ]
  },
  {
   "cell_type": "code",
   "execution_count": 11,
   "metadata": {},
   "outputs": [
    {
     "ename": "AttributeError",
     "evalue": "'Trajectory' object has no attribute 'select'",
     "output_type": "error",
     "traceback": [
      "\u001b[0;31m---------------------------------------------------------------------------\u001b[0m",
      "\u001b[0;31mAttributeError\u001b[0m                            Traceback (most recent call last)",
      "Cell \u001b[0;32mIn[11], line 1\u001b[0m\n\u001b[0;32m----> 1\u001b[0m \u001b[43mtraj\u001b[49m\u001b[38;5;241;43m.\u001b[39;49m\u001b[43mselect\u001b[49m(\u001b[38;5;124m'\u001b[39m\u001b[38;5;124mchain ==809\u001b[39m\u001b[38;5;124m'\u001b[39m)\n",
      "\u001b[0;31mAttributeError\u001b[0m: 'Trajectory' object has no attribute 'select'"
     ]
    }
   ],
   "source": [
    "traj.select('chain ==809')"
   ]
  },
  {
   "cell_type": "code",
   "execution_count": 2,
   "metadata": {},
   "outputs": [
    {
     "name": "stderr",
     "output_type": "stream",
     "text": [
      "Warning: importing 'simtk.openmm' is deprecated.  Import 'openmm' instead.\n"
     ]
    }
   ],
   "source": [
    "import lwreg\n",
    "from lwreg.utils import standardization_lib\n",
    "from rdkit import Chem\n",
    "import numpy as np\n",
    "import sys\n",
    "sys.path.append(\"..\")\n",
    "\n",
    "from Data.Datahandler import hdf5_storage\n",
    "from rdkit.Geometry import Point3D\n",
    "\n",
    "import os"
   ]
  },
  {
   "cell_type": "code",
   "execution_count": 3,
   "metadata": {},
   "outputs": [],
   "source": [
    "with open(\"/cluster/home/kpaul/.lwreg_key\",\"r\") as f:\n",
    "    key = f.read().strip()\n",
    "\n",
    "config = lwreg.utils.defaultConfig()\n",
    "config[\"standardization\"] = standardization_lib.NoStandardization()\n",
    "config[\"dbname\"] = \"solvent_forces\"\n",
    "config[\"dbtype\"] = \"postgresql\"\n",
    "config[\"removeHs\"] = 0\n",
    "config[\"registerConformers\"] = True\n",
    "config[\"hashConformer\"] = 0 # set to 0\n",
    "config[\"numConformerDigits\"] = 3 # Question: what is this?\n",
    "config[\"host\"] = \"scotland\"\n",
    "config[\"user\"] = \"kpaul_lwreg\"\n",
    "config[\"password\"] = key"
   ]
  },
  {
   "attachments": {},
   "cell_type": "markdown",
   "metadata": {},
   "source": [
    "# Deposit in Database"
   ]
  },
  {
   "cell_type": "code",
   "execution_count": 14,
   "metadata": {},
   "outputs": [
    {
     "name": "stdout",
     "output_type": "stream",
     "text": [
      "The sql extension is already loaded. To reload it, use:\n",
      "  %reload_ext sql\n",
      "1028181 rows affected.\n"
     ]
    }
   ],
   "source": [
    "%load_ext sql\n",
    "psql_connection_string = f\"postgresql://{config['user']}:{config['password']}@{config['host']}/{config['dbname']}\"\n",
    "d = %sql $psql_connection_string \\\n",
    "SELECT origin from solvent_CCl3.explicit_calculations;\n",
    "\n",
    "data = d.DataFrame()\n",
    "allready_deposited = set([str(d) for d in data.origin.unique()])"
   ]
  },
  {
   "cell_type": "code",
   "execution_count": 5,
   "metadata": {},
   "outputs": [],
   "source": [
    "def reset_db():\n",
    "    cn = lwreg.utils._connect(config) # Connection to the database\n",
    "    curs = cn.cursor() # Command line cursor in postgresql\n",
    "    #curs.execute(\"drop table if exists solvent_CCl3.explicit_calculations\") # execute the command\n",
    "    #curs.execute(\"drop schema if exists solvent_CCl3\") # execute the command\n",
    "    curs.execute(\"create schema if not exists solvent_CCl3\") # execute the command\n",
    "    curs.execute(\"create table if not exists solvent_CCl3.explicit_calculations (conf_id int primary key, positions float[][] not null, forces float[][] not null, atomfeatures float[][] not null, trajectory text, origin text, usage_flag text not null)\") # execute the command\n",
    "    cn.commit() # commit the command\n",
    "\n",
    "def arr_to_string(arr):\n",
    "    arraystring = np.array2string(arr,separator=',')\n",
    "    arraystring = arraystring.replace('[','{')\n",
    "    arraystring = arraystring.replace(']','}')\n",
    "    return arraystring\n",
    "\n",
    "def deposit_file(file,usage_flag=\"train\",allready_deposited=[]):\n",
    "    deposited_entries = 0\n",
    "\n",
    "    if file.split('/')[-1] in allready_deposited:\n",
    "        return -1\n",
    "\n",
    "\n",
    "    if not os.path.isfile(file):\n",
    "        print('file does not exist')\n",
    "        return -1\n",
    "\n",
    "    storage = hdf5_storage(file)\n",
    "    try:\n",
    "        mcdict = storage.get_molids_and_confids()\n",
    "    except:\n",
    "        return -1\n",
    "\n",
    "    cn = lwreg.utils._connect(config) # Connection to the database\n",
    "    curs = cn.cursor() # Command line cursor in postgresql\n",
    "    deposit_mols = []\n",
    "\n",
    "    for key in mcdict.keys():\n",
    "        try:\n",
    "            confid = mcdict[key][0]\n",
    "            smiles = storage.get_smiles(key)\n",
    "        except Exception as e:\n",
    "            print(e)\n",
    "            continue\n",
    "        try:\n",
    "            force, pos, frame = storage.get_reextraction(key,confid,True)\n",
    "            atomfeatures = storage.get_repocessed_atom_features_and_unique_radii(key,confid)\n",
    "            atfeat = atomfeatures[0]\n",
    "        except Exception as e:\n",
    "            print(e)\n",
    "            continue\n",
    "        \n",
    "        try:\n",
    "            mol = Chem.MolFromSmiles(smiles)\n",
    "            mol = Chem.AddHs(mol)\n",
    "            Chem.AllChem.EmbedMolecule(mol)\n",
    "            conf = mol.GetConformer()\n",
    "        except Exception as e:\n",
    "            print(e)\n",
    "            continue\n",
    "        \n",
    "        for k in range(3):\n",
    "            try:\n",
    "                for i in range(mol.GetNumAtoms()):\n",
    "                    x,y,z = pos[k][i]\n",
    "                    conf.SetAtomPosition(i,Point3D(x,y,z))\n",
    "            except Exception as e:\n",
    "                print(e)\n",
    "                continue\n",
    "            try:\n",
    "                entry_file = file.split('/')[-1]\n",
    "                #print(entry_file)\n",
    "                entry_molregno_confid = lwreg.register(config,mol,fail_on_duplicate=True,no_verbose=True)\n",
    "                curs.execute(\"insert into solvent_CCl3.explicit_calculations (conf_id, positions, forces, atomfeatures, trajectory, origin, usage_flag) values (%s, %s, %s, %s, %s, %s, %s)\", (entry_molregno_confid[1], arr_to_string(pos[k]),arr_to_string(force[k]),arr_to_string(atfeat), None, entry_file, usage_flag))\n",
    "                deposited_entries += 1\n",
    "            except Exception as e:\n",
    "                #print(k)\n",
    "                #print(e)\n",
    "                continue\n",
    "    if '100.h5' in file:\n",
    "        print(file,deposited_entries)\n",
    "    cn.commit()\n",
    "    return deposited_entries\n",
    "\n",
    "def deposit_test_files(file,allready_deposited=[]):\n",
    "    deposit_file(file,usage_flag=\"test\",allready_deposited=[])"
   ]
  },
  {
   "cell_type": "code",
   "execution_count": 6,
   "metadata": {},
   "outputs": [],
   "source": [
    "import tqdm"
   ]
  },
  {
   "cell_type": "code",
   "execution_count": 7,
   "metadata": {},
   "outputs": [],
   "source": [
    "from multiprocessing import Pool"
   ]
  },
  {
   "cell_type": "code",
   "execution_count": 11,
   "metadata": {},
   "outputs": [],
   "source": [
    "files = ['/cluster/work/igc/kpaul/projects/small_molecule_multisolvent/Simulation/Calculated_data/ClC(Cl)Cl_small_molecules_n_50_id_%i_seed_161311.hdf5' % (i) for i in range(7000)]\n",
    "files = [file for file in files if not file.split('/')[-1] in allready_deposited]"
   ]
  },
  {
   "cell_type": "code",
   "execution_count": 13,
   "metadata": {},
   "outputs": [
    {
     "name": "stderr",
     "output_type": "stream",
     "text": [
      "[10:56:04] UFFTYPER: Unrecognized charge state for atom: 1\n"
     ]
    },
    {
     "name": "stdout",
     "output_type": "stream",
     "text": [
      "\"Unable to open object (object 'extracted_forces' doesn't exist)\"\n",
      "\"Unable to open object (object 'extracted_forces' doesn't exist)\"\n",
      "\"Unable to open object (object 'extracted_forces' doesn't exist)\"\n"
     ]
    },
    {
     "name": "stderr",
     "output_type": "stream",
     "text": [
      "[10:56:05] UFFTYPER: Unrecognized charge state for atom: 11\n",
      "[10:56:05] UFFTYPER: Unrecognized charge state for atom: 16\n",
      "[10:56:05] UFFTYPER: Unrecognized charge state for atom: 1\n"
     ]
    },
    {
     "name": "stdout",
     "output_type": "stream",
     "text": [
      "\"Unable to open object (object 'extracted_forces' doesn't exist)\"\n",
      "\"Unable to open object (object 'extracted_forces' doesn't exist)\"\n",
      "\"Unable to open object (object 'extracted_forces' doesn't exist)\"\n",
      "\"Unable to open object (object 'extracted_forces' doesn't exist)\"\n",
      "\"Unable to open object (object 'extracted_forces' doesn't exist)\"\n"
     ]
    },
    {
     "name": "stderr",
     "output_type": "stream",
     "text": [
      "[10:56:06] UFFTYPER: Unrecognized charge state for atom: 14\n",
      "[10:56:09] UFFTYPER: Unrecognized charge state for atom: 1\n",
      "[10:56:10] UFFTYPER: Unrecognized charge state for atom: 9\n",
      "[10:56:10] UFFTYPER: Unrecognized charge state for atom: 17\n",
      "[10:56:11] WARNING: not removing hydrogen atom with neighbor that has non-tetrahedral stereochemistry\n",
      "[10:56:11] UFFTYPER: Warning: hybridization set to SP3 for atom 1\n",
      "[10:56:11] WARNING: not removing hydrogen atom with neighbor that has non-tetrahedral stereochemistry\n",
      "[10:56:11] WARNING: not removing hydrogen atom with neighbor that has non-tetrahedral stereochemistry\n",
      "[10:56:11] WARNING: not removing hydrogen atom with neighbor that has non-tetrahedral stereochemistry\n",
      "[10:56:11] WARNING: not removing hydrogen atom with neighbor that has non-tetrahedral stereochemistry\n",
      "[10:56:11] WARNING: not removing hydrogen atom with neighbor that has non-tetrahedral stereochemistry\n",
      "[10:56:11] WARNING: not removing hydrogen atom with neighbor that has non-tetrahedral stereochemistry\n",
      "[10:56:11] WARNING: not removing hydrogen atom with neighbor that has non-tetrahedral stereochemistry\n",
      "[10:56:11] WARNING: not removing hydrogen atom with neighbor that has non-tetrahedral stereochemistry\n",
      "[10:56:11] WARNING: not removing hydrogen atom with neighbor that has non-tetrahedral stereochemistry\n",
      "[10:56:11] WARNING: not removing hydrogen atom with neighbor that has non-tetrahedral stereochemistry\n"
     ]
    },
    {
     "name": "stdout",
     "output_type": "stream",
     "text": [
      "\"Unable to open object (object 'extracted_forces' doesn't exist)\"\n",
      "\"Unable to open object (object 'extracted_forces' doesn't exist)\"\n",
      "\"Unable to open object (object 'extracted_forces' doesn't exist)\"\n",
      "\"Unable to open object (object 'extracted_forces' doesn't exist)\"\n",
      "\"Unable to open object (object 'extracted_forces' doesn't exist)\"\n",
      "\"Unable to open object (object 'extracted_forces' doesn't exist)\"\n",
      "\"Unable to open object (object 'extracted_forces' doesn't exist)\"\n",
      "\"Unable to open object (object 'extracted_forces' doesn't exist)\"\n",
      "\"Unable to open object (object 'extracted_forces' doesn't exist)\"\n",
      "\"Unable to open object (object 'extracted_forces' doesn't exist)\"\n"
     ]
    },
    {
     "name": "stderr",
     "output_type": "stream",
     "text": [
      "[10:56:13] UFFTYPER: Unrecognized charge state for atom: 9\n"
     ]
    },
    {
     "name": "stdout",
     "output_type": "stream",
     "text": [
      "\"Unable to open object (object 'extracted_forces' doesn't exist)\"\n",
      "\"Unable to open object (object 'extracted_forces' doesn't exist)\"\n",
      "\"Unable to open object (object 'extracted_forces' doesn't exist)\"\n",
      "\"Unable to open object (object 'extracted_forces' doesn't exist)\"\n",
      "\"Unable to open object (object 'extracted_forces' doesn't exist)\"\n",
      "\"Unable to open object (object 'extracted_forces' doesn't exist)\"\n",
      "\"Unable to open object (object 'extracted_forces' doesn't exist)\"\n",
      "\"Unable to open object (object 'extracted_forces' doesn't exist)\"\n",
      "\"Unable to open object (object 'extracted_forces' doesn't exist)\"\n",
      "\"Unable to open object (object 'extracted_forces' doesn't exist)\"\n"
     ]
    },
    {
     "name": "stderr",
     "output_type": "stream",
     "text": [
      "[10:56:14] UFFTYPER: Unrecognized charge state for atom: 10\n",
      "[10:56:14] UFFTYPER: Unrecognized charge state for atom: 5\n",
      "[10:56:14] UFFTYPER: Unrecognized charge state for atom: 9\n",
      "[10:56:14] UFFTYPER: Unrecognized charge state for atom: 2\n",
      "[10:56:14] UFFTYPER: Unrecognized charge state for atom: 11\n",
      "[10:56:14] UFFTYPER: Unrecognized charge state for atom: 10\n"
     ]
    },
    {
     "name": "stdout",
     "output_type": "stream",
     "text": [
      "\"Unable to open object (object 'extracted_forces' doesn't exist)\"\n",
      "\"Unable to open object (object 'extracted_forces' doesn't exist)\"\n"
     ]
    },
    {
     "name": "stderr",
     "output_type": "stream",
     "text": [
      "[10:56:19] UFFTYPER: Unrecognized charge state for atom: 9\n",
      "[10:56:20] UFFTYPER: Unrecognized charge state for atom: 20\n",
      "[10:56:20] UFFTYPER: Unrecognized charge state for atom: 12\n",
      "[10:56:21] UFFTYPER: Unrecognized charge state for atom: 9\n"
     ]
    },
    {
     "name": "stdout",
     "output_type": "stream",
     "text": [
      "\"Unable to open object (object 'extracted_forces' doesn't exist)\"\n"
     ]
    },
    {
     "name": "stderr",
     "output_type": "stream",
     "text": [
      "[10:56:25] UFFTYPER: Unrecognized charge state for atom: 4\n",
      "[10:56:26] UFFTYPER: Unrecognized charge state for atom: 4\n",
      "[10:56:30] UFFTYPER: Unrecognized charge state for atom: 1\n",
      "[10:56:31] UFFTYPER: Unrecognized charge state for atom: 10\n",
      "[10:56:34] UFFTYPER: Unrecognized charge state for atom: 10\n",
      "[10:56:35] UFFTYPER: Unrecognized charge state for atom: 12\n",
      "[10:56:36] UFFTYPER: Unrecognized charge state for atom: 5\n",
      "[10:56:36] UFFTYPER: Unrecognized charge state for atom: 8\n",
      "[10:56:36] UFFTYPER: Unrecognized charge state for atom: 1\n"
     ]
    },
    {
     "name": "stdout",
     "output_type": "stream",
     "text": [
      "\"Unable to open object (object 'extracted_forces' doesn't exist)\"\n",
      "\"Unable to open object (object 'extracted_forces' doesn't exist)\"\n",
      "\"Unable to open object (object 'extracted_forces' doesn't exist)\"\n",
      "\"Unable to open object (object 'extracted_forces' doesn't exist)\"\n",
      "\"Unable to open object (object 'extracted_forces' doesn't exist)\"\n",
      "\"Unable to open object (object 'extracted_forces' doesn't exist)\"\n",
      "\"Unable to open object (object 'extracted_forces' doesn't exist)\"\n",
      "\"Unable to open object (object 'extracted_forces' doesn't exist)\"\n",
      "\"Unable to open object (object 'extracted_forces' doesn't exist)\"\n",
      "\"Unable to open object (object 'extracted_forces' doesn't exist)\"\n"
     ]
    },
    {
     "name": "stderr",
     "output_type": "stream",
     "text": [
      "[10:56:38] UFFTYPER: Unrecognized charge state for atom: 10\n",
      "[10:56:39] UFFTYPER: Unrecognized charge state for atom: 6\n",
      "[10:56:40] UFFTYPER: Unrecognized charge state for atom: 1\n",
      "[10:56:40] UFFTYPER: Unrecognized charge state for atom: 1\n"
     ]
    },
    {
     "name": "stdout",
     "output_type": "stream",
     "text": [
      "\"Unable to open object (object 'extracted_forces' doesn't exist)\"\n",
      "\"Unable to open object (object 'extracted_forces' doesn't exist)\"\n"
     ]
    },
    {
     "name": "stderr",
     "output_type": "stream",
     "text": [
      "[10:56:42] UFFTYPER: Unrecognized charge state for atom: 8\n"
     ]
    },
    {
     "name": "stdout",
     "output_type": "stream",
     "text": [
      "\"Unable to open object (object 'extracted_forces' doesn't exist)\"\n",
      "\"Unable to open object (object 'extracted_forces' doesn't exist)\"\n",
      "\"Unable to open object (object 'extracted_forces' doesn't exist)\"\n"
     ]
    },
    {
     "name": "stderr",
     "output_type": "stream",
     "text": [
      "[10:56:43] UFFTYPER: Unrecognized charge state for atom: 21\n",
      "[10:56:43] UFFTYPER: Unrecognized charge state for atom: 19\n"
     ]
    },
    {
     "name": "stdout",
     "output_type": "stream",
     "text": [
      "\"Unable to open object (object 'extracted_forces' doesn't exist)\"\n"
     ]
    },
    {
     "name": "stderr",
     "output_type": "stream",
     "text": [
      "[10:56:48] UFFTYPER: Unrecognized charge state for atom: 16\n",
      "[10:56:48] UFFTYPER: Unrecognized charge state for atom: 10\n",
      "[10:56:51] UFFTYPER: Unrecognized charge state for atom: 6\n",
      "[10:56:52] UFFTYPER: Unrecognized charge state for atom: 19\n",
      "[10:56:54] UFFTYPER: Unrecognized charge state for atom: 10\n",
      "[10:56:55] UFFTYPER: Unrecognized charge state for atom: 7\n",
      "[10:56:56] UFFTYPER: Unrecognized charge state for atom: 9\n",
      "[10:56:57] UFFTYPER: Unrecognized charge state for atom: 8\n"
     ]
    },
    {
     "name": "stdout",
     "output_type": "stream",
     "text": [
      "\"Unable to open object (object 'extracted_forces' doesn't exist)\"\n"
     ]
    },
    {
     "name": "stderr",
     "output_type": "stream",
     "text": [
      "[10:56:59] UFFTYPER: Unrecognized charge state for atom: 1\n"
     ]
    },
    {
     "name": "stdout",
     "output_type": "stream",
     "text": [
      "\"Unable to open object (object 'extracted_forces' doesn't exist)\"\n",
      "\"Unable to open object (object 'extracted_forces' doesn't exist)\"\n",
      "\"Unable to open object (object 'extracted_forces' doesn't exist)\"\n",
      "\"Unable to open object (object 'extracted_forces' doesn't exist)\"\n",
      "\"Unable to open object (object 'extracted_forces' doesn't exist)\"\n",
      "\"Unable to open object (object 'extracted_forces' doesn't exist)\"\n",
      "\"Unable to open object (object 'extracted_forces' doesn't exist)\"\n",
      "\"Unable to open object (object 'extracted_forces' doesn't exist)\"\n",
      "\"Unable to open object (object 'extracted_forces' doesn't exist)\"\n",
      "\"Unable to open object (object 'extracted_forces' doesn't exist)\"\n",
      "\"Unable to open object (object 'extracted_forces' doesn't exist)\"\n",
      "\"Unable to open object (object 'extracted_forces' doesn't exist)\"\n",
      "\"Unable to open object (object 'extracted_forces' doesn't exist)\"\n",
      "\"Unable to open object (object 'extracted_forces' doesn't exist)\"\n",
      "\"Unable to open object (object 'extracted_forces' doesn't exist)\"\n",
      "\"Unable to open object (object 'extracted_forces' doesn't exist)\"\n",
      "\"Unable to open object (object 'extracted_forces' doesn't exist)\"\n",
      "\"Unable to open object (object 'extracted_forces' doesn't exist)\"\n"
     ]
    },
    {
     "name": "stderr",
     "output_type": "stream",
     "text": [
      "[10:57:00] UFFTYPER: Unrecognized charge state for atom: 9\n"
     ]
    },
    {
     "name": "stdout",
     "output_type": "stream",
     "text": [
      "\"Unable to open object (object 'extracted_forces' doesn't exist)\"\n",
      "\"Unable to open object (object 'extracted_forces' doesn't exist)\"\n",
      "\"Unable to open object (object 'extracted_forces' doesn't exist)\"\n",
      "\"Unable to open object (object 'extracted_forces' doesn't exist)\"\n",
      "\"Unable to open object (object 'extracted_forces' doesn't exist)\"\n",
      "\"Unable to open object (object 'extracted_forces' doesn't exist)\"\n",
      "\"Unable to open object (object 'extracted_forces' doesn't exist)\"\n",
      "\"Unable to open object (object 'extracted_forces' doesn't exist)\"\n",
      "\"Unable to open object (object 'extracted_forces' doesn't exist)\"\n",
      "\"Unable to open object (object 'extracted_forces' doesn't exist)\"\n",
      "\"Unable to open object (object 'extracted_forces' doesn't exist)\"\n",
      "\"Unable to open object (object 'extracted_forces' doesn't exist)\"\n",
      "\"Unable to open object (object 'extracted_forces' doesn't exist)\"\n",
      "\"Unable to open object (object 'extracted_forces' doesn't exist)\"\n",
      "\"Unable to open object (object 'extracted_forces' doesn't exist)\"\n",
      "\"Unable to open object (object 'extracted_forces' doesn't exist)\"\n",
      "\"Unable to open object (object 'extracted_forces' doesn't exist)\"\n",
      "\"Unable to open object (object 'extracted_forces' doesn't exist)\"\n",
      "\"Unable to open object (object 'extracted_forces' doesn't exist)\"\n",
      "\"Unable to open object (object 'extracted_forces' doesn't exist)\"\n",
      "\"Unable to open object (object 'extracted_forces' doesn't exist)\"\n",
      "\"Unable to open object (object 'extracted_forces' doesn't exist)\"\n",
      "\"Unable to open object (object 'extracted_forces' doesn't exist)\"\n",
      "\"Unable to open object (object 'extracted_forces' doesn't exist)\"\n",
      "\"Unable to open object (object 'extracted_forces' doesn't exist)\"\n",
      "\"Unable to open object (object 'extracted_forces' doesn't exist)\"\n",
      "\"Unable to open object (object 'extracted_forces' doesn't exist)\"\n",
      "\"Unable to open object (object 'extracted_forces' doesn't exist)\"\n",
      "\"Unable to open object (object 'extracted_forces' doesn't exist)\"\n",
      "\"Unable to open object (object 'extracted_forces' doesn't exist)\"\n",
      "\"Unable to open object (object 'extracted_forces' doesn't exist)\"\n",
      "\"Unable to open object (object 'extracted_forces' doesn't exist)\"\n",
      "\"Unable to open object (object 'extracted_forces' doesn't exist)\"\n",
      "\"Unable to open object (object 'extracted_forces' doesn't exist)\"\n"
     ]
    },
    {
     "name": "stderr",
     "output_type": "stream",
     "text": [
      "[10:57:05] UFFTYPER: Unrecognized charge state for atom: 8\n",
      "[10:57:06] UFFTYPER: Unrecognized charge state for atom: 3\n",
      "[10:57:06] UFFTYPER: Unrecognized charge state for atom: 17\n",
      "[10:57:12] UFFTYPER: Unrecognized charge state for atom: 1\n",
      "[10:57:12] UFFTYPER: Unrecognized charge state for atom: 7\n"
     ]
    },
    {
     "name": "stdout",
     "output_type": "stream",
     "text": [
      "\"Unable to open object (object 'extracted_forces' doesn't exist)\"\n"
     ]
    },
    {
     "name": "stderr",
     "output_type": "stream",
     "text": [
      "[10:57:15] UFFTYPER: Unrecognized charge state for atom: 5\n",
      "[10:57:17] UFFTYPER: Unrecognized charge state for atom: 15\n",
      "[10:57:17] UFFTYPER: Unrecognized charge state for atom: 1\n",
      "[10:57:21] UFFTYPER: Unrecognized charge state for atom: 1\n"
     ]
    },
    {
     "name": "stdout",
     "output_type": "stream",
     "text": [
      "\"Unable to open object (object 'extracted_forces' doesn't exist)\"\n"
     ]
    },
    {
     "name": "stderr",
     "output_type": "stream",
     "text": [
      "[10:57:23] UFFTYPER: Unrecognized charge state for atom: 9\n",
      "[10:57:24] UFFTYPER: Unrecognized charge state for atom: 15\n",
      "[10:57:24] UFFTYPER: Unrecognized charge state for atom: 20\n",
      "[10:57:25] UFFTYPER: Unrecognized charge state for atom: 6\n",
      "[10:57:25] UFFTYPER: Warning: hybridization set to SP3 for atom 2\n",
      "[10:57:26] UFFTYPER: Unrecognized charge state for atom: 19\n"
     ]
    },
    {
     "name": "stdout",
     "output_type": "stream",
     "text": [
      "\"Unable to open object (object 'extracted_forces' doesn't exist)\"\n",
      "\"Unable to open object (object 'extracted_forces' doesn't exist)\"\n",
      "\"Unable to open object (object 'extracted_forces' doesn't exist)\"\n",
      "\"Unable to open object (object 'extracted_forces' doesn't exist)\"\n",
      "\"Unable to open object (object 'extracted_forces' doesn't exist)\"\n",
      "\"Unable to open object (object 'extracted_forces' doesn't exist)\"\n",
      "\"Unable to open object (object 'extracted_forces' doesn't exist)\"\n",
      "\"Unable to open object (object 'extracted_forces' doesn't exist)\"\n",
      "\"Unable to open object (object 'extracted_forces' doesn't exist)\"\n",
      "\"Unable to open object (object 'extracted_forces' doesn't exist)\"\n",
      "\"Unable to open object (object 'extracted_forces' doesn't exist)\"\n",
      "\"Unable to open object (object 'extracted_forces' doesn't exist)\"\n",
      "\"Unable to open object (object 'extracted_forces' doesn't exist)\"\n",
      "\"Unable to open object (object 'extracted_forces' doesn't exist)\"\n",
      "\"Unable to open object (object 'extracted_forces' doesn't exist)\"\n",
      "\"Unable to open object (object 'extracted_forces' doesn't exist)\"\n",
      "\"Unable to open object (object 'extracted_forces' doesn't exist)\"\n",
      "\"Unable to open object (object 'extracted_forces' doesn't exist)\"\n",
      "\"Unable to open object (object 'extracted_forces' doesn't exist)\"\n"
     ]
    },
    {
     "name": "stderr",
     "output_type": "stream",
     "text": [
      "[10:57:27] UFFTYPER: Unrecognized charge state for atom: 20\n"
     ]
    },
    {
     "name": "stdout",
     "output_type": "stream",
     "text": [
      "\"Unable to open object (object 'extracted_forces' doesn't exist)\"\n",
      "\"Unable to open object (object 'extracted_forces' doesn't exist)\"\n",
      "\"Unable to open object (object 'extracted_forces' doesn't exist)\"\n",
      "\"Unable to open object (object 'extracted_forces' doesn't exist)\"\n",
      "\"Unable to open object (object 'extracted_forces' doesn't exist)\"\n",
      "\"Unable to open object (object 'extracted_forces' doesn't exist)\"\n",
      "\"Unable to open object (object 'extracted_forces' doesn't exist)\"\n",
      "\"Unable to open object (object 'extracted_forces' doesn't exist)\"\n",
      "\"Unable to open object (object 'extracted_forces' doesn't exist)\"\n",
      "\"Unable to open object (object 'extracted_forces' doesn't exist)\"\n"
     ]
    },
    {
     "name": "stderr",
     "output_type": "stream",
     "text": [
      "[10:57:29] UFFTYPER: Unrecognized charge state for atom: 9\n",
      "[10:57:30] UFFTYPER: Unrecognized charge state for atom: 13\n",
      "[10:57:34] UFFTYPER: Unrecognized charge state for atom: 8\n",
      "[10:57:41] UFFTYPER: Unrecognized charge state for atom: 8\n",
      "[10:57:41] UFFTYPER: Unrecognized charge state for atom: 16\n",
      "[10:57:41] UFFTYPER: Unrecognized charge state for atom: 11\n",
      "[10:57:41] UFFTYPER: Unrecognized charge state for atom: 5\n",
      "[10:57:44] UFFTYPER: Unrecognized charge state for atom: 6\n",
      "[10:57:45] UFFTYPER: Unrecognized charge state for atom: 1\n"
     ]
    },
    {
     "name": "stdout",
     "output_type": "stream",
     "text": [
      "\"Unable to open object (object 'extracted_forces' doesn't exist)\"\n",
      "\"Unable to open object (object 'extracted_forces' doesn't exist)\"\n",
      "\"Unable to open object (object 'extracted_forces' doesn't exist)\"\n",
      "\"Unable to open object (object 'extracted_forces' doesn't exist)\"\n"
     ]
    },
    {
     "name": "stderr",
     "output_type": "stream",
     "text": [
      "[10:57:45] UFFTYPER: Unrecognized charge state for atom: 3\n"
     ]
    },
    {
     "name": "stdout",
     "output_type": "stream",
     "text": [
      "\"Unable to open object (object 'extracted_forces' doesn't exist)\"\n",
      "\"Unable to open object (object 'extracted_forces' doesn't exist)\"\n",
      "\"Unable to open object (object 'extracted_forces' doesn't exist)\"\n",
      "\"Unable to open object (object 'extracted_forces' doesn't exist)\"\n",
      "\"Unable to open object (object 'extracted_forces' doesn't exist)\"\n",
      "\"Unable to open object (object 'extracted_forces' doesn't exist)\"\n",
      "\"Unable to open object (object 'extracted_forces' doesn't exist)\"\n",
      "\"Unable to open object (object 'extracted_forces' doesn't exist)\"\n",
      "\"Unable to open object (object 'extracted_forces' doesn't exist)\"\n",
      "\"Unable to open object (object 'extracted_forces' doesn't exist)\"\n",
      "\"Unable to open object (object 'extracted_forces' doesn't exist)\"\n"
     ]
    },
    {
     "name": "stderr",
     "output_type": "stream",
     "text": [
      "[10:57:46] UFFTYPER: Unrecognized charge state for atom: 7\n",
      "[10:57:46] UFFTYPER: Unrecognized charge state for atom: 6\n"
     ]
    },
    {
     "name": "stdout",
     "output_type": "stream",
     "text": [
      "\"Unable to open object (object 'extracted_forces' doesn't exist)\"\n",
      "\"Unable to open object (object 'extracted_forces' doesn't exist)\"\n",
      "\"Unable to open object (object 'extracted_forces' doesn't exist)\"\n",
      "\"Unable to open object (object 'extracted_forces' doesn't exist)\"\n",
      "\"Unable to open object (object 'extracted_forces' doesn't exist)\"\n",
      "\"Unable to open object (object 'extracted_forces' doesn't exist)\"\n",
      "\"Unable to open object (object 'extracted_forces' doesn't exist)\"\n",
      "\"Unable to open object (object 'extracted_forces' doesn't exist)\"\n",
      "\"Unable to open object (object 'extracted_forces' doesn't exist)\"\n",
      "\"Unable to open object (object 'extracted_forces' doesn't exist)\"\n",
      "\"Unable to open object (object 'extracted_forces' doesn't exist)\"\n",
      "\"Unable to open object (object 'extracted_forces' doesn't exist)\"\n",
      "\"Unable to open object (object 'extracted_forces' doesn't exist)\"\n",
      "\"Unable to open object (object 'extracted_forces' doesn't exist)\"\n",
      "\"Unable to open object (object 'extracted_forces' doesn't exist)\"\n",
      "\"Unable to open object (object 'extracted_forces' doesn't exist)\"\n",
      "\"Unable to open object (object 'extracted_forces' doesn't exist)\"\n",
      "\"Unable to open object (object 'extracted_forces' doesn't exist)\"\n",
      "\"Unable to open object (object 'extracted_forces' doesn't exist)\"\n",
      "\"Unable to open object (object 'extracted_forces' doesn't exist)\"\n"
     ]
    },
    {
     "name": "stderr",
     "output_type": "stream",
     "text": [
      "[10:57:47] UFFTYPER: Unrecognized charge state for atom: 5\n",
      "[10:57:50] UFFTYPER: Unrecognized charge state for atom: 5\n",
      "[10:57:51] UFFTYPER: Unrecognized charge state for atom: 7\n",
      "[10:57:52] UFFTYPER: Unrecognized charge state for atom: 9\n",
      "[10:57:52] UFFTYPER: Unrecognized charge state for atom: 1\n",
      "[10:57:53] UFFTYPER: Unrecognized charge state for atom: 12\n",
      "[10:57:53] UFFTYPER: Unrecognized charge state for atom: 9\n",
      "[10:57:57] UFFTYPER: Unrecognized charge state for atom: 6\n",
      "[10:57:57] UFFTYPER: Unrecognized charge state for atom: 10\n",
      "[10:57:58] UFFTYPER: Unrecognized charge state for atom: 10\n",
      "[10:57:59] UFFTYPER: Unrecognized charge state for atom: 3\n",
      "[10:57:59] UFFTYPER: Unrecognized charge state for atom: 10\n",
      "[10:57:59] UFFTYPER: Unrecognized charge state for atom: 6\n"
     ]
    },
    {
     "name": "stdout",
     "output_type": "stream",
     "text": [
      "\"Unable to open object (object 'extracted_forces' doesn't exist)\"\n"
     ]
    },
    {
     "name": "stderr",
     "output_type": "stream",
     "text": [
      "[10:58:00] UFFTYPER: Unrecognized charge state for atom: 2\n",
      "[10:58:03] UFFTYPER: Unrecognized charge state for atom: 1\n"
     ]
    },
    {
     "name": "stdout",
     "output_type": "stream",
     "text": [
      "\"Unable to open object (object 'extracted_forces' doesn't exist)\"\n"
     ]
    },
    {
     "name": "stderr",
     "output_type": "stream",
     "text": [
      "[10:58:07] UFFTYPER: Unrecognized charge state for atom: 8\n",
      "[10:58:08] UFFTYPER: Unrecognized charge state for atom: 1\n"
     ]
    },
    {
     "name": "stdout",
     "output_type": "stream",
     "text": [
      "\"Unable to open object (object 'extracted_forces' doesn't exist)\"\n",
      "\"Unable to open object (object 'extracted_forces' doesn't exist)\"\n",
      "\"Unable to open object (object 'extracted_forces' doesn't exist)\"\n",
      "\"Unable to open object (object 'extracted_forces' doesn't exist)\"\n",
      "\"Unable to open object (object 'extracted_forces' doesn't exist)\"\n",
      "\"Unable to open object (object 'extracted_forces' doesn't exist)\"\n",
      "\"Unable to open object (object 'extracted_forces' doesn't exist)\"\n",
      "\"Unable to open object (object 'extracted_forces' doesn't exist)\"\n",
      "\"Unable to open object (object 'extracted_forces' doesn't exist)\"\n",
      "\"Unable to open object (object 'extracted_forces' doesn't exist)\"\n",
      "\"Unable to open object (object 'extracted_forces' doesn't exist)\"\n",
      "\"Unable to open object (object 'extracted_forces' doesn't exist)\"\n",
      "\"Unable to open object (object 'extracted_forces' doesn't exist)\"\n",
      "\"Unable to open object (object 'extracted_forces' doesn't exist)\"\n",
      "\"Unable to open object (object 'extracted_forces' doesn't exist)\"\n",
      "\"Unable to open object (object 'extracted_forces' doesn't exist)\"\n",
      "\"Unable to open object (object 'extracted_forces' doesn't exist)\"\n",
      "\"Unable to open object (object 'extracted_forces' doesn't exist)\"\n",
      "\"Unable to open object (object 'extracted_forces' doesn't exist)\"\n",
      "\"Unable to open object (object 'extracted_forces' doesn't exist)\"\n",
      "\"Unable to open object (object 'extracted_forces' doesn't exist)\"\n",
      "\"Unable to open object (object 'extracted_forces' doesn't exist)\"\n",
      "\"Unable to open object (object 'extracted_forces' doesn't exist)\"\n",
      "\"Unable to open object (object 'extracted_forces' doesn't exist)\"\n",
      "\"Unable to open object (object 'extracted_forces' doesn't exist)\"\n",
      "\"Unable to open object (object 'extracted_forces' doesn't exist)\"\n",
      "\"Unable to open object (object 'extracted_forces' doesn't exist)\"\n",
      "\"Unable to open object (object 'extracted_forces' doesn't exist)\"\n",
      "\"Unable to open object (object 'extracted_forces' doesn't exist)\"\n",
      "\"Unable to open object (object 'extracted_forces' doesn't exist)\"\n",
      "\"Unable to open object (object 'extracted_forces' doesn't exist)\"\n",
      "\"Unable to open object (object 'extracted_forces' doesn't exist)\"\n",
      "\"Unable to open object (object 'extracted_forces' doesn't exist)\"\n",
      "\"Unable to open object (object 'extracted_forces' doesn't exist)\"\n",
      "\"Unable to open object (object 'extracted_forces' doesn't exist)\"\n",
      "\"Unable to open object (object 'extracted_forces' doesn't exist)\"\n",
      "\"Unable to open object (object 'extracted_forces' doesn't exist)\"\n",
      "\"Unable to open object (object 'extracted_forces' doesn't exist)\"\n",
      "\"Unable to open object (object 'extracted_forces' doesn't exist)\"\n",
      "\"Unable to open object (object 'extracted_forces' doesn't exist)\"\n"
     ]
    },
    {
     "name": "stderr",
     "output_type": "stream",
     "text": [
      "[10:58:17] UFFTYPER: Unrecognized charge state for atom: 15\n"
     ]
    },
    {
     "name": "stdout",
     "output_type": "stream",
     "text": [
      "\"Unable to open object (object 'extracted_forces' doesn't exist)\"\n"
     ]
    },
    {
     "name": "stderr",
     "output_type": "stream",
     "text": [
      "[10:58:20] UFFTYPER: Unrecognized charge state for atom: 5\n",
      "[10:58:22] UFFTYPER: Unrecognized charge state for atom: 12\n",
      "[10:58:22] UFFTYPER: Unrecognized charge state for atom: 5\n"
     ]
    },
    {
     "name": "stdout",
     "output_type": "stream",
     "text": [
      "\"Unable to open object (object 'extracted_forces' doesn't exist)\"\n",
      "\"Unable to open object (object 'extracted_forces' doesn't exist)\"\n",
      "\"Unable to open object (object 'extracted_forces' doesn't exist)\"\n",
      "\"Unable to open object (object 'extracted_forces' doesn't exist)\"\n",
      "\"Unable to open object (object 'extracted_forces' doesn't exist)\"\n",
      "\"Unable to open object (object 'extracted_forces' doesn't exist)\"\n",
      "\"Unable to open object (object 'extracted_forces' doesn't exist)\"\n",
      "\"Unable to open object (object 'extracted_forces' doesn't exist)\"\n",
      "\"Unable to open object (object 'extracted_forces' doesn't exist)\"\n",
      "\"Unable to open object (object 'extracted_forces' doesn't exist)\"\n",
      "\"Unable to open object (object 'extracted_forces' doesn't exist)\"\n"
     ]
    },
    {
     "name": "stderr",
     "output_type": "stream",
     "text": [
      "[10:58:30] UFFTYPER: Unrecognized charge state for atom: 3\n",
      "[10:58:30] UFFTYPER: Unrecognized charge state for atom: 1\n",
      "[10:58:31] UFFTYPER: Unrecognized charge state for atom: 20\n",
      "[10:58:31] UFFTYPER: Unrecognized charge state for atom: 5\n",
      "[10:58:31] UFFTYPER: Unrecognized charge state for atom: 9\n"
     ]
    },
    {
     "name": "stdout",
     "output_type": "stream",
     "text": [
      "\"Unable to open object (object 'extracted_forces' doesn't exist)\"\n"
     ]
    },
    {
     "name": "stderr",
     "output_type": "stream",
     "text": [
      "[10:58:32] UFFTYPER: Unrecognized charge state for atom: 8\n"
     ]
    },
    {
     "name": "stdout",
     "output_type": "stream",
     "text": [
      "\"Unable to open object (object 'extracted_forces' doesn't exist)\"\n",
      "\"Unable to open object (object 'extracted_forces' doesn't exist)\"\n"
     ]
    },
    {
     "name": "stderr",
     "output_type": "stream",
     "text": [
      "[10:58:33] UFFTYPER: Unrecognized charge state for atom: 15\n",
      "[10:58:33] UFFTYPER: Unrecognized charge state for atom: 1\n",
      "[10:58:36] UFFTYPER: Unrecognized charge state for atom: 3\n",
      "[10:58:36] UFFTYPER: Unrecognized charge state for atom: 1\n",
      "[10:58:37] UFFTYPER: Unrecognized charge state for atom: 7\n",
      "[10:58:37] UFFTYPER: Unrecognized charge state for atom: 20\n",
      "[10:58:39] UFFTYPER: Unrecognized charge state for atom: 10\n",
      "[10:58:40] UFFTYPER: Unrecognized charge state for atom: 5\n",
      "[10:58:40] UFFTYPER: Unrecognized charge state for atom: 6\n",
      "[10:58:42] UFFTYPER: Unrecognized charge state for atom: 1\n",
      "[10:58:48] UFFTYPER: Unrecognized charge state for atom: 6\n",
      "[10:58:50] UFFTYPER: Unrecognized charge state for atom: 3\n",
      "[10:58:50] UFFTYPER: Unrecognized charge state for atom: 9\n",
      "[10:58:50] UFFTYPER: Unrecognized charge state for atom: 8\n",
      "[10:58:52] UFFTYPER: Unrecognized charge state for atom: 21\n"
     ]
    },
    {
     "name": "stdout",
     "output_type": "stream",
     "text": [
      "\"Unable to open object (object 'extracted_forces' doesn't exist)\"\n",
      "\"Unable to open object (object 'extracted_forces' doesn't exist)\"\n",
      "\"Unable to open object (object 'extracted_forces' doesn't exist)\"\n",
      "\"Unable to open object (object 'extracted_forces' doesn't exist)\"\n",
      "\"Unable to open object (object 'extracted_forces' doesn't exist)\"\n"
     ]
    },
    {
     "name": "stderr",
     "output_type": "stream",
     "text": [
      "[10:58:59] UFFTYPER: Unrecognized charge state for atom: 6\n",
      "[10:59:00] UFFTYPER: Unrecognized charge state for atom: 4\n",
      "[10:59:01] UFFTYPER: Unrecognized charge state for atom: 7\n",
      "[10:59:01] UFFTYPER: Unrecognized charge state for atom: 4\n",
      "[10:59:05] UFFTYPER: Unrecognized charge state for atom: 6\n",
      "[10:59:07] UFFTYPER: Unrecognized charge state for atom: 1\n",
      "[10:59:08] UFFTYPER: Unrecognized charge state for atom: 2\n",
      "[10:59:10] UFFTYPER: Unrecognized charge state for atom: 4\n",
      "[10:59:12] UFFTYPER: Unrecognized charge state for atom: 5\n",
      "[10:59:14] UFFTYPER: Unrecognized charge state for atom: 13\n",
      "[10:59:16] UFFTYPER: Unrecognized charge state for atom: 16\n"
     ]
    },
    {
     "name": "stdout",
     "output_type": "stream",
     "text": [
      "\"Unable to open object (object 'extracted_forces' doesn't exist)\"\n"
     ]
    },
    {
     "name": "stderr",
     "output_type": "stream",
     "text": [
      "[10:59:20] UFFTYPER: Unrecognized charge state for atom: 9\n",
      "[10:59:20] UFFTYPER: Unrecognized charge state for atom: 8\n"
     ]
    },
    {
     "name": "stdout",
     "output_type": "stream",
     "text": [
      "\"Unable to open object (object 'extracted_forces' doesn't exist)\"\n",
      "\"Unable to open object (object 'extracted_forces' doesn't exist)\"\n",
      "\"Unable to open object (object 'extracted_forces' doesn't exist)\"\n",
      "\"Unable to open object (object 'extracted_forces' doesn't exist)\"\n",
      "\"Unable to open object (object 'extracted_forces' doesn't exist)\"\n",
      "\"Unable to open object (object 'extracted_forces' doesn't exist)\"\n",
      "\"Unable to open object (object 'extracted_forces' doesn't exist)\"\n",
      "\"Unable to open object (object 'extracted_forces' doesn't exist)\"\n",
      "\"Unable to open object (object 'extracted_forces' doesn't exist)\"\n",
      "\"Unable to open object (object 'extracted_forces' doesn't exist)\"\n",
      "\"Unable to open object (object 'extracted_forces' doesn't exist)\"\n",
      "\"Unable to open object (object 'extracted_forces' doesn't exist)\"\n",
      "\"Unable to open object (object 'extracted_forces' doesn't exist)\"\n",
      "\"Unable to open object (object 'extracted_forces' doesn't exist)\"\n",
      "\"Unable to open object (object 'extracted_forces' doesn't exist)\"\n",
      "\"Unable to open object (object 'extracted_forces' doesn't exist)\"\n",
      "\"Unable to open object (object 'extracted_forces' doesn't exist)\"\n",
      "\"Unable to open object (object 'extracted_forces' doesn't exist)\"\n",
      "\"Unable to open object (object 'extracted_forces' doesn't exist)\"\n",
      "\"Unable to open object (object 'extracted_forces' doesn't exist)\"\n",
      "\"Unable to open object (object 'extracted_forces' doesn't exist)\"\n",
      "\"Unable to open object (object 'extracted_forces' doesn't exist)\"\n",
      "\"Unable to open object (object 'extracted_forces' doesn't exist)\"\n",
      "\"Unable to open object (object 'extracted_forces' doesn't exist)\"\n",
      "\"Unable to open object (object 'extracted_forces' doesn't exist)\"\n",
      "\"Unable to open object (object 'extracted_forces' doesn't exist)\"\n",
      "\"Unable to open object (object 'extracted_forces' doesn't exist)\"\n",
      "\"Unable to open object (object 'extracted_forces' doesn't exist)\"\n",
      "\"Unable to open object (object 'extracted_forces' doesn't exist)\"\n",
      "\"Unable to open object (object 'extracted_forces' doesn't exist)\"\n",
      "\"Unable to open object (object 'extracted_forces' doesn't exist)\"\n",
      "\"Unable to open object (object 'extracted_forces' doesn't exist)\"\n",
      "\"Unable to open object (object 'extracted_forces' doesn't exist)\"\n",
      "\"Unable to open object (object 'extracted_forces' doesn't exist)\"\n",
      "\"Unable to open object (object 'extracted_forces' doesn't exist)\"\n",
      "\"Unable to open object (object 'extracted_forces' doesn't exist)\"\n",
      "\"Unable to open object (object 'extracted_forces' doesn't exist)\"\n",
      "\"Unable to open object (object 'extracted_forces' doesn't exist)\"\n",
      "\"Unable to open object (object 'extracted_forces' doesn't exist)\"\n",
      "\"Unable to open object (object 'extracted_forces' doesn't exist)\"\n",
      "\"Unable to open object (object 'extracted_forces' doesn't exist)\"\n",
      "\"Unable to open object (object 'extracted_forces' doesn't exist)\"\n",
      "\"Unable to open object (object 'extracted_forces' doesn't exist)\"\n",
      "\"Unable to open object (object 'extracted_forces' doesn't exist)\"\n",
      "\"Unable to open object (object 'extracted_forces' doesn't exist)\"\n",
      "\"Unable to open object (object 'extracted_forces' doesn't exist)\"\n",
      "\"Unable to open object (object 'extracted_forces' doesn't exist)\"\n",
      "\"Unable to open object (object 'extracted_forces' doesn't exist)\"\n",
      "\"Unable to open object (object 'extracted_forces' doesn't exist)\"\n",
      "\"Unable to open object (object 'extracted_forces' doesn't exist)\"\n",
      "\"Unable to open object (object 'extracted_forces' doesn't exist)\"\n"
     ]
    },
    {
     "name": "stderr",
     "output_type": "stream",
     "text": [
      "[10:59:22] UFFTYPER: Unrecognized charge state for atom: 1\n",
      "[10:59:23] UFFTYPER: Unrecognized charge state for atom: 4\n",
      "[10:59:23] UFFTYPER: Unrecognized charge state for atom: 7\n"
     ]
    },
    {
     "name": "stdout",
     "output_type": "stream",
     "text": [
      "\"Unable to open object (object 'extracted_forces' doesn't exist)\"\n"
     ]
    },
    {
     "name": "stderr",
     "output_type": "stream",
     "text": [
      "[10:59:25] UFFTYPER: Unrecognized charge state for atom: 5\n",
      "[10:59:27] UFFTYPER: Unrecognized charge state for atom: 4\n",
      "[10:59:28] UFFTYPER: Unrecognized charge state for atom: 9\n",
      "[10:59:29] UFFTYPER: Unrecognized charge state for atom: 19\n",
      "[10:59:29] UFFTYPER: Unrecognized charge state for atom: 10\n"
     ]
    },
    {
     "name": "stdout",
     "output_type": "stream",
     "text": [
      "\"Unable to open object (object 'extracted_forces' doesn't exist)\"\n"
     ]
    },
    {
     "name": "stderr",
     "output_type": "stream",
     "text": [
      "[10:59:31] UFFTYPER: Unrecognized charge state for atom: 3\n",
      "[10:59:31] UFFTYPER: Unrecognized charge state for atom: 2\n",
      "[10:59:33] UFFTYPER: Unrecognized charge state for atom: 1\n",
      "[10:59:35] UFFTYPER: Unrecognized charge state for atom: 1\n",
      "[10:59:35] UFFTYPER: Unrecognized charge state for atom: 7\n"
     ]
    },
    {
     "name": "stdout",
     "output_type": "stream",
     "text": [
      "\"Unable to open object (object 'extracted_forces' doesn't exist)\"\n",
      "\"Unable to open object (object 'extracted_forces' doesn't exist)\"\n",
      "\"Unable to open object (object 'extracted_forces' doesn't exist)\"\n",
      "\"Unable to open object (object 'extracted_forces' doesn't exist)\"\n",
      "\"Unable to open object (object 'extracted_forces' doesn't exist)\"\n",
      "\"Unable to open object (object 'extracted_forces' doesn't exist)\"\n",
      "\"Unable to open object (object 'extracted_forces' doesn't exist)\"\n"
     ]
    },
    {
     "name": "stderr",
     "output_type": "stream",
     "text": [
      "[10:59:37] UFFTYPER: Unrecognized charge state for atom: 1\n",
      "[10:59:38] UFFTYPER: Unrecognized charge state for atom: 10\n",
      "[10:59:39] UFFTYPER: Unrecognized charge state for atom: 1\n",
      "[10:59:41] UFFTYPER: Unrecognized charge state for atom: 2\n",
      "[10:59:42] UFFTYPER: Unrecognized charge state for atom: 12\n",
      "[10:59:43] UFFTYPER: Unrecognized charge state for atom: 7\n",
      "[10:59:43] UFFTYPER: Unrecognized charge state for atom: 1\n"
     ]
    },
    {
     "name": "stdout",
     "output_type": "stream",
     "text": [
      "\"Unable to open object (object 'extracted_forces' doesn't exist)\"\n"
     ]
    },
    {
     "name": "stderr",
     "output_type": "stream",
     "text": [
      "[10:59:47] UFFTYPER: Unrecognized charge state for atom: 1\n",
      "[10:59:49] UFFTYPER: Unrecognized charge state for atom: 8\n",
      "[10:59:53] UFFTYPER: Unrecognized charge state for atom: 10\n",
      "[10:59:53] UFFTYPER: Unrecognized charge state for atom: 7\n"
     ]
    },
    {
     "name": "stdout",
     "output_type": "stream",
     "text": [
      "\"Unable to open object (object 'extracted_forces' doesn't exist)\"\n"
     ]
    },
    {
     "name": "stderr",
     "output_type": "stream",
     "text": [
      "[10:59:54] UFFTYPER: Unrecognized charge state for atom: 3\n",
      "[10:59:55] UFFTYPER: Unrecognized charge state for atom: 19\n",
      "[10:59:59] UFFTYPER: Unrecognized charge state for atom: 4\n",
      "[10:59:59] UFFTYPER: Unrecognized charge state for atom: 3\n",
      "[11:00:00] UFFTYPER: Unrecognized charge state for atom: 10\n",
      "[11:00:01] UFFTYPER: Unrecognized charge state for atom: 10\n"
     ]
    },
    {
     "name": "stdout",
     "output_type": "stream",
     "text": [
      "\"Unable to open object (object 'extracted_forces' doesn't exist)\"\n"
     ]
    },
    {
     "name": "stderr",
     "output_type": "stream",
     "text": [
      "[11:00:02] UFFTYPER: Unrecognized charge state for atom: 8\n",
      "[11:00:03] UFFTYPER: Unrecognized charge state for atom: 1\n",
      "[11:00:04] UFFTYPER: Unrecognized charge state for atom: 5\n"
     ]
    },
    {
     "name": "stdout",
     "output_type": "stream",
     "text": [
      "\"Unable to open object (object 'extracted_forces' doesn't exist)\"\n"
     ]
    },
    {
     "name": "stderr",
     "output_type": "stream",
     "text": [
      "[11:00:08] UFFTYPER: Unrecognized charge state for atom: 13\n",
      "[11:00:08] UFFTYPER: Unrecognized charge state for atom: 1\n",
      "[11:00:09] UFFTYPER: Unrecognized charge state for atom: 19\n"
     ]
    },
    {
     "name": "stdout",
     "output_type": "stream",
     "text": [
      "\"Unable to open object (object 'extracted_forces' doesn't exist)\"\n"
     ]
    },
    {
     "name": "stderr",
     "output_type": "stream",
     "text": [
      "[11:00:10] UFFTYPER: Unrecognized charge state for atom: 6\n",
      "[11:00:12] UFFTYPER: Unrecognized charge state for atom: 7\n",
      "[11:00:13] UFFTYPER: Unrecognized charge state for atom: 3\n",
      "[11:00:15] UFFTYPER: Unrecognized charge state for atom: 9\n",
      "[11:00:15] UFFTYPER: Unrecognized charge state for atom: 1\n",
      "[11:00:17] UFFTYPER: Unrecognized charge state for atom: 1\n"
     ]
    },
    {
     "name": "stdout",
     "output_type": "stream",
     "text": [
      "\"Unable to open object (object 'extracted_forces' doesn't exist)\"\n",
      "\"Unable to open object (object 'extracted_forces' doesn't exist)\"\n",
      "\"Unable to open object (object 'extracted_forces' doesn't exist)\"\n",
      "\"Unable to open object (object 'extracted_forces' doesn't exist)\"\n",
      "\"Unable to open object (object 'extracted_forces' doesn't exist)\"\n",
      "\"Unable to open object (object 'extracted_forces' doesn't exist)\"\n",
      "\"Unable to open object (object 'extracted_forces' doesn't exist)\"\n",
      "\"Unable to open object (object 'extracted_forces' doesn't exist)\"\n",
      "\"Unable to open object (object 'extracted_forces' doesn't exist)\"\n",
      "\"Unable to open object (object 'extracted_forces' doesn't exist)\"\n",
      "\"Unable to open object (object 'extracted_forces' doesn't exist)\"\n",
      "\"Unable to open object (object 'extracted_forces' doesn't exist)\"\n",
      "\"Unable to open object (object 'extracted_forces' doesn't exist)\"\n",
      "\"Unable to open object (object 'extracted_forces' doesn't exist)\"\n",
      "\"Unable to open object (object 'extracted_forces' doesn't exist)\"\n",
      "\"Unable to open object (object 'extracted_forces' doesn't exist)\"\n",
      "\"Unable to open object (object 'extracted_forces' doesn't exist)\"\n",
      "\"Unable to open object (object 'extracted_forces' doesn't exist)\"\n",
      "\"Unable to open object (object 'extracted_forces' doesn't exist)\"\n",
      "\"Unable to open object (object 'extracted_forces' doesn't exist)\"\n",
      "\"Unable to open object (object 'extracted_forces' doesn't exist)\"\n",
      "\"Unable to open object (object 'extracted_forces' doesn't exist)\"\n",
      "\"Unable to open object (object 'extracted_forces' doesn't exist)\"\n",
      "\"Unable to open object (object 'extracted_forces' doesn't exist)\"\n",
      "\"Unable to open object (object 'extracted_forces' doesn't exist)\"\n",
      "\"Unable to open object (object 'extracted_forces' doesn't exist)\"\n"
     ]
    },
    {
     "name": "stderr",
     "output_type": "stream",
     "text": [
      "[11:00:19] UFFTYPER: Unrecognized charge state for atom: 5\n"
     ]
    },
    {
     "name": "stdout",
     "output_type": "stream",
     "text": [
      "\"Unable to open object (object 'extracted_forces' doesn't exist)\"\n",
      "\"Unable to open object (object 'extracted_forces' doesn't exist)\"\n",
      "\"Unable to open object (object 'extracted_forces' doesn't exist)\"\n",
      "\"Unable to open object (object 'extracted_forces' doesn't exist)\"\n",
      "\"Unable to open object (object 'extracted_forces' doesn't exist)\"\n",
      "\"Unable to open object (object 'extracted_forces' doesn't exist)\"\n",
      "\"Unable to open object (object 'extracted_forces' doesn't exist)\"\n",
      "\"Unable to open object (object 'extracted_forces' doesn't exist)\"\n",
      "\"Unable to open object (object 'extracted_forces' doesn't exist)\"\n",
      "\"Unable to open object (object 'extracted_forces' doesn't exist)\"\n"
     ]
    },
    {
     "name": "stderr",
     "output_type": "stream",
     "text": [
      "[11:00:19] UFFTYPER: Unrecognized charge state for atom: 17\n"
     ]
    },
    {
     "name": "stdout",
     "output_type": "stream",
     "text": [
      "\"Unable to open object (object 'extracted_forces' doesn't exist)\"\n",
      "\"Unable to open object (object 'extracted_forces' doesn't exist)\"\n",
      "\"Unable to open object (object 'extracted_forces' doesn't exist)\"\n"
     ]
    },
    {
     "name": "stderr",
     "output_type": "stream",
     "text": [
      "[11:00:31] UFFTYPER: Unrecognized charge state for atom: 19\n",
      "[11:00:32] UFFTYPER: Unrecognized charge state for atom: 8\n",
      "[11:00:33] UFFTYPER: Unrecognized charge state for atom: 10\n",
      "[11:00:34] UFFTYPER: Unrecognized charge state for atom: 7\n",
      "[11:00:35] UFFTYPER: Unrecognized charge state for atom: 7\n",
      "[11:00:35] UFFTYPER: Unrecognized charge state for atom: 11\n"
     ]
    },
    {
     "name": "stdout",
     "output_type": "stream",
     "text": [
      "\"Unable to open object (object 'extracted_forces' doesn't exist)\"\n"
     ]
    },
    {
     "name": "stderr",
     "output_type": "stream",
     "text": [
      "[11:00:37] UFFTYPER: Unrecognized charge state for atom: 14\n"
     ]
    },
    {
     "name": "stdout",
     "output_type": "stream",
     "text": [
      "\"Unable to open object (object 'extracted_forces' doesn't exist)\"\n",
      "\"Unable to open object (object 'extracted_forces' doesn't exist)\"\n",
      "\"Unable to open object (object 'extracted_forces' doesn't exist)\"\n",
      "\"Unable to open object (object 'extracted_forces' doesn't exist)\"\n",
      "\"Unable to open object (object 'extracted_forces' doesn't exist)\"\n",
      "\"Unable to open object (object 'extracted_forces' doesn't exist)\"\n"
     ]
    },
    {
     "name": "stderr",
     "output_type": "stream",
     "text": [
      "[11:00:45] UFFTYPER: Unrecognized charge state for atom: 3\n"
     ]
    },
    {
     "name": "stdout",
     "output_type": "stream",
     "text": [
      "\"Unable to open object (object 'extracted_forces' doesn't exist)\"\n"
     ]
    },
    {
     "name": "stderr",
     "output_type": "stream",
     "text": [
      "[11:00:48] UFFTYPER: Unrecognized charge state for atom: 10\n",
      "[11:00:49] UFFTYPER: Unrecognized charge state for atom: 1\n",
      "[11:00:49] UFFTYPER: Unrecognized charge state for atom: 1\n"
     ]
    },
    {
     "name": "stdout",
     "output_type": "stream",
     "text": [
      "\"Unable to open object (object 'extracted_forces' doesn't exist)\"\n",
      "\"Unable to open object (object 'extracted_forces' doesn't exist)\"\n",
      "\"Unable to open object (object 'extracted_forces' doesn't exist)\"\n",
      "\"Unable to open object (object 'extracted_forces' doesn't exist)\"\n",
      "\"Unable to open object (object 'extracted_forces' doesn't exist)\"\n",
      "\"Unable to open object (object 'extracted_forces' doesn't exist)\"\n",
      "\"Unable to open object (object 'extracted_forces' doesn't exist)\"\n",
      "\"Unable to open object (object 'extracted_forces' doesn't exist)\"\n",
      "\"Unable to open object (object 'extracted_forces' doesn't exist)\"\n",
      "\"Unable to open object (object 'extracted_forces' doesn't exist)\"\n",
      "\"Unable to open object (object 'extracted_forces' doesn't exist)\"\n"
     ]
    },
    {
     "name": "stderr",
     "output_type": "stream",
     "text": [
      "[11:00:51] UFFTYPER: Unrecognized charge state for atom: 1\n",
      "[11:00:52] UFFTYPER: Unrecognized charge state for atom: 1\n",
      "[11:00:52] UFFTYPER: Unrecognized charge state for atom: 15\n",
      "[11:00:54] UFFTYPER: Unrecognized charge state for atom: 10\n",
      "[11:00:56] UFFTYPER: Unrecognized charge state for atom: 13\n"
     ]
    },
    {
     "name": "stdout",
     "output_type": "stream",
     "text": [
      "\"Unable to open object (object 'extracted_forces' doesn't exist)\"\n"
     ]
    },
    {
     "name": "stderr",
     "output_type": "stream",
     "text": [
      "[11:00:56] UFFTYPER: Unrecognized charge state for atom: 8\n",
      "[11:00:57] UFFTYPER: Unrecognized charge state for atom: 22\n",
      "[11:00:58] UFFTYPER: Warning: hybridization set to SP3 for atom 3\n",
      "[11:00:58] UFFTYPER: Unrecognized charge state for atom: 18\n",
      "[11:00:59] UFFTYPER: Unrecognized charge state for atom: 2\n"
     ]
    },
    {
     "name": "stdout",
     "output_type": "stream",
     "text": [
      "\"Unable to open object (object 'extracted_forces' doesn't exist)\"\n"
     ]
    },
    {
     "name": "stderr",
     "output_type": "stream",
     "text": [
      "[11:01:05] UFFTYPER: Unrecognized charge state for atom: 5\n",
      "[11:01:05] UFFTYPER: Unrecognized charge state for atom: 6\n",
      "[11:01:06] UFFTYPER: Unrecognized charge state for atom: 16\n",
      "[11:01:06] UFFTYPER: Unrecognized charge state for atom: 19\n",
      "[11:01:08] UFFTYPER: Unrecognized charge state for atom: 15\n",
      "[11:01:08] WARNING: not removing hydrogen atom with neighbor that has non-tetrahedral stereochemistry\n",
      "[11:01:08] UFFTYPER: Warning: hybridization set to SP3 for atom 1\n",
      "[11:01:08] WARNING: not removing hydrogen atom with neighbor that has non-tetrahedral stereochemistry\n",
      "[11:01:08] WARNING: not removing hydrogen atom with neighbor that has non-tetrahedral stereochemistry\n",
      "[11:01:08] WARNING: not removing hydrogen atom with neighbor that has non-tetrahedral stereochemistry\n",
      "[11:01:08] WARNING: not removing hydrogen atom with neighbor that has non-tetrahedral stereochemistry\n",
      "[11:01:08] WARNING: not removing hydrogen atom with neighbor that has non-tetrahedral stereochemistry\n",
      "[11:01:08] WARNING: not removing hydrogen atom with neighbor that has non-tetrahedral stereochemistry\n",
      "[11:01:08] WARNING: not removing hydrogen atom with neighbor that has non-tetrahedral stereochemistry\n",
      "[11:01:08] WARNING: not removing hydrogen atom with neighbor that has non-tetrahedral stereochemistry\n",
      "[11:01:08] WARNING: not removing hydrogen atom with neighbor that has non-tetrahedral stereochemistry\n",
      "[11:01:08] WARNING: not removing hydrogen atom with neighbor that has non-tetrahedral stereochemistry\n",
      "[11:01:10] UFFTYPER: Unrecognized charge state for atom: 13\n",
      "[11:01:10] UFFTYPER: Unrecognized charge state for atom: 16\n",
      "[11:01:14] UFFTYPER: Unrecognized charge state for atom: 8\n",
      "[11:01:14] UFFTYPER: Unrecognized charge state for atom: 1\n"
     ]
    },
    {
     "name": "stdout",
     "output_type": "stream",
     "text": [
      "\"Unable to open object (object 'extracted_forces' doesn't exist)\"\n"
     ]
    },
    {
     "name": "stderr",
     "output_type": "stream",
     "text": [
      "[11:01:17] UFFTYPER: Unrecognized charge state for atom: 17\n",
      "[11:01:18] UFFTYPER: Unrecognized charge state for atom: 5\n",
      "[11:01:19] UFFTYPER: Unrecognized charge state for atom: 4\n"
     ]
    },
    {
     "name": "stdout",
     "output_type": "stream",
     "text": [
      "\"Unable to open object (object 'extracted_forces' doesn't exist)\"\n"
     ]
    },
    {
     "name": "stderr",
     "output_type": "stream",
     "text": [
      "[11:01:23] UFFTYPER: Unrecognized charge state for atom: 2\n",
      "[11:01:23] UFFTYPER: Unrecognized charge state for atom: 13\n",
      "[11:01:24] UFFTYPER: Unrecognized charge state for atom: 1\n"
     ]
    },
    {
     "name": "stdout",
     "output_type": "stream",
     "text": [
      "\"Unable to open object (object 'extracted_forces' doesn't exist)\"\n"
     ]
    },
    {
     "name": "stderr",
     "output_type": "stream",
     "text": [
      "[11:01:27] UFFTYPER: Unrecognized charge state for atom: 1\n",
      "[11:01:27] UFFTYPER: Unrecognized charge state for atom: 5\n",
      "[11:01:28] UFFTYPER: Unrecognized charge state for atom: 5\n",
      "[11:01:29] UFFTYPER: Unrecognized charge state for atom: 11\n",
      "[11:01:29] UFFTYPER: Unrecognized charge state for atom: 1\n"
     ]
    },
    {
     "name": "stdout",
     "output_type": "stream",
     "text": [
      "\"Unable to open object (object 'extracted_forces' doesn't exist)\"\n",
      "\"Unable to open object (object 'extracted_forces' doesn't exist)\"\n",
      "\"Unable to open object (object 'extracted_forces' doesn't exist)\"\n",
      "\"Unable to open object (object 'extracted_forces' doesn't exist)\"\n",
      "\"Unable to open object (object 'extracted_forces' doesn't exist)\"\n",
      "\"Unable to open object (object 'extracted_forces' doesn't exist)\"\n",
      "\"Unable to open object (object 'extracted_forces' doesn't exist)\"\n",
      "\"Unable to open object (object 'extracted_forces' doesn't exist)\"\n"
     ]
    },
    {
     "name": "stderr",
     "output_type": "stream",
     "text": [
      "[11:01:33] UFFTYPER: Unrecognized charge state for atom: 9\n"
     ]
    },
    {
     "name": "stdout",
     "output_type": "stream",
     "text": [
      "\"Unable to open object (object 'extracted_forces' doesn't exist)\"\n",
      "\"Unable to open object (object 'extracted_forces' doesn't exist)\"\n",
      "\"Unable to open object (object 'extracted_forces' doesn't exist)\"\n",
      "\"Unable to open object (object 'extracted_forces' doesn't exist)\"\n",
      "\"Unable to open object (object 'extracted_forces' doesn't exist)\"\n",
      "\"Unable to open object (object 'extracted_forces' doesn't exist)\"\n",
      "\"Unable to open object (object 'extracted_forces' doesn't exist)\"\n",
      "\"Unable to open object (object 'extracted_forces' doesn't exist)\"\n",
      "\"Unable to open object (object 'extracted_forces' doesn't exist)\"\n",
      "\"Unable to open object (object 'extracted_forces' doesn't exist)\"\n",
      "\"Unable to open object (object 'extracted_forces' doesn't exist)\"\n",
      "\"Unable to open object (object 'extracted_forces' doesn't exist)\"\n",
      "\"Unable to open object (object 'extracted_forces' doesn't exist)\"\n",
      "\"Unable to open object (object 'extracted_forces' doesn't exist)\"\n",
      "\"Unable to open object (object 'extracted_forces' doesn't exist)\"\n",
      "\"Unable to open object (object 'extracted_forces' doesn't exist)\"\n",
      "\"Unable to open object (object 'extracted_forces' doesn't exist)\"\n",
      "\"Unable to open object (object 'extracted_forces' doesn't exist)\"\n",
      "\"Unable to open object (object 'extracted_forces' doesn't exist)\"\n",
      "\"Unable to open object (object 'extracted_forces' doesn't exist)\"\n",
      "\"Unable to open object (object 'extracted_forces' doesn't exist)\"\n",
      "\"Unable to open object (object 'extracted_forces' doesn't exist)\"\n",
      "\"Unable to open object (object 'extracted_forces' doesn't exist)\"\n",
      "\"Unable to open object (object 'extracted_forces' doesn't exist)\"\n",
      "\"Unable to open object (object 'extracted_forces' doesn't exist)\"\n",
      "\"Unable to open object (object 'extracted_forces' doesn't exist)\"\n",
      "\"Unable to open object (object 'extracted_forces' doesn't exist)\"\n",
      "\"Unable to open object (object 'extracted_forces' doesn't exist)\"\n",
      "\"Unable to open object (object 'extracted_forces' doesn't exist)\"\n",
      "\"Unable to open object (object 'extracted_forces' doesn't exist)\"\n",
      "\"Unable to open object (object 'extracted_forces' doesn't exist)\"\n",
      "\"Unable to open object (object 'extracted_forces' doesn't exist)\"\n",
      "\"Unable to open object (object 'extracted_forces' doesn't exist)\"\n",
      "\"Unable to open object (object 'extracted_forces' doesn't exist)\"\n",
      "\"Unable to open object (object 'extracted_forces' doesn't exist)\"\n",
      "\"Unable to open object (object 'extracted_forces' doesn't exist)\"\n",
      "\"Unable to open object (object 'extracted_forces' doesn't exist)\"\n",
      "\"Unable to open object (object 'extracted_forces' doesn't exist)\"\n",
      "\"Unable to open object (object 'extracted_forces' doesn't exist)\"\n",
      "\"Unable to open object (object 'extracted_forces' doesn't exist)\"\n"
     ]
    },
    {
     "name": "stderr",
     "output_type": "stream",
     "text": [
      "[11:01:38] UFFTYPER: Unrecognized charge state for atom: 6\n"
     ]
    },
    {
     "name": "stdout",
     "output_type": "stream",
     "text": [
      "\"Unable to open object (object 'extracted_forces' doesn't exist)\"\n"
     ]
    },
    {
     "name": "stderr",
     "output_type": "stream",
     "text": [
      "[11:01:41] UFFTYPER: Unrecognized charge state for atom: 4\n",
      "[11:01:43] UFFTYPER: Unrecognized charge state for atom: 8\n"
     ]
    },
    {
     "name": "stdout",
     "output_type": "stream",
     "text": [
      "\"Unable to open object (object 'extracted_forces' doesn't exist)\"\n",
      "\"Unable to open object (object 'extracted_forces' doesn't exist)\"\n",
      "\"Unable to open object (object 'extracted_forces' doesn't exist)\"\n",
      "\"Unable to open object (object 'extracted_forces' doesn't exist)\"\n",
      "\"Unable to open object (object 'extracted_forces' doesn't exist)\"\n",
      "\"Unable to open object (object 'extracted_forces' doesn't exist)\"\n",
      "\"Unable to open object (object 'extracted_forces' doesn't exist)\"\n",
      "\"Unable to open object (object 'extracted_forces' doesn't exist)\"\n",
      "\"Unable to open object (object 'extracted_forces' doesn't exist)\"\n",
      "\"Unable to open object (object 'extracted_forces' doesn't exist)\"\n",
      "\"Unable to open object (object 'extracted_forces' doesn't exist)\"\n",
      "\"Unable to open object (object 'extracted_forces' doesn't exist)\"\n",
      "\"Unable to open object (object 'extracted_forces' doesn't exist)\"\n",
      "\"Unable to open object (object 'extracted_forces' doesn't exist)\"\n",
      "\"Unable to open object (object 'extracted_forces' doesn't exist)\"\n",
      "\"Unable to open object (object 'extracted_forces' doesn't exist)\"\n",
      "\"Unable to open object (object 'extracted_forces' doesn't exist)\"\n",
      "\"Unable to open object (object 'extracted_forces' doesn't exist)\"\n",
      "\"Unable to open object (object 'extracted_forces' doesn't exist)\"\n",
      "\"Unable to open object (object 'extracted_forces' doesn't exist)\"\n",
      "\"Unable to open object (object 'extracted_forces' doesn't exist)\"\n",
      "\"Unable to open object (object 'extracted_forces' doesn't exist)\"\n",
      "\"Unable to open object (object 'extracted_forces' doesn't exist)\"\n",
      "\"Unable to open object (object 'extracted_forces' doesn't exist)\"\n",
      "\"Unable to open object (object 'extracted_forces' doesn't exist)\"\n",
      "\"Unable to open object (object 'extracted_forces' doesn't exist)\"\n",
      "\"Unable to open object (object 'extracted_forces' doesn't exist)\"\n"
     ]
    },
    {
     "name": "stderr",
     "output_type": "stream",
     "text": [
      "[11:01:46] UFFTYPER: Unrecognized charge state for atom: 5\n"
     ]
    },
    {
     "name": "stdout",
     "output_type": "stream",
     "text": [
      "\"Unable to open object (object 'extracted_forces' doesn't exist)\"\n"
     ]
    },
    {
     "name": "stderr",
     "output_type": "stream",
     "text": [
      "[11:01:48] UFFTYPER: Unrecognized charge state for atom: 9\n",
      "[11:01:48] UFFTYPER: Unrecognized charge state for atom: 16\n",
      "[11:01:49] UFFTYPER: Unrecognized charge state for atom: 8\n",
      "[11:01:50] UFFTYPER: Unrecognized charge state for atom: 7\n",
      "[11:01:50] UFFTYPER: Unrecognized charge state for atom: 1\n"
     ]
    },
    {
     "name": "stdout",
     "output_type": "stream",
     "text": [
      "\"Unable to open object (object 'extracted_forces' doesn't exist)\"\n",
      "\"Unable to open object (object 'extracted_forces' doesn't exist)\"\n",
      "\"Unable to open object (object 'extracted_forces' doesn't exist)\"\n",
      "\"Unable to open object (object 'extracted_forces' doesn't exist)\"\n",
      "\"Unable to open object (object 'extracted_forces' doesn't exist)\"\n",
      "\"Unable to open object (object 'extracted_forces' doesn't exist)\"\n",
      "\"Unable to open object (object 'extracted_forces' doesn't exist)\"\n",
      "\"Unable to open object (object 'extracted_forces' doesn't exist)\"\n",
      "\"Unable to open object (object 'extracted_forces' doesn't exist)\"\n",
      "\"Unable to open object (object 'extracted_forces' doesn't exist)\"\n",
      "\"Unable to open object (object 'extracted_forces' doesn't exist)\"\n",
      "\"Unable to open object (object 'extracted_forces' doesn't exist)\"\n",
      "\"Unable to open object (object 'extracted_forces' doesn't exist)\"\n",
      "\"Unable to open object (object 'extracted_forces' doesn't exist)\"\n"
     ]
    },
    {
     "name": "stderr",
     "output_type": "stream",
     "text": [
      "[11:01:55] UFFTYPER: Unrecognized charge state for atom: 2\n",
      "[11:01:55] UFFTYPER: Unrecognized charge state for atom: 11\n",
      "[11:01:59] UFFTYPER: Unrecognized charge state for atom: 1\n",
      "[11:01:59] UFFTYPER: Unrecognized charge state for atom: 12\n"
     ]
    },
    {
     "name": "stdout",
     "output_type": "stream",
     "text": [
      "\"Unable to open object (object 'extracted_forces' doesn't exist)\"\n",
      "\"Unable to open object (object 'extracted_forces' doesn't exist)\"\n"
     ]
    },
    {
     "name": "stderr",
     "output_type": "stream",
     "text": [
      "[11:02:10] UFFTYPER: Unrecognized charge state for atom: 17\n"
     ]
    },
    {
     "name": "stdout",
     "output_type": "stream",
     "text": [
      "\"Unable to open object (object 'extracted_forces' doesn't exist)\"\n"
     ]
    },
    {
     "name": "stderr",
     "output_type": "stream",
     "text": [
      "[11:02:10] UFFTYPER: Unrecognized charge state for atom: 9\n",
      "[11:02:11] UFFTYPER: Unrecognized charge state for atom: 3\n",
      "[11:02:12] UFFTYPER: Unrecognized charge state for atom: 1\n",
      "[11:02:12] UFFTYPER: Unrecognized charge state for atom: 11\n",
      "[11:02:13] UFFTYPER: Unrecognized charge state for atom: 13\n",
      "[11:02:15] UFFTYPER: Unrecognized charge state for atom: 7\n",
      "[11:02:16] UFFTYPER: Unrecognized charge state for atom: 9\n",
      "[11:02:17] UFFTYPER: Unrecognized charge state for atom: 14\n"
     ]
    },
    {
     "name": "stdout",
     "output_type": "stream",
     "text": [
      "\"Unable to open object (object 'extracted_forces' doesn't exist)\"\n"
     ]
    },
    {
     "name": "stderr",
     "output_type": "stream",
     "text": [
      "[11:02:21] UFFTYPER: Unrecognized charge state for atom: 7\n",
      "[11:02:23] UFFTYPER: Unrecognized charge state for atom: 1\n",
      "[11:02:23] UFFTYPER: Unrecognized charge state for atom: 6\n",
      "[11:02:24] UFFTYPER: Unrecognized charge state for atom: 4\n",
      "[11:02:24] UFFTYPER: Unrecognized charge state for atom: 3\n",
      "[11:02:26] UFFTYPER: Unrecognized charge state for atom: 9\n",
      "[11:02:27] UFFTYPER: Unrecognized charge state for atom: 17\n"
     ]
    },
    {
     "name": "stdout",
     "output_type": "stream",
     "text": [
      "\"Unable to open object (object 'extracted_forces' doesn't exist)\"\n"
     ]
    },
    {
     "name": "stderr",
     "output_type": "stream",
     "text": [
      "[11:02:29] UFFTYPER: Unrecognized charge state for atom: 16\n",
      "[11:02:29] UFFTYPER: Unrecognized charge state for atom: 1\n",
      "[11:02:31] UFFTYPER: Unrecognized charge state for atom: 15\n",
      "[11:02:32] UFFTYPER: Unrecognized charge state for atom: 11\n",
      "[11:02:32] UFFTYPER: Unrecognized charge state for atom: 9\n"
     ]
    },
    {
     "name": "stdout",
     "output_type": "stream",
     "text": [
      "\"Unable to open object (object 'extracted_forces' doesn't exist)\"\n"
     ]
    },
    {
     "name": "stderr",
     "output_type": "stream",
     "text": [
      "[11:02:33] UFFTYPER: Unrecognized charge state for atom: 1\n"
     ]
    },
    {
     "name": "stdout",
     "output_type": "stream",
     "text": [
      "\"Unable to open object (object 'extracted_forces' doesn't exist)\"\n",
      "\"Unable to open object (object 'extracted_forces' doesn't exist)\"\n",
      "\"Unable to open object (object 'extracted_forces' doesn't exist)\"\n",
      "\"Unable to open object (object 'extracted_forces' doesn't exist)\"\n",
      "\"Unable to open object (object 'extracted_forces' doesn't exist)\"\n"
     ]
    },
    {
     "name": "stderr",
     "output_type": "stream",
     "text": [
      "[11:02:34] UFFTYPER: Unrecognized charge state for atom: 6\n",
      "[11:02:35] UFFTYPER: Unrecognized charge state for atom: 2\n"
     ]
    },
    {
     "name": "stdout",
     "output_type": "stream",
     "text": [
      "\"Unable to open object (object 'extracted_forces' doesn't exist)\"\n",
      "\"Unable to open object (object 'extracted_forces' doesn't exist)\"\n",
      "\"Unable to open object (object 'extracted_forces' doesn't exist)\"\n",
      "\"Unable to open object (object 'extracted_forces' doesn't exist)\"\n",
      "\"Unable to open object (object 'extracted_forces' doesn't exist)\"\n",
      "\"Unable to open object (object 'extracted_forces' doesn't exist)\"\n",
      "\"Unable to open object (object 'extracted_forces' doesn't exist)\"\n",
      "\"Unable to open object (object 'extracted_forces' doesn't exist)\"\n",
      "\"Unable to open object (object 'extracted_forces' doesn't exist)\"\n",
      "\"Unable to open object (object 'extracted_forces' doesn't exist)\"\n",
      "\"Unable to open object (object 'extracted_forces' doesn't exist)\"\n",
      "\"Unable to open object (object 'extracted_forces' doesn't exist)\"\n",
      "\"Unable to open object (object 'extracted_forces' doesn't exist)\"\n",
      "\"Unable to open object (object 'extracted_forces' doesn't exist)\"\n",
      "\"Unable to open object (object 'extracted_forces' doesn't exist)\"\n",
      "\"Unable to open object (object 'extracted_forces' doesn't exist)\"\n",
      "\"Unable to open object (object 'extracted_forces' doesn't exist)\"\n",
      "\"Unable to open object (object 'extracted_forces' doesn't exist)\"\n",
      "\"Unable to open object (object 'extracted_forces' doesn't exist)\"\n",
      "\"Unable to open object (object 'extracted_forces' doesn't exist)\"\n",
      "\"Unable to open object (object 'extracted_forces' doesn't exist)\"\n"
     ]
    },
    {
     "name": "stderr",
     "output_type": "stream",
     "text": [
      "[11:02:37] UFFTYPER: Unrecognized charge state for atom: 4\n",
      "[11:02:37] UFFTYPER: Unrecognized charge state for atom: 10\n"
     ]
    },
    {
     "name": "stdout",
     "output_type": "stream",
     "text": [
      "\"Unable to open object (object 'extracted_forces' doesn't exist)\"\n",
      "\"Unable to open object (object 'extracted_forces' doesn't exist)\"\n",
      "\"Unable to open object (object 'extracted_forces' doesn't exist)\"\n",
      "\"Unable to open object (object 'extracted_forces' doesn't exist)\"\n",
      "\"Unable to open object (object 'extracted_forces' doesn't exist)\"\n",
      "\"Unable to open object (object 'extracted_forces' doesn't exist)\"\n",
      "\"Unable to open object (object 'extracted_forces' doesn't exist)\"\n",
      "\"Unable to open object (object 'extracted_forces' doesn't exist)\"\n",
      "\"Unable to open object (object 'extracted_forces' doesn't exist)\"\n",
      "\"Unable to open object (object 'extracted_forces' doesn't exist)\"\n",
      "\"Unable to open object (object 'extracted_forces' doesn't exist)\"\n",
      "\"Unable to open object (object 'extracted_forces' doesn't exist)\"\n",
      "\"Unable to open object (object 'extracted_forces' doesn't exist)\"\n",
      "\"Unable to open object (object 'extracted_forces' doesn't exist)\"\n",
      "\"Unable to open object (object 'extracted_forces' doesn't exist)\"\n",
      "\"Unable to open object (object 'extracted_forces' doesn't exist)\"\n",
      "\"Unable to open object (object 'extracted_forces' doesn't exist)\"\n",
      "\"Unable to open object (object 'extracted_forces' doesn't exist)\"\n",
      "\"Unable to open object (object 'extracted_forces' doesn't exist)\"\n"
     ]
    },
    {
     "name": "stderr",
     "output_type": "stream",
     "text": [
      "[11:02:41] UFFTYPER: Unrecognized charge state for atom: 16\n"
     ]
    },
    {
     "name": "stdout",
     "output_type": "stream",
     "text": [
      "\"Unable to open object (object 'extracted_forces' doesn't exist)\"\n",
      "\"Unable to open object (object 'extracted_forces' doesn't exist)\"\n",
      "\"Unable to open object (object 'extracted_forces' doesn't exist)\"\n",
      "\"Unable to open object (object 'extracted_forces' doesn't exist)\"\n",
      "\"Unable to open object (object 'extracted_forces' doesn't exist)\"\n",
      "\"Unable to open object (object 'extracted_forces' doesn't exist)\"\n",
      "\"Unable to open object (object 'extracted_forces' doesn't exist)\"\n",
      "\"Unable to open object (object 'extracted_forces' doesn't exist)\"\n",
      "\"Unable to open object (object 'extracted_forces' doesn't exist)\"\n",
      "\"Unable to open object (object 'extracted_forces' doesn't exist)\"\n",
      "\"Unable to open object (object 'extracted_forces' doesn't exist)\"\n",
      "\"Unable to open object (object 'extracted_forces' doesn't exist)\"\n",
      "\"Unable to open object (object 'extracted_forces' doesn't exist)\"\n",
      "\"Unable to open object (object 'extracted_forces' doesn't exist)\"\n",
      "\"Unable to open object (object 'extracted_forces' doesn't exist)\"\n",
      "\"Unable to open object (object 'extracted_forces' doesn't exist)\"\n",
      "\"Unable to open object (object 'extracted_forces' doesn't exist)\"\n",
      "\"Unable to open object (object 'extracted_forces' doesn't exist)\"\n",
      "\"Unable to open object (object 'extracted_forces' doesn't exist)\"\n",
      "\"Unable to open object (object 'extracted_forces' doesn't exist)\"\n",
      "\"Unable to open object (object 'extracted_forces' doesn't exist)\"\n",
      "\"Unable to open object (object 'extracted_forces' doesn't exist)\"\n"
     ]
    },
    {
     "name": "stderr",
     "output_type": "stream",
     "text": [
      "[11:02:45] UFFTYPER: Unrecognized charge state for atom: 1\n",
      "[11:02:45] UFFTYPER: Unrecognized charge state for atom: 11\n",
      "[11:02:46] UFFTYPER: Unrecognized charge state for atom: 4\n",
      "[11:02:46] UFFTYPER: Unrecognized charge state for atom: 7\n",
      "[11:02:48] UFFTYPER: Unrecognized charge state for atom: 1\n",
      "[11:02:50] UFFTYPER: Unrecognized charge state for atom: 10\n",
      "[11:02:50] UFFTYPER: Unrecognized charge state for atom: 10\n",
      "[11:02:52] UFFTYPER: Unrecognized charge state for atom: 10\n"
     ]
    },
    {
     "name": "stdout",
     "output_type": "stream",
     "text": [
      "\"Unable to open object (object 'extracted_forces' doesn't exist)\"\n",
      "\"Unable to open object (object 'extracted_forces' doesn't exist)\"\n",
      "\"Unable to open object (object 'extracted_forces' doesn't exist)\"\n",
      "\"Unable to open object (object 'extracted_forces' doesn't exist)\"\n",
      "\"Unable to open object (object 'extracted_forces' doesn't exist)\"\n",
      "\"Unable to open object (object 'extracted_forces' doesn't exist)\"\n",
      "\"Unable to open object (object 'extracted_forces' doesn't exist)\"\n",
      "\"Unable to open object (object 'extracted_forces' doesn't exist)\"\n",
      "\"Unable to open object (object 'extracted_forces' doesn't exist)\"\n",
      "\"Unable to open object (object 'extracted_forces' doesn't exist)\"\n"
     ]
    },
    {
     "name": "stderr",
     "output_type": "stream",
     "text": [
      "[11:02:53] UFFTYPER: Unrecognized charge state for atom: 4\n"
     ]
    },
    {
     "name": "stdout",
     "output_type": "stream",
     "text": [
      "\"Unable to open object (object 'extracted_forces' doesn't exist)\"\n",
      "\"Unable to open object (object 'extracted_forces' doesn't exist)\"\n",
      "\"Unable to open object (object 'extracted_forces' doesn't exist)\"\n",
      "\"Unable to open object (object 'extracted_forces' doesn't exist)\"\n",
      "\"Unable to open object (object 'extracted_forces' doesn't exist)\"\n",
      "\"Unable to open object (object 'extracted_forces' doesn't exist)\"\n",
      "\"Unable to open object (object 'extracted_forces' doesn't exist)\"\n",
      "\"Unable to open object (object 'extracted_forces' doesn't exist)\"\n",
      "\"Unable to open object (object 'extracted_forces' doesn't exist)\"\n",
      "\"Unable to open object (object 'extracted_forces' doesn't exist)\"\n",
      "\"Unable to open object (object 'extracted_forces' doesn't exist)\"\n",
      "\"Unable to open object (object 'extracted_forces' doesn't exist)\"\n",
      "\"Unable to open object (object 'extracted_forces' doesn't exist)\"\n",
      "\"Unable to open object (object 'extracted_forces' doesn't exist)\"\n",
      "\"Unable to open object (object 'extracted_forces' doesn't exist)\"\n",
      "\"Unable to open object (object 'extracted_forces' doesn't exist)\"\n",
      "\"Unable to open object (object 'extracted_forces' doesn't exist)\"\n",
      "\"Unable to open object (object 'extracted_forces' doesn't exist)\"\n",
      "\"Unable to open object (object 'extracted_forces' doesn't exist)\"\n",
      "\"Unable to open object (object 'extracted_forces' doesn't exist)\"\n",
      "\"Unable to open object (object 'extracted_forces' doesn't exist)\"\n",
      "\"Unable to open object (object 'extracted_forces' doesn't exist)\"\n"
     ]
    },
    {
     "name": "stderr",
     "output_type": "stream",
     "text": [
      "[11:02:58] UFFTYPER: Unrecognized charge state for atom: 1\n",
      "[11:02:58] UFFTYPER: Unrecognized charge state for atom: 8\n",
      "[11:02:59] UFFTYPER: Unrecognized charge state for atom: 18\n",
      "[11:02:59] UFFTYPER: Unrecognized charge state for atom: 18\n",
      "[11:03:01] UFFTYPER: Unrecognized charge state for atom: 13\n"
     ]
    },
    {
     "name": "stdout",
     "output_type": "stream",
     "text": [
      "\"Unable to open object (object 'extracted_forces' doesn't exist)\"\n"
     ]
    },
    {
     "name": "stderr",
     "output_type": "stream",
     "text": [
      "[11:03:01] UFFTYPER: Unrecognized charge state for atom: 19\n"
     ]
    },
    {
     "name": "stdout",
     "output_type": "stream",
     "text": [
      "\"Unable to open object (object 'extracted_forces' doesn't exist)\"\n",
      "\"Unable to open object (object 'extracted_forces' doesn't exist)\"\n",
      "\"Unable to open object (object 'extracted_forces' doesn't exist)\"\n",
      "\"Unable to open object (object 'extracted_forces' doesn't exist)\"\n",
      "\"Unable to open object (object 'extracted_forces' doesn't exist)\"\n",
      "\"Unable to open object (object 'extracted_forces' doesn't exist)\"\n",
      "\"Unable to open object (object 'extracted_forces' doesn't exist)\"\n",
      "\"Unable to open object (object 'extracted_forces' doesn't exist)\"\n",
      "\"Unable to open object (object 'extracted_forces' doesn't exist)\"\n"
     ]
    },
    {
     "name": "stderr",
     "output_type": "stream",
     "text": [
      "[11:03:02] UFFTYPER: Unrecognized charge state for atom: 8\n"
     ]
    },
    {
     "name": "stdout",
     "output_type": "stream",
     "text": [
      "\"Unable to open object (object 'extracted_forces' doesn't exist)\"\n",
      "\"Unable to open object (object 'extracted_forces' doesn't exist)\"\n",
      "\"Unable to open object (object 'extracted_forces' doesn't exist)\"\n",
      "\"Unable to open object (object 'extracted_forces' doesn't exist)\"\n",
      "\"Unable to open object (object 'extracted_forces' doesn't exist)\"\n",
      "\"Unable to open object (object 'extracted_forces' doesn't exist)\"\n",
      "\"Unable to open object (object 'extracted_forces' doesn't exist)\"\n",
      "\"Unable to open object (object 'extracted_forces' doesn't exist)\"\n",
      "\"Unable to open object (object 'extracted_forces' doesn't exist)\"\n",
      "\"Unable to open object (object 'extracted_forces' doesn't exist)\"\n",
      "\"Unable to open object (object 'extracted_forces' doesn't exist)\"\n",
      "\"Unable to open object (object 'extracted_forces' doesn't exist)\"\n",
      "\"Unable to open object (object 'extracted_forces' doesn't exist)\"\n",
      "\"Unable to open object (object 'extracted_forces' doesn't exist)\"\n",
      "\"Unable to open object (object 'extracted_forces' doesn't exist)\"\n",
      "\"Unable to open object (object 'extracted_forces' doesn't exist)\"\n",
      "\"Unable to open object (object 'extracted_forces' doesn't exist)\"\n",
      "\"Unable to open object (object 'extracted_forces' doesn't exist)\"\n",
      "\"Unable to open object (object 'extracted_forces' doesn't exist)\"\n",
      "\"Unable to open object (object 'extracted_forces' doesn't exist)\"\n",
      "\"Unable to open object (object 'extracted_forces' doesn't exist)\"\n",
      "\"Unable to open object (object 'extracted_forces' doesn't exist)\"\n",
      "\"Unable to open object (object 'extracted_forces' doesn't exist)\"\n",
      "\"Unable to open object (object 'extracted_forces' doesn't exist)\"\n",
      "\"Unable to open object (object 'extracted_forces' doesn't exist)\"\n",
      "\"Unable to open object (object 'extracted_forces' doesn't exist)\"\n",
      "\"Unable to open object (object 'extracted_forces' doesn't exist)\"\n",
      "\"Unable to open object (object 'extracted_forces' doesn't exist)\"\n",
      "\"Unable to open object (object 'extracted_forces' doesn't exist)\"\n",
      "\"Unable to open object (object 'extracted_forces' doesn't exist)\"\n"
     ]
    },
    {
     "name": "stderr",
     "output_type": "stream",
     "text": [
      "[11:03:04] UFFTYPER: Unrecognized charge state for atom: 14\n"
     ]
    },
    {
     "name": "stdout",
     "output_type": "stream",
     "text": [
      "\"Unable to open object (object 'extracted_forces' doesn't exist)\"\n",
      "\"Unable to open object (object 'extracted_forces' doesn't exist)\""
     ]
    },
    {
     "name": "stderr",
     "output_type": "stream",
     "text": [
      "[11:03:04] UFFTYPER: Unrecognized charge state for atom: 1\n"
     ]
    },
    {
     "name": "stdout",
     "output_type": "stream",
     "text": [
      "\n",
      "\"Unable to open object (object 'extracted_forces' doesn't exist)\"\n"
     ]
    },
    {
     "name": "stderr",
     "output_type": "stream",
     "text": [
      "[11:03:07] UFFTYPER: Unrecognized charge state for atom: 8\n",
      "[11:03:09] UFFTYPER: Unrecognized charge state for atom: 4\n"
     ]
    },
    {
     "name": "stdout",
     "output_type": "stream",
     "text": [
      "\"Unable to open object (object 'extracted_forces' doesn't exist)\"\n",
      "\"Unable to open object (object 'extracted_forces' doesn't exist)\"\n",
      "\"Unable to open object (object 'extracted_forces' doesn't exist)\"\n",
      "\"Unable to open object (object 'extracted_forces' doesn't exist)\"\n",
      "\"Unable to open object (object 'extracted_forces' doesn't exist)\"\n",
      "\"Unable to open object (object 'extracted_forces' doesn't exist)\"\n",
      "\"Unable to open object (object 'extracted_forces' doesn't exist)\"\n",
      "\"Unable to open object (object 'extracted_forces' doesn't exist)\"\n",
      "\"Unable to open object (object 'extracted_forces' doesn't exist)\"\n"
     ]
    },
    {
     "name": "stderr",
     "output_type": "stream",
     "text": [
      "[11:03:12] UFFTYPER: Unrecognized charge state for atom: 14\n",
      "[11:03:13] UFFTYPER: Unrecognized charge state for atom: 10\n"
     ]
    },
    {
     "name": "stdout",
     "output_type": "stream",
     "text": [
      "\"Unable to open object (object 'extracted_forces' doesn't exist)\"\n",
      "\"Unable to open object (object 'extracted_forces' doesn't exist)\"\n",
      "\"Unable to open object (object 'extracted_forces' doesn't exist)\"\n",
      "\"Unable to open object (object 'extracted_forces' doesn't exist)\"\n",
      "\"Unable to open object (object 'extracted_forces' doesn't exist)\"\n",
      "\"Unable to open object (object 'extracted_forces' doesn't exist)\"\n",
      "\"Unable to open object (object 'extracted_forces' doesn't exist)\"\n",
      "\"Unable to open object (object 'extracted_forces' doesn't exist)\"\n",
      "\"Unable to open object (object 'extracted_forces' doesn't exist)\"\n",
      "\"Unable to open object (object 'extracted_forces' doesn't exist)\"\n",
      "\"Unable to open object (object 'extracted_forces' doesn't exist)\"\n",
      "\"Unable to open object (object 'extracted_forces' doesn't exist)\"\n",
      "\"Unable to open object (object 'extracted_forces' doesn't exist)\"\n"
     ]
    },
    {
     "name": "stderr",
     "output_type": "stream",
     "text": [
      "[11:03:14] UFFTYPER: Unrecognized charge state for atom: 7\n"
     ]
    },
    {
     "name": "stdout",
     "output_type": "stream",
     "text": [
      "\"Unable to open object (object 'extracted_forces' doesn't exist)\"\n",
      "\"Unable to open object (object 'extracted_forces' doesn't exist)\"\n",
      "\"Unable to open object (object 'extracted_forces' doesn't exist)\"\n",
      "\"Unable to open object (object 'extracted_forces' doesn't exist)\"\n",
      "\"Unable to open object (object 'extracted_forces' doesn't exist)\"\n",
      "\"Unable to open object (object 'extracted_forces' doesn't exist)\"\n",
      "\"Unable to open object (object 'extracted_forces' doesn't exist)\"\n",
      "\"Unable to open object (object 'extracted_forces' doesn't exist)\"\n",
      "\"Unable to open object (object 'extracted_forces' doesn't exist)\"\n",
      "\"Unable to open object (object 'extracted_forces' doesn't exist)\"\n",
      "\"Unable to open object (object 'extracted_forces' doesn't exist)\"\n",
      "\"Unable to open object (object 'extracted_forces' doesn't exist)\"\n"
     ]
    },
    {
     "name": "stderr",
     "output_type": "stream",
     "text": [
      "[11:03:16] UFFTYPER: Unrecognized charge state for atom: 15\n",
      "[11:03:16] UFFTYPER: Unrecognized charge state for atom: 4\n",
      "[11:03:16] UFFTYPER: Unrecognized charge state for atom: 1\n",
      "[11:03:17] UFFTYPER: Unrecognized charge state for atom: 14\n",
      "[11:03:21] UFFTYPER: Unrecognized charge state for atom: 7\n",
      "[11:03:21] UFFTYPER: Unrecognized charge state for atom: 5\n"
     ]
    },
    {
     "name": "stdout",
     "output_type": "stream",
     "text": [
      "\"Unable to open object (object 'extracted_forces' doesn't exist)\"\n",
      "\"Unable to open object (object 'extracted_forces' doesn't exist)\"\n",
      "\"Unable to open object (object 'extracted_forces' doesn't exist)\"\n",
      "\"Unable to open object (object 'extracted_forces' doesn't exist)\"\n",
      "\"Unable to open object (object 'extracted_forces' doesn't exist)\"\n",
      "\"Unable to open object (object 'extracted_forces' doesn't exist)\"\n"
     ]
    },
    {
     "name": "stderr",
     "output_type": "stream",
     "text": [
      "[11:03:26] UFFTYPER: Unrecognized charge state for atom: 12\n"
     ]
    },
    {
     "name": "stdout",
     "output_type": "stream",
     "text": [
      "\"Unable to open object (object 'extracted_forces' doesn't exist)\"\n"
     ]
    },
    {
     "name": "stderr",
     "output_type": "stream",
     "text": [
      "[11:03:26] UFFTYPER: Unrecognized charge state for atom: 5\n"
     ]
    },
    {
     "name": "stdout",
     "output_type": "stream",
     "text": [
      "\"Unable to open object (object 'extracted_forces' doesn't exist)\"\n",
      "\"Unable to open object (object 'extracted_forces' doesn't exist)\"\n",
      "\"Unable to open object (object 'extracted_forces' doesn't exist)\"\n",
      "\"Unable to open object (object 'extracted_forces' doesn't exist)\"\n",
      "\"Unable to open object (object 'extracted_forces' doesn't exist)\"\n",
      "\"Unable to open object (object 'extracted_forces' doesn't exist)\"\n",
      "\"Unable to open object (object 'extracted_forces' doesn't exist)\"\n",
      "\"Unable to open object (object 'extracted_forces' doesn't exist)\"\n",
      "\"Unable to open object (object 'extracted_forces' doesn't exist)\"\n",
      "\"Unable to open object (object 'extracted_forces' doesn't exist)\"\n",
      "\"Unable to open object (object 'extracted_forces' doesn't exist)\"\n",
      "\"Unable to open object (object 'extracted_forces' doesn't exist)\"\n",
      "\"Unable to open object (object 'extracted_forces' doesn't exist)\"\n",
      "\"Unable to open object (object 'extracted_forces' doesn't exist)\"\n",
      "\"Unable to open object (object 'extracted_forces' doesn't exist)\"\n",
      "\"Unable to open object (object 'extracted_forces' doesn't exist)\"\n",
      "\"Unable to open object (object 'extracted_forces' doesn't exist)\"\n",
      "\"Unable to open object (object 'extracted_forces' doesn't exist)\"\n",
      "\"Unable to open object (object 'extracted_forces' doesn't exist)\"\n",
      "\"Unable to open object (object 'extracted_forces' doesn't exist)\"\n",
      "\"Unable to open object (object 'extracted_forces' doesn't exist)\"\n",
      "\"Unable to open object (object 'extracted_forces' doesn't exist)\"\n",
      "\"Unable to open object (object 'extracted_forces' doesn't exist)\"\n",
      "\"Unable to open object (object 'extracted_forces' doesn't exist)\"\n",
      "\"Unable to open object (object 'extracted_forces' doesn't exist)\"\n",
      "\"Unable to open object (object 'extracted_forces' doesn't exist)\"\n",
      "\"Unable to open object (object 'extracted_forces' doesn't exist)\"\n",
      "\"Unable to open object (object 'extracted_forces' doesn't exist)\"\n",
      "\"Unable to open object (object 'extracted_forces' doesn't exist)\"\n",
      "\"Unable to open object (object 'extracted_forces' doesn't exist)\"\n",
      "\"Unable to open object (object 'extracted_forces' doesn't exist)\"\n",
      "\"Unable to open object (object 'extracted_forces' doesn't exist)\"\n",
      "\"Unable to open object (object 'extracted_forces' doesn't exist)\"\n",
      "\"Unable to open object (object 'extracted_forces' doesn't exist)\"\n",
      "\"Unable to open object (object 'extracted_forces' doesn't exist)\"\n",
      "\"Unable to open object (object 'extracted_forces' doesn't exist)\"\n",
      "\"Unable to open object (object 'extracted_forces' doesn't exist)\"\n",
      "\"Unable to open object (object 'extracted_forces' doesn't exist)\"\n",
      "\"Unable to open object (object 'extracted_forces' doesn't exist)\"\n",
      "\"Unable to open object (object 'extracted_forces' doesn't exist)\"\n",
      "\"Unable to open object (object 'extracted_forces' doesn't exist)\"\n",
      "\"Unable to open object (object 'extracted_forces' doesn't exist)\"\n",
      "\"Unable to open object (object 'extracted_forces' doesn't exist)\"\n",
      "\"Unable to open object (object 'extracted_forces' doesn't exist)\"\n",
      "\"Unable to open object (object 'extracted_forces' doesn't exist)\"\n",
      "\"Unable to open object (object 'extracted_forces' doesn't exist)\"\n",
      "\"Unable to open object (object 'extracted_forces' doesn't exist)\"\n",
      "\"Unable to open object (object 'extracted_forces' doesn't exist)\"\n",
      "\"Unable to open object (object 'extracted_forces' doesn't exist)\"\n",
      "\"Unable to open object (object 'extracted_forces' doesn't exist)\"\n",
      "\"Unable to open object (object 'extracted_forces' doesn't exist)\"\n",
      "\"Unable to open object (object 'extracted_forces' doesn't exist)\"\n",
      "\"Unable to open object (object 'extracted_forces' doesn't exist)\"\n",
      "\"Unable to open object (object 'extracted_forces' doesn't exist)\"\n",
      "\"Unable to open object (object 'extracted_forces' doesn't exist)\"\n",
      "\"Unable to open object (object 'extracted_forces' doesn't exist)\"\n",
      "\"Unable to open object (object 'extracted_forces' doesn't exist)\"\n",
      "\"Unable to open object (object 'extracted_forces' doesn't exist)\"\n",
      "\"Unable to open object (object 'extracted_forces' doesn't exist)\"\n",
      "\"Unable to open object (object 'extracted_forces' doesn't exist)\"\n",
      "\"Unable to open object (object 'extracted_forces' doesn't exist)\"\n",
      "\"Unable to open object (object 'extracted_forces' doesn't exist)\"\n",
      "\"Unable to open object (object 'extracted_forces' doesn't exist)\"\n",
      "\"Unable to open object (object 'extracted_forces' doesn't exist)\"\n",
      "\"Unable to open object (object 'extracted_forces' doesn't exist)\"\n",
      "\"Unable to open object (object 'extracted_forces' doesn't exist)\"\n",
      "\"Unable to open object (object 'extracted_forces' doesn't exist)\"\n",
      "\"Unable to open object (object 'extracted_forces' doesn't exist)\"\n",
      "\"Unable to open object (object 'extracted_forces' doesn't exist)\"\n",
      "\"Unable to open object (object 'extracted_forces' doesn't exist)\"\n"
     ]
    },
    {
     "name": "stderr",
     "output_type": "stream",
     "text": [
      "[11:03:35] UFFTYPER: Unrecognized charge state for atom: 13\n",
      "[11:03:37] UFFTYPER: Unrecognized charge state for atom: 16\n"
     ]
    },
    {
     "name": "stdout",
     "output_type": "stream",
     "text": [
      "\"Unable to open object (object 'extracted_forces' doesn't exist)\"\n"
     ]
    },
    {
     "name": "stderr",
     "output_type": "stream",
     "text": [
      "[11:03:40] UFFTYPER: Unrecognized charge state for atom: 7\n",
      "[11:03:41] UFFTYPER: Unrecognized charge state for atom: 1\n",
      "[11:03:42] UFFTYPER: Unrecognized charge state for atom: 8\n",
      "[11:03:42] UFFTYPER: Unrecognized charge state for atom: 14\n",
      "[11:03:42] UFFTYPER: Unrecognized charge state for atom: 10\n",
      "[11:03:48] UFFTYPER: Unrecognized charge state for atom: 17\n",
      "[11:03:48] UFFTYPER: Unrecognized charge state for atom: 10\n",
      "[11:03:49] UFFTYPER: Unrecognized charge state for atom: 7\n"
     ]
    },
    {
     "name": "stdout",
     "output_type": "stream",
     "text": [
      "\"Unable to open object (object 'extracted_forces' doesn't exist)\"\n",
      "\"Unable to open object (object 'extracted_forces' doesn't exist)\"\n",
      "\"Unable to open object (object 'extracted_forces' doesn't exist)\"\n",
      "\"Unable to open object (object 'extracted_forces' doesn't exist)\"\n",
      "\"Unable to open object (object 'extracted_forces' doesn't exist)\"\n",
      "\"Unable to open object (object 'extracted_forces' doesn't exist)\"\n",
      "\"Unable to open object (object 'extracted_forces' doesn't exist)\"\n",
      "\"Unable to open object (object 'extracted_forces' doesn't exist)\"\n"
     ]
    },
    {
     "name": "stderr",
     "output_type": "stream",
     "text": [
      "[11:03:51] UFFTYPER: Unrecognized charge state for atom: 1\n",
      "[11:03:52] UFFTYPER: Unrecognized charge state for atom: 1\n",
      "[11:03:53] UFFTYPER: Unrecognized charge state for atom: 16\n",
      "[11:03:53] UFFTYPER: Unrecognized charge state for atom: 6\n",
      "[11:03:54] UFFTYPER: Unrecognized charge state for atom: 6\n",
      "[11:03:54] UFFTYPER: Unrecognized charge state for atom: 7\n",
      "[11:03:55] UFFTYPER: Unrecognized charge state for atom: 1\n",
      "[11:03:55] UFFTYPER: Unrecognized charge state for atom: 10\n",
      "[11:03:55] UFFTYPER: Unrecognized charge state for atom: 1\n",
      "[11:03:56] UFFTYPER: Unrecognized charge state for atom: 3\n",
      "[11:04:01] UFFTYPER: Unrecognized charge state for atom: 21\n",
      "[11:04:03] UFFTYPER: Unrecognized charge state for atom: 8\n",
      "[11:04:06] UFFTYPER: Unrecognized charge state for atom: 10\n",
      "[11:04:07] UFFTYPER: Unrecognized charge state for atom: 1\n",
      "[11:04:07] UFFTYPER: Unrecognized charge state for atom: 1\n"
     ]
    },
    {
     "name": "stdout",
     "output_type": "stream",
     "text": [
      "\"Unable to open object (object 'extracted_forces' doesn't exist)\"\n"
     ]
    },
    {
     "name": "stderr",
     "output_type": "stream",
     "text": [
      "[11:04:08] UFFTYPER: Unrecognized charge state for atom: 4\n"
     ]
    },
    {
     "name": "stdout",
     "output_type": "stream",
     "text": [
      "\"Unable to open object (object 'extracted_forces' doesn't exist)\"\n"
     ]
    },
    {
     "name": "stderr",
     "output_type": "stream",
     "text": [
      "[11:04:11] UFFTYPER: Unrecognized charge state for atom: 5\n",
      "[11:04:19] UFFTYPER: Unrecognized charge state for atom: 1\n",
      "[11:04:20] UFFTYPER: Unrecognized charge state for atom: 15\n",
      "[11:04:20] UFFTYPER: Unrecognized charge state for atom: 15\n",
      "[11:04:21] UFFTYPER: Unrecognized charge state for atom: 3\n",
      "[11:04:24] UFFTYPER: Unrecognized charge state for atom: 1\n"
     ]
    },
    {
     "name": "stdout",
     "output_type": "stream",
     "text": [
      "\"Unable to open object (object 'extracted_forces' doesn't exist)\"\n"
     ]
    },
    {
     "name": "stderr",
     "output_type": "stream",
     "text": [
      "[11:04:24] UFFTYPER: Unrecognized charge state for atom: 3\n",
      "[11:04:25] UFFTYPER: Unrecognized charge state for atom: 12\n",
      "[11:04:27] UFFTYPER: Unrecognized charge state for atom: 5\n"
     ]
    },
    {
     "name": "stdout",
     "output_type": "stream",
     "text": [
      "\"Unable to open object (object 'extracted_forces' doesn't exist)\"\n"
     ]
    },
    {
     "name": "stderr",
     "output_type": "stream",
     "text": [
      "[11:04:30] UFFTYPER: Unrecognized charge state for atom: 6\n",
      "[11:04:33] UFFTYPER: Unrecognized charge state for atom: 1\n",
      "[11:04:33] UFFTYPER: Unrecognized charge state for atom: 1\n"
     ]
    },
    {
     "name": "stdout",
     "output_type": "stream",
     "text": [
      "\"Unable to open object (object 'extracted_forces' doesn't exist)\"\n",
      "\"Unable to open object (object 'extracted_forces' doesn't exist)\"\n",
      "\"Unable to open object (object 'extracted_forces' doesn't exist)\"\n",
      "\"Unable to open object (object 'extracted_forces' doesn't exist)\"\n",
      "\"Unable to open object (object 'extracted_forces' doesn't exist)\"\n",
      "\"Unable to open object (object 'extracted_forces' doesn't exist)\"\n",
      "\"Unable to open object (object 'extracted_forces' doesn't exist)\"\n",
      "\"Unable to open object (object 'extracted_forces' doesn't exist)\"\n",
      "\"Unable to open object (object 'extracted_forces' doesn't exist)\"\n",
      "\"Unable to open object (object 'extracted_forces' doesn't exist)\"\n",
      "\"Unable to open object (object 'extracted_forces' doesn't exist)\"\n",
      "\"Unable to open object (object 'extracted_forces' doesn't exist)\"\n",
      "\"Unable to open object (object 'extracted_forces' doesn't exist)\"\n",
      "\"Unable to open object (object 'extracted_forces' doesn't exist)\"\n",
      "\"Unable to open object (object 'extracted_forces' doesn't exist)\"\n",
      "\"Unable to open object (object 'extracted_forces' doesn't exist)\"\n",
      "\"Unable to open object (object 'extracted_forces' doesn't exist)\"\n",
      "\"Unable to open object (object 'extracted_forces' doesn't exist)\"\n",
      "\"Unable to open object (object 'extracted_forces' doesn't exist)\"\n",
      "\"Unable to open object (object 'extracted_forces' doesn't exist)\"\n",
      "\"Unable to open object (object 'extracted_forces' doesn't exist)\"\n",
      "\"Unable to open object (object 'extracted_forces' doesn't exist)\"\n",
      "\"Unable to open object (object 'extracted_forces' doesn't exist)\"\n"
     ]
    },
    {
     "name": "stderr",
     "output_type": "stream",
     "text": [
      "[11:04:35] UFFTYPER: Unrecognized charge state for atom: 10\n"
     ]
    },
    {
     "name": "stdout",
     "output_type": "stream",
     "text": [
      "\"Unable to open object (object 'extracted_forces' doesn't exist)\"\n",
      "\"Unable to open object (object 'extracted_forces' doesn't exist)\"\n",
      "\"Unable to open object (object 'extracted_forces' doesn't exist)\"\n"
     ]
    },
    {
     "name": "stderr",
     "output_type": "stream",
     "text": [
      "[11:04:44] UFFTYPER: Unrecognized charge state for atom: 10\n"
     ]
    },
    {
     "name": "stdout",
     "output_type": "stream",
     "text": [
      "\"Unable to open object (object 'extracted_forces' doesn't exist)\"\n",
      "\"Unable to open object (object 'extracted_forces' doesn't exist)\"\n",
      "\"Unable to open object (object 'extracted_forces' doesn't exist)\"\n",
      "\"Unable to open object (object 'extracted_forces' doesn't exist)\"\n",
      "\"Unable to open object (object 'extracted_forces' doesn't exist)\"\n",
      "\"Unable to open object (object 'extracted_forces' doesn't exist)\"\n",
      "\"Unable to open object (object 'extracted_forces' doesn't exist)\"\n",
      "\"Unable to open object (object 'extracted_forces' doesn't exist)\"\n",
      "\"Unable to open object (object 'extracted_forces' doesn't exist)\"\n",
      "\"Unable to open object (object 'extracted_forces' doesn't exist)\"\n",
      "\"Unable to open object (object 'extracted_forces' doesn't exist)\"\n",
      "\"Unable to open object (object 'extracted_forces' doesn't exist)\"\n",
      "\"Unable to open object (object 'extracted_forces' doesn't exist)\"\n",
      "\"Unable to open object (object 'extracted_forces' doesn't exist)\"\n",
      "\"Unable to open object (object 'extracted_forces' doesn't exist)\"\n",
      "\"Unable to open object (object 'extracted_forces' doesn't exist)\"\n",
      "\"Unable to open object (object 'extracted_forces' doesn't exist)\"\n"
     ]
    },
    {
     "name": "stderr",
     "output_type": "stream",
     "text": [
      "[11:04:49] UFFTYPER: Unrecognized charge state for atom: 5\n"
     ]
    },
    {
     "name": "stdout",
     "output_type": "stream",
     "text": [
      "\"Unable to open object (object 'extracted_forces' doesn't exist)\"\n",
      "\"Unable to open object (object 'extracted_forces' doesn't exist)\"\n",
      "\"Unable to open object (object 'extracted_forces' doesn't exist)\"\n",
      "\"Unable to open object (object 'extracted_forces' doesn't exist)\"\n",
      "\"Unable to open object (object 'extracted_forces' doesn't exist)\"\n",
      "\"Unable to open object (object 'extracted_forces' doesn't exist)\"\n",
      "\"Unable to open object (object 'extracted_forces' doesn't exist)\"\n",
      "\"Unable to open object (object 'extracted_forces' doesn't exist)\"\n",
      "\"Unable to open object (object 'extracted_forces' doesn't exist)\"\n",
      "\"Unable to open object (object 'extracted_forces' doesn't exist)\"\n",
      "\"Unable to open object (object 'extracted_forces' doesn't exist)\"\n",
      "\"Unable to open object (object 'extracted_forces' doesn't exist)\"\n",
      "\"Unable to open object (object 'extracted_forces' doesn't exist)\"\n",
      "\"Unable to open object (object 'extracted_forces' doesn't exist)\"\n",
      "\"Unable to open object (object 'extracted_forces' doesn't exist)\"\n",
      "\"Unable to open object (object 'extracted_forces' doesn't exist)\"\n",
      "\"Unable to open object (object 'extracted_forces' doesn't exist)\"\n",
      "\"Unable to open object (object 'extracted_forces' doesn't exist)\"\n",
      "\"Unable to open object (object 'extracted_forces' doesn't exist)\"\n",
      "\"Unable to open object (object 'extracted_forces' doesn't exist)\"\n",
      "\"Unable to open object (object 'extracted_forces' doesn't exist)\"\n",
      "\"Unable to open object (object 'extracted_forces' doesn't exist)\"\n",
      "\"Unable to open object (object 'extracted_forces' doesn't exist)\"\n",
      "\"Unable to open object (object 'extracted_forces' doesn't exist)\"\n",
      "\"Unable to open object (object 'extracted_forces' doesn't exist)\"\n",
      "\"Unable to open object (object 'extracted_forces' doesn't exist)\"\n",
      "\"Unable to open object (object 'extracted_forces' doesn't exist)\"\n",
      "\"Unable to open object (object 'extracted_forces' doesn't exist)\"\n",
      "\"Unable to open object (object 'extracted_forces' doesn't exist)\"\n",
      "\"Unable to open object (object 'extracted_forces' doesn't exist)\"\n",
      "\"Unable to open object (object 'extracted_forces' doesn't exist)\"\n",
      "\"Unable to open object (object 'extracted_forces' doesn't exist)\"\n",
      "\"Unable to open object (object 'extracted_forces' doesn't exist)\"\n"
     ]
    },
    {
     "name": "stderr",
     "output_type": "stream",
     "text": [
      "[11:04:49] UFFTYPER: Unrecognized charge state for atom: 14\n",
      "[11:04:50] UFFTYPER: Unrecognized charge state for atom: 15\n",
      "[11:04:54] UFFTYPER: Unrecognized charge state for atom: 17\n",
      "[11:04:57] UFFTYPER: Unrecognized charge state for atom: 6\n"
     ]
    },
    {
     "name": "stdout",
     "output_type": "stream",
     "text": [
      "\"Unable to open object (object 'extracted_forces' doesn't exist)\"\n"
     ]
    },
    {
     "name": "stderr",
     "output_type": "stream",
     "text": [
      "[11:05:00] UFFTYPER: Unrecognized charge state for atom: 4\n",
      "[11:05:02] UFFTYPER: Unrecognized charge state for atom: 11\n",
      "[11:05:02] UFFTYPER: Unrecognized charge state for atom: 1\n"
     ]
    },
    {
     "name": "stdout",
     "output_type": "stream",
     "text": [
      "\"Unable to open object (object 'extracted_forces' doesn't exist)\"\n",
      "\"Unable to open object (object 'extracted_forces' doesn't exist)\"\n"
     ]
    },
    {
     "name": "stderr",
     "output_type": "stream",
     "text": [
      "[11:05:10] UFFTYPER: Unrecognized charge state for atom: 5\n",
      "[11:05:10] UFFTYPER: Unrecognized charge state for atom: 1\n",
      "[11:05:10] UFFTYPER: Unrecognized charge state for atom: 8\n",
      "[11:05:13] UFFTYPER: Unrecognized charge state for atom: 7\n",
      "[11:05:15] UFFTYPER: Unrecognized charge state for atom: 17\n",
      "[11:05:15] UFFTYPER: Unrecognized charge state for atom: 1\n",
      "[11:05:17] UFFTYPER: Unrecognized charge state for atom: 7\n",
      "[11:05:17] UFFTYPER: Unrecognized charge state for atom: 8\n",
      "[11:05:19] UFFTYPER: Unrecognized charge state for atom: 1\n",
      "[11:05:19] UFFTYPER: Unrecognized charge state for atom: 9\n",
      "[11:05:19] UFFTYPER: Unrecognized charge state for atom: 9\n",
      "[11:05:20] UFFTYPER: Unrecognized charge state for atom: 8\n",
      "[11:05:23] UFFTYPER: Unrecognized charge state for atom: 15\n",
      "[11:05:23] UFFTYPER: Unrecognized charge state for atom: 12\n",
      "[11:05:25] UFFTYPER: Unrecognized charge state for atom: 11\n",
      "[11:05:26] UFFTYPER: Unrecognized charge state for atom: 5\n"
     ]
    },
    {
     "name": "stdout",
     "output_type": "stream",
     "text": [
      "\"Unable to open object (object 'extracted_forces' doesn't exist)\"\n"
     ]
    },
    {
     "name": "stderr",
     "output_type": "stream",
     "text": [
      "[11:05:27] UFFTYPER: Unrecognized charge state for atom: 4\n",
      "[11:05:28] UFFTYPER: Unrecognized charge state for atom: 1\n"
     ]
    },
    {
     "name": "stdout",
     "output_type": "stream",
     "text": [
      "\"Unable to open object (object 'extracted_forces' doesn't exist)\"\n",
      "\"Unable to open object (object 'extracted_forces' doesn't exist)\"\n",
      "\"Unable to open object (object 'extracted_forces' doesn't exist)\"\n",
      "\"Unable to open object (object 'extracted_forces' doesn't exist)\"\n",
      "\"Unable to open object (object 'extracted_forces' doesn't exist)\"\n",
      "\"Unable to open object (object 'extracted_forces' doesn't exist)\"\n",
      "\"Unable to open object (object 'extracted_forces' doesn't exist)\"\n",
      "\"Unable to open object (object 'extracted_forces' doesn't exist)\"\n",
      "\"Unable to open object (object 'extracted_forces' doesn't exist)\"\n",
      "\"Unable to open object (object 'extracted_forces' doesn't exist)\"\n",
      "\"Unable to open object (object 'extracted_forces' doesn't exist)\"\n",
      "\"Unable to open object (object 'extracted_forces' doesn't exist)\"\n",
      "\"Unable to open object (object 'extracted_forces' doesn't exist)\"\n",
      "\"Unable to open object (object 'extracted_forces' doesn't exist)\"\n",
      "\"Unable to open object (object 'extracted_forces' doesn't exist)\"\n"
     ]
    },
    {
     "name": "stderr",
     "output_type": "stream",
     "text": [
      "[11:05:35] UFFTYPER: Unrecognized charge state for atom: 1\n",
      "[11:05:38] UFFTYPER: Unrecognized charge state for atom: 12\n",
      "[11:05:39] UFFTYPER: Unrecognized charge state for atom: 9\n",
      "[11:05:40] UFFTYPER: Unrecognized charge state for atom: 1\n",
      "[11:05:40] UFFTYPER: Unrecognized charge state for atom: 8\n",
      "[11:05:44] UFFTYPER: Unrecognized charge state for atom: 21\n",
      "[11:05:45] UFFTYPER: Unrecognized charge state for atom: 10\n",
      "[11:05:46] UFFTYPER: Unrecognized charge state for atom: 9\n"
     ]
    },
    {
     "name": "stdout",
     "output_type": "stream",
     "text": [
      "\"Unable to open object (object 'extracted_forces' doesn't exist)\"\n"
     ]
    },
    {
     "name": "stderr",
     "output_type": "stream",
     "text": [
      "[11:05:56] UFFTYPER: Unrecognized charge state for atom: 10\n",
      "[11:05:58] UFFTYPER: Unrecognized charge state for atom: 8\n",
      "[11:06:06] UFFTYPER: Unrecognized charge state for atom: 1\n"
     ]
    },
    {
     "name": "stdout",
     "output_type": "stream",
     "text": [
      "\"Unable to open object (object 'extracted_forces' doesn't exist)\"\n"
     ]
    },
    {
     "name": "stderr",
     "output_type": "stream",
     "text": [
      "[11:06:13] UFFTYPER: Unrecognized charge state for atom: 4\n",
      "[11:06:15] UFFTYPER: Unrecognized charge state for atom: 9\n",
      "[11:06:15] UFFTYPER: Unrecognized charge state for atom: 17\n",
      "[11:06:16] UFFTYPER: Unrecognized charge state for atom: 1\n",
      "[11:06:19] UFFTYPER: Unrecognized charge state for atom: 10\n",
      "[11:06:21] UFFTYPER: Unrecognized charge state for atom: 6\n",
      "[11:06:22] UFFTYPER: Unrecognized charge state for atom: 6\n"
     ]
    },
    {
     "name": "stdout",
     "output_type": "stream",
     "text": [
      "\"Unable to open object (object 'extracted_forces' doesn't exist)\"\n",
      "\"Unable to open object (object 'extracted_forces' doesn't exist)\"\n"
     ]
    },
    {
     "name": "stderr",
     "output_type": "stream",
     "text": [
      "[11:06:28] UFFTYPER: Unrecognized charge state for atom: 1\n"
     ]
    },
    {
     "name": "stdout",
     "output_type": "stream",
     "text": [
      "\"Unable to open object (object 'extracted_forces' doesn't exist)\"\n",
      "\"Unable to open object (object 'extracted_forces' doesn't exist)\"\n",
      "\"Unable to open object (object 'extracted_forces' doesn't exist)\"\n",
      "\"Unable to open object (object 'extracted_forces' doesn't exist)\"\n",
      "\"Unable to open object (object 'extracted_forces' doesn't exist)\"\n",
      "\"Unable to open object (object 'extracted_forces' doesn't exist)\"\n",
      "\"Unable to open object (object 'extracted_forces' doesn't exist)\"\n",
      "\"Unable to open object (object 'extracted_forces' doesn't exist)\"\n",
      "\"Unable to open object (object 'extracted_forces' doesn't exist)\"\n",
      "\"Unable to open object (object 'extracted_forces' doesn't exist)\"\n",
      "\"Unable to open object (object 'extracted_forces' doesn't exist)\"\n",
      "\"Unable to open object (object 'extracted_forces' doesn't exist)\"\n",
      "\"Unable to open object (object 'extracted_forces' doesn't exist)\"\n",
      "\"Unable to open object (object 'extracted_forces' doesn't exist)\"\n",
      "\"Unable to open object (object 'extracted_forces' doesn't exist)\"\n",
      "\"Unable to open object (object 'extracted_forces' doesn't exist)\"\n",
      "\"Unable to open object (object 'extracted_forces' doesn't exist)\"\n",
      "\"Unable to open object (object 'extracted_forces' doesn't exist)\"\n",
      "\"Unable to open object (object 'extracted_forces' doesn't exist)\"\n",
      "\"Unable to open object (object 'extracted_forces' doesn't exist)\"\n",
      "\"Unable to open object (object 'extracted_forces' doesn't exist)\"\n"
     ]
    },
    {
     "name": "stderr",
     "output_type": "stream",
     "text": [
      "[11:06:35] UFFTYPER: Unrecognized charge state for atom: 7\n"
     ]
    },
    {
     "name": "stdout",
     "output_type": "stream",
     "text": [
      "\"Unable to open object (object 'extracted_forces' doesn't exist)\"\n",
      "\"Unable to open object (object 'extracted_forces' doesn't exist)\"\n",
      "\"Unable to open object (object 'extracted_forces' doesn't exist)\"\n",
      "\"Unable to open object (object 'extracted_forces' doesn't exist)\"\n",
      "\"Unable to open object (object 'extracted_forces' doesn't exist)\"\n",
      "\"Unable to open object (object 'extracted_forces' doesn't exist)\"\n",
      "\"Unable to open object (object 'extracted_forces' doesn't exist)\"\n",
      "\"Unable to open object (object 'extracted_forces' doesn't exist)\"\n",
      "\"Unable to open object (object 'extracted_forces' doesn't exist)\"\n",
      "\"Unable to open object (object 'extracted_forces' doesn't exist)\"\n"
     ]
    },
    {
     "name": "stderr",
     "output_type": "stream",
     "text": [
      "[11:06:40] UFFTYPER: Unrecognized charge state for atom: 10\n",
      "[11:06:41] UFFTYPER: Unrecognized charge state for atom: 12\n",
      "[11:06:42] UFFTYPER: Unrecognized charge state for atom: 4\n",
      "[11:06:44] UFFTYPER: Unrecognized charge state for atom: 9\n",
      "[11:06:44] UFFTYPER: Unrecognized charge state for atom: 12\n",
      "[11:06:45] UFFTYPER: Unrecognized charge state for atom: 1\n"
     ]
    },
    {
     "name": "stdout",
     "output_type": "stream",
     "text": [
      "\"Unable to open object (object 'extracted_forces' doesn't exist)\"\n"
     ]
    },
    {
     "name": "stderr",
     "output_type": "stream",
     "text": [
      "[11:06:48] UFFTYPER: Unrecognized charge state for atom: 12\n"
     ]
    },
    {
     "name": "stdout",
     "output_type": "stream",
     "text": [
      "\"Unable to open object (object 'extracted_forces' doesn't exist)\"\n",
      "\"Unable to open object (object 'extracted_forces' doesn't exist)\"\n",
      "\"Unable to open object (object 'extracted_forces' doesn't exist)\"\n"
     ]
    },
    {
     "name": "stderr",
     "output_type": "stream",
     "text": [
      "[11:06:49] UFFTYPER: Unrecognized charge state for atom: 1\n",
      "[11:06:49] UFFTYPER: Unrecognized charge state for atom: 9\n"
     ]
    },
    {
     "name": "stdout",
     "output_type": "stream",
     "text": [
      "\"Unable to open object (object 'extracted_forces' doesn't exist)\"\n",
      "\"Unable to open object (object 'extracted_forces' doesn't exist)\"\n",
      "\"Unable to open object (object 'extracted_forces' doesn't exist)\"\n",
      "\"Unable to open object (object 'extracted_forces' doesn't exist)\"\n",
      "\"Unable to open object (object 'extracted_forces' doesn't exist)\"\n",
      "\"Unable to open object (object 'extracted_forces' doesn't exist)\"\n",
      "\"Unable to open object (object 'extracted_forces' doesn't exist)\"\n",
      "\"Unable to open object (object 'extracted_forces' doesn't exist)\"\n",
      "\"Unable to open object (object 'extracted_forces' doesn't exist)\"\n",
      "\"Unable to open object (object 'extracted_forces' doesn't exist)\"\n",
      "\"Unable to open object (object 'extracted_forces' doesn't exist)\"\n",
      "\"Unable to open object (object 'extracted_forces' doesn't exist)\"\n",
      "\"Unable to open object (object 'extracted_forces' doesn't exist)\"\n",
      "\"Unable to open object (object 'extracted_forces' doesn't exist)\"\n",
      "\"Unable to open object (object 'extracted_forces' doesn't exist)\"\n",
      "\"Unable to open object (object 'extracted_forces' doesn't exist)\"\n",
      "\"Unable to open object (object 'extracted_forces' doesn't exist)\"\n",
      "\"Unable to open object (object 'extracted_forces' doesn't exist)\"\n",
      "\"Unable to open object (object 'extracted_forces' doesn't exist)\"\n",
      "\"Unable to open object (object 'extracted_forces' doesn't exist)\"\n",
      "\"Unable to open object (object 'extracted_forces' doesn't exist)\"\n",
      "\"Unable to open object (object 'extracted_forces' doesn't exist)\"\n",
      "\"Unable to open object (object 'extracted_forces' doesn't exist)\"\n",
      "\"Unable to open object (object 'extracted_forces' doesn't exist)\"\n",
      "\"Unable to open object (object 'extracted_forces' doesn't exist)\"\n",
      "\"Unable to open object (object 'extracted_forces' doesn't exist)\"\n",
      "\"Unable to open object (object 'extracted_forces' doesn't exist)\"\n",
      "\"Unable to open object (object 'extracted_forces' doesn't exist)\"\n",
      "\"Unable to open object (object 'extracted_forces' doesn't exist)\"\n",
      "\"Unable to open object (object 'extracted_forces' doesn't exist)\"\n",
      "\"Unable to open object (object 'extracted_forces' doesn't exist)\"\n",
      "\"Unable to open object (object 'extracted_forces' doesn't exist)\"\n",
      "\"Unable to open object (object 'extracted_forces' doesn't exist)\"\n",
      "\"Unable to open object (object 'extracted_forces' doesn't exist)\"\n",
      "\"Unable to open object (object 'extracted_forces' doesn't exist)\"\n",
      "\"Unable to open object (object 'extracted_forces' doesn't exist)\"\n",
      "\"Unable to open object (object 'extracted_forces' doesn't exist)\"\n",
      "\"Unable to open object (object 'extracted_forces' doesn't exist)\"\n",
      "\"Unable to open object (object 'extracted_forces' doesn't exist)\"\n",
      "\"Unable to open object (object 'extracted_forces' doesn't exist)\"\n",
      "\"Unable to open object (object 'extracted_forces' doesn't exist)\"\n",
      "\"Unable to open object (object 'extracted_forces' doesn't exist)\"\n",
      "\"Unable to open object (object 'extracted_forces' doesn't exist)\"\n",
      "\"Unable to open object (object 'extracted_forces' doesn't exist)\"\n",
      "\"Unable to open object (object 'extracted_forces' doesn't exist)\"\n",
      "\"Unable to open object (object 'extracted_forces' doesn't exist)\"\n",
      "\"Unable to open object (object 'extracted_forces' doesn't exist)\"\n",
      "\"Unable to open object (object 'extracted_forces' doesn't exist)\"\n",
      "\"Unable to open object (object 'extracted_forces' doesn't exist)\"\n",
      "\"Unable to open object (object 'extracted_forces' doesn't exist)\"\n",
      "\"Unable to open object (object 'extracted_forces' doesn't exist)\"\n",
      "\"Unable to open object (object 'extracted_forces' doesn't exist)\"\n",
      "\"Unable to open object (object 'extracted_forces' doesn't exist)\"\n",
      "\"Unable to open object (object 'extracted_forces' doesn't exist)\"\n",
      "\"Unable to open object (object 'extracted_forces' doesn't exist)\"\n",
      "\"Unable to open object (object 'extracted_forces' doesn't exist)\"\n",
      "\"Unable to open object (object 'extracted_forces' doesn't exist)\"\n",
      "\"Unable to open object (object 'extracted_forces' doesn't exist)\"\n",
      "\"Unable to open object (object 'extracted_forces' doesn't exist)\"\n",
      "\"Unable to open object (object 'extracted_forces' doesn't exist)\"\n",
      "\"Unable to open object (object 'extracted_forces' doesn't exist)\"\n",
      "\"Unable to open object (object 'extracted_forces' doesn't exist)\"\n",
      "\"Unable to open object (object 'extracted_forces' doesn't exist)\"\n",
      "\"Unable to open object (object 'extracted_forces' doesn't exist)\"\n",
      "\"Unable to open object (object 'extracted_forces' doesn't exist)\"\n",
      "\"Unable to open object (object 'extracted_forces' doesn't exist)\"\n",
      "\"Unable to open object (object 'extracted_forces' doesn't exist)\"\n",
      "\"Unable to open object (object 'extracted_forces' doesn't exist)\"\n",
      "\"Unable to open object (object 'extracted_forces' doesn't exist)\"\n",
      "\"Unable to open object (object 'extracted_forces' doesn't exist)\"\n",
      "\"Unable to open object (object 'extracted_forces' doesn't exist)\"\n",
      "\"Unable to open object (object 'extracted_forces' doesn't exist)\"\n",
      "\"Unable to open object (object 'extracted_forces' doesn't exist)\"\n",
      "\"Unable to open object (object 'extracted_forces' doesn't exist)\"\n",
      "\"Unable to open object (object 'extracted_forces' doesn't exist)\"\n"
     ]
    },
    {
     "name": "stderr",
     "output_type": "stream",
     "text": [
      "[11:06:56] UFFTYPER: Unrecognized charge state for atom: 1\n"
     ]
    },
    {
     "name": "stdout",
     "output_type": "stream",
     "text": [
      "\"Unable to open object (object 'extracted_forces' doesn't exist)\"\n",
      "\"Unable to open object (object 'extracted_forces' doesn't exist)\"\n"
     ]
    },
    {
     "name": "stderr",
     "output_type": "stream",
     "text": [
      "[11:06:59] UFFTYPER: Unrecognized charge state for atom: 6\n",
      "[11:07:01] UFFTYPER: Unrecognized charge state for atom: 1\n",
      "[11:07:02] UFFTYPER: Unrecognized charge state for atom: 4\n",
      "[11:07:03] UFFTYPER: Unrecognized charge state for atom: 7\n",
      "[11:07:04] UFFTYPER: Unrecognized charge state for atom: 7\n"
     ]
    },
    {
     "name": "stdout",
     "output_type": "stream",
     "text": [
      "\"Unable to open object (object 'extracted_forces' doesn't exist)\"\n",
      "\"Unable to open object (object 'extracted_forces' doesn't exist)\"\n",
      "\"Unable to open object (object 'extracted_forces' doesn't exist)\"\n",
      "\"Unable to open object (object 'extracted_forces' doesn't exist)\"\n",
      "\"Unable to open object (object 'extracted_forces' doesn't exist)\"\n",
      "\"Unable to open object (object 'extracted_forces' doesn't exist)\"\n",
      "\"Unable to open object (object 'extracted_forces' doesn't exist)\"\n",
      "\"Unable to open object (object 'extracted_forces' doesn't exist)\"\n",
      "\"Unable to open object (object 'extracted_forces' doesn't exist)\"\n",
      "\"Unable to open object (object 'extracted_forces' doesn't exist)\"\n"
     ]
    },
    {
     "name": "stderr",
     "output_type": "stream",
     "text": [
      "[11:07:08] UFFTYPER: Unrecognized charge state for atom: 18\n",
      "[11:07:09] UFFTYPER: Unrecognized charge state for atom: 14\n"
     ]
    },
    {
     "name": "stdout",
     "output_type": "stream",
     "text": [
      "\"Unable to open object (object 'extracted_forces' doesn't exist)\"\n"
     ]
    },
    {
     "name": "stderr",
     "output_type": "stream",
     "text": [
      "[11:07:10] UFFTYPER: Unrecognized charge state for atom: 9\n",
      "[11:07:11] UFFTYPER: Unrecognized charge state for atom: 3\n"
     ]
    },
    {
     "name": "stdout",
     "output_type": "stream",
     "text": [
      "\"Unable to open object (object 'extracted_forces' doesn't exist)\"\n"
     ]
    },
    {
     "name": "stderr",
     "output_type": "stream",
     "text": [
      "[11:07:11] UFFTYPER: Unrecognized charge state for atom: 19\n",
      "[11:07:13] UFFTYPER: Unrecognized charge state for atom: 13\n",
      "[11:07:13] UFFTYPER: Unrecognized charge state for atom: 3\n",
      "[11:07:18] UFFTYPER: Unrecognized charge state for atom: 2\n",
      "[11:07:18] UFFTYPER: Unrecognized charge state for atom: 11\n",
      "[11:07:19] UFFTYPER: Unrecognized charge state for atom: 14\n",
      "[11:07:19] UFFTYPER: Unrecognized charge state for atom: 12\n",
      "[11:07:20] UFFTYPER: Unrecognized charge state for atom: 13\n",
      "[11:07:22] UFFTYPER: Unrecognized charge state for atom: 6\n",
      "[11:07:22] UFFTYPER: Unrecognized charge state for atom: 2\n",
      "[11:07:22] UFFTYPER: Unrecognized charge state for atom: 12\n",
      "[11:07:26] UFFTYPER: Unrecognized charge state for atom: 10\n"
     ]
    },
    {
     "name": "stdout",
     "output_type": "stream",
     "text": [
      "\"Unable to open object (object 'extracted_forces' doesn't exist)\"\n"
     ]
    },
    {
     "name": "stderr",
     "output_type": "stream",
     "text": [
      "[11:07:27] UFFTYPER: Unrecognized charge state for atom: 18\n",
      "[11:07:27] UFFTYPER: Unrecognized charge state for atom: 6\n",
      "[11:07:28] UFFTYPER: Unrecognized charge state for atom: 4\n",
      "[11:07:29] UFFTYPER: Unrecognized charge state for atom: 1\n",
      "[11:07:31] UFFTYPER: Unrecognized charge state for atom: 1\n",
      "[11:07:31] UFFTYPER: Unrecognized charge state for atom: 8\n"
     ]
    },
    {
     "name": "stdout",
     "output_type": "stream",
     "text": [
      "\"Unable to open object (object 'extracted_forces' doesn't exist)\"\n",
      "\"Unable to open object (object 'extracted_forces' doesn't exist)\"\n"
     ]
    },
    {
     "name": "stderr",
     "output_type": "stream",
     "text": [
      "[11:07:33] UFFTYPER: Unrecognized charge state for atom: 3\n"
     ]
    },
    {
     "name": "stdout",
     "output_type": "stream",
     "text": [
      "\"Unable to open object (object 'extracted_forces' doesn't exist)\"\n",
      "\"Unable to open object (object 'extracted_forces' doesn't exist)\"\n",
      "\"Unable to open object (object 'extracted_forces' doesn't exist)\"\n",
      "\"Unable to open object (object 'extracted_forces' doesn't exist)\"\n",
      "\"Unable to open object (object 'extracted_forces' doesn't exist)\"\n",
      "\"Unable to open object (object 'extracted_forces' doesn't exist)\"\n",
      "\"Unable to open object (object 'extracted_forces' doesn't exist)\"\n",
      "\"Unable to open object (object 'extracted_forces' doesn't exist)\"\n",
      "\"Unable to open object (object 'extracted_forces' doesn't exist)\"\n",
      "\"Unable to open object (object 'extracted_forces' doesn't exist)\"\n"
     ]
    },
    {
     "name": "stderr",
     "output_type": "stream",
     "text": [
      "[11:07:34] UFFTYPER: Unrecognized charge state for atom: 10\n"
     ]
    },
    {
     "name": "stdout",
     "output_type": "stream",
     "text": [
      "\"Unable to open object (object 'extracted_forces' doesn't exist)\"\n",
      "\"Unable to open object (object 'extracted_forces' doesn't exist)\"\n"
     ]
    },
    {
     "name": "stderr",
     "output_type": "stream",
     "text": [
      "[11:07:37] UFFTYPER: Unrecognized charge state for atom: 4\n"
     ]
    },
    {
     "name": "stdout",
     "output_type": "stream",
     "text": [
      "\"Unable to open object (object 'extracted_forces' doesn't exist)\"\n",
      "\"Unable to open object (object 'extracted_forces' doesn't exist)\"\n"
     ]
    },
    {
     "name": "stderr",
     "output_type": "stream",
     "text": [
      "[11:07:43] UFFTYPER: Unrecognized charge state for atom: 10\n",
      "[11:07:43] UFFTYPER: Unrecognized charge state for atom: 7\n"
     ]
    },
    {
     "name": "stdout",
     "output_type": "stream",
     "text": [
      "\"Unable to open object (object 'extracted_forces' doesn't exist)\"\n"
     ]
    },
    {
     "name": "stderr",
     "output_type": "stream",
     "text": [
      "[11:07:46] UFFTYPER: Unrecognized charge state for atom: 8\n",
      "[11:07:48] UFFTYPER: Unrecognized charge state for atom: 9\n"
     ]
    },
    {
     "name": "stdout",
     "output_type": "stream",
     "text": [
      "\"Unable to open object (object 'extracted_forces' doesn't exist)\"\n"
     ]
    },
    {
     "name": "stderr",
     "output_type": "stream",
     "text": [
      "[11:07:51] UFFTYPER: Unrecognized charge state for atom: 4\n",
      "[11:07:58] UFFTYPER: Unrecognized charge state for atom: 8\n",
      "[11:08:00] UFFTYPER: Unrecognized charge state for atom: 7\n",
      "[11:08:01] UFFTYPER: Unrecognized charge state for atom: 14\n",
      "[11:08:04] UFFTYPER: Unrecognized charge state for atom: 18\n"
     ]
    },
    {
     "name": "stdout",
     "output_type": "stream",
     "text": [
      "\"Unable to open object (object 'extracted_forces' doesn't exist)\"\n"
     ]
    },
    {
     "name": "stderr",
     "output_type": "stream",
     "text": [
      "[11:08:06] UFFTYPER: Unrecognized charge state for atom: 10\n",
      "[11:08:07] UFFTYPER: Unrecognized charge state for atom: 12\n",
      "[11:08:09] UFFTYPER: Unrecognized charge state for atom: 1\n"
     ]
    },
    {
     "name": "stdout",
     "output_type": "stream",
     "text": [
      "\"Unable to open object (object 'extracted_forces' doesn't exist)\"\n"
     ]
    },
    {
     "name": "stderr",
     "output_type": "stream",
     "text": [
      "[11:08:14] UFFTYPER: Unrecognized charge state for atom: 11\n",
      "[11:08:15] UFFTYPER: Unrecognized charge state for atom: 9\n",
      "[11:08:16] UFFTYPER: Unrecognized charge state for atom: 4\n"
     ]
    },
    {
     "name": "stdout",
     "output_type": "stream",
     "text": [
      "\"Unable to open object (object 'extracted_forces' doesn't exist)\"\n",
      "\"Unable to open object (object 'extracted_forces' doesn't exist)\"\n"
     ]
    },
    {
     "name": "stderr",
     "output_type": "stream",
     "text": [
      "[11:08:20] UFFTYPER: Unrecognized charge state for atom: 6\n",
      "[11:08:22] UFFTYPER: Unrecognized charge state for atom: 9\n",
      "[11:08:23] UFFTYPER: Unrecognized charge state for atom: 10\n",
      "[11:08:24] UFFTYPER: Unrecognized charge state for atom: 8\n",
      "[11:08:24] UFFTYPER: Unrecognized charge state for atom: 21\n",
      "[11:08:24] UFFTYPER: Unrecognized charge state for atom: 1\n",
      "[11:08:25] UFFTYPER: Unrecognized charge state for atom: 7\n",
      "[11:08:26] UFFTYPER: Unrecognized charge state for atom: 12\n",
      "[11:08:27] UFFTYPER: Unrecognized charge state for atom: 6\n",
      "[11:08:28] UFFTYPER: Unrecognized charge state for atom: 6\n",
      "[11:08:30] UFFTYPER: Unrecognized charge state for atom: 19\n",
      "[11:08:31] UFFTYPER: Unrecognized charge state for atom: 9\n",
      "[11:08:32] UFFTYPER: Unrecognized charge state for atom: 6\n"
     ]
    },
    {
     "name": "stdout",
     "output_type": "stream",
     "text": [
      "\"Unable to open object (object 'extracted_forces' doesn't exist)\"\n",
      "\"Unable to open object (object 'extracted_forces' doesn't exist)\"\n",
      "\"Unable to open object (object 'extracted_forces' doesn't exist)\"\n",
      "\"Unable to open object (object 'extracted_forces' doesn't exist)\"\n",
      "\"Unable to open object (object 'extracted_forces' doesn't exist)\"\n",
      "\"Unable to open object (object 'extracted_forces' doesn't exist)\"\n",
      "\"Unable to open object (object 'extracted_forces' doesn't exist)\"\n",
      "\"Unable to open object (object 'extracted_forces' doesn't exist)\"\n",
      "\"Unable to open object (object 'extracted_forces' doesn't exist)\"\n",
      "\"Unable to open object (object 'extracted_forces' doesn't exist)\"\n"
     ]
    },
    {
     "name": "stderr",
     "output_type": "stream",
     "text": [
      "[11:08:33] UFFTYPER: Unrecognized charge state for atom: 7\n",
      "[11:08:33] UFFTYPER: Unrecognized charge state for atom: 15\n"
     ]
    },
    {
     "name": "stdout",
     "output_type": "stream",
     "text": [
      "\"Unable to open object (object 'extracted_forces' doesn't exist)\"\n",
      "\"Unable to open object (object 'extracted_forces' doesn't exist)\"\n",
      "\"Unable to open object (object 'extracted_forces' doesn't exist)\"\n",
      "\"Unable to open object (object 'extracted_forces' doesn't exist)\"\n",
      "\"Unable to open object (object 'extracted_forces' doesn't exist)\"\n",
      "\"Unable to open object (object 'extracted_forces' doesn't exist)\"\n",
      "\"Unable to open object (object 'extracted_forces' doesn't exist)\"\n",
      "\"Unable to open object (object 'extracted_forces' doesn't exist)\"\n",
      "\"Unable to open object (object 'extracted_forces' doesn't exist)\"\n",
      "\"Unable to open object (object 'extracted_forces' doesn't exist)\"\n",
      "\"Unable to open object (object 'extracted_forces' doesn't exist)\"\n",
      "\"Unable to open object (object 'extracted_forces' doesn't exist)\"\n",
      "\"Unable to open object (object 'extracted_forces' doesn't exist)\"\n",
      "\"Unable to open object (object 'extracted_forces' doesn't exist)\"\n",
      "\"Unable to open object (object 'extracted_forces' doesn't exist)\"\n",
      "\"Unable to open object (object 'extracted_forces' doesn't exist)\"\n",
      "\"Unable to open object (object 'extracted_forces' doesn't exist)\"\n",
      "\"Unable to open object (object 'extracted_forces' doesn't exist)\"\n",
      "\"Unable to open object (object 'extracted_forces' doesn't exist)\"\n",
      "\"Unable to open object (object 'extracted_forces' doesn't exist)\"\n",
      "\"Unable to open object (object 'extracted_forces' doesn't exist)\"\n",
      "\"Unable to open object (object 'extracted_forces' doesn't exist)\"\n",
      "\"Unable to open object (object 'extracted_forces' doesn't exist)\"\n",
      "\"Unable to open object (object 'extracted_forces' doesn't exist)\"\n",
      "\"Unable to open object (object 'extracted_forces' doesn't exist)\"\n",
      "\"Unable to open object (object 'extracted_forces' doesn't exist)\"\n",
      "\"Unable to open object (object 'extracted_forces' doesn't exist)\"\n",
      "\"Unable to open object (object 'extracted_forces' doesn't exist)\"\n",
      "\"Unable to open object (object 'extracted_forces' doesn't exist)\"\n",
      "\"Unable to open object (object 'extracted_forces' doesn't exist)\"\n"
     ]
    },
    {
     "name": "stderr",
     "output_type": "stream",
     "text": [
      "[11:08:34] UFFTYPER: Unrecognized charge state for atom: 9\n",
      "[11:08:34] UFFTYPER: Unrecognized charge state for atom: 12\n"
     ]
    },
    {
     "name": "stdout",
     "output_type": "stream",
     "text": [
      "\"Unable to open object (object 'extracted_forces' doesn't exist)\"\"Unable to open object (object 'extracted_forces' doesn't exist)\"\n",
      "\n",
      "\"Unable to open object (object 'extracted_forces' doesn't exist)\"\n",
      "\"Unable to open object (object 'extracted_forces' doesn't exist)\"\n",
      "\"Unable to open object (object 'extracted_forces' doesn't exist)\"\n",
      "\"Unable to open object (object 'extracted_forces' doesn't exist)\"\n",
      "\"Unable to open object (object 'extracted_forces' doesn't exist)\"\n",
      "\"Unable to open object (object 'extracted_forces' doesn't exist)\"\n",
      "\"Unable to open object (object 'extracted_forces' doesn't exist)\"\n",
      "\"Unable to open object (object 'extracted_forces' doesn't exist)\"\n",
      "\"Unable to open object (object 'extracted_forces' doesn't exist)\"\n",
      "\"Unable to open object (object 'extracted_forces' doesn't exist)\"\n",
      "\"Unable to open object (object 'extracted_forces' doesn't exist)\"\n",
      "\"Unable to open object (object 'extracted_forces' doesn't exist)\"\n",
      "\"Unable to open object (object 'extracted_forces' doesn't exist)\"\n",
      "\"Unable to open object (object 'extracted_forces' doesn't exist)\"\n",
      "\"Unable to open object (object 'extracted_forces' doesn't exist)\"\n"
     ]
    },
    {
     "name": "stderr",
     "output_type": "stream",
     "text": [
      "[11:08:36] UFFTYPER: Unrecognized charge state for atom: 8\n",
      "[11:08:39] UFFTYPER: Unrecognized charge state for atom: 1\n",
      "[11:08:40] UFFTYPER: Unrecognized charge state for atom: 12\n",
      "[11:08:42] UFFTYPER: Unrecognized charge state for atom: 10\n",
      "[11:08:42] UFFTYPER: Unrecognized charge state for atom: 1\n",
      "[11:08:45] UFFTYPER: Unrecognized charge state for atom: 15\n"
     ]
    },
    {
     "name": "stdout",
     "output_type": "stream",
     "text": [
      "\"Unable to open object (object 'extracted_forces' doesn't exist)\"\n",
      "\"Unable to open object (object 'extracted_forces' doesn't exist)\"\n"
     ]
    },
    {
     "name": "stderr",
     "output_type": "stream",
     "text": [
      "[11:08:46] UFFTYPER: Unrecognized charge state for atom: 3\n"
     ]
    },
    {
     "name": "stdout",
     "output_type": "stream",
     "text": [
      "\"Unable to open object (object 'extracted_forces' doesn't exist)\"\n",
      "\"Unable to open object (object 'extracted_forces' doesn't exist)\"\n",
      "\"Unable to open object (object 'extracted_forces' doesn't exist)\"\n",
      "\"Unable to open object (object 'extracted_forces' doesn't exist)\"\n",
      "\"Unable to open object (object 'extracted_forces' doesn't exist)\"\n",
      "\"Unable to open object (object 'extracted_forces' doesn't exist)\"\n",
      "\"Unable to open object (object 'extracted_forces' doesn't exist)\"\n",
      "\"Unable to open object (object 'extracted_forces' doesn't exist)\"\n",
      "\"Unable to open object (object 'extracted_forces' doesn't exist)\"\n",
      "\"Unable to open object (object 'extracted_forces' doesn't exist)\"\n",
      "\"Unable to open object (object 'extracted_forces' doesn't exist)\"\n",
      "\"Unable to open object (object 'extracted_forces' doesn't exist)\"\n",
      "\"Unable to open object (object 'extracted_forces' doesn't exist)\"\n",
      "\"Unable to open object (object 'extracted_forces' doesn't exist)\"\n",
      "\"Unable to open object (object 'extracted_forces' doesn't exist)\"\n",
      "\"Unable to open object (object 'extracted_forces' doesn't exist)\"\n",
      "\"Unable to open object (object 'extracted_forces' doesn't exist)\"\n",
      "\"Unable to open object (object 'extracted_forces' doesn't exist)\"\n",
      "\"Unable to open object (object 'extracted_forces' doesn't exist)\"\n",
      "\"Unable to open object (object 'extracted_forces' doesn't exist)\"\n",
      "\"Unable to open object (object 'extracted_forces' doesn't exist)\"\n",
      "\"Unable to open object (object 'extracted_forces' doesn't exist)\"\n",
      "\"Unable to open object (object 'extracted_forces' doesn't exist)\"\n",
      "\"Unable to open object (object 'extracted_forces' doesn't exist)\"\n",
      "\"Unable to open object (object 'extracted_forces' doesn't exist)\"\n",
      "\"Unable to open object (object 'extracted_forces' doesn't exist)\"\n",
      "\"Unable to open object (object 'extracted_forces' doesn't exist)\"\n",
      "\"Unable to open object (object 'extracted_forces' doesn't exist)\"\n",
      "\"Unable to open object (object 'extracted_forces' doesn't exist)\"\n",
      "\"Unable to open object (object 'extracted_forces' doesn't exist)\"\n",
      "\"Unable to open object (object 'extracted_forces' doesn't exist)\"\n",
      "\"Unable to open object (object 'extracted_forces' doesn't exist)\"\n",
      "\"Unable to open object (object 'extracted_forces' doesn't exist)\"\n",
      "\"Unable to open object (object 'extracted_forces' doesn't exist)\"\n",
      "\"Unable to open object (object 'extracted_forces' doesn't exist)\"\n",
      "\"Unable to open object (object 'extracted_forces' doesn't exist)\"\n",
      "\"Unable to open object (object 'extracted_forces' doesn't exist)\"\n",
      "\"Unable to open object (object 'extracted_forces' doesn't exist)\"\n",
      "\"Unable to open object (object 'extracted_forces' doesn't exist)\"\n",
      "\"Unable to open object (object 'extracted_forces' doesn't exist)\"\n",
      "\"Unable to open object (object 'extracted_forces' doesn't exist)\"\n",
      "\"Unable to open object (object 'extracted_forces' doesn't exist)\"\n",
      "\"Unable to open object (object 'extracted_forces' doesn't exist)\"\n",
      "\"Unable to open object (object 'extracted_forces' doesn't exist)\"\n",
      "\"Unable to open object (object 'extracted_forces' doesn't exist)\"\n",
      "\"Unable to open object (object 'extracted_forces' doesn't exist)\"\n",
      "\"Unable to open object (object 'extracted_forces' doesn't exist)\"\n",
      "\"Unable to open object (object 'extracted_forces' doesn't exist)\"\n",
      "\"Unable to open object (object 'extracted_forces' doesn't exist)\"\n",
      "\"Unable to open object (object 'extracted_forces' doesn't exist)\"\n",
      "\"Unable to open object (object 'extracted_forces' doesn't exist)\"\n",
      "\"Unable to open object (object 'extracted_forces' doesn't exist)\"\n",
      "\"Unable to open object (object 'extracted_forces' doesn't exist)\"\n",
      "\"Unable to open object (object 'extracted_forces' doesn't exist)\"\n",
      "\"Unable to open object (object 'extracted_forces' doesn't exist)\"\n",
      "\"Unable to open object (object 'extracted_forces' doesn't exist)\"\n",
      "\"Unable to open object (object 'extracted_forces' doesn't exist)\"\n",
      "\"Unable to open object (object 'extracted_forces' doesn't exist)\"\n",
      "\"Unable to open object (object 'extracted_forces' doesn't exist)\"\n",
      "\"Unable to open object (object 'extracted_forces' doesn't exist)\"\n",
      "\"Unable to open object (object 'extracted_forces' doesn't exist)\"\n",
      "\"Unable to open object (object 'extracted_forces' doesn't exist)\"\n",
      "\"Unable to open object (object 'extracted_forces' doesn't exist)\"\n",
      "\"Unable to open object (object 'extracted_forces' doesn't exist)\"\n",
      "\"Unable to open object (object 'extracted_forces' doesn't exist)\"\n",
      "\"Unable to open object (object 'extracted_forces' doesn't exist)\"\n",
      "\"Unable to open object (object 'extracted_forces' doesn't exist)\"\n",
      "\"Unable to open object (object 'extracted_forces' doesn't exist)\"\n",
      "\"Unable to open object (object 'extracted_forces' doesn't exist)\"\n",
      "\"Unable to open object (object 'extracted_forces' doesn't exist)\"\n",
      "\"Unable to open object (object 'extracted_forces' doesn't exist)\"\n",
      "\"Unable to open object (object 'extracted_forces' doesn't exist)\"\n",
      "\"Unable to open object (object 'extracted_forces' doesn't exist)\"\n",
      "\"Unable to open object (object 'extracted_forces' doesn't exist)\"\n",
      "\"Unable to open object (object 'extracted_forces' doesn't exist)\"\n",
      "\"Unable to open object (object 'extracted_forces' doesn't exist)\"\n",
      "\"Unable to open object (object 'extracted_forces' doesn't exist)\"\n",
      "\"Unable to open object (object 'extracted_forces' doesn't exist)\"\n",
      "\"Unable to open object (object 'extracted_forces' doesn't exist)\"\n",
      "\"Unable to open object (object 'extracted_forces' doesn't exist)\"\n",
      "\"Unable to open object (object 'extracted_forces' doesn't exist)\"\n",
      "\"Unable to open object (object 'extracted_forces' doesn't exist)\"\n"
     ]
    },
    {
     "name": "stderr",
     "output_type": "stream",
     "text": [
      "[11:08:55] UFFTYPER: Unrecognized charge state for atom: 1\n",
      "[11:08:55] UFFTYPER: Unrecognized charge state for atom: 9\n"
     ]
    },
    {
     "name": "stdout",
     "output_type": "stream",
     "text": [
      "\"Unable to open object (object 'extracted_forces' doesn't exist)\"\n"
     ]
    },
    {
     "name": "stderr",
     "output_type": "stream",
     "text": [
      "[11:08:57] UFFTYPER: Unrecognized charge state for atom: 4\n",
      "[11:08:59] UFFTYPER: Unrecognized charge state for atom: 1\n",
      "[11:09:03] UFFTYPER: Unrecognized charge state for atom: 10\n",
      "[11:09:03] UFFTYPER: Unrecognized charge state for atom: 2\n",
      "[11:09:04] UFFTYPER: Unrecognized charge state for atom: 3\n",
      "[11:09:07] UFFTYPER: Unrecognized charge state for atom: 10\n"
     ]
    },
    {
     "name": "stdout",
     "output_type": "stream",
     "text": [
      "\"Unable to open object (object 'extracted_forces' doesn't exist)\"\n",
      "\"Unable to open object (object 'extracted_forces' doesn't exist)\"\n",
      "\"Unable to open object (object 'extracted_forces' doesn't exist)\"\n",
      "\"Unable to open object (object 'extracted_forces' doesn't exist)\"\n",
      "\"Unable to open object (object 'extracted_forces' doesn't exist)\"\n",
      "\"Unable to open object (object 'extracted_forces' doesn't exist)\"\n",
      "\"Unable to open object (object 'extracted_forces' doesn't exist)\"\n",
      "\"Unable to open object (object 'extracted_forces' doesn't exist)\"\n",
      "\"Unable to open object (object 'extracted_forces' doesn't exist)\"\n",
      "\"Unable to open object (object 'extracted_forces' doesn't exist)\"\n",
      "\"Unable to open object (object 'extracted_forces' doesn't exist)\"\n",
      "\"Unable to open object (object 'extracted_forces' doesn't exist)\"\n",
      "\"Unable to open object (object 'extracted_forces' doesn't exist)\"\n",
      "\"Unable to open object (object 'extracted_forces' doesn't exist)\"\n",
      "\"Unable to open object (object 'extracted_forces' doesn't exist)\"\n",
      "\"Unable to open object (object 'extracted_forces' doesn't exist)\"\n",
      "\"Unable to open object (object 'extracted_forces' doesn't exist)\"\n",
      "\"Unable to open object (object 'extracted_forces' doesn't exist)\"\n",
      "\"Unable to open object (object 'extracted_forces' doesn't exist)\"\n",
      "\"Unable to open object (object 'extracted_forces' doesn't exist)\"\n",
      "\"Unable to open object (object 'extracted_forces' doesn't exist)\"\n",
      "\"Unable to open object (object 'extracted_forces' doesn't exist)\"\n",
      "\"Unable to open object (object 'extracted_forces' doesn't exist)\"\n",
      "\"Unable to open object (object 'extracted_forces' doesn't exist)\"\n",
      "\"Unable to open object (object 'extracted_forces' doesn't exist)\"\n",
      "\"Unable to open object (object 'extracted_forces' doesn't exist)\"\n",
      "\"Unable to open object (object 'extracted_forces' doesn't exist)\"\n",
      "\"Unable to open object (object 'extracted_forces' doesn't exist)\"\n",
      "\"Unable to open object (object 'extracted_forces' doesn't exist)\"\n",
      "\"Unable to open object (object 'extracted_forces' doesn't exist)\"\n",
      "\"Unable to open object (object 'extracted_forces' doesn't exist)\"\n",
      "\"Unable to open object (object 'extracted_forces' doesn't exist)\"\n",
      "\"Unable to open object (object 'extracted_forces' doesn't exist)\"\n",
      "\"Unable to open object (object 'extracted_forces' doesn't exist)\"\n",
      "\"Unable to open object (object 'extracted_forces' doesn't exist)\"\n",
      "\"Unable to open object (object 'extracted_forces' doesn't exist)\"\n",
      "\"Unable to open object (object 'extracted_forces' doesn't exist)\"\n",
      "\"Unable to open object (object 'extracted_forces' doesn't exist)\"\n",
      "\"Unable to open object (object 'extracted_forces' doesn't exist)\"\n",
      "\"Unable to open object (object 'extracted_forces' doesn't exist)\"\n",
      "\"Unable to open object (object 'extracted_forces' doesn't exist)\"\n",
      "\"Unable to open object (object 'extracted_forces' doesn't exist)\"\n",
      "\"Unable to open object (object 'extracted_forces' doesn't exist)\"\n",
      "\"Unable to open object (object 'extracted_forces' doesn't exist)\"\n",
      "\"Unable to open object (object 'extracted_forces' doesn't exist)\"\n",
      "\"Unable to open object (object 'extracted_forces' doesn't exist)\"\n",
      "\"Unable to open object (object 'extracted_forces' doesn't exist)\"\n",
      "\"Unable to open object (object 'extracted_forces' doesn't exist)\"\n",
      "\"Unable to open object (object 'extracted_forces' doesn't exist)\"\n",
      "\"Unable to open object (object 'extracted_forces' doesn't exist)\"\n"
     ]
    },
    {
     "name": "stderr",
     "output_type": "stream",
     "text": [
      "[11:09:11] UFFTYPER: Unrecognized charge state for atom: 8\n",
      "[11:09:14] UFFTYPER: Unrecognized charge state for atom: 8\n"
     ]
    },
    {
     "name": "stdout",
     "output_type": "stream",
     "text": [
      "\"Unable to open object (object 'extracted_forces' doesn't exist)\"\n"
     ]
    },
    {
     "name": "stderr",
     "output_type": "stream",
     "text": [
      "[11:09:17] UFFTYPER: Unrecognized charge state for atom: 14\n"
     ]
    },
    {
     "name": "stdout",
     "output_type": "stream",
     "text": [
      "\"Unable to open object (object 'extracted_forces' doesn't exist)\"\n"
     ]
    },
    {
     "name": "stderr",
     "output_type": "stream",
     "text": [
      "[11:09:18] UFFTYPER: Unrecognized charge state for atom: 15\n"
     ]
    },
    {
     "name": "stdout",
     "output_type": "stream",
     "text": [
      "Bad Conformer Id\n",
      "\"Unable to open object (object 'extracted_forces' doesn't exist)\"\n"
     ]
    },
    {
     "name": "stderr",
     "output_type": "stream",
     "text": [
      "[11:09:20] UFFTYPER: Unrecognized charge state for atom: 1\n",
      "[11:09:22] UFFTYPER: Unrecognized charge state for atom: 10\n"
     ]
    },
    {
     "name": "stdout",
     "output_type": "stream",
     "text": [
      "\"Unable to open object (object 'extracted_forces' doesn't exist)\"\n"
     ]
    },
    {
     "name": "stderr",
     "output_type": "stream",
     "text": [
      "[11:09:24] UFFTYPER: Unrecognized charge state for atom: 6\n"
     ]
    },
    {
     "name": "stdout",
     "output_type": "stream",
     "text": [
      "\"Unable to open object (object 'extracted_forces' doesn't exist)\"\n"
     ]
    },
    {
     "name": "stderr",
     "output_type": "stream",
     "text": [
      "[11:09:25] UFFTYPER: Unrecognized charge state for atom: 15\n",
      "[11:09:26] UFFTYPER: Unrecognized charge state for atom: 7\n",
      "[11:09:28] UFFTYPER: Unrecognized charge state for atom: 1\n"
     ]
    },
    {
     "name": "stdout",
     "output_type": "stream",
     "text": [
      "\"Unable to open object (object 'extracted_forces' doesn't exist)\"\n",
      "\"Unable to open object (object 'extracted_forces' doesn't exist)\"\n",
      "\"Unable to open object (object 'extracted_forces' doesn't exist)\"\n",
      "\"Unable to open object (object 'extracted_forces' doesn't exist)\"\n",
      "\"Unable to open object (object 'extracted_forces' doesn't exist)\"\n",
      "\"Unable to open object (object 'extracted_forces' doesn't exist)\"\n",
      "\"Unable to open object (object 'extracted_forces' doesn't exist)\"\n",
      "\"Unable to open object (object 'extracted_forces' doesn't exist)\"\n",
      "\"Unable to open object (object 'extracted_forces' doesn't exist)\"\n",
      "\"Unable to open object (object 'extracted_forces' doesn't exist)\"\n"
     ]
    },
    {
     "name": "stderr",
     "output_type": "stream",
     "text": [
      "[11:09:31] UFFTYPER: Unrecognized charge state for atom: 9\n"
     ]
    },
    {
     "name": "stdout",
     "output_type": "stream",
     "text": [
      "\"Unable to open object (object 'extracted_forces' doesn't exist)\"\n",
      "\"Unable to open object (object 'extracted_forces' doesn't exist)\"\n",
      "\"Unable to open object (object 'extracted_forces' doesn't exist)\"\n",
      "\"Unable to open object (object 'extracted_forces' doesn't exist)\"\n",
      "\"Unable to open object (object 'extracted_forces' doesn't exist)\"\n",
      "\"Unable to open object (object 'extracted_forces' doesn't exist)\"\n",
      "\"Unable to open object (object 'extracted_forces' doesn't exist)\"\n",
      "\"Unable to open object (object 'extracted_forces' doesn't exist)\"\n",
      "\"Unable to open object (object 'extracted_forces' doesn't exist)\"\n",
      "\"Unable to open object (object 'extracted_forces' doesn't exist)\"\n",
      "\"Unable to open object (object 'extracted_forces' doesn't exist)\"\n",
      "\"Unable to open object (object 'extracted_forces' doesn't exist)\"\n",
      "\"Unable to open object (object 'extracted_forces' doesn't exist)\"\n",
      "\"Unable to open object (object 'extracted_forces' doesn't exist)\"\n",
      "\"Unable to open object (object 'extracted_forces' doesn't exist)\"\n",
      "\"Unable to open object (object 'extracted_forces' doesn't exist)\"\n",
      "\"Unable to open object (object 'extracted_forces' doesn't exist)\"\n",
      "\"Unable to open object (object 'extracted_forces' doesn't exist)\"\n",
      "\"Unable to open object (object 'extracted_forces' doesn't exist)\"\n",
      "\"Unable to open object (object 'extracted_forces' doesn't exist)\"\n"
     ]
    },
    {
     "name": "stderr",
     "output_type": "stream",
     "text": [
      "[11:09:32] UFFTYPER: Unrecognized charge state for atom: 1\n",
      "[11:09:35] UFFTYPER: Unrecognized charge state for atom: 19\n",
      "[11:09:36] UFFTYPER: Unrecognized charge state for atom: 5\n",
      "[11:09:38] UFFTYPER: Unrecognized charge state for atom: 1\n"
     ]
    },
    {
     "name": "stdout",
     "output_type": "stream",
     "text": [
      "\"Unable to open object (object 'extracted_forces' doesn't exist)\"\n"
     ]
    },
    {
     "name": "stderr",
     "output_type": "stream",
     "text": [
      "[11:09:39] UFFTYPER: Unrecognized charge state for atom: 1\n",
      "[11:09:41] UFFTYPER: Unrecognized charge state for atom: 9\n"
     ]
    },
    {
     "name": "stdout",
     "output_type": "stream",
     "text": [
      "\"Unable to open object (object 'extracted_forces' doesn't exist)\"\n",
      "\"Unable to open object (object 'extracted_forces' doesn't exist)\"\n",
      "\"Unable to open object (object 'extracted_forces' doesn't exist)\"\n"
     ]
    },
    {
     "name": "stderr",
     "output_type": "stream",
     "text": [
      "[11:09:41] UFFTYPER: Unrecognized charge state for atom: 7\n"
     ]
    },
    {
     "name": "stdout",
     "output_type": "stream",
     "text": [
      "\"Unable to open object (object 'extracted_forces' doesn't exist)\"\n",
      "\"Unable to open object (object 'extracted_forces' doesn't exist)\"\n",
      "\"Unable to open object (object 'extracted_forces' doesn't exist)\"\n",
      "\"Unable to open object (object 'extracted_forces' doesn't exist)\"\n",
      "\"Unable to open object (object 'extracted_forces' doesn't exist)\"\n",
      "\"Unable to open object (object 'extracted_forces' doesn't exist)\"\n",
      "\"Unable to open object (object 'extracted_forces' doesn't exist)\"\n",
      "\"Unable to open object (object 'extracted_forces' doesn't exist)\"\n",
      "\"Unable to open object (object 'extracted_forces' doesn't exist)\"\n",
      "\"Unable to open object (object 'extracted_forces' doesn't exist)\"\n",
      "\"Unable to open object (object 'extracted_forces' doesn't exist)\"\n",
      "\"Unable to open object (object 'extracted_forces' doesn't exist)\"\n",
      "\"Unable to open object (object 'extracted_forces' doesn't exist)\"\n",
      "\"Unable to open object (object 'extracted_forces' doesn't exist)\"\n",
      "\"Unable to open object (object 'extracted_forces' doesn't exist)\"\n",
      "\"Unable to open object (object 'extracted_forces' doesn't exist)\"\n",
      "\"Unable to open object (object 'extracted_forces' doesn't exist)\"\n",
      "\"Unable to open object (object 'extracted_forces' doesn't exist)\"\n",
      "\"Unable to open object (object 'extracted_forces' doesn't exist)\"\n",
      "\"Unable to open object (object 'extracted_forces' doesn't exist)\"\n",
      "\"Unable to open object (object 'extracted_forces' doesn't exist)\"\n",
      "\"Unable to open object (object 'extracted_forces' doesn't exist)\"\n",
      "\"Unable to open object (object 'extracted_forces' doesn't exist)\"\n",
      "\"Unable to open object (object 'extracted_forces' doesn't exist)\"\n",
      "\"Unable to open object (object 'extracted_forces' doesn't exist)\"\n",
      "\"Unable to open object (object 'extracted_forces' doesn't exist)\"\n",
      "\"Unable to open object (object 'extracted_forces' doesn't exist)\"\n",
      "\"Unable to open object (object 'extracted_forces' doesn't exist)\"\n",
      "\"Unable to open object (object 'extracted_forces' doesn't exist)\"\n",
      "\"Unable to open object (object 'extracted_forces' doesn't exist)\"\n"
     ]
    },
    {
     "name": "stderr",
     "output_type": "stream",
     "text": [
      "[11:09:44] UFFTYPER: Unrecognized charge state for atom: 4\n",
      "[11:09:45] UFFTYPER: Unrecognized charge state for atom: 1\n"
     ]
    },
    {
     "name": "stdout",
     "output_type": "stream",
     "text": [
      "\"Unable to open object (object 'reprocessed_forces' doesn't exist)\"\n",
      "\"Unable to open object (object 'extracted_forces' doesn't exist)\"\n",
      "\"Unable to open object (object 'extracted_forces' doesn't exist)\"\n",
      "\"Unable to open object (object 'extracted_forces' doesn't exist)\"\n",
      "\"Unable to open object (object 'extracted_forces' doesn't exist)\"\n",
      "\"Unable to open object (object 'extracted_forces' doesn't exist)\"\n",
      "\"Unable to open object (object 'extracted_forces' doesn't exist)\"\n",
      "\"Unable to open object (object 'extracted_forces' doesn't exist)\"\n",
      "\"Unable to open object (object 'extracted_forces' doesn't exist)\"\n",
      "\"Unable to open object (object 'extracted_forces' doesn't exist)\"\n",
      "\"Unable to open object (object 'extracted_forces' doesn't exist)\"\n",
      "\"Unable to open object (object 'extracted_forces' doesn't exist)\"\n",
      "\"Unable to open object (object 'extracted_forces' doesn't exist)\"\n",
      "\"Unable to open object (object 'extracted_forces' doesn't exist)\"\n",
      "\"Unable to open object (object 'extracted_forces' doesn't exist)\"\n",
      "\"Unable to open object (object 'extracted_forces' doesn't exist)\"\n",
      "\"Unable to open object (object 'extracted_forces' doesn't exist)\"\n",
      "\"Unable to open object (object 'extracted_forces' doesn't exist)\"\n",
      "\"Unable to open object (object 'extracted_forces' doesn't exist)\"\n",
      "\"Unable to open object (object 'extracted_forces' doesn't exist)\"\n",
      "\"Unable to open object (object 'extracted_forces' doesn't exist)\"\n",
      "\"Unable to open object (object 'extracted_forces' doesn't exist)\"\n",
      "\"Unable to open object (object 'extracted_forces' doesn't exist)\"\n"
     ]
    },
    {
     "name": "stderr",
     "output_type": "stream",
     "text": [
      "[11:09:51] UFFTYPER: Unrecognized charge state for atom: 9\n"
     ]
    },
    {
     "name": "stdout",
     "output_type": "stream",
     "text": [
      "\"Unable to open object (object 'extracted_forces' doesn't exist)\"\n",
      "\"Unable to open object (object 'extracted_forces' doesn't exist)\"\n",
      "\"Unable to open object (object 'extracted_forces' doesn't exist)\"\n",
      "\"Unable to open object (object 'extracted_forces' doesn't exist)\"\n",
      "\"Unable to open object (object 'extracted_forces' doesn't exist)\"\n",
      "\"Unable to open object (object 'extracted_forces' doesn't exist)\"\n",
      "\"Unable to open object (object 'extracted_forces' doesn't exist)\"\n",
      "\"Unable to open object (object 'extracted_forces' doesn't exist)\"\n",
      "\"Unable to open object (object 'extracted_forces' doesn't exist)\"\n",
      "\"Unable to open object (object 'extracted_forces' doesn't exist)\"\n",
      "\"Unable to open object (object 'extracted_forces' doesn't exist)\"\n"
     ]
    },
    {
     "name": "stderr",
     "output_type": "stream",
     "text": [
      "[11:09:57] UFFTYPER: Unrecognized charge state for atom: 5\n",
      "[11:09:57] UFFTYPER: Unrecognized charge state for atom: 5\n"
     ]
    },
    {
     "name": "stdout",
     "output_type": "stream",
     "text": [
      "\"Unable to open object (object 'extracted_forces' doesn't exist)\"\n",
      "\"Unable to open object (object 'extracted_forces' doesn't exist)\"\n"
     ]
    },
    {
     "name": "stderr",
     "output_type": "stream",
     "text": [
      "[11:09:59] UFFTYPER: Unrecognized charge state for atom: 1\n"
     ]
    },
    {
     "name": "stdout",
     "output_type": "stream",
     "text": [
      "\"Unable to open object (object 'extracted_forces' doesn't exist)\"\n",
      "\"Unable to open object (object 'extracted_forces' doesn't exist)\"\n",
      "\"Unable to open object (object 'extracted_forces' doesn't exist)\"\n",
      "\"Unable to open object (object 'extracted_forces' doesn't exist)\"\n",
      "\"Unable to open object (object 'extracted_forces' doesn't exist)\"\n",
      "\"Unable to open object (object 'extracted_forces' doesn't exist)\"\n",
      "\"Unable to open object (object 'extracted_forces' doesn't exist)\"\n",
      "\"Unable to open object (object 'extracted_forces' doesn't exist)\"\n",
      "\"Unable to open object (object 'extracted_forces' doesn't exist)\"\n",
      "\"Unable to open object (object 'extracted_forces' doesn't exist)\"\n"
     ]
    },
    {
     "name": "stderr",
     "output_type": "stream",
     "text": [
      "[11:10:00] UFFTYPER: Unrecognized charge state for atom: 3\n"
     ]
    },
    {
     "name": "stdout",
     "output_type": "stream",
     "text": [
      "\"Unable to open object (object 'extracted_forces' doesn't exist)\"\n",
      "\"Unable to open object (object 'extracted_forces' doesn't exist)\"\n",
      "\"Unable to open object (object 'extracted_forces' doesn't exist)\"\n",
      "\"Unable to open object (object 'extracted_forces' doesn't exist)\"\n",
      "\"Unable to open object (object 'extracted_forces' doesn't exist)\"\n",
      "\"Unable to open object (object 'extracted_forces' doesn't exist)\"\n",
      "\"Unable to open object (object 'extracted_forces' doesn't exist)\"\n",
      "\"Unable to open object (object 'extracted_forces' doesn't exist)\"\n",
      "\"Unable to open object (object 'extracted_forces' doesn't exist)\"\n",
      "\"Unable to open object (object 'extracted_forces' doesn't exist)\"\n",
      "\"Unable to open object (object 'extracted_forces' doesn't exist)\"\n",
      "\"Unable to open object (object 'extracted_forces' doesn't exist)\"\n",
      "\"Unable to open object (object 'extracted_forces' doesn't exist)\"\n",
      "\"Unable to open object (object 'extracted_forces' doesn't exist)\"\n",
      "\"Unable to open object (object 'extracted_forces' doesn't exist)\"\n",
      "\"Unable to open object (object 'extracted_forces' doesn't exist)\"\n",
      "\"Unable to open object (object 'extracted_forces' doesn't exist)\"\n",
      "\"Unable to open object (object 'extracted_forces' doesn't exist)\"\n",
      "\"Unable to open object (object 'extracted_forces' doesn't exist)\"\n",
      "\"Unable to open object (object 'extracted_forces' doesn't exist)\"\n",
      "\"Unable to open object (object 'extracted_forces' doesn't exist)\"\n",
      "\"Unable to open object (object 'extracted_forces' doesn't exist)\"\n",
      "\"Unable to open object (object 'extracted_forces' doesn't exist)\"\n",
      "\"Unable to open object (object 'extracted_forces' doesn't exist)\"\n",
      "\"Unable to open object (object 'extracted_forces' doesn't exist)\"\n",
      "\"Unable to open object (object 'extracted_forces' doesn't exist)\"\n",
      "\"Unable to open object (object 'extracted_forces' doesn't exist)\"\n",
      "\"Unable to open object (object 'extracted_forces' doesn't exist)\"\n",
      "\"Unable to open object (object 'extracted_forces' doesn't exist)\"\n",
      "\"Unable to open object (object 'extracted_forces' doesn't exist)\"\n",
      "\"Unable to open object (object 'extracted_forces' doesn't exist)\"\n",
      "\"Unable to open object (object 'extracted_forces' doesn't exist)\"\n",
      "\"Unable to open object (object 'extracted_forces' doesn't exist)\"\n",
      "\"Unable to open object (object 'extracted_forces' doesn't exist)\"\n",
      "\"Unable to open object (object 'extracted_forces' doesn't exist)\"\n",
      "\"Unable to open object (object 'extracted_forces' doesn't exist)\"\n",
      "\"Unable to open object (object 'extracted_forces' doesn't exist)\"\n",
      "\"Unable to open object (object 'extracted_forces' doesn't exist)\"\n",
      "\"Unable to open object (object 'extracted_forces' doesn't exist)\"\n",
      "\"Unable to open object (object 'extracted_forces' doesn't exist)\"\n",
      "\"Unable to open object (object 'extracted_forces' doesn't exist)\"\n",
      "\"Unable to open object (object 'extracted_forces' doesn't exist)\"\n",
      "\"Unable to open object (object 'extracted_forces' doesn't exist)\"\n",
      "\"Unable to open object (object 'extracted_forces' doesn't exist)\"\n",
      "\"Unable to open object (object 'extracted_forces' doesn't exist)\"\n",
      "\"Unable to open object (object 'extracted_forces' doesn't exist)\"\n",
      "\"Unable to open object (object 'extracted_forces' doesn't exist)\"\n",
      "\"Unable to open object (object 'extracted_forces' doesn't exist)\"\n",
      "\"Unable to open object (object 'extracted_forces' doesn't exist)\"\n",
      "\"Unable to open object (object 'extracted_forces' doesn't exist)\"\n",
      "\"Unable to open object (object 'extracted_forces' doesn't exist)\"\n",
      "\"Unable to open object (object 'extracted_forces' doesn't exist)\"\n"
     ]
    },
    {
     "name": "stderr",
     "output_type": "stream",
     "text": [
      "[11:10:08] UFFTYPER: Unrecognized charge state for atom: 3\n",
      "[11:10:09] UFFTYPER: Unrecognized charge state for atom: 9\n"
     ]
    },
    {
     "name": "stdout",
     "output_type": "stream",
     "text": [
      "\"Unable to open object (object 'extracted_forces' doesn't exist)\"\n"
     ]
    },
    {
     "name": "stderr",
     "output_type": "stream",
     "text": [
      "[11:10:11] UFFTYPER: Unrecognized charge state for atom: 14\n",
      "[11:10:11] UFFTYPER: Unrecognized charge state for atom: 19\n",
      "[11:10:12] UFFTYPER: Unrecognized charge state for atom: 1\n",
      "[11:10:12] UFFTYPER: Unrecognized charge state for atom: 1\n",
      "[11:10:12] UFFTYPER: Unrecognized charge state for atom: 4\n",
      "[11:10:14] UFFTYPER: Unrecognized charge state for atom: 9\n",
      "[11:10:16] UFFTYPER: Unrecognized charge state for atom: 14\n",
      "[11:10:17] UFFTYPER: Unrecognized charge state for atom: 12\n"
     ]
    },
    {
     "name": "stdout",
     "output_type": "stream",
     "text": [
      "\"Unable to open object (object 'extracted_forces' doesn't exist)\"\n"
     ]
    },
    {
     "name": "stderr",
     "output_type": "stream",
     "text": [
      "[11:10:18] UFFTYPER: Unrecognized charge state for atom: 10\n",
      "[11:10:19] UFFTYPER: Unrecognized charge state for atom: 2\n"
     ]
    },
    {
     "name": "stdout",
     "output_type": "stream",
     "text": [
      "\"Unable to open object (object 'extracted_forces' doesn't exist)\"\n",
      "\"Unable to open object (object 'extracted_forces' doesn't exist)\"\n",
      "\"Unable to open object (object 'extracted_forces' doesn't exist)\"\n",
      "\"Unable to open object (object 'extracted_forces' doesn't exist)\"\n",
      "\"Unable to open object (object 'extracted_forces' doesn't exist)\"\n",
      "\"Unable to open object (object 'extracted_forces' doesn't exist)\"\n",
      "\"Unable to open object (object 'extracted_forces' doesn't exist)\"\n",
      "\"Unable to open object (object 'extracted_forces' doesn't exist)\"\n",
      "\"Unable to open object (object 'extracted_forces' doesn't exist)\"\n",
      "\"Unable to open object (object 'extracted_forces' doesn't exist)\"\n",
      "\"Unable to open object (object 'extracted_forces' doesn't exist)\"\n",
      "\"Unable to open object (object 'extracted_forces' doesn't exist)\"\n",
      "\"Unable to open object (object 'extracted_forces' doesn't exist)\"\n",
      "\"Unable to open object (object 'extracted_forces' doesn't exist)\"\n",
      "\"Unable to open object (object 'extracted_forces' doesn't exist)\"\n",
      "\"Unable to open object (object 'extracted_forces' doesn't exist)\"\n",
      "\"Unable to open object (object 'extracted_forces' doesn't exist)\"\n"
     ]
    },
    {
     "name": "stderr",
     "output_type": "stream",
     "text": [
      "[11:10:24] UFFTYPER: Unrecognized charge state for atom: 6\n",
      "[11:10:24] UFFTYPER: Unrecognized charge state for atom: 8\n",
      "[11:10:26] UFFTYPER: Unrecognized charge state for atom: 4\n",
      "[11:10:27] UFFTYPER: Unrecognized charge state for atom: 1\n",
      "[11:10:28] UFFTYPER: Unrecognized charge state for atom: 8\n",
      "[11:10:30] UFFTYPER: Unrecognized charge state for atom: 13\n",
      "[11:10:30] UFFTYPER: Unrecognized charge state for atom: 3\n",
      "[11:10:31] UFFTYPER: Unrecognized charge state for atom: 1\n",
      "[11:10:36] UFFTYPER: Unrecognized charge state for atom: 11\n"
     ]
    },
    {
     "name": "stdout",
     "output_type": "stream",
     "text": [
      "\"Unable to open object (object 'extracted_forces' doesn't exist)\"\n",
      "\"Unable to open object (object 'extracted_forces' doesn't exist)\"\n",
      "\"Unable to open object (object 'extracted_forces' doesn't exist)\"\n",
      "\"Unable to open object (object 'extracted_forces' doesn't exist)\"\n",
      "\"Unable to open object (object 'extracted_forces' doesn't exist)\"\n",
      "\"Unable to open object (object 'extracted_forces' doesn't exist)\"\n",
      "\"Unable to open object (object 'extracted_forces' doesn't exist)\"\n",
      "\"Unable to open object (object 'extracted_forces' doesn't exist)\"\n",
      "\"Unable to open object (object 'extracted_forces' doesn't exist)\"\n",
      "\"Unable to open object (object 'extracted_forces' doesn't exist)\"\n",
      "\"Unable to open object (object 'extracted_forces' doesn't exist)\"\n",
      "\"Unable to open object (object 'extracted_forces' doesn't exist)\"\n",
      "\"Unable to open object (object 'extracted_forces' doesn't exist)\"\n"
     ]
    },
    {
     "name": "stderr",
     "output_type": "stream",
     "text": [
      "[11:10:40] UFFTYPER: Unrecognized charge state for atom: 1\n",
      "[11:10:42] UFFTYPER: Unrecognized charge state for atom: 19\n",
      "[11:10:43] UFFTYPER: Unrecognized charge state for atom: 16\n",
      "[11:10:43] UFFTYPER: Unrecognized charge state for atom: 5\n",
      "[11:10:44] UFFTYPER: Unrecognized charge state for atom: 3\n",
      "[11:10:45] UFFTYPER: Unrecognized charge state for atom: 5\n",
      "[11:10:46] UFFTYPER: Unrecognized charge state for atom: 7\n",
      "[11:10:49] UFFTYPER: Unrecognized charge state for atom: 1\n",
      "[11:10:50] UFFTYPER: Unrecognized charge state for atom: 3\n",
      "[11:10:50] UFFTYPER: Unrecognized charge state for atom: 3\n"
     ]
    },
    {
     "name": "stdout",
     "output_type": "stream",
     "text": [
      "\"Unable to open object (object 'extracted_forces' doesn't exist)\"\n"
     ]
    },
    {
     "name": "stderr",
     "output_type": "stream",
     "text": [
      "[11:10:52] UFFTYPER: Unrecognized charge state for atom: 7\n",
      "[11:10:53] UFFTYPER: Unrecognized charge state for atom: 8\n",
      "[11:10:55] UFFTYPER: Unrecognized charge state for atom: 3\n"
     ]
    },
    {
     "name": "stdout",
     "output_type": "stream",
     "text": [
      "\"Unable to open object (object 'extracted_forces' doesn't exist)\"\n",
      "\"Unable to open object (object 'extracted_forces' doesn't exist)\"\n",
      "\"Unable to open object (object 'extracted_forces' doesn't exist)\"\n",
      "\"Unable to open object (object 'extracted_forces' doesn't exist)\"\n",
      "\"Unable to open object (object 'extracted_forces' doesn't exist)\"\n"
     ]
    },
    {
     "name": "stderr",
     "output_type": "stream",
     "text": [
      "[11:10:56] UFFTYPER: Unrecognized charge state for atom: 10\n"
     ]
    },
    {
     "name": "stdout",
     "output_type": "stream",
     "text": [
      "\"Unable to open object (object 'extracted_forces' doesn't exist)\"\n",
      "\"Unable to open object (object 'extracted_forces' doesn't exist)\"\n",
      "\"Unable to open object (object 'extracted_forces' doesn't exist)\"\n",
      "\"Unable to open object (object 'extracted_forces' doesn't exist)\"\n",
      "\"Unable to open object (object 'extracted_forces' doesn't exist)\"\n",
      "\"Unable to open object (object 'extracted_forces' doesn't exist)\"\n",
      "\"Unable to open object (object 'extracted_forces' doesn't exist)\"\n",
      "\"Unable to open object (object 'extracted_forces' doesn't exist)\"\n",
      "\"Unable to open object (object 'extracted_forces' doesn't exist)\"\n",
      "\"Unable to open object (object 'extracted_forces' doesn't exist)\"\n",
      "\"Unable to open object (object 'extracted_forces' doesn't exist)\"\n",
      "\"Unable to open object (object 'extracted_forces' doesn't exist)\"\n",
      "\"Unable to open object (object 'extracted_forces' doesn't exist)\"\n",
      "\"Unable to open object (object 'extracted_forces' doesn't exist)\"\n",
      "\"Unable to open object (object 'extracted_forces' doesn't exist)\"\n",
      "\"Unable to open object (object 'extracted_forces' doesn't exist)\"\n",
      "\"Unable to open object (object 'extracted_forces' doesn't exist)\"\n",
      "\"Unable to open object (object 'extracted_forces' doesn't exist)\"\n",
      "\"Unable to open object (object 'extracted_forces' doesn't exist)\"\n",
      "\"Unable to open object (object 'extracted_forces' doesn't exist)\"\n",
      "\"Unable to open object (object 'extracted_forces' doesn't exist)\"\n",
      "\"Unable to open object (object 'extracted_forces' doesn't exist)\"\n",
      "\"Unable to open object (object 'extracted_forces' doesn't exist)\"\n",
      "\"Unable to open object (object 'extracted_forces' doesn't exist)\"\n",
      "\"Unable to open object (object 'extracted_forces' doesn't exist)\"\n",
      "\"Unable to open object (object 'extracted_forces' doesn't exist)\"\n",
      "\"Unable to open object (object 'extracted_forces' doesn't exist)\"\n",
      "\"Unable to open object (object 'extracted_forces' doesn't exist)\"\n",
      "\"Unable to open object (object 'extracted_forces' doesn't exist)\"\n",
      "\"Unable to open object (object 'extracted_forces' doesn't exist)\"\n",
      "\"Unable to open object (object 'extracted_forces' doesn't exist)\"\n",
      "\"Unable to open object (object 'extracted_forces' doesn't exist)\"\n",
      "\"Unable to open object (object 'extracted_forces' doesn't exist)\"\n",
      "\"Unable to open object (object 'extracted_forces' doesn't exist)\"\n",
      "\"Unable to open object (object 'extracted_forces' doesn't exist)\"\n",
      "\"Unable to open object (object 'extracted_forces' doesn't exist)\"\n",
      "\"Unable to open object (object 'extracted_forces' doesn't exist)\"\n",
      "\"Unable to open object (object 'extracted_forces' doesn't exist)\"\n",
      "\"Unable to open object (object 'extracted_forces' doesn't exist)\"\n",
      "\"Unable to open object (object 'extracted_forces' doesn't exist)\"\n",
      "\"Unable to open object (object 'extracted_forces' doesn't exist)\"\n",
      "\"Unable to open object (object 'extracted_forces' doesn't exist)\"\n",
      "\"Unable to open object (object 'extracted_forces' doesn't exist)\"\n",
      "\"Unable to open object (object 'extracted_forces' doesn't exist)\"\n",
      "\"Unable to open object (object 'extracted_forces' doesn't exist)\"\n",
      "\"Unable to open object (object 'extracted_forces' doesn't exist)\"\n",
      "\"Unable to open object (object 'extracted_forces' doesn't exist)\"\n"
     ]
    },
    {
     "name": "stderr",
     "output_type": "stream",
     "text": [
      "[11:10:59] UFFTYPER: Unrecognized charge state for atom: 12\n"
     ]
    },
    {
     "name": "stdout",
     "output_type": "stream",
     "text": [
      "\"Unable to open object (object 'extracted_forces' doesn't exist)\"\n"
     ]
    },
    {
     "name": "stderr",
     "output_type": "stream",
     "text": [
      "[11:11:00] UFFTYPER: Unrecognized charge state for atom: 6\n",
      "[11:11:02] UFFTYPER: Unrecognized charge state for atom: 1\n",
      "[11:11:04] UFFTYPER: Unrecognized charge state for atom: 16\n",
      "[11:11:07] UFFTYPER: Unrecognized charge state for atom: 9\n",
      "[11:11:10] UFFTYPER: Unrecognized charge state for atom: 4\n",
      "[11:11:12] UFFTYPER: Unrecognized charge state for atom: 17\n"
     ]
    },
    {
     "name": "stdout",
     "output_type": "stream",
     "text": [
      "\"Unable to open object (object 'extracted_forces' doesn't exist)\"\n",
      "\"Unable to open object (object 'extracted_forces' doesn't exist)\"\n",
      "\"Unable to open object (object 'extracted_forces' doesn't exist)\"\n"
     ]
    },
    {
     "name": "stderr",
     "output_type": "stream",
     "text": [
      "[11:11:15] UFFTYPER: Unrecognized charge state for atom: 11\n",
      "[11:11:15] UFFTYPER: Unrecognized charge state for atom: 9\n",
      "[11:11:16] UFFTYPER: Unrecognized charge state for atom: 10\n",
      "[11:11:17] UFFTYPER: Unrecognized charge state for atom: 7\n"
     ]
    },
    {
     "name": "stdout",
     "output_type": "stream",
     "text": [
      "\"Unable to open object (object 'extracted_forces' doesn't exist)\"\n",
      "\"Unable to open object (object 'extracted_forces' doesn't exist)\"\n",
      "\"Unable to open object (object 'extracted_forces' doesn't exist)\"\n",
      "\"Unable to open object (object 'extracted_forces' doesn't exist)\"\n"
     ]
    },
    {
     "name": "stderr",
     "output_type": "stream",
     "text": [
      "[11:11:19] UFFTYPER: Unrecognized charge state for atom: 1\n"
     ]
    },
    {
     "name": "stdout",
     "output_type": "stream",
     "text": [
      "\"Unable to open object (object 'extracted_forces' doesn't exist)\"\n",
      "\"Unable to open object (object 'extracted_forces' doesn't exist)\"\n",
      "\"Unable to open object (object 'extracted_forces' doesn't exist)\"\n",
      "\"Unable to open object (object 'extracted_forces' doesn't exist)\"\n",
      "\"Unable to open object (object 'extracted_forces' doesn't exist)\"\n",
      "\"Unable to open object (object 'extracted_forces' doesn't exist)\"\n",
      "\"Unable to open object (object 'extracted_forces' doesn't exist)\"\n",
      "\"Unable to open object (object 'extracted_forces' doesn't exist)\"\n",
      "\"Unable to open object (object 'extracted_forces' doesn't exist)\"\n",
      "\"Unable to open object (object 'extracted_forces' doesn't exist)\"\n",
      "\"Unable to open object (object 'extracted_forces' doesn't exist)\"\n",
      "\"Unable to open object (object 'extracted_forces' doesn't exist)\"\n",
      "\"Unable to open object (object 'extracted_forces' doesn't exist)\"\n",
      "\"Unable to open object (object 'extracted_forces' doesn't exist)\"\n",
      "\"Unable to open object (object 'extracted_forces' doesn't exist)\"\n",
      "\"Unable to open object (object 'extracted_forces' doesn't exist)\"\n",
      "\"Unable to open object (object 'extracted_forces' doesn't exist)\"\n",
      "\"Unable to open object (object 'extracted_forces' doesn't exist)\"\n",
      "\"Unable to open object (object 'extracted_forces' doesn't exist)\"\n",
      "\"Unable to open object (object 'extracted_forces' doesn't exist)\"\n",
      "\"Unable to open object (object 'extracted_forces' doesn't exist)\"\n",
      "\"Unable to open object (object 'extracted_forces' doesn't exist)\"\n",
      "\"Unable to open object (object 'extracted_forces' doesn't exist)\"\n",
      "\"Unable to open object (object 'extracted_forces' doesn't exist)\"\n",
      "\"Unable to open object (object 'extracted_forces' doesn't exist)\"\n",
      "\"Unable to open object (object 'extracted_forces' doesn't exist)\"\n",
      "\"Unable to open object (object 'extracted_forces' doesn't exist)\"\n",
      "\"Unable to open object (object 'extracted_forces' doesn't exist)\"\n",
      "\"Unable to open object (object 'extracted_forces' doesn't exist)\"\n",
      "\"Unable to open object (object 'extracted_forces' doesn't exist)\"\n"
     ]
    },
    {
     "name": "stderr",
     "output_type": "stream",
     "text": [
      "[11:11:23] UFFTYPER: Unrecognized charge state for atom: 6\n",
      "[11:11:24] UFFTYPER: Unrecognized charge state for atom: 15\n",
      "[11:11:26] UFFTYPER: Unrecognized charge state for atom: 10\n",
      "[11:11:27] UFFTYPER: Unrecognized charge state for atom: 18\n",
      "[11:11:27] UFFTYPER: Unrecognized charge state for atom: 10\n",
      "[11:11:28] UFFTYPER: Unrecognized charge state for atom: 1\n",
      "[11:11:28] UFFTYPER: Unrecognized charge state for atom: 5\n",
      "[11:11:28] UFFTYPER: Unrecognized charge state for atom: 12\n",
      "[11:11:29] UFFTYPER: Unrecognized charge state for atom: 9\n",
      "[11:11:30] UFFTYPER: Unrecognized charge state for atom: 14\n"
     ]
    },
    {
     "name": "stdout",
     "output_type": "stream",
     "text": [
      "\"Unable to open object (object 'extracted_forces' doesn't exist)\"\n"
     ]
    },
    {
     "name": "stderr",
     "output_type": "stream",
     "text": [
      "[11:11:31] UFFTYPER: Unrecognized charge state for atom: 3\n",
      "[11:11:32] UFFTYPER: Unrecognized charge state for atom: 1\n",
      "[11:11:34] UFFTYPER: Unrecognized charge state for atom: 1\n",
      "[11:11:34] UFFTYPER: Unrecognized charge state for atom: 8\n",
      "[11:11:36] UFFTYPER: Unrecognized charge state for atom: 11\n"
     ]
    },
    {
     "name": "stdout",
     "output_type": "stream",
     "text": [
      "\"Unable to open object (object 'extracted_forces' doesn't exist)\"\n",
      "\"Unable to open object (object 'extracted_forces' doesn't exist)\"\n",
      "\"Unable to open object (object 'extracted_forces' doesn't exist)\"\n"
     ]
    },
    {
     "name": "stderr",
     "output_type": "stream",
     "text": [
      "[11:11:37] UFFTYPER: Unrecognized charge state for atom: 21\n",
      "[11:11:40] UFFTYPER: Unrecognized charge state for atom: 1\n",
      "[11:11:40] UFFTYPER: Unrecognized charge state for atom: 19\n",
      "[11:11:41] UFFTYPER: Unrecognized charge state for atom: 1\n"
     ]
    },
    {
     "name": "stdout",
     "output_type": "stream",
     "text": [
      "\"Unable to open object (object 'extracted_forces' doesn't exist)\"\n"
     ]
    },
    {
     "name": "stderr",
     "output_type": "stream",
     "text": [
      "[11:11:41] UFFTYPER: Unrecognized charge state for atom: 3\n"
     ]
    },
    {
     "name": "stdout",
     "output_type": "stream",
     "text": [
      "\"Unable to open object (object 'extracted_forces' doesn't exist)\"\n",
      "\"Unable to open object (object 'extracted_forces' doesn't exist)\"\n",
      "\"Unable to open object (object 'extracted_forces' doesn't exist)\"\n",
      "\"Unable to open object (object 'extracted_forces' doesn't exist)\"\n",
      "\"Unable to open object (object 'extracted_forces' doesn't exist)\"\n",
      "\"Unable to open object (object 'extracted_forces' doesn't exist)\"\n",
      "\"Unable to open object (object 'extracted_forces' doesn't exist)\"\n",
      "\"Unable to open object (object 'extracted_forces' doesn't exist)\"\n",
      "\"Unable to open object (object 'extracted_forces' doesn't exist)\"\n",
      "\"Unable to open object (object 'extracted_forces' doesn't exist)\"\n",
      "\"Unable to open object (object 'extracted_forces' doesn't exist)\"\n",
      "\"Unable to open object (object 'extracted_forces' doesn't exist)\"\n",
      "\"Unable to open object (object 'extracted_forces' doesn't exist)\"\n",
      "\"Unable to open object (object 'extracted_forces' doesn't exist)\"\n",
      "\"Unable to open object (object 'extracted_forces' doesn't exist)\"\n",
      "\"Unable to open object (object 'extracted_forces' doesn't exist)\"\n",
      "\"Unable to open object (object 'extracted_forces' doesn't exist)\"\n",
      "\"Unable to open object (object 'extracted_forces' doesn't exist)\"\n",
      "\"Unable to open object (object 'extracted_forces' doesn't exist)\"\n",
      "\"Unable to open object (object 'extracted_forces' doesn't exist)\"\n",
      "\"Unable to open object (object 'extracted_forces' doesn't exist)\"\n",
      "\"Unable to open object (object 'extracted_forces' doesn't exist)\"\n"
     ]
    },
    {
     "name": "stderr",
     "output_type": "stream",
     "text": [
      "[11:11:42] UFFTYPER: Unrecognized charge state for atom: 9\n",
      "[11:11:46] UFFTYPER: Unrecognized charge state for atom: 13\n",
      "[11:11:46] UFFTYPER: Unrecognized charge state for atom: 10\n",
      "[11:11:47] UFFTYPER: Unrecognized charge state for atom: 1\n",
      "[11:11:50] UFFTYPER: Unrecognized charge state for atom: 8\n"
     ]
    },
    {
     "name": "stdout",
     "output_type": "stream",
     "text": [
      "\"Unable to open object (object 'extracted_forces' doesn't exist)\"\n"
     ]
    },
    {
     "name": "stderr",
     "output_type": "stream",
     "text": [
      "[11:11:50] UFFTYPER: Unrecognized charge state for atom: 3\n"
     ]
    },
    {
     "name": "stdout",
     "output_type": "stream",
     "text": [
      "\"Unable to open object (object 'extracted_forces' doesn't exist)\"\n"
     ]
    },
    {
     "name": "stderr",
     "output_type": "stream",
     "text": [
      "[11:11:53] UFFTYPER: Unrecognized charge state for atom: 5\n"
     ]
    },
    {
     "name": "stdout",
     "output_type": "stream",
     "text": [
      "\"Unable to open object (object 'extracted_forces' doesn't exist)\"\n",
      "\"Unable to open object (object 'extracted_forces' doesn't exist)\"\n",
      "\"Unable to open object (object 'extracted_forces' doesn't exist)\"\n",
      "\"Unable to open object (object 'extracted_forces' doesn't exist)\"\n",
      "\"Unable to open object (object 'extracted_forces' doesn't exist)\"\n"
     ]
    },
    {
     "name": "stderr",
     "output_type": "stream",
     "text": [
      "[11:11:55] UFFTYPER: Unrecognized charge state for atom: 11\n",
      "[11:11:56] UFFTYPER: Unrecognized charge state for atom: 1\n"
     ]
    },
    {
     "name": "stdout",
     "output_type": "stream",
     "text": [
      "\"Unable to open object (object 'extracted_forces' doesn't exist)\"\n",
      "\"Unable to open object (object 'extracted_forces' doesn't exist)\"\n",
      "\"Unable to open object (object 'extracted_forces' doesn't exist)\"\n",
      "\"Unable to open object (object 'extracted_forces' doesn't exist)\"\n",
      "\"Unable to open object (object 'extracted_forces' doesn't exist)\"\n",
      "\"Unable to open object (object 'extracted_forces' doesn't exist)\"\n",
      "\"Unable to open object (object 'extracted_forces' doesn't exist)\"\n",
      "\"Unable to open object (object 'extracted_forces' doesn't exist)\"\n",
      "\"Unable to open object (object 'extracted_forces' doesn't exist)\"\n",
      "\"Unable to open object (object 'extracted_forces' doesn't exist)\"\n",
      "\"Unable to open object (object 'extracted_forces' doesn't exist)\"\n",
      "\"Unable to open object (object 'extracted_forces' doesn't exist)\"\n",
      "\"Unable to open object (object 'extracted_forces' doesn't exist)\"\n",
      "\"Unable to open object (object 'extracted_forces' doesn't exist)\"\n",
      "\"Unable to open object (object 'extracted_forces' doesn't exist)\"\n",
      "\"Unable to open object (object 'extracted_forces' doesn't exist)\"\n",
      "\"Unable to open object (object 'extracted_forces' doesn't exist)\"\n",
      "\"Unable to open object (object 'extracted_forces' doesn't exist)\"\n",
      "\"Unable to open object (object 'extracted_forces' doesn't exist)\"\n",
      "\"Unable to open object (object 'extracted_forces' doesn't exist)\"\n",
      "\"Unable to open object (object 'extracted_forces' doesn't exist)\"\n",
      "\"Unable to open object (object 'extracted_forces' doesn't exist)\"\n",
      "\"Unable to open object (object 'extracted_forces' doesn't exist)\"\n",
      "\"Unable to open object (object 'extracted_forces' doesn't exist)\"\n",
      "\"Unable to open object (object 'extracted_forces' doesn't exist)\"\n",
      "\"Unable to open object (object 'extracted_forces' doesn't exist)\"\n",
      "\"Unable to open object (object 'extracted_forces' doesn't exist)\"\n",
      "\"Unable to open object (object 'extracted_forces' doesn't exist)\"\n",
      "\"Unable to open object (object 'extracted_forces' doesn't exist)\"\n",
      "\"Unable to open object (object 'extracted_forces' doesn't exist)\"\n",
      "\"Unable to open object (object 'extracted_forces' doesn't exist)\"\n",
      "\"Unable to open object (object 'extracted_forces' doesn't exist)\"\n",
      "\"Unable to open object (object 'extracted_forces' doesn't exist)\"\n",
      "\"Unable to open object (object 'extracted_forces' doesn't exist)\"\n",
      "\"Unable to open object (object 'extracted_forces' doesn't exist)\"\n",
      "\"Unable to open object (object 'extracted_forces' doesn't exist)\"\n",
      "\"Unable to open object (object 'extracted_forces' doesn't exist)\"\n",
      "\"Unable to open object (object 'extracted_forces' doesn't exist)\"\n",
      "\"Unable to open object (object 'extracted_forces' doesn't exist)\"\n",
      "\"Unable to open object (object 'extracted_forces' doesn't exist)\"\n",
      "\"Unable to open object (object 'extracted_forces' doesn't exist)\"\n",
      "\"Unable to open object (object 'extracted_forces' doesn't exist)\"\n",
      "\"Unable to open object (object 'extracted_forces' doesn't exist)\"\n",
      "\"Unable to open object (object 'extracted_forces' doesn't exist)\"\n",
      "\"Unable to open object (object 'extracted_forces' doesn't exist)\"\n",
      "\"Unable to open object (object 'extracted_forces' doesn't exist)\"\n",
      "\"Unable to open object (object 'extracted_forces' doesn't exist)\"\n",
      "\"Unable to open object (object 'extracted_forces' doesn't exist)\"\n",
      "\"Unable to open object (object 'extracted_forces' doesn't exist)\"\n",
      "\"Unable to open object (object 'extracted_forces' doesn't exist)\"\n",
      "\"Unable to open object (object 'extracted_forces' doesn't exist)\"\n",
      "\"Unable to open object (object 'extracted_forces' doesn't exist)\"\n",
      "\"Unable to open object (object 'extracted_forces' doesn't exist)\"\n",
      "\"Unable to open object (object 'extracted_forces' doesn't exist)\"\n",
      "\"Unable to open object (object 'extracted_forces' doesn't exist)\"\n",
      "\"Unable to open object (object 'extracted_forces' doesn't exist)\"\n",
      "\"Unable to open object (object 'extracted_forces' doesn't exist)\"\n",
      "\"Unable to open object (object 'extracted_forces' doesn't exist)\"\n",
      "\"Unable to open object (object 'extracted_forces' doesn't exist)\"\n",
      "\"Unable to open object (object 'extracted_forces' doesn't exist)\"\n"
     ]
    },
    {
     "name": "stderr",
     "output_type": "stream",
     "text": [
      "[11:12:01] UFFTYPER: Unrecognized charge state for atom: 1\n",
      "[11:12:02] UFFTYPER: Unrecognized charge state for atom: 9\n",
      "[11:12:03] UFFTYPER: Unrecognized charge state for atom: 5\n"
     ]
    },
    {
     "name": "stdout",
     "output_type": "stream",
     "text": [
      "\"Unable to open object (object 'extracted_forces' doesn't exist)\"\n"
     ]
    },
    {
     "name": "stderr",
     "output_type": "stream",
     "text": [
      "[11:12:05] UFFTYPER: Unrecognized charge state for atom: 12\n"
     ]
    },
    {
     "name": "stdout",
     "output_type": "stream",
     "text": [
      "\"Unable to open object (object 'extracted_forces' doesn't exist)\"\n"
     ]
    },
    {
     "name": "stderr",
     "output_type": "stream",
     "text": [
      "[11:12:06] UFFTYPER: Unrecognized charge state for atom: 8\n",
      "[11:12:07] UFFTYPER: Unrecognized charge state for atom: 9\n",
      "[11:12:09] UFFTYPER: Unrecognized charge state for atom: 4\n",
      "[11:12:11] UFFTYPER: Unrecognized charge state for atom: 16\n",
      "[11:12:14] UFFTYPER: Unrecognized charge state for atom: 5\n",
      "[11:12:17] UFFTYPER: Unrecognized charge state for atom: 5\n",
      "[11:12:17] UFFTYPER: Unrecognized charge state for atom: 11\n",
      "[11:12:18] UFFTYPER: Unrecognized charge state for atom: 8\n"
     ]
    },
    {
     "name": "stdout",
     "output_type": "stream",
     "text": [
      "\"Unable to open object (object 'extracted_forces' doesn't exist)\"\n",
      "\"Unable to open object (object 'extracted_forces' doesn't exist)\"\n",
      "\"Unable to open object (object 'extracted_forces' doesn't exist)\"\n",
      "\"Unable to open object (object 'extracted_forces' doesn't exist)\"\n",
      "\"Unable to open object (object 'extracted_forces' doesn't exist)\"\n",
      "\"Unable to open object (object 'extracted_forces' doesn't exist)\"\n",
      "\"Unable to open object (object 'extracted_forces' doesn't exist)\"\n",
      "\"Unable to open object (object 'extracted_forces' doesn't exist)\"\n",
      "\"Unable to open object (object 'extracted_forces' doesn't exist)\"\n",
      "\"Unable to open object (object 'extracted_forces' doesn't exist)\"\n",
      "\"Unable to open object (object 'extracted_forces' doesn't exist)\"\n",
      "\"Unable to open object (object 'extracted_forces' doesn't exist)\"\n",
      "\"Unable to open object (object 'extracted_forces' doesn't exist)\"\n",
      "\"Unable to open object (object 'extracted_forces' doesn't exist)\"\n",
      "\"Unable to open object (object 'extracted_forces' doesn't exist)\"\n",
      "\"Unable to open object (object 'extracted_forces' doesn't exist)\"\n",
      "\"Unable to open object (object 'extracted_forces' doesn't exist)\"\n",
      "\"Unable to open object (object 'extracted_forces' doesn't exist)\"\n",
      "\"Unable to open object (object 'extracted_forces' doesn't exist)\"\n",
      "\"Unable to open object (object 'extracted_forces' doesn't exist)\"\n",
      "\"Unable to open object (object 'extracted_forces' doesn't exist)\"\n",
      "\"Unable to open object (object 'extracted_forces' doesn't exist)\"\n",
      "\"Unable to open object (object 'extracted_forces' doesn't exist)\"\n",
      "\"Unable to open object (object 'extracted_forces' doesn't exist)\"\n",
      "\"Unable to open object (object 'extracted_forces' doesn't exist)\"\n",
      "\"Unable to open object (object 'extracted_forces' doesn't exist)\"\n",
      "\"Unable to open object (object 'extracted_forces' doesn't exist)\"\n",
      "\"Unable to open object (object 'extracted_forces' doesn't exist)\"\n",
      "\"Unable to open object (object 'extracted_forces' doesn't exist)\"\n",
      "\"Unable to open object (object 'extracted_forces' doesn't exist)\"\n",
      "\"Unable to open object (object 'extracted_forces' doesn't exist)\"\n",
      "\"Unable to open object (object 'extracted_forces' doesn't exist)\"\n",
      "\"Unable to open object (object 'extracted_forces' doesn't exist)\"\n",
      "\"Unable to open object (object 'extracted_forces' doesn't exist)\"\n",
      "\"Unable to open object (object 'extracted_forces' doesn't exist)\"\n",
      "\"Unable to open object (object 'extracted_forces' doesn't exist)\"\n",
      "\"Unable to open object (object 'extracted_forces' doesn't exist)\"\n",
      "\"Unable to open object (object 'extracted_forces' doesn't exist)\"\n",
      "\"Unable to open object (object 'extracted_forces' doesn't exist)\"\n",
      "\"Unable to open object (object 'extracted_forces' doesn't exist)\"\n",
      "\"Unable to open object (object 'extracted_forces' doesn't exist)\"\n",
      "\"Unable to open object (object 'extracted_forces' doesn't exist)\"\n",
      "\"Unable to open object (object 'extracted_forces' doesn't exist)\"\n",
      "\"Unable to open object (object 'extracted_forces' doesn't exist)\"\n",
      "\"Unable to open object (object 'extracted_forces' doesn't exist)\"\n",
      "\"Unable to open object (object 'extracted_forces' doesn't exist)\"\n",
      "\"Unable to open object (object 'extracted_forces' doesn't exist)\"\n",
      "\"Unable to open object (object 'extracted_forces' doesn't exist)\"\n",
      "\"Unable to open object (object 'extracted_forces' doesn't exist)\"\n",
      "\"Unable to open object (object 'extracted_forces' doesn't exist)\"\n"
     ]
    },
    {
     "name": "stderr",
     "output_type": "stream",
     "text": [
      "[11:12:20] UFFTYPER: Unrecognized charge state for atom: 4\n",
      "[11:12:21] UFFTYPER: Unrecognized charge state for atom: 4\n"
     ]
    },
    {
     "name": "stdout",
     "output_type": "stream",
     "text": [
      "\"Unable to open object (object 'extracted_forces' doesn't exist)\"\n"
     ]
    },
    {
     "name": "stderr",
     "output_type": "stream",
     "text": [
      "[11:12:24] UFFTYPER: Unrecognized charge state for atom: 1\n",
      "[11:12:24] UFFTYPER: Unrecognized charge state for atom: 1\n",
      "[11:12:25] UFFTYPER: Unrecognized charge state for atom: 1\n",
      "[11:12:26] UFFTYPER: Unrecognized charge state for atom: 6\n",
      "[11:12:26] UFFTYPER: Warning: hybridization set to SP3 for atom 3\n",
      "[11:12:29] UFFTYPER: Unrecognized charge state for atom: 1\n",
      "[11:12:29] UFFTYPER: Unrecognized charge state for atom: 15\n",
      "[11:12:29] UFFTYPER: Unrecognized charge state for atom: 20\n",
      "[11:12:30] UFFTYPER: Unrecognized charge state for atom: 1\n",
      "[11:12:32] UFFTYPER: Unrecognized charge state for atom: 7\n"
     ]
    },
    {
     "name": "stdout",
     "output_type": "stream",
     "text": [
      "\"Unable to open object (object 'extracted_forces' doesn't exist)\"\n"
     ]
    },
    {
     "name": "stderr",
     "output_type": "stream",
     "text": [
      "[11:12:38] UFFTYPER: Unrecognized charge state for atom: 1\n"
     ]
    },
    {
     "name": "stdout",
     "output_type": "stream",
     "text": [
      "\"Unable to open object (object 'extracted_forces' doesn't exist)\"\n"
     ]
    },
    {
     "name": "stderr",
     "output_type": "stream",
     "text": [
      "[11:12:40] UFFTYPER: Unrecognized charge state for atom: 9\n",
      "[11:12:40] UFFTYPER: Unrecognized charge state for atom: 7\n",
      "[11:12:42] UFFTYPER: Unrecognized charge state for atom: 5\n",
      "[11:12:44] UFFTYPER: Unrecognized charge state for atom: 15\n",
      "[11:12:45] UFFTYPER: Unrecognized charge state for atom: 8\n",
      "[11:12:45] UFFTYPER: Unrecognized charge state for atom: 18\n"
     ]
    },
    {
     "name": "stdout",
     "output_type": "stream",
     "text": [
      "\"Unable to open object (object 'extracted_forces' doesn't exist)\"\n"
     ]
    },
    {
     "name": "stderr",
     "output_type": "stream",
     "text": [
      "[11:12:47] UFFTYPER: Unrecognized charge state for atom: 6\n",
      "[11:12:48] UFFTYPER: Unrecognized charge state for atom: 1\n",
      "[11:12:50] UFFTYPER: Unrecognized charge state for atom: 18\n",
      "[11:12:50] UFFTYPER: Unrecognized charge state for atom: 14\n",
      "[11:12:51] UFFTYPER: Unrecognized charge state for atom: 7\n",
      "[11:12:51] UFFTYPER: Unrecognized charge state for atom: 16\n"
     ]
    },
    {
     "name": "stdout",
     "output_type": "stream",
     "text": [
      "\"Unable to open object (object 'extracted_forces' doesn't exist)\"\n"
     ]
    },
    {
     "name": "stderr",
     "output_type": "stream",
     "text": [
      "[11:12:53] UFFTYPER: Unrecognized charge state for atom: 2\n"
     ]
    },
    {
     "name": "stdout",
     "output_type": "stream",
     "text": [
      "\"Unable to open object (object 'extracted_forces' doesn't exist)\"\n",
      "\"Unable to open object (object 'extracted_forces' doesn't exist)\"\n",
      "\"Unable to open object (object 'extracted_forces' doesn't exist)\"\n",
      "\"Unable to open object (object 'extracted_forces' doesn't exist)\"\n",
      "\"Unable to open object (object 'extracted_forces' doesn't exist)\"\n",
      "\"Unable to open object (object 'extracted_forces' doesn't exist)\"\n",
      "\"Unable to open object (object 'extracted_forces' doesn't exist)\"\n",
      "\"Unable to open object (object 'extracted_forces' doesn't exist)\"\n",
      "\"Unable to open object (object 'extracted_forces' doesn't exist)\"\n",
      "\"Unable to open object (object 'extracted_forces' doesn't exist)\"\n",
      "\"Unable to open object (object 'extracted_forces' doesn't exist)\"\n",
      "\"Unable to open object (object 'extracted_forces' doesn't exist)\"\n",
      "\"Unable to open object (object 'extracted_forces' doesn't exist)\"\n",
      "\"Unable to open object (object 'extracted_forces' doesn't exist)\"\n",
      "\"Unable to open object (object 'extracted_forces' doesn't exist)\"\n",
      "\"Unable to open object (object 'extracted_forces' doesn't exist)\"\n",
      "\"Unable to open object (object 'extracted_forces' doesn't exist)\"\n",
      "\"Unable to open object (object 'extracted_forces' doesn't exist)\"\n",
      "\"Unable to open object (object 'extracted_forces' doesn't exist)\"\n",
      "\"Unable to open object (object 'extracted_forces' doesn't exist)\"\n"
     ]
    },
    {
     "name": "stderr",
     "output_type": "stream",
     "text": [
      "[11:12:55] UFFTYPER: Unrecognized charge state for atom: 10\n"
     ]
    },
    {
     "name": "stdout",
     "output_type": "stream",
     "text": [
      "\"Unable to open object (object 'extracted_forces' doesn't exist)\"\n",
      "\"Unable to open object (object 'extracted_forces' doesn't exist)\"\n",
      "\"Unable to open object (object 'extracted_forces' doesn't exist)\"\n",
      "\"Unable to open object (object 'extracted_forces' doesn't exist)\"\n",
      "\"Unable to open object (object 'extracted_forces' doesn't exist)\"\n",
      "\"Unable to open object (object 'extracted_forces' doesn't exist)\"\n",
      "\"Unable to open object (object 'extracted_forces' doesn't exist)\"\n",
      "\"Unable to open object (object 'extracted_forces' doesn't exist)\"\n",
      "\"Unable to open object (object 'extracted_forces' doesn't exist)\"\n",
      "\"Unable to open object (object 'extracted_forces' doesn't exist)\"\n"
     ]
    },
    {
     "name": "stderr",
     "output_type": "stream",
     "text": [
      "[11:12:56] UFFTYPER: Unrecognized charge state for atom: 4\n"
     ]
    },
    {
     "name": "stdout",
     "output_type": "stream",
     "text": [
      "\"Unable to open object (object 'extracted_forces' doesn't exist)\"\n",
      "\"Unable to open object (object 'extracted_forces' doesn't exist)\"\n",
      "\"Unable to open object (object 'extracted_forces' doesn't exist)\"\n",
      "\"Unable to open object (object 'extracted_forces' doesn't exist)\"\n",
      "\"Unable to open object (object 'extracted_forces' doesn't exist)\"\n",
      "\"Unable to open object (object 'extracted_forces' doesn't exist)\"\n",
      "\"Unable to open object (object 'extracted_forces' doesn't exist)\"\n",
      "\"Unable to open object (object 'extracted_forces' doesn't exist)\"\n",
      "\"Unable to open object (object 'extracted_forces' doesn't exist)\"\n",
      "\"Unable to open object (object 'extracted_forces' doesn't exist)\"\n"
     ]
    },
    {
     "name": "stderr",
     "output_type": "stream",
     "text": [
      "[11:12:57] UFFTYPER: Unrecognized charge state for atom: 6\n"
     ]
    },
    {
     "name": "stdout",
     "output_type": "stream",
     "text": [
      "\"Unable to open object (object 'extracted_forces' doesn't exist)\"\n",
      "\"Unable to open object (object 'extracted_forces' doesn't exist)\"\n",
      "\"Unable to open object (object 'extracted_forces' doesn't exist)\"\n",
      "\"Unable to open object (object 'extracted_forces' doesn't exist)\"\n"
     ]
    },
    {
     "name": "stderr",
     "output_type": "stream",
     "text": [
      "[11:12:58] UFFTYPER: Unrecognized charge state for atom: 1\n",
      "[11:12:59] UFFTYPER: Unrecognized charge state for atom: 1\n",
      "[11:13:01] UFFTYPER: Unrecognized charge state for atom: 17\n",
      "[11:13:02] UFFTYPER: Unrecognized charge state for atom: 4\n",
      "[11:13:05] UFFTYPER: Unrecognized charge state for atom: 1\n",
      "[11:13:05] UFFTYPER: Unrecognized charge state for atom: 9\n",
      "[11:13:05] UFFTYPER: Unrecognized charge state for atom: 9\n",
      "[11:13:07] UFFTYPER: Unrecognized charge state for atom: 1\n",
      "[11:13:07] UFFTYPER: Unrecognized charge state for atom: 2\n"
     ]
    },
    {
     "name": "stdout",
     "output_type": "stream",
     "text": [
      "\"Unable to open object (object 'extracted_forces' doesn't exist)\"\n"
     ]
    },
    {
     "name": "stderr",
     "output_type": "stream",
     "text": [
      "[11:13:10] UFFTYPER: Unrecognized charge state for atom: 10\n",
      "[11:13:11] UFFTYPER: Unrecognized charge state for atom: 6\n",
      "[11:13:11] UFFTYPER: Unrecognized charge state for atom: 9\n",
      "[11:13:12] UFFTYPER: Unrecognized charge state for atom: 1\n",
      "[11:13:13] UFFTYPER: Unrecognized charge state for atom: 1\n",
      "[11:13:15] UFFTYPER: Unrecognized charge state for atom: 21\n",
      "[11:13:15] UFFTYPER: Unrecognized charge state for atom: 14\n",
      "[11:13:18] UFFTYPER: Unrecognized charge state for atom: 8\n",
      "[11:13:23] UFFTYPER: Unrecognized charge state for atom: 6\n",
      "[11:13:23] UFFTYPER: Unrecognized charge state for atom: 10\n",
      "[11:13:27] UFFTYPER: Unrecognized charge state for atom: 13\n",
      "[11:13:29] UFFTYPER: Unrecognized charge state for atom: 6\n",
      "[11:13:31] UFFTYPER: Unrecognized charge state for atom: 7\n",
      "[11:13:32] UFFTYPER: Unrecognized charge state for atom: 6\n"
     ]
    },
    {
     "name": "stdout",
     "output_type": "stream",
     "text": [
      "\"Unable to open object (object 'extracted_forces' doesn't exist)\"\n",
      "\"Unable to open object (object 'extracted_forces' doesn't exist)\"\n"
     ]
    },
    {
     "name": "stderr",
     "output_type": "stream",
     "text": [
      "[11:13:37] UFFTYPER: Unrecognized charge state for atom: 15\n",
      "[11:13:38] UFFTYPER: Unrecognized charge state for atom: 14\n",
      "[11:13:38] UFFTYPER: Unrecognized charge state for atom: 11\n",
      "[11:13:42] UFFTYPER: Unrecognized charge state for atom: 1\n"
     ]
    },
    {
     "name": "stdout",
     "output_type": "stream",
     "text": [
      "\"Unable to open object (object 'extracted_forces' doesn't exist)\"\n"
     ]
    },
    {
     "name": "stderr",
     "output_type": "stream",
     "text": [
      "[11:13:44] UFFTYPER: Unrecognized charge state for atom: 12\n",
      "[11:13:46] UFFTYPER: Unrecognized charge state for atom: 4\n",
      "[11:13:46] UFFTYPER: Unrecognized charge state for atom: 2\n"
     ]
    },
    {
     "name": "stdout",
     "output_type": "stream",
     "text": [
      "\"Unable to open object (object 'extracted_forces' doesn't exist)\"\n"
     ]
    },
    {
     "name": "stderr",
     "output_type": "stream",
     "text": [
      "[11:13:50] UFFTYPER: Unrecognized charge state for atom: 6\n"
     ]
    },
    {
     "name": "stdout",
     "output_type": "stream",
     "text": [
      "\"Unable to open object (object 'extracted_forces' doesn't exist)\"\n",
      "\"Unable to open object (object 'extracted_forces' doesn't exist)\"\n",
      "\"Unable to open object (object 'extracted_forces' doesn't exist)\"\n",
      "\"Unable to open object (object 'extracted_forces' doesn't exist)\"\n",
      "\"Unable to open object (object 'extracted_forces' doesn't exist)\"\n",
      "\"Unable to open object (object 'extracted_forces' doesn't exist)\"\n",
      "\"Unable to open object (object 'extracted_forces' doesn't exist)\"\n"
     ]
    },
    {
     "name": "stderr",
     "output_type": "stream",
     "text": [
      "[11:13:52] UFFTYPER: Unrecognized charge state for atom: 12\n"
     ]
    },
    {
     "name": "stdout",
     "output_type": "stream",
     "text": [
      "\"Unable to open object (object 'extracted_forces' doesn't exist)\"\n",
      "\"Unable to open object (object 'extracted_forces' doesn't exist)\"\n",
      "\"Unable to open object (object 'extracted_forces' doesn't exist)\"\n",
      "\"Unable to open object (object 'extracted_forces' doesn't exist)\"\n",
      "\"Unable to open object (object 'extracted_forces' doesn't exist)\"\n",
      "\"Unable to open object (object 'extracted_forces' doesn't exist)\"\n",
      "\"Unable to open object (object 'extracted_forces' doesn't exist)\"\n",
      "\"Unable to open object (object 'extracted_forces' doesn't exist)\"\n",
      "\"Unable to open object (object 'extracted_forces' doesn't exist)\"\n",
      "\"Unable to open object (object 'extracted_forces' doesn't exist)\"\n",
      "\"Unable to open object (object 'extracted_forces' doesn't exist)\"\n",
      "\"Unable to open object (object 'extracted_forces' doesn't exist)\"\n",
      "\"Unable to open object (object 'extracted_forces' doesn't exist)\"\n",
      "\"Unable to open object (object 'extracted_forces' doesn't exist)\"\n",
      "\"Unable to open object (object 'extracted_forces' doesn't exist)\"\n",
      "\"Unable to open object (object 'extracted_forces' doesn't exist)\"\n",
      "\"Unable to open object (object 'extracted_forces' doesn't exist)\"\n",
      "\"Unable to open object (object 'extracted_forces' doesn't exist)\"\n",
      "\"Unable to open object (object 'extracted_forces' doesn't exist)\"\n",
      "\"Unable to open object (object 'extracted_forces' doesn't exist)\"\n"
     ]
    },
    {
     "name": "stderr",
     "output_type": "stream",
     "text": [
      "[11:13:54] UFFTYPER: Unrecognized charge state for atom: 10\n",
      "[11:13:54] UFFTYPER: Unrecognized charge state for atom: 6\n",
      "[11:13:55] UFFTYPER: Unrecognized charge state for atom: 1\n",
      "[11:13:56] UFFTYPER: Unrecognized charge state for atom: 10\n",
      "[11:13:56] UFFTYPER: Unrecognized charge state for atom: 11\n",
      "[11:14:00] UFFTYPER: Unrecognized charge state for atom: 15\n",
      "[11:14:00] UFFTYPER: Unrecognized charge state for atom: 3\n"
     ]
    },
    {
     "name": "stdout",
     "output_type": "stream",
     "text": [
      "\"Unable to open object (object 'extracted_forces' doesn't exist)\"\n",
      "\"Unable to open object (object 'extracted_forces' doesn't exist)\"\n",
      "\"Unable to open object (object 'extracted_forces' doesn't exist)\"\n",
      "\"Unable to open object (object 'extracted_forces' doesn't exist)\"\n",
      "\"Unable to open object (object 'extracted_forces' doesn't exist)\"\n",
      "\"Unable to open object (object 'extracted_forces' doesn't exist)\"\n",
      "\"Unable to open object (object 'extracted_forces' doesn't exist)\"\n",
      "\"Unable to open object (object 'extracted_forces' doesn't exist)\"\n",
      "\"Unable to open object (object 'extracted_forces' doesn't exist)\"\n",
      "\"Unable to open object (object 'extracted_forces' doesn't exist)\"\n",
      "\"Unable to open object (object 'extracted_forces' doesn't exist)\"\n",
      "\"Unable to open object (object 'extracted_forces' doesn't exist)\"\n",
      "\"Unable to open object (object 'extracted_forces' doesn't exist)\"\n",
      "\"Unable to open object (object 'extracted_forces' doesn't exist)\"\n",
      "\"Unable to open object (object 'extracted_forces' doesn't exist)\"\n",
      "\"Unable to open object (object 'extracted_forces' doesn't exist)\"\n",
      "\"Unable to open object (object 'extracted_forces' doesn't exist)\"\n"
     ]
    },
    {
     "name": "stderr",
     "output_type": "stream",
     "text": [
      "[11:14:02] UFFTYPER: Unrecognized charge state for atom: 10\n",
      "[11:14:04] UFFTYPER: Unrecognized charge state for atom: 11\n"
     ]
    },
    {
     "name": "stdout",
     "output_type": "stream",
     "text": [
      "\"Unable to open object (object 'extracted_forces' doesn't exist)\"\n"
     ]
    },
    {
     "name": "stderr",
     "output_type": "stream",
     "text": [
      "[11:14:05] UFFTYPER: Unrecognized charge state for atom: 1\n",
      "[11:14:05] UFFTYPER: Unrecognized charge state for atom: 16\n"
     ]
    },
    {
     "name": "stdout",
     "output_type": "stream",
     "text": [
      "\"Unable to open object (object 'extracted_forces' doesn't exist)\"\n",
      "\"Unable to open object (object 'extracted_forces' doesn't exist)\"\n",
      "\"Unable to open object (object 'extracted_forces' doesn't exist)\"\n"
     ]
    },
    {
     "name": "stderr",
     "output_type": "stream",
     "text": [
      "[11:14:10] UFFTYPER: Unrecognized charge state for atom: 1\n"
     ]
    },
    {
     "name": "stdout",
     "output_type": "stream",
     "text": [
      "\"Unable to open object (object 'extracted_forces' doesn't exist)\"\n",
      "\"Unable to open object (object 'extracted_forces' doesn't exist)\"\n",
      "\"Unable to open object (object 'extracted_forces' doesn't exist)\"\n",
      "\"Unable to open object (object 'extracted_forces' doesn't exist)\"\n",
      "\"Unable to open object (object 'extracted_forces' doesn't exist)\"\n",
      "\"Unable to open object (object 'extracted_forces' doesn't exist)\"\n",
      "\"Unable to open object (object 'extracted_forces' doesn't exist)\"\n",
      "\"Unable to open object (object 'extracted_forces' doesn't exist)\"\n",
      "\"Unable to open object (object 'extracted_forces' doesn't exist)\"\n",
      "\"Unable to open object (object 'extracted_forces' doesn't exist)\"\n",
      "\"Unable to open object (object 'extracted_forces' doesn't exist)\"\n"
     ]
    },
    {
     "name": "stderr",
     "output_type": "stream",
     "text": [
      "[11:14:12] UFFTYPER: Unrecognized charge state for atom: 9\n"
     ]
    },
    {
     "name": "stdout",
     "output_type": "stream",
     "text": [
      "\"Unable to open object (object 'extracted_forces' doesn't exist)\"\n",
      "\"Unable to open object (object 'extracted_forces' doesn't exist)\"\n",
      "\"Unable to open object (object 'extracted_forces' doesn't exist)\"\n",
      "\"Unable to open object (object 'extracted_forces' doesn't exist)\"\n",
      "\"Unable to open object (object 'extracted_forces' doesn't exist)\"\n",
      "\"Unable to open object (object 'extracted_forces' doesn't exist)\"\n"
     ]
    },
    {
     "name": "stderr",
     "output_type": "stream",
     "text": [
      "[11:14:14] UFFTYPER: Unrecognized charge state for atom: 13\n"
     ]
    },
    {
     "name": "stdout",
     "output_type": "stream",
     "text": [
      "\"Unable to open object (object 'extracted_forces' doesn't exist)\"\n",
      "\"Unable to open object (object 'extracted_forces' doesn't exist)\"\n",
      "\"Unable to open object (object 'extracted_forces' doesn't exist)\"\n",
      "\"Unable to open object (object 'extracted_forces' doesn't exist)\"\n",
      "\"Unable to open object (object 'extracted_forces' doesn't exist)\"\n",
      "\"Unable to open object (object 'extracted_forces' doesn't exist)\"\n",
      "\"Unable to open object (object 'extracted_forces' doesn't exist)\"\n",
      "\"Unable to open object (object 'extracted_forces' doesn't exist)\"\n",
      "\"Unable to open object (object 'extracted_forces' doesn't exist)\"\n",
      "\"Unable to open object (object 'extracted_forces' doesn't exist)\"\n",
      "\"Unable to open object (object 'extracted_forces' doesn't exist)\"\n",
      "\"Unable to open object (object 'extracted_forces' doesn't exist)\"\n",
      "\"Unable to open object (object 'extracted_forces' doesn't exist)\"\n",
      "\"Unable to open object (object 'extracted_forces' doesn't exist)\"\n",
      "\"Unable to open object (object 'extracted_forces' doesn't exist)\"\n",
      "\"Unable to open object (object 'extracted_forces' doesn't exist)\"\n",
      "\"Unable to open object (object 'extracted_forces' doesn't exist)\"\n",
      "\"Unable to open object (object 'extracted_forces' doesn't exist)\"\n",
      "\"Unable to open object (object 'extracted_forces' doesn't exist)\"\n",
      "\"Unable to open object (object 'extracted_forces' doesn't exist)\"\n",
      "\"Unable to open object (object 'extracted_forces' doesn't exist)\"\n",
      "\"Unable to open object (object 'extracted_forces' doesn't exist)\"\n",
      "\"Unable to open object (object 'extracted_forces' doesn't exist)\"\n",
      "\"Unable to open object (object 'extracted_forces' doesn't exist)\"\n",
      "\"Unable to open object (object 'extracted_forces' doesn't exist)\"\n"
     ]
    },
    {
     "name": "stderr",
     "output_type": "stream",
     "text": [
      "[11:14:18] UFFTYPER: Unrecognized charge state for atom: 3\n"
     ]
    },
    {
     "name": "stdout",
     "output_type": "stream",
     "text": [
      "\"Unable to open object (object 'extracted_forces' doesn't exist)\"\n"
     ]
    },
    {
     "name": "stderr",
     "output_type": "stream",
     "text": [
      "[11:14:19] UFFTYPER: Unrecognized charge state for atom: 7\n"
     ]
    },
    {
     "name": "stdout",
     "output_type": "stream",
     "text": [
      "\"Unable to open object (object 'extracted_forces' doesn't exist)\"\n",
      "\"Unable to open object (object 'extracted_forces' doesn't exist)\"\n",
      "\"Unable to open object (object 'extracted_forces' doesn't exist)\"\n",
      "\"Unable to open object (object 'extracted_forces' doesn't exist)\"\n",
      "\"Unable to open object (object 'extracted_forces' doesn't exist)\"\n",
      "\"Unable to open object (object 'extracted_forces' doesn't exist)\"\n",
      "\"Unable to open object (object 'extracted_forces' doesn't exist)\"\n",
      "\"Unable to open object (object 'extracted_forces' doesn't exist)\"\n",
      "\"Unable to open object (object 'extracted_forces' doesn't exist)\"\n",
      "\"Unable to open object (object 'extracted_forces' doesn't exist)\"\n",
      "\"Unable to open object (object 'extracted_forces' doesn't exist)\"\n",
      "\"Unable to open object (object 'extracted_forces' doesn't exist)\"\n",
      "\"Unable to open object (object 'extracted_forces' doesn't exist)\"\n",
      "\"Unable to open object (object 'extracted_forces' doesn't exist)\"\n",
      "\"Unable to open object (object 'extracted_forces' doesn't exist)\"\n",
      "\"Unable to open object (object 'extracted_forces' doesn't exist)\"\n"
     ]
    },
    {
     "name": "stderr",
     "output_type": "stream",
     "text": [
      "[11:14:24] UFFTYPER: Unrecognized charge state for atom: 6\n",
      "[11:14:28] UFFTYPER: Unrecognized charge state for atom: 1\n"
     ]
    },
    {
     "name": "stdout",
     "output_type": "stream",
     "text": [
      "\"Unable to open object (object 'extracted_forces' doesn't exist)\"\n"
     ]
    },
    {
     "name": "stderr",
     "output_type": "stream",
     "text": [
      "[11:14:32] UFFTYPER: Unrecognized charge state for atom: 3\n",
      "[11:14:32] UFFTYPER: Unrecognized charge state for atom: 10\n",
      "[11:14:33] UFFTYPER: Unrecognized charge state for atom: 7\n",
      "[11:14:34] UFFTYPER: Unrecognized charge state for atom: 16\n",
      "[11:14:34] UFFTYPER: Unrecognized charge state for atom: 14\n",
      "[11:14:34] UFFTYPER: Unrecognized charge state for atom: 7\n",
      "[11:14:37] UFFTYPER: Unrecognized charge state for atom: 4\n",
      "[11:14:41] UFFTYPER: Unrecognized charge state for atom: 13\n"
     ]
    },
    {
     "name": "stdout",
     "output_type": "stream",
     "text": [
      "\"Unable to open object (object 'extracted_forces' doesn't exist)\"\n",
      "\"Unable to open object (object 'extracted_forces' doesn't exist)\"\n",
      "\"Unable to open object (object 'extracted_forces' doesn't exist)\"\n",
      "\"Unable to open object (object 'extracted_forces' doesn't exist)\"\n",
      "\"Unable to open object (object 'extracted_forces' doesn't exist)\"\n",
      "\"Unable to open object (object 'extracted_forces' doesn't exist)\"\n",
      "\"Unable to open object (object 'extracted_forces' doesn't exist)\"\n",
      "\"Unable to open object (object 'extracted_forces' doesn't exist)\"\n",
      "\"Unable to open object (object 'extracted_forces' doesn't exist)\"\n",
      "\"Unable to open object (object 'extracted_forces' doesn't exist)\"\n",
      "\"Unable to open object (object 'extracted_forces' doesn't exist)\"\n",
      "\"Unable to open object (object 'extracted_forces' doesn't exist)\"\n",
      "\"Unable to open object (object 'extracted_forces' doesn't exist)\"\n",
      "\"Unable to open object (object 'extracted_forces' doesn't exist)\"\n",
      "\"Unable to open object (object 'extracted_forces' doesn't exist)\"\n",
      "\"Unable to open object (object 'extracted_forces' doesn't exist)\"\n",
      "\"Unable to open object (object 'extracted_forces' doesn't exist)\"\n",
      "\"Unable to open object (object 'extracted_forces' doesn't exist)\"\n",
      "\"Unable to open object (object 'extracted_forces' doesn't exist)\"\n"
     ]
    },
    {
     "name": "stderr",
     "output_type": "stream",
     "text": [
      "[11:14:42] UFFTYPER: Unrecognized charge state for atom: 3\n"
     ]
    },
    {
     "name": "stdout",
     "output_type": "stream",
     "text": [
      "\"Unable to open object (object 'extracted_forces' doesn't exist)\"\n",
      "\"Unable to open object (object 'extracted_forces' doesn't exist)\"\n",
      "\"Unable to open object (object 'extracted_forces' doesn't exist)\"\n",
      "\"Unable to open object (object 'extracted_forces' doesn't exist)\"\n",
      "\"Unable to open object (object 'extracted_forces' doesn't exist)\"\n",
      "\"Unable to open object (object 'extracted_forces' doesn't exist)\"\n",
      "\"Unable to open object (object 'extracted_forces' doesn't exist)\"\n",
      "\"Unable to open object (object 'extracted_forces' doesn't exist)\"\n",
      "\"Unable to open object (object 'extracted_forces' doesn't exist)\"\n",
      "\"Unable to open object (object 'extracted_forces' doesn't exist)\"\n",
      "\"Unable to open object (object 'extracted_forces' doesn't exist)\"\n",
      "\"Unable to open object (object 'extracted_forces' doesn't exist)\"\n",
      "\"Unable to open object (object 'extracted_forces' doesn't exist)\"\n",
      "\"Unable to open object (object 'extracted_forces' doesn't exist)\"\n",
      "\"Unable to open object (object 'extracted_forces' doesn't exist)\"\n",
      "\"Unable to open object (object 'extracted_forces' doesn't exist)\"\n",
      "\"Unable to open object (object 'extracted_forces' doesn't exist)\"\n",
      "\"Unable to open object (object 'extracted_forces' doesn't exist)\"\n",
      "\"Unable to open object (object 'extracted_forces' doesn't exist)\"\n",
      "\"Unable to open object (object 'extracted_forces' doesn't exist)\"\n",
      "\"Unable to open object (object 'extracted_forces' doesn't exist)\"\n",
      "\"Unable to open object (object 'extracted_forces' doesn't exist)\"\n",
      "\"Unable to open object (object 'extracted_forces' doesn't exist)\"\n",
      "\"Unable to open object (object 'extracted_forces' doesn't exist)\"\n",
      "\"Unable to open object (object 'extracted_forces' doesn't exist)\"\n",
      "\"Unable to open object (object 'extracted_forces' doesn't exist)\"\n",
      "\"Unable to open object (object 'extracted_forces' doesn't exist)\"\n",
      "\"Unable to open object (object 'extracted_forces' doesn't exist)\"\n",
      "\"Unable to open object (object 'extracted_forces' doesn't exist)\"\n",
      "\"Unable to open object (object 'extracted_forces' doesn't exist)\"\n",
      "\"Unable to open object (object 'extracted_forces' doesn't exist)\"\n",
      "\"Unable to open object (object 'extracted_forces' doesn't exist)\"\n",
      "\"Unable to open object (object 'extracted_forces' doesn't exist)\"\n",
      "\"Unable to open object (object 'extracted_forces' doesn't exist)\"\n",
      "\"Unable to open object (object 'extracted_forces' doesn't exist)\"\n",
      "\"Unable to open object (object 'extracted_forces' doesn't exist)\"\n",
      "\"Unable to open object (object 'extracted_forces' doesn't exist)\"\n",
      "\"Unable to open object (object 'extracted_forces' doesn't exist)\"\n",
      "\"Unable to open object (object 'extracted_forces' doesn't exist)\"\n",
      "\"Unable to open object (object 'extracted_forces' doesn't exist)\"\n",
      "\"Unable to open object (object 'extracted_forces' doesn't exist)\"\n",
      "\"Unable to open object (object 'extracted_forces' doesn't exist)\"\n",
      "\"Unable to open object (object 'extracted_forces' doesn't exist)\"\n",
      "\"Unable to open object (object 'extracted_forces' doesn't exist)\"\n",
      "\"Unable to open object (object 'extracted_forces' doesn't exist)\"\n",
      "\"Unable to open object (object 'extracted_forces' doesn't exist)\"\n",
      "\"Unable to open object (object 'extracted_forces' doesn't exist)\"\n",
      "\"Unable to open object (object 'extracted_forces' doesn't exist)\"\n",
      "\"Unable to open object (object 'extracted_forces' doesn't exist)\"\n",
      "\"Unable to open object (object 'extracted_forces' doesn't exist)\"\n",
      "\"Unable to open object (object 'extracted_forces' doesn't exist)\"\n",
      "\"Unable to open object (object 'extracted_forces' doesn't exist)\"\n",
      "\"Unable to open object (object 'extracted_forces' doesn't exist)\"\n",
      "\"Unable to open object (object 'extracted_forces' doesn't exist)\"\n",
      "\"Unable to open object (object 'extracted_forces' doesn't exist)\"\n",
      "\"Unable to open object (object 'extracted_forces' doesn't exist)\"\n",
      "\"Unable to open object (object 'extracted_forces' doesn't exist)\"\n",
      "\"Unable to open object (object 'extracted_forces' doesn't exist)\"\n"
     ]
    },
    {
     "name": "stderr",
     "output_type": "stream",
     "text": [
      "[11:14:51] UFFTYPER: Unrecognized charge state for atom: 1\n"
     ]
    },
    {
     "name": "stdout",
     "output_type": "stream",
     "text": [
      "\"Unable to open object (object 'extracted_forces' doesn't exist)\"\n"
     ]
    },
    {
     "name": "stderr",
     "output_type": "stream",
     "text": [
      "[11:14:52] UFFTYPER: Unrecognized charge state for atom: 1\n",
      "[11:14:53] UFFTYPER: Unrecognized charge state for atom: 14\n",
      "[11:14:53] UFFTYPER: Unrecognized charge state for atom: 15\n",
      "[11:14:54] UFFTYPER: Unrecognized charge state for atom: 1\n"
     ]
    },
    {
     "name": "stdout",
     "output_type": "stream",
     "text": [
      "\"Unable to open object (object 'extracted_forces' doesn't exist)\"\n"
     ]
    },
    {
     "name": "stderr",
     "output_type": "stream",
     "text": [
      "[11:14:54] UFFTYPER: Unrecognized charge state for atom: 16\n"
     ]
    },
    {
     "name": "stdout",
     "output_type": "stream",
     "text": [
      "\"Unable to open object (object 'extracted_forces' doesn't exist)\"\n",
      "\"Unable to open object (object 'extracted_forces' doesn't exist)\"\n",
      "\"Unable to open object (object 'extracted_forces' doesn't exist)\"\n",
      "\"Unable to open object (object 'extracted_forces' doesn't exist)\"\n",
      "\"Unable to open object (object 'extracted_forces' doesn't exist)\"\n",
      "\"Unable to open object (object 'extracted_forces' doesn't exist)\"\n",
      "\"Unable to open object (object 'extracted_forces' doesn't exist)\"\n",
      "\"Unable to open object (object 'extracted_forces' doesn't exist)\"\n",
      "\"Unable to open object (object 'extracted_forces' doesn't exist)\"\n",
      "\"Unable to open object (object 'extracted_forces' doesn't exist)\"\n",
      "\"Unable to open object (object 'extracted_forces' doesn't exist)\"\n",
      "\"Unable to open object (object 'extracted_forces' doesn't exist)\"\n",
      "\"Unable to open object (object 'extracted_forces' doesn't exist)\"\n",
      "\"Unable to open object (object 'extracted_forces' doesn't exist)\"\n",
      "\"Unable to open object (object 'extracted_forces' doesn't exist)\"\n",
      "\"Unable to open object (object 'extracted_forces' doesn't exist)\"\n",
      "\"Unable to open object (object 'extracted_forces' doesn't exist)\"\n",
      "\"Unable to open object (object 'extracted_forces' doesn't exist)\"\n",
      "\"Unable to open object (object 'extracted_forces' doesn't exist)\"\n",
      "\"Unable to open object (object 'extracted_forces' doesn't exist)\"\n",
      "\"Unable to open object (object 'extracted_forces' doesn't exist)\"\n",
      "\"Unable to open object (object 'extracted_forces' doesn't exist)\"\n"
     ]
    },
    {
     "name": "stderr",
     "output_type": "stream",
     "text": [
      "[11:15:01] UFFTYPER: Unrecognized charge state for atom: 3\n",
      "[11:15:01] UFFTYPER: Unrecognized charge state for atom: 7\n",
      "[11:15:02] UFFTYPER: Unrecognized charge state for atom: 15\n",
      "[11:15:05] UFFTYPER: Unrecognized charge state for atom: 16\n",
      "[11:15:06] UFFTYPER: Unrecognized charge state for atom: 4\n",
      "[11:15:09] UFFTYPER: Unrecognized charge state for atom: 2\n",
      "[11:15:11] UFFTYPER: Unrecognized charge state for atom: 6\n"
     ]
    },
    {
     "name": "stdout",
     "output_type": "stream",
     "text": [
      "\"Unable to open object (object 'extracted_forces' doesn't exist)\"\n"
     ]
    },
    {
     "name": "stderr",
     "output_type": "stream",
     "text": [
      "[11:15:15] UFFTYPER: Unrecognized charge state for atom: 14\n",
      "[11:15:17] UFFTYPER: Unrecognized charge state for atom: 11\n",
      "[11:15:19] UFFTYPER: Unrecognized charge state for atom: 8\n",
      "[11:15:20] UFFTYPER: Unrecognized charge state for atom: 12\n",
      "[11:15:21] UFFTYPER: Unrecognized charge state for atom: 14\n",
      "[11:15:25] UFFTYPER: Unrecognized charge state for atom: 11\n",
      "[11:15:25] UFFTYPER: Unrecognized charge state for atom: 4\n",
      "[11:15:26] UFFTYPER: Unrecognized charge state for atom: 1\n",
      "[11:15:27] UFFTYPER: Unrecognized charge state for atom: 5\n",
      "[11:15:27] UFFTYPER: Unrecognized charge state for atom: 5\n",
      "[11:15:27] UFFTYPER: Unrecognized charge state for atom: 1\n",
      "[11:15:27] UFFTYPER: Unrecognized charge state for atom: 9\n",
      "[11:15:28] UFFTYPER: Unrecognized charge state for atom: 4\n",
      "[11:15:29] UFFTYPER: Unrecognized charge state for atom: 5\n",
      "[11:15:30] UFFTYPER: Unrecognized charge state for atom: 1\n"
     ]
    },
    {
     "name": "stdout",
     "output_type": "stream",
     "text": [
      "\"Unable to open object (object 'extracted_forces' doesn't exist)\"\n",
      "\"Unable to open object (object 'extracted_forces' doesn't exist)\"\n",
      "\"Unable to open object (object 'extracted_forces' doesn't exist)\"\n",
      "\"Unable to open object (object 'extracted_forces' doesn't exist)\"\n",
      "\"Unable to open object (object 'extracted_forces' doesn't exist)\"\n",
      "\"Unable to open object (object 'extracted_forces' doesn't exist)\"\n",
      "\"Unable to open object (object 'extracted_forces' doesn't exist)\"\n",
      "\"Unable to open object (object 'extracted_forces' doesn't exist)\"\n",
      "\"Unable to open object (object 'extracted_forces' doesn't exist)\"\n",
      "\"Unable to open object (object 'extracted_forces' doesn't exist)\"\n",
      "\"Unable to open object (object 'extracted_forces' doesn't exist)\"\n",
      "\"Unable to open object (object 'extracted_forces' doesn't exist)\"\n",
      "\"Unable to open object (object 'extracted_forces' doesn't exist)\"\n",
      "\"Unable to open object (object 'extracted_forces' doesn't exist)\"\n",
      "\"Unable to open object (object 'extracted_forces' doesn't exist)\"\n",
      "\"Unable to open object (object 'extracted_forces' doesn't exist)\"\n",
      "\"Unable to open object (object 'extracted_forces' doesn't exist)\"\n",
      "\"Unable to open object (object 'extracted_forces' doesn't exist)\"\n",
      "\"Unable to open object (object 'extracted_forces' doesn't exist)\"\n",
      "\"Unable to open object (object 'extracted_forces' doesn't exist)\"\n",
      "\"Unable to open object (object 'extracted_forces' doesn't exist)\"\n",
      "\"Unable to open object (object 'extracted_forces' doesn't exist)\"\n",
      "\"Unable to open object (object 'extracted_forces' doesn't exist)\"\n",
      "\"Unable to open object (object 'extracted_forces' doesn't exist)\"\n",
      "\"Unable to open object (object 'extracted_forces' doesn't exist)\"\n",
      "\"Unable to open object (object 'extracted_forces' doesn't exist)\"\n"
     ]
    },
    {
     "name": "stderr",
     "output_type": "stream",
     "text": [
      "[11:15:33] UFFTYPER: Unrecognized charge state for atom: 8\n",
      "[11:15:35] UFFTYPER: Unrecognized charge state for atom: 10\n",
      "[11:15:36] UFFTYPER: Unrecognized charge state for atom: 9\n"
     ]
    },
    {
     "name": "stdout",
     "output_type": "stream",
     "text": [
      "\"Unable to open object (object 'extracted_forces' doesn't exist)\"\n",
      "\"Unable to open object (object 'extracted_forces' doesn't exist)\"\n",
      "\"Unable to open object (object 'reprocessed_forces' doesn't exist)\"\n"
     ]
    },
    {
     "name": "stderr",
     "output_type": "stream",
     "text": [
      "[11:15:41] UFFTYPER: Unrecognized charge state for atom: 1\n"
     ]
    },
    {
     "name": "stdout",
     "output_type": "stream",
     "text": [
      "\"Unable to open object (object 'extracted_forces' doesn't exist)\"\n",
      "\"Unable to open object (object 'extracted_forces' doesn't exist)\"\n",
      "\"Unable to open object (object 'extracted_forces' doesn't exist)\"\n",
      "\"Unable to open object (object 'extracted_forces' doesn't exist)\""
     ]
    },
    {
     "name": "stderr",
     "output_type": "stream",
     "text": [
      "[11:15:41] UFFTYPER: Unrecognized charge state for atom: 4\n"
     ]
    },
    {
     "name": "stdout",
     "output_type": "stream",
     "text": [
      "\n",
      "\"Unable to open object (object 'extracted_forces' doesn't exist)\"\n",
      "\"Unable to open object (object 'extracted_forces' doesn't exist)\"\n",
      "\"Unable to open object (object 'extracted_forces' doesn't exist)\"\n",
      "\"Unable to open object (object 'extracted_forces' doesn't exist)\"\n",
      "\"Unable to open object (object 'extracted_forces' doesn't exist)\"\n",
      "\"Unable to open object (object 'extracted_forces' doesn't exist)\"\n"
     ]
    },
    {
     "name": "stderr",
     "output_type": "stream",
     "text": [
      "[11:15:42] UFFTYPER: Unrecognized charge state for atom: 5\n"
     ]
    },
    {
     "name": "stdout",
     "output_type": "stream",
     "text": [
      "\"Unable to open object (object 'extracted_forces' doesn't exist)\"\n",
      "\"Unable to open object (object 'extracted_forces' doesn't exist)\"\n",
      "\"Unable to open object (object 'extracted_forces' doesn't exist)\"\n",
      "\"Unable to open object (object 'extracted_forces' doesn't exist)\"\n",
      "\"Unable to open object (object 'extracted_forces' doesn't exist)\"\n",
      "\"Unable to open object (object 'extracted_forces' doesn't exist)\"\n",
      "\"Unable to open object (object 'extracted_forces' doesn't exist)\"\n",
      "\"Unable to open object (object 'extracted_forces' doesn't exist)\"\n",
      "\"Unable to open object (object 'extracted_forces' doesn't exist)\"\n",
      "\"Unable to open object (object 'extracted_forces' doesn't exist)\"\n",
      "\"Unable to open object (object 'extracted_forces' doesn't exist)\"\n",
      "\"Unable to open object (object 'extracted_forces' doesn't exist)\"\n",
      "\"Unable to open object (object 'extracted_forces' doesn't exist)\"\n",
      "\"Unable to open object (object 'extracted_forces' doesn't exist)\"\n",
      "\"Unable to open object (object 'extracted_forces' doesn't exist)\"\n",
      "\"Unable to open object (object 'extracted_forces' doesn't exist)\"\n",
      "\"Unable to open object (object 'extracted_forces' doesn't exist)\"\n",
      "\"Unable to open object (object 'extracted_forces' doesn't exist)\"\n",
      "\"Unable to open object (object 'extracted_forces' doesn't exist)\"\n",
      "\"Unable to open object (object 'extracted_forces' doesn't exist)\"\n",
      "\"Unable to open object (object 'extracted_forces' doesn't exist)\"\n",
      "\"Unable to open object (object 'extracted_forces' doesn't exist)\"\n",
      "\"Unable to open object (object 'extracted_forces' doesn't exist)\"\n",
      "\"Unable to open object (object 'extracted_forces' doesn't exist)\"\n",
      "\"Unable to open object (object 'extracted_forces' doesn't exist)\"\n",
      "\"Unable to open object (object 'extracted_forces' doesn't exist)\"\n",
      "\"Unable to open object (object 'extracted_forces' doesn't exist)\"\n",
      "\"Unable to open object (object 'extracted_forces' doesn't exist)\"\n",
      "\"Unable to open object (object 'extracted_forces' doesn't exist)\"\n",
      "\"Unable to open object (object 'extracted_forces' doesn't exist)\"\n",
      "\"Unable to open object (object 'extracted_forces' doesn't exist)\"\n",
      "\"Unable to open object (object 'extracted_forces' doesn't exist)\"\n",
      "\"Unable to open object (object 'extracted_forces' doesn't exist)\"\n",
      "\"Unable to open object (object 'extracted_forces' doesn't exist)\"\n",
      "\"Unable to open object (object 'extracted_forces' doesn't exist)\"\n",
      "\"Unable to open object (object 'extracted_forces' doesn't exist)\"\n",
      "\"Unable to open object (object 'extracted_forces' doesn't exist)\"\n"
     ]
    },
    {
     "name": "stderr",
     "output_type": "stream",
     "text": [
      "[11:15:43] UFFTYPER: Unrecognized charge state for atom: 9\n",
      "[11:15:44] UFFTYPER: Unrecognized charge state for atom: 2\n",
      "[11:15:44] UFFTYPER: Unrecognized charge state for atom: 17\n"
     ]
    },
    {
     "name": "stdout",
     "output_type": "stream",
     "text": [
      "\"Unable to open object (object 'extracted_forces' doesn't exist)\"\n",
      "\"Unable to open object (object 'extracted_forces' doesn't exist)\"\n",
      "\"Unable to open object (object 'extracted_forces' doesn't exist)\"\n"
     ]
    },
    {
     "name": "stderr",
     "output_type": "stream",
     "text": [
      "[11:15:55] UFFTYPER: Unrecognized charge state for atom: 1\n",
      "[11:15:58] UFFTYPER: Unrecognized charge state for atom: 14\n"
     ]
    },
    {
     "name": "stdout",
     "output_type": "stream",
     "text": [
      "\"Unable to open object (object 'extracted_forces' doesn't exist)\"\n",
      "\"Unable to open object (object 'extracted_forces' doesn't exist)\"\n",
      "\"Unable to open object (object 'extracted_forces' doesn't exist)\"\n",
      "\"Unable to open object (object 'extracted_forces' doesn't exist)\"\n",
      "\"Unable to open object (object 'extracted_forces' doesn't exist)\"\n",
      "\"Unable to open object (object 'extracted_forces' doesn't exist)\"\n"
     ]
    },
    {
     "name": "stderr",
     "output_type": "stream",
     "text": [
      "[11:15:59] UFFTYPER: Unrecognized charge state for atom: 6\n",
      "[11:16:02] UFFTYPER: Unrecognized charge state for atom: 10\n"
     ]
    },
    {
     "name": "stdout",
     "output_type": "stream",
     "text": [
      "\"Unable to open object (object 'extracted_forces' doesn't exist)\"\n"
     ]
    },
    {
     "name": "stderr",
     "output_type": "stream",
     "text": [
      "[11:16:02] UFFTYPER: Unrecognized charge state for atom: 7\n"
     ]
    },
    {
     "name": "stdout",
     "output_type": "stream",
     "text": [
      "\"Unable to open object (object 'extracted_forces' doesn't exist)\"\n"
     ]
    },
    {
     "name": "stderr",
     "output_type": "stream",
     "text": [
      "[11:16:07] UFFTYPER: Unrecognized charge state for atom: 1\n",
      "[11:16:08] UFFTYPER: Unrecognized charge state for atom: 6\n",
      "[11:16:10] UFFTYPER: Unrecognized charge state for atom: 16\n",
      "[11:16:10] UFFTYPER: Unrecognized charge state for atom: 15\n",
      "[11:16:10] UFFTYPER: Unrecognized charge state for atom: 20\n",
      "[11:16:11] UFFTYPER: Unrecognized charge state for atom: 13\n",
      "[11:16:12] UFFTYPER: Unrecognized charge state for atom: 4\n",
      "[11:16:13] UFFTYPER: Unrecognized charge state for atom: 16\n",
      "[11:16:16] UFFTYPER: Unrecognized charge state for atom: 9\n"
     ]
    },
    {
     "name": "stdout",
     "output_type": "stream",
     "text": [
      "\"Unable to open object (object 'extracted_forces' doesn't exist)\"\n",
      "\"Unable to open object (object 'extracted_forces' doesn't exist)\"\n",
      "\"Unable to open object (object 'extracted_forces' doesn't exist)\"\n",
      "\"Unable to open object (object 'extracted_forces' doesn't exist)\"\n",
      "\"Unable to open object (object 'extracted_forces' doesn't exist)\"\n",
      "\"Unable to open object (object 'extracted_forces' doesn't exist)\"\n",
      "\"Unable to open object (object 'extracted_forces' doesn't exist)\"\n",
      "\"Unable to open object (object 'extracted_forces' doesn't exist)\"\n",
      "\"Unable to open object (object 'extracted_forces' doesn't exist)\"\n",
      "\"Unable to open object (object 'extracted_forces' doesn't exist)\"\n",
      "\"Unable to open object (object 'extracted_forces' doesn't exist)\"\n",
      "\"Unable to open object (object 'extracted_forces' doesn't exist)\"\n",
      "\"Unable to open object (object 'extracted_forces' doesn't exist)\"\n",
      "\"Unable to open object (object 'extracted_forces' doesn't exist)\"\n",
      "\"Unable to open object (object 'extracted_forces' doesn't exist)\"\n",
      "\"Unable to open object (object 'extracted_forces' doesn't exist)\"\n",
      "\"Unable to open object (object 'extracted_forces' doesn't exist)\"\n",
      "\"Unable to open object (object 'extracted_forces' doesn't exist)\"\n",
      "\"Unable to open object (object 'extracted_forces' doesn't exist)\"\n",
      "\"Unable to open object (object 'extracted_forces' doesn't exist)\"\n",
      "\"Unable to open object (object 'extracted_forces' doesn't exist)\"\n",
      "\"Unable to open object (object 'extracted_forces' doesn't exist)\"\n",
      "\"Unable to open object (object 'extracted_forces' doesn't exist)\"\n",
      "\"Unable to open object (object 'extracted_forces' doesn't exist)\"\n",
      "\"Unable to open object (object 'extracted_forces' doesn't exist)\"\n",
      "\"Unable to open object (object 'extracted_forces' doesn't exist)\"\n",
      "\"Unable to open object (object 'extracted_forces' doesn't exist)\"\n",
      "\"Unable to open object (object 'extracted_forces' doesn't exist)\"\n",
      "\"Unable to open object (object 'extracted_forces' doesn't exist)\"\n",
      "\"Unable to open object (object 'extracted_forces' doesn't exist)\"\n",
      "\"Unable to open object (object 'extracted_forces' doesn't exist)\"\n",
      "\"Unable to open object (object 'extracted_forces' doesn't exist)\"\n",
      "\"Unable to open object (object 'extracted_forces' doesn't exist)\"\n",
      "\"Unable to open object (object 'extracted_forces' doesn't exist)\"\n",
      "\"Unable to open object (object 'extracted_forces' doesn't exist)\"\n",
      "\"Unable to open object (object 'extracted_forces' doesn't exist)\"\n",
      "\"Unable to open object (object 'extracted_forces' doesn't exist)\"\n",
      "\"Unable to open object (object 'extracted_forces' doesn't exist)\"\n",
      "\"Unable to open object (object 'extracted_forces' doesn't exist)\"\n",
      "\"Unable to open object (object 'extracted_forces' doesn't exist)\"\n",
      "\"Unable to open object (object 'extracted_forces' doesn't exist)\"\n",
      "\"Unable to open object (object 'extracted_forces' doesn't exist)\"\n",
      "\"Unable to open object (object 'extracted_forces' doesn't exist)\"\n",
      "\"Unable to open object (object 'extracted_forces' doesn't exist)\"\n",
      "\"Unable to open object (object 'extracted_forces' doesn't exist)\"\n",
      "\"Unable to open object (object 'extracted_forces' doesn't exist)\"\n",
      "\"Unable to open object (object 'extracted_forces' doesn't exist)\"\n",
      "\"Unable to open object (object 'extracted_forces' doesn't exist)\"\n",
      "\"Unable to open object (object 'extracted_forces' doesn't exist)\"\n",
      "\"Unable to open object (object 'extracted_forces' doesn't exist)\"\n"
     ]
    },
    {
     "name": "stderr",
     "output_type": "stream",
     "text": [
      "[11:16:18] UFFTYPER: Unrecognized charge state for atom: 4\n",
      "[11:16:18] UFFTYPER: Unrecognized charge state for atom: 13\n",
      "[11:16:20] UFFTYPER: Unrecognized charge state for atom: 17\n",
      "[11:16:21] UFFTYPER: Unrecognized charge state for atom: 1\n"
     ]
    },
    {
     "name": "stdout",
     "output_type": "stream",
     "text": [
      "\"Unable to open object (object 'extracted_forces' doesn't exist)\"\n"
     ]
    },
    {
     "name": "stderr",
     "output_type": "stream",
     "text": [
      "[11:16:21] UFFTYPER: Unrecognized charge state for atom: 7\n",
      "[11:16:21] UFFTYPER: Unrecognized charge state for atom: 4\n",
      "[11:16:24] UFFTYPER: Unrecognized charge state for atom: 10\n",
      "[11:16:25] UFFTYPER: Unrecognized charge state for atom: 1\n"
     ]
    },
    {
     "name": "stdout",
     "output_type": "stream",
     "text": [
      "\"Unable to open object (object 'extracted_forces' doesn't exist)\"\n"
     ]
    },
    {
     "name": "stderr",
     "output_type": "stream",
     "text": [
      "[11:16:26] UFFTYPER: Unrecognized charge state for atom: 6\n"
     ]
    },
    {
     "name": "stdout",
     "output_type": "stream",
     "text": [
      "\"Unable to open object (object 'extracted_forces' doesn't exist)\"\n"
     ]
    },
    {
     "name": "stderr",
     "output_type": "stream",
     "text": [
      "[11:16:28] UFFTYPER: Unrecognized charge state for atom: 4\n"
     ]
    },
    {
     "name": "stdout",
     "output_type": "stream",
     "text": [
      "\"Unable to open object (object 'extracted_forces' doesn't exist)\"\n"
     ]
    },
    {
     "name": "stderr",
     "output_type": "stream",
     "text": [
      "[11:16:29] UFFTYPER: Unrecognized charge state for atom: 8\n",
      "[11:16:33] UFFTYPER: Unrecognized charge state for atom: 4\n",
      "[11:16:34] UFFTYPER: Unrecognized charge state for atom: 1\n",
      "[11:16:36] UFFTYPER: Unrecognized charge state for atom: 21\n",
      "[11:16:36] UFFTYPER: Unrecognized charge state for atom: 8\n",
      "[11:16:42] UFFTYPER: Unrecognized charge state for atom: 9\n"
     ]
    },
    {
     "name": "stdout",
     "output_type": "stream",
     "text": [
      "\"Unable to open object (object 'extracted_forces' doesn't exist)\"\n"
     ]
    },
    {
     "name": "stderr",
     "output_type": "stream",
     "text": [
      "[11:16:47] UFFTYPER: Unrecognized charge state for atom: 1\n"
     ]
    },
    {
     "name": "stdout",
     "output_type": "stream",
     "text": [
      "\"Unable to open object (object 'extracted_forces' doesn't exist)\"\n",
      "\"Unable to open object (object 'extracted_forces' doesn't exist)\"\n",
      "\"Unable to open object (object 'extracted_forces' doesn't exist)\"\n",
      "\"Unable to open object (object 'extracted_forces' doesn't exist)\"\n",
      "\"Unable to open object (object 'extracted_forces' doesn't exist)\"\n",
      "\"Unable to open object (object 'extracted_forces' doesn't exist)\"\n",
      "\"Unable to open object (object 'extracted_forces' doesn't exist)\"\n",
      "\"Unable to open object (object 'extracted_forces' doesn't exist)\"\n"
     ]
    },
    {
     "name": "stderr",
     "output_type": "stream",
     "text": [
      "[11:16:52] UFFTYPER: Unrecognized charge state for atom: 10\n",
      "[11:16:53] UFFTYPER: Unrecognized charge state for atom: 1\n"
     ]
    },
    {
     "name": "stdout",
     "output_type": "stream",
     "text": [
      "\"Unable to open object (object 'extracted_forces' doesn't exist)\"\n",
      "\"Unable to open object (object 'extracted_forces' doesn't exist)\"\n",
      "\"Unable to open object (object 'extracted_forces' doesn't exist)\"\n",
      "\"Unable to open object (object 'extracted_forces' doesn't exist)\"\n",
      "\"Unable to open object (object 'extracted_forces' doesn't exist)\"\n",
      "\"Unable to open object (object 'extracted_forces' doesn't exist)\"\n",
      "\"Unable to open object (object 'extracted_forces' doesn't exist)\"\n",
      "\"Unable to open object (object 'extracted_forces' doesn't exist)\"\n",
      "\"Unable to open object (object 'extracted_forces' doesn't exist)\"\n",
      "\"Unable to open object (object 'extracted_forces' doesn't exist)\"\n",
      "\"Unable to open object (object 'extracted_forces' doesn't exist)\"\n",
      "\"Unable to open object (object 'extracted_forces' doesn't exist)\"\n",
      "\"Unable to open object (object 'extracted_forces' doesn't exist)\"\n",
      "\"Unable to open object (object 'extracted_forces' doesn't exist)\"\n",
      "\"Unable to open object (object 'extracted_forces' doesn't exist)\"\n",
      "\"Unable to open object (object 'extracted_forces' doesn't exist)\"\n",
      "\"Unable to open object (object 'extracted_forces' doesn't exist)\"\n",
      "\"Unable to open object (object 'extracted_forces' doesn't exist)\"\n",
      "\"Unable to open object (object 'extracted_forces' doesn't exist)\"\n",
      "\"Unable to open object (object 'extracted_forces' doesn't exist)\"\n",
      "\"Unable to open object (object 'extracted_forces' doesn't exist)\"\n",
      "\"Unable to open object (object 'extracted_forces' doesn't exist)\"\n",
      "\"Unable to open object (object 'extracted_forces' doesn't exist)\"\n",
      "\"Unable to open object (object 'extracted_forces' doesn't exist)\"\n",
      "\"Unable to open object (object 'extracted_forces' doesn't exist)\"\n",
      "\"Unable to open object (object 'extracted_forces' doesn't exist)\"\n",
      "\"Unable to open object (object 'extracted_forces' doesn't exist)\"\n",
      "\"Unable to open object (object 'extracted_forces' doesn't exist)\"\n",
      "\"Unable to open object (object 'extracted_forces' doesn't exist)\"\n",
      "\"Unable to open object (object 'extracted_forces' doesn't exist)\"\n",
      "\"Unable to open object (object 'extracted_forces' doesn't exist)\"\n",
      "\"Unable to open object (object 'extracted_forces' doesn't exist)\"\n",
      "\"Unable to open object (object 'extracted_forces' doesn't exist)\"\n",
      "\"Unable to open object (object 'extracted_forces' doesn't exist)\"\n",
      "\"Unable to open object (object 'extracted_forces' doesn't exist)\"\n",
      "\"Unable to open object (object 'extracted_forces' doesn't exist)\"\n",
      "\"Unable to open object (object 'extracted_forces' doesn't exist)\"\n",
      "\"Unable to open object (object 'extracted_forces' doesn't exist)\"\n",
      "\"Unable to open object (object 'extracted_forces' doesn't exist)\"\n",
      "\"Unable to open object (object 'extracted_forces' doesn't exist)\"\n",
      "\"Unable to open object (object 'extracted_forces' doesn't exist)\"\n",
      "\"Unable to open object (object 'extracted_forces' doesn't exist)\"\n",
      "\"Unable to open object (object 'extracted_forces' doesn't exist)\"\n",
      "\"Unable to open object (object 'extracted_forces' doesn't exist)\"\n",
      "\"Unable to open object (object 'extracted_forces' doesn't exist)\"\n",
      "\"Unable to open object (object 'extracted_forces' doesn't exist)\"\n",
      "\"Unable to open object (object 'extracted_forces' doesn't exist)\"\n",
      "\"Unable to open object (object 'extracted_forces' doesn't exist)\"\n",
      "\"Unable to open object (object 'extracted_forces' doesn't exist)\"\n",
      "\"Unable to open object (object 'extracted_forces' doesn't exist)\"\n",
      "\"Unable to open object (object 'extracted_forces' doesn't exist)\"\n",
      "\"Unable to open object (object 'extracted_forces' doesn't exist)\"\n",
      "\"Unable to open object (object 'extracted_forces' doesn't exist)\"\n",
      "\"Unable to open object (object 'extracted_forces' doesn't exist)\"\n",
      "\"Unable to open object (object 'extracted_forces' doesn't exist)\"\n",
      "\"Unable to open object (object 'extracted_forces' doesn't exist)\"\n",
      "\"Unable to open object (object 'extracted_forces' doesn't exist)\"\n",
      "\"Unable to open object (object 'extracted_forces' doesn't exist)\"\n",
      "\"Unable to open object (object 'extracted_forces' doesn't exist)\"\n",
      "\"Unable to open object (object 'extracted_forces' doesn't exist)\"\n",
      "\"Unable to open object (object 'extracted_forces' doesn't exist)\"\n",
      "\"Unable to open object (object 'extracted_forces' doesn't exist)\"\n",
      "\"Unable to open object (object 'extracted_forces' doesn't exist)\"\n",
      "\"Unable to open object (object 'extracted_forces' doesn't exist)\"\n",
      "\"Unable to open object (object 'extracted_forces' doesn't exist)\"\n",
      "\"Unable to open object (object 'extracted_forces' doesn't exist)\"\n",
      "\"Unable to open object (object 'extracted_forces' doesn't exist)\"\n",
      "\"Unable to open object (object 'extracted_forces' doesn't exist)\"\n",
      "\"Unable to open object (object 'extracted_forces' doesn't exist)\"\n",
      "\"Unable to open object (object 'extracted_forces' doesn't exist)\"\n",
      "\"Unable to open object (object 'extracted_forces' doesn't exist)\"\n",
      "\"Unable to open object (object 'extracted_forces' doesn't exist)\"\n",
      "\"Unable to open object (object 'extracted_forces' doesn't exist)\"\n",
      "\"Unable to open object (object 'extracted_forces' doesn't exist)\"\n",
      "\"Unable to open object (object 'extracted_forces' doesn't exist)\"\n",
      "\"Unable to open object (object 'extracted_forces' doesn't exist)\"\n",
      "\"Unable to open object (object 'extracted_forces' doesn't exist)\"\n",
      "\"Unable to open object (object 'extracted_forces' doesn't exist)\"\n"
     ]
    },
    {
     "name": "stderr",
     "output_type": "stream",
     "text": [
      "[11:17:01] UFFTYPER: Unrecognized charge state for atom: 19\n",
      "[11:17:02] UFFTYPER: Unrecognized charge state for atom: 10\n",
      "[11:17:02] UFFTYPER: Unrecognized charge state for atom: 16\n",
      "[11:17:03] UFFTYPER: Unrecognized charge state for atom: 18\n",
      "[11:17:04] UFFTYPER: Unrecognized charge state for atom: 8\n",
      "[11:17:07] UFFTYPER: Unrecognized charge state for atom: 4\n",
      "[11:17:07] UFFTYPER: Unrecognized charge state for atom: 11\n",
      "[11:17:07] UFFTYPER: Unrecognized charge state for atom: 1\n",
      "[11:17:07] UFFTYPER: Unrecognized charge state for atom: 16\n"
     ]
    },
    {
     "name": "stdout",
     "output_type": "stream",
     "text": [
      "\"Unable to open object (object 'extracted_forces' doesn't exist)\"\n"
     ]
    },
    {
     "name": "stderr",
     "output_type": "stream",
     "text": [
      "[11:17:08] UFFTYPER: Unrecognized charge state for atom: 1\n"
     ]
    },
    {
     "name": "stdout",
     "output_type": "stream",
     "text": [
      "\"Unable to open object (object 'extracted_forces' doesn't exist)\"\n",
      "\"Unable to open object (object 'extracted_forces' doesn't exist)\"\n",
      "\"Unable to open object (object 'extracted_forces' doesn't exist)\"\n",
      "\"Unable to open object (object 'extracted_forces' doesn't exist)\"\n",
      "\"Unable to open object (object 'extracted_forces' doesn't exist)\"\n"
     ]
    },
    {
     "name": "stderr",
     "output_type": "stream",
     "text": [
      "[11:17:15] UFFTYPER: Unrecognized charge state for atom: 6\n"
     ]
    },
    {
     "name": "stdout",
     "output_type": "stream",
     "text": [
      "\"Unable to open object (object 'extracted_forces' doesn't exist)\"\n",
      "\"Unable to open object (object 'extracted_forces' doesn't exist)\"\n"
     ]
    },
    {
     "name": "stderr",
     "output_type": "stream",
     "text": [
      "[11:17:24] UFFTYPER: Unrecognized charge state for atom: 9\n",
      "[11:17:24] UFFTYPER: Unrecognized charge state for atom: 12\n",
      "[11:17:25] UFFTYPER: Unrecognized charge state for atom: 1\n"
     ]
    },
    {
     "name": "stdout",
     "output_type": "stream",
     "text": [
      "\"Unable to open object (object 'extracted_forces' doesn't exist)\"\n",
      "\"Unable to open object (object 'extracted_forces' doesn't exist)\"\n",
      "\"Unable to open object (object 'extracted_forces' doesn't exist)\"\n",
      "\"Unable to open object (object 'extracted_forces' doesn't exist)\"\n",
      "\"Unable to open object (object 'extracted_forces' doesn't exist)\"\n",
      "\"Unable to open object (object 'extracted_forces' doesn't exist)\"\n",
      "\"Unable to open object (object 'extracted_forces' doesn't exist)\"\n"
     ]
    },
    {
     "name": "stderr",
     "output_type": "stream",
     "text": [
      "[11:17:26] UFFTYPER: Unrecognized charge state for atom: 7\n"
     ]
    },
    {
     "name": "stdout",
     "output_type": "stream",
     "text": [
      "\"Unable to open object (object 'extracted_forces' doesn't exist)\"\n",
      "\"Unable to open object (object 'extracted_forces' doesn't exist)\"\n"
     ]
    },
    {
     "name": "stderr",
     "output_type": "stream",
     "text": [
      "[11:17:27] UFFTYPER: Unrecognized charge state for atom: 7\n"
     ]
    },
    {
     "name": "stdout",
     "output_type": "stream",
     "text": [
      "\"Unable to open object (object 'extracted_forces' doesn't exist)\"\n",
      "\"Unable to open object (object 'extracted_forces' doesn't exist)\"\n"
     ]
    },
    {
     "name": "stderr",
     "output_type": "stream",
     "text": [
      "[11:17:30] UFFTYPER: Unrecognized charge state for atom: 5\n",
      "[11:17:32] UFFTYPER: Unrecognized charge state for atom: 12\n",
      "[11:17:33] UFFTYPER: Unrecognized charge state for atom: 15\n"
     ]
    },
    {
     "name": "stdout",
     "output_type": "stream",
     "text": [
      "\"Unable to open object (object 'extracted_forces' doesn't exist)\"\n",
      "\"Unable to open object (object 'extracted_forces' doesn't exist)\"\n",
      "\"Unable to open object (object 'extracted_forces' doesn't exist)\"\n",
      "\"Unable to open object (object 'extracted_forces' doesn't exist)\"\n",
      "\"Unable to open object (object 'extracted_forces' doesn't exist)\"\n",
      "\"Unable to open object (object 'extracted_forces' doesn't exist)\"\n",
      "\"Unable to open object (object 'extracted_forces' doesn't exist)\"\n",
      "\"Unable to open object (object 'extracted_forces' doesn't exist)\"\n",
      "\"Unable to open object (object 'extracted_forces' doesn't exist)\"\n",
      "\"Unable to open object (object 'extracted_forces' doesn't exist)\"\n",
      "\"Unable to open object (object 'extracted_forces' doesn't exist)\"\n",
      "\"Unable to open object (object 'extracted_forces' doesn't exist)\"\n",
      "\"Unable to open object (object 'extracted_forces' doesn't exist)\"\n",
      "\"Unable to open object (object 'extracted_forces' doesn't exist)\"\n",
      "\"Unable to open object (object 'extracted_forces' doesn't exist)\"\n",
      "\"Unable to open object (object 'extracted_forces' doesn't exist)\"\n",
      "\"Unable to open object (object 'extracted_forces' doesn't exist)\"\n",
      "\"Unable to open object (object 'extracted_forces' doesn't exist)\"\n",
      "\"Unable to open object (object 'extracted_forces' doesn't exist)\"\n",
      "\"Unable to open object (object 'extracted_forces' doesn't exist)\"\n",
      "\"Unable to open object (object 'extracted_forces' doesn't exist)\"\n",
      "\"Unable to open object (object 'extracted_forces' doesn't exist)\"\n",
      "\"Unable to open object (object 'extracted_forces' doesn't exist)\"\n",
      "\"Unable to open object (object 'extracted_forces' doesn't exist)\"\n",
      "\"Unable to open object (object 'extracted_forces' doesn't exist)\"\n",
      "\"Unable to open object (object 'extracted_forces' doesn't exist)\"\n",
      "\"Unable to open object (object 'extracted_forces' doesn't exist)\"\n",
      "\"Unable to open object (object 'extracted_forces' doesn't exist)\"\n",
      "\"Unable to open object (object 'extracted_forces' doesn't exist)\"\n",
      "\"Unable to open object (object 'extracted_forces' doesn't exist)\"\n",
      "\"Unable to open object (object 'extracted_forces' doesn't exist)\"\n",
      "\"Unable to open object (object 'extracted_forces' doesn't exist)\"\n",
      "\"Unable to open object (object 'extracted_forces' doesn't exist)\"\n",
      "\"Unable to open object (object 'extracted_forces' doesn't exist)\"\n",
      "\"Unable to open object (object 'extracted_forces' doesn't exist)\"\n",
      "\"Unable to open object (object 'extracted_forces' doesn't exist)\"\n",
      "\"Unable to open object (object 'extracted_forces' doesn't exist)\"\n"
     ]
    },
    {
     "name": "stderr",
     "output_type": "stream",
     "text": [
      "[11:17:46] UFFTYPER: Unrecognized charge state for atom: 1\n",
      "[11:17:46] UFFTYPER: Unrecognized charge state for atom: 9\n",
      "[11:17:49] UFFTYPER: Unrecognized charge state for atom: 5\n"
     ]
    },
    {
     "name": "stdout",
     "output_type": "stream",
     "text": [
      "\"Unable to open object (object 'extracted_forces' doesn't exist)\"\n"
     ]
    },
    {
     "name": "stderr",
     "output_type": "stream",
     "text": [
      "[11:17:52] UFFTYPER: Unrecognized charge state for atom: 12\n"
     ]
    },
    {
     "name": "stdout",
     "output_type": "stream",
     "text": [
      "\"Unable to open object (object 'extracted_forces' doesn't exist)\"\n"
     ]
    },
    {
     "name": "stderr",
     "output_type": "stream",
     "text": [
      "[11:17:59] UFFTYPER: Unrecognized charge state for atom: 1\n"
     ]
    },
    {
     "name": "stdout",
     "output_type": "stream",
     "text": [
      "\"Unable to open object (object 'extracted_forces' doesn't exist)\"\n"
     ]
    },
    {
     "name": "stderr",
     "output_type": "stream",
     "text": [
      "[11:18:03] UFFTYPER: Unrecognized charge state for atom: 4\n",
      "[11:18:04] UFFTYPER: Unrecognized charge state for atom: 8\n",
      "[11:18:09] UFFTYPER: Unrecognized charge state for atom: 14\n"
     ]
    },
    {
     "name": "stdout",
     "output_type": "stream",
     "text": [
      "\"Unable to open object (object 'reprocessed_forces' doesn't exist)\"\n",
      "\"Unable to open object (object 'extracted_forces' doesn't exist)\"\n"
     ]
    },
    {
     "name": "stderr",
     "output_type": "stream",
     "text": [
      "[11:18:10] UFFTYPER: Unrecognized charge state for atom: 1\n",
      "[11:18:10] UFFTYPER: Unrecognized charge state for atom: 3\n",
      "[11:18:11] UFFTYPER: Unrecognized charge state for atom: 9\n",
      "[11:18:11] UFFTYPER: Unrecognized charge state for atom: 14\n"
     ]
    },
    {
     "name": "stdout",
     "output_type": "stream",
     "text": [
      "\"Unable to open object (object 'extracted_forces' doesn't exist)\"\n",
      "\"Unable to open object (object 'extracted_forces' doesn't exist)\"\n",
      "\"Unable to open object (object 'extracted_forces' doesn't exist)\"\n",
      "\"Unable to open object (object 'extracted_forces' doesn't exist)\"\n",
      "\"Unable to open object (object 'extracted_forces' doesn't exist)\"\n",
      "\"Unable to open object (object 'extracted_forces' doesn't exist)\"\n",
      "\"Unable to open object (object 'extracted_forces' doesn't exist)\"\n",
      "\"Unable to open object (object 'extracted_forces' doesn't exist)\"\n",
      "\"Unable to open object (object 'extracted_forces' doesn't exist)\"\n",
      "\"Unable to open object (object 'extracted_forces' doesn't exist)\"\n",
      "\"Unable to open object (object 'extracted_forces' doesn't exist)\"\n",
      "\"Unable to open object (object 'extracted_forces' doesn't exist)\"\n",
      "\"Unable to open object (object 'extracted_forces' doesn't exist)\"\n",
      "\"Unable to open object (object 'extracted_forces' doesn't exist)\"\n",
      "\"Unable to open object (object 'extracted_forces' doesn't exist)\"\n",
      "\"Unable to open object (object 'extracted_forces' doesn't exist)\"\n",
      "\"Unable to open object (object 'extracted_forces' doesn't exist)\"\n",
      "\"Unable to open object (object 'extracted_forces' doesn't exist)\"\n",
      "\"Unable to open object (object 'extracted_forces' doesn't exist)\"\n",
      "\"Unable to open object (object 'extracted_forces' doesn't exist)\"\n",
      "\"Unable to open object (object 'extracted_forces' doesn't exist)\"\n",
      "\"Unable to open object (object 'extracted_forces' doesn't exist)\"\n",
      "\"Unable to open object (object 'extracted_forces' doesn't exist)\"\n",
      "\"Unable to open object (object 'extracted_forces' doesn't exist)\"\n",
      "\"Unable to open object (object 'extracted_forces' doesn't exist)\"\n",
      "\"Unable to open object (object 'extracted_forces' doesn't exist)\"\n",
      "\"Unable to open object (object 'extracted_forces' doesn't exist)\"\n",
      "\"Unable to open object (object 'extracted_forces' doesn't exist)\"\n",
      "\"Unable to open object (object 'extracted_forces' doesn't exist)\"\n",
      "\"Unable to open object (object 'extracted_forces' doesn't exist)\"\n",
      "\"Unable to open object (object 'extracted_forces' doesn't exist)\"\n",
      "\"Unable to open object (object 'extracted_forces' doesn't exist)\"\n",
      "\"Unable to open object (object 'extracted_forces' doesn't exist)\"\n",
      "\"Unable to open object (object 'extracted_forces' doesn't exist)\"\n",
      "\"Unable to open object (object 'extracted_forces' doesn't exist)\"\n",
      "\"Unable to open object (object 'extracted_forces' doesn't exist)\"\n",
      "\"Unable to open object (object 'extracted_forces' doesn't exist)\"\n",
      "\"Unable to open object (object 'extracted_forces' doesn't exist)\"\n",
      "\"Unable to open object (object 'extracted_forces' doesn't exist)\"\n",
      "\"Unable to open object (object 'extracted_forces' doesn't exist)\"\n"
     ]
    },
    {
     "name": "stderr",
     "output_type": "stream",
     "text": [
      "[11:18:18] UFFTYPER: Unrecognized charge state for atom: 6\n"
     ]
    },
    {
     "name": "stdout",
     "output_type": "stream",
     "text": [
      "\"Unable to open object (object 'extracted_forces' doesn't exist)\"\n"
     ]
    },
    {
     "name": "stderr",
     "output_type": "stream",
     "text": [
      "[11:18:20] UFFTYPER: Unrecognized charge state for atom: 15\n"
     ]
    },
    {
     "name": "stdout",
     "output_type": "stream",
     "text": [
      "\"Unable to open object (object 'extracted_forces' doesn't exist)\"\n",
      "\"Unable to open object (object 'extracted_forces' doesn't exist)\"\n",
      "\"Unable to open object (object 'extracted_forces' doesn't exist)\"\n",
      "\"Unable to open object (object 'extracted_forces' doesn't exist)\"\n",
      "\"Unable to open object (object 'extracted_forces' doesn't exist)\"\n",
      "\"Unable to open object (object 'extracted_forces' doesn't exist)\"\n",
      "\"Unable to open object (object 'extracted_forces' doesn't exist)\"\n",
      "\"Unable to open object (object 'extracted_forces' doesn't exist)\"\n",
      "\"Unable to open object (object 'extracted_forces' doesn't exist)\"\n",
      "\"Unable to open object (object 'extracted_forces' doesn't exist)\"\n",
      "\"Unable to open object (object 'extracted_forces' doesn't exist)\"\n",
      "\"Unable to open object (object 'extracted_forces' doesn't exist)\"\n",
      "\"Unable to open object (object 'extracted_forces' doesn't exist)\"\n",
      "\"Unable to open object (object 'extracted_forces' doesn't exist)\"\n",
      "\"Unable to open object (object 'extracted_forces' doesn't exist)\"\n",
      "\"Unable to open object (object 'extracted_forces' doesn't exist)\"\n",
      "\"Unable to open object (object 'extracted_forces' doesn't exist)\"\n",
      "\"Unable to open object (object 'extracted_forces' doesn't exist)\"\n",
      "\"Unable to open object (object 'extracted_forces' doesn't exist)\"\n",
      "\"Unable to open object (object 'extracted_forces' doesn't exist)\"\n",
      "\"Unable to open object (object 'extracted_forces' doesn't exist)\"\n",
      "\"Unable to open object (object 'extracted_forces' doesn't exist)\"\n",
      "\"Unable to open object (object 'extracted_forces' doesn't exist)\"\n",
      "\"Unable to open object (object 'extracted_forces' doesn't exist)\"\n",
      "\"Unable to open object (object 'extracted_forces' doesn't exist)\"\n",
      "\"Unable to open object (object 'extracted_forces' doesn't exist)\"\n",
      "\"Unable to open object (object 'extracted_forces' doesn't exist)\"\n",
      "\"Unable to open object (object 'extracted_forces' doesn't exist)\"\n",
      "\"Unable to open object (object 'extracted_forces' doesn't exist)\"\n",
      "\"Unable to open object (object 'extracted_forces' doesn't exist)\"\n",
      "\"Unable to open object (object 'extracted_forces' doesn't exist)\"\n",
      "\"Unable to open object (object 'extracted_forces' doesn't exist)\"\n",
      "\"Unable to open object (object 'extracted_forces' doesn't exist)\"\n",
      "\"Unable to open object (object 'extracted_forces' doesn't exist)\"\n"
     ]
    },
    {
     "name": "stderr",
     "output_type": "stream",
     "text": [
      "[11:18:33] UFFTYPER: Unrecognized charge state for atom: 14\n",
      "[11:18:33] UFFTYPER: Unrecognized charge state for atom: 19\n",
      "[11:18:34] UFFTYPER: Unrecognized charge state for atom: 3\n"
     ]
    },
    {
     "name": "stdout",
     "output_type": "stream",
     "text": [
      "\"Unable to open object (object 'extracted_forces' doesn't exist)\"\n"
     ]
    },
    {
     "name": "stderr",
     "output_type": "stream",
     "text": [
      "[11:18:36] UFFTYPER: Unrecognized charge state for atom: 13\n",
      "[11:18:38] UFFTYPER: Unrecognized charge state for atom: 1\n",
      "[11:18:38] UFFTYPER: Unrecognized charge state for atom: 9\n",
      "[11:18:39] UFFTYPER: Unrecognized charge state for atom: 19\n"
     ]
    },
    {
     "name": "stdout",
     "output_type": "stream",
     "text": [
      "\"Unable to open object (object 'extracted_forces' doesn't exist)\"\n"
     ]
    },
    {
     "name": "stderr",
     "output_type": "stream",
     "text": [
      "[11:18:44] UFFTYPER: Unrecognized charge state for atom: 1\n",
      "[11:18:44] UFFTYPER: Unrecognized charge state for atom: 8\n",
      "[11:18:45] UFFTYPER: Unrecognized charge state for atom: 10\n",
      "[11:18:45] UFFTYPER: Unrecognized charge state for atom: 10\n",
      "[11:18:51] UFFTYPER: Unrecognized charge state for atom: 6\n"
     ]
    },
    {
     "name": "stdout",
     "output_type": "stream",
     "text": [
      "\"Unable to open object (object 'extracted_forces' doesn't exist)\""
     ]
    },
    {
     "name": "stderr",
     "output_type": "stream",
     "text": [
      "[11:18:56] UFFTYPER: Unrecognized charge state for atom: 11\n"
     ]
    },
    {
     "name": "stdout",
     "output_type": "stream",
     "text": [
      "\n",
      "\"Unable to open object (object 'extracted_forces' doesn't exist)\"\n",
      "\"Unable to open object (object 'extracted_forces' doesn't exist)\"\n",
      "\"Unable to open object (object 'extracted_forces' doesn't exist)\"\n",
      "\"Unable to open object (object 'extracted_forces' doesn't exist)\"\n",
      "\"Unable to open object (object 'extracted_forces' doesn't exist)\"\n",
      "\"Unable to open object (object 'extracted_forces' doesn't exist)\"\n",
      "\"Unable to open object (object 'extracted_forces' doesn't exist)\"\n",
      "\"Unable to open object (object 'extracted_forces' doesn't exist)\"\n",
      "\"Unable to open object (object 'extracted_forces' doesn't exist)\"\n"
     ]
    },
    {
     "name": "stderr",
     "output_type": "stream",
     "text": [
      "[11:19:00] UFFTYPER: Unrecognized charge state for atom: 9\n"
     ]
    },
    {
     "name": "stdout",
     "output_type": "stream",
     "text": [
      "\"Unable to open object (object 'extracted_forces' doesn't exist)\"\n",
      "\"Unable to open object (object 'extracted_forces' doesn't exist)\"\n"
     ]
    },
    {
     "name": "stderr",
     "output_type": "stream",
     "text": [
      "[11:19:04] UFFTYPER: Unrecognized charge state for atom: 7\n",
      "[11:19:05] UFFTYPER: Unrecognized charge state for atom: 18\n",
      "[11:19:07] UFFTYPER: Unrecognized charge state for atom: 9\n",
      "[11:19:09] UFFTYPER: Unrecognized charge state for atom: 5\n",
      "[11:19:11] UFFTYPER: Unrecognized charge state for atom: 1\n",
      "[11:19:13] UFFTYPER: Unrecognized charge state for atom: 12\n",
      "[11:19:15] UFFTYPER: Unrecognized charge state for atom: 16\n",
      "[11:19:17] UFFTYPER: Unrecognized charge state for atom: 9\n"
     ]
    },
    {
     "name": "stdout",
     "output_type": "stream",
     "text": [
      "\"Unable to open object (object 'extracted_forces' doesn't exist)\"\n",
      "\"Unable to open object (object 'extracted_forces' doesn't exist)\"\n",
      "\"Unable to open object (object 'extracted_forces' doesn't exist)\"\n"
     ]
    },
    {
     "name": "stderr",
     "output_type": "stream",
     "text": [
      "[11:19:21] UFFTYPER: Unrecognized charge state for atom: 12\n",
      "[11:19:21] UFFTYPER: Unrecognized charge state for atom: 1\n"
     ]
    },
    {
     "name": "stdout",
     "output_type": "stream",
     "text": [
      "\"Unable to open object (object 'extracted_forces' doesn't exist)\"\n",
      "\"Unable to open object (object 'extracted_forces' doesn't exist)\"\n",
      "\"Unable to open object (object 'extracted_forces' doesn't exist)\"\n"
     ]
    },
    {
     "name": "stderr",
     "output_type": "stream",
     "text": [
      "[11:19:25] UFFTYPER: Unrecognized charge state for atom: 3\n",
      "[11:19:29] UFFTYPER: Unrecognized charge state for atom: 16\n"
     ]
    },
    {
     "name": "stdout",
     "output_type": "stream",
     "text": [
      "\"Unable to open object (object 'extracted_forces' doesn't exist)\"\n",
      "\"Unable to open object (object 'extracted_forces' doesn't exist)\"\n",
      "\"Unable to open object (object 'extracted_forces' doesn't exist)\"\n",
      "\"Unable to open object (object 'extracted_forces' doesn't exist)\"\n",
      "\"Unable to open object (object 'extracted_forces' doesn't exist)\"\n",
      "\"Unable to open object (object 'extracted_forces' doesn't exist)\"\n",
      "\"Unable to open object (object 'extracted_forces' doesn't exist)\"\n",
      "\"Unable to open object (object 'extracted_forces' doesn't exist)\"\n",
      "\"Unable to open object (object 'extracted_forces' doesn't exist)\"\n",
      "\"Unable to open object (object 'extracted_forces' doesn't exist)\"\n",
      "\"Unable to open object (object 'extracted_forces' doesn't exist)\"\n",
      "\"Unable to open object (object 'extracted_forces' doesn't exist)\"\n",
      "\"Unable to open object (object 'extracted_forces' doesn't exist)\"\n",
      "\"Unable to open object (object 'extracted_forces' doesn't exist)\"\n",
      "\"Unable to open object (object 'extracted_forces' doesn't exist)\"\n",
      "\"Unable to open object (object 'extracted_forces' doesn't exist)\"\n",
      "\"Unable to open object (object 'extracted_forces' doesn't exist)\"\n",
      "\"Unable to open object (object 'extracted_forces' doesn't exist)\"\n",
      "\"Unable to open object (object 'extracted_forces' doesn't exist)\"\n",
      "\"Unable to open object (object 'extracted_forces' doesn't exist)\"\n",
      "\"Unable to open object (object 'extracted_forces' doesn't exist)\"\n",
      "\"Unable to open object (object 'extracted_forces' doesn't exist)\"\n",
      "\"Unable to open object (object 'extracted_forces' doesn't exist)\"\n",
      "\"Unable to open object (object 'extracted_forces' doesn't exist)\"\n",
      "\"Unable to open object (object 'extracted_forces' doesn't exist)\"\n",
      "\"Unable to open object (object 'extracted_forces' doesn't exist)\"\n",
      "\"Unable to open object (object 'extracted_forces' doesn't exist)\"\n",
      "\"Unable to open object (object 'extracted_forces' doesn't exist)\"\n",
      "\"Unable to open object (object 'extracted_forces' doesn't exist)\"\n",
      "\"Unable to open object (object 'extracted_forces' doesn't exist)\"\n",
      "\"Unable to open object (object 'extracted_forces' doesn't exist)\"\n",
      "\"Unable to open object (object 'extracted_forces' doesn't exist)\"\n",
      "\"Unable to open object (object 'extracted_forces' doesn't exist)\"\n",
      "\"Unable to open object (object 'extracted_forces' doesn't exist)\"\n",
      "\"Unable to open object (object 'extracted_forces' doesn't exist)\"\n",
      "\"Unable to open object (object 'extracted_forces' doesn't exist)\"\n",
      "\"Unable to open object (object 'extracted_forces' doesn't exist)\"\n",
      "\"Unable to open object (object 'extracted_forces' doesn't exist)\"\n",
      "\"Unable to open object (object 'extracted_forces' doesn't exist)\"\n",
      "\"Unable to open object (object 'extracted_forces' doesn't exist)\"\n",
      "\"Unable to open object (object 'extracted_forces' doesn't exist)\"\n",
      "\"Unable to open object (object 'extracted_forces' doesn't exist)\"\n",
      "\"Unable to open object (object 'extracted_forces' doesn't exist)\"\n",
      "\"Unable to open object (object 'extracted_forces' doesn't exist)\"\n",
      "\"Unable to open object (object 'extracted_forces' doesn't exist)\"\n",
      "\"Unable to open object (object 'extracted_forces' doesn't exist)\"\n",
      "\"Unable to open object (object 'extracted_forces' doesn't exist)\"\n",
      "\"Unable to open object (object 'extracted_forces' doesn't exist)\"\n",
      "\"Unable to open object (object 'extracted_forces' doesn't exist)\"\n"
     ]
    },
    {
     "name": "stderr",
     "output_type": "stream",
     "text": [
      "[11:19:45] UFFTYPER: Unrecognized charge state for atom: 1\n"
     ]
    },
    {
     "name": "stdout",
     "output_type": "stream",
     "text": [
      "\"Unable to open object (object 'extracted_forces' doesn't exist)\"\n",
      "\"Unable to open object (object 'extracted_forces' doesn't exist)\"\n",
      "\"Unable to open object (object 'extracted_forces' doesn't exist)\"\n",
      "\"Unable to open object (object 'extracted_forces' doesn't exist)\"\n",
      "\"Unable to open object (object 'extracted_forces' doesn't exist)\"\n",
      "\"Unable to open object (object 'extracted_forces' doesn't exist)\"\n",
      "\"Unable to open object (object 'extracted_forces' doesn't exist)\"\n",
      "\"Unable to open object (object 'extracted_forces' doesn't exist)\"\n",
      "\"Unable to open object (object 'extracted_forces' doesn't exist)\"\n",
      "\"Unable to open object (object 'extracted_forces' doesn't exist)\"\n",
      "\"Unable to open object (object 'extracted_forces' doesn't exist)\"\n",
      "\"Unable to open object (object 'extracted_forces' doesn't exist)\"\n",
      "\"Unable to open object (object 'extracted_forces' doesn't exist)\"\n",
      "\"Unable to open object (object 'extracted_forces' doesn't exist)\"\n",
      "\"Unable to open object (object 'extracted_forces' doesn't exist)\"\n",
      "\"Unable to open object (object 'extracted_forces' doesn't exist)\"\n",
      "\"Unable to open object (object 'extracted_forces' doesn't exist)\"\n",
      "\"Unable to open object (object 'extracted_forces' doesn't exist)\"\n",
      "\"Unable to open object (object 'extracted_forces' doesn't exist)\"\n",
      "\"Unable to open object (object 'extracted_forces' doesn't exist)\"\n",
      "\"Unable to open object (object 'extracted_forces' doesn't exist)\"\n",
      "\"Unable to open object (object 'extracted_forces' doesn't exist)\"\n",
      "\"Unable to open object (object 'extracted_forces' doesn't exist)\"\n",
      "\"Unable to open object (object 'extracted_forces' doesn't exist)\"\n",
      "\"Unable to open object (object 'extracted_forces' doesn't exist)\"\n",
      "\"Unable to open object (object 'extracted_forces' doesn't exist)\"\n",
      "\"Unable to open object (object 'extracted_forces' doesn't exist)\"\n",
      "\"Unable to open object (object 'extracted_forces' doesn't exist)\"\n",
      "\"Unable to open object (object 'extracted_forces' doesn't exist)\"\n",
      "\"Unable to open object (object 'extracted_forces' doesn't exist)\"\n",
      "\"Unable to open object (object 'extracted_forces' doesn't exist)\"\n",
      "\"Unable to open object (object 'extracted_forces' doesn't exist)\"\n",
      "\"Unable to open object (object 'extracted_forces' doesn't exist)\"\n",
      "\"Unable to open object (object 'extracted_forces' doesn't exist)\"\n",
      "\"Unable to open object (object 'extracted_forces' doesn't exist)\"\n",
      "\"Unable to open object (object 'extracted_forces' doesn't exist)\"\n",
      "\"Unable to open object (object 'extracted_forces' doesn't exist)\"\n",
      "\"Unable to open object (object 'extracted_forces' doesn't exist)\"\n",
      "\"Unable to open object (object 'extracted_forces' doesn't exist)\"\n",
      "\"Unable to open object (object 'extracted_forces' doesn't exist)\"\n",
      "\"Unable to open object (object 'extracted_forces' doesn't exist)\"\n",
      "\"Unable to open object (object 'extracted_forces' doesn't exist)\"\n",
      "\"Unable to open object (object 'extracted_forces' doesn't exist)\"\n",
      "\"Unable to open object (object 'extracted_forces' doesn't exist)\"\n",
      "\"Unable to open object (object 'extracted_forces' doesn't exist)\"\n",
      "\"Unable to open object (object 'extracted_forces' doesn't exist)\"\n",
      "\"Unable to open object (object 'extracted_forces' doesn't exist)\"\n",
      "\"Unable to open object (object 'extracted_forces' doesn't exist)\"\n",
      "\"Unable to open object (object 'extracted_forces' doesn't exist)\"\n",
      "\"Unable to open object (object 'extracted_forces' doesn't exist)\"\n",
      "\"Unable to open object (object 'extracted_forces' doesn't exist)\"\n",
      "\"Unable to open object (object 'extracted_forces' doesn't exist)\"\n",
      "\"Unable to open object (object 'extracted_forces' doesn't exist)\"\n",
      "\"Unable to open object (object 'extracted_forces' doesn't exist)\"\n",
      "\"Unable to open object (object 'extracted_forces' doesn't exist)\"\n",
      "\"Unable to open object (object 'extracted_forces' doesn't exist)\"\n",
      "\"Unable to open object (object 'extracted_forces' doesn't exist)\"\n",
      "\"Unable to open object (object 'extracted_forces' doesn't exist)\"\n",
      "\"Unable to open object (object 'extracted_forces' doesn't exist)\"\n",
      "\"Unable to open object (object 'extracted_forces' doesn't exist)\"\n",
      "\"Unable to open object (object 'extracted_forces' doesn't exist)\"\n",
      "\"Unable to open object (object 'extracted_forces' doesn't exist)\"\n",
      "\"Unable to open object (object 'extracted_forces' doesn't exist)\"\n",
      "\"Unable to open object (object 'extracted_forces' doesn't exist)\"\n",
      "\"Unable to open object (object 'extracted_forces' doesn't exist)\"\n",
      "\"Unable to open object (object 'extracted_forces' doesn't exist)\"\n",
      "\"Unable to open object (object 'extracted_forces' doesn't exist)\"\n",
      "\"Unable to open object (object 'extracted_forces' doesn't exist)\"\n",
      "\"Unable to open object (object 'extracted_forces' doesn't exist)\"\n",
      "\"Unable to open object (object 'extracted_forces' doesn't exist)\"\n",
      "\"Unable to open object (object 'extracted_forces' doesn't exist)\"\n",
      "\"Unable to open object (object 'extracted_forces' doesn't exist)\"\n",
      "\"Unable to open object (object 'extracted_forces' doesn't exist)\"\n",
      "\"Unable to open object (object 'extracted_forces' doesn't exist)\"\n",
      "\"Unable to open object (object 'extracted_forces' doesn't exist)\"\n",
      "\"Unable to open object (object 'extracted_forces' doesn't exist)\"\n",
      "\"Unable to open object (object 'extracted_forces' doesn't exist)\"\n",
      "\"Unable to open object (object 'extracted_forces' doesn't exist)\"\n",
      "\"Unable to open object (object 'extracted_forces' doesn't exist)\"\n",
      "\"Unable to open object (object 'extracted_forces' doesn't exist)\"\n",
      "\"Unable to open object (object 'extracted_forces' doesn't exist)\"\n",
      "\"Unable to open object (object 'extracted_forces' doesn't exist)\"\n",
      "\"Unable to open object (object 'extracted_forces' doesn't exist)\"\n",
      "\"Unable to open object (object 'extracted_forces' doesn't exist)\"\n",
      "\"Unable to open object (object 'extracted_forces' doesn't exist)\"\n",
      "\"Unable to open object (object 'extracted_forces' doesn't exist)\"\n",
      "\"Unable to open object (object 'extracted_forces' doesn't exist)\"\n",
      "\"Unable to open object (object 'extracted_forces' doesn't exist)\"\n",
      "\"Unable to open object (object 'extracted_forces' doesn't exist)\"\n",
      "\"Unable to open object (object 'extracted_forces' doesn't exist)\"\n",
      "\"Unable to open object (object 'extracted_forces' doesn't exist)\"\n",
      "\"Unable to open object (object 'extracted_forces' doesn't exist)\"\n",
      "\"Unable to open object (object 'extracted_forces' doesn't exist)\"\n",
      "\"Unable to open object (object 'extracted_forces' doesn't exist)\"\n",
      "\"Unable to open object (object 'extracted_forces' doesn't exist)\"\n",
      "\"Unable to open object (object 'extracted_forces' doesn't exist)\"\n",
      "\"Unable to open object (object 'extracted_forces' doesn't exist)\"\n",
      "\"Unable to open object (object 'extracted_forces' doesn't exist)\"\n",
      "\"Unable to open object (object 'extracted_forces' doesn't exist)\"\n",
      "\"Unable to open object (object 'extracted_forces' doesn't exist)\"\n",
      "\"Unable to open object (object 'extracted_forces' doesn't exist)\"\n",
      "\"Unable to open object (object 'extracted_forces' doesn't exist)\"\n",
      "\"Unable to open object (object 'extracted_forces' doesn't exist)\"\n",
      "\"Unable to open object (object 'extracted_forces' doesn't exist)\"\n",
      "\"Unable to open object (object 'extracted_forces' doesn't exist)\"\n",
      "\"Unable to open object (object 'extracted_forces' doesn't exist)\"\n",
      "\"Unable to open object (object 'extracted_forces' doesn't exist)\"\n",
      "\"Unable to open object (object 'extracted_forces' doesn't exist)\"\n",
      "\"Unable to open object (object 'extracted_forces' doesn't exist)\"\n",
      "\"Unable to open object (object 'extracted_forces' doesn't exist)\"\n",
      "\"Unable to open object (object 'extracted_forces' doesn't exist)\"\n",
      "\"Unable to open object (object 'extracted_forces' doesn't exist)\"\n",
      "\"Unable to open object (object 'extracted_forces' doesn't exist)\"\n",
      "\"Unable to open object (object 'extracted_forces' doesn't exist)\"\n",
      "\"Unable to open object (object 'extracted_forces' doesn't exist)\"\n",
      "\"Unable to open object (object 'extracted_forces' doesn't exist)\"\n",
      "\"Unable to open object (object 'extracted_forces' doesn't exist)\"\n",
      "\"Unable to open object (object 'extracted_forces' doesn't exist)\"\n",
      "\"Unable to open object (object 'extracted_forces' doesn't exist)\"\n",
      "\"Unable to open object (object 'extracted_forces' doesn't exist)\"\n",
      "\"Unable to open object (object 'extracted_forces' doesn't exist)\"\n",
      "\"Unable to open object (object 'extracted_forces' doesn't exist)\"\n",
      "\"Unable to open object (object 'extracted_forces' doesn't exist)\"\n",
      "\"Unable to open object (object 'extracted_forces' doesn't exist)\"\n",
      "\"Unable to open object (object 'extracted_forces' doesn't exist)\"\n",
      "\"Unable to open object (object 'extracted_forces' doesn't exist)\"\n",
      "\"Unable to open object (object 'extracted_forces' doesn't exist)\"\n",
      "\"Unable to open object (object 'extracted_forces' doesn't exist)\"\n",
      "\"Unable to open object (object 'extracted_forces' doesn't exist)\"\n",
      "\"Unable to open object (object 'extracted_forces' doesn't exist)\"\n",
      "\"Unable to open object (object 'extracted_forces' doesn't exist)\"\n",
      "\"Unable to open object (object 'extracted_forces' doesn't exist)\"\n",
      "\"Unable to open object (object 'extracted_forces' doesn't exist)\"\n",
      "\"Unable to open object (object 'extracted_forces' doesn't exist)\"\n",
      "\"Unable to open object (object 'extracted_forces' doesn't exist)\"\n",
      "\"Unable to open object (object 'extracted_forces' doesn't exist)\"\n",
      "\"Unable to open object (object 'extracted_forces' doesn't exist)\"\n",
      "\"Unable to open object (object 'extracted_forces' doesn't exist)\"\n",
      "\"Unable to open object (object 'extracted_forces' doesn't exist)\"\n",
      "\"Unable to open object (object 'extracted_forces' doesn't exist)\"\n",
      "\"Unable to open object (object 'extracted_forces' doesn't exist)\"\n",
      "\"Unable to open object (object 'extracted_forces' doesn't exist)\"\n",
      "\"Unable to open object (object 'extracted_forces' doesn't exist)\"\n",
      "\"Unable to open object (object 'extracted_forces' doesn't exist)\"\n",
      "\"Unable to open object (object 'extracted_forces' doesn't exist)\"\n",
      "\"Unable to open object (object 'extracted_forces' doesn't exist)\"\n",
      "\"Unable to open object (object 'extracted_forces' doesn't exist)\"\n",
      "\"Unable to open object (object 'extracted_forces' doesn't exist)\"\n",
      "\"Unable to open object (object 'extracted_forces' doesn't exist)\"\n",
      "\"Unable to open object (object 'extracted_forces' doesn't exist)\"\n",
      "\"Unable to open object (object 'extracted_forces' doesn't exist)\"\n",
      "\"Unable to open object (object 'extracted_forces' doesn't exist)\"\n",
      "\"Unable to open object (object 'extracted_forces' doesn't exist)\"\n",
      "\"Unable to open object (object 'extracted_forces' doesn't exist)\"\n",
      "\"Unable to open object (object 'extracted_forces' doesn't exist)\"\n",
      "\"Unable to open object (object 'extracted_forces' doesn't exist)\"\n",
      "\"Unable to open object (object 'extracted_forces' doesn't exist)\"\n",
      "\"Unable to open object (object 'extracted_forces' doesn't exist)\"\n",
      "\"Unable to open object (object 'extracted_forces' doesn't exist)\"\n",
      "\"Unable to open object (object 'extracted_forces' doesn't exist)\"\n",
      "\"Unable to open object (object 'extracted_forces' doesn't exist)\"\n",
      "\"Unable to open object (object 'extracted_forces' doesn't exist)\"\n",
      "\"Unable to open object (object 'extracted_forces' doesn't exist)\"\n",
      "\"Unable to open object (object 'extracted_forces' doesn't exist)\"\n",
      "\"Unable to open object (object 'extracted_forces' doesn't exist)\"\n",
      "\"Unable to open object (object 'extracted_forces' doesn't exist)\"\n",
      "\"Unable to open object (object 'extracted_forces' doesn't exist)\"\n",
      "\"Unable to open object (object 'extracted_forces' doesn't exist)\"\n",
      "\"Unable to open object (object 'extracted_forces' doesn't exist)\"\n",
      "\"Unable to open object (object 'extracted_forces' doesn't exist)\"\n",
      "\"Unable to open object (object 'extracted_forces' doesn't exist)\"\n",
      "\"Unable to open object (object 'extracted_forces' doesn't exist)\"\n",
      "\"Unable to open object (object 'extracted_forces' doesn't exist)\"\n",
      "\"Unable to open object (object 'extracted_forces' doesn't exist)\"\n",
      "\"Unable to open object (object 'extracted_forces' doesn't exist)\"\n",
      "\"Unable to open object (object 'extracted_forces' doesn't exist)\"\n",
      "\"Unable to open object (object 'extracted_forces' doesn't exist)\"\n",
      "\"Unable to open object (object 'extracted_forces' doesn't exist)\"\n",
      "\"Unable to open object (object 'extracted_forces' doesn't exist)\"\n",
      "\"Unable to open object (object 'extracted_forces' doesn't exist)\"\n",
      "\"Unable to open object (object 'extracted_forces' doesn't exist)\"\n",
      "\"Unable to open object (object 'extracted_forces' doesn't exist)\"\n",
      "\"Unable to open object (object 'extracted_forces' doesn't exist)\"\n",
      "\"Unable to open object (object 'extracted_forces' doesn't exist)\"\n",
      "\"Unable to open object (object 'extracted_forces' doesn't exist)\"\n",
      "\"Unable to open object (object 'extracted_forces' doesn't exist)\"\n",
      "\"Unable to open object (object 'extracted_forces' doesn't exist)\"\n",
      "\"Unable to open object (object 'extracted_forces' doesn't exist)\"\n",
      "\"Unable to open object (object 'extracted_forces' doesn't exist)\"\n",
      "\"Unable to open object (object 'extracted_forces' doesn't exist)\"\n",
      "\"Unable to open object (object 'extracted_forces' doesn't exist)\"\n",
      "\"Unable to open object (object 'extracted_forces' doesn't exist)\"\n",
      "\"Unable to open object (object 'extracted_forces' doesn't exist)\"\n",
      "\"Unable to open object (object 'extracted_forces' doesn't exist)\"\n",
      "\"Unable to open object (object 'extracted_forces' doesn't exist)\"\n",
      "\"Unable to open object (object 'extracted_forces' doesn't exist)\"\n",
      "\"Unable to open object (object 'extracted_forces' doesn't exist)\"\n",
      "\"Unable to open object (object 'extracted_forces' doesn't exist)\"\n",
      "\"Unable to open object (object 'extracted_forces' doesn't exist)\"\n",
      "\"Unable to open object (object 'extracted_forces' doesn't exist)\"\n",
      "\"Unable to open object (object 'extracted_forces' doesn't exist)\"\n",
      "\"Unable to open object (object 'extracted_forces' doesn't exist)\"\n",
      "\"Unable to open object (object 'extracted_forces' doesn't exist)\"\n",
      "\"Unable to open object (object 'extracted_forces' doesn't exist)\"\n",
      "\"Unable to open object (object 'extracted_forces' doesn't exist)\"\n",
      "\"Unable to open object (object 'extracted_forces' doesn't exist)\"\n",
      "\"Unable to open object (object 'extracted_forces' doesn't exist)\"\n",
      "\"Unable to open object (object 'extracted_forces' doesn't exist)\"\n",
      "\"Unable to open object (object 'extracted_forces' doesn't exist)\"\n",
      "\"Unable to open object (object 'extracted_forces' doesn't exist)\"\n",
      "\"Unable to open object (object 'extracted_forces' doesn't exist)\"\n",
      "\"Unable to open object (object 'extracted_forces' doesn't exist)\"\n",
      "\"Unable to open object (object 'extracted_forces' doesn't exist)\"\n",
      "\"Unable to open object (object 'extracted_forces' doesn't exist)\"\n",
      "\"Unable to open object (object 'extracted_forces' doesn't exist)\"\n",
      "\"Unable to open object (object 'extracted_forces' doesn't exist)\"\n",
      "\"Unable to open object (object 'extracted_forces' doesn't exist)\"\n",
      "\"Unable to open object (object 'extracted_forces' doesn't exist)\"\n",
      "\"Unable to open object (object 'extracted_forces' doesn't exist)\"\n",
      "\"Unable to open object (object 'extracted_forces' doesn't exist)\"\n",
      "\"Unable to open object (object 'extracted_forces' doesn't exist)\"\n",
      "\"Unable to open object (object 'extracted_forces' doesn't exist)\"\n",
      "\"Unable to open object (object 'extracted_forces' doesn't exist)\"\n",
      "\"Unable to open object (object 'extracted_forces' doesn't exist)\"\n",
      "\"Unable to open object (object 'extracted_forces' doesn't exist)\"\n",
      "\"Unable to open object (object 'extracted_forces' doesn't exist)\"\n",
      "\"Unable to open object (object 'extracted_forces' doesn't exist)\"\n",
      "\"Unable to open object (object 'extracted_forces' doesn't exist)\"\n",
      "\"Unable to open object (object 'extracted_forces' doesn't exist)\"\n",
      "\"Unable to open object (object 'extracted_forces' doesn't exist)\"\n",
      "\"Unable to open object (object 'extracted_forces' doesn't exist)\"\n",
      "\"Unable to open object (object 'extracted_forces' doesn't exist)\"\n",
      "\"Unable to open object (object 'extracted_forces' doesn't exist)\"\n",
      "\"Unable to open object (object 'extracted_forces' doesn't exist)\"\n",
      "\"Unable to open object (object 'extracted_forces' doesn't exist)\"\n",
      "\"Unable to open object (object 'extracted_forces' doesn't exist)\"\n",
      "\"Unable to open object (object 'extracted_forces' doesn't exist)\"\n",
      "\"Unable to open object (object 'extracted_forces' doesn't exist)\"\n",
      "\"Unable to open object (object 'extracted_forces' doesn't exist)\"\n",
      "\"Unable to open object (object 'extracted_forces' doesn't exist)\"\n",
      "\"Unable to open object (object 'extracted_forces' doesn't exist)\"\n",
      "\"Unable to open object (object 'extracted_forces' doesn't exist)\"\n",
      "\"Unable to open object (object 'extracted_forces' doesn't exist)\"\n",
      "\"Unable to open object (object 'extracted_forces' doesn't exist)\"\n",
      "\"Unable to open object (object 'extracted_forces' doesn't exist)\"\n",
      "\"Unable to open object (object 'extracted_forces' doesn't exist)\"\n",
      "\"Unable to open object (object 'extracted_forces' doesn't exist)\"\n",
      "\"Unable to open object (object 'extracted_forces' doesn't exist)\"\n",
      "\"Unable to open object (object 'extracted_forces' doesn't exist)\"\n",
      "\"Unable to open object (object 'extracted_forces' doesn't exist)\"\n",
      "\"Unable to open object (object 'extracted_forces' doesn't exist)\"\n",
      "\"Unable to open object (object 'extracted_forces' doesn't exist)\"\n",
      "\"Unable to open object (object 'extracted_forces' doesn't exist)\"\n",
      "\"Unable to open object (object 'extracted_forces' doesn't exist)\"\n",
      "\"Unable to open object (object 'extracted_forces' doesn't exist)\"\n",
      "\"Unable to open object (object 'extracted_forces' doesn't exist)\"\n",
      "\"Unable to open object (object 'extracted_forces' doesn't exist)\"\n",
      "\"Unable to open object (object 'extracted_forces' doesn't exist)\"\n",
      "\"Unable to open object (object 'extracted_forces' doesn't exist)\"\n",
      "\"Unable to open object (object 'extracted_forces' doesn't exist)\"\n",
      "\"Unable to open object (object 'extracted_forces' doesn't exist)\"\n",
      "\"Unable to open object (object 'extracted_forces' doesn't exist)\"\n",
      "\"Unable to open object (object 'extracted_forces' doesn't exist)\"\n",
      "\"Unable to open object (object 'extracted_forces' doesn't exist)\"\n",
      "\"Unable to open object (object 'extracted_forces' doesn't exist)\"\n",
      "\"Unable to open object (object 'extracted_forces' doesn't exist)\"\n",
      "\"Unable to open object (object 'extracted_forces' doesn't exist)\"\n",
      "\"Unable to open object (object 'extracted_forces' doesn't exist)\"\n",
      "\"Unable to open object (object 'extracted_forces' doesn't exist)\"\n",
      "\"Unable to open object (object 'extracted_forces' doesn't exist)\"\n",
      "\"Unable to open object (object 'extracted_forces' doesn't exist)\"\n",
      "\"Unable to open object (object 'extracted_forces' doesn't exist)\"\n",
      "\"Unable to open object (object 'extracted_forces' doesn't exist)\"\n",
      "\"Unable to open object (object 'extracted_forces' doesn't exist)\"\n",
      "\"Unable to open object (object 'extracted_forces' doesn't exist)\"\n",
      "\"Unable to open object (object 'extracted_forces' doesn't exist)\"\n",
      "\"Unable to open object (object 'extracted_forces' doesn't exist)\"\n",
      "\"Unable to open object (object 'extracted_forces' doesn't exist)\"\n",
      "\"Unable to open object (object 'extracted_forces' doesn't exist)\"\n",
      "\"Unable to open object (object 'extracted_forces' doesn't exist)\"\n",
      "\"Unable to open object (object 'extracted_forces' doesn't exist)\"\n",
      "\"Unable to open object (object 'extracted_forces' doesn't exist)\"\n",
      "\"Unable to open object (object 'extracted_forces' doesn't exist)\"\n",
      "\"Unable to open object (object 'extracted_forces' doesn't exist)\"\n",
      "\"Unable to open object (object 'extracted_forces' doesn't exist)\"\n",
      "\"Unable to open object (object 'extracted_forces' doesn't exist)\"\n",
      "\"Unable to open object (object 'extracted_forces' doesn't exist)\"\n",
      "\"Unable to open object (object 'extracted_forces' doesn't exist)\"\n",
      "\"Unable to open object (object 'extracted_forces' doesn't exist)\"\n",
      "\"Unable to open object (object 'extracted_forces' doesn't exist)\"\n",
      "\"Unable to open object (object 'extracted_forces' doesn't exist)\"\n",
      "\"Unable to open object (object 'extracted_forces' doesn't exist)\"\n",
      "\"Unable to open object (object 'extracted_forces' doesn't exist)\"\n",
      "\"Unable to open object (object 'extracted_forces' doesn't exist)\"\n",
      "\"Unable to open object (object 'extracted_forces' doesn't exist)\"\n",
      "\"Unable to open object (object 'extracted_forces' doesn't exist)\"\n",
      "\"Unable to open object (object 'extracted_forces' doesn't exist)\"\n",
      "\"Unable to open object (object 'extracted_forces' doesn't exist)\"\n",
      "\"Unable to open object (object 'extracted_forces' doesn't exist)\"\n",
      "\"Unable to open object (object 'extracted_forces' doesn't exist)\"\n",
      "\"Unable to open object (object 'extracted_forces' doesn't exist)\"\n",
      "\"Unable to open object (object 'extracted_forces' doesn't exist)\"\n",
      "\"Unable to open object (object 'extracted_forces' doesn't exist)\"\n",
      "\"Unable to open object (object 'extracted_forces' doesn't exist)\"\n",
      "\"Unable to open object (object 'extracted_forces' doesn't exist)\"\n",
      "\"Unable to open object (object 'extracted_forces' doesn't exist)\"\n",
      "\"Unable to open object (object 'extracted_forces' doesn't exist)\"\n",
      "\"Unable to open object (object 'extracted_forces' doesn't exist)\"\n",
      "\"Unable to open object (object 'extracted_forces' doesn't exist)\"\n",
      "\"Unable to open object (object 'extracted_forces' doesn't exist)\"\n",
      "\"Unable to open object (object 'extracted_forces' doesn't exist)\"\n",
      "\"Unable to open object (object 'extracted_forces' doesn't exist)\"\n",
      "\"Unable to open object (object 'extracted_forces' doesn't exist)\"\n",
      "\"Unable to open object (object 'extracted_forces' doesn't exist)\"\n",
      "\"Unable to open object (object 'extracted_forces' doesn't exist)\"\n",
      "\"Unable to open object (object 'extracted_forces' doesn't exist)\"\n",
      "\"Unable to open object (object 'extracted_forces' doesn't exist)\"\n",
      "\"Unable to open object (object 'extracted_forces' doesn't exist)\"\n",
      "\"Unable to open object (object 'extracted_forces' doesn't exist)\"\n",
      "\"Unable to open object (object 'extracted_forces' doesn't exist)\"\n",
      "\"Unable to open object (object 'extracted_forces' doesn't exist)\"\n",
      "\"Unable to open object (object 'extracted_forces' doesn't exist)\"\n",
      "\"Unable to open object (object 'extracted_forces' doesn't exist)\"\n",
      "\"Unable to open object (object 'extracted_forces' doesn't exist)\"\n",
      "\"Unable to open object (object 'extracted_forces' doesn't exist)\"\n",
      "\"Unable to open object (object 'extracted_forces' doesn't exist)\"\n",
      "\"Unable to open object (object 'extracted_forces' doesn't exist)\"\n",
      "\"Unable to open object (object 'extracted_forces' doesn't exist)\"\n",
      "\"Unable to open object (object 'extracted_forces' doesn't exist)\"\n",
      "\"Unable to open object (object 'extracted_forces' doesn't exist)\"\n",
      "\"Unable to open object (object 'extracted_forces' doesn't exist)\"\n",
      "\"Unable to open object (object 'extracted_forces' doesn't exist)\"\n",
      "\"Unable to open object (object 'extracted_forces' doesn't exist)\"\n",
      "\"Unable to open object (object 'extracted_forces' doesn't exist)\"\n",
      "\"Unable to open object (object 'extracted_forces' doesn't exist)\"\n",
      "\"Unable to open object (object 'extracted_forces' doesn't exist)\"\n",
      "\"Unable to open object (object 'extracted_forces' doesn't exist)\"\n",
      "\"Unable to open object (object 'extracted_forces' doesn't exist)\"\n",
      "\"Unable to open object (object 'extracted_forces' doesn't exist)\"\n",
      "\"Unable to open object (object 'extracted_forces' doesn't exist)\"\n",
      "\"Unable to open object (object 'extracted_forces' doesn't exist)\"\n",
      "\"Unable to open object (object 'extracted_forces' doesn't exist)\"\n",
      "\"Unable to open object (object 'extracted_forces' doesn't exist)\"\n",
      "\"Unable to open object (object 'extracted_forces' doesn't exist)\"\n",
      "\"Unable to open object (object 'extracted_forces' doesn't exist)\"\n",
      "\"Unable to open object (object 'extracted_forces' doesn't exist)\"\n",
      "\"Unable to open object (object 'extracted_forces' doesn't exist)\"\n",
      "\"Unable to open object (object 'extracted_forces' doesn't exist)\"\n",
      "\"Unable to open object (object 'extracted_forces' doesn't exist)\"\n",
      "\"Unable to open object (object 'extracted_forces' doesn't exist)\"\n",
      "\"Unable to open object (object 'extracted_forces' doesn't exist)\"\n",
      "\"Unable to open object (object 'extracted_forces' doesn't exist)\"\n",
      "\"Unable to open object (object 'extracted_forces' doesn't exist)\"\n",
      "\"Unable to open object (object 'extracted_forces' doesn't exist)\"\n",
      "\"Unable to open object (object 'extracted_forces' doesn't exist)\"\n",
      "\"Unable to open object (object 'extracted_forces' doesn't exist)\"\n",
      "\"Unable to open object (object 'extracted_forces' doesn't exist)\"\n",
      "\"Unable to open object (object 'extracted_forces' doesn't exist)\"\n",
      "\"Unable to open object (object 'extracted_forces' doesn't exist)\"\n",
      "\"Unable to open object (object 'extracted_forces' doesn't exist)\"\n",
      "\"Unable to open object (object 'extracted_forces' doesn't exist)\"\n",
      "\"Unable to open object (object 'extracted_forces' doesn't exist)\"\n",
      "\"Unable to open object (object 'extracted_forces' doesn't exist)\"\n",
      "\"Unable to open object (object 'extracted_forces' doesn't exist)\"\n",
      "\"Unable to open object (object 'extracted_forces' doesn't exist)\"\n",
      "\"Unable to open object (object 'extracted_forces' doesn't exist)\"\n",
      "\"Unable to open object (object 'extracted_forces' doesn't exist)\"\n",
      "\"Unable to open object (object 'extracted_forces' doesn't exist)\"\n",
      "\"Unable to open object (object 'extracted_forces' doesn't exist)\"\n",
      "\"Unable to open object (object 'extracted_forces' doesn't exist)\"\n",
      "\"Unable to open object (object 'extracted_forces' doesn't exist)\"\n",
      "\"Unable to open object (object 'extracted_forces' doesn't exist)\"\n",
      "\"Unable to open object (object 'extracted_forces' doesn't exist)\"\n",
      "\"Unable to open object (object 'extracted_forces' doesn't exist)\"\n",
      "\"Unable to open object (object 'extracted_forces' doesn't exist)\"\n",
      "\"Unable to open object (object 'extracted_forces' doesn't exist)\"\n",
      "\"Unable to open object (object 'extracted_forces' doesn't exist)\"\n",
      "\"Unable to open object (object 'extracted_forces' doesn't exist)\"\n",
      "\"Unable to open object (object 'extracted_forces' doesn't exist)\"\n",
      "\"Unable to open object (object 'extracted_forces' doesn't exist)\"\n",
      "\"Unable to open object (object 'extracted_forces' doesn't exist)\"\n",
      "\"Unable to open object (object 'extracted_forces' doesn't exist)\"\n",
      "\"Unable to open object (object 'extracted_forces' doesn't exist)\"\n",
      "\"Unable to open object (object 'extracted_forces' doesn't exist)\"\n",
      "\"Unable to open object (object 'extracted_forces' doesn't exist)\"\n",
      "\"Unable to open object (object 'extracted_forces' doesn't exist)\"\n",
      "\"Unable to open object (object 'extracted_forces' doesn't exist)\"\n",
      "\"Unable to open object (object 'extracted_forces' doesn't exist)\"\n",
      "\"Unable to open object (object 'extracted_forces' doesn't exist)\"\n",
      "\"Unable to open object (object 'extracted_forces' doesn't exist)\"\n",
      "\"Unable to open object (object 'extracted_forces' doesn't exist)\"\n",
      "\"Unable to open object (object 'extracted_forces' doesn't exist)\"\n",
      "\"Unable to open object (object 'extracted_forces' doesn't exist)\"\n",
      "\"Unable to open object (object 'extracted_forces' doesn't exist)\"\n",
      "\"Unable to open object (object 'extracted_forces' doesn't exist)\"\n",
      "\"Unable to open object (object 'extracted_forces' doesn't exist)\"\n",
      "\"Unable to open object (object 'extracted_forces' doesn't exist)\"\n",
      "\"Unable to open object (object 'extracted_forces' doesn't exist)\"\n",
      "\"Unable to open object (object 'extracted_forces' doesn't exist)\"\n",
      "\"Unable to open object (object 'extracted_forces' doesn't exist)\"\n",
      "\"Unable to open object (object 'extracted_forces' doesn't exist)\"\n",
      "\"Unable to open object (object 'extracted_forces' doesn't exist)\"\n",
      "\"Unable to open object (object 'extracted_forces' doesn't exist)\"\n",
      "\"Unable to open object (object 'extracted_forces' doesn't exist)\"\n",
      "\"Unable to open object (object 'extracted_forces' doesn't exist)\"\n",
      "\"Unable to open object (object 'extracted_forces' doesn't exist)\"\n",
      "\"Unable to open object (object 'extracted_forces' doesn't exist)\"\n",
      "\"Unable to open object (object 'extracted_forces' doesn't exist)\"\n",
      "\"Unable to open object (object 'extracted_forces' doesn't exist)\"\n",
      "\"Unable to open object (object 'extracted_forces' doesn't exist)\"\n",
      "\"Unable to open object (object 'extracted_forces' doesn't exist)\"\n",
      "\"Unable to open object (object 'extracted_forces' doesn't exist)\"\n",
      "\"Unable to open object (object 'extracted_forces' doesn't exist)\"\n",
      "\"Unable to open object (object 'extracted_forces' doesn't exist)\"\n",
      "\"Unable to open object (object 'extracted_forces' doesn't exist)\"\n",
      "\"Unable to open object (object 'extracted_forces' doesn't exist)\"\n",
      "\"Unable to open object (object 'extracted_forces' doesn't exist)\"\n",
      "\"Unable to open object (object 'extracted_forces' doesn't exist)\"\n",
      "\"Unable to open object (object 'extracted_forces' doesn't exist)\"\n",
      "\"Unable to open object (object 'extracted_forces' doesn't exist)\"\n",
      "\"Unable to open object (object 'extracted_forces' doesn't exist)\"\n",
      "\"Unable to open object (object 'extracted_forces' doesn't exist)\"\n",
      "\"Unable to open object (object 'extracted_forces' doesn't exist)\"\n",
      "\"Unable to open object (object 'extracted_forces' doesn't exist)\"\n",
      "\"Unable to open object (object 'extracted_forces' doesn't exist)\"\n",
      "\"Unable to open object (object 'extracted_forces' doesn't exist)\"\n",
      "\"Unable to open object (object 'extracted_forces' doesn't exist)\"\n",
      "\"Unable to open object (object 'extracted_forces' doesn't exist)\"\n",
      "\"Unable to open object (object 'extracted_forces' doesn't exist)\"\n",
      "\"Unable to open object (object 'extracted_forces' doesn't exist)\"\n",
      "\"Unable to open object (object 'extracted_forces' doesn't exist)\"\n",
      "\"Unable to open object (object 'extracted_forces' doesn't exist)\"\n",
      "\"Unable to open object (object 'extracted_forces' doesn't exist)\"\n",
      "\"Unable to open object (object 'extracted_forces' doesn't exist)\"\n",
      "\"Unable to open object (object 'extracted_forces' doesn't exist)\"\n",
      "\"Unable to open object (object 'extracted_forces' doesn't exist)\"\n",
      "\"Unable to open object (object 'extracted_forces' doesn't exist)\"\n",
      "\"Unable to open object (object 'extracted_forces' doesn't exist)\"\n",
      "\"Unable to open object (object 'extracted_forces' doesn't exist)\"\n",
      "\"Unable to open object (object 'extracted_forces' doesn't exist)\"\n",
      "\"Unable to open object (object 'extracted_forces' doesn't exist)\"\n",
      "\"Unable to open object (object 'extracted_forces' doesn't exist)\"\n",
      "\"Unable to open object (object 'extracted_forces' doesn't exist)\"\n",
      "\"Unable to open object (object 'extracted_forces' doesn't exist)\"\n",
      "\"Unable to open object (object 'extracted_forces' doesn't exist)\"\n",
      "\"Unable to open object (object 'extracted_forces' doesn't exist)\"\n",
      "\"Unable to open object (object 'extracted_forces' doesn't exist)\"\n",
      "\"Unable to open object (object 'extracted_forces' doesn't exist)\"\n",
      "\"Unable to open object (object 'extracted_forces' doesn't exist)\"\n",
      "\"Unable to open object (object 'extracted_forces' doesn't exist)\"\n",
      "\"Unable to open object (object 'extracted_forces' doesn't exist)\"\n",
      "\"Unable to open object (object 'extracted_forces' doesn't exist)\"\n",
      "\"Unable to open object (object 'extracted_forces' doesn't exist)\"\n",
      "\"Unable to open object (object 'extracted_forces' doesn't exist)\"\n",
      "\"Unable to open object (object 'extracted_forces' doesn't exist)\"\n",
      "\"Unable to open object (object 'extracted_forces' doesn't exist)\"\n",
      "\"Unable to open object (object 'extracted_forces' doesn't exist)\"\n",
      "\"Unable to open object (object 'extracted_forces' doesn't exist)\"\n",
      "\"Unable to open object (object 'extracted_forces' doesn't exist)\"\n",
      "\"Unable to open object (object 'extracted_forces' doesn't exist)\"\n",
      "\"Unable to open object (object 'extracted_forces' doesn't exist)\"\n",
      "\"Unable to open object (object 'extracted_forces' doesn't exist)\"\n",
      "\"Unable to open object (object 'extracted_forces' doesn't exist)\"\n",
      "\"Unable to open object (object 'extracted_forces' doesn't exist)\"\n",
      "\"Unable to open object (object 'extracted_forces' doesn't exist)\"\n",
      "\"Unable to open object (object 'extracted_forces' doesn't exist)\"\n",
      "\"Unable to open object (object 'extracted_forces' doesn't exist)\"\n",
      "\"Unable to open object (object 'extracted_forces' doesn't exist)\"\n",
      "\"Unable to open object (object 'extracted_forces' doesn't exist)\"\n",
      "\"Unable to open object (object 'extracted_forces' doesn't exist)\"\n",
      "\"Unable to open object (object 'extracted_forces' doesn't exist)\"\n",
      "\"Unable to open object (object 'extracted_forces' doesn't exist)\"\n",
      "\"Unable to open object (object 'extracted_forces' doesn't exist)\"\n",
      "\"Unable to open object (object 'extracted_forces' doesn't exist)\"\n",
      "\"Unable to open object (object 'extracted_forces' doesn't exist)\"\n",
      "\"Unable to open object (object 'extracted_forces' doesn't exist)\"\n",
      "\"Unable to open object (object 'extracted_forces' doesn't exist)\"\n",
      "\"Unable to open object (object 'extracted_forces' doesn't exist)\"\n",
      "\"Unable to open object (object 'extracted_forces' doesn't exist)\"\n",
      "\"Unable to open object (object 'extracted_forces' doesn't exist)\"\n",
      "\"Unable to open object (object 'extracted_forces' doesn't exist)\"\n",
      "\"Unable to open object (object 'extracted_forces' doesn't exist)\"\n",
      "\"Unable to open object (object 'extracted_forces' doesn't exist)\"\n",
      "\"Unable to open object (object 'extracted_forces' doesn't exist)\"\n",
      "\"Unable to open object (object 'extracted_forces' doesn't exist)\"\n",
      "\"Unable to open object (object 'extracted_forces' doesn't exist)\"\n",
      "\"Unable to open object (object 'extracted_forces' doesn't exist)\"\n",
      "\"Unable to open object (object 'extracted_forces' doesn't exist)\"\n",
      "\"Unable to open object (object 'extracted_forces' doesn't exist)\"\n",
      "\"Unable to open object (object 'extracted_forces' doesn't exist)\"\n",
      "\"Unable to open object (object 'extracted_forces' doesn't exist)\"\n",
      "\"Unable to open object (object 'extracted_forces' doesn't exist)\"\n",
      "\"Unable to open object (object 'extracted_forces' doesn't exist)\"\n",
      "\"Unable to open object (object 'extracted_forces' doesn't exist)\"\n",
      "\"Unable to open object (object 'extracted_forces' doesn't exist)\"\n",
      "\"Unable to open object (object 'extracted_forces' doesn't exist)\"\n",
      "\"Unable to open object (object 'extracted_forces' doesn't exist)\"\n",
      "\"Unable to open object (object 'extracted_forces' doesn't exist)\"\n",
      "\"Unable to open object (object 'extracted_forces' doesn't exist)\"\n",
      "\"Unable to open object (object 'extracted_forces' doesn't exist)\"\n",
      "\"Unable to open object (object 'extracted_forces' doesn't exist)\"\n",
      "\"Unable to open object (object 'extracted_forces' doesn't exist)\"\n",
      "\"Unable to open object (object 'extracted_forces' doesn't exist)\"\n",
      "\"Unable to open object (object 'extracted_forces' doesn't exist)\"\n",
      "\"Unable to open object (object 'extracted_forces' doesn't exist)\"\n",
      "\"Unable to open object (object 'extracted_forces' doesn't exist)\"\n",
      "\"Unable to open object (object 'extracted_forces' doesn't exist)\"\n",
      "\"Unable to open object (object 'extracted_forces' doesn't exist)\"\n",
      "\"Unable to open object (object 'extracted_forces' doesn't exist)\"\n",
      "\"Unable to open object (object 'extracted_forces' doesn't exist)\"\n",
      "\"Unable to open object (object 'extracted_forces' doesn't exist)\"\n",
      "\"Unable to open object (object 'extracted_forces' doesn't exist)\"\n",
      "\"Unable to open object (object 'extracted_forces' doesn't exist)\"\n",
      "\"Unable to open object (object 'extracted_forces' doesn't exist)\"\n",
      "\"Unable to open object (object 'extracted_forces' doesn't exist)\"\n",
      "\"Unable to open object (object 'extracted_forces' doesn't exist)\"\n",
      "\"Unable to open object (object 'extracted_forces' doesn't exist)\"\n",
      "\"Unable to open object (object 'extracted_forces' doesn't exist)\"\n",
      "\"Unable to open object (object 'extracted_forces' doesn't exist)\"\n",
      "\"Unable to open object (object 'extracted_forces' doesn't exist)\"\n",
      "\"Unable to open object (object 'extracted_forces' doesn't exist)\"\n",
      "\"Unable to open object (object 'extracted_forces' doesn't exist)\"\n",
      "\"Unable to open object (object 'extracted_forces' doesn't exist)\"\n",
      "\"Unable to open object (object 'extracted_forces' doesn't exist)\"\n",
      "\"Unable to open object (object 'extracted_forces' doesn't exist)\"\n",
      "\"Unable to open object (object 'extracted_forces' doesn't exist)\"\n",
      "\"Unable to open object (object 'extracted_forces' doesn't exist)\"\n",
      "\"Unable to open object (object 'extracted_forces' doesn't exist)\"\n",
      "\"Unable to open object (object 'extracted_forces' doesn't exist)\"\n",
      "\"Unable to open object (object 'extracted_forces' doesn't exist)\"\n",
      "\"Unable to open object (object 'extracted_forces' doesn't exist)\"\n",
      "\"Unable to open object (object 'extracted_forces' doesn't exist)\"\n",
      "\"Unable to open object (object 'extracted_forces' doesn't exist)\"\n",
      "\"Unable to open object (object 'extracted_forces' doesn't exist)\"\n",
      "\"Unable to open object (object 'extracted_forces' doesn't exist)\"\n",
      "\"Unable to open object (object 'extracted_forces' doesn't exist)\"\n",
      "\"Unable to open object (object 'extracted_forces' doesn't exist)\"\n",
      "\"Unable to open object (object 'extracted_forces' doesn't exist)\"\n",
      "\"Unable to open object (object 'extracted_forces' doesn't exist)\"\n",
      "\"Unable to open object (object 'extracted_forces' doesn't exist)\"\n",
      "\"Unable to open object (object 'extracted_forces' doesn't exist)\"\n",
      "\"Unable to open object (object 'extracted_forces' doesn't exist)\"\n",
      "\"Unable to open object (object 'extracted_forces' doesn't exist)\"\n",
      "\"Unable to open object (object 'extracted_forces' doesn't exist)\"\n",
      "\"Unable to open object (object 'extracted_forces' doesn't exist)\"\n",
      "\"Unable to open object (object 'extracted_forces' doesn't exist)\"\n",
      "\"Unable to open object (object 'extracted_forces' doesn't exist)\"\n",
      "\"Unable to open object (object 'extracted_forces' doesn't exist)\"\n",
      "\"Unable to open object (object 'extracted_forces' doesn't exist)\"\n",
      "\"Unable to open object (object 'extracted_forces' doesn't exist)\"\n",
      "\"Unable to open object (object 'extracted_forces' doesn't exist)\"\n",
      "\"Unable to open object (object 'extracted_forces' doesn't exist)\"\n",
      "\"Unable to open object (object 'extracted_forces' doesn't exist)\"\n",
      "\"Unable to open object (object 'extracted_forces' doesn't exist)\"\n",
      "\"Unable to open object (object 'extracted_forces' doesn't exist)\"\n",
      "\"Unable to open object (object 'extracted_forces' doesn't exist)\"\n",
      "\"Unable to open object (object 'extracted_forces' doesn't exist)\"\n",
      "\"Unable to open object (object 'extracted_forces' doesn't exist)\"\n",
      "\"Unable to open object (object 'extracted_forces' doesn't exist)\"\n",
      "\"Unable to open object (object 'extracted_forces' doesn't exist)\"\n",
      "\"Unable to open object (object 'extracted_forces' doesn't exist)\"\n",
      "\"Unable to open object (object 'extracted_forces' doesn't exist)\"\n",
      "\"Unable to open object (object 'extracted_forces' doesn't exist)\"\n",
      "\"Unable to open object (object 'extracted_forces' doesn't exist)\"\n",
      "\"Unable to open object (object 'extracted_forces' doesn't exist)\"\n",
      "\"Unable to open object (object 'extracted_forces' doesn't exist)\"\n",
      "\"Unable to open object (object 'extracted_forces' doesn't exist)\"\n",
      "\"Unable to open object (object 'extracted_forces' doesn't exist)\"\n",
      "\"Unable to open object (object 'extracted_forces' doesn't exist)\"\n",
      "\"Unable to open object (object 'extracted_forces' doesn't exist)\"\n",
      "\"Unable to open object (object 'extracted_forces' doesn't exist)\"\n",
      "\"Unable to open object (object 'extracted_forces' doesn't exist)\"\n",
      "\"Unable to open object (object 'extracted_forces' doesn't exist)\"\n",
      "\"Unable to open object (object 'extracted_forces' doesn't exist)\"\n",
      "\"Unable to open object (object 'extracted_forces' doesn't exist)\"\n",
      "\"Unable to open object (object 'extracted_forces' doesn't exist)\"\n",
      "\"Unable to open object (object 'extracted_forces' doesn't exist)\"\n",
      "\"Unable to open object (object 'extracted_forces' doesn't exist)\"\n",
      "\"Unable to open object (object 'extracted_forces' doesn't exist)\"\n",
      "\"Unable to open object (object 'extracted_forces' doesn't exist)\"\n",
      "\"Unable to open object (object 'extracted_forces' doesn't exist)\"\n",
      "\"Unable to open object (object 'extracted_forces' doesn't exist)\"\n",
      "\"Unable to open object (object 'extracted_forces' doesn't exist)\"\n",
      "\"Unable to open object (object 'extracted_forces' doesn't exist)\"\n",
      "\"Unable to open object (object 'extracted_forces' doesn't exist)\"\n",
      "\"Unable to open object (object 'extracted_forces' doesn't exist)\"\n",
      "\"Unable to open object (object 'extracted_forces' doesn't exist)\"\n",
      "\"Unable to open object (object 'extracted_forces' doesn't exist)\"\n",
      "\"Unable to open object (object 'extracted_forces' doesn't exist)\"\n",
      "\"Unable to open object (object 'extracted_forces' doesn't exist)\"\n",
      "\"Unable to open object (object 'extracted_forces' doesn't exist)\"\n",
      "\"Unable to open object (object 'extracted_forces' doesn't exist)\"\n",
      "\"Unable to open object (object 'extracted_forces' doesn't exist)\"\n",
      "\"Unable to open object (object 'extracted_forces' doesn't exist)\"\n",
      "\"Unable to open object (object 'extracted_forces' doesn't exist)\"\n",
      "\"Unable to open object (object 'extracted_forces' doesn't exist)\"\n",
      "\"Unable to open object (object 'extracted_forces' doesn't exist)\"\n",
      "\"Unable to open object (object 'extracted_forces' doesn't exist)\"\n",
      "\"Unable to open object (object 'extracted_forces' doesn't exist)\"\n",
      "\"Unable to open object (object 'extracted_forces' doesn't exist)\"\n",
      "\"Unable to open object (object 'extracted_forces' doesn't exist)\"\n",
      "\"Unable to open object (object 'extracted_forces' doesn't exist)\"\n",
      "\"Unable to open object (object 'extracted_forces' doesn't exist)\"\n",
      "\"Unable to open object (object 'extracted_forces' doesn't exist)\"\n",
      "\"Unable to open object (object 'extracted_forces' doesn't exist)\"\n",
      "\"Unable to open object (object 'extracted_forces' doesn't exist)\"\n",
      "\"Unable to open object (object 'extracted_forces' doesn't exist)\"\n",
      "\"Unable to open object (object 'extracted_forces' doesn't exist)\"\n",
      "\"Unable to open object (object 'extracted_forces' doesn't exist)\"\n",
      "\"Unable to open object (object 'extracted_forces' doesn't exist)\"\n",
      "\"Unable to open object (object 'extracted_forces' doesn't exist)\"\n",
      "\"Unable to open object (object 'extracted_forces' doesn't exist)\"\n",
      "\"Unable to open object (object 'extracted_forces' doesn't exist)\"\n",
      "\"Unable to open object (object 'extracted_forces' doesn't exist)\"\n",
      "\"Unable to open object (object 'extracted_forces' doesn't exist)\"\n",
      "\"Unable to open object (object 'extracted_forces' doesn't exist)\"\n",
      "\"Unable to open object (object 'extracted_forces' doesn't exist)\"\n",
      "\"Unable to open object (object 'extracted_forces' doesn't exist)\"\n",
      "\"Unable to open object (object 'extracted_forces' doesn't exist)\"\n",
      "\"Unable to open object (object 'extracted_forces' doesn't exist)\"\n",
      "\"Unable to open object (object 'extracted_forces' doesn't exist)\"\n",
      "\"Unable to open object (object 'extracted_forces' doesn't exist)\"\n",
      "\"Unable to open object (object 'extracted_forces' doesn't exist)\"\n",
      "\"Unable to open object (object 'extracted_forces' doesn't exist)\"\n",
      "\"Unable to open object (object 'extracted_forces' doesn't exist)\"\n",
      "\"Unable to open object (object 'extracted_forces' doesn't exist)\"\n",
      "\"Unable to open object (object 'extracted_forces' doesn't exist)\"\n",
      "Bad Conformer Id\n",
      "\"Unable to open object (object 'extracted_forces' doesn't exist)\"\n",
      "\"Unable to open object (object 'extracted_forces' doesn't exist)\"\n",
      "\"Unable to open object (object 'extracted_forces' doesn't exist)\"\n",
      "\"Unable to open object (object 'extracted_forces' doesn't exist)\"\n",
      "\"Unable to open object (object 'extracted_forces' doesn't exist)\"\n",
      "\"Unable to open object (object 'extracted_forces' doesn't exist)\"\n",
      "\"Unable to open object (object 'extracted_forces' doesn't exist)\"\n",
      "\"Unable to open object (object 'extracted_forces' doesn't exist)\"\n",
      "\"Unable to open object (object 'extracted_forces' doesn't exist)\"\n",
      "\"Unable to open object (object 'extracted_forces' doesn't exist)\"\n",
      "\"Unable to open object (object 'extracted_forces' doesn't exist)\"\n",
      "\"Unable to open object (object 'extracted_forces' doesn't exist)\"\n",
      "\"Unable to open object (object 'extracted_forces' doesn't exist)\"\n",
      "\"Unable to open object (object 'extracted_forces' doesn't exist)\"\n",
      "\"Unable to open object (object 'extracted_forces' doesn't exist)\"\n",
      "Bad Conformer Id\n",
      "\"Unable to open object (object 'extracted_forces' doesn't exist)\"\n",
      "\"Unable to open object (object 'extracted_forces' doesn't exist)\"\n",
      "\"Unable to open object (object 'extracted_forces' doesn't exist)\"\n",
      "\"Unable to open object (object 'extracted_forces' doesn't exist)\"\n",
      "\"Unable to open object (object 'extracted_forces' doesn't exist)\"\n",
      "\"Unable to open object (object 'extracted_forces' doesn't exist)\"\n",
      "\"Unable to open object (object 'extracted_forces' doesn't exist)\"\n",
      "\"Unable to open object (object 'extracted_forces' doesn't exist)\"\n",
      "\"Unable to open object (object 'extracted_forces' doesn't exist)\"\n",
      "\"Unable to open object (object 'extracted_forces' doesn't exist)\"\n",
      "\"Unable to open object (object 'extracted_forces' doesn't exist)\"\n",
      "\"Unable to open object (object 'extracted_forces' doesn't exist)\"\n",
      "\"Unable to open object (object 'extracted_forces' doesn't exist)\"\n",
      "\"Unable to open object (object 'extracted_forces' doesn't exist)\"\n",
      "\"Unable to open object (object 'extracted_forces' doesn't exist)\"\n",
      "\"Unable to open object (object 'extracted_forces' doesn't exist)\"\n",
      "\"Unable to open object (object 'extracted_forces' doesn't exist)\"\n",
      "\"Unable to open object (object 'extracted_forces' doesn't exist)\"\n",
      "\"Unable to open object (object 'extracted_forces' doesn't exist)\"\n",
      "\"Unable to open object (object 'extracted_forces' doesn't exist)\"\n",
      "\"Unable to open object (object 'extracted_forces' doesn't exist)\"\n",
      "\"Unable to open object (object 'extracted_forces' doesn't exist)\"\n",
      "\"Unable to open object (object 'extracted_forces' doesn't exist)\"\n",
      "\"Unable to open object (object 'extracted_forces' doesn't exist)\"\n",
      "\"Unable to open object (object 'extracted_forces' doesn't exist)\"\n",
      "\"Unable to open object (object 'extracted_forces' doesn't exist)\"\n",
      "\"Unable to open object (object 'extracted_forces' doesn't exist)\"\n",
      "\"Unable to open object (object 'extracted_forces' doesn't exist)\"\n",
      "\"Unable to open object (object 'extracted_forces' doesn't exist)\"\n",
      "\"Unable to open object (object 'extracted_forces' doesn't exist)\"\n",
      "\"Unable to open object (object 'extracted_forces' doesn't exist)\"\n",
      "\"Unable to open object (object 'extracted_forces' doesn't exist)\"\n",
      "\"Unable to open object (object 'extracted_forces' doesn't exist)\"\n",
      "\"Unable to open object (object 'extracted_forces' doesn't exist)\"\n",
      "\"Unable to open object (object 'extracted_forces' doesn't exist)\"\n",
      "\"Unable to open object (object 'extracted_forces' doesn't exist)\"\n",
      "\"Unable to open object (object 'extracted_forces' doesn't exist)\"\n",
      "\"Unable to open object (object 'extracted_forces' doesn't exist)\"\n",
      "\"Unable to open object (object 'extracted_forces' doesn't exist)\"\n",
      "\"Unable to open object (object 'extracted_forces' doesn't exist)\"\n",
      "\"Unable to open object (object 'extracted_forces' doesn't exist)\"\n",
      "\"Unable to open object (object 'extracted_forces' doesn't exist)\"\n",
      "\"Unable to open object (object 'extracted_forces' doesn't exist)\"\n",
      "\"Unable to open object (object 'extracted_forces' doesn't exist)\"\n",
      "\"Unable to open object (object 'extracted_forces' doesn't exist)\"\n",
      "\"Unable to open object (object 'extracted_forces' doesn't exist)\"\n",
      "\"Unable to open object (object 'extracted_forces' doesn't exist)\"\n",
      "\"Unable to open object (object 'extracted_forces' doesn't exist)\"\n",
      "\"Unable to open object (object 'extracted_forces' doesn't exist)\"\n",
      "\"Unable to open object (object 'extracted_forces' doesn't exist)\"\n",
      "\"Unable to open object (object 'extracted_forces' doesn't exist)\"\n",
      "\"Unable to open object (object 'extracted_forces' doesn't exist)\"\n",
      "\"Unable to open object (object 'extracted_forces' doesn't exist)\"\n",
      "\"Unable to open object (object 'extracted_forces' doesn't exist)\"\n",
      "\"Unable to open object (object 'extracted_forces' doesn't exist)\"\n",
      "\"Unable to open object (object 'extracted_forces' doesn't exist)\"\n",
      "\"Unable to open object (object 'extracted_forces' doesn't exist)\"\n",
      "\"Unable to open object (object 'extracted_forces' doesn't exist)\"\n",
      "\"Unable to open object (object 'extracted_forces' doesn't exist)\"\n",
      "\"Unable to open object (object 'extracted_forces' doesn't exist)\"\n",
      "\"Unable to open object (object 'extracted_forces' doesn't exist)\"\n",
      "\"Unable to open object (object 'extracted_forces' doesn't exist)\"\n",
      "\"Unable to open object (object 'extracted_forces' doesn't exist)\"\n",
      "\"Unable to open object (object 'extracted_forces' doesn't exist)\"\n",
      "\"Unable to open object (object 'extracted_forces' doesn't exist)\"\n",
      "\"Unable to open object (object 'extracted_forces' doesn't exist)\"\n",
      "\"Unable to open object (object 'extracted_forces' doesn't exist)\"\n",
      "\"Unable to open object (object 'extracted_forces' doesn't exist)\"\n",
      "\"Unable to open object (object 'extracted_forces' doesn't exist)\"\n",
      "\"Unable to open object (object 'extracted_forces' doesn't exist)\"\n",
      "\"Unable to open object (object 'extracted_forces' doesn't exist)\"\n",
      "\"Unable to open object (object 'extracted_forces' doesn't exist)\"\n",
      "\"Unable to open object (object 'extracted_forces' doesn't exist)\"\n",
      "\"Unable to open object (object 'extracted_forces' doesn't exist)\"\n",
      "\"Unable to open object (object 'extracted_forces' doesn't exist)\"\n",
      "\"Unable to open object (object 'extracted_forces' doesn't exist)\"\n",
      "\"Unable to open object (object 'extracted_forces' doesn't exist)\"\n",
      "\"Unable to open object (object 'extracted_forces' doesn't exist)\"\n",
      "\"Unable to open object (object 'extracted_forces' doesn't exist)\"\n",
      "\"Unable to open object (object 'extracted_forces' doesn't exist)\"\n",
      "\"Unable to open object (object 'extracted_forces' doesn't exist)\"\n",
      "\"Unable to open object (object 'extracted_forces' doesn't exist)\"\n",
      "\"Unable to open object (object 'extracted_forces' doesn't exist)\"\n",
      "\"Unable to open object (object 'extracted_forces' doesn't exist)\"\n",
      "\"Unable to open object (object 'extracted_forces' doesn't exist)\"\n",
      "\"Unable to open object (object 'extracted_forces' doesn't exist)\"\n",
      "\"Unable to open object (object 'extracted_forces' doesn't exist)\"\n",
      "\"Unable to open object (object 'extracted_forces' doesn't exist)\"\n",
      "\"Unable to open object (object 'extracted_forces' doesn't exist)\"\n",
      "\"Unable to open object (object 'extracted_forces' doesn't exist)\"\n",
      "\"Unable to open object (object 'extracted_forces' doesn't exist)\"\n",
      "\"Unable to open object (object 'extracted_forces' doesn't exist)\"\n",
      "\"Unable to open object (object 'extracted_forces' doesn't exist)\"\n",
      "\"Unable to open object (object 'extracted_forces' doesn't exist)\"\n",
      "\"Unable to open object (object 'extracted_forces' doesn't exist)\"\n",
      "\"Unable to open object (object 'extracted_forces' doesn't exist)\"\n",
      "\"Unable to open object (object 'extracted_forces' doesn't exist)\"\n",
      "\"Unable to open object (object 'extracted_forces' doesn't exist)\"\n",
      "\"Unable to open object (object 'extracted_forces' doesn't exist)\"\n",
      "\"Unable to open object (object 'extracted_forces' doesn't exist)\"\n",
      "\"Unable to open object (object 'extracted_forces' doesn't exist)\"\n",
      "\"Unable to open object (object 'extracted_forces' doesn't exist)\"\n",
      "\"Unable to open object (object 'extracted_forces' doesn't exist)\"\n",
      "\"Unable to open object (object 'extracted_forces' doesn't exist)\"\n",
      "\"Unable to open object (object 'extracted_forces' doesn't exist)\"\n",
      "\"Unable to open object (object 'extracted_forces' doesn't exist)\"\n",
      "\"Unable to open object (object 'extracted_forces' doesn't exist)\"\n",
      "\"Unable to open object (object 'extracted_forces' doesn't exist)\"\n",
      "\"Unable to open object (object 'extracted_forces' doesn't exist)\"\n",
      "\"Unable to open object (object 'extracted_forces' doesn't exist)\"\n",
      "\"Unable to open object (object 'extracted_forces' doesn't exist)\"\n",
      "\"Unable to open object (object 'extracted_forces' doesn't exist)\"\n",
      "\"Unable to open object (object 'extracted_forces' doesn't exist)\"\n",
      "\"Unable to open object (object 'extracted_forces' doesn't exist)\"\n",
      "\"Unable to open object (object 'extracted_forces' doesn't exist)\"\n",
      "\"Unable to open object (object 'extracted_forces' doesn't exist)\"\n",
      "\"Unable to open object (object 'extracted_forces' doesn't exist)\"\n",
      "\"Unable to open object (object 'extracted_forces' doesn't exist)\"\n",
      "\"Unable to open object (object 'extracted_forces' doesn't exist)\"\n",
      "\"Unable to open object (object 'extracted_forces' doesn't exist)\"\n",
      "\"Unable to open object (object 'extracted_forces' doesn't exist)\"\n",
      "\"Unable to open object (object 'extracted_forces' doesn't exist)\"\n",
      "\"Unable to open object (object 'extracted_forces' doesn't exist)\"\n",
      "\"Unable to open object (object 'extracted_forces' doesn't exist)\"\n",
      "\"Unable to open object (object 'extracted_forces' doesn't exist)\"\n",
      "\"Unable to open object (object 'extracted_forces' doesn't exist)\"\n",
      "\"Unable to open object (object 'extracted_forces' doesn't exist)\"\n",
      "\"Unable to open object (object 'extracted_forces' doesn't exist)\"\n",
      "\"Unable to open object (object 'extracted_forces' doesn't exist)\"\n",
      "\"Unable to open object (object 'extracted_forces' doesn't exist)\"\n",
      "\"Unable to open object (object 'extracted_forces' doesn't exist)\"\n",
      "\"Unable to open object (object 'extracted_forces' doesn't exist)\"\n",
      "\"Unable to open object (object 'extracted_forces' doesn't exist)\"\n",
      "\"Unable to open object (object 'extracted_forces' doesn't exist)\"\n",
      "\"Unable to open object (object 'extracted_forces' doesn't exist)\"\n",
      "\"Unable to open object (object 'extracted_forces' doesn't exist)\"\n",
      "\"Unable to open object (object 'extracted_forces' doesn't exist)\"\n",
      "\"Unable to open object (object 'extracted_forces' doesn't exist)\"\n",
      "\"Unable to open object (object 'extracted_forces' doesn't exist)\"\n",
      "\"Unable to open object (object 'extracted_forces' doesn't exist)\"\n",
      "\"Unable to open object (object 'extracted_forces' doesn't exist)\"\n",
      "\"Unable to open object (object 'extracted_forces' doesn't exist)\"\n",
      "\"Unable to open object (object 'extracted_forces' doesn't exist)\"\n",
      "\"Unable to open object (object 'extracted_forces' doesn't exist)\"\n",
      "\"Unable to open object (object 'extracted_forces' doesn't exist)\"\n",
      "\"Unable to open object (object 'extracted_forces' doesn't exist)\"\n",
      "\"Unable to open object (object 'extracted_forces' doesn't exist)\"\n",
      "\"Unable to open object (object 'extracted_forces' doesn't exist)\"\n",
      "\"Unable to open object (object 'extracted_forces' doesn't exist)\"\n",
      "\"Unable to open object (object 'extracted_forces' doesn't exist)\"\n",
      "\"Unable to open object (object 'extracted_forces' doesn't exist)\"\n",
      "\"Unable to open object (object 'extracted_forces' doesn't exist)\"\n",
      "\"Unable to open object (object 'extracted_forces' doesn't exist)\"\n",
      "\"Unable to open object (object 'extracted_forces' doesn't exist)\"\n",
      "\"Unable to open object (object 'extracted_forces' doesn't exist)\"\n",
      "\"Unable to open object (object 'extracted_forces' doesn't exist)\"\n",
      "\"Unable to open object (object 'extracted_forces' doesn't exist)\"\n",
      "\"Unable to open object (object 'extracted_forces' doesn't exist)\"\n",
      "\"Unable to open object (object 'extracted_forces' doesn't exist)\"\n",
      "\"Unable to open object (object 'extracted_forces' doesn't exist)\"\n",
      "\"Unable to open object (object 'extracted_forces' doesn't exist)\"\n",
      "\"Unable to open object (object 'extracted_forces' doesn't exist)\"\n",
      "\"Unable to open object (object 'extracted_forces' doesn't exist)\"\n",
      "\"Unable to open object (object 'extracted_forces' doesn't exist)\"\n",
      "\"Unable to open object (object 'extracted_forces' doesn't exist)\"\n",
      "\"Unable to open object (object 'extracted_forces' doesn't exist)\"\n",
      "\"Unable to open object (object 'extracted_forces' doesn't exist)\"\n",
      "\"Unable to open object (object 'extracted_forces' doesn't exist)\"\n",
      "\"Unable to open object (object 'extracted_forces' doesn't exist)\"\n",
      "\"Unable to open object (object 'extracted_forces' doesn't exist)\"\n",
      "\"Unable to open object (object 'extracted_forces' doesn't exist)\"\n",
      "\"Unable to open object (object 'extracted_forces' doesn't exist)\"\n",
      "\"Unable to open object (object 'extracted_forces' doesn't exist)\"\n",
      "\"Unable to open object (object 'extracted_forces' doesn't exist)\"\n",
      "\"Unable to open object (object 'extracted_forces' doesn't exist)\"\n",
      "\"Unable to open object (object 'extracted_forces' doesn't exist)\"\n",
      "Bad Conformer Id\n",
      "\"Unable to open object (object 'extracted_forces' doesn't exist)\"\n",
      "\"Unable to open object (object 'extracted_forces' doesn't exist)\"\n",
      "\"Unable to open object (object 'extracted_forces' doesn't exist)\"\n",
      "\"Unable to open object (object 'extracted_forces' doesn't exist)\"\n",
      "\"Unable to open object (object 'extracted_forces' doesn't exist)\"\n",
      "\"Unable to open object (object 'extracted_forces' doesn't exist)\"\n",
      "\"Unable to open object (object 'extracted_forces' doesn't exist)\"\n",
      "\"Unable to open object (object 'extracted_forces' doesn't exist)\"\n",
      "\"Unable to open object (object 'extracted_forces' doesn't exist)\"\n",
      "\"Unable to open object (object 'extracted_forces' doesn't exist)\"\n",
      "\"Unable to open object (object 'extracted_forces' doesn't exist)\"\n",
      "\"Unable to open object (object 'extracted_forces' doesn't exist)\"\n",
      "\"Unable to open object (object 'extracted_forces' doesn't exist)\"\n",
      "\"Unable to open object (object 'extracted_forces' doesn't exist)\"\n",
      "\"Unable to open object (object 'extracted_forces' doesn't exist)\"\n",
      "\"Unable to open object (object 'extracted_forces' doesn't exist)\"\n",
      "\"Unable to open object (object 'extracted_forces' doesn't exist)\"\n",
      "\"Unable to open object (object 'extracted_forces' doesn't exist)\"\n",
      "\"Unable to open object (object 'extracted_forces' doesn't exist)\"\n",
      "\"Unable to open object (object 'extracted_forces' doesn't exist)\"\n",
      "\"Unable to open object (object 'extracted_forces' doesn't exist)\"\n",
      "\"Unable to open object (object 'extracted_forces' doesn't exist)\"\n",
      "\"Unable to open object (object 'extracted_forces' doesn't exist)\"\n",
      "\"Unable to open object (object 'extracted_forces' doesn't exist)\"\n",
      "\"Unable to open object (object 'extracted_forces' doesn't exist)\"\n",
      "\"Unable to open object (object 'extracted_forces' doesn't exist)\"\n",
      "\"Unable to open object (object 'extracted_forces' doesn't exist)\"\n",
      "\"Unable to open object (object 'extracted_forces' doesn't exist)\"\n",
      "\"Unable to open object (object 'extracted_forces' doesn't exist)\"\n",
      "\"Unable to open object (object 'extracted_forces' doesn't exist)\"\n",
      "\"Unable to open object (object 'extracted_forces' doesn't exist)\"\n",
      "\"Unable to open object (object 'extracted_forces' doesn't exist)\"\n",
      "\"Unable to open object (object 'extracted_forces' doesn't exist)\"\n",
      "\"Unable to open object (object 'extracted_forces' doesn't exist)\"\n",
      "\"Unable to open object (object 'extracted_forces' doesn't exist)\"\n",
      "\"Unable to open object (object 'extracted_forces' doesn't exist)\"\n",
      "\"Unable to open object (object 'extracted_forces' doesn't exist)\"\n",
      "\"Unable to open object (object 'extracted_forces' doesn't exist)\"\n",
      "\"Unable to open object (object 'extracted_forces' doesn't exist)\"\n",
      "\"Unable to open object (object 'extracted_forces' doesn't exist)\"\n",
      "\"Unable to open object (object 'extracted_forces' doesn't exist)\"\n",
      "\"Unable to open object (object 'extracted_forces' doesn't exist)\"\n",
      "\"Unable to open object (object 'extracted_forces' doesn't exist)\"\n",
      "\"Unable to open object (object 'extracted_forces' doesn't exist)\"\n",
      "\"Unable to open object (object 'extracted_forces' doesn't exist)\"\n",
      "\"Unable to open object (object 'extracted_forces' doesn't exist)\"\n",
      "\"Unable to open object (object 'extracted_forces' doesn't exist)\"\n",
      "\"Unable to open object (object 'extracted_forces' doesn't exist)\"\n",
      "\"Unable to open object (object 'extracted_forces' doesn't exist)\"\n",
      "\"Unable to open object (object 'extracted_forces' doesn't exist)\"\n",
      "\"Unable to open object (object 'extracted_forces' doesn't exist)\"\n",
      "\"Unable to open object (object 'extracted_forces' doesn't exist)\"\n",
      "\"Unable to open object (object 'extracted_forces' doesn't exist)\"\n",
      "\"Unable to open object (object 'extracted_forces' doesn't exist)\"\n",
      "\"Unable to open object (object 'extracted_forces' doesn't exist)\"\n",
      "\"Unable to open object (object 'extracted_forces' doesn't exist)\"\n",
      "\"Unable to open object (object 'extracted_forces' doesn't exist)\"\n",
      "\"Unable to open object (object 'extracted_forces' doesn't exist)\"\n",
      "\"Unable to open object (object 'extracted_forces' doesn't exist)\"\n",
      "\"Unable to open object (object 'extracted_forces' doesn't exist)\"\n",
      "\"Unable to open object (object 'extracted_forces' doesn't exist)\"\n",
      "\"Unable to open object (object 'extracted_forces' doesn't exist)\"\n",
      "\"Unable to open object (object 'extracted_forces' doesn't exist)\"\n",
      "\"Unable to open object (object 'extracted_forces' doesn't exist)\"\n",
      "\"Unable to open object (object 'extracted_forces' doesn't exist)\"\n",
      "\"Unable to open object (object 'extracted_forces' doesn't exist)\"\n",
      "\"Unable to open object (object 'extracted_forces' doesn't exist)\"\n",
      "\"Unable to open object (object 'extracted_forces' doesn't exist)\"\n",
      "\"Unable to open object (object 'extracted_forces' doesn't exist)\"\n",
      "\"Unable to open object (object 'extracted_forces' doesn't exist)\"\n",
      "\"Unable to open object (object 'extracted_forces' doesn't exist)\"\n",
      "\"Unable to open object (object 'extracted_forces' doesn't exist)\"\n",
      "\"Unable to open object (object 'extracted_forces' doesn't exist)\"\n",
      "\"Unable to open object (object 'extracted_forces' doesn't exist)\"\n",
      "\"Unable to open object (object 'extracted_forces' doesn't exist)\"\n",
      "\"Unable to open object (object 'extracted_forces' doesn't exist)\"\n",
      "\"Unable to open object (object 'extracted_forces' doesn't exist)\"\n",
      "\"Unable to open object (object 'extracted_forces' doesn't exist)\"\n",
      "\"Unable to open object (object 'extracted_forces' doesn't exist)\"\n",
      "\"Unable to open object (object 'extracted_forces' doesn't exist)\"\n",
      "\"Unable to open object (object 'extracted_forces' doesn't exist)\"\n",
      "\"Unable to open object (object 'extracted_forces' doesn't exist)\"\n",
      "\"Unable to open object (object 'extracted_forces' doesn't exist)\"\n",
      "\"Unable to open object (object 'extracted_forces' doesn't exist)\"\n",
      "\"Unable to open object (object 'extracted_forces' doesn't exist)\"\n",
      "\"Unable to open object (object 'extracted_forces' doesn't exist)\"\n",
      "\"Unable to open object (object 'extracted_forces' doesn't exist)\"\n",
      "\"Unable to open object (object 'extracted_forces' doesn't exist)\"\n",
      "\"Unable to open object (object 'extracted_forces' doesn't exist)\"\n",
      "\"Unable to open object (object 'extracted_forces' doesn't exist)\"\n",
      "\"Unable to open object (object 'extracted_forces' doesn't exist)\"\n",
      "\"Unable to open object (object 'extracted_forces' doesn't exist)\"\n",
      "\"Unable to open object (object 'extracted_forces' doesn't exist)\"\n",
      "\"Unable to open object (object 'extracted_forces' doesn't exist)\"\n",
      "\"Unable to open object (object 'extracted_forces' doesn't exist)\"\n",
      "\"Unable to open object (object 'extracted_forces' doesn't exist)\"\n",
      "\"Unable to open object (object 'extracted_forces' doesn't exist)\"\n",
      "\"Unable to open object (object 'extracted_forces' doesn't exist)\"\n",
      "\"Unable to open object (object 'extracted_forces' doesn't exist)\"\n",
      "\"Unable to open object (object 'extracted_forces' doesn't exist)\"\n",
      "\"Unable to open object (object 'extracted_forces' doesn't exist)\"\n",
      "\"Unable to open object (object 'extracted_forces' doesn't exist)\"\n",
      "\"Unable to open object (object 'extracted_forces' doesn't exist)\"\n",
      "\"Unable to open object (object 'extracted_forces' doesn't exist)\"\n",
      "\"Unable to open object (object 'extracted_forces' doesn't exist)\"\n",
      "\"Unable to open object (object 'extracted_forces' doesn't exist)\"\n",
      "\"Unable to open object (object 'extracted_forces' doesn't exist)\"\n",
      "\"Unable to open object (object 'extracted_forces' doesn't exist)\"\n",
      "\"Unable to open object (object 'extracted_forces' doesn't exist)\"\n",
      "\"Unable to open object (object 'extracted_forces' doesn't exist)\"\n",
      "\"Unable to open object (object 'extracted_forces' doesn't exist)\"\n",
      "\"Unable to open object (object 'extracted_forces' doesn't exist)\"\n",
      "\"Unable to open object (object 'extracted_forces' doesn't exist)\"\n",
      "\"Unable to open object (object 'extracted_forces' doesn't exist)\"\n",
      "\"Unable to open object (object 'extracted_forces' doesn't exist)\"\n",
      "\"Unable to open object (object 'extracted_forces' doesn't exist)\"\n",
      "\"Unable to open object (object 'extracted_forces' doesn't exist)\"\n",
      "\"Unable to open object (object 'extracted_forces' doesn't exist)\"\n",
      "\"Unable to open object (object 'extracted_forces' doesn't exist)\"\n",
      "\"Unable to open object (object 'extracted_forces' doesn't exist)\"\n",
      "\"Unable to open object (object 'extracted_forces' doesn't exist)\"\n",
      "\"Unable to open object (object 'extracted_forces' doesn't exist)\"\n",
      "\"Unable to open object (object 'extracted_forces' doesn't exist)\"\n",
      "\"Unable to open object (object 'extracted_forces' doesn't exist)\"\n",
      "\"Unable to open object (object 'extracted_forces' doesn't exist)\"\n",
      "\"Unable to open object (object 'extracted_forces' doesn't exist)\"\n",
      "\"Unable to open object (object 'extracted_forces' doesn't exist)\"\n",
      "\"Unable to open object (object 'extracted_forces' doesn't exist)\"\n",
      "\"Unable to open object (object 'extracted_forces' doesn't exist)\"\n",
      "\"Unable to open object (object 'extracted_forces' doesn't exist)\"\n",
      "\"Unable to open object (object 'extracted_forces' doesn't exist)\"\n",
      "\"Unable to open object (object 'extracted_forces' doesn't exist)\"\n",
      "\"Unable to open object (object 'extracted_forces' doesn't exist)\"\n",
      "\"Unable to open object (object 'extracted_forces' doesn't exist)\"\n",
      "\"Unable to open object (object 'extracted_forces' doesn't exist)\"\n",
      "\"Unable to open object (object 'extracted_forces' doesn't exist)\"\n",
      "\"Unable to open object (object 'extracted_forces' doesn't exist)\"\n",
      "\"Unable to open object (object 'extracted_forces' doesn't exist)\"\n",
      "\"Unable to open object (object 'extracted_forces' doesn't exist)\"\n",
      "\"Unable to open object (object 'extracted_forces' doesn't exist)\"\n",
      "\"Unable to open object (object 'extracted_forces' doesn't exist)\"\n",
      "\"Unable to open object (object 'extracted_forces' doesn't exist)\"\n",
      "\"Unable to open object (object 'extracted_forces' doesn't exist)\"\n",
      "\"Unable to open object (object 'extracted_forces' doesn't exist)\"\n",
      "\"Unable to open object (object 'extracted_forces' doesn't exist)\"\n",
      "\"Unable to open object (object 'extracted_forces' doesn't exist)\"\n",
      "\"Unable to open object (object 'extracted_forces' doesn't exist)\"\n",
      "\"Unable to open object (object 'extracted_forces' doesn't exist)\"\n",
      "\"Unable to open object (object 'extracted_forces' doesn't exist)\"\n",
      "\"Unable to open object (object 'extracted_forces' doesn't exist)\"\n",
      "\"Unable to open object (object 'extracted_forces' doesn't exist)\"\n",
      "\"Unable to open object (object 'extracted_forces' doesn't exist)\"\n",
      "\"Unable to open object (object 'extracted_forces' doesn't exist)\"\n",
      "\"Unable to open object (object 'extracted_forces' doesn't exist)\"\n",
      "\"Unable to open object (object 'extracted_forces' doesn't exist)\"\n",
      "\"Unable to open object (object 'extracted_forces' doesn't exist)\"\n",
      "\"Unable to open object (object 'extracted_forces' doesn't exist)\"\n",
      "\"Unable to open object (object 'extracted_forces' doesn't exist)\"\n",
      "\"Unable to open object (object 'extracted_forces' doesn't exist)\"\n",
      "\"Unable to open object (object 'extracted_forces' doesn't exist)\"\n",
      "\"Unable to open object (object 'extracted_forces' doesn't exist)\"\n",
      "\"Unable to open object (object 'extracted_forces' doesn't exist)\"\n",
      "\"Unable to open object (object 'extracted_forces' doesn't exist)\"\n",
      "\"Unable to open object (object 'extracted_forces' doesn't exist)\"\n",
      "\"Unable to open object (object 'extracted_forces' doesn't exist)\"\n",
      "\"Unable to open object (object 'extracted_forces' doesn't exist)\"\n",
      "\"Unable to open object (object 'extracted_forces' doesn't exist)\"\n",
      "\"Unable to open object (object 'extracted_forces' doesn't exist)\"\n",
      "\"Unable to open object (object 'extracted_forces' doesn't exist)\"\n",
      "\"Unable to open object (object 'extracted_forces' doesn't exist)\"\n",
      "\"Unable to open object (object 'extracted_forces' doesn't exist)\"\n",
      "\"Unable to open object (object 'extracted_forces' doesn't exist)\"\n",
      "\"Unable to open object (object 'extracted_forces' doesn't exist)\"\n",
      "\"Unable to open object (object 'extracted_forces' doesn't exist)\"\n",
      "\"Unable to open object (object 'extracted_forces' doesn't exist)\"\n",
      "\"Unable to open object (object 'extracted_forces' doesn't exist)\"\n",
      "\"Unable to open object (object 'extracted_forces' doesn't exist)\"\n",
      "\"Unable to open object (object 'extracted_forces' doesn't exist)\"\n",
      "\"Unable to open object (object 'extracted_forces' doesn't exist)\"\n",
      "\"Unable to open object (object 'extracted_forces' doesn't exist)\"\n",
      "\"Unable to open object (object 'extracted_forces' doesn't exist)\"\n",
      "\"Unable to open object (object 'extracted_forces' doesn't exist)\"\n",
      "\"Unable to open object (object 'extracted_forces' doesn't exist)\"\n",
      "\"Unable to open object (object 'extracted_forces' doesn't exist)\"\n",
      "\"Unable to open object (object 'extracted_forces' doesn't exist)\"\n",
      "\"Unable to open object (object 'extracted_forces' doesn't exist)\"\n",
      "\"Unable to open object (object 'extracted_forces' doesn't exist)\"\n",
      "\"Unable to open object (object 'extracted_forces' doesn't exist)\"\n",
      "\"Unable to open object (object 'extracted_forces' doesn't exist)\"\n",
      "\"Unable to open object (object 'extracted_forces' doesn't exist)\"\n",
      "\"Unable to open object (object 'extracted_forces' doesn't exist)\"\n",
      "\"Unable to open object (object 'extracted_forces' doesn't exist)\"\n",
      "\"Unable to open object (object 'extracted_forces' doesn't exist)\"\n",
      "\"Unable to open object (object 'extracted_forces' doesn't exist)\"\n",
      "\"Unable to open object (object 'extracted_forces' doesn't exist)\"\n",
      "\"Unable to open object (object 'extracted_forces' doesn't exist)\"\n",
      "\"Unable to open object (object 'extracted_forces' doesn't exist)\"\n",
      "\"Unable to open object (object 'extracted_forces' doesn't exist)\"\n",
      "\"Unable to open object (object 'extracted_forces' doesn't exist)\"\n",
      "\"Unable to open object (object 'extracted_forces' doesn't exist)\"\n",
      "\"Unable to open object (object 'extracted_forces' doesn't exist)\"\n",
      "\"Unable to open object (object 'extracted_forces' doesn't exist)\"\n",
      "\"Unable to open object (object 'extracted_forces' doesn't exist)\"\n",
      "\"Unable to open object (object 'extracted_forces' doesn't exist)\"\n",
      "\"Unable to open object (object 'extracted_forces' doesn't exist)\"\n",
      "\"Unable to open object (object 'extracted_forces' doesn't exist)\"\n",
      "\"Unable to open object (object 'extracted_forces' doesn't exist)\"\n",
      "\"Unable to open object (object 'extracted_forces' doesn't exist)\"\n",
      "\"Unable to open object (object 'extracted_forces' doesn't exist)\"\n",
      "\"Unable to open object (object 'extracted_forces' doesn't exist)\"\n",
      "\"Unable to open object (object 'extracted_forces' doesn't exist)\"\n",
      "\"Unable to open object (object 'extracted_forces' doesn't exist)\"\n",
      "\"Unable to open object (object 'extracted_forces' doesn't exist)\"\n",
      "\"Unable to open object (object 'extracted_forces' doesn't exist)\"\n",
      "\"Unable to open object (object 'extracted_forces' doesn't exist)\"\n",
      "\"Unable to open object (object 'extracted_forces' doesn't exist)\"\n",
      "\"Unable to open object (object 'extracted_forces' doesn't exist)\"\n",
      "\"Unable to open object (object 'extracted_forces' doesn't exist)\"\n",
      "\"Unable to open object (object 'extracted_forces' doesn't exist)\"\n",
      "\"Unable to open object (object 'extracted_forces' doesn't exist)\"\n",
      "\"Unable to open object (object 'extracted_forces' doesn't exist)\"\n",
      "\"Unable to open object (object 'extracted_forces' doesn't exist)\"\n",
      "\"Unable to open object (object 'extracted_forces' doesn't exist)\"\n",
      "\"Unable to open object (object 'extracted_forces' doesn't exist)\"\n",
      "\"Unable to open object (object 'extracted_forces' doesn't exist)\"\n",
      "\"Unable to open object (object 'extracted_forces' doesn't exist)\"\n",
      "\"Unable to open object (object 'extracted_forces' doesn't exist)\"\n",
      "\"Unable to open object (object 'extracted_forces' doesn't exist)\"\n",
      "\"Unable to open object (object 'extracted_forces' doesn't exist)\"\n",
      "\"Unable to open object (object 'extracted_forces' doesn't exist)\"\n",
      "\"Unable to open object (object 'extracted_forces' doesn't exist)\"\n",
      "\"Unable to open object (object 'extracted_forces' doesn't exist)\"\n",
      "\"Unable to open object (object 'extracted_forces' doesn't exist)\"\n",
      "\"Unable to open object (object 'extracted_forces' doesn't exist)\"\n",
      "\"Unable to open object (object 'extracted_forces' doesn't exist)\"\n",
      "\"Unable to open object (object 'extracted_forces' doesn't exist)\"\n",
      "\"Unable to open object (object 'extracted_forces' doesn't exist)\"\n",
      "\"Unable to open object (object 'extracted_forces' doesn't exist)\"\n",
      "\"Unable to open object (object 'extracted_forces' doesn't exist)\"\n",
      "\"Unable to open object (object 'extracted_forces' doesn't exist)\"\n",
      "\"Unable to open object (object 'extracted_forces' doesn't exist)\"\n",
      "\"Unable to open object (object 'extracted_forces' doesn't exist)\"\n",
      "\"Unable to open object (object 'extracted_forces' doesn't exist)\"\n",
      "\"Unable to open object (object 'extracted_forces' doesn't exist)\"\n",
      "\"Unable to open object (object 'extracted_forces' doesn't exist)\"\n",
      "\"Unable to open object (object 'extracted_forces' doesn't exist)\"\n",
      "\"Unable to open object (object 'extracted_forces' doesn't exist)\"\n",
      "\"Unable to open object (object 'extracted_forces' doesn't exist)\"\n",
      "\"Unable to open object (object 'extracted_forces' doesn't exist)\"\n",
      "\"Unable to open object (object 'extracted_forces' doesn't exist)\"\n",
      "\"Unable to open object (object 'extracted_forces' doesn't exist)\"\n",
      "\"Unable to open object (object 'extracted_forces' doesn't exist)\"\n",
      "\"Unable to open object (object 'extracted_forces' doesn't exist)\"\n",
      "\"Unable to open object (object 'extracted_forces' doesn't exist)\"\n",
      "\"Unable to open object (object 'extracted_forces' doesn't exist)\"\n",
      "\"Unable to open object (object 'extracted_forces' doesn't exist)\"\n",
      "\"Unable to open object (object 'extracted_forces' doesn't exist)\"\n",
      "\"Unable to open object (object 'extracted_forces' doesn't exist)\"\n",
      "\"Unable to open object (object 'extracted_forces' doesn't exist)\"\n",
      "\"Unable to open object (object 'extracted_forces' doesn't exist)\"\n",
      "\"Unable to open object (object 'extracted_forces' doesn't exist)\"\n",
      "\"Unable to open object (object 'extracted_forces' doesn't exist)\"\n",
      "\"Unable to open object (object 'extracted_forces' doesn't exist)\"\n",
      "\"Unable to open object (object 'extracted_forces' doesn't exist)\"\n",
      "\"Unable to open object (object 'extracted_forces' doesn't exist)\"\n",
      "\"Unable to open object (object 'extracted_forces' doesn't exist)\"\n",
      "\"Unable to open object (object 'extracted_forces' doesn't exist)\"\n",
      "\"Unable to open object (object 'extracted_forces' doesn't exist)\"\n",
      "\"Unable to open object (object 'extracted_forces' doesn't exist)\"\n",
      "\"Unable to open object (object 'extracted_forces' doesn't exist)\"\n",
      "\"Unable to open object (object 'extracted_forces' doesn't exist)\"\n",
      "\"Unable to open object (object 'extracted_forces' doesn't exist)\"\n",
      "\"Unable to open object (object 'extracted_forces' doesn't exist)\"\n",
      "\"Unable to open object (object 'extracted_forces' doesn't exist)\"\n",
      "\"Unable to open object (object 'extracted_forces' doesn't exist)\"\n",
      "\"Unable to open object (object 'extracted_forces' doesn't exist)\"\n",
      "\"Unable to open object (object 'extracted_forces' doesn't exist)\"\n",
      "\"Unable to open object (object 'extracted_forces' doesn't exist)\"\n",
      "\"Unable to open object (object 'extracted_forces' doesn't exist)\"\n",
      "\"Unable to open object (object 'extracted_forces' doesn't exist)\"\n",
      "\"Unable to open object (object 'extracted_forces' doesn't exist)\"\n",
      "\"Unable to open object (object 'extracted_forces' doesn't exist)\"\n",
      "\"Unable to open object (object 'extracted_forces' doesn't exist)\"\n",
      "\"Unable to open object (object 'extracted_forces' doesn't exist)\"\n",
      "\"Unable to open object (object 'extracted_forces' doesn't exist)\"\n",
      "\"Unable to open object (object 'extracted_forces' doesn't exist)\"\n",
      "\"Unable to open object (object 'extracted_forces' doesn't exist)\"\n",
      "\"Unable to open object (object 'extracted_forces' doesn't exist)\"\n",
      "\"Unable to open object (object 'extracted_forces' doesn't exist)\"\n",
      "\"Unable to open object (object 'extracted_forces' doesn't exist)\"\n",
      "\"Unable to open object (object 'extracted_forces' doesn't exist)\"\n",
      "\"Unable to open object (object 'extracted_forces' doesn't exist)\"\n",
      "\"Unable to open object (object 'extracted_forces' doesn't exist)\"\n",
      "\"Unable to open object (object 'extracted_forces' doesn't exist)\"\n",
      "\"Unable to open object (object 'extracted_forces' doesn't exist)\"\n",
      "\"Unable to open object (object 'extracted_forces' doesn't exist)\"\n",
      "\"Unable to open object (object 'extracted_forces' doesn't exist)\"\n",
      "\"Unable to open object (object 'extracted_forces' doesn't exist)\"\n",
      "\"Unable to open object (object 'extracted_forces' doesn't exist)\"\n",
      "\"Unable to open object (object 'extracted_forces' doesn't exist)\"\n",
      "\"Unable to open object (object 'extracted_forces' doesn't exist)\"\n",
      "\"Unable to open object (object 'extracted_forces' doesn't exist)\"\n",
      "\"Unable to open object (object 'extracted_forces' doesn't exist)\"\n",
      "\"Unable to open object (object 'extracted_forces' doesn't exist)\"\n",
      "\"Unable to open object (object 'extracted_forces' doesn't exist)\"\n",
      "\"Unable to open object (object 'extracted_forces' doesn't exist)\"\n",
      "\"Unable to open object (object 'extracted_forces' doesn't exist)\"\n",
      "\"Unable to open object (object 'extracted_forces' doesn't exist)\"\n",
      "\"Unable to open object (object 'extracted_forces' doesn't exist)\"\n",
      "\"Unable to open object (object 'extracted_forces' doesn't exist)\"\n",
      "\"Unable to open object (object 'extracted_forces' doesn't exist)\"\n",
      "\"Unable to open object (object 'extracted_forces' doesn't exist)\"\n",
      "\"Unable to open object (object 'extracted_forces' doesn't exist)\"\n",
      "\"Unable to open object (object 'extracted_forces' doesn't exist)\"\n",
      "\"Unable to open object (object 'extracted_forces' doesn't exist)\"\n",
      "\"Unable to open object (object 'extracted_forces' doesn't exist)\"\n",
      "\"Unable to open object (object 'extracted_forces' doesn't exist)\"\n",
      "\"Unable to open object (object 'extracted_forces' doesn't exist)\"\n",
      "\"Unable to open object (object 'extracted_forces' doesn't exist)\"\n",
      "\"Unable to open object (object 'extracted_forces' doesn't exist)\"\n",
      "\"Unable to open object (object 'extracted_forces' doesn't exist)\"\n",
      "\"Unable to open object (object 'extracted_forces' doesn't exist)\"\n",
      "\"Unable to open object (object 'extracted_forces' doesn't exist)\"\n",
      "\"Unable to open object (object 'extracted_forces' doesn't exist)\"\n",
      "\"Unable to open object (object 'extracted_forces' doesn't exist)\"\n",
      "\"Unable to open object (object 'extracted_forces' doesn't exist)\"\n",
      "\"Unable to open object (object 'extracted_forces' doesn't exist)\"\n",
      "\"Unable to open object (object 'extracted_forces' doesn't exist)\"\n",
      "\"Unable to open object (object 'extracted_forces' doesn't exist)\"\n",
      "\"Unable to open object (object 'extracted_forces' doesn't exist)\"\n",
      "\"Unable to open object (object 'extracted_forces' doesn't exist)\"\n",
      "\"Unable to open object (object 'extracted_forces' doesn't exist)\"\n",
      "\"Unable to open object (object 'extracted_forces' doesn't exist)\"\n",
      "\"Unable to open object (object 'extracted_forces' doesn't exist)\"\n",
      "\"Unable to open object (object 'extracted_forces' doesn't exist)\"\n",
      "\"Unable to open object (object 'extracted_forces' doesn't exist)\"\n",
      "\"Unable to open object (object 'extracted_forces' doesn't exist)\"\n",
      "\"Unable to open object (object 'extracted_forces' doesn't exist)\"\n",
      "\"Unable to open object (object 'extracted_forces' doesn't exist)\"\n",
      "\"Unable to open object (object 'extracted_forces' doesn't exist)\"\n",
      "\"Unable to open object (object 'extracted_forces' doesn't exist)\"\n",
      "\"Unable to open object (object 'extracted_forces' doesn't exist)\"\n",
      "\"Unable to open object (object 'extracted_forces' doesn't exist)\"\n",
      "\"Unable to open object (object 'extracted_forces' doesn't exist)\"\n",
      "\"Unable to open object (object 'extracted_forces' doesn't exist)\"\n",
      "\"Unable to open object (object 'extracted_forces' doesn't exist)\"\n",
      "\"Unable to open object (object 'extracted_forces' doesn't exist)\"\n",
      "\"Unable to open object (object 'extracted_forces' doesn't exist)\"\n",
      "\"Unable to open object (object 'extracted_forces' doesn't exist)\"\n",
      "\"Unable to open object (object 'extracted_forces' doesn't exist)\"\n",
      "\"Unable to open object (object 'extracted_forces' doesn't exist)\"\n",
      "\"Unable to open object (object 'extracted_forces' doesn't exist)\"\n",
      "\"Unable to open object (object 'extracted_forces' doesn't exist)\"\n",
      "\"Unable to open object (object 'extracted_forces' doesn't exist)\"\n",
      "\"Unable to open object (object 'extracted_forces' doesn't exist)\"\n",
      "\"Unable to open object (object 'extracted_forces' doesn't exist)\"\n",
      "\"Unable to open object (object 'extracted_forces' doesn't exist)\"\n",
      "\"Unable to open object (object 'extracted_forces' doesn't exist)\"\n",
      "\"Unable to open object (object 'extracted_forces' doesn't exist)\"\n",
      "\"Unable to open object (object 'extracted_forces' doesn't exist)\"\n",
      "\"Unable to open object (object 'extracted_forces' doesn't exist)\"\n",
      "\"Unable to open object (object 'extracted_forces' doesn't exist)\"\n",
      "\"Unable to open object (object 'extracted_forces' doesn't exist)\"\n",
      "\"Unable to open object (object 'extracted_forces' doesn't exist)\"\n",
      "\"Unable to open object (object 'extracted_forces' doesn't exist)\"\n",
      "\"Unable to open object (object 'extracted_forces' doesn't exist)\"\n",
      "\"Unable to open object (object 'extracted_forces' doesn't exist)\"\n",
      "\"Unable to open object (object 'extracted_forces' doesn't exist)\"\n",
      "\"Unable to open object (object 'extracted_forces' doesn't exist)\"\n",
      "\"Unable to open object (object 'extracted_forces' doesn't exist)\"\n",
      "\"Unable to open object (object 'extracted_forces' doesn't exist)\"\n",
      "\"Unable to open object (object 'extracted_forces' doesn't exist)\"\n",
      "\"Unable to open object (object 'extracted_forces' doesn't exist)\"\n",
      "\"Unable to open object (object 'extracted_forces' doesn't exist)\"\n",
      "\"Unable to open object (object 'extracted_forces' doesn't exist)\"\n",
      "\"Unable to open object (object 'extracted_forces' doesn't exist)\"\n",
      "\"Unable to open object (object 'extracted_forces' doesn't exist)\"\n",
      "\"Unable to open object (object 'extracted_forces' doesn't exist)\"\n",
      "\"Unable to open object (object 'extracted_forces' doesn't exist)\"\n",
      "\"Unable to open object (object 'extracted_forces' doesn't exist)\"\n",
      "\"Unable to open object (object 'extracted_forces' doesn't exist)\"\n",
      "\"Unable to open object (object 'extracted_forces' doesn't exist)\"\n",
      "\"Unable to open object (object 'extracted_forces' doesn't exist)\"\n",
      "\"Unable to open object (object 'extracted_forces' doesn't exist)\"\n",
      "\"Unable to open object (object 'extracted_forces' doesn't exist)\"\n",
      "\"Unable to open object (object 'extracted_forces' doesn't exist)\"\n",
      "\"Unable to open object (object 'extracted_forces' doesn't exist)\"\n",
      "\"Unable to open object (object 'extracted_forces' doesn't exist)\"\n",
      "\"Unable to open object (object 'extracted_forces' doesn't exist)\"\n",
      "\"Unable to open object (object 'extracted_forces' doesn't exist)\"\n",
      "\"Unable to open object (object 'extracted_forces' doesn't exist)\"\n",
      "\"Unable to open object (object 'extracted_forces' doesn't exist)\"\n",
      "\"Unable to open object (object 'extracted_forces' doesn't exist)\"\n",
      "\"Unable to open object (object 'extracted_forces' doesn't exist)\"\n",
      "\"Unable to open object (object 'extracted_forces' doesn't exist)\"\n",
      "\"Unable to open object (object 'extracted_forces' doesn't exist)\"\n",
      "\"Unable to open object (object 'extracted_forces' doesn't exist)\"\n",
      "\"Unable to open object (object 'extracted_forces' doesn't exist)\"\n",
      "\"Unable to open object (object 'extracted_forces' doesn't exist)\"\n",
      "\"Unable to open object (object 'extracted_forces' doesn't exist)\"\n",
      "\"Unable to open object (object 'extracted_forces' doesn't exist)\"\n",
      "\"Unable to open object (object 'extracted_forces' doesn't exist)\"\n",
      "\"Unable to open object (object 'extracted_forces' doesn't exist)\"\n",
      "\"Unable to open object (object 'extracted_forces' doesn't exist)\"\n",
      "\"Unable to open object (object 'extracted_forces' doesn't exist)\"\n",
      "\"Unable to open object (object 'extracted_forces' doesn't exist)\"\n",
      "\"Unable to open object (object 'extracted_forces' doesn't exist)\"\n",
      "\"Unable to open object (object 'extracted_forces' doesn't exist)\"\n",
      "\"Unable to open object (object 'extracted_forces' doesn't exist)\"\n",
      "\"Unable to open object (object 'extracted_forces' doesn't exist)\"\n",
      "\"Unable to open object (object 'extracted_forces' doesn't exist)\"\n",
      "\"Unable to open object (object 'extracted_forces' doesn't exist)\"\n",
      "\"Unable to open object (object 'extracted_forces' doesn't exist)\"\n",
      "Bad Conformer Id\n",
      "\"Unable to open object (object 'extracted_forces' doesn't exist)\"\n",
      "\"Unable to open object (object 'extracted_forces' doesn't exist)\"\n",
      "\"Unable to open object (object 'extracted_forces' doesn't exist)\"\n",
      "\"Unable to open object (object 'extracted_forces' doesn't exist)\"\n",
      "\"Unable to open object (object 'extracted_forces' doesn't exist)\"\n",
      "\"Unable to open object (object 'extracted_forces' doesn't exist)\"\n",
      "\"Unable to open object (object 'extracted_forces' doesn't exist)\"\n",
      "\"Unable to open object (object 'extracted_forces' doesn't exist)\"\n",
      "\"Unable to open object (object 'extracted_forces' doesn't exist)\"\n",
      "\"Unable to open object (object 'extracted_forces' doesn't exist)\"\n",
      "\"Unable to open object (object 'extracted_forces' doesn't exist)\"\n",
      "\"Unable to open object (object 'extracted_forces' doesn't exist)\"\n",
      "\"Unable to open object (object 'extracted_forces' doesn't exist)\"\n",
      "\"Unable to open object (object 'extracted_forces' doesn't exist)\"\n",
      "\"Unable to open object (object 'extracted_forces' doesn't exist)\"\n",
      "\"Unable to open object (object 'extracted_forces' doesn't exist)\"\n",
      "\"Unable to open object (object 'extracted_forces' doesn't exist)\"\n",
      "\"Unable to open object (object 'extracted_forces' doesn't exist)\"\n",
      "\"Unable to open object (object 'extracted_forces' doesn't exist)\"\n",
      "\"Unable to open object (object 'extracted_forces' doesn't exist)\"\n",
      "\"Unable to open object (object 'extracted_forces' doesn't exist)\"\n",
      "\"Unable to open object (object 'extracted_forces' doesn't exist)\"\n",
      "\"Unable to open object (object 'extracted_forces' doesn't exist)\"\n",
      "\"Unable to open object (object 'extracted_forces' doesn't exist)\"\n",
      "\"Unable to open object (object 'extracted_forces' doesn't exist)\"\n",
      "\"Unable to open object (object 'extracted_forces' doesn't exist)\"\n",
      "\"Unable to open object (object 'extracted_forces' doesn't exist)\"\n",
      "\"Unable to open object (object 'extracted_forces' doesn't exist)\"\n",
      "\"Unable to open object (object 'extracted_forces' doesn't exist)\"\n",
      "\"Unable to open object (object 'extracted_forces' doesn't exist)\"\n",
      "\"Unable to open object (object 'extracted_forces' doesn't exist)\"\n",
      "\"Unable to open object (object 'extracted_forces' doesn't exist)\"\n",
      "\"Unable to open object (object 'extracted_forces' doesn't exist)\"\n",
      "\"Unable to open object (object 'extracted_forces' doesn't exist)\"\n",
      "\"Unable to open object (object 'extracted_forces' doesn't exist)\"\n",
      "\"Unable to open object (object 'extracted_forces' doesn't exist)\"\n",
      "\"Unable to open object (object 'extracted_forces' doesn't exist)\"\n",
      "\"Unable to open object (object 'extracted_forces' doesn't exist)\"\n",
      "\"Unable to open object (object 'extracted_forces' doesn't exist)\"\n",
      "\"Unable to open object (object 'extracted_forces' doesn't exist)\"\n",
      "\"Unable to open object (object 'extracted_forces' doesn't exist)\"\n",
      "\"Unable to open object (object 'extracted_forces' doesn't exist)\"\n",
      "\"Unable to open object (object 'extracted_forces' doesn't exist)\"\n",
      "\"Unable to open object (object 'extracted_forces' doesn't exist)\"\n",
      "\"Unable to open object (object 'extracted_forces' doesn't exist)\"\n",
      "\"Unable to open object (object 'extracted_forces' doesn't exist)\"\n",
      "\"Unable to open object (object 'extracted_forces' doesn't exist)\"\n",
      "\"Unable to open object (object 'extracted_forces' doesn't exist)\"\n",
      "\"Unable to open object (object 'extracted_forces' doesn't exist)\"\n",
      "\"Unable to open object (object 'extracted_forces' doesn't exist)\"\n",
      "\"Unable to open object (object 'extracted_forces' doesn't exist)\"\n",
      "\"Unable to open object (object 'extracted_forces' doesn't exist)\"\n",
      "\"Unable to open object (object 'extracted_forces' doesn't exist)\"\n",
      "\"Unable to open object (object 'extracted_forces' doesn't exist)\"\n",
      "\"Unable to open object (object 'extracted_forces' doesn't exist)\"\n",
      "\"Unable to open object (object 'extracted_forces' doesn't exist)\"\n",
      "\"Unable to open object (object 'extracted_forces' doesn't exist)\"\n",
      "\"Unable to open object (object 'extracted_forces' doesn't exist)\"\n",
      "\"Unable to open object (object 'extracted_forces' doesn't exist)\"\n",
      "\"Unable to open object (object 'extracted_forces' doesn't exist)\"\n",
      "\"Unable to open object (object 'extracted_forces' doesn't exist)\"\n",
      "\"Unable to open object (object 'extracted_forces' doesn't exist)\"\n",
      "\"Unable to open object (object 'extracted_forces' doesn't exist)\"\n",
      "\"Unable to open object (object 'extracted_forces' doesn't exist)\"\n",
      "\"Unable to open object (object 'extracted_forces' doesn't exist)\"\n",
      "\"Unable to open object (object 'extracted_forces' doesn't exist)\"\n",
      "\"Unable to open object (object 'extracted_forces' doesn't exist)\"\n",
      "\"Unable to open object (object 'extracted_forces' doesn't exist)\"\n",
      "\"Unable to open object (object 'extracted_forces' doesn't exist)\"\n",
      "\"Unable to open object (object 'extracted_forces' doesn't exist)\"\n",
      "\"Unable to open object (object 'extracted_forces' doesn't exist)\"\n",
      "\"Unable to open object (object 'extracted_forces' doesn't exist)\"\n",
      "\"Unable to open object (object 'extracted_forces' doesn't exist)\"\n",
      "\"Unable to open object (object 'extracted_forces' doesn't exist)\"\n",
      "\"Unable to open object (object 'extracted_forces' doesn't exist)\"\n",
      "\"Unable to open object (object 'extracted_forces' doesn't exist)\"\n",
      "\"Unable to open object (object 'extracted_forces' doesn't exist)\"\n",
      "\"Unable to open object (object 'extracted_forces' doesn't exist)\"\n",
      "\"Unable to open object (object 'extracted_forces' doesn't exist)\"\n",
      "\"Unable to open object (object 'extracted_forces' doesn't exist)\"\n",
      "\"Unable to open object (object 'extracted_forces' doesn't exist)\"\n",
      "\"Unable to open object (object 'extracted_forces' doesn't exist)\"\n",
      "\"Unable to open object (object 'extracted_forces' doesn't exist)\"\n",
      "\"Unable to open object (object 'extracted_forces' doesn't exist)\"\n",
      "\"Unable to open object (object 'extracted_forces' doesn't exist)\"\n",
      "\"Unable to open object (object 'extracted_forces' doesn't exist)\"\n",
      "\"Unable to open object (object 'extracted_forces' doesn't exist)\"\n",
      "\"Unable to open object (object 'extracted_forces' doesn't exist)\"\n",
      "\"Unable to open object (object 'extracted_forces' doesn't exist)\"\n",
      "\"Unable to open object (object 'extracted_forces' doesn't exist)\"\n",
      "\"Unable to open object (object 'extracted_forces' doesn't exist)\"\n",
      "\"Unable to open object (object 'extracted_forces' doesn't exist)\"\n",
      "\"Unable to open object (object 'extracted_forces' doesn't exist)\"\n",
      "\"Unable to open object (object 'extracted_forces' doesn't exist)\"\n",
      "\"Unable to open object (object 'extracted_forces' doesn't exist)\"\n",
      "\"Unable to open object (object 'extracted_forces' doesn't exist)\"\n",
      "\"Unable to open object (object 'extracted_forces' doesn't exist)\"\n",
      "\"Unable to open object (object 'extracted_forces' doesn't exist)\"\n",
      "\"Unable to open object (object 'extracted_forces' doesn't exist)\"\n",
      "\"Unable to open object (object 'extracted_forces' doesn't exist)\"\n",
      "\"Unable to open object (object 'extracted_forces' doesn't exist)\"\n",
      "\"Unable to open object (object 'extracted_forces' doesn't exist)\"\n",
      "\"Unable to open object (object 'extracted_forces' doesn't exist)\"\n",
      "\"Unable to open object (object 'extracted_forces' doesn't exist)\"\n",
      "\"Unable to open object (object 'extracted_forces' doesn't exist)\"\n",
      "\"Unable to open object (object 'extracted_forces' doesn't exist)\"\n",
      "\"Unable to open object (object 'extracted_forces' doesn't exist)\"\n",
      "\"Unable to open object (object 'extracted_forces' doesn't exist)\"\n",
      "\"Unable to open object (object 'extracted_forces' doesn't exist)\"\n",
      "\"Unable to open object (object 'extracted_forces' doesn't exist)\"\n",
      "\"Unable to open object (object 'extracted_forces' doesn't exist)\"\n",
      "\"Unable to open object (object 'extracted_forces' doesn't exist)\"\n",
      "\"Unable to open object (object 'extracted_forces' doesn't exist)\"\n",
      "\"Unable to open object (object 'extracted_forces' doesn't exist)\"\n",
      "\"Unable to open object (object 'extracted_forces' doesn't exist)\"\n",
      "\"Unable to open object (object 'extracted_forces' doesn't exist)\"\n",
      "\"Unable to open object (object 'extracted_forces' doesn't exist)\"\n",
      "\"Unable to open object (object 'extracted_forces' doesn't exist)\"\n",
      "\"Unable to open object (object 'extracted_forces' doesn't exist)\"\n",
      "\"Unable to open object (object 'extracted_forces' doesn't exist)\"\n",
      "\"Unable to open object (object 'extracted_forces' doesn't exist)\"\n",
      "\"Unable to open object (object 'extracted_forces' doesn't exist)\"\n",
      "\"Unable to open object (object 'extracted_forces' doesn't exist)\"\n",
      "\"Unable to open object (object 'extracted_forces' doesn't exist)\"\n",
      "\"Unable to open object (object 'extracted_forces' doesn't exist)\"\n",
      "\"Unable to open object (object 'extracted_forces' doesn't exist)\"\n",
      "\"Unable to open object (object 'extracted_forces' doesn't exist)\"\n",
      "\"Unable to open object (object 'extracted_forces' doesn't exist)\"\n",
      "\"Unable to open object (object 'extracted_forces' doesn't exist)\"\n",
      "\"Unable to open object (object 'extracted_forces' doesn't exist)\"\n",
      "\"Unable to open object (object 'extracted_forces' doesn't exist)\"\n",
      "\"Unable to open object (object 'extracted_forces' doesn't exist)\"\n",
      "\"Unable to open object (object 'extracted_forces' doesn't exist)\"\n",
      "\"Unable to open object (object 'extracted_forces' doesn't exist)\"\n",
      "\"Unable to open object (object 'extracted_forces' doesn't exist)\"\n",
      "\"Unable to open object (object 'extracted_forces' doesn't exist)\"\n",
      "\"Unable to open object (object 'extracted_forces' doesn't exist)\"\n",
      "\"Unable to open object (object 'extracted_forces' doesn't exist)\"\n",
      "\"Unable to open object (object 'extracted_forces' doesn't exist)\"\n",
      "\"Unable to open object (object 'extracted_forces' doesn't exist)\"\n",
      "\"Unable to open object (object 'extracted_forces' doesn't exist)\"\n",
      "\"Unable to open object (object 'extracted_forces' doesn't exist)\"\n",
      "\"Unable to open object (object 'extracted_forces' doesn't exist)\"\n",
      "\"Unable to open object (object 'extracted_forces' doesn't exist)\"\n",
      "\"Unable to open object (object 'extracted_forces' doesn't exist)\"\n",
      "\"Unable to open object (object 'extracted_forces' doesn't exist)\"\n",
      "\"Unable to open object (object 'extracted_forces' doesn't exist)\"\n",
      "\"Unable to open object (object 'extracted_forces' doesn't exist)\"\n",
      "\"Unable to open object (object 'extracted_forces' doesn't exist)\"\n",
      "\"Unable to open object (object 'extracted_forces' doesn't exist)\"\n",
      "\"Unable to open object (object 'extracted_forces' doesn't exist)\"\n",
      "\"Unable to open object (object 'extracted_forces' doesn't exist)\"\n",
      "\"Unable to open object (object 'extracted_forces' doesn't exist)\"\n",
      "\"Unable to open object (object 'extracted_forces' doesn't exist)\"\n",
      "\"Unable to open object (object 'extracted_forces' doesn't exist)\"\n",
      "\"Unable to open object (object 'extracted_forces' doesn't exist)\"\n",
      "\"Unable to open object (object 'extracted_forces' doesn't exist)\"\n",
      "\"Unable to open object (object 'extracted_forces' doesn't exist)\"\n",
      "\"Unable to open object (object 'extracted_forces' doesn't exist)\"\n",
      "\"Unable to open object (object 'extracted_forces' doesn't exist)\"\n",
      "\"Unable to open object (object 'extracted_forces' doesn't exist)\"\n",
      "\"Unable to open object (object 'extracted_forces' doesn't exist)\"\n",
      "\"Unable to open object (object 'extracted_forces' doesn't exist)\"\n",
      "\"Unable to open object (object 'extracted_forces' doesn't exist)\"\n",
      "\"Unable to open object (object 'extracted_forces' doesn't exist)\"\n",
      "\"Unable to open object (object 'extracted_forces' doesn't exist)\"\n",
      "\"Unable to open object (object 'extracted_forces' doesn't exist)\"\n",
      "\"Unable to open object (object 'extracted_forces' doesn't exist)\"\n",
      "\"Unable to open object (object 'extracted_forces' doesn't exist)\"\n",
      "\"Unable to open object (object 'extracted_forces' doesn't exist)\"\n",
      "\"Unable to open object (object 'extracted_forces' doesn't exist)\"\n",
      "\"Unable to open object (object 'extracted_forces' doesn't exist)\"\n",
      "\"Unable to open object (object 'extracted_forces' doesn't exist)\"\n",
      "\"Unable to open object (object 'extracted_forces' doesn't exist)\"\n",
      "\"Unable to open object (object 'extracted_forces' doesn't exist)\"\n",
      "\"Unable to open object (object 'extracted_forces' doesn't exist)\"\n",
      "\"Unable to open object (object 'extracted_forces' doesn't exist)\"\n",
      "\"Unable to open object (object 'extracted_forces' doesn't exist)\"\n",
      "\"Unable to open object (object 'extracted_forces' doesn't exist)\"\n",
      "\"Unable to open object (object 'extracted_forces' doesn't exist)\"\n",
      "\"Unable to open object (object 'extracted_forces' doesn't exist)\"\n",
      "\"Unable to open object (object 'extracted_forces' doesn't exist)\"\n",
      "\"Unable to open object (object 'extracted_forces' doesn't exist)\"\n",
      "\"Unable to open object (object 'extracted_forces' doesn't exist)\"\n",
      "\"Unable to open object (object 'extracted_forces' doesn't exist)\"\n",
      "\"Unable to open object (object 'extracted_forces' doesn't exist)\"\n",
      "\"Unable to open object (object 'extracted_forces' doesn't exist)\"\n",
      "\"Unable to open object (object 'extracted_forces' doesn't exist)\"\n",
      "\"Unable to open object (object 'extracted_forces' doesn't exist)\"\n",
      "\"Unable to open object (object 'extracted_forces' doesn't exist)\"\n",
      "\"Unable to open object (object 'extracted_forces' doesn't exist)\"\n",
      "\"Unable to open object (object 'extracted_forces' doesn't exist)\"\n",
      "\"Unable to open object (object 'extracted_forces' doesn't exist)\"\n",
      "\"Unable to open object (object 'extracted_forces' doesn't exist)\"\n",
      "\"Unable to open object (object 'extracted_forces' doesn't exist)\"\n",
      "\"Unable to open object (object 'extracted_forces' doesn't exist)\"\n",
      "\"Unable to open object (object 'extracted_forces' doesn't exist)\"\n",
      "\"Unable to open object (object 'extracted_forces' doesn't exist)\"\n",
      "\"Unable to open object (object 'extracted_forces' doesn't exist)\"\n",
      "\"Unable to open object (object 'extracted_forces' doesn't exist)\"\n",
      "\"Unable to open object (object 'extracted_forces' doesn't exist)\"\n",
      "\"Unable to open object (object 'extracted_forces' doesn't exist)\"\n",
      "\"Unable to open object (object 'extracted_forces' doesn't exist)\"\n",
      "\"Unable to open object (object 'extracted_forces' doesn't exist)\"\n",
      "\"Unable to open object (object 'extracted_forces' doesn't exist)\"\n",
      "\"Unable to open object (object 'extracted_forces' doesn't exist)\"\n",
      "\"Unable to open object (object 'extracted_forces' doesn't exist)\"\n",
      "\"Unable to open object (object 'extracted_forces' doesn't exist)\"\n",
      "\"Unable to open object (object 'extracted_forces' doesn't exist)\"\n",
      "\"Unable to open object (object 'extracted_forces' doesn't exist)\"\n",
      "\"Unable to open object (object 'extracted_forces' doesn't exist)\"\n",
      "\"Unable to open object (object 'extracted_forces' doesn't exist)\"\n",
      "\"Unable to open object (object 'extracted_forces' doesn't exist)\"\n",
      "\"Unable to open object (object 'extracted_forces' doesn't exist)\"\n",
      "\"Unable to open object (object 'extracted_forces' doesn't exist)\"\n",
      "\"Unable to open object (object 'extracted_forces' doesn't exist)\"\n",
      "\"Unable to open object (object 'extracted_forces' doesn't exist)\"\n",
      "\"Unable to open object (object 'extracted_forces' doesn't exist)\"\n",
      "\"Unable to open object (object 'extracted_forces' doesn't exist)\"\n",
      "\"Unable to open object (object 'extracted_forces' doesn't exist)\"\n",
      "\"Unable to open object (object 'extracted_forces' doesn't exist)\"\n",
      "\"Unable to open object (object 'extracted_forces' doesn't exist)\"\n",
      "\"Unable to open object (object 'extracted_forces' doesn't exist)\"\n",
      "\"Unable to open object (object 'extracted_forces' doesn't exist)\"\n",
      "\"Unable to open object (object 'extracted_forces' doesn't exist)\"\n",
      "\"Unable to open object (object 'extracted_forces' doesn't exist)\"\n",
      "\"Unable to open object (object 'extracted_forces' doesn't exist)\"\n",
      "\"Unable to open object (object 'extracted_forces' doesn't exist)\"\n",
      "\"Unable to open object (object 'extracted_forces' doesn't exist)\"\n",
      "\"Unable to open object (object 'extracted_forces' doesn't exist)\"\n",
      "\"Unable to open object (object 'extracted_forces' doesn't exist)\"\n",
      "\"Unable to open object (object 'extracted_forces' doesn't exist)\"\n",
      "\"Unable to open object (object 'extracted_forces' doesn't exist)\"\n",
      "\"Unable to open object (object 'extracted_forces' doesn't exist)\"\n",
      "\"Unable to open object (object 'extracted_forces' doesn't exist)\"\n",
      "\"Unable to open object (object 'extracted_forces' doesn't exist)\"\n",
      "\"Unable to open object (object 'extracted_forces' doesn't exist)\"\n",
      "\"Unable to open object (object 'extracted_forces' doesn't exist)\"\n",
      "\"Unable to open object (object 'extracted_forces' doesn't exist)\"\n",
      "\"Unable to open object (object 'extracted_forces' doesn't exist)\"\n",
      "\"Unable to open object (object 'extracted_forces' doesn't exist)\"\n",
      "\"Unable to open object (object 'extracted_forces' doesn't exist)\"\n",
      "\"Unable to open object (object 'extracted_forces' doesn't exist)\"\n",
      "\"Unable to open object (object 'extracted_forces' doesn't exist)\"\n",
      "\"Unable to open object (object 'extracted_forces' doesn't exist)\"\n",
      "\"Unable to open object (object 'extracted_forces' doesn't exist)\"\n",
      "\"Unable to open object (object 'extracted_forces' doesn't exist)\"\n",
      "\"Unable to open object (object 'extracted_forces' doesn't exist)\"\n",
      "\"Unable to open object (object 'extracted_forces' doesn't exist)\"\n",
      "\"Unable to open object (object 'extracted_forces' doesn't exist)\"\n",
      "\"Unable to open object (object 'extracted_forces' doesn't exist)\"\n",
      "\"Unable to open object (object 'extracted_forces' doesn't exist)\"\n",
      "\"Unable to open object (object 'extracted_forces' doesn't exist)\"\n",
      "\"Unable to open object (object 'extracted_forces' doesn't exist)\"\n",
      "\"Unable to open object (object 'extracted_forces' doesn't exist)\"\n",
      "\"Unable to open object (object 'extracted_forces' doesn't exist)\"\n",
      "\"Unable to open object (object 'extracted_forces' doesn't exist)\"\n",
      "\"Unable to open object (object 'extracted_forces' doesn't exist)\"\n",
      "\"Unable to open object (object 'extracted_forces' doesn't exist)\"\n",
      "\"Unable to open object (object 'extracted_forces' doesn't exist)\"\n",
      "\"Unable to open object (object 'extracted_forces' doesn't exist)\"\n",
      "\"Unable to open object (object 'extracted_forces' doesn't exist)\"\n",
      "\"Unable to open object (object 'extracted_forces' doesn't exist)\"\n",
      "\"Unable to open object (object 'extracted_forces' doesn't exist)\"\n",
      "\"Unable to open object (object 'extracted_forces' doesn't exist)\"\n",
      "\"Unable to open object (object 'extracted_forces' doesn't exist)\"\n",
      "\"Unable to open object (object 'extracted_forces' doesn't exist)\"\n",
      "\"Unable to open object (object 'extracted_forces' doesn't exist)\"\n",
      "\"Unable to open object (object 'extracted_forces' doesn't exist)\"\n",
      "\"Unable to open object (object 'extracted_forces' doesn't exist)\"\n",
      "\"Unable to open object (object 'extracted_forces' doesn't exist)\"\n",
      "\"Unable to open object (object 'extracted_forces' doesn't exist)\"\n",
      "\"Unable to open object (object 'extracted_forces' doesn't exist)\"\n",
      "\"Unable to open object (object 'extracted_forces' doesn't exist)\"\n",
      "\"Unable to open object (object 'extracted_forces' doesn't exist)\"\n",
      "\"Unable to open object (object 'extracted_forces' doesn't exist)\"\n",
      "\"Unable to open object (object 'extracted_forces' doesn't exist)\"\n",
      "\"Unable to open object (object 'extracted_forces' doesn't exist)\"\n",
      "\"Unable to open object (object 'extracted_forces' doesn't exist)\"\n",
      "\"Unable to open object (object 'extracted_forces' doesn't exist)\"\n",
      "\"Unable to open object (object 'extracted_forces' doesn't exist)\"\n",
      "\"Unable to open object (object 'extracted_forces' doesn't exist)\"\n",
      "\"Unable to open object (object 'extracted_forces' doesn't exist)\"\n",
      "\"Unable to open object (object 'extracted_forces' doesn't exist)\"\n",
      "\"Unable to open object (object 'extracted_forces' doesn't exist)\"\n",
      "\"Unable to open object (object 'extracted_forces' doesn't exist)\"\n",
      "\"Unable to open object (object 'extracted_forces' doesn't exist)\"\n",
      "\"Unable to open object (object 'extracted_forces' doesn't exist)\"\n",
      "\"Unable to open object (object 'extracted_forces' doesn't exist)\"\n",
      "\"Unable to open object (object 'extracted_forces' doesn't exist)\"\n",
      "\"Unable to open object (object 'extracted_forces' doesn't exist)\"\n",
      "\"Unable to open object (object 'extracted_forces' doesn't exist)\"\n",
      "\"Unable to open object (object 'extracted_forces' doesn't exist)\"\n",
      "\"Unable to open object (object 'extracted_forces' doesn't exist)\"\n",
      "\"Unable to open object (object 'extracted_forces' doesn't exist)\"\n",
      "\"Unable to open object (object 'extracted_forces' doesn't exist)\"\n",
      "\"Unable to open object (object 'extracted_forces' doesn't exist)\"\n",
      "\"Unable to open object (object 'extracted_forces' doesn't exist)\"\n",
      "\"Unable to open object (object 'extracted_forces' doesn't exist)\"\n",
      "\"Unable to open object (object 'extracted_forces' doesn't exist)\"\n",
      "\"Unable to open object (object 'extracted_forces' doesn't exist)\"\n",
      "\"Unable to open object (object 'extracted_forces' doesn't exist)\"\n",
      "\"Unable to open object (object 'extracted_forces' doesn't exist)\"\n",
      "\"Unable to open object (object 'extracted_forces' doesn't exist)\"\n",
      "\"Unable to open object (object 'extracted_forces' doesn't exist)\"\n",
      "\"Unable to open object (object 'extracted_forces' doesn't exist)\"\n",
      "\"Unable to open object (object 'extracted_forces' doesn't exist)\"\n",
      "\"Unable to open object (object 'extracted_forces' doesn't exist)\"\n",
      "\"Unable to open object (object 'extracted_forces' doesn't exist)\"\n",
      "\"Unable to open object (object 'extracted_forces' doesn't exist)\"\n",
      "\"Unable to open object (object 'extracted_forces' doesn't exist)\"\n",
      "\"Unable to open object (object 'extracted_forces' doesn't exist)\"\n",
      "\"Unable to open object (object 'extracted_forces' doesn't exist)\"\n",
      "\"Unable to open object (object 'extracted_forces' doesn't exist)\"\n",
      "\"Unable to open object (object 'extracted_forces' doesn't exist)\"\n",
      "\"Unable to open object (object 'extracted_forces' doesn't exist)\"\n",
      "\"Unable to open object (object 'extracted_forces' doesn't exist)\"\n",
      "\"Unable to open object (object 'extracted_forces' doesn't exist)\"\n",
      "\"Unable to open object (object 'extracted_forces' doesn't exist)\"\n",
      "\"Unable to open object (object 'extracted_forces' doesn't exist)\"\n",
      "\"Unable to open object (object 'extracted_forces' doesn't exist)\"\n",
      "\"Unable to open object (object 'extracted_forces' doesn't exist)\"\n",
      "\"Unable to open object (object 'extracted_forces' doesn't exist)\"\n",
      "\"Unable to open object (object 'extracted_forces' doesn't exist)\"\n",
      "\"Unable to open object (object 'extracted_forces' doesn't exist)\"\n",
      "\"Unable to open object (object 'extracted_forces' doesn't exist)\"\n",
      "\"Unable to open object (object 'extracted_forces' doesn't exist)\"\n",
      "\"Unable to open object (object 'extracted_forces' doesn't exist)\"\n",
      "\"Unable to open object (object 'extracted_forces' doesn't exist)\"\n",
      "\"Unable to open object (object 'extracted_forces' doesn't exist)\"\n",
      "\"Unable to open object (object 'extracted_forces' doesn't exist)\"\n",
      "\"Unable to open object (object 'extracted_forces' doesn't exist)\"\n",
      "\"Unable to open object (object 'extracted_forces' doesn't exist)\"\n",
      "\"Unable to open object (object 'extracted_forces' doesn't exist)\"\n",
      "\"Unable to open object (object 'extracted_forces' doesn't exist)\"\n",
      "\"Unable to open object (object 'extracted_forces' doesn't exist)\"\n",
      "\"Unable to open object (object 'extracted_forces' doesn't exist)\"\n",
      "\"Unable to open object (object 'extracted_forces' doesn't exist)\"\n",
      "\"Unable to open object (object 'extracted_forces' doesn't exist)\"\n",
      "\"Unable to open object (object 'extracted_forces' doesn't exist)\"\n",
      "\"Unable to open object (object 'extracted_forces' doesn't exist)\"\n",
      "\"Unable to open object (object 'extracted_forces' doesn't exist)\"\n",
      "\"Unable to open object (object 'extracted_forces' doesn't exist)\"\n",
      "\"Unable to open object (object 'extracted_forces' doesn't exist)\"\n",
      "\"Unable to open object (object 'extracted_forces' doesn't exist)\"\n",
      "\"Unable to open object (object 'extracted_forces' doesn't exist)\"\n",
      "\"Unable to open object (object 'extracted_forces' doesn't exist)\"\n",
      "\"Unable to open object (object 'extracted_forces' doesn't exist)\"\n",
      "\"Unable to open object (object 'extracted_forces' doesn't exist)\"\n",
      "\"Unable to open object (object 'extracted_forces' doesn't exist)\"\n",
      "\"Unable to open object (object 'extracted_forces' doesn't exist)\"\n",
      "\"Unable to open object (object 'extracted_forces' doesn't exist)\"\n",
      "\"Unable to open object (object 'extracted_forces' doesn't exist)\"\n",
      "\"Unable to open object (object 'extracted_forces' doesn't exist)\"\n",
      "\"Unable to open object (object 'extracted_forces' doesn't exist)\"\n",
      "\"Unable to open object (object 'extracted_forces' doesn't exist)\"\n",
      "\"Unable to open object (object 'extracted_forces' doesn't exist)\"\n",
      "\"Unable to open object (object 'extracted_forces' doesn't exist)\"\n",
      "\"Unable to open object (object 'extracted_forces' doesn't exist)\"\n",
      "\"Unable to open object (object 'extracted_forces' doesn't exist)\"\n",
      "\"Unable to open object (object 'extracted_forces' doesn't exist)\"\n",
      "\"Unable to open object (object 'extracted_forces' doesn't exist)\"\n",
      "\"Unable to open object (object 'extracted_forces' doesn't exist)\"\n",
      "\"Unable to open object (object 'extracted_forces' doesn't exist)\"\n",
      "\"Unable to open object (object 'extracted_forces' doesn't exist)\"\n",
      "\"Unable to open object (object 'extracted_forces' doesn't exist)\"\n",
      "\"Unable to open object (object 'extracted_forces' doesn't exist)\"\n",
      "\"Unable to open object (object 'extracted_forces' doesn't exist)\"\n",
      "\"Unable to open object (object 'extracted_forces' doesn't exist)\"\n",
      "\"Unable to open object (object 'extracted_forces' doesn't exist)\"\n",
      "\"Unable to open object (object 'extracted_forces' doesn't exist)\"\n",
      "\"Unable to open object (object 'extracted_forces' doesn't exist)\"\n",
      "\"Unable to open object (object 'extracted_forces' doesn't exist)\"\n",
      "\"Unable to open object (object 'extracted_forces' doesn't exist)\"\n",
      "\"Unable to open object (object 'extracted_forces' doesn't exist)\"\n",
      "\"Unable to open object (object 'extracted_forces' doesn't exist)\"\n",
      "\"Unable to open object (object 'extracted_forces' doesn't exist)\"\n",
      "\"Unable to open object (object 'extracted_forces' doesn't exist)\"\n",
      "\"Unable to open object (object 'extracted_forces' doesn't exist)\"\n",
      "\"Unable to open object (object 'extracted_forces' doesn't exist)\"\n",
      "\"Unable to open object (object 'extracted_forces' doesn't exist)\"\n",
      "\"Unable to open object (object 'extracted_forces' doesn't exist)\"\n",
      "\"Unable to open object (object 'extracted_forces' doesn't exist)\"\n",
      "\"Unable to open object (object 'extracted_forces' doesn't exist)\"\n",
      "\"Unable to open object (object 'extracted_forces' doesn't exist)\"\n",
      "\"Unable to open object (object 'extracted_forces' doesn't exist)\"\n",
      "\"Unable to open object (object 'extracted_forces' doesn't exist)\"\n",
      "\"Unable to open object (object 'extracted_forces' doesn't exist)\"\n",
      "\"Unable to open object (object 'extracted_forces' doesn't exist)\"\n",
      "\"Unable to open object (object 'extracted_forces' doesn't exist)\"\n",
      "\"Unable to open object (object 'extracted_forces' doesn't exist)\"\n",
      "\"Unable to open object (object 'extracted_forces' doesn't exist)\"\n",
      "\"Unable to open object (object 'extracted_forces' doesn't exist)\"\n",
      "\"Unable to open object (object 'extracted_forces' doesn't exist)\"\n",
      "\"Unable to open object (object 'extracted_forces' doesn't exist)\"\n",
      "\"Unable to open object (object 'extracted_forces' doesn't exist)\"\n",
      "\"Unable to open object (object 'extracted_forces' doesn't exist)\"\n",
      "\"Unable to open object (object 'extracted_forces' doesn't exist)\"\n",
      "\"Unable to open object (object 'extracted_forces' doesn't exist)\"\n",
      "\"Unable to open object (object 'extracted_forces' doesn't exist)\"\n",
      "\"Unable to open object (object 'extracted_forces' doesn't exist)\"\n",
      "\"Unable to open object (object 'extracted_forces' doesn't exist)\"\n",
      "\"Unable to open object (object 'extracted_forces' doesn't exist)\"\n",
      "\"Unable to open object (object 'extracted_forces' doesn't exist)\"\n",
      "\"Unable to open object (object 'extracted_forces' doesn't exist)\"\n",
      "\"Unable to open object (object 'extracted_forces' doesn't exist)\"\n",
      "\"Unable to open object (object 'extracted_forces' doesn't exist)\"\n",
      "\"Unable to open object (object 'extracted_forces' doesn't exist)\"\n",
      "\"Unable to open object (object 'extracted_forces' doesn't exist)\"\n",
      "\"Unable to open object (object 'extracted_forces' doesn't exist)\"\n",
      "\"Unable to open object (object 'extracted_forces' doesn't exist)\"\n",
      "\"Unable to open object (object 'extracted_forces' doesn't exist)\"\n",
      "\"Unable to open object (object 'extracted_forces' doesn't exist)\"\n",
      "\"Unable to open object (object 'extracted_forces' doesn't exist)\"\n",
      "\"Unable to open object (object 'extracted_forces' doesn't exist)\"\n",
      "\"Unable to open object (object 'extracted_forces' doesn't exist)\"\n",
      "\"Unable to open object (object 'extracted_forces' doesn't exist)\"\n",
      "\"Unable to open object (object 'extracted_forces' doesn't exist)\"\n",
      "\"Unable to open object (object 'extracted_forces' doesn't exist)\"\n",
      "\"Unable to open object (object 'extracted_forces' doesn't exist)\"\n",
      "\"Unable to open object (object 'extracted_forces' doesn't exist)\"\n",
      "\"Unable to open object (object 'extracted_forces' doesn't exist)\"\n",
      "\"Unable to open object (object 'extracted_forces' doesn't exist)\"\n",
      "\"Unable to open object (object 'extracted_forces' doesn't exist)\"\n",
      "\"Unable to open object (object 'extracted_forces' doesn't exist)\"\n",
      "\"Unable to open object (object 'extracted_forces' doesn't exist)\"\n",
      "\"Unable to open object (object 'extracted_forces' doesn't exist)\"\n",
      "\"Unable to open object (object 'extracted_forces' doesn't exist)\"\n",
      "\"Unable to open object (object 'extracted_forces' doesn't exist)\"\n",
      "\"Unable to open object (object 'extracted_forces' doesn't exist)\"\n",
      "\"Unable to open object (object 'extracted_forces' doesn't exist)\"\n",
      "\"Unable to open object (object 'extracted_forces' doesn't exist)\"\n",
      "\"Unable to open object (object 'extracted_forces' doesn't exist)\"\n",
      "\"Unable to open object (object 'extracted_forces' doesn't exist)\"\n",
      "\"Unable to open object (object 'extracted_forces' doesn't exist)\"\n",
      "\"Unable to open object (object 'extracted_forces' doesn't exist)\"\n",
      "\"Unable to open object (object 'extracted_forces' doesn't exist)\"\n",
      "\"Unable to open object (object 'extracted_forces' doesn't exist)\"\n",
      "\"Unable to open object (object 'extracted_forces' doesn't exist)\"\n",
      "\"Unable to open object (object 'extracted_forces' doesn't exist)\"\n",
      "\"Unable to open object (object 'extracted_forces' doesn't exist)\"\n",
      "\"Unable to open object (object 'extracted_forces' doesn't exist)\"\n",
      "\"Unable to open object (object 'extracted_forces' doesn't exist)\"\n",
      "\"Unable to open object (object 'extracted_forces' doesn't exist)\"\n",
      "\"Unable to open object (object 'extracted_forces' doesn't exist)\"\n",
      "\"Unable to open object (object 'extracted_forces' doesn't exist)\"\n",
      "\"Unable to open object (object 'extracted_forces' doesn't exist)\"\n",
      "\"Unable to open object (object 'extracted_forces' doesn't exist)\"\n",
      "\"Unable to open object (object 'extracted_forces' doesn't exist)\"\n",
      "\"Unable to open object (object 'extracted_forces' doesn't exist)\"\n",
      "\"Unable to open object (object 'extracted_forces' doesn't exist)\"\n",
      "\"Unable to open object (object 'extracted_forces' doesn't exist)\"\n",
      "\"Unable to open object (object 'extracted_forces' doesn't exist)\"\n",
      "\"Unable to open object (object 'extracted_forces' doesn't exist)\"\n",
      "\"Unable to open object (object 'extracted_forces' doesn't exist)\"\n",
      "\"Unable to open object (object 'extracted_forces' doesn't exist)\"\n",
      "\"Unable to open object (object 'extracted_forces' doesn't exist)\"\n",
      "\"Unable to open object (object 'extracted_forces' doesn't exist)\"\n",
      "\"Unable to open object (object 'extracted_forces' doesn't exist)\"\n",
      "\"Unable to open object (object 'extracted_forces' doesn't exist)\"\n",
      "\"Unable to open object (object 'extracted_forces' doesn't exist)\"\n",
      "\"Unable to open object (object 'extracted_forces' doesn't exist)\"\n",
      "\"Unable to open object (object 'extracted_forces' doesn't exist)\"\n",
      "\"Unable to open object (object 'extracted_forces' doesn't exist)\"\n",
      "\"Unable to open object (object 'extracted_forces' doesn't exist)\"\n",
      "\"Unable to open object (object 'extracted_forces' doesn't exist)\"\n",
      "\"Unable to open object (object 'extracted_forces' doesn't exist)\"\n",
      "\"Unable to open object (object 'extracted_forces' doesn't exist)\"\n",
      "\"Unable to open object (object 'extracted_forces' doesn't exist)\"\n",
      "\"Unable to open object (object 'extracted_forces' doesn't exist)\"\n",
      "\"Unable to open object (object 'extracted_forces' doesn't exist)\"\n",
      "\"Unable to open object (object 'extracted_forces' doesn't exist)\"\n",
      "\"Unable to open object (object 'extracted_forces' doesn't exist)\"\n",
      "\"Unable to open object (object 'extracted_forces' doesn't exist)\"\n",
      "\"Unable to open object (object 'extracted_forces' doesn't exist)\"\n",
      "\"Unable to open object (object 'extracted_forces' doesn't exist)\"\n",
      "\"Unable to open object (object 'extracted_forces' doesn't exist)\"\n",
      "\"Unable to open object (object 'extracted_forces' doesn't exist)\"\n",
      "\"Unable to open object (object 'extracted_forces' doesn't exist)\"\n",
      "\"Unable to open object (object 'extracted_forces' doesn't exist)\"\n",
      "\"Unable to open object (object 'extracted_forces' doesn't exist)\"\n",
      "\"Unable to open object (object 'extracted_forces' doesn't exist)\"\n",
      "\"Unable to open object (object 'extracted_forces' doesn't exist)\"\n",
      "\"Unable to open object (object 'extracted_forces' doesn't exist)\"\n",
      "\"Unable to open object (object 'extracted_forces' doesn't exist)\"\n",
      "\"Unable to open object (object 'extracted_forces' doesn't exist)\"\n",
      "\"Unable to open object (object 'extracted_forces' doesn't exist)\"\n",
      "\"Unable to open object (object 'extracted_forces' doesn't exist)\"\n",
      "\"Unable to open object (object 'extracted_forces' doesn't exist)\"\n",
      "\"Unable to open object (object 'extracted_forces' doesn't exist)\"\n",
      "\"Unable to open object (object 'extracted_forces' doesn't exist)\"\n",
      "\"Unable to open object (object 'extracted_forces' doesn't exist)\"\n",
      "\"Unable to open object (object 'extracted_forces' doesn't exist)\"\n",
      "\"Unable to open object (object 'extracted_forces' doesn't exist)\"\n",
      "\"Unable to open object (object 'extracted_forces' doesn't exist)\"\n",
      "\"Unable to open object (object 'extracted_forces' doesn't exist)\"\n",
      "\"Unable to open object (object 'extracted_forces' doesn't exist)\"\n",
      "\"Unable to open object (object 'extracted_forces' doesn't exist)\"\n",
      "\"Unable to open object (object 'extracted_forces' doesn't exist)\"\n",
      "\"Unable to open object (object 'extracted_forces' doesn't exist)\"\n",
      "\"Unable to open object (object 'extracted_forces' doesn't exist)\"\n",
      "\"Unable to open object (object 'extracted_forces' doesn't exist)\"\n",
      "\"Unable to open object (object 'extracted_forces' doesn't exist)\"\n",
      "\"Unable to open object (object 'extracted_forces' doesn't exist)\"\n",
      "\"Unable to open object (object 'extracted_forces' doesn't exist)\"\n",
      "\"Unable to open object (object 'extracted_forces' doesn't exist)\"\n",
      "\"Unable to open object (object 'extracted_forces' doesn't exist)\"\n",
      "\"Unable to open object (object 'extracted_forces' doesn't exist)\"\n",
      "\"Unable to open object (object 'extracted_forces' doesn't exist)\"\n",
      "\"Unable to open object (object 'extracted_forces' doesn't exist)\"\n",
      "\"Unable to open object (object 'extracted_forces' doesn't exist)\"\n",
      "\"Unable to open object (object 'extracted_forces' doesn't exist)\"\n",
      "\"Unable to open object (object 'extracted_forces' doesn't exist)\"\n",
      "\"Unable to open object (object 'extracted_forces' doesn't exist)\"\n",
      "\"Unable to open object (object 'extracted_forces' doesn't exist)\"\n",
      "\"Unable to open object (object 'extracted_forces' doesn't exist)\"\n",
      "\"Unable to open object (object 'extracted_forces' doesn't exist)\"\n",
      "\"Unable to open object (object 'extracted_forces' doesn't exist)\"\n",
      "\"Unable to open object (object 'extracted_forces' doesn't exist)\"\n",
      "\"Unable to open object (object 'extracted_forces' doesn't exist)\"\n",
      "\"Unable to open object (object 'extracted_forces' doesn't exist)\"\n",
      "\"Unable to open object (object 'extracted_forces' doesn't exist)\"\n",
      "\"Unable to open object (object 'extracted_forces' doesn't exist)\"\n",
      "\"Unable to open object (object 'extracted_forces' doesn't exist)\"\n",
      "\"Unable to open object (object 'extracted_forces' doesn't exist)\"\n",
      "\"Unable to open object (object 'extracted_forces' doesn't exist)\"\n",
      "\"Unable to open object (object 'extracted_forces' doesn't exist)\"\n",
      "\"Unable to open object (object 'extracted_forces' doesn't exist)\"\n",
      "\"Unable to open object (object 'extracted_forces' doesn't exist)\"\n",
      "\"Unable to open object (object 'extracted_forces' doesn't exist)\"\n",
      "\"Unable to open object (object 'extracted_forces' doesn't exist)\"\n",
      "\"Unable to open object (object 'extracted_forces' doesn't exist)\"\n",
      "\"Unable to open object (object 'extracted_forces' doesn't exist)\"\n",
      "\"Unable to open object (object 'extracted_forces' doesn't exist)\"\n",
      "\"Unable to open object (object 'extracted_forces' doesn't exist)\"\n",
      "\"Unable to open object (object 'extracted_forces' doesn't exist)\"\n",
      "\"Unable to open object (object 'extracted_forces' doesn't exist)\"\n",
      "\"Unable to open object (object 'extracted_forces' doesn't exist)\"\n",
      "\"Unable to open object (object 'extracted_forces' doesn't exist)\"\n",
      "\"Unable to open object (object 'extracted_forces' doesn't exist)\"\n",
      "\"Unable to open object (object 'extracted_forces' doesn't exist)\"\n",
      "\"Unable to open object (object 'extracted_forces' doesn't exist)\"\n",
      "\"Unable to open object (object 'extracted_forces' doesn't exist)\"\n",
      "\"Unable to open object (object 'extracted_forces' doesn't exist)\"\n",
      "\"Unable to open object (object 'extracted_forces' doesn't exist)\"\n",
      "\"Unable to open object (object 'extracted_forces' doesn't exist)\"\n",
      "\"Unable to open object (object 'extracted_forces' doesn't exist)\"\n",
      "\"Unable to open object (object 'extracted_forces' doesn't exist)\"\n",
      "\"Unable to open object (object 'extracted_forces' doesn't exist)\"\n",
      "\"Unable to open object (object 'extracted_forces' doesn't exist)\"\n",
      "\"Unable to open object (object 'extracted_forces' doesn't exist)\"\n",
      "\"Unable to open object (object 'extracted_forces' doesn't exist)\"\n",
      "\"Unable to open object (object 'extracted_forces' doesn't exist)\"\n",
      "\"Unable to open object (object 'extracted_forces' doesn't exist)\"\n",
      "\"Unable to open object (object 'extracted_forces' doesn't exist)\"\n",
      "\"Unable to open object (object 'extracted_forces' doesn't exist)\"\n",
      "\"Unable to open object (object 'extracted_forces' doesn't exist)\"\n",
      "\"Unable to open object (object 'extracted_forces' doesn't exist)\"\n",
      "\"Unable to open object (object 'extracted_forces' doesn't exist)\"\n",
      "\"Unable to open object (object 'extracted_forces' doesn't exist)\"\n",
      "\"Unable to open object (object 'extracted_forces' doesn't exist)\"\n",
      "\"Unable to open object (object 'extracted_forces' doesn't exist)\"\n",
      "\"Unable to open object (object 'extracted_forces' doesn't exist)\"\n",
      "\"Unable to open object (object 'extracted_forces' doesn't exist)\"\n",
      "\"Unable to open object (object 'extracted_forces' doesn't exist)\"\n",
      "\"Unable to open object (object 'extracted_forces' doesn't exist)\"\n",
      "\"Unable to open object (object 'extracted_forces' doesn't exist)\"\n",
      "\"Unable to open object (object 'extracted_forces' doesn't exist)\"\n",
      "\"Unable to open object (object 'extracted_forces' doesn't exist)\"\n",
      "\"Unable to open object (object 'extracted_forces' doesn't exist)\"\n",
      "\"Unable to open object (object 'extracted_forces' doesn't exist)\"\n",
      "\"Unable to open object (object 'extracted_forces' doesn't exist)\"\n",
      "\"Unable to open object (object 'extracted_forces' doesn't exist)\"\n",
      "\"Unable to open object (object 'extracted_forces' doesn't exist)\"\n",
      "\"Unable to open object (object 'extracted_forces' doesn't exist)\"\n",
      "\"Unable to open object (object 'extracted_forces' doesn't exist)\"\n",
      "\"Unable to open object (object 'extracted_forces' doesn't exist)\"\n",
      "\"Unable to open object (object 'extracted_forces' doesn't exist)\"\n",
      "\"Unable to open object (object 'extracted_forces' doesn't exist)\"\n",
      "\"Unable to open object (object 'extracted_forces' doesn't exist)\"\n",
      "\"Unable to open object (object 'extracted_forces' doesn't exist)\"\n",
      "\"Unable to open object (object 'extracted_forces' doesn't exist)\"\n",
      "\"Unable to open object (object 'extracted_forces' doesn't exist)\"\n",
      "\"Unable to open object (object 'extracted_forces' doesn't exist)\"\n",
      "\"Unable to open object (object 'extracted_forces' doesn't exist)\"\n",
      "\"Unable to open object (object 'extracted_forces' doesn't exist)\"\n",
      "\"Unable to open object (object 'extracted_forces' doesn't exist)\"\n",
      "\"Unable to open object (object 'extracted_forces' doesn't exist)\"\n",
      "\"Unable to open object (object 'extracted_forces' doesn't exist)\"\n",
      "\"Unable to open object (object 'extracted_forces' doesn't exist)\"\n",
      "\"Unable to open object (object 'extracted_forces' doesn't exist)\"\n",
      "\"Unable to open object (object 'extracted_forces' doesn't exist)\"\n",
      "\"Unable to open object (object 'extracted_forces' doesn't exist)\"\n",
      "\"Unable to open object (object 'extracted_forces' doesn't exist)\"\n",
      "\"Unable to open object (object 'extracted_forces' doesn't exist)\"\n",
      "\"Unable to open object (object 'extracted_forces' doesn't exist)\"\n",
      "\"Unable to open object (object 'extracted_forces' doesn't exist)\"\n",
      "\"Unable to open object (object 'extracted_forces' doesn't exist)\"\n",
      "\"Unable to open object (object 'extracted_forces' doesn't exist)\"\n",
      "\"Unable to open object (object 'extracted_forces' doesn't exist)\"\n",
      "\"Unable to open object (object 'extracted_forces' doesn't exist)\"\n",
      "\"Unable to open object (object 'extracted_forces' doesn't exist)\"\n",
      "\"Unable to open object (object 'extracted_forces' doesn't exist)\"\n",
      "\"Unable to open object (object 'extracted_forces' doesn't exist)\"\n",
      "\"Unable to open object (object 'extracted_forces' doesn't exist)\"\n",
      "\"Unable to open object (object 'extracted_forces' doesn't exist)\"\n",
      "\"Unable to open object (object 'extracted_forces' doesn't exist)\"\n",
      "\"Unable to open object (object 'extracted_forces' doesn't exist)\"\n",
      "\"Unable to open object (object 'extracted_forces' doesn't exist)\"\n",
      "\"Unable to open object (object 'extracted_forces' doesn't exist)\"\n",
      "\"Unable to open object (object 'extracted_forces' doesn't exist)\"\n",
      "\"Unable to open object (object 'extracted_forces' doesn't exist)\"\n",
      "\"Unable to open object (object 'extracted_forces' doesn't exist)\"\n",
      "\"Unable to open object (object 'extracted_forces' doesn't exist)\"\n",
      "\"Unable to open object (object 'extracted_forces' doesn't exist)\"\n",
      "\"Unable to open object (object 'extracted_forces' doesn't exist)\"\n",
      "\"Unable to open object (object 'extracted_forces' doesn't exist)\"\n",
      "\"Unable to open object (object 'extracted_forces' doesn't exist)\"\n",
      "\"Unable to open object (object 'extracted_forces' doesn't exist)\"\n",
      "\"Unable to open object (object 'extracted_forces' doesn't exist)\"\n",
      "\"Unable to open object (object 'extracted_forces' doesn't exist)\"\n",
      "\"Unable to open object (object 'extracted_forces' doesn't exist)\"\n",
      "\"Unable to open object (object 'extracted_forces' doesn't exist)\"\n",
      "\"Unable to open object (object 'extracted_forces' doesn't exist)\"\n",
      "\"Unable to open object (object 'extracted_forces' doesn't exist)\"\n",
      "\"Unable to open object (object 'extracted_forces' doesn't exist)\"\n",
      "\"Unable to open object (object 'extracted_forces' doesn't exist)\"\n",
      "\"Unable to open object (object 'extracted_forces' doesn't exist)\"\n",
      "\"Unable to open object (object 'extracted_forces' doesn't exist)\"\n",
      "\"Unable to open object (object 'extracted_forces' doesn't exist)\"\n",
      "\"Unable to open object (object 'extracted_forces' doesn't exist)\"\n",
      "\"Unable to open object (object 'extracted_forces' doesn't exist)\"\n",
      "\"Unable to open object (object 'extracted_forces' doesn't exist)\"\n",
      "\"Unable to open object (object 'extracted_forces' doesn't exist)\"\n",
      "\"Unable to open object (object 'extracted_forces' doesn't exist)\"\n",
      "\"Unable to open object (object 'extracted_forces' doesn't exist)\"\n",
      "\"Unable to open object (object 'extracted_forces' doesn't exist)\"\n",
      "\"Unable to open object (object 'extracted_forces' doesn't exist)\"\n",
      "\"Unable to open object (object 'extracted_forces' doesn't exist)\"\n",
      "\"Unable to open object (object 'extracted_forces' doesn't exist)\"\n",
      "\"Unable to open object (object 'extracted_forces' doesn't exist)\"\n",
      "\"Unable to open object (object 'extracted_forces' doesn't exist)\"\n",
      "\"Unable to open object (object 'extracted_forces' doesn't exist)\"\n",
      "\"Unable to open object (object 'extracted_forces' doesn't exist)\"\n",
      "\"Unable to open object (object 'extracted_forces' doesn't exist)\"\n",
      "\"Unable to open object (object 'extracted_forces' doesn't exist)\"\n",
      "\"Unable to open object (object 'extracted_forces' doesn't exist)\"\n",
      "\"Unable to open object (object 'extracted_forces' doesn't exist)\"\n",
      "\"Unable to open object (object 'extracted_forces' doesn't exist)\"\n",
      "\"Unable to open object (object 'extracted_forces' doesn't exist)\"\n",
      "\"Unable to open object (object 'extracted_forces' doesn't exist)\"\n",
      "\"Unable to open object (object 'extracted_forces' doesn't exist)\"\n",
      "\"Unable to open object (object 'extracted_forces' doesn't exist)\"\n",
      "\"Unable to open object (object 'extracted_forces' doesn't exist)\"\n",
      "\"Unable to open object (object 'extracted_forces' doesn't exist)\"\n",
      "\"Unable to open object (object 'extracted_forces' doesn't exist)\"\n",
      "\"Unable to open object (object 'extracted_forces' doesn't exist)\"\n",
      "\"Unable to open object (object 'extracted_forces' doesn't exist)\"\n",
      "\"Unable to open object (object 'extracted_forces' doesn't exist)\"\n",
      "\"Unable to open object (object 'extracted_forces' doesn't exist)\"\n",
      "\"Unable to open object (object 'extracted_forces' doesn't exist)\"\n",
      "\"Unable to open object (object 'extracted_forces' doesn't exist)\"\n",
      "\"Unable to open object (object 'extracted_forces' doesn't exist)\"\n",
      "\"Unable to open object (object 'extracted_forces' doesn't exist)\"\n",
      "\"Unable to open object (object 'extracted_forces' doesn't exist)\"\n",
      "\"Unable to open object (object 'extracted_forces' doesn't exist)\"\n",
      "\"Unable to open object (object 'extracted_forces' doesn't exist)\"\n",
      "\"Unable to open object (object 'extracted_forces' doesn't exist)\"\n",
      "\"Unable to open object (object 'extracted_forces' doesn't exist)\"\n",
      "\"Unable to open object (object 'extracted_forces' doesn't exist)\"\n",
      "\"Unable to open object (object 'extracted_forces' doesn't exist)\"\n",
      "\"Unable to open object (object 'extracted_forces' doesn't exist)\"\n",
      "\"Unable to open object (object 'extracted_forces' doesn't exist)\"\n",
      "\"Unable to open object (object 'extracted_forces' doesn't exist)\"\n",
      "\"Unable to open object (object 'extracted_forces' doesn't exist)\"\n",
      "\"Unable to open object (object 'extracted_forces' doesn't exist)\"\n",
      "\"Unable to open object (object 'extracted_forces' doesn't exist)\"\n",
      "\"Unable to open object (object 'extracted_forces' doesn't exist)\"\n",
      "\"Unable to open object (object 'extracted_forces' doesn't exist)\"\n",
      "\"Unable to open object (object 'extracted_forces' doesn't exist)\"\n",
      "\"Unable to open object (object 'extracted_forces' doesn't exist)\"\n",
      "\"Unable to open object (object 'extracted_forces' doesn't exist)\"\n",
      "\"Unable to open object (object 'extracted_forces' doesn't exist)\"\n",
      "\"Unable to open object (object 'extracted_forces' doesn't exist)\"\n",
      "\"Unable to open object (object 'extracted_forces' doesn't exist)\"\n",
      "\"Unable to open object (object 'extracted_forces' doesn't exist)\"\n",
      "\"Unable to open object (object 'extracted_forces' doesn't exist)\"\n",
      "\"Unable to open object (object 'extracted_forces' doesn't exist)\"\n",
      "\"Unable to open object (object 'extracted_forces' doesn't exist)\"\n",
      "\"Unable to open object (object 'extracted_forces' doesn't exist)\"\n",
      "\"Unable to open object (object 'extracted_forces' doesn't exist)\"\n",
      "\"Unable to open object (object 'extracted_forces' doesn't exist)\"\n",
      "\"Unable to open object (object 'extracted_forces' doesn't exist)\"\n",
      "\"Unable to open object (object 'extracted_forces' doesn't exist)\"\n",
      "\"Unable to open object (object 'extracted_forces' doesn't exist)\"\n",
      "\"Unable to open object (object 'extracted_forces' doesn't exist)\"\n",
      "\"Unable to open object (object 'extracted_forces' doesn't exist)\"\n",
      "\"Unable to open object (object 'extracted_forces' doesn't exist)\"\n",
      "\"Unable to open object (object 'extracted_forces' doesn't exist)\"\n",
      "\"Unable to open object (object 'extracted_forces' doesn't exist)\"\n",
      "\"Unable to open object (object 'extracted_forces' doesn't exist)\"\n",
      "\"Unable to open object (object 'extracted_forces' doesn't exist)\"\n",
      "\"Unable to open object (object 'extracted_forces' doesn't exist)\"\n",
      "\"Unable to open object (object 'extracted_forces' doesn't exist)\"\n",
      "\"Unable to open object (object 'extracted_forces' doesn't exist)\"\n",
      "\"Unable to open object (object 'extracted_forces' doesn't exist)\"\n",
      "\"Unable to open object (object 'extracted_forces' doesn't exist)\"\n",
      "\"Unable to open object (object 'extracted_forces' doesn't exist)\"\n",
      "\"Unable to open object (object 'extracted_forces' doesn't exist)\"\n",
      "\"Unable to open object (object 'extracted_forces' doesn't exist)\"\n",
      "\"Unable to open object (object 'extracted_forces' doesn't exist)\"\n",
      "\"Unable to open object (object 'extracted_forces' doesn't exist)\"\n",
      "\"Unable to open object (object 'extracted_forces' doesn't exist)\"\n",
      "\"Unable to open object (object 'extracted_forces' doesn't exist)\"\n",
      "\"Unable to open object (object 'extracted_forces' doesn't exist)\"\n",
      "\"Unable to open object (object 'extracted_forces' doesn't exist)\"\n",
      "\"Unable to open object (object 'extracted_forces' doesn't exist)\"\n",
      "\"Unable to open object (object 'extracted_forces' doesn't exist)\"\n",
      "\"Unable to open object (object 'extracted_forces' doesn't exist)\"\n",
      "\"Unable to open object (object 'extracted_forces' doesn't exist)\"\n",
      "\"Unable to open object (object 'extracted_forces' doesn't exist)\"\n",
      "\"Unable to open object (object 'extracted_forces' doesn't exist)\"\n",
      "\"Unable to open object (object 'extracted_forces' doesn't exist)\"\n",
      "\"Unable to open object (object 'extracted_forces' doesn't exist)\"\n",
      "\"Unable to open object (object 'extracted_forces' doesn't exist)\"\n",
      "\"Unable to open object (object 'extracted_forces' doesn't exist)\"\n",
      "\"Unable to open object (object 'extracted_forces' doesn't exist)\"\n",
      "\"Unable to open object (object 'extracted_forces' doesn't exist)\"\n",
      "\"Unable to open object (object 'extracted_forces' doesn't exist)\"\n",
      "\"Unable to open object (object 'extracted_forces' doesn't exist)\"\n",
      "\"Unable to open object (object 'extracted_forces' doesn't exist)\"\n",
      "\"Unable to open object (object 'extracted_forces' doesn't exist)\"\n",
      "\"Unable to open object (object 'extracted_forces' doesn't exist)\"\n",
      "\"Unable to open object (object 'extracted_forces' doesn't exist)\"\n",
      "\"Unable to open object (object 'extracted_forces' doesn't exist)\"\n",
      "\"Unable to open object (object 'extracted_forces' doesn't exist)\"\n",
      "\"Unable to open object (object 'extracted_forces' doesn't exist)\"\n",
      "\"Unable to open object (object 'extracted_forces' doesn't exist)\"\n",
      "\"Unable to open object (object 'extracted_forces' doesn't exist)\"\n",
      "\"Unable to open object (object 'extracted_forces' doesn't exist)\"\n",
      "\"Unable to open object (object 'extracted_forces' doesn't exist)\"\n",
      "\"Unable to open object (object 'extracted_forces' doesn't exist)\"\n",
      "\"Unable to open object (object 'extracted_forces' doesn't exist)\"\n",
      "\"Unable to open object (object 'extracted_forces' doesn't exist)\"\n",
      "\"Unable to open object (object 'extracted_forces' doesn't exist)\"\n",
      "\"Unable to open object (object 'extracted_forces' doesn't exist)\"\n",
      "\"Unable to open object (object 'extracted_forces' doesn't exist)\"\n",
      "\"Unable to open object (object 'extracted_forces' doesn't exist)\"\n",
      "\"Unable to open object (object 'extracted_forces' doesn't exist)\"\n",
      "\"Unable to open object (object 'extracted_forces' doesn't exist)\"\n",
      "\"Unable to open object (object 'extracted_forces' doesn't exist)\"\n",
      "\"Unable to open object (object 'extracted_forces' doesn't exist)\"\n",
      "\"Unable to open object (object 'extracted_forces' doesn't exist)\"\n",
      "\"Unable to open object (object 'extracted_forces' doesn't exist)\"\n",
      "\"Unable to open object (object 'extracted_forces' doesn't exist)\"\n",
      "\"Unable to open object (object 'extracted_forces' doesn't exist)\"\n",
      "\"Unable to open object (object 'extracted_forces' doesn't exist)\"\n",
      "\"Unable to open object (object 'extracted_forces' doesn't exist)\"\n",
      "\"Unable to open object (object 'extracted_forces' doesn't exist)\"\n",
      "\"Unable to open object (object 'extracted_forces' doesn't exist)\"\n",
      "\"Unable to open object (object 'extracted_forces' doesn't exist)\"\n",
      "\"Unable to open object (object 'extracted_forces' doesn't exist)\"\n",
      "\"Unable to open object (object 'extracted_forces' doesn't exist)\"\n",
      "\"Unable to open object (object 'extracted_forces' doesn't exist)\"\n",
      "\"Unable to open object (object 'extracted_forces' doesn't exist)\"\n",
      "\"Unable to open object (object 'extracted_forces' doesn't exist)\"\n",
      "\"Unable to open object (object 'extracted_forces' doesn't exist)\"\n",
      "\"Unable to open object (object 'extracted_forces' doesn't exist)\"\n",
      "\"Unable to open object (object 'extracted_forces' doesn't exist)\"\n",
      "\"Unable to open object (object 'extracted_forces' doesn't exist)\"\n",
      "\"Unable to open object (object 'extracted_forces' doesn't exist)\"\n",
      "\"Unable to open object (object 'extracted_forces' doesn't exist)\"\n",
      "\"Unable to open object (object 'extracted_forces' doesn't exist)\"\n",
      "\"Unable to open object (object 'extracted_forces' doesn't exist)\"\n",
      "\"Unable to open object (object 'extracted_forces' doesn't exist)\"\n",
      "\"Unable to open object (object 'extracted_forces' doesn't exist)\"\n",
      "\"Unable to open object (object 'extracted_forces' doesn't exist)\"\n",
      "\"Unable to open object (object 'extracted_forces' doesn't exist)\"\n",
      "\"Unable to open object (object 'extracted_forces' doesn't exist)\"\n",
      "\"Unable to open object (object 'extracted_forces' doesn't exist)\"\n",
      "\"Unable to open object (object 'extracted_forces' doesn't exist)\"\n",
      "\"Unable to open object (object 'extracted_forces' doesn't exist)\"\n",
      "\"Unable to open object (object 'extracted_forces' doesn't exist)\"\n",
      "\"Unable to open object (object 'extracted_forces' doesn't exist)\"\n",
      "\"Unable to open object (object 'extracted_forces' doesn't exist)\"\n",
      "\"Unable to open object (object 'extracted_forces' doesn't exist)\"\n",
      "\"Unable to open object (object 'extracted_forces' doesn't exist)\"\n",
      "\"Unable to open object (object 'extracted_forces' doesn't exist)\"\n",
      "\"Unable to open object (object 'extracted_forces' doesn't exist)\"\n",
      "\"Unable to open object (object 'extracted_forces' doesn't exist)\"\n",
      "\"Unable to open object (object 'extracted_forces' doesn't exist)\"\n",
      "\"Unable to open object (object 'extracted_forces' doesn't exist)\"\n",
      "\"Unable to open object (object 'extracted_forces' doesn't exist)\"\n",
      "\"Unable to open object (object 'extracted_forces' doesn't exist)\"\n",
      "\"Unable to open object (object 'extracted_forces' doesn't exist)\"\n",
      "\"Unable to open object (object 'extracted_forces' doesn't exist)\"\n",
      "\"Unable to open object (object 'extracted_forces' doesn't exist)\"\n",
      "\"Unable to open object (object 'extracted_forces' doesn't exist)\"\n",
      "\"Unable to open object (object 'extracted_forces' doesn't exist)\"\n",
      "\"Unable to open object (object 'extracted_forces' doesn't exist)\"\n",
      "\"Unable to open object (object 'extracted_forces' doesn't exist)\"\n",
      "\"Unable to open object (object 'extracted_forces' doesn't exist)\"\n",
      "\"Unable to open object (object 'extracted_forces' doesn't exist)\"\n",
      "\"Unable to open object (object 'extracted_forces' doesn't exist)\"\n",
      "\"Unable to open object (object 'extracted_forces' doesn't exist)\"\n",
      "\"Unable to open object (object 'extracted_forces' doesn't exist)\"\n",
      "\"Unable to open object (object 'extracted_forces' doesn't exist)\"\n",
      "\"Unable to open object (object 'extracted_forces' doesn't exist)\"\n",
      "\"Unable to open object (object 'extracted_forces' doesn't exist)\"\n",
      "\"Unable to open object (object 'extracted_forces' doesn't exist)\"\n",
      "\"Unable to open object (object 'extracted_forces' doesn't exist)\"\n",
      "\"Unable to open object (object 'extracted_forces' doesn't exist)\"\n",
      "\"Unable to open object (object 'extracted_forces' doesn't exist)\"\n",
      "\"Unable to open object (object 'extracted_forces' doesn't exist)\"\n",
      "\"Unable to open object (object 'extracted_forces' doesn't exist)\"\n",
      "\"Unable to open object (object 'extracted_forces' doesn't exist)\"\n",
      "\"Unable to open object (object 'extracted_forces' doesn't exist)\"\n",
      "\"Unable to open object (object 'extracted_forces' doesn't exist)\"\n",
      "\"Unable to open object (object 'extracted_forces' doesn't exist)\"\n",
      "\"Unable to open object (object 'extracted_forces' doesn't exist)\"\n",
      "\"Unable to open object (object 'extracted_forces' doesn't exist)\"\n",
      "\"Unable to open object (object 'extracted_forces' doesn't exist)\"\n",
      "\"Unable to open object (object 'extracted_forces' doesn't exist)\"\n",
      "\"Unable to open object (object 'extracted_forces' doesn't exist)\"\n",
      "\"Unable to open object (object 'extracted_forces' doesn't exist)\"\n",
      "\"Unable to open object (object 'extracted_forces' doesn't exist)\"\n",
      "\"Unable to open object (object 'extracted_forces' doesn't exist)\"\n",
      "\"Unable to open object (object 'extracted_forces' doesn't exist)\"\n",
      "\"Unable to open object (object 'extracted_forces' doesn't exist)\"\n",
      "\"Unable to open object (object 'extracted_forces' doesn't exist)\"\n",
      "\"Unable to open object (object 'extracted_forces' doesn't exist)\"\n",
      "\"Unable to open object (object 'extracted_forces' doesn't exist)\"\n",
      "\"Unable to open object (object 'extracted_forces' doesn't exist)\"\n",
      "\"Unable to open object (object 'extracted_forces' doesn't exist)\"\n",
      "\"Unable to open object (object 'extracted_forces' doesn't exist)\"\n",
      "\"Unable to open object (object 'extracted_forces' doesn't exist)\"\n",
      "\"Unable to open object (object 'extracted_forces' doesn't exist)\"\n",
      "\"Unable to open object (object 'extracted_forces' doesn't exist)\"\n",
      "\"Unable to open object (object 'extracted_forces' doesn't exist)\"\n",
      "\"Unable to open object (object 'extracted_forces' doesn't exist)\"\n",
      "\"Unable to open object (object 'extracted_forces' doesn't exist)\"\n",
      "\"Unable to open object (object 'extracted_forces' doesn't exist)\"\n",
      "\"Unable to open object (object 'extracted_forces' doesn't exist)\"\n",
      "\"Unable to open object (object 'extracted_forces' doesn't exist)\"\n",
      "\"Unable to open object (object 'extracted_forces' doesn't exist)\"\n",
      "\"Unable to open object (object 'extracted_forces' doesn't exist)\"\n",
      "\"Unable to open object (object 'extracted_forces' doesn't exist)\"\n",
      "\"Unable to open object (object 'extracted_forces' doesn't exist)\"\n",
      "\"Unable to open object (object 'extracted_forces' doesn't exist)\"\n",
      "\"Unable to open object (object 'extracted_forces' doesn't exist)\"\n",
      "\"Unable to open object (object 'extracted_forces' doesn't exist)\"\n",
      "\"Unable to open object (object 'extracted_forces' doesn't exist)\"\n",
      "\"Unable to open object (object 'extracted_forces' doesn't exist)\"\n",
      "\"Unable to open object (object 'extracted_forces' doesn't exist)\"\n",
      "\"Unable to open object (object 'extracted_forces' doesn't exist)\"\n",
      "\"Unable to open object (object 'extracted_forces' doesn't exist)\"\n",
      "\"Unable to open object (object 'extracted_forces' doesn't exist)\"\n",
      "\"Unable to open object (object 'extracted_forces' doesn't exist)\"\n",
      "\"Unable to open object (object 'extracted_forces' doesn't exist)\"\n",
      "\"Unable to open object (object 'extracted_forces' doesn't exist)\"\n",
      "\"Unable to open object (object 'extracted_forces' doesn't exist)\"\n",
      "\"Unable to open object (object 'extracted_forces' doesn't exist)\"\n",
      "\"Unable to open object (object 'extracted_forces' doesn't exist)\"\n",
      "\"Unable to open object (object 'extracted_forces' doesn't exist)\"\n",
      "\"Unable to open object (object 'extracted_forces' doesn't exist)\"\n",
      "\"Unable to open object (object 'extracted_forces' doesn't exist)\"\n",
      "\"Unable to open object (object 'extracted_forces' doesn't exist)\"\n",
      "\"Unable to open object (object 'extracted_forces' doesn't exist)\"\n",
      "\"Unable to open object (object 'extracted_forces' doesn't exist)\"\n",
      "\"Unable to open object (object 'extracted_forces' doesn't exist)\"\n",
      "\"Unable to open object (object 'extracted_forces' doesn't exist)\"\n",
      "\"Unable to open object (object 'extracted_forces' doesn't exist)\"\n",
      "\"Unable to open object (object 'extracted_forces' doesn't exist)\"\n",
      "\"Unable to open object (object 'extracted_forces' doesn't exist)\"\n",
      "\"Unable to open object (object 'extracted_forces' doesn't exist)\"\n",
      "\"Unable to open object (object 'extracted_forces' doesn't exist)\"\n",
      "\"Unable to open object (object 'extracted_forces' doesn't exist)\"\n",
      "\"Unable to open object (object 'extracted_forces' doesn't exist)\"\n",
      "\"Unable to open object (object 'extracted_forces' doesn't exist)\"\n",
      "\"Unable to open object (object 'extracted_forces' doesn't exist)\"\n",
      "\"Unable to open object (object 'extracted_forces' doesn't exist)\"\n",
      "\"Unable to open object (object 'extracted_forces' doesn't exist)\"\n",
      "\"Unable to open object (object 'extracted_forces' doesn't exist)\"\n",
      "\"Unable to open object (object 'extracted_forces' doesn't exist)\"\n",
      "\"Unable to open object (object 'extracted_forces' doesn't exist)\"\n",
      "\"Unable to open object (object 'extracted_forces' doesn't exist)\"\n",
      "\"Unable to open object (object 'extracted_forces' doesn't exist)\"\n",
      "\"Unable to open object (object 'extracted_forces' doesn't exist)\"\n",
      "\"Unable to open object (object 'extracted_forces' doesn't exist)\"\n",
      "\"Unable to open object (object 'extracted_forces' doesn't exist)\"\n",
      "\"Unable to open object (object 'extracted_forces' doesn't exist)\"\n",
      "\"Unable to open object (object 'extracted_forces' doesn't exist)\"\n",
      "\"Unable to open object (object 'extracted_forces' doesn't exist)\"\n",
      "\"Unable to open object (object 'extracted_forces' doesn't exist)\"\n",
      "\"Unable to open object (object 'extracted_forces' doesn't exist)\"\n",
      "\"Unable to open object (object 'extracted_forces' doesn't exist)\"\n",
      "\"Unable to open object (object 'extracted_forces' doesn't exist)\"\n",
      "\"Unable to open object (object 'extracted_forces' doesn't exist)\"\n",
      "\"Unable to open object (object 'extracted_forces' doesn't exist)\"\n",
      "\"Unable to open object (object 'extracted_forces' doesn't exist)\"\n",
      "\"Unable to open object (object 'extracted_forces' doesn't exist)\"\n",
      "\"Unable to open object (object 'extracted_forces' doesn't exist)\"\n",
      "\"Unable to open object (object 'extracted_forces' doesn't exist)\"\n",
      "\"Unable to open object (object 'extracted_forces' doesn't exist)\"\n",
      "\"Unable to open object (object 'extracted_forces' doesn't exist)\"\n",
      "\"Unable to open object (object 'extracted_forces' doesn't exist)\"\n",
      "\"Unable to open object (object 'extracted_forces' doesn't exist)\"\n",
      "\"Unable to open object (object 'extracted_forces' doesn't exist)\"\n",
      "\"Unable to open object (object 'extracted_forces' doesn't exist)\"\n",
      "\"Unable to open object (object 'extracted_forces' doesn't exist)\"\n",
      "\"Unable to open object (object 'extracted_forces' doesn't exist)\"\n",
      "\"Unable to open object (object 'extracted_forces' doesn't exist)\"\n",
      "\"Unable to open object (object 'extracted_forces' doesn't exist)\"\n",
      "\"Unable to open object (object 'extracted_forces' doesn't exist)\"\n",
      "\"Unable to open object (object 'extracted_forces' doesn't exist)\"\n",
      "\"Unable to open object (object 'extracted_forces' doesn't exist)\"\n",
      "\"Unable to open object (object 'extracted_forces' doesn't exist)\"\n",
      "\"Unable to open object (object 'extracted_forces' doesn't exist)\"\n",
      "\"Unable to open object (object 'extracted_forces' doesn't exist)\"\n",
      "\"Unable to open object (object 'extracted_forces' doesn't exist)\"\n",
      "\"Unable to open object (object 'extracted_forces' doesn't exist)\"\n",
      "\"Unable to open object (object 'extracted_forces' doesn't exist)\"\n",
      "\"Unable to open object (object 'extracted_forces' doesn't exist)\"\n",
      "\"Unable to open object (object 'extracted_forces' doesn't exist)\"\n",
      "\"Unable to open object (object 'extracted_forces' doesn't exist)\"\n",
      "\"Unable to open object (object 'extracted_forces' doesn't exist)\"\n",
      "\"Unable to open object (object 'extracted_forces' doesn't exist)\"\n",
      "\"Unable to open object (object 'extracted_forces' doesn't exist)\"\n",
      "\"Unable to open object (object 'extracted_forces' doesn't exist)\"\n",
      "\"Unable to open object (object 'extracted_forces' doesn't exist)\"\n",
      "\"Unable to open object (object 'extracted_forces' doesn't exist)\"\n",
      "\"Unable to open object (object 'extracted_forces' doesn't exist)\"\n",
      "\"Unable to open object (object 'extracted_forces' doesn't exist)\"\n",
      "\"Unable to open object (object 'extracted_forces' doesn't exist)\"\n",
      "\"Unable to open object (object 'extracted_forces' doesn't exist)\"\n",
      "\"Unable to open object (object 'extracted_forces' doesn't exist)\"\n",
      "\"Unable to open object (object 'extracted_forces' doesn't exist)\"\n",
      "\"Unable to open object (object 'extracted_forces' doesn't exist)\"\n",
      "\"Unable to open object (object 'extracted_forces' doesn't exist)\"\n",
      "\"Unable to open object (object 'extracted_forces' doesn't exist)\"\n",
      "\"Unable to open object (object 'extracted_forces' doesn't exist)\"\n",
      "\"Unable to open object (object 'extracted_forces' doesn't exist)\"\n",
      "\"Unable to open object (object 'extracted_forces' doesn't exist)\"\n",
      "\"Unable to open object (object 'extracted_forces' doesn't exist)\"\n",
      "\"Unable to open object (object 'extracted_forces' doesn't exist)\"\n",
      "\"Unable to open object (object 'extracted_forces' doesn't exist)\"\n",
      "\"Unable to open object (object 'extracted_forces' doesn't exist)\"\n",
      "\"Unable to open object (object 'extracted_forces' doesn't exist)\"\n",
      "\"Unable to open object (object 'extracted_forces' doesn't exist)\"\n",
      "\"Unable to open object (object 'extracted_forces' doesn't exist)\"\n",
      "\"Unable to open object (object 'extracted_forces' doesn't exist)\"\n",
      "\"Unable to open object (object 'extracted_forces' doesn't exist)\"\n",
      "\"Unable to open object (object 'extracted_forces' doesn't exist)\"\n",
      "\"Unable to open object (object 'extracted_forces' doesn't exist)\"\n",
      "\"Unable to open object (object 'extracted_forces' doesn't exist)\"\n",
      "\"Unable to open object (object 'extracted_forces' doesn't exist)\"\n",
      "\"Unable to open object (object 'extracted_forces' doesn't exist)\"\n",
      "\"Unable to open object (object 'extracted_forces' doesn't exist)\"\n",
      "\"Unable to open object (object 'extracted_forces' doesn't exist)\"\n",
      "\"Unable to open object (object 'extracted_forces' doesn't exist)\"\n",
      "\"Unable to open object (object 'extracted_forces' doesn't exist)\"\n",
      "\"Unable to open object (object 'extracted_forces' doesn't exist)\"\n",
      "\"Unable to open object (object 'extracted_forces' doesn't exist)\"\n",
      "\"Unable to open object (object 'extracted_forces' doesn't exist)\"\n",
      "\"Unable to open object (object 'extracted_forces' doesn't exist)\"\n",
      "\"Unable to open object (object 'extracted_forces' doesn't exist)\"\n",
      "\"Unable to open object (object 'extracted_forces' doesn't exist)\"\n",
      "\"Unable to open object (object 'extracted_forces' doesn't exist)\"\n",
      "\"Unable to open object (object 'extracted_forces' doesn't exist)\"\n",
      "\"Unable to open object (object 'extracted_forces' doesn't exist)\"\n",
      "\"Unable to open object (object 'extracted_forces' doesn't exist)\"\n",
      "\"Unable to open object (object 'extracted_forces' doesn't exist)\"\n",
      "\"Unable to open object (object 'extracted_forces' doesn't exist)\"\n",
      "\"Unable to open object (object 'extracted_forces' doesn't exist)\"\n",
      "\"Unable to open object (object 'extracted_forces' doesn't exist)\"\n",
      "\"Unable to open object (object 'extracted_forces' doesn't exist)\"\n",
      "\"Unable to open object (object 'extracted_forces' doesn't exist)\"\n",
      "\"Unable to open object (object 'extracted_forces' doesn't exist)\"\n",
      "\"Unable to open object (object 'extracted_forces' doesn't exist)\"\n",
      "\"Unable to open object (object 'extracted_forces' doesn't exist)\"\n",
      "\"Unable to open object (object 'extracted_forces' doesn't exist)\"\n",
      "\"Unable to open object (object 'extracted_forces' doesn't exist)\"\n",
      "\"Unable to open object (object 'extracted_forces' doesn't exist)\"\n",
      "\"Unable to open object (object 'extracted_forces' doesn't exist)\"\n",
      "\"Unable to open object (object 'extracted_forces' doesn't exist)\"\n",
      "\"Unable to open object (object 'extracted_forces' doesn't exist)\"\n",
      "\"Unable to open object (object 'extracted_forces' doesn't exist)\"\n",
      "\"Unable to open object (object 'extracted_forces' doesn't exist)\"\n",
      "\"Unable to open object (object 'extracted_forces' doesn't exist)\"\n",
      "\"Unable to open object (object 'extracted_forces' doesn't exist)\"\n",
      "\"Unable to open object (object 'extracted_forces' doesn't exist)\"\n",
      "\"Unable to open object (object 'extracted_forces' doesn't exist)\"\n",
      "\"Unable to open object (object 'extracted_forces' doesn't exist)\"\n",
      "\"Unable to open object (object 'extracted_forces' doesn't exist)\"\n",
      "\"Unable to open object (object 'extracted_forces' doesn't exist)\"\n",
      "\"Unable to open object (object 'extracted_forces' doesn't exist)\"\n",
      "\"Unable to open object (object 'extracted_forces' doesn't exist)\"\n",
      "\"Unable to open object (object 'extracted_forces' doesn't exist)\"\n",
      "\"Unable to open object (object 'extracted_forces' doesn't exist)\"\n",
      "\"Unable to open object (object 'extracted_forces' doesn't exist)\"\n",
      "\"Unable to open object (object 'extracted_forces' doesn't exist)\"\n",
      "\"Unable to open object (object 'extracted_forces' doesn't exist)\"\n",
      "\"Unable to open object (object 'extracted_forces' doesn't exist)\"\n",
      "\"Unable to open object (object 'extracted_forces' doesn't exist)\"\n",
      "\"Unable to open object (object 'extracted_forces' doesn't exist)\"\n",
      "\"Unable to open object (object 'extracted_forces' doesn't exist)\"\n",
      "\"Unable to open object (object 'extracted_forces' doesn't exist)\"\n",
      "\"Unable to open object (object 'extracted_forces' doesn't exist)\"\n",
      "\"Unable to open object (object 'extracted_forces' doesn't exist)\"\n",
      "\"Unable to open object (object 'extracted_forces' doesn't exist)\"\n",
      "\"Unable to open object (object 'extracted_forces' doesn't exist)\"\n",
      "\"Unable to open object (object 'extracted_forces' doesn't exist)\"\n",
      "\"Unable to open object (object 'extracted_forces' doesn't exist)\"\n",
      "\"Unable to open object (object 'extracted_forces' doesn't exist)\"\n",
      "\"Unable to open object (object 'extracted_forces' doesn't exist)\"\n",
      "\"Unable to open object (object 'extracted_forces' doesn't exist)\"\n",
      "\"Unable to open object (object 'extracted_forces' doesn't exist)\"\n",
      "\"Unable to open object (object 'extracted_forces' doesn't exist)\"\n",
      "\"Unable to open object (object 'extracted_forces' doesn't exist)\"\n",
      "\"Unable to open object (object 'extracted_forces' doesn't exist)\"\n",
      "\"Unable to open object (object 'extracted_forces' doesn't exist)\"\n",
      "\"Unable to open object (object 'extracted_forces' doesn't exist)\"\n",
      "\"Unable to open object (object 'extracted_forces' doesn't exist)\"\n",
      "\"Unable to open object (object 'extracted_forces' doesn't exist)\"\n",
      "\"Unable to open object (object 'extracted_forces' doesn't exist)\"\n",
      "\"Unable to open object (object 'extracted_forces' doesn't exist)\"\n",
      "\"Unable to open object (object 'extracted_forces' doesn't exist)\"\n",
      "\"Unable to open object (object 'extracted_forces' doesn't exist)\"\n",
      "\"Unable to open object (object 'extracted_forces' doesn't exist)\"\n",
      "\"Unable to open object (object 'extracted_forces' doesn't exist)\"\n",
      "\"Unable to open object (object 'extracted_forces' doesn't exist)\"\n",
      "\"Unable to open object (object 'extracted_forces' doesn't exist)\"\n",
      "\"Unable to open object (object 'extracted_forces' doesn't exist)\"\n",
      "\"Unable to open object (object 'extracted_forces' doesn't exist)\"\n",
      "\"Unable to open object (object 'extracted_forces' doesn't exist)\"\n",
      "\"Unable to open object (object 'extracted_forces' doesn't exist)\"\n",
      "\"Unable to open object (object 'extracted_forces' doesn't exist)\"\n",
      "\"Unable to open object (object 'extracted_forces' doesn't exist)\"\n",
      "\"Unable to open object (object 'extracted_forces' doesn't exist)\"\n",
      "\"Unable to open object (object 'extracted_forces' doesn't exist)\"\n",
      "\"Unable to open object (object 'extracted_forces' doesn't exist)\"\n",
      "\"Unable to open object (object 'extracted_forces' doesn't exist)\"\n",
      "\"Unable to open object (object 'extracted_forces' doesn't exist)\"\n",
      "\"Unable to open object (object 'extracted_forces' doesn't exist)\"\n",
      "\"Unable to open object (object 'extracted_forces' doesn't exist)\"\n",
      "\"Unable to open object (object 'extracted_forces' doesn't exist)\"\n",
      "\"Unable to open object (object 'extracted_forces' doesn't exist)\"\n",
      "\"Unable to open object (object 'extracted_forces' doesn't exist)\"\n",
      "\"Unable to open object (object 'extracted_forces' doesn't exist)\"\n",
      "\"Unable to open object (object 'extracted_forces' doesn't exist)\"\n",
      "\"Unable to open object (object 'extracted_forces' doesn't exist)\"\n",
      "\"Unable to open object (object 'extracted_forces' doesn't exist)\"\n",
      "\"Unable to open object (object 'extracted_forces' doesn't exist)\"\n",
      "\"Unable to open object (object 'extracted_forces' doesn't exist)\"\n",
      "\"Unable to open object (object 'extracted_forces' doesn't exist)\"\n",
      "\"Unable to open object (object 'extracted_forces' doesn't exist)\"\n",
      "\"Unable to open object (object 'extracted_forces' doesn't exist)\"\n",
      "\"Unable to open object (object 'extracted_forces' doesn't exist)\"\n",
      "\"Unable to open object (object 'extracted_forces' doesn't exist)\"\n",
      "\"Unable to open object (object 'extracted_forces' doesn't exist)\"\n",
      "\"Unable to open object (object 'extracted_forces' doesn't exist)\"\n",
      "\"Unable to open object (object 'extracted_forces' doesn't exist)\"\n",
      "\"Unable to open object (object 'extracted_forces' doesn't exist)\"\n",
      "\"Unable to open object (object 'extracted_forces' doesn't exist)\"\n",
      "\"Unable to open object (object 'extracted_forces' doesn't exist)\"\n",
      "\"Unable to open object (object 'extracted_forces' doesn't exist)\"\n",
      "\"Unable to open object (object 'extracted_forces' doesn't exist)\"\n",
      "\"Unable to open object (object 'extracted_forces' doesn't exist)\"\n",
      "\"Unable to open object (object 'extracted_forces' doesn't exist)\"\n",
      "\"Unable to open object (object 'extracted_forces' doesn't exist)\"\n",
      "\"Unable to open object (object 'extracted_forces' doesn't exist)\"\n",
      "\"Unable to open object (object 'extracted_forces' doesn't exist)\"\n",
      "\"Unable to open object (object 'extracted_forces' doesn't exist)\"\n",
      "\"Unable to open object (object 'extracted_forces' doesn't exist)\"\n",
      "\"Unable to open object (object 'extracted_forces' doesn't exist)\"\n",
      "\"Unable to open object (object 'extracted_forces' doesn't exist)\"\n",
      "\"Unable to open object (object 'extracted_forces' doesn't exist)\"\n",
      "\"Unable to open object (object 'extracted_forces' doesn't exist)\"\n",
      "\"Unable to open object (object 'extracted_forces' doesn't exist)\"\n",
      "\"Unable to open object (object 'extracted_forces' doesn't exist)\"\n",
      "\"Unable to open object (object 'extracted_forces' doesn't exist)\"\n",
      "\"Unable to open object (object 'extracted_forces' doesn't exist)\"\n",
      "\"Unable to open object (object 'extracted_forces' doesn't exist)\"\n",
      "\"Unable to open object (object 'extracted_forces' doesn't exist)\"\n",
      "\"Unable to open object (object 'extracted_forces' doesn't exist)\"\n",
      "\"Unable to open object (object 'extracted_forces' doesn't exist)\"\n",
      "\"Unable to open object (object 'extracted_forces' doesn't exist)\"\n",
      "\"Unable to open object (object 'extracted_forces' doesn't exist)\"\n",
      "\"Unable to open object (object 'extracted_forces' doesn't exist)\"\n",
      "\"Unable to open object (object 'extracted_forces' doesn't exist)\"\n",
      "\"Unable to open object (object 'extracted_forces' doesn't exist)\"\n",
      "\"Unable to open object (object 'extracted_forces' doesn't exist)\"\n",
      "\"Unable to open object (object 'extracted_forces' doesn't exist)\"\n",
      "\"Unable to open object (object 'extracted_forces' doesn't exist)\"\n",
      "\"Unable to open object (object 'extracted_forces' doesn't exist)\"\n",
      "\"Unable to open object (object 'extracted_forces' doesn't exist)\"\n",
      "\"Unable to open object (object 'extracted_forces' doesn't exist)\"\n",
      "\"Unable to open object (object 'extracted_forces' doesn't exist)\"\n",
      "\"Unable to open object (object 'extracted_forces' doesn't exist)\"\n",
      "\"Unable to open object (object 'extracted_forces' doesn't exist)\"\n",
      "\"Unable to open object (object 'extracted_forces' doesn't exist)\"\n",
      "\"Unable to open object (object 'extracted_forces' doesn't exist)\"\n",
      "\"Unable to open object (object 'extracted_forces' doesn't exist)\"\n",
      "\"Unable to open object (object 'extracted_forces' doesn't exist)\"\n",
      "\"Unable to open object (object 'extracted_forces' doesn't exist)\"\n",
      "\"Unable to open object (object 'extracted_forces' doesn't exist)\"\n",
      "\"Unable to open object (object 'extracted_forces' doesn't exist)\"\n",
      "\"Unable to open object (object 'extracted_forces' doesn't exist)\"\n",
      "\"Unable to open object (object 'extracted_forces' doesn't exist)\"\n",
      "\"Unable to open object (object 'extracted_forces' doesn't exist)\"\n",
      "\"Unable to open object (object 'extracted_forces' doesn't exist)\"\n",
      "\"Unable to open object (object 'extracted_forces' doesn't exist)\"\n",
      "\"Unable to open object (object 'extracted_forces' doesn't exist)\"\n",
      "\"Unable to open object (object 'extracted_forces' doesn't exist)\"\n",
      "\"Unable to open object (object 'extracted_forces' doesn't exist)\"\n",
      "\"Unable to open object (object 'extracted_forces' doesn't exist)\"\n",
      "\"Unable to open object (object 'extracted_forces' doesn't exist)\"\n",
      "\"Unable to open object (object 'extracted_forces' doesn't exist)\"\n",
      "\"Unable to open object (object 'extracted_forces' doesn't exist)\"\n",
      "\"Unable to open object (object 'extracted_forces' doesn't exist)\"\n",
      "\"Unable to open object (object 'extracted_forces' doesn't exist)\"\n",
      "\"Unable to open object (object 'extracted_forces' doesn't exist)\"\n",
      "\"Unable to open object (object 'extracted_forces' doesn't exist)\"\n",
      "\"Unable to open object (object 'extracted_forces' doesn't exist)\"\n",
      "\"Unable to open object (object 'extracted_forces' doesn't exist)\"\n",
      "\"Unable to open object (object 'extracted_forces' doesn't exist)\"\n",
      "\"Unable to open object (object 'extracted_forces' doesn't exist)\"\n",
      "\"Unable to open object (object 'extracted_forces' doesn't exist)\"\n",
      "\"Unable to open object (object 'extracted_forces' doesn't exist)\"\n",
      "\"Unable to open object (object 'extracted_forces' doesn't exist)\"\n",
      "\"Unable to open object (object 'extracted_forces' doesn't exist)\"\n",
      "\"Unable to open object (object 'extracted_forces' doesn't exist)\"\n",
      "\"Unable to open object (object 'extracted_forces' doesn't exist)\"\n",
      "\"Unable to open object (object 'extracted_forces' doesn't exist)\"\n",
      "\"Unable to open object (object 'extracted_forces' doesn't exist)\"\n",
      "\"Unable to open object (object 'extracted_forces' doesn't exist)\"\n",
      "\"Unable to open object (object 'extracted_forces' doesn't exist)\"\n",
      "\"Unable to open object (object 'extracted_forces' doesn't exist)\"\n",
      "\"Unable to open object (object 'extracted_forces' doesn't exist)\"\n",
      "\"Unable to open object (object 'extracted_forces' doesn't exist)\"\n",
      "\"Unable to open object (object 'extracted_forces' doesn't exist)\"\n",
      "\"Unable to open object (object 'extracted_forces' doesn't exist)\"\n",
      "\"Unable to open object (object 'extracted_forces' doesn't exist)\"\n",
      "\"Unable to open object (object 'extracted_forces' doesn't exist)\"\n",
      "\"Unable to open object (object 'extracted_forces' doesn't exist)\"\n",
      "\"Unable to open object (object 'extracted_forces' doesn't exist)\"\n",
      "\"Unable to open object (object 'extracted_forces' doesn't exist)\"\n",
      "\"Unable to open object (object 'extracted_forces' doesn't exist)\"\n",
      "\"Unable to open object (object 'extracted_forces' doesn't exist)\"\n",
      "\"Unable to open object (object 'extracted_forces' doesn't exist)\"\n",
      "\"Unable to open object (object 'extracted_forces' doesn't exist)\"\n",
      "\"Unable to open object (object 'extracted_forces' doesn't exist)\"\n",
      "\"Unable to open object (object 'extracted_forces' doesn't exist)\"\n",
      "\"Unable to open object (object 'extracted_forces' doesn't exist)\"\n",
      "\"Unable to open object (object 'extracted_forces' doesn't exist)\"\n",
      "\"Unable to open object (object 'extracted_forces' doesn't exist)\"\n",
      "\"Unable to open object (object 'extracted_forces' doesn't exist)\"\n",
      "\"Unable to open object (object 'extracted_forces' doesn't exist)\"\n",
      "\"Unable to open object (object 'extracted_forces' doesn't exist)\"\n",
      "\"Unable to open object (object 'extracted_forces' doesn't exist)\"\n",
      "\"Unable to open object (object 'extracted_forces' doesn't exist)\"\n",
      "\"Unable to open object (object 'extracted_forces' doesn't exist)\"\n",
      "\"Unable to open object (object 'extracted_forces' doesn't exist)\"\n",
      "\"Unable to open object (object 'extracted_forces' doesn't exist)\"\n",
      "\"Unable to open object (object 'extracted_forces' doesn't exist)\"\n",
      "\"Unable to open object (object 'extracted_forces' doesn't exist)\"\n",
      "\"Unable to open object (object 'extracted_forces' doesn't exist)\"\n",
      "\"Unable to open object (object 'extracted_forces' doesn't exist)\"\n",
      "\"Unable to open object (object 'extracted_forces' doesn't exist)\"\n",
      "\"Unable to open object (object 'extracted_forces' doesn't exist)\"\n",
      "\"Unable to open object (object 'extracted_forces' doesn't exist)\"\n",
      "\"Unable to open object (object 'extracted_forces' doesn't exist)\"\n",
      "\"Unable to open object (object 'extracted_forces' doesn't exist)\"\n",
      "\"Unable to open object (object 'extracted_forces' doesn't exist)\"\n",
      "\"Unable to open object (object 'extracted_forces' doesn't exist)\"\n",
      "\"Unable to open object (object 'extracted_forces' doesn't exist)\"\n",
      "\"Unable to open object (object 'extracted_forces' doesn't exist)\"\n",
      "\"Unable to open object (object 'extracted_forces' doesn't exist)\"\n",
      "\"Unable to open object (object 'extracted_forces' doesn't exist)\"\n",
      "\"Unable to open object (object 'extracted_forces' doesn't exist)\"\n",
      "\"Unable to open object (object 'extracted_forces' doesn't exist)\"\n",
      "\"Unable to open object (object 'extracted_forces' doesn't exist)\"\n",
      "\"Unable to open object (object 'extracted_forces' doesn't exist)\"\n",
      "\"Unable to open object (object 'extracted_forces' doesn't exist)\"\n",
      "\"Unable to open object (object 'extracted_forces' doesn't exist)\"\n",
      "\"Unable to open object (object 'extracted_forces' doesn't exist)\"\n",
      "\"Unable to open object (object 'extracted_forces' doesn't exist)\"\n",
      "\"Unable to open object (object 'extracted_forces' doesn't exist)\"\n",
      "\"Unable to open object (object 'extracted_forces' doesn't exist)\"\n",
      "\"Unable to open object (object 'extracted_forces' doesn't exist)\"\n",
      "\"Unable to open object (object 'extracted_forces' doesn't exist)\"\n",
      "\"Unable to open object (object 'extracted_forces' doesn't exist)\"\n",
      "\"Unable to open object (object 'extracted_forces' doesn't exist)\"\n",
      "\"Unable to open object (object 'extracted_forces' doesn't exist)\"\n",
      "\"Unable to open object (object 'extracted_forces' doesn't exist)\"\n",
      "\"Unable to open object (object 'extracted_forces' doesn't exist)\"\n",
      "\"Unable to open object (object 'extracted_forces' doesn't exist)\"\n",
      "\"Unable to open object (object 'extracted_forces' doesn't exist)\"\n",
      "\"Unable to open object (object 'extracted_forces' doesn't exist)\"\n",
      "\"Unable to open object (object 'extracted_forces' doesn't exist)\"\n",
      "\"Unable to open object (object 'extracted_forces' doesn't exist)\"\n",
      "\"Unable to open object (object 'extracted_forces' doesn't exist)\"\n",
      "\"Unable to open object (object 'extracted_forces' doesn't exist)\"\n",
      "\"Unable to open object (object 'extracted_forces' doesn't exist)\"\n",
      "\"Unable to open object (object 'extracted_forces' doesn't exist)\"\n",
      "\"Unable to open object (object 'extracted_forces' doesn't exist)\"\n",
      "\"Unable to open object (object 'extracted_forces' doesn't exist)\"\n",
      "\"Unable to open object (object 'extracted_forces' doesn't exist)\"\n",
      "\"Unable to open object (object 'extracted_forces' doesn't exist)\"\n",
      "\"Unable to open object (object 'extracted_forces' doesn't exist)\"\n",
      "\"Unable to open object (object 'extracted_forces' doesn't exist)\"\n",
      "\"Unable to open object (object 'extracted_forces' doesn't exist)\"\n",
      "\"Unable to open object (object 'extracted_forces' doesn't exist)\"\n",
      "\"Unable to open object (object 'extracted_forces' doesn't exist)\"\n",
      "\"Unable to open object (object 'extracted_forces' doesn't exist)\"\n",
      "\"Unable to open object (object 'extracted_forces' doesn't exist)\"\n",
      "\"Unable to open object (object 'extracted_forces' doesn't exist)\"\n",
      "\"Unable to open object (object 'extracted_forces' doesn't exist)\"\n",
      "\"Unable to open object (object 'extracted_forces' doesn't exist)\"\n",
      "\"Unable to open object (object 'extracted_forces' doesn't exist)\"\n",
      "\"Unable to open object (object 'extracted_forces' doesn't exist)\"\n",
      "\"Unable to open object (object 'extracted_forces' doesn't exist)\"\n",
      "\"Unable to open object (object 'extracted_forces' doesn't exist)\"\n",
      "\"Unable to open object (object 'extracted_forces' doesn't exist)\"\n",
      "\"Unable to open object (object 'extracted_forces' doesn't exist)\"\n",
      "\"Unable to open object (object 'extracted_forces' doesn't exist)\"\n",
      "\"Unable to open object (object 'extracted_forces' doesn't exist)\"\n",
      "\"Unable to open object (object 'extracted_forces' doesn't exist)\"\n",
      "\"Unable to open object (object 'extracted_forces' doesn't exist)\"\n",
      "\"Unable to open object (object 'extracted_forces' doesn't exist)\"\n",
      "\"Unable to open object (object 'extracted_forces' doesn't exist)\"\n",
      "\"Unable to open object (object 'extracted_forces' doesn't exist)\"\n",
      "\"Unable to open object (object 'extracted_forces' doesn't exist)\"\n",
      "\"Unable to open object (object 'extracted_forces' doesn't exist)\"\n",
      "\"Unable to open object (object 'extracted_forces' doesn't exist)\"\n",
      "\"Unable to open object (object 'extracted_forces' doesn't exist)\"\n",
      "\"Unable to open object (object 'extracted_forces' doesn't exist)\"\n",
      "\"Unable to open object (object 'extracted_forces' doesn't exist)\"\n",
      "\"Unable to open object (object 'extracted_forces' doesn't exist)\"\n",
      "\"Unable to open object (object 'extracted_forces' doesn't exist)\"\n",
      "\"Unable to open object (object 'extracted_forces' doesn't exist)\"\n",
      "\"Unable to open object (object 'extracted_forces' doesn't exist)\"\n",
      "\"Unable to open object (object 'extracted_forces' doesn't exist)\"\n",
      "\"Unable to open object (object 'extracted_forces' doesn't exist)\"\n",
      "\"Unable to open object (object 'extracted_forces' doesn't exist)\"\n",
      "\"Unable to open object (object 'extracted_forces' doesn't exist)\"\n",
      "\"Unable to open object (object 'extracted_forces' doesn't exist)\"\n",
      "\"Unable to open object (object 'extracted_forces' doesn't exist)\"\n",
      "\"Unable to open object (object 'extracted_forces' doesn't exist)\"\n",
      "\"Unable to open object (object 'extracted_forces' doesn't exist)\"\n",
      "\"Unable to open object (object 'extracted_forces' doesn't exist)\"\n",
      "\"Unable to open object (object 'extracted_forces' doesn't exist)\"\n",
      "\"Unable to open object (object 'extracted_forces' doesn't exist)\"\n",
      "\"Unable to open object (object 'extracted_forces' doesn't exist)\"\n",
      "\"Unable to open object (object 'extracted_forces' doesn't exist)\"\n",
      "\"Unable to open object (object 'extracted_forces' doesn't exist)\"\n",
      "\"Unable to open object (object 'extracted_forces' doesn't exist)\"\n",
      "\"Unable to open object (object 'extracted_forces' doesn't exist)\"\n",
      "\"Unable to open object (object 'extracted_forces' doesn't exist)\"\n",
      "\"Unable to open object (object 'extracted_forces' doesn't exist)\"\n",
      "\"Unable to open object (object 'extracted_forces' doesn't exist)\"\n",
      "\"Unable to open object (object 'extracted_forces' doesn't exist)\"\n",
      "\"Unable to open object (object 'extracted_forces' doesn't exist)\"\n",
      "\"Unable to open object (object 'extracted_forces' doesn't exist)\"\n",
      "\"Unable to open object (object 'extracted_forces' doesn't exist)\"\n",
      "\"Unable to open object (object 'extracted_forces' doesn't exist)\"\n",
      "\"Unable to open object (object 'extracted_forces' doesn't exist)\"\n",
      "\"Unable to open object (object 'extracted_forces' doesn't exist)\"\n",
      "\"Unable to open object (object 'extracted_forces' doesn't exist)\"\n",
      "\"Unable to open object (object 'extracted_forces' doesn't exist)\"\n",
      "\"Unable to open object (object 'extracted_forces' doesn't exist)\"\n",
      "\"Unable to open object (object 'extracted_forces' doesn't exist)\"\n",
      "\"Unable to open object (object 'extracted_forces' doesn't exist)\"\n",
      "\"Unable to open object (object 'extracted_forces' doesn't exist)\"\n",
      "\"Unable to open object (object 'extracted_forces' doesn't exist)\"\n",
      "\"Unable to open object (object 'extracted_forces' doesn't exist)\"\n",
      "\"Unable to open object (object 'extracted_forces' doesn't exist)\"\n",
      "\"Unable to open object (object 'extracted_forces' doesn't exist)\"\n",
      "\"Unable to open object (object 'extracted_forces' doesn't exist)\"\n",
      "\"Unable to open object (object 'extracted_forces' doesn't exist)\"\n",
      "\"Unable to open object (object 'extracted_forces' doesn't exist)\"\n",
      "\"Unable to open object (object 'extracted_forces' doesn't exist)\"\n",
      "\"Unable to open object (object 'extracted_forces' doesn't exist)\"\n",
      "\"Unable to open object (object 'extracted_forces' doesn't exist)\"\n",
      "\"Unable to open object (object 'extracted_forces' doesn't exist)\"\n",
      "\"Unable to open object (object 'extracted_forces' doesn't exist)\"\n",
      "\"Unable to open object (object 'extracted_forces' doesn't exist)\"\n",
      "\"Unable to open object (object 'extracted_forces' doesn't exist)\"\n",
      "\"Unable to open object (object 'extracted_forces' doesn't exist)\"\n",
      "\"Unable to open object (object 'extracted_forces' doesn't exist)\"\n",
      "\"Unable to open object (object 'extracted_forces' doesn't exist)\"\n",
      "\"Unable to open object (object 'extracted_forces' doesn't exist)\"\n",
      "\"Unable to open object (object 'extracted_forces' doesn't exist)\"\n",
      "\"Unable to open object (object 'extracted_forces' doesn't exist)\"\n",
      "\"Unable to open object (object 'extracted_forces' doesn't exist)\"\n",
      "\"Unable to open object (object 'extracted_forces' doesn't exist)\"\n",
      "\"Unable to open object (object 'extracted_forces' doesn't exist)\"\n",
      "\"Unable to open object (object 'extracted_forces' doesn't exist)\"\n",
      "\"Unable to open object (object 'extracted_forces' doesn't exist)\"\n",
      "\"Unable to open object (object 'extracted_forces' doesn't exist)\"\n",
      "\"Unable to open object (object 'extracted_forces' doesn't exist)\"\n",
      "\"Unable to open object (object 'extracted_forces' doesn't exist)\"\n",
      "\"Unable to open object (object 'extracted_forces' doesn't exist)\"\n",
      "\"Unable to open object (object 'extracted_forces' doesn't exist)\"\n",
      "\"Unable to open object (object 'extracted_forces' doesn't exist)\"\n",
      "\"Unable to open object (object 'extracted_forces' doesn't exist)\"\n",
      "\"Unable to open object (object 'extracted_forces' doesn't exist)\"\n",
      "\"Unable to open object (object 'extracted_forces' doesn't exist)\"\n",
      "\"Unable to open object (object 'extracted_forces' doesn't exist)\"\n",
      "\"Unable to open object (object 'extracted_forces' doesn't exist)\"\n",
      "\"Unable to open object (object 'extracted_forces' doesn't exist)\"\n",
      "\"Unable to open object (object 'extracted_forces' doesn't exist)\"\n",
      "\"Unable to open object (object 'extracted_forces' doesn't exist)\"\n",
      "\"Unable to open object (object 'extracted_forces' doesn't exist)\"\n",
      "\"Unable to open object (object 'extracted_forces' doesn't exist)\"\n",
      "\"Unable to open object (object 'extracted_forces' doesn't exist)\"\n",
      "\"Unable to open object (object 'extracted_forces' doesn't exist)\"\n",
      "\"Unable to open object (object 'extracted_forces' doesn't exist)\"\n",
      "\"Unable to open object (object 'extracted_forces' doesn't exist)\"\n",
      "\"Unable to open object (object 'extracted_forces' doesn't exist)\"\n",
      "\"Unable to open object (object 'extracted_forces' doesn't exist)\"\n",
      "\"Unable to open object (object 'extracted_forces' doesn't exist)\"\n",
      "\"Unable to open object (object 'extracted_forces' doesn't exist)\"\n",
      "\"Unable to open object (object 'extracted_forces' doesn't exist)\"\n",
      "\"Unable to open object (object 'extracted_forces' doesn't exist)\"\n",
      "\"Unable to open object (object 'extracted_forces' doesn't exist)\"\n",
      "\"Unable to open object (object 'extracted_forces' doesn't exist)\"\n",
      "\"Unable to open object (object 'extracted_forces' doesn't exist)\"\n",
      "\"Unable to open object (object 'extracted_forces' doesn't exist)\"\n",
      "\"Unable to open object (object 'extracted_forces' doesn't exist)\"\n",
      "\"Unable to open object (object 'extracted_forces' doesn't exist)\"\n",
      "\"Unable to open object (object 'extracted_forces' doesn't exist)\"\n",
      "\"Unable to open object (object 'extracted_forces' doesn't exist)\"\n",
      "\"Unable to open object (object 'extracted_forces' doesn't exist)\"\n",
      "\"Unable to open object (object 'extracted_forces' doesn't exist)\"\n",
      "\"Unable to open object (object 'extracted_forces' doesn't exist)\"\n",
      "\"Unable to open object (object 'extracted_forces' doesn't exist)\"\n",
      "\"Unable to open object (object 'extracted_forces' doesn't exist)\"\n",
      "\"Unable to open object (object 'extracted_forces' doesn't exist)\"\n",
      "\"Unable to open object (object 'extracted_forces' doesn't exist)\"\n",
      "\"Unable to open object (object 'extracted_forces' doesn't exist)\"\n",
      "\"Unable to open object (object 'extracted_forces' doesn't exist)\"\n"
     ]
    },
    {
     "name": "stderr",
     "output_type": "stream",
     "text": [
      "[11:46:00] UFFTYPER: Unrecognized charge state for atom: 11\n"
     ]
    },
    {
     "name": "stdout",
     "output_type": "stream",
     "text": [
      "\"Unable to open object (object 'extracted_forces' doesn't exist)\"\n",
      "\"Unable to open object (object 'extracted_forces' doesn't exist)\"\n",
      "\"Unable to open object (object 'extracted_forces' doesn't exist)\"\n",
      "\"Unable to open object (object 'extracted_forces' doesn't exist)\"\n",
      "\"Unable to open object (object 'extracted_forces' doesn't exist)\"\n",
      "\"Unable to open object (object 'extracted_forces' doesn't exist)\"\n",
      "\"Unable to open object (object 'extracted_forces' doesn't exist)\"\n",
      "\"Unable to open object (object 'extracted_forces' doesn't exist)\"\n",
      "\"Unable to open object (object 'extracted_forces' doesn't exist)\"\n",
      "\"Unable to open object (object 'extracted_forces' doesn't exist)\"\n",
      "\"Unable to open object (object 'extracted_forces' doesn't exist)\"\n",
      "\"Unable to open object (object 'extracted_forces' doesn't exist)\"\n",
      "\"Unable to open object (object 'extracted_forces' doesn't exist)\"\n",
      "\"Unable to open object (object 'extracted_forces' doesn't exist)\"\n",
      "\"Unable to open object (object 'extracted_forces' doesn't exist)\"\n",
      "\"Unable to open object (object 'extracted_forces' doesn't exist)\"\n",
      "\"Unable to open object (object 'extracted_forces' doesn't exist)\"\n",
      "\"Unable to open object (object 'extracted_forces' doesn't exist)\"\n",
      "\"Unable to open object (object 'extracted_forces' doesn't exist)\"\n",
      "\"Unable to open object (object 'extracted_forces' doesn't exist)\"\n",
      "\"Unable to open object (object 'extracted_forces' doesn't exist)\"\n",
      "\"Unable to open object (object 'extracted_forces' doesn't exist)\"\n",
      "\"Unable to open object (object 'extracted_forces' doesn't exist)\"\n",
      "\"Unable to open object (object 'extracted_forces' doesn't exist)\"\n",
      "\"Unable to open object (object 'extracted_forces' doesn't exist)\"\n",
      "\"Unable to open object (object 'extracted_forces' doesn't exist)\"\n",
      "\"Unable to open object (object 'extracted_forces' doesn't exist)\"\n",
      "\"Unable to open object (object 'extracted_forces' doesn't exist)\"\n",
      "\"Unable to open object (object 'extracted_forces' doesn't exist)\"\n",
      "\"Unable to open object (object 'extracted_forces' doesn't exist)\"\n",
      "\"Unable to open object (object 'extracted_forces' doesn't exist)\"\n",
      "\"Unable to open object (object 'extracted_forces' doesn't exist)\"\n",
      "\"Unable to open object (object 'extracted_forces' doesn't exist)\"\n",
      "\"Unable to open object (object 'extracted_forces' doesn't exist)\"\n",
      "\"Unable to open object (object 'extracted_forces' doesn't exist)\"\n",
      "\"Unable to open object (object 'extracted_forces' doesn't exist)\"\n",
      "\"Unable to open object (object 'extracted_forces' doesn't exist)\"\n",
      "\"Unable to open object (object 'extracted_forces' doesn't exist)\"\n",
      "\"Unable to open object (object 'extracted_forces' doesn't exist)\"\n",
      "\"Unable to open object (object 'extracted_forces' doesn't exist)\"\n",
      "\"Unable to open object (object 'extracted_forces' doesn't exist)\"\n",
      "\"Unable to open object (object 'extracted_forces' doesn't exist)\"\n",
      "\"Unable to open object (object 'extracted_forces' doesn't exist)\"\n",
      "\"Unable to open object (object 'extracted_forces' doesn't exist)\"\n",
      "\"Unable to open object (object 'extracted_forces' doesn't exist)\"\n",
      "\"Unable to open object (object 'extracted_forces' doesn't exist)\"\n",
      "\"Unable to open object (object 'extracted_forces' doesn't exist)\"\n",
      "\"Unable to open object (object 'extracted_forces' doesn't exist)\"\n",
      "\"Unable to open object (object 'extracted_forces' doesn't exist)\"\n",
      "\"Unable to open object (object 'extracted_forces' doesn't exist)\"\n",
      "\"Unable to open object (object 'extracted_forces' doesn't exist)\"\n",
      "\"Unable to open object (object 'extracted_forces' doesn't exist)\"\n",
      "\"Unable to open object (object 'extracted_forces' doesn't exist)\"\n",
      "\"Unable to open object (object 'extracted_forces' doesn't exist)\"\n",
      "\"Unable to open object (object 'extracted_forces' doesn't exist)\"\n",
      "\"Unable to open object (object 'extracted_forces' doesn't exist)\"\n",
      "\"Unable to open object (object 'extracted_forces' doesn't exist)\"\n",
      "\"Unable to open object (object 'extracted_forces' doesn't exist)\"\n",
      "\"Unable to open object (object 'extracted_forces' doesn't exist)\"\n",
      "\"Unable to open object (object 'extracted_forces' doesn't exist)\"\n",
      "\"Unable to open object (object 'extracted_forces' doesn't exist)\"\n",
      "\"Unable to open object (object 'extracted_forces' doesn't exist)\"\n",
      "\"Unable to open object (object 'extracted_forces' doesn't exist)\"\n",
      "\"Unable to open object (object 'extracted_forces' doesn't exist)\"\n",
      "\"Unable to open object (object 'extracted_forces' doesn't exist)\"\n",
      "\"Unable to open object (object 'extracted_forces' doesn't exist)\"\n",
      "\"Unable to open object (object 'extracted_forces' doesn't exist)\"\n",
      "\"Unable to open object (object 'extracted_forces' doesn't exist)\"\n",
      "\"Unable to open object (object 'extracted_forces' doesn't exist)\"\n",
      "\"Unable to open object (object 'extracted_forces' doesn't exist)\"\n",
      "\"Unable to open object (object 'extracted_forces' doesn't exist)\"\n",
      "\"Unable to open object (object 'extracted_forces' doesn't exist)\"\n",
      "\"Unable to open object (object 'extracted_forces' doesn't exist)\"\n",
      "\"Unable to open object (object 'extracted_forces' doesn't exist)\"\n",
      "\"Unable to open object (object 'extracted_forces' doesn't exist)\"\n",
      "\"Unable to open object (object 'extracted_forces' doesn't exist)\"\n",
      "\"Unable to open object (object 'extracted_forces' doesn't exist)\"\n"
     ]
    },
    {
     "name": "stderr",
     "output_type": "stream",
     "text": [
      "[11:49:23] UFFTYPER: Unrecognized charge state for atom: 6\n"
     ]
    },
    {
     "name": "stdout",
     "output_type": "stream",
     "text": [
      "\"Unable to open object (object 'extracted_forces' doesn't exist)\"\n",
      "\"Unable to open object (object 'extracted_forces' doesn't exist)\"\n",
      "\"Unable to open object (object 'extracted_forces' doesn't exist)\"\n",
      "\"Unable to open object (object 'extracted_forces' doesn't exist)\"\n",
      "\"Unable to open object (object 'extracted_forces' doesn't exist)\"\n",
      "\"Unable to open object (object 'extracted_forces' doesn't exist)\"\n",
      "\"Unable to open object (object 'extracted_forces' doesn't exist)\"\n",
      "\"Unable to open object (object 'extracted_forces' doesn't exist)\"\n",
      "\"Unable to open object (object 'extracted_forces' doesn't exist)\"\n",
      "\"Unable to open object (object 'extracted_forces' doesn't exist)\"\n",
      "\"Unable to open object (object 'extracted_forces' doesn't exist)\"\n",
      "\"Unable to open object (object 'extracted_forces' doesn't exist)\"\n",
      "\"Unable to open object (object 'extracted_forces' doesn't exist)\"\n",
      "\"Unable to open object (object 'extracted_forces' doesn't exist)\"\n",
      "\"Unable to open object (object 'extracted_forces' doesn't exist)\"\n",
      "\"Unable to open object (object 'extracted_forces' doesn't exist)\"\n",
      "\"Unable to open object (object 'extracted_forces' doesn't exist)\"\n",
      "\"Unable to open object (object 'extracted_forces' doesn't exist)\"\n",
      "\"Unable to open object (object 'extracted_forces' doesn't exist)\"\n",
      "\"Unable to open object (object 'extracted_forces' doesn't exist)\"\n",
      "\"Unable to open object (object 'extracted_forces' doesn't exist)\"\n",
      "\"Unable to open object (object 'extracted_forces' doesn't exist)\"\n",
      "\"Unable to open object (object 'extracted_forces' doesn't exist)\"\n",
      "\"Unable to open object (object 'extracted_forces' doesn't exist)\"\n",
      "\"Unable to open object (object 'extracted_forces' doesn't exist)\"\n",
      "\"Unable to open object (object 'extracted_forces' doesn't exist)\"\n",
      "\"Unable to open object (object 'extracted_forces' doesn't exist)\"\n",
      "\"Unable to open object (object 'extracted_forces' doesn't exist)\"\n",
      "\"Unable to open object (object 'extracted_forces' doesn't exist)\"\n",
      "\"Unable to open object (object 'extracted_forces' doesn't exist)\"\n"
     ]
    },
    {
     "name": "stderr",
     "output_type": "stream",
     "text": [
      "[11:49:37] UFFTYPER: Unrecognized charge state for atom: 14\n"
     ]
    },
    {
     "name": "stdout",
     "output_type": "stream",
     "text": [
      "\"Unable to open object (object 'extracted_forces' doesn't exist)\"\n",
      "\"Unable to open object (object 'extracted_forces' doesn't exist)\"\n",
      "\"Unable to open object (object 'extracted_forces' doesn't exist)\"\n",
      "\"Unable to open object (object 'extracted_forces' doesn't exist)\"\n",
      "\"Unable to open object (object 'extracted_forces' doesn't exist)\"\n",
      "\"Unable to open object (object 'extracted_forces' doesn't exist)\"\n",
      "\"Unable to open object (object 'extracted_forces' doesn't exist)\"\n",
      "\"Unable to open object (object 'extracted_forces' doesn't exist)\"\n",
      "\"Unable to open object (object 'extracted_forces' doesn't exist)\"\n",
      "\"Unable to open object (object 'extracted_forces' doesn't exist)\"\n",
      "\"Unable to open object (object 'extracted_forces' doesn't exist)\"\n",
      "\"Unable to open object (object 'extracted_forces' doesn't exist)\"\n",
      "\"Unable to open object (object 'extracted_forces' doesn't exist)\"\n",
      "\"Unable to open object (object 'extracted_forces' doesn't exist)\"\n",
      "\"Unable to open object (object 'extracted_forces' doesn't exist)\"\n",
      "\"Unable to open object (object 'extracted_forces' doesn't exist)\"\n",
      "\"Unable to open object (object 'extracted_forces' doesn't exist)\"\n",
      "\"Unable to open object (object 'extracted_forces' doesn't exist)\"\n",
      "\"Unable to open object (object 'extracted_forces' doesn't exist)\"\n",
      "\"Unable to open object (object 'extracted_forces' doesn't exist)\"\n",
      "\"Unable to open object (object 'extracted_forces' doesn't exist)\"\n",
      "\"Unable to open object (object 'extracted_forces' doesn't exist)\"\n",
      "\"Unable to open object (object 'extracted_forces' doesn't exist)\"\n",
      "\"Unable to open object (object 'extracted_forces' doesn't exist)\"\n",
      "\"Unable to open object (object 'extracted_forces' doesn't exist)\"\n",
      "\"Unable to open object (object 'extracted_forces' doesn't exist)\"\n",
      "\"Unable to open object (object 'extracted_forces' doesn't exist)\"\n",
      "\"Unable to open object (object 'extracted_forces' doesn't exist)\"\n",
      "\"Unable to open object (object 'extracted_forces' doesn't exist)\"\n",
      "\"Unable to open object (object 'extracted_forces' doesn't exist)\"\n",
      "\"Unable to open object (object 'extracted_forces' doesn't exist)\"\n",
      "\"Unable to open object (object 'extracted_forces' doesn't exist)\"\n",
      "\"Unable to open object (object 'extracted_forces' doesn't exist)\"\n",
      "\"Unable to open object (object 'extracted_forces' doesn't exist)\"\n",
      "\"Unable to open object (object 'extracted_forces' doesn't exist)\"\n",
      "\"Unable to open object (object 'extracted_forces' doesn't exist)\"\n",
      "\"Unable to open object (object 'extracted_forces' doesn't exist)\"\n",
      "\"Unable to open object (object 'extracted_forces' doesn't exist)\"\n",
      "\"Unable to open object (object 'extracted_forces' doesn't exist)\"\n",
      "\"Unable to open object (object 'extracted_forces' doesn't exist)\"\n",
      "\"Unable to open object (object 'extracted_forces' doesn't exist)\"\n",
      "\"Unable to open object (object 'extracted_forces' doesn't exist)\"\n",
      "\"Unable to open object (object 'extracted_forces' doesn't exist)\"\n",
      "\"Unable to open object (object 'extracted_forces' doesn't exist)\"\n",
      "\"Unable to open object (object 'extracted_forces' doesn't exist)\"\n",
      "\"Unable to open object (object 'extracted_forces' doesn't exist)\"\n",
      "\"Unable to open object (object 'extracted_forces' doesn't exist)\"\n",
      "\"Unable to open object (object 'extracted_forces' doesn't exist)\"\n",
      "\"Unable to open object (object 'extracted_forces' doesn't exist)\"\n",
      "\"Unable to open object (object 'extracted_forces' doesn't exist)\"\n",
      "\"Unable to open object (object 'extracted_forces' doesn't exist)\"\n",
      "\"Unable to open object (object 'extracted_forces' doesn't exist)\"\n",
      "\"Unable to open object (object 'extracted_forces' doesn't exist)\"\n",
      "\"Unable to open object (object 'extracted_forces' doesn't exist)\"\n",
      "\"Unable to open object (object 'extracted_forces' doesn't exist)\"\n",
      "\"Unable to open object (object 'extracted_forces' doesn't exist)\"\n",
      "\"Unable to open object (object 'extracted_forces' doesn't exist)\"\n",
      "\"Unable to open object (object 'extracted_forces' doesn't exist)\"\n",
      "\"Unable to open object (object 'extracted_forces' doesn't exist)\"\n",
      "\"Unable to open object (object 'extracted_forces' doesn't exist)\"\n",
      "\"Unable to open object (object 'extracted_forces' doesn't exist)\"\n",
      "\"Unable to open object (object 'extracted_forces' doesn't exist)\"\n",
      "\"Unable to open object (object 'extracted_forces' doesn't exist)\"\n",
      "\"Unable to open object (object 'extracted_forces' doesn't exist)\"\n",
      "\"Unable to open object (object 'extracted_forces' doesn't exist)\"\n",
      "\"Unable to open object (object 'extracted_forces' doesn't exist)\"\n",
      "\"Unable to open object (object 'extracted_forces' doesn't exist)\"\n",
      "\"Unable to open object (object 'extracted_forces' doesn't exist)\"\n",
      "\"Unable to open object (object 'extracted_forces' doesn't exist)\"\n",
      "\"Unable to open object (object 'extracted_forces' doesn't exist)\"\n",
      "\"Unable to open object (object 'extracted_forces' doesn't exist)\"\n",
      "\"Unable to open object (object 'extracted_forces' doesn't exist)\"\n",
      "\"Unable to open object (object 'extracted_forces' doesn't exist)\"\n",
      "\"Unable to open object (object 'extracted_forces' doesn't exist)\"\n",
      "\"Unable to open object (object 'extracted_forces' doesn't exist)\"\n",
      "\"Unable to open object (object 'extracted_forces' doesn't exist)\"\n",
      "\"Unable to open object (object 'extracted_forces' doesn't exist)\"\n",
      "\"Unable to open object (object 'extracted_forces' doesn't exist)\"\n",
      "\"Unable to open object (object 'extracted_forces' doesn't exist)\"\n",
      "\"Unable to open object (object 'extracted_forces' doesn't exist)\"\n",
      "\"Unable to open object (object 'extracted_forces' doesn't exist)\"\n",
      "\"Unable to open object (object 'extracted_forces' doesn't exist)\"\n",
      "\"Unable to open object (object 'extracted_forces' doesn't exist)\"\n",
      "\"Unable to open object (object 'extracted_forces' doesn't exist)\"\n",
      "\"Unable to open object (object 'extracted_forces' doesn't exist)\"\n",
      "\"Unable to open object (object 'extracted_forces' doesn't exist)\"\n",
      "\"Unable to open object (object 'extracted_forces' doesn't exist)\"\n",
      "\"Unable to open object (object 'extracted_forces' doesn't exist)\"\n",
      "\"Unable to open object (object 'extracted_forces' doesn't exist)\"\n",
      "\"Unable to open object (object 'extracted_forces' doesn't exist)\"\n",
      "\"Unable to open object (object 'extracted_forces' doesn't exist)\"\n",
      "\"Unable to open object (object 'extracted_forces' doesn't exist)\"\n",
      "\"Unable to open object (object 'extracted_forces' doesn't exist)\"\n",
      "\"Unable to open object (object 'extracted_forces' doesn't exist)\"\n",
      "\"Unable to open object (object 'extracted_forces' doesn't exist)\"\n",
      "\"Unable to open object (object 'extracted_forces' doesn't exist)\"\n",
      "\"Unable to open object (object 'extracted_forces' doesn't exist)\"\n",
      "\"Unable to open object (object 'extracted_forces' doesn't exist)\"\n",
      "\"Unable to open object (object 'extracted_forces' doesn't exist)\"\n",
      "\"Unable to open object (object 'extracted_forces' doesn't exist)\"\n",
      "\"Unable to open object (object 'extracted_forces' doesn't exist)\"\n",
      "\"Unable to open object (object 'extracted_forces' doesn't exist)\"\n",
      "\"Unable to open object (object 'extracted_forces' doesn't exist)\"\n",
      "\"Unable to open object (object 'extracted_forces' doesn't exist)\"\n",
      "\"Unable to open object (object 'extracted_forces' doesn't exist)\"\n",
      "\"Unable to open object (object 'extracted_forces' doesn't exist)\"\n",
      "\"Unable to open object (object 'extracted_forces' doesn't exist)\"\n",
      "\"Unable to open object (object 'extracted_forces' doesn't exist)\"\n",
      "\"Unable to open object (object 'extracted_forces' doesn't exist)\"\n",
      "\"Unable to open object (object 'extracted_forces' doesn't exist)\"\n",
      "\"Unable to open object (object 'extracted_forces' doesn't exist)\"\n",
      "\"Unable to open object (object 'extracted_forces' doesn't exist)\"\n",
      "\"Unable to open object (object 'extracted_forces' doesn't exist)\"\n",
      "\"Unable to open object (object 'extracted_forces' doesn't exist)\"\n",
      "\"Unable to open object (object 'extracted_forces' doesn't exist)\"\n",
      "\"Unable to open object (object 'extracted_forces' doesn't exist)\"\n",
      "\"Unable to open object (object 'extracted_forces' doesn't exist)\"\n",
      "\"Unable to open object (object 'extracted_forces' doesn't exist)\"\n",
      "\"Unable to open object (object 'extracted_forces' doesn't exist)\"\n",
      "\"Unable to open object (object 'extracted_forces' doesn't exist)\"\n",
      "\"Unable to open object (object 'extracted_forces' doesn't exist)\"\n",
      "\"Unable to open object (object 'extracted_forces' doesn't exist)\"\n",
      "\"Unable to open object (object 'extracted_forces' doesn't exist)\"\n",
      "\"Unable to open object (object 'extracted_forces' doesn't exist)\"\n",
      "\"Unable to open object (object 'extracted_forces' doesn't exist)\"\n",
      "\"Unable to open object (object 'extracted_forces' doesn't exist)\"\n",
      "\"Unable to open object (object 'extracted_forces' doesn't exist)\"\n",
      "\"Unable to open object (object 'extracted_forces' doesn't exist)\"\n",
      "\"Unable to open object (object 'extracted_forces' doesn't exist)\"\n",
      "\"Unable to open object (object 'extracted_forces' doesn't exist)\"\n",
      "\"Unable to open object (object 'extracted_forces' doesn't exist)\"\n",
      "\"Unable to open object (object 'extracted_forces' doesn't exist)\"\n",
      "\"Unable to open object (object 'extracted_forces' doesn't exist)\"\n",
      "\"Unable to open object (object 'extracted_forces' doesn't exist)\"\n",
      "\"Unable to open object (object 'extracted_forces' doesn't exist)\"\n",
      "\"Unable to open object (object 'extracted_forces' doesn't exist)\"\n",
      "\"Unable to open object (object 'extracted_forces' doesn't exist)\"\n",
      "\"Unable to open object (object 'extracted_forces' doesn't exist)\"\n",
      "\"Unable to open object (object 'extracted_forces' doesn't exist)\"\n",
      "\"Unable to open object (object 'extracted_forces' doesn't exist)\"\n",
      "\"Unable to open object (object 'extracted_forces' doesn't exist)\"\n",
      "\"Unable to open object (object 'extracted_forces' doesn't exist)\"\n",
      "\"Unable to open object (object 'extracted_forces' doesn't exist)\"\n",
      "\"Unable to open object (object 'extracted_forces' doesn't exist)\"\n",
      "\"Unable to open object (object 'extracted_forces' doesn't exist)\"\n",
      "\"Unable to open object (object 'extracted_forces' doesn't exist)\"\n",
      "\"Unable to open object (object 'extracted_forces' doesn't exist)\"\n",
      "\"Unable to open object (object 'extracted_forces' doesn't exist)\"\n",
      "\"Unable to open object (object 'extracted_forces' doesn't exist)\"\n",
      "\"Unable to open object (object 'extracted_forces' doesn't exist)\"\n",
      "\"Unable to open object (object 'extracted_forces' doesn't exist)\"\n",
      "\"Unable to open object (object 'extracted_forces' doesn't exist)\"\n",
      "\"Unable to open object (object 'extracted_forces' doesn't exist)\"\n",
      "\"Unable to open object (object 'extracted_forces' doesn't exist)\"\n",
      "\"Unable to open object (object 'extracted_forces' doesn't exist)\"\n",
      "\"Unable to open object (object 'extracted_forces' doesn't exist)\"\n",
      "\"Unable to open object (object 'extracted_forces' doesn't exist)\"\n",
      "\"Unable to open object (object 'extracted_forces' doesn't exist)\"\n",
      "\"Unable to open object (object 'extracted_forces' doesn't exist)\"\n",
      "\"Unable to open object (object 'extracted_forces' doesn't exist)\"\n",
      "\"Unable to open object (object 'extracted_forces' doesn't exist)\"\n",
      "\"Unable to open object (object 'extracted_forces' doesn't exist)\"\n",
      "\"Unable to open object (object 'extracted_forces' doesn't exist)\"\n",
      "\"Unable to open object (object 'extracted_forces' doesn't exist)\"\n",
      "\"Unable to open object (object 'extracted_forces' doesn't exist)\"\n",
      "\"Unable to open object (object 'extracted_forces' doesn't exist)\"\n",
      "\"Unable to open object (object 'extracted_forces' doesn't exist)\"\n",
      "\"Unable to open object (object 'extracted_forces' doesn't exist)\"\n",
      "\"Unable to open object (object 'extracted_forces' doesn't exist)\"\n",
      "\"Unable to open object (object 'extracted_forces' doesn't exist)\"\n",
      "\"Unable to open object (object 'extracted_forces' doesn't exist)\"\n",
      "\"Unable to open object (object 'extracted_forces' doesn't exist)\"\n",
      "\"Unable to open object (object 'extracted_forces' doesn't exist)\"\n",
      "\"Unable to open object (object 'extracted_forces' doesn't exist)\"\n",
      "\"Unable to open object (object 'extracted_forces' doesn't exist)\"\n",
      "\"Unable to open object (object 'extracted_forces' doesn't exist)\"\n",
      "\"Unable to open object (object 'extracted_forces' doesn't exist)\"\n",
      "\"Unable to open object (object 'extracted_forces' doesn't exist)\"\n",
      "\"Unable to open object (object 'extracted_forces' doesn't exist)\"\n",
      "\"Unable to open object (object 'extracted_forces' doesn't exist)\"\n",
      "\"Unable to open object (object 'extracted_forces' doesn't exist)\"\n"
     ]
    },
    {
     "name": "stderr",
     "output_type": "stream",
     "text": [
      "[11:54:09] UFFTYPER: Unrecognized charge state for atom: 19\n"
     ]
    },
    {
     "name": "stdout",
     "output_type": "stream",
     "text": [
      "\"Unable to open object (object 'extracted_forces' doesn't exist)\"\n",
      "\"Unable to open object (object 'extracted_forces' doesn't exist)\"\n",
      "\"Unable to open object (object 'extracted_forces' doesn't exist)\"\n",
      "\"Unable to open object (object 'extracted_forces' doesn't exist)\"\n",
      "\"Unable to open object (object 'extracted_forces' doesn't exist)\"\n",
      "\"Unable to open object (object 'extracted_forces' doesn't exist)\"\n",
      "\"Unable to open object (object 'extracted_forces' doesn't exist)\"\n",
      "\"Unable to open object (object 'extracted_forces' doesn't exist)\"\n",
      "\"Unable to open object (object 'extracted_forces' doesn't exist)\"\n",
      "\"Unable to open object (object 'extracted_forces' doesn't exist)\"\n",
      "\"Unable to open object (object 'extracted_forces' doesn't exist)\"\n",
      "\"Unable to open object (object 'extracted_forces' doesn't exist)\"\n",
      "\"Unable to open object (object 'extracted_forces' doesn't exist)\"\n",
      "\"Unable to open object (object 'extracted_forces' doesn't exist)\"\n",
      "\"Unable to open object (object 'extracted_forces' doesn't exist)\"\n",
      "\"Unable to open object (object 'extracted_forces' doesn't exist)\"\n",
      "\"Unable to open object (object 'extracted_forces' doesn't exist)\"\n",
      "\"Unable to open object (object 'extracted_forces' doesn't exist)\"\n",
      "\"Unable to open object (object 'extracted_forces' doesn't exist)\"\n",
      "\"Unable to open object (object 'extracted_forces' doesn't exist)\"\n",
      "\"Unable to open object (object 'extracted_forces' doesn't exist)\"\n",
      "\"Unable to open object (object 'extracted_forces' doesn't exist)\"\n",
      "\"Unable to open object (object 'extracted_forces' doesn't exist)\"\n",
      "\"Unable to open object (object 'extracted_forces' doesn't exist)\"\n",
      "\"Unable to open object (object 'extracted_forces' doesn't exist)\"\n",
      "\"Unable to open object (object 'extracted_forces' doesn't exist)\"\n",
      "\"Unable to open object (object 'extracted_forces' doesn't exist)\"\n",
      "\"Unable to open object (object 'extracted_forces' doesn't exist)\"\n",
      "\"Unable to open object (object 'extracted_forces' doesn't exist)\"\n",
      "\"Unable to open object (object 'extracted_forces' doesn't exist)\"\n",
      "\"Unable to open object (object 'extracted_forces' doesn't exist)\"\n",
      "\"Unable to open object (object 'extracted_forces' doesn't exist)\"\n",
      "\"Unable to open object (object 'extracted_forces' doesn't exist)\"\n",
      "\"Unable to open object (object 'extracted_forces' doesn't exist)\"\n",
      "\"Unable to open object (object 'extracted_forces' doesn't exist)\"\n",
      "\"Unable to open object (object 'extracted_forces' doesn't exist)\"\n",
      "\"Unable to open object (object 'extracted_forces' doesn't exist)\"\n",
      "\"Unable to open object (object 'extracted_forces' doesn't exist)\"\n",
      "\"Unable to open object (object 'extracted_forces' doesn't exist)\"\n",
      "\"Unable to open object (object 'extracted_forces' doesn't exist)\"\n",
      "\"Unable to open object (object 'extracted_forces' doesn't exist)\"\n",
      "\"Unable to open object (object 'extracted_forces' doesn't exist)\"\n",
      "\"Unable to open object (object 'extracted_forces' doesn't exist)\"\n",
      "\"Unable to open object (object 'extracted_forces' doesn't exist)\"\n",
      "\"Unable to open object (object 'extracted_forces' doesn't exist)\"\n",
      "\"Unable to open object (object 'extracted_forces' doesn't exist)\"\n",
      "\"Unable to open object (object 'extracted_forces' doesn't exist)\"\n",
      "\"Unable to open object (object 'extracted_forces' doesn't exist)\"\n",
      "\"Unable to open object (object 'extracted_forces' doesn't exist)\"\n",
      "\"Unable to open object (object 'extracted_forces' doesn't exist)\"\n"
     ]
    },
    {
     "name": "stderr",
     "output_type": "stream",
     "text": [
      "[11:54:12] UFFTYPER: Unrecognized charge state for atom: 9\n"
     ]
    },
    {
     "name": "stdout",
     "output_type": "stream",
     "text": [
      "\"Unable to open object (object 'extracted_forces' doesn't exist)\"\n",
      "\"Unable to open object (object 'extracted_forces' doesn't exist)\"\n",
      "\"Unable to open object (object 'extracted_forces' doesn't exist)\"\n",
      "\"Unable to open object (object 'extracted_forces' doesn't exist)\"\n",
      "\"Unable to open object (object 'extracted_forces' doesn't exist)\"\n",
      "\"Unable to open object (object 'extracted_forces' doesn't exist)\"\n",
      "\"Unable to open object (object 'extracted_forces' doesn't exist)\"\n",
      "\"Unable to open object (object 'extracted_forces' doesn't exist)\"\n",
      "\"Unable to open object (object 'extracted_forces' doesn't exist)\"\n",
      "\"Unable to open object (object 'extracted_forces' doesn't exist)\"\n",
      "\"Unable to open object (object 'extracted_forces' doesn't exist)\"\n",
      "\"Unable to open object (object 'extracted_forces' doesn't exist)\"\n",
      "\"Unable to open object (object 'extracted_forces' doesn't exist)\"\n",
      "\"Unable to open object (object 'extracted_forces' doesn't exist)\"\n",
      "\"Unable to open object (object 'extracted_forces' doesn't exist)\"\n",
      "\"Unable to open object (object 'extracted_forces' doesn't exist)\"\n",
      "\"Unable to open object (object 'extracted_forces' doesn't exist)\"\n",
      "\"Unable to open object (object 'extracted_forces' doesn't exist)\"\n",
      "\"Unable to open object (object 'extracted_forces' doesn't exist)\"\n",
      "\"Unable to open object (object 'extracted_forces' doesn't exist)\"\n",
      "\"Unable to open object (object 'extracted_forces' doesn't exist)\"\n",
      "\"Unable to open object (object 'extracted_forces' doesn't exist)\"\n",
      "\"Unable to open object (object 'extracted_forces' doesn't exist)\"\n",
      "\"Unable to open object (object 'extracted_forces' doesn't exist)\"\n",
      "\"Unable to open object (object 'extracted_forces' doesn't exist)\"\n",
      "\"Unable to open object (object 'extracted_forces' doesn't exist)\"\n",
      "\"Unable to open object (object 'extracted_forces' doesn't exist)\"\n",
      "\"Unable to open object (object 'extracted_forces' doesn't exist)\"\n",
      "\"Unable to open object (object 'extracted_forces' doesn't exist)\"\n",
      "\"Unable to open object (object 'extracted_forces' doesn't exist)\"\n",
      "\"Unable to open object (object 'extracted_forces' doesn't exist)\"\n",
      "\"Unable to open object (object 'extracted_forces' doesn't exist)\"\n",
      "\"Unable to open object (object 'extracted_forces' doesn't exist)\"\n",
      "\"Unable to open object (object 'extracted_forces' doesn't exist)\"\n",
      "\"Unable to open object (object 'extracted_forces' doesn't exist)\"\n",
      "\"Unable to open object (object 'extracted_forces' doesn't exist)\"\n",
      "\"Unable to open object (object 'extracted_forces' doesn't exist)\"\n",
      "\"Unable to open object (object 'extracted_forces' doesn't exist)\"\n",
      "\"Unable to open object (object 'extracted_forces' doesn't exist)\"\n",
      "\"Unable to open object (object 'extracted_forces' doesn't exist)\"\n",
      "\"Unable to open object (object 'extracted_forces' doesn't exist)\"\n",
      "\"Unable to open object (object 'extracted_forces' doesn't exist)\"\n",
      "\"Unable to open object (object 'extracted_forces' doesn't exist)\"\n",
      "\"Unable to open object (object 'extracted_forces' doesn't exist)\"\n",
      "\"Unable to open object (object 'extracted_forces' doesn't exist)\"\n",
      "\"Unable to open object (object 'extracted_forces' doesn't exist)\"\n",
      "\"Unable to open object (object 'extracted_forces' doesn't exist)\"\n",
      "\"Unable to open object (object 'extracted_forces' doesn't exist)\"\n",
      "\"Unable to open object (object 'extracted_forces' doesn't exist)\"\n",
      "\"Unable to open object (object 'extracted_forces' doesn't exist)\"\n",
      "\"Unable to open object (object 'extracted_forces' doesn't exist)\"\n"
     ]
    },
    {
     "name": "stderr",
     "output_type": "stream",
     "text": [
      "[11:55:00] UFFTYPER: Unrecognized charge state for atom: 8\n"
     ]
    },
    {
     "name": "stdout",
     "output_type": "stream",
     "text": [
      "\"Unable to open object (object 'extracted_forces' doesn't exist)\"\n",
      "\"Unable to open object (object 'extracted_forces' doesn't exist)\"\n",
      "\"Unable to open object (object 'extracted_forces' doesn't exist)\"\n",
      "\"Unable to open object (object 'extracted_forces' doesn't exist)\"\n",
      "\"Unable to open object (object 'extracted_forces' doesn't exist)\"\n",
      "\"Unable to open object (object 'extracted_forces' doesn't exist)\"\n",
      "\"Unable to open object (object 'extracted_forces' doesn't exist)\"\n",
      "\"Unable to open object (object 'extracted_forces' doesn't exist)\"\n",
      "\"Unable to open object (object 'extracted_forces' doesn't exist)\"\n",
      "\"Unable to open object (object 'extracted_forces' doesn't exist)\"\n",
      "\"Unable to open object (object 'extracted_forces' doesn't exist)\"\n",
      "\"Unable to open object (object 'extracted_forces' doesn't exist)\"\n",
      "\"Unable to open object (object 'extracted_forces' doesn't exist)\"\n",
      "\"Unable to open object (object 'extracted_forces' doesn't exist)\"\n",
      "\"Unable to open object (object 'extracted_forces' doesn't exist)\"\n",
      "\"Unable to open object (object 'extracted_forces' doesn't exist)\"\n",
      "\"Unable to open object (object 'extracted_forces' doesn't exist)\"\n",
      "\"Unable to open object (object 'extracted_forces' doesn't exist)\"\n",
      "\"Unable to open object (object 'extracted_forces' doesn't exist)\"\n",
      "\"Unable to open object (object 'extracted_forces' doesn't exist)\"\n",
      "\"Unable to open object (object 'extracted_forces' doesn't exist)\"\n",
      "\"Unable to open object (object 'extracted_forces' doesn't exist)\"\n",
      "\"Unable to open object (object 'extracted_forces' doesn't exist)\"\n",
      "\"Unable to open object (object 'extracted_forces' doesn't exist)\"\n",
      "\"Unable to open object (object 'extracted_forces' doesn't exist)\"\n",
      "\"Unable to open object (object 'extracted_forces' doesn't exist)\"\n",
      "\"Unable to open object (object 'extracted_forces' doesn't exist)\"\n",
      "\"Unable to open object (object 'extracted_forces' doesn't exist)\"\n",
      "\"Unable to open object (object 'extracted_forces' doesn't exist)\"\n",
      "\"Unable to open object (object 'extracted_forces' doesn't exist)\"\n",
      "\"Unable to open object (object 'extracted_forces' doesn't exist)\"\n",
      "\"Unable to open object (object 'extracted_forces' doesn't exist)\"\n",
      "\"Unable to open object (object 'extracted_forces' doesn't exist)\"\n",
      "\"Unable to open object (object 'extracted_forces' doesn't exist)\"\n",
      "\"Unable to open object (object 'extracted_forces' doesn't exist)\"\n",
      "\"Unable to open object (object 'extracted_forces' doesn't exist)\"\n",
      "\"Unable to open object (object 'extracted_forces' doesn't exist)\"\n",
      "\"Unable to open object (object 'extracted_forces' doesn't exist)\"\n",
      "\"Unable to open object (object 'extracted_forces' doesn't exist)\"\n",
      "\"Unable to open object (object 'extracted_forces' doesn't exist)\"\n",
      "\"Unable to open object (object 'extracted_forces' doesn't exist)\"\n",
      "\"Unable to open object (object 'extracted_forces' doesn't exist)\"\n",
      "\"Unable to open object (object 'extracted_forces' doesn't exist)\"\n",
      "\"Unable to open object (object 'extracted_forces' doesn't exist)\"\n",
      "\"Unable to open object (object 'extracted_forces' doesn't exist)\"\n",
      "\"Unable to open object (object 'extracted_forces' doesn't exist)\"\n",
      "\"Unable to open object (object 'extracted_forces' doesn't exist)\"\n",
      "\"Unable to open object (object 'extracted_forces' doesn't exist)\"\n",
      "\"Unable to open object (object 'extracted_forces' doesn't exist)\"\n",
      "\"Unable to open object (object 'extracted_forces' doesn't exist)\"\n",
      "\"Unable to open object (object 'extracted_forces' doesn't exist)\"\n",
      "\"Unable to open object (object 'extracted_forces' doesn't exist)\"\n",
      "\"Unable to open object (object 'extracted_forces' doesn't exist)\"\n",
      "\"Unable to open object (object 'extracted_forces' doesn't exist)\"\n",
      "\"Unable to open object (object 'extracted_forces' doesn't exist)\"\n",
      "\"Unable to open object (object 'extracted_forces' doesn't exist)\"\n",
      "\"Unable to open object (object 'extracted_forces' doesn't exist)\"\n",
      "\"Unable to open object (object 'extracted_forces' doesn't exist)\"\n",
      "\"Unable to open object (object 'extracted_forces' doesn't exist)\"\n",
      "\"Unable to open object (object 'extracted_forces' doesn't exist)\"\n",
      "\"Unable to open object (object 'extracted_forces' doesn't exist)\"\n",
      "\"Unable to open object (object 'extracted_forces' doesn't exist)\"\n",
      "\"Unable to open object (object 'extracted_forces' doesn't exist)\"\n",
      "\"Unable to open object (object 'extracted_forces' doesn't exist)\"\n",
      "\"Unable to open object (object 'extracted_forces' doesn't exist)\"\n",
      "\"Unable to open object (object 'extracted_forces' doesn't exist)\"\n",
      "\"Unable to open object (object 'extracted_forces' doesn't exist)\"\n",
      "\"Unable to open object (object 'extracted_forces' doesn't exist)\"\n",
      "\"Unable to open object (object 'extracted_forces' doesn't exist)\"\n",
      "\"Unable to open object (object 'extracted_forces' doesn't exist)\"\n",
      "\"Unable to open object (object 'extracted_forces' doesn't exist)\"\n",
      "\"Unable to open object (object 'extracted_forces' doesn't exist)\"\n",
      "\"Unable to open object (object 'extracted_forces' doesn't exist)\"\n",
      "\"Unable to open object (object 'extracted_forces' doesn't exist)\"\n",
      "\"Unable to open object (object 'extracted_forces' doesn't exist)\"\n",
      "\"Unable to open object (object 'extracted_forces' doesn't exist)\"\n",
      "\"Unable to open object (object 'extracted_forces' doesn't exist)\"\n",
      "\"Unable to open object (object 'extracted_forces' doesn't exist)\"\n",
      "\"Unable to open object (object 'extracted_forces' doesn't exist)\"\n",
      "\"Unable to open object (object 'extracted_forces' doesn't exist)\"\n",
      "\"Unable to open object (object 'extracted_forces' doesn't exist)\"\n",
      "\"Unable to open object (object 'extracted_forces' doesn't exist)\"\n",
      "\"Unable to open object (object 'extracted_forces' doesn't exist)\"\n",
      "\"Unable to open object (object 'extracted_forces' doesn't exist)\"\n",
      "\"Unable to open object (object 'extracted_forces' doesn't exist)\"\n"
     ]
    },
    {
     "name": "stderr",
     "output_type": "stream",
     "text": [
      "[11:56:19] UFFTYPER: Unrecognized charge state for atom: 1\n"
     ]
    },
    {
     "name": "stdout",
     "output_type": "stream",
     "text": [
      "\"Unable to open object (object 'extracted_forces' doesn't exist)\"\n",
      "\"Unable to open object (object 'extracted_forces' doesn't exist)\"\n",
      "\"Unable to open object (object 'extracted_forces' doesn't exist)\"\n",
      "\"Unable to open object (object 'extracted_forces' doesn't exist)\"\n",
      "\"Unable to open object (object 'extracted_forces' doesn't exist)\"\n",
      "\"Unable to open object (object 'extracted_forces' doesn't exist)\"\n",
      "\"Unable to open object (object 'extracted_forces' doesn't exist)\"\n",
      "\"Unable to open object (object 'extracted_forces' doesn't exist)\"\n",
      "\"Unable to open object (object 'extracted_forces' doesn't exist)\"\n",
      "\"Unable to open object (object 'extracted_forces' doesn't exist)\"\n",
      "\"Unable to open object (object 'extracted_forces' doesn't exist)\"\n",
      "\"Unable to open object (object 'extracted_forces' doesn't exist)\"\n",
      "\"Unable to open object (object 'extracted_forces' doesn't exist)\"\n",
      "\"Unable to open object (object 'extracted_forces' doesn't exist)\"\n",
      "\"Unable to open object (object 'extracted_forces' doesn't exist)\"\n",
      "\"Unable to open object (object 'extracted_forces' doesn't exist)\"\n",
      "\"Unable to open object (object 'extracted_forces' doesn't exist)\"\n",
      "\"Unable to open object (object 'extracted_forces' doesn't exist)\"\n",
      "\"Unable to open object (object 'extracted_forces' doesn't exist)\"\n",
      "\"Unable to open object (object 'extracted_forces' doesn't exist)\"\n",
      "\"Unable to open object (object 'extracted_forces' doesn't exist)\"\n",
      "\"Unable to open object (object 'extracted_forces' doesn't exist)\"\n",
      "\"Unable to open object (object 'extracted_forces' doesn't exist)\"\n",
      "\"Unable to open object (object 'extracted_forces' doesn't exist)\"\n",
      "\"Unable to open object (object 'extracted_forces' doesn't exist)\"\n",
      "\"Unable to open object (object 'extracted_forces' doesn't exist)\"\n",
      "\"Unable to open object (object 'extracted_forces' doesn't exist)\"\n",
      "\"Unable to open object (object 'extracted_forces' doesn't exist)\"\n",
      "\"Unable to open object (object 'extracted_forces' doesn't exist)\"\n"
     ]
    },
    {
     "name": "stderr",
     "output_type": "stream",
     "text": [
      "[11:58:06] UFFTYPER: Unrecognized charge state for atom: 9\n"
     ]
    },
    {
     "name": "stdout",
     "output_type": "stream",
     "text": [
      "\"Unable to open object (object 'extracted_forces' doesn't exist)\"\n",
      "\"Unable to open object (object 'extracted_forces' doesn't exist)\"\n",
      "\"Unable to open object (object 'extracted_forces' doesn't exist)\"\n",
      "\"Unable to open object (object 'extracted_forces' doesn't exist)\"\n",
      "\"Unable to open object (object 'extracted_forces' doesn't exist)\"\n",
      "\"Unable to open object (object 'extracted_forces' doesn't exist)\"\n",
      "\"Unable to open object (object 'extracted_forces' doesn't exist)\"\n",
      "\"Unable to open object (object 'extracted_forces' doesn't exist)\"\n",
      "\"Unable to open object (object 'extracted_forces' doesn't exist)\"\n",
      "\"Unable to open object (object 'extracted_forces' doesn't exist)\"\n",
      "\"Unable to open object (object 'extracted_forces' doesn't exist)\"\n",
      "\"Unable to open object (object 'extracted_forces' doesn't exist)\"\n",
      "\"Unable to open object (object 'extracted_forces' doesn't exist)\"\n",
      "\"Unable to open object (object 'extracted_forces' doesn't exist)\"\n",
      "\"Unable to open object (object 'extracted_forces' doesn't exist)\"\n",
      "\"Unable to open object (object 'extracted_forces' doesn't exist)\"\n",
      "\"Unable to open object (object 'extracted_forces' doesn't exist)\"\n",
      "\"Unable to open object (object 'extracted_forces' doesn't exist)\"\n",
      "\"Unable to open object (object 'extracted_forces' doesn't exist)\"\n",
      "\"Unable to open object (object 'extracted_forces' doesn't exist)\"\n",
      "\"Unable to open object (object 'extracted_forces' doesn't exist)\"\n",
      "\"Unable to open object (object 'extracted_forces' doesn't exist)\"\n",
      "\"Unable to open object (object 'extracted_forces' doesn't exist)\"\n",
      "\"Unable to open object (object 'extracted_forces' doesn't exist)\"\n",
      "\"Unable to open object (object 'extracted_forces' doesn't exist)\"\n",
      "\"Unable to open object (object 'extracted_forces' doesn't exist)\"\n",
      "\"Unable to open object (object 'extracted_forces' doesn't exist)\"\n",
      "\"Unable to open object (object 'extracted_forces' doesn't exist)\"\n",
      "\"Unable to open object (object 'extracted_forces' doesn't exist)\"\n",
      "\"Unable to open object (object 'extracted_forces' doesn't exist)\"\n",
      "\"Unable to open object (object 'extracted_forces' doesn't exist)\"\n",
      "\"Unable to open object (object 'extracted_forces' doesn't exist)\"\n",
      "\"Unable to open object (object 'extracted_forces' doesn't exist)\"\n",
      "\"Unable to open object (object 'extracted_forces' doesn't exist)\"\n",
      "\"Unable to open object (object 'extracted_forces' doesn't exist)\"\n",
      "\"Unable to open object (object 'extracted_forces' doesn't exist)\"\n",
      "\"Unable to open object (object 'extracted_forces' doesn't exist)\"\n",
      "\"Unable to open object (object 'extracted_forces' doesn't exist)\"\n",
      "\"Unable to open object (object 'extracted_forces' doesn't exist)\"\n",
      "\"Unable to open object (object 'extracted_forces' doesn't exist)\"\n",
      "\"Unable to open object (object 'extracted_forces' doesn't exist)\"\n",
      "\"Unable to open object (object 'extracted_forces' doesn't exist)\"\n",
      "\"Unable to open object (object 'extracted_forces' doesn't exist)\"\n",
      "\"Unable to open object (object 'extracted_forces' doesn't exist)\"\n",
      "\"Unable to open object (object 'extracted_forces' doesn't exist)\"\n",
      "\"Unable to open object (object 'extracted_forces' doesn't exist)\"\n",
      "\"Unable to open object (object 'extracted_forces' doesn't exist)\"\n",
      "\"Unable to open object (object 'extracted_forces' doesn't exist)\"\n",
      "\"Unable to open object (object 'extracted_forces' doesn't exist)\"\n",
      "\"Unable to open object (object 'extracted_forces' doesn't exist)\"\n",
      "\"Unable to open object (object 'extracted_forces' doesn't exist)\"\n",
      "\"Unable to open object (object 'extracted_forces' doesn't exist)\"\n",
      "\"Unable to open object (object 'extracted_forces' doesn't exist)\"\n",
      "\"Unable to open object (object 'extracted_forces' doesn't exist)\"\n",
      "\"Unable to open object (object 'extracted_forces' doesn't exist)\"\n",
      "\"Unable to open object (object 'extracted_forces' doesn't exist)\"\n",
      "\"Unable to open object (object 'extracted_forces' doesn't exist)\"\n",
      "\"Unable to open object (object 'extracted_forces' doesn't exist)\"\n",
      "\"Unable to open object (object 'extracted_forces' doesn't exist)\"\n",
      "\"Unable to open object (object 'extracted_forces' doesn't exist)\"\n",
      "\"Unable to open object (object 'extracted_forces' doesn't exist)\"\n",
      "\"Unable to open object (object 'extracted_forces' doesn't exist)\"\n",
      "\"Unable to open object (object 'extracted_forces' doesn't exist)\"\n",
      "\"Unable to open object (object 'extracted_forces' doesn't exist)\"\n",
      "\"Unable to open object (object 'extracted_forces' doesn't exist)\"\n",
      "\"Unable to open object (object 'extracted_forces' doesn't exist)\"\n",
      "\"Unable to open object (object 'extracted_forces' doesn't exist)\"\n",
      "\"Unable to open object (object 'extracted_forces' doesn't exist)\"\n",
      "\"Unable to open object (object 'extracted_forces' doesn't exist)\"\n",
      "\"Unable to open object (object 'extracted_forces' doesn't exist)\"\n",
      "\"Unable to open object (object 'extracted_forces' doesn't exist)\"\n",
      "\"Unable to open object (object 'extracted_forces' doesn't exist)\"\n",
      "\"Unable to open object (object 'extracted_forces' doesn't exist)\"\n",
      "\"Unable to open object (object 'extracted_forces' doesn't exist)\"\n",
      "\"Unable to open object (object 'extracted_forces' doesn't exist)\"\n",
      "\"Unable to open object (object 'extracted_forces' doesn't exist)\"\n",
      "\"Unable to open object (object 'extracted_forces' doesn't exist)\"\n",
      "\"Unable to open object (object 'extracted_forces' doesn't exist)\"\n",
      "\"Unable to open object (object 'extracted_forces' doesn't exist)\"\n",
      "\"Unable to open object (object 'extracted_forces' doesn't exist)\"\n",
      "\"Unable to open object (object 'extracted_forces' doesn't exist)\"\n",
      "\"Unable to open object (object 'extracted_forces' doesn't exist)\"\n",
      "\"Unable to open object (object 'extracted_forces' doesn't exist)\"\n",
      "\"Unable to open object (object 'extracted_forces' doesn't exist)\"\n",
      "\"Unable to open object (object 'extracted_forces' doesn't exist)\"\n",
      "\"Unable to open object (object 'extracted_forces' doesn't exist)\"\n",
      "\"Unable to open object (object 'extracted_forces' doesn't exist)\"\n",
      "\"Unable to open object (object 'extracted_forces' doesn't exist)\"\n",
      "\"Unable to open object (object 'extracted_forces' doesn't exist)\"\n",
      "\"Unable to open object (object 'extracted_forces' doesn't exist)\"\n",
      "\"Unable to open object (object 'extracted_forces' doesn't exist)\"\n",
      "\"Unable to open object (object 'extracted_forces' doesn't exist)\"\n",
      "\"Unable to open object (object 'extracted_forces' doesn't exist)\"\n",
      "\"Unable to open object (object 'extracted_forces' doesn't exist)\"\n",
      "\"Unable to open object (object 'extracted_forces' doesn't exist)\"\n",
      "\"Unable to open object (object 'extracted_forces' doesn't exist)\"\n",
      "\"Unable to open object (object 'extracted_forces' doesn't exist)\"\n",
      "\"Unable to open object (object 'extracted_forces' doesn't exist)\"\n",
      "\"Unable to open object (object 'extracted_forces' doesn't exist)\"\n",
      "\"Unable to open object (object 'extracted_forces' doesn't exist)\"\n",
      "\"Unable to open object (object 'extracted_forces' doesn't exist)\"\n",
      "\"Unable to open object (object 'extracted_forces' doesn't exist)\"\n",
      "\"Unable to open object (object 'extracted_forces' doesn't exist)\"\n",
      "\"Unable to open object (object 'extracted_forces' doesn't exist)\"\n",
      "\"Unable to open object (object 'extracted_forces' doesn't exist)\"\n",
      "\"Unable to open object (object 'extracted_forces' doesn't exist)\"\n",
      "\"Unable to open object (object 'extracted_forces' doesn't exist)\"\n",
      "\"Unable to open object (object 'extracted_forces' doesn't exist)\"\n",
      "\"Unable to open object (object 'extracted_forces' doesn't exist)\"\n",
      "\"Unable to open object (object 'extracted_forces' doesn't exist)\"\n",
      "\"Unable to open object (object 'extracted_forces' doesn't exist)\"\n",
      "\"Unable to open object (object 'extracted_forces' doesn't exist)\"\n",
      "\"Unable to open object (object 'extracted_forces' doesn't exist)\"\n",
      "\"Unable to open object (object 'extracted_forces' doesn't exist)\"\n",
      "\"Unable to open object (object 'extracted_forces' doesn't exist)\"\n",
      "\"Unable to open object (object 'extracted_forces' doesn't exist)\"\n",
      "\"Unable to open object (object 'extracted_forces' doesn't exist)\"\n",
      "\"Unable to open object (object 'extracted_forces' doesn't exist)\"\n",
      "\"Unable to open object (object 'extracted_forces' doesn't exist)\"\n",
      "\"Unable to open object (object 'extracted_forces' doesn't exist)\"\n",
      "\"Unable to open object (object 'extracted_forces' doesn't exist)\"\n",
      "\"Unable to open object (object 'extracted_forces' doesn't exist)\"\n",
      "\"Unable to open object (object 'extracted_forces' doesn't exist)\"\n",
      "\"Unable to open object (object 'extracted_forces' doesn't exist)\"\n",
      "\"Unable to open object (object 'extracted_forces' doesn't exist)\"\n",
      "\"Unable to open object (object 'extracted_forces' doesn't exist)\"\n",
      "\"Unable to open object (object 'extracted_forces' doesn't exist)\"\n",
      "\"Unable to open object (object 'extracted_forces' doesn't exist)\"\n",
      "\"Unable to open object (object 'extracted_forces' doesn't exist)\"\n",
      "\"Unable to open object (object 'extracted_forces' doesn't exist)\"\n",
      "\"Unable to open object (object 'extracted_forces' doesn't exist)\"\n",
      "\"Unable to open object (object 'extracted_forces' doesn't exist)\"\n",
      "\"Unable to open object (object 'extracted_forces' doesn't exist)\"\n",
      "\"Unable to open object (object 'extracted_forces' doesn't exist)\"\n",
      "\"Unable to open object (object 'extracted_forces' doesn't exist)\"\n",
      "\"Unable to open object (object 'extracted_forces' doesn't exist)\"\n",
      "\"Unable to open object (object 'extracted_forces' doesn't exist)\"\n",
      "\"Unable to open object (object 'extracted_forces' doesn't exist)\"\n",
      "\"Unable to open object (object 'extracted_forces' doesn't exist)\"\n",
      "\"Unable to open object (object 'extracted_forces' doesn't exist)\"\n",
      "\"Unable to open object (object 'extracted_forces' doesn't exist)\"\n",
      "\"Unable to open object (object 'extracted_forces' doesn't exist)\"\n",
      "\"Unable to open object (object 'extracted_forces' doesn't exist)\"\n",
      "\"Unable to open object (object 'extracted_forces' doesn't exist)\"\n",
      "\"Unable to open object (object 'extracted_forces' doesn't exist)\"\n",
      "\"Unable to open object (object 'extracted_forces' doesn't exist)\"\n",
      "\"Unable to open object (object 'extracted_forces' doesn't exist)\"\n",
      "\"Unable to open object (object 'extracted_forces' doesn't exist)\"\n",
      "\"Unable to open object (object 'extracted_forces' doesn't exist)\"\n",
      "\"Unable to open object (object 'extracted_forces' doesn't exist)\"\n",
      "\"Unable to open object (object 'extracted_forces' doesn't exist)\"\n",
      "\"Unable to open object (object 'extracted_forces' doesn't exist)\"\n",
      "\"Unable to open object (object 'extracted_forces' doesn't exist)\"\n",
      "\"Unable to open object (object 'extracted_forces' doesn't exist)\"\n",
      "\"Unable to open object (object 'extracted_forces' doesn't exist)\"\n",
      "\"Unable to open object (object 'extracted_forces' doesn't exist)\"\n",
      "\"Unable to open object (object 'extracted_forces' doesn't exist)\"\n",
      "\"Unable to open object (object 'extracted_forces' doesn't exist)\"\n",
      "\"Unable to open object (object 'extracted_forces' doesn't exist)\"\n"
     ]
    },
    {
     "name": "stderr",
     "output_type": "stream",
     "text": [
      "[12:04:59] UFFTYPER: Unrecognized charge state for atom: 8\n",
      "[12:05:08] UFFTYPER: Unrecognized charge state for atom: 10\n"
     ]
    },
    {
     "name": "stdout",
     "output_type": "stream",
     "text": [
      "\"Unable to open object (object 'extracted_forces' doesn't exist)\"\n",
      "\"Unable to open object (object 'extracted_forces' doesn't exist)\"\n",
      "\"Unable to open object (object 'extracted_forces' doesn't exist)\"\n",
      "\"Unable to open object (object 'extracted_forces' doesn't exist)\"\n",
      "\"Unable to open object (object 'extracted_forces' doesn't exist)\"\n",
      "\"Unable to open object (object 'extracted_forces' doesn't exist)\"\n",
      "\"Unable to open object (object 'extracted_forces' doesn't exist)\"\n",
      "\"Unable to open object (object 'extracted_forces' doesn't exist)\"\n",
      "\"Unable to open object (object 'extracted_forces' doesn't exist)\"\n",
      "\"Unable to open object (object 'extracted_forces' doesn't exist)\"\n",
      "\"Unable to open object (object 'extracted_forces' doesn't exist)\"\n",
      "\"Unable to open object (object 'extracted_forces' doesn't exist)\"\n",
      "\"Unable to open object (object 'extracted_forces' doesn't exist)\"\n",
      "\"Unable to open object (object 'extracted_forces' doesn't exist)\"\n",
      "\"Unable to open object (object 'extracted_forces' doesn't exist)\"\n",
      "\"Unable to open object (object 'extracted_forces' doesn't exist)\"\n",
      "\"Unable to open object (object 'extracted_forces' doesn't exist)\"\n",
      "\"Unable to open object (object 'extracted_forces' doesn't exist)\"\n",
      "\"Unable to open object (object 'extracted_forces' doesn't exist)\"\n",
      "\"Unable to open object (object 'extracted_forces' doesn't exist)\"\n",
      "\"Unable to open object (object 'extracted_forces' doesn't exist)\"\n",
      "\"Unable to open object (object 'extracted_forces' doesn't exist)\"\n",
      "\"Unable to open object (object 'extracted_forces' doesn't exist)\"\n",
      "\"Unable to open object (object 'extracted_forces' doesn't exist)\"\n",
      "\"Unable to open object (object 'extracted_forces' doesn't exist)\"\n",
      "\"Unable to open object (object 'extracted_forces' doesn't exist)\"\n",
      "\"Unable to open object (object 'extracted_forces' doesn't exist)\"\n",
      "\"Unable to open object (object 'extracted_forces' doesn't exist)\"\n",
      "\"Unable to open object (object 'extracted_forces' doesn't exist)\"\n",
      "\"Unable to open object (object 'extracted_forces' doesn't exist)\"\n",
      "\"Unable to open object (object 'extracted_forces' doesn't exist)\"\n",
      "\"Unable to open object (object 'extracted_forces' doesn't exist)\"\n",
      "\"Unable to open object (object 'extracted_forces' doesn't exist)\"\n",
      "\"Unable to open object (object 'extracted_forces' doesn't exist)\"\n",
      "\"Unable to open object (object 'extracted_forces' doesn't exist)\"\n",
      "\"Unable to open object (object 'extracted_forces' doesn't exist)\"\n",
      "\"Unable to open object (object 'extracted_forces' doesn't exist)\"\n",
      "\"Unable to open object (object 'extracted_forces' doesn't exist)\"\n",
      "\"Unable to open object (object 'extracted_forces' doesn't exist)\"\n",
      "\"Unable to open object (object 'extracted_forces' doesn't exist)\"\n",
      "\"Unable to open object (object 'extracted_forces' doesn't exist)\"\n",
      "\"Unable to open object (object 'extracted_forces' doesn't exist)\"\n",
      "\"Unable to open object (object 'extracted_forces' doesn't exist)\"\n",
      "\"Unable to open object (object 'extracted_forces' doesn't exist)\"\n",
      "\"Unable to open object (object 'extracted_forces' doesn't exist)\"\n",
      "\"Unable to open object (object 'extracted_forces' doesn't exist)\"\n",
      "\"Unable to open object (object 'extracted_forces' doesn't exist)\"\n",
      "\"Unable to open object (object 'extracted_forces' doesn't exist)\"\n",
      "\"Unable to open object (object 'extracted_forces' doesn't exist)\"\n",
      "\"Unable to open object (object 'extracted_forces' doesn't exist)\"\n",
      "\"Unable to open object (object 'extracted_forces' doesn't exist)\"\n"
     ]
    },
    {
     "name": "stderr",
     "output_type": "stream",
     "text": [
      "[12:05:55] UFFTYPER: Unrecognized charge state for atom: 1\n"
     ]
    },
    {
     "name": "stdout",
     "output_type": "stream",
     "text": [
      "\"Unable to open object (object 'extracted_forces' doesn't exist)\"\n",
      "\"Unable to open object (object 'extracted_forces' doesn't exist)\"\n",
      "\"Unable to open object (object 'extracted_forces' doesn't exist)\"\n",
      "\"Unable to open object (object 'extracted_forces' doesn't exist)\"\n",
      "\"Unable to open object (object 'extracted_forces' doesn't exist)\"\n",
      "\"Unable to open object (object 'extracted_forces' doesn't exist)\"\n",
      "\"Unable to open object (object 'extracted_forces' doesn't exist)\"\n",
      "\"Unable to open object (object 'extracted_forces' doesn't exist)\"\n",
      "\"Unable to open object (object 'extracted_forces' doesn't exist)\"\n",
      "\"Unable to open object (object 'extracted_forces' doesn't exist)\"\n",
      "\"Unable to open object (object 'extracted_forces' doesn't exist)\"\n",
      "\"Unable to open object (object 'extracted_forces' doesn't exist)\"\n",
      "\"Unable to open object (object 'extracted_forces' doesn't exist)\"\n",
      "\"Unable to open object (object 'extracted_forces' doesn't exist)\"\n",
      "\"Unable to open object (object 'extracted_forces' doesn't exist)\"\n",
      "\"Unable to open object (object 'extracted_forces' doesn't exist)\"\n",
      "\"Unable to open object (object 'extracted_forces' doesn't exist)\"\n",
      "\"Unable to open object (object 'extracted_forces' doesn't exist)\"\n",
      "\"Unable to open object (object 'extracted_forces' doesn't exist)\"\n",
      "\"Unable to open object (object 'extracted_forces' doesn't exist)\"\n",
      "\"Unable to open object (object 'extracted_forces' doesn't exist)\"\n",
      "\"Unable to open object (object 'extracted_forces' doesn't exist)\"\n",
      "\"Unable to open object (object 'extracted_forces' doesn't exist)\"\n",
      "\"Unable to open object (object 'extracted_forces' doesn't exist)\"\n",
      "\"Unable to open object (object 'extracted_forces' doesn't exist)\"\n",
      "\"Unable to open object (object 'extracted_forces' doesn't exist)\"\n",
      "\"Unable to open object (object 'extracted_forces' doesn't exist)\"\n",
      "\"Unable to open object (object 'extracted_forces' doesn't exist)\"\n",
      "\"Unable to open object (object 'extracted_forces' doesn't exist)\"\n",
      "\"Unable to open object (object 'extracted_forces' doesn't exist)\"\n",
      "\"Unable to open object (object 'extracted_forces' doesn't exist)\"\n",
      "\"Unable to open object (object 'extracted_forces' doesn't exist)\"\n",
      "\"Unable to open object (object 'extracted_forces' doesn't exist)\"\n",
      "\"Unable to open object (object 'extracted_forces' doesn't exist)\"\n",
      "\"Unable to open object (object 'extracted_forces' doesn't exist)\"\n",
      "\"Unable to open object (object 'extracted_forces' doesn't exist)\"\n",
      "\"Unable to open object (object 'extracted_forces' doesn't exist)\"\n",
      "\"Unable to open object (object 'extracted_forces' doesn't exist)\"\n",
      "\"Unable to open object (object 'extracted_forces' doesn't exist)\"\n",
      "\"Unable to open object (object 'extracted_forces' doesn't exist)\"\n",
      "\"Unable to open object (object 'extracted_forces' doesn't exist)\"\n",
      "\"Unable to open object (object 'extracted_forces' doesn't exist)\"\n",
      "\"Unable to open object (object 'extracted_forces' doesn't exist)\"\n",
      "\"Unable to open object (object 'extracted_forces' doesn't exist)\"\n",
      "\"Unable to open object (object 'extracted_forces' doesn't exist)\"\n",
      "\"Unable to open object (object 'extracted_forces' doesn't exist)\"\n",
      "\"Unable to open object (object 'extracted_forces' doesn't exist)\"\n",
      "\"Unable to open object (object 'extracted_forces' doesn't exist)\"\n",
      "\"Unable to open object (object 'extracted_forces' doesn't exist)\"\n",
      "\"Unable to open object (object 'extracted_forces' doesn't exist)\"\n",
      "\"Unable to open object (object 'extracted_forces' doesn't exist)\"\n",
      "\"Unable to open object (object 'extracted_forces' doesn't exist)\"\n",
      "\"Unable to open object (object 'extracted_forces' doesn't exist)\"\n",
      "\"Unable to open object (object 'extracted_forces' doesn't exist)\"\n",
      "\"Unable to open object (object 'extracted_forces' doesn't exist)\"\n",
      "\"Unable to open object (object 'extracted_forces' doesn't exist)\"\n",
      "\"Unable to open object (object 'extracted_forces' doesn't exist)\"\n",
      "\"Unable to open object (object 'extracted_forces' doesn't exist)\"\n",
      "\"Unable to open object (object 'extracted_forces' doesn't exist)\"\n",
      "\"Unable to open object (object 'extracted_forces' doesn't exist)\"\n",
      "\"Unable to open object (object 'extracted_forces' doesn't exist)\"\n",
      "\"Unable to open object (object 'extracted_forces' doesn't exist)\"\n",
      "\"Unable to open object (object 'extracted_forces' doesn't exist)\"\n",
      "\"Unable to open object (object 'extracted_forces' doesn't exist)\"\n",
      "\"Unable to open object (object 'extracted_forces' doesn't exist)\"\n",
      "\"Unable to open object (object 'extracted_forces' doesn't exist)\"\n",
      "\"Unable to open object (object 'extracted_forces' doesn't exist)\"\n",
      "\"Unable to open object (object 'extracted_forces' doesn't exist)\"\n",
      "\"Unable to open object (object 'extracted_forces' doesn't exist)\"\n",
      "\"Unable to open object (object 'extracted_forces' doesn't exist)\"\n",
      "\"Unable to open object (object 'extracted_forces' doesn't exist)\"\n",
      "\"Unable to open object (object 'extracted_forces' doesn't exist)\"\n",
      "\"Unable to open object (object 'extracted_forces' doesn't exist)\"\n",
      "\"Unable to open object (object 'extracted_forces' doesn't exist)\"\n",
      "\"Unable to open object (object 'extracted_forces' doesn't exist)\"\n",
      "\"Unable to open object (object 'extracted_forces' doesn't exist)\"\n",
      "\"Unable to open object (object 'extracted_forces' doesn't exist)\"\n",
      "\"Unable to open object (object 'extracted_forces' doesn't exist)\"\n",
      "\"Unable to open object (object 'extracted_forces' doesn't exist)\"\n",
      "\"Unable to open object (object 'extracted_forces' doesn't exist)\"\n",
      "\"Unable to open object (object 'extracted_forces' doesn't exist)\"\n",
      "\"Unable to open object (object 'extracted_forces' doesn't exist)\"\n",
      "\"Unable to open object (object 'extracted_forces' doesn't exist)\"\n",
      "\"Unable to open object (object 'extracted_forces' doesn't exist)\"\n",
      "\"Unable to open object (object 'extracted_forces' doesn't exist)\"\n",
      "\"Unable to open object (object 'extracted_forces' doesn't exist)\"\n",
      "\"Unable to open object (object 'extracted_forces' doesn't exist)\"\n",
      "\"Unable to open object (object 'extracted_forces' doesn't exist)\"\n",
      "\"Unable to open object (object 'extracted_forces' doesn't exist)\"\n",
      "\"Unable to open object (object 'extracted_forces' doesn't exist)\"\n",
      "\"Unable to open object (object 'extracted_forces' doesn't exist)\"\n",
      "\"Unable to open object (object 'extracted_forces' doesn't exist)\"\n",
      "\"Unable to open object (object 'extracted_forces' doesn't exist)\"\n",
      "\"Unable to open object (object 'extracted_forces' doesn't exist)\"\n",
      "\"Unable to open object (object 'extracted_forces' doesn't exist)\"\n",
      "\"Unable to open object (object 'extracted_forces' doesn't exist)\"\n",
      "\"Unable to open object (object 'extracted_forces' doesn't exist)\"\n",
      "\"Unable to open object (object 'extracted_forces' doesn't exist)\"\n",
      "\"Unable to open object (object 'extracted_forces' doesn't exist)\"\n",
      "\"Unable to open object (object 'extracted_forces' doesn't exist)\"\n",
      "\"Unable to open object (object 'extracted_forces' doesn't exist)\"\n",
      "\"Unable to open object (object 'extracted_forces' doesn't exist)\"\n",
      "\"Unable to open object (object 'extracted_forces' doesn't exist)\"\n",
      "\"Unable to open object (object 'extracted_forces' doesn't exist)\"\n",
      "\"Unable to open object (object 'extracted_forces' doesn't exist)\"\n",
      "\"Unable to open object (object 'extracted_forces' doesn't exist)\"\n",
      "\"Unable to open object (object 'extracted_forces' doesn't exist)\"\n",
      "\"Unable to open object (object 'extracted_forces' doesn't exist)\"\n",
      "\"Unable to open object (object 'extracted_forces' doesn't exist)\"\n",
      "\"Unable to open object (object 'extracted_forces' doesn't exist)\"\n",
      "\"Unable to open object (object 'extracted_forces' doesn't exist)\"\n",
      "\"Unable to open object (object 'extracted_forces' doesn't exist)\"\n",
      "\"Unable to open object (object 'extracted_forces' doesn't exist)\"\n",
      "\"Unable to open object (object 'extracted_forces' doesn't exist)\"\n",
      "\"Unable to open object (object 'extracted_forces' doesn't exist)\"\n",
      "\"Unable to open object (object 'extracted_forces' doesn't exist)\"\n",
      "\"Unable to open object (object 'extracted_forces' doesn't exist)\"\n",
      "\"Unable to open object (object 'extracted_forces' doesn't exist)\"\n",
      "\"Unable to open object (object 'extracted_forces' doesn't exist)\"\n",
      "\"Unable to open object (object 'extracted_forces' doesn't exist)\"\n",
      "\"Unable to open object (object 'extracted_forces' doesn't exist)\"\n",
      "\"Unable to open object (object 'extracted_forces' doesn't exist)\"\n",
      "\"Unable to open object (object 'extracted_forces' doesn't exist)\"\n",
      "\"Unable to open object (object 'extracted_forces' doesn't exist)\"\n",
      "\"Unable to open object (object 'extracted_forces' doesn't exist)\"\n",
      "\"Unable to open object (object 'extracted_forces' doesn't exist)\"\n",
      "\"Unable to open object (object 'extracted_forces' doesn't exist)\"\n",
      "\"Unable to open object (object 'extracted_forces' doesn't exist)\"\n",
      "\"Unable to open object (object 'extracted_forces' doesn't exist)\"\n",
      "\"Unable to open object (object 'extracted_forces' doesn't exist)\"\n",
      "\"Unable to open object (object 'extracted_forces' doesn't exist)\"\n",
      "\"Unable to open object (object 'extracted_forces' doesn't exist)\"\n",
      "\"Unable to open object (object 'extracted_forces' doesn't exist)\"\n",
      "\"Unable to open object (object 'extracted_forces' doesn't exist)\"\n"
     ]
    },
    {
     "name": "stderr",
     "output_type": "stream",
     "text": [
      "[12:07:15] UFFTYPER: Unrecognized charge state for atom: 1\n",
      "[12:07:21] UFFTYPER: Unrecognized charge state for atom: 22\n",
      "[12:07:26] UFFTYPER: Unrecognized charge state for atom: 21\n",
      "[12:07:36] UFFTYPER: Unrecognized charge state for atom: 14\n"
     ]
    },
    {
     "name": "stdout",
     "output_type": "stream",
     "text": [
      "\"Unable to open object (object 'extracted_forces' doesn't exist)\"\n",
      "\"Unable to open object (object 'extracted_forces' doesn't exist)\"\n",
      "\"Unable to open object (object 'extracted_forces' doesn't exist)\"\n",
      "\"Unable to open object (object 'extracted_forces' doesn't exist)\"\n",
      "\"Unable to open object (object 'extracted_forces' doesn't exist)\"\n",
      "\"Unable to open object (object 'extracted_forces' doesn't exist)\"\n",
      "\"Unable to open object (object 'extracted_forces' doesn't exist)\"\n",
      "\"Unable to open object (object 'extracted_forces' doesn't exist)\"\n",
      "\"Unable to open object (object 'extracted_forces' doesn't exist)\"\n",
      "\"Unable to open object (object 'extracted_forces' doesn't exist)\"\n",
      "\"Unable to open object (object 'extracted_forces' doesn't exist)\"\n",
      "\"Unable to open object (object 'extracted_forces' doesn't exist)\"\n",
      "\"Unable to open object (object 'extracted_forces' doesn't exist)\"\n",
      "\"Unable to open object (object 'extracted_forces' doesn't exist)\"\n",
      "\"Unable to open object (object 'extracted_forces' doesn't exist)\"\n",
      "\"Unable to open object (object 'extracted_forces' doesn't exist)\"\n",
      "\"Unable to open object (object 'extracted_forces' doesn't exist)\"\n",
      "\"Unable to open object (object 'extracted_forces' doesn't exist)\"\n",
      "\"Unable to open object (object 'extracted_forces' doesn't exist)\"\n",
      "\"Unable to open object (object 'extracted_forces' doesn't exist)\"\n",
      "\"Unable to open object (object 'extracted_forces' doesn't exist)\"\n",
      "\"Unable to open object (object 'extracted_forces' doesn't exist)\"\n",
      "\"Unable to open object (object 'extracted_forces' doesn't exist)\"\n",
      "\"Unable to open object (object 'extracted_forces' doesn't exist)\"\n",
      "\"Unable to open object (object 'extracted_forces' doesn't exist)\"\n",
      "\"Unable to open object (object 'extracted_forces' doesn't exist)\"\n",
      "\"Unable to open object (object 'extracted_forces' doesn't exist)\"\n",
      "\"Unable to open object (object 'extracted_forces' doesn't exist)\"\n",
      "\"Unable to open object (object 'extracted_forces' doesn't exist)\"\n",
      "\"Unable to open object (object 'extracted_forces' doesn't exist)\"\n",
      "\"Unable to open object (object 'extracted_forces' doesn't exist)\"\n",
      "\"Unable to open object (object 'extracted_forces' doesn't exist)\"\n",
      "\"Unable to open object (object 'extracted_forces' doesn't exist)\"\n",
      "\"Unable to open object (object 'extracted_forces' doesn't exist)\"\n",
      "\"Unable to open object (object 'extracted_forces' doesn't exist)\"\n",
      "\"Unable to open object (object 'extracted_forces' doesn't exist)\"\n",
      "\"Unable to open object (object 'extracted_forces' doesn't exist)\"\n",
      "\"Unable to open object (object 'extracted_forces' doesn't exist)\"\n",
      "\"Unable to open object (object 'extracted_forces' doesn't exist)\"\n",
      "\"Unable to open object (object 'extracted_forces' doesn't exist)\"\n",
      "\"Unable to open object (object 'extracted_forces' doesn't exist)\"\n",
      "\"Unable to open object (object 'extracted_forces' doesn't exist)\"\n",
      "\"Unable to open object (object 'extracted_forces' doesn't exist)\"\n",
      "\"Unable to open object (object 'extracted_forces' doesn't exist)\"\n",
      "\"Unable to open object (object 'extracted_forces' doesn't exist)\"\n",
      "\"Unable to open object (object 'extracted_forces' doesn't exist)\"\n",
      "\"Unable to open object (object 'extracted_forces' doesn't exist)\"\n",
      "\"Unable to open object (object 'extracted_forces' doesn't exist)\"\n",
      "\"Unable to open object (object 'extracted_forces' doesn't exist)\"\n",
      "\"Unable to open object (object 'extracted_forces' doesn't exist)\"\n"
     ]
    },
    {
     "name": "stderr",
     "output_type": "stream",
     "text": [
      "[12:07:51] UFFTYPER: Unrecognized charge state for atom: 12\n"
     ]
    },
    {
     "name": "stdout",
     "output_type": "stream",
     "text": [
      "\"Unable to open object (object 'extracted_forces' doesn't exist)\"\n"
     ]
    },
    {
     "name": "stderr",
     "output_type": "stream",
     "text": [
      "[12:08:08] UFFTYPER: Unrecognized charge state for atom: 1\n"
     ]
    },
    {
     "name": "stdout",
     "output_type": "stream",
     "text": [
      "\"Unable to open object (object 'extracted_forces' doesn't exist)\"\n",
      "\"Unable to open object (object 'extracted_forces' doesn't exist)\"\n",
      "\"Unable to open object (object 'extracted_forces' doesn't exist)\"\n",
      "\"Unable to open object (object 'extracted_forces' doesn't exist)\"\n",
      "\"Unable to open object (object 'extracted_forces' doesn't exist)\"\n",
      "\"Unable to open object (object 'extracted_forces' doesn't exist)\"\n",
      "\"Unable to open object (object 'extracted_forces' doesn't exist)\"\n",
      "\"Unable to open object (object 'extracted_forces' doesn't exist)\"\n",
      "\"Unable to open object (object 'extracted_forces' doesn't exist)\"\n",
      "\"Unable to open object (object 'extracted_forces' doesn't exist)\"\n",
      "\"Unable to open object (object 'extracted_forces' doesn't exist)\"\n",
      "\"Unable to open object (object 'extracted_forces' doesn't exist)\"\n",
      "\"Unable to open object (object 'extracted_forces' doesn't exist)\"\n",
      "\"Unable to open object (object 'extracted_forces' doesn't exist)\"\n",
      "\"Unable to open object (object 'extracted_forces' doesn't exist)\"\n",
      "\"Unable to open object (object 'extracted_forces' doesn't exist)\"\n",
      "\"Unable to open object (object 'extracted_forces' doesn't exist)\"\n",
      "\"Unable to open object (object 'extracted_forces' doesn't exist)\"\n",
      "\"Unable to open object (object 'extracted_forces' doesn't exist)\"\n",
      "\"Unable to open object (object 'extracted_forces' doesn't exist)\"\n",
      "\"Unable to open object (object 'extracted_forces' doesn't exist)\"\n",
      "\"Unable to open object (object 'extracted_forces' doesn't exist)\"\n",
      "\"Unable to open object (object 'extracted_forces' doesn't exist)\"\n",
      "\"Unable to open object (object 'extracted_forces' doesn't exist)\"\n",
      "\"Unable to open object (object 'extracted_forces' doesn't exist)\"\n",
      "\"Unable to open object (object 'extracted_forces' doesn't exist)\"\n",
      "\"Unable to open object (object 'extracted_forces' doesn't exist)\"\n",
      "\"Unable to open object (object 'extracted_forces' doesn't exist)\"\n",
      "\"Unable to open object (object 'extracted_forces' doesn't exist)\"\n",
      "\"Unable to open object (object 'extracted_forces' doesn't exist)\"\n",
      "\"Unable to open object (object 'extracted_forces' doesn't exist)\"\n",
      "\"Unable to open object (object 'extracted_forces' doesn't exist)\"\n"
     ]
    },
    {
     "name": "stderr",
     "output_type": "stream",
     "text": [
      "[12:09:07] UFFTYPER: Unrecognized charge state for atom: 6\n"
     ]
    },
    {
     "name": "stdout",
     "output_type": "stream",
     "text": [
      "\"Unable to open object (object 'extracted_forces' doesn't exist)\"\n"
     ]
    },
    {
     "name": "stderr",
     "output_type": "stream",
     "text": [
      "[12:09:30] UFFTYPER: Unrecognized charge state for atom: 5\n",
      "[12:09:30] UFFTYPER: Unrecognized charge state for atom: 7\n",
      "[12:09:33] UFFTYPER: Unrecognized charge state for atom: 7\n"
     ]
    },
    {
     "name": "stdout",
     "output_type": "stream",
     "text": [
      "\"Unable to open object (object 'extracted_forces' doesn't exist)\"\n",
      "\"Unable to open object (object 'extracted_forces' doesn't exist)\"\n",
      "\"Unable to open object (object 'extracted_forces' doesn't exist)\"\n",
      "\"Unable to open object (object 'extracted_forces' doesn't exist)\"\n",
      "\"Unable to open object (object 'extracted_forces' doesn't exist)\"\n",
      "\"Unable to open object (object 'extracted_forces' doesn't exist)\"\n",
      "\"Unable to open object (object 'extracted_forces' doesn't exist)\"\n",
      "\"Unable to open object (object 'extracted_forces' doesn't exist)\"\n",
      "\"Unable to open object (object 'extracted_forces' doesn't exist)\"\n",
      "\"Unable to open object (object 'extracted_forces' doesn't exist)\"\n",
      "\"Unable to open object (object 'extracted_forces' doesn't exist)\"\n",
      "\"Unable to open object (object 'extracted_forces' doesn't exist)\"\n",
      "\"Unable to open object (object 'extracted_forces' doesn't exist)\"\n",
      "\"Unable to open object (object 'extracted_forces' doesn't exist)\"\n",
      "\"Unable to open object (object 'extracted_forces' doesn't exist)\"\n",
      "\"Unable to open object (object 'extracted_forces' doesn't exist)\"\n",
      "\"Unable to open object (object 'extracted_forces' doesn't exist)\"\n",
      "\"Unable to open object (object 'extracted_forces' doesn't exist)\"\n",
      "\"Unable to open object (object 'extracted_forces' doesn't exist)\"\n",
      "\"Unable to open object (object 'extracted_forces' doesn't exist)\"\n",
      "\"Unable to open object (object 'extracted_forces' doesn't exist)\"\n",
      "\"Unable to open object (object 'extracted_forces' doesn't exist)\"\n",
      "\"Unable to open object (object 'extracted_forces' doesn't exist)\"\n",
      "\"Unable to open object (object 'extracted_forces' doesn't exist)\"\n",
      "\"Unable to open object (object 'extracted_forces' doesn't exist)\"\n",
      "\"Unable to open object (object 'extracted_forces' doesn't exist)\"\n",
      "\"Unable to open object (object 'extracted_forces' doesn't exist)\"\n",
      "\"Unable to open object (object 'extracted_forces' doesn't exist)\"\n",
      "\"Unable to open object (object 'extracted_forces' doesn't exist)\"\n",
      "\"Unable to open object (object 'extracted_forces' doesn't exist)\"\n",
      "\"Unable to open object (object 'extracted_forces' doesn't exist)\"\n",
      "\"Unable to open object (object 'extracted_forces' doesn't exist)\"\n",
      "\"Unable to open object (object 'extracted_forces' doesn't exist)\"\n",
      "\"Unable to open object (object 'extracted_forces' doesn't exist)\"\n",
      "\"Unable to open object (object 'extracted_forces' doesn't exist)\"\n",
      "\"Unable to open object (object 'extracted_forces' doesn't exist)\"\n",
      "\"Unable to open object (object 'extracted_forces' doesn't exist)\"\n"
     ]
    },
    {
     "name": "stderr",
     "output_type": "stream",
     "text": [
      "[12:09:49] UFFTYPER: Unrecognized charge state for atom: 6\n",
      "[12:09:52] UFFTYPER: Unrecognized charge state for atom: 6\n",
      "[12:10:02] UFFTYPER: Unrecognized charge state for atom: 5\n",
      "[12:10:07] UFFTYPER: Unrecognized charge state for atom: 17\n",
      "[12:10:09] UFFTYPER: Unrecognized charge state for atom: 16\n",
      "[12:10:14] UFFTYPER: Unrecognized charge state for atom: 1\n",
      "[12:10:22] UFFTYPER: Unrecognized charge state for atom: 19\n",
      "[12:10:27] UFFTYPER: Unrecognized charge state for atom: 10\n",
      "[12:10:29] UFFTYPER: Unrecognized charge state for atom: 7\n",
      "[12:10:30] UFFTYPER: Unrecognized charge state for atom: 1\n",
      "[12:10:34] UFFTYPER: Unrecognized charge state for atom: 16\n"
     ]
    },
    {
     "name": "stdout",
     "output_type": "stream",
     "text": [
      "\"Unable to open object (object 'extracted_forces' doesn't exist)\"\n",
      "\"Unable to open object (object 'extracted_forces' doesn't exist)\"\n",
      "\"Unable to open object (object 'extracted_forces' doesn't exist)\"\n"
     ]
    },
    {
     "name": "stderr",
     "output_type": "stream",
     "text": [
      "[12:10:35] UFFTYPER: Unrecognized charge state for atom: 10\n"
     ]
    },
    {
     "name": "stdout",
     "output_type": "stream",
     "text": [
      "\"Unable to open object (object 'extracted_forces' doesn't exist)\"\n",
      "\"Unable to open object (object 'extracted_forces' doesn't exist)\"\n",
      "\"Unable to open object (object 'extracted_forces' doesn't exist)\"\n",
      "\"Unable to open object (object 'extracted_forces' doesn't exist)\"\n",
      "\"Unable to open object (object 'extracted_forces' doesn't exist)\"\n",
      "\"Unable to open object (object 'extracted_forces' doesn't exist)\"\n",
      "\"Unable to open object (object 'extracted_forces' doesn't exist)\"\n",
      "\"Unable to open object (object 'extracted_forces' doesn't exist)\"\n",
      "\"Unable to open object (object 'extracted_forces' doesn't exist)\"\n",
      "\"Unable to open object (object 'extracted_forces' doesn't exist)\"\n",
      "\"Unable to open object (object 'extracted_forces' doesn't exist)\"\n",
      "\"Unable to open object (object 'extracted_forces' doesn't exist)\"\n",
      "\"Unable to open object (object 'extracted_forces' doesn't exist)\"\n",
      "\"Unable to open object (object 'extracted_forces' doesn't exist)\"\n",
      "\"Unable to open object (object 'extracted_forces' doesn't exist)\"\n",
      "\"Unable to open object (object 'extracted_forces' doesn't exist)\"\n",
      "\"Unable to open object (object 'extracted_forces' doesn't exist)\"\n",
      "\"Unable to open object (object 'extracted_forces' doesn't exist)\"\n",
      "\"Unable to open object (object 'extracted_forces' doesn't exist)\"\n",
      "\"Unable to open object (object 'extracted_forces' doesn't exist)\"\n"
     ]
    },
    {
     "name": "stderr",
     "output_type": "stream",
     "text": [
      "[12:10:37] UFFTYPER: Unrecognized charge state for atom: 9\n",
      "[12:10:43] UFFTYPER: Unrecognized charge state for atom: 10\n",
      "[12:10:43] UFFTYPER: Unrecognized charge state for atom: 1\n",
      "[12:10:46] UFFTYPER: Unrecognized charge state for atom: 6\n",
      "[12:10:47] UFFTYPER: Unrecognized charge state for atom: 1\n",
      "[12:10:57] UFFTYPER: Unrecognized charge state for atom: 11\n",
      "[12:10:59] UFFTYPER: Unrecognized charge state for atom: 1\n",
      "[12:11:01] UFFTYPER: Unrecognized charge state for atom: 9\n",
      "[12:11:04] UFFTYPER: Unrecognized charge state for atom: 11\n",
      "[12:11:11] UFFTYPER: Unrecognized charge state for atom: 11\n",
      "[12:11:12] UFFTYPER: Unrecognized charge state for atom: 5\n",
      "[12:11:16] UFFTYPER: Unrecognized charge state for atom: 4\n",
      "[12:11:16] UFFTYPER: Unrecognized charge state for atom: 6\n",
      "[12:11:19] UFFTYPER: Unrecognized charge state for atom: 9\n",
      "[12:11:20] UFFTYPER: Unrecognized charge state for atom: 1\n",
      "[12:11:23] UFFTYPER: Unrecognized charge state for atom: 7\n",
      "[12:11:25] UFFTYPER: Unrecognized charge state for atom: 15\n",
      "[12:11:33] UFFTYPER: Unrecognized charge state for atom: 1\n",
      "[12:11:35] UFFTYPER: Unrecognized charge state for atom: 16\n"
     ]
    },
    {
     "name": "stdout",
     "output_type": "stream",
     "text": [
      "\"Unable to open object (object 'extracted_forces' doesn't exist)\"\n",
      "\"Unable to open object (object 'extracted_forces' doesn't exist)\"\n"
     ]
    },
    {
     "name": "stderr",
     "output_type": "stream",
     "text": [
      "[12:11:44] UFFTYPER: Unrecognized charge state for atom: 16\n",
      "[12:11:47] UFFTYPER: Unrecognized charge state for atom: 1\n",
      "[12:11:48] UFFTYPER: Unrecognized charge state for atom: 7\n",
      "[12:11:49] UFFTYPER: Unrecognized charge state for atom: 11\n",
      "[12:11:53] UFFTYPER: Unrecognized charge state for atom: 3\n",
      "[12:11:58] UFFTYPER: Unrecognized charge state for atom: 3\n",
      "[12:12:00] UFFTYPER: Unrecognized charge state for atom: 7\n",
      "[12:12:00] UFFTYPER: Unrecognized charge state for atom: 9\n",
      "[12:12:03] UFFTYPER: Unrecognized charge state for atom: 4\n"
     ]
    },
    {
     "name": "stdout",
     "output_type": "stream",
     "text": [
      "\"Unable to open object (object 'extracted_forces' doesn't exist)\"\n",
      "\"Unable to open object (object 'extracted_forces' doesn't exist)\"\n",
      "\"Unable to open object (object 'extracted_forces' doesn't exist)\"\n",
      "\"Unable to open object (object 'extracted_forces' doesn't exist)\"\n",
      "\"Unable to open object (object 'extracted_forces' doesn't exist)\"\n",
      "\"Unable to open object (object 'extracted_forces' doesn't exist)\"\n",
      "\"Unable to open object (object 'extracted_forces' doesn't exist)\"\n",
      "\"Unable to open object (object 'extracted_forces' doesn't exist)\"\n",
      "\"Unable to open object (object 'extracted_forces' doesn't exist)\"\n",
      "\"Unable to open object (object 'extracted_forces' doesn't exist)\"\n",
      "\"Unable to open object (object 'extracted_forces' doesn't exist)\"\n",
      "\"Unable to open object (object 'extracted_forces' doesn't exist)\"\n",
      "\"Unable to open object (object 'extracted_forces' doesn't exist)\"\n",
      "\"Unable to open object (object 'extracted_forces' doesn't exist)\"\n",
      "\"Unable to open object (object 'extracted_forces' doesn't exist)\"\n",
      "\"Unable to open object (object 'extracted_forces' doesn't exist)\"\n",
      "\"Unable to open object (object 'extracted_forces' doesn't exist)\"\n",
      "\"Unable to open object (object 'extracted_forces' doesn't exist)\"\n",
      "\"Unable to open object (object 'extracted_forces' doesn't exist)\"\n",
      "\"Unable to open object (object 'extracted_forces' doesn't exist)\"\n",
      "\"Unable to open object (object 'extracted_forces' doesn't exist)\"\n",
      "\"Unable to open object (object 'extracted_forces' doesn't exist)\"\n",
      "\"Unable to open object (object 'extracted_forces' doesn't exist)\"\n"
     ]
    },
    {
     "name": "stderr",
     "output_type": "stream",
     "text": [
      "[12:12:15] UFFTYPER: Unrecognized charge state for atom: 15\n",
      "[12:12:16] UFFTYPER: Unrecognized charge state for atom: 2\n"
     ]
    },
    {
     "name": "stdout",
     "output_type": "stream",
     "text": [
      "\"Unable to open object (object 'extracted_forces' doesn't exist)\"\n"
     ]
    },
    {
     "name": "stderr",
     "output_type": "stream",
     "text": [
      "[12:12:28] UFFTYPER: Unrecognized charge state for atom: 12\n"
     ]
    },
    {
     "name": "stdout",
     "output_type": "stream",
     "text": [
      "\"Unable to open object (object 'extracted_forces' doesn't exist)\"\n",
      "\"Unable to open object (object 'extracted_forces' doesn't exist)\"\n",
      "\"Unable to open object (object 'extracted_forces' doesn't exist)\"\n",
      "\"Unable to open object (object 'extracted_forces' doesn't exist)\"\n",
      "\"Unable to open object (object 'extracted_forces' doesn't exist)\"\n",
      "\"Unable to open object (object 'extracted_forces' doesn't exist)\"\n",
      "\"Unable to open object (object 'extracted_forces' doesn't exist)\"\n",
      "\"Unable to open object (object 'extracted_forces' doesn't exist)\"\n",
      "\"Unable to open object (object 'extracted_forces' doesn't exist)\"\n",
      "\"Unable to open object (object 'extracted_forces' doesn't exist)\"\n",
      "\"Unable to open object (object 'extracted_forces' doesn't exist)\"\n"
     ]
    },
    {
     "name": "stderr",
     "output_type": "stream",
     "text": [
      "[12:12:30] UFFTYPER: Unrecognized charge state for atom: 14\n",
      "[12:12:31] UFFTYPER: Unrecognized charge state for atom: 8\n",
      "[12:12:40] UFFTYPER: Unrecognized charge state for atom: 12\n",
      "[12:12:41] UFFTYPER: Unrecognized charge state for atom: 5\n",
      "[12:12:41] UFFTYPER: Unrecognized charge state for atom: 10\n"
     ]
    },
    {
     "name": "stdout",
     "output_type": "stream",
     "text": [
      "\"Unable to open object (object 'extracted_forces' doesn't exist)\"\n",
      "\"Unable to open object (object 'extracted_forces' doesn't exist)\"\n",
      "\"Unable to open object (object 'extracted_forces' doesn't exist)\"\n",
      "\"Unable to open object (object 'extracted_forces' doesn't exist)\"\n",
      "\"Unable to open object (object 'extracted_forces' doesn't exist)\"\n",
      "\"Unable to open object (object 'extracted_forces' doesn't exist)\"\n",
      "\"Unable to open object (object 'extracted_forces' doesn't exist)\"\n",
      "\"Unable to open object (object 'extracted_forces' doesn't exist)\"\n",
      "\"Unable to open object (object 'extracted_forces' doesn't exist)\"\n",
      "\"Unable to open object (object 'extracted_forces' doesn't exist)\"\n",
      "\"Unable to open object (object 'extracted_forces' doesn't exist)\"\n",
      "\"Unable to open object (object 'extracted_forces' doesn't exist)\"\n",
      "\"Unable to open object (object 'extracted_forces' doesn't exist)\"\n",
      "\"Unable to open object (object 'extracted_forces' doesn't exist)\"\n",
      "\"Unable to open object (object 'extracted_forces' doesn't exist)\"\n",
      "\"Unable to open object (object 'extracted_forces' doesn't exist)\"\n"
     ]
    },
    {
     "name": "stderr",
     "output_type": "stream",
     "text": [
      "[12:12:57] UFFTYPER: Unrecognized charge state for atom: 5\n",
      "[12:12:59] UFFTYPER: Unrecognized charge state for atom: 6\n",
      "[12:13:02] UFFTYPER: Unrecognized charge state for atom: 5\n",
      "[12:13:06] UFFTYPER: Unrecognized charge state for atom: 7\n",
      "[12:13:10] UFFTYPER: Unrecognized charge state for atom: 12\n",
      "[12:13:13] UFFTYPER: Unrecognized charge state for atom: 13\n",
      "[12:13:19] UFFTYPER: Unrecognized charge state for atom: 2\n",
      "[12:13:21] UFFTYPER: Unrecognized charge state for atom: 1\n",
      "[12:13:22] UFFTYPER: Unrecognized charge state for atom: 9\n",
      "[12:13:24] UFFTYPER: Unrecognized charge state for atom: 1\n",
      "[12:13:25] UFFTYPER: Unrecognized charge state for atom: 5\n"
     ]
    },
    {
     "name": "stdout",
     "output_type": "stream",
     "text": [
      "\"Unable to open object (object 'extracted_forces' doesn't exist)\"\n",
      "\"Unable to open object (object 'extracted_forces' doesn't exist)\"\n"
     ]
    },
    {
     "name": "stderr",
     "output_type": "stream",
     "text": [
      "[12:13:29] UFFTYPER: Unrecognized charge state for atom: 9\n"
     ]
    },
    {
     "name": "stdout",
     "output_type": "stream",
     "text": [
      "\"Unable to open object (object 'extracted_forces' doesn't exist)\"\n",
      "\"Unable to open object (object 'extracted_forces' doesn't exist)\"\n",
      "\"Unable to open object (object 'extracted_forces' doesn't exist)\"\n",
      "\"Unable to open object (object 'extracted_forces' doesn't exist)\"\n",
      "\"Unable to open object (object 'extracted_forces' doesn't exist)\"\n",
      "\"Unable to open object (object 'extracted_forces' doesn't exist)\"\n",
      "\"Unable to open object (object 'extracted_forces' doesn't exist)\"\n",
      "\"Unable to open object (object 'extracted_forces' doesn't exist)\"\n",
      "\"Unable to open object (object 'extracted_forces' doesn't exist)\"\n",
      "\"Unable to open object (object 'extracted_forces' doesn't exist)\"\n",
      "\"Unable to open object (object 'extracted_forces' doesn't exist)\"\n",
      "\"Unable to open object (object 'extracted_forces' doesn't exist)\"\n",
      "\"Unable to open object (object 'extracted_forces' doesn't exist)\"\n",
      "\"Unable to open object (object 'extracted_forces' doesn't exist)\"\n",
      "\"Unable to open object (object 'extracted_forces' doesn't exist)\"\n",
      "\"Unable to open object (object 'extracted_forces' doesn't exist)\"\n",
      "\"Unable to open object (object 'extracted_forces' doesn't exist)\"\n",
      "\"Unable to open object (object 'extracted_forces' doesn't exist)\"\n",
      "\"Unable to open object (object 'extracted_forces' doesn't exist)\"\n",
      "\"Unable to open object (object 'extracted_forces' doesn't exist)\"\n",
      "\"Unable to open object (object 'extracted_forces' doesn't exist)\"\n",
      "\"Unable to open object (object 'extracted_forces' doesn't exist)\"\n",
      "\"Unable to open object (object 'extracted_forces' doesn't exist)\"\n",
      "\"Unable to open object (object 'extracted_forces' doesn't exist)\"\n",
      "\"Unable to open object (object 'extracted_forces' doesn't exist)\"\n",
      "\"Unable to open object (object 'extracted_forces' doesn't exist)\"\n",
      "\"Unable to open object (object 'extracted_forces' doesn't exist)\"\n",
      "\"Unable to open object (object 'extracted_forces' doesn't exist)\"\n",
      "\"Unable to open object (object 'extracted_forces' doesn't exist)\"\n",
      "\"Unable to open object (object 'extracted_forces' doesn't exist)\"\n",
      "\"Unable to open object (object 'extracted_forces' doesn't exist)\"\n",
      "\"Unable to open object (object 'extracted_forces' doesn't exist)\"\n",
      "\"Unable to open object (object 'extracted_forces' doesn't exist)\"\n",
      "\"Unable to open object (object 'extracted_forces' doesn't exist)\"\n",
      "\"Unable to open object (object 'extracted_forces' doesn't exist)\"\n",
      "\"Unable to open object (object 'extracted_forces' doesn't exist)\"\n",
      "\"Unable to open object (object 'extracted_forces' doesn't exist)\"\n"
     ]
    },
    {
     "name": "stderr",
     "output_type": "stream",
     "text": [
      "[12:13:33] UFFTYPER: Unrecognized charge state for atom: 4\n",
      "[12:13:35] UFFTYPER: Unrecognized charge state for atom: 19\n",
      "[12:13:37] UFFTYPER: Unrecognized charge state for atom: 9\n"
     ]
    },
    {
     "name": "stdout",
     "output_type": "stream",
     "text": [
      "\"Unable to open object (object 'extracted_forces' doesn't exist)\"\n"
     ]
    },
    {
     "name": "stderr",
     "output_type": "stream",
     "text": [
      "[12:13:42] UFFTYPER: Unrecognized charge state for atom: 9\n",
      "[12:13:43] UFFTYPER: Unrecognized charge state for atom: 12\n",
      "[12:13:44] UFFTYPER: Unrecognized charge state for atom: 10\n",
      "[12:13:44] UFFTYPER: Unrecognized charge state for atom: 4\n",
      "[12:13:45] UFFTYPER: Unrecognized charge state for atom: 4\n",
      "[12:13:46] UFFTYPER: Unrecognized charge state for atom: 11\n",
      "[12:13:53] UFFTYPER: Unrecognized charge state for atom: 3\n",
      "[12:13:55] UFFTYPER: Unrecognized charge state for atom: 1\n",
      "[12:13:55] UFFTYPER: Unrecognized charge state for atom: 8\n",
      "[12:13:57] UFFTYPER: Unrecognized charge state for atom: 11\n",
      "[12:14:12] UFFTYPER: Unrecognized charge state for atom: 13\n",
      "[12:14:16] UFFTYPER: Unrecognized charge state for atom: 1\n",
      "[12:14:18] UFFTYPER: Unrecognized charge state for atom: 5\n",
      "[12:14:20] UFFTYPER: Unrecognized charge state for atom: 20\n",
      "[12:14:22] UFFTYPER: Unrecognized charge state for atom: 13\n",
      "[12:14:23] UFFTYPER: Unrecognized charge state for atom: 1\n",
      "[12:14:23] UFFTYPER: Unrecognized charge state for atom: 10\n",
      "[12:14:24] UFFTYPER: Unrecognized charge state for atom: 11\n",
      "[12:14:26] UFFTYPER: Unrecognized charge state for atom: 8\n",
      "[12:14:29] UFFTYPER: Unrecognized charge state for atom: 5\n"
     ]
    },
    {
     "name": "stdout",
     "output_type": "stream",
     "text": [
      "\"Unable to open object (object 'extracted_forces' doesn't exist)\"\n"
     ]
    },
    {
     "name": "stderr",
     "output_type": "stream",
     "text": [
      "[12:14:38] UFFTYPER: Unrecognized charge state for atom: 1\n",
      "[12:14:38] UFFTYPER: Unrecognized charge state for atom: 15\n",
      "[12:14:41] UFFTYPER: Unrecognized charge state for atom: 1\n",
      "[12:14:41] UFFTYPER: Unrecognized charge state for atom: 5\n",
      "[12:14:45] UFFTYPER: Unrecognized charge state for atom: 13\n",
      "[12:14:47] UFFTYPER: Unrecognized charge state for atom: 13\n",
      "[12:14:49] WARNING: not removing hydrogen atom with neighbor that has non-tetrahedral stereochemistry\n",
      "[12:14:49] UFFTYPER: Warning: hybridization set to SP3 for atom 1\n",
      "[12:14:49] WARNING: not removing hydrogen atom with neighbor that has non-tetrahedral stereochemistry\n",
      "[12:14:49] WARNING: not removing hydrogen atom with neighbor that has non-tetrahedral stereochemistry\n",
      "[12:14:49] WARNING: not removing hydrogen atom with neighbor that has non-tetrahedral stereochemistry\n",
      "[12:14:49] WARNING: not removing hydrogen atom with neighbor that has non-tetrahedral stereochemistry\n",
      "[12:14:49] WARNING: not removing hydrogen atom with neighbor that has non-tetrahedral stereochemistry\n",
      "[12:14:49] WARNING: not removing hydrogen atom with neighbor that has non-tetrahedral stereochemistry\n",
      "[12:14:49] WARNING: not removing hydrogen atom with neighbor that has non-tetrahedral stereochemistry\n",
      "[12:14:49] WARNING: not removing hydrogen atom with neighbor that has non-tetrahedral stereochemistry\n",
      "[12:14:49] WARNING: not removing hydrogen atom with neighbor that has non-tetrahedral stereochemistry\n",
      "[12:14:49] WARNING: not removing hydrogen atom with neighbor that has non-tetrahedral stereochemistry\n",
      "[12:14:54] UFFTYPER: Unrecognized charge state for atom: 15\n",
      "[12:14:56] UFFTYPER: Unrecognized charge state for atom: 14\n"
     ]
    },
    {
     "name": "stdout",
     "output_type": "stream",
     "text": [
      "\"Unable to open object (object 'extracted_forces' doesn't exist)\"\n",
      "\"Unable to open object (object 'extracted_forces' doesn't exist)\"\n",
      "\"Unable to open object (object 'extracted_forces' doesn't exist)\"\n",
      "\"Unable to open object (object 'extracted_forces' doesn't exist)\"\n",
      "\"Unable to open object (object 'extracted_forces' doesn't exist)\"\n",
      "\"Unable to open object (object 'extracted_forces' doesn't exist)\"\n",
      "\"Unable to open object (object 'extracted_forces' doesn't exist)\"\n",
      "\"Unable to open object (object 'extracted_forces' doesn't exist)\"\n",
      "\"Unable to open object (object 'extracted_forces' doesn't exist)\"\n",
      "\"Unable to open object (object 'extracted_forces' doesn't exist)\"\n",
      "\"Unable to open object (object 'extracted_forces' doesn't exist)\"\n",
      "\"Unable to open object (object 'extracted_forces' doesn't exist)\"\n",
      "\"Unable to open object (object 'extracted_forces' doesn't exist)\"\n",
      "\"Unable to open object (object 'extracted_forces' doesn't exist)\"\n",
      "\"Unable to open object (object 'extracted_forces' doesn't exist)\"\n"
     ]
    },
    {
     "name": "stderr",
     "output_type": "stream",
     "text": [
      "[12:14:59] UFFTYPER: Unrecognized charge state for atom: 1\n"
     ]
    },
    {
     "name": "stdout",
     "output_type": "stream",
     "text": [
      "\"Unable to open object (object 'extracted_forces' doesn't exist)\"\n",
      "\"Unable to open object (object 'extracted_forces' doesn't exist)\"\n",
      "\"Unable to open object (object 'extracted_forces' doesn't exist)\"\n",
      "\"Unable to open object (object 'extracted_forces' doesn't exist)\"\n",
      "\"Unable to open object (object 'extracted_forces' doesn't exist)\"\n",
      "\"Unable to open object (object 'extracted_forces' doesn't exist)\"\n",
      "\"Unable to open object (object 'extracted_forces' doesn't exist)\"\n",
      "\"Unable to open object (object 'extracted_forces' doesn't exist)\"\n",
      "\"Unable to open object (object 'extracted_forces' doesn't exist)\"\n",
      "\"Unable to open object (object 'extracted_forces' doesn't exist)\"\n"
     ]
    },
    {
     "name": "stderr",
     "output_type": "stream",
     "text": [
      "[12:15:00] UFFTYPER: Unrecognized charge state for atom: 7\n",
      "[12:15:00] UFFTYPER: Unrecognized charge state for atom: 10\n",
      "[12:15:00] UFFTYPER: Unrecognized charge state for atom: 16\n",
      "[12:15:01] UFFTYPER: Unrecognized charge state for atom: 11\n",
      "[12:15:04] UFFTYPER: Unrecognized charge state for atom: 1\n",
      "[12:15:06] UFFTYPER: Unrecognized charge state for atom: 7\n",
      "[12:15:12] UFFTYPER: Unrecognized charge state for atom: 5\n"
     ]
    },
    {
     "name": "stdout",
     "output_type": "stream",
     "text": [
      "\"Unable to open object (object 'extracted_forces' doesn't exist)\"\n",
      "\"Unable to open object (object 'extracted_forces' doesn't exist)\"\n",
      "\"Unable to open object (object 'extracted_forces' doesn't exist)\"\n",
      "\"Unable to open object (object 'extracted_forces' doesn't exist)\"\n",
      "\"Unable to open object (object 'extracted_forces' doesn't exist)\"\n",
      "\"Unable to open object (object 'extracted_forces' doesn't exist)\"\n",
      "\"Unable to open object (object 'extracted_forces' doesn't exist)\"\n",
      "\"Unable to open object (object 'extracted_forces' doesn't exist)\"\n",
      "\"Unable to open object (object 'extracted_forces' doesn't exist)\"\n",
      "\"Unable to open object (object 'extracted_forces' doesn't exist)\"\n",
      "\"Unable to open object (object 'extracted_forces' doesn't exist)\"\n",
      "\"Unable to open object (object 'extracted_forces' doesn't exist)\"\n",
      "\"Unable to open object (object 'extracted_forces' doesn't exist)\"\n",
      "\"Unable to open object (object 'extracted_forces' doesn't exist)\"\n",
      "\"Unable to open object (object 'extracted_forces' doesn't exist)\"\n",
      "\"Unable to open object (object 'extracted_forces' doesn't exist)\"\n",
      "\"Unable to open object (object 'extracted_forces' doesn't exist)\"\n",
      "\"Unable to open object (object 'extracted_forces' doesn't exist)\"\n",
      "\"Unable to open object (object 'extracted_forces' doesn't exist)\"\n",
      "\"Unable to open object (object 'extracted_forces' doesn't exist)\"\n",
      "\"Unable to open object (object 'extracted_forces' doesn't exist)\"\n",
      "\"Unable to open object (object 'extracted_forces' doesn't exist)\"\n",
      "\"Unable to open object (object 'extracted_forces' doesn't exist)\"\n",
      "\"Unable to open object (object 'extracted_forces' doesn't exist)\"\n",
      "\"Unable to open object (object 'extracted_forces' doesn't exist)\"\n",
      "\"Unable to open object (object 'extracted_forces' doesn't exist)\"\n",
      "\"Unable to open object (object 'extracted_forces' doesn't exist)\"\n",
      "\"Unable to open object (object 'extracted_forces' doesn't exist)\"\n",
      "\"Unable to open object (object 'extracted_forces' doesn't exist)\"\n",
      "\"Unable to open object (object 'extracted_forces' doesn't exist)\"\n",
      "\"Unable to open object (object 'extracted_forces' doesn't exist)\"\n",
      "\"Unable to open object (object 'extracted_forces' doesn't exist)\"\n",
      "\"Unable to open object (object 'extracted_forces' doesn't exist)\"\n",
      "\"Unable to open object (object 'extracted_forces' doesn't exist)\"\n",
      "\"Unable to open object (object 'extracted_forces' doesn't exist)\"\n",
      "\"Unable to open object (object 'extracted_forces' doesn't exist)\"\n",
      "\"Unable to open object (object 'extracted_forces' doesn't exist)\"\n",
      "\"Unable to open object (object 'extracted_forces' doesn't exist)\"\n",
      "\"Unable to open object (object 'extracted_forces' doesn't exist)\"\n",
      "\"Unable to open object (object 'extracted_forces' doesn't exist)\"\n",
      "\"Unable to open object (object 'extracted_forces' doesn't exist)\"\n",
      "\"Unable to open object (object 'extracted_forces' doesn't exist)\"\n",
      "\"Unable to open object (object 'extracted_forces' doesn't exist)\"\n",
      "\"Unable to open object (object 'extracted_forces' doesn't exist)\"\n",
      "\"Unable to open object (object 'extracted_forces' doesn't exist)\"\n",
      "\"Unable to open object (object 'extracted_forces' doesn't exist)\"\n",
      "\"Unable to open object (object 'extracted_forces' doesn't exist)\"\n",
      "\"Unable to open object (object 'extracted_forces' doesn't exist)\"\n",
      "\"Unable to open object (object 'extracted_forces' doesn't exist)\"\n",
      "\"Unable to open object (object 'extracted_forces' doesn't exist)\"\n",
      "\"Unable to open object (object 'extracted_forces' doesn't exist)\"\n",
      "\"Unable to open object (object 'extracted_forces' doesn't exist)\"\n",
      "\"Unable to open object (object 'extracted_forces' doesn't exist)\"\n",
      "\"Unable to open object (object 'extracted_forces' doesn't exist)\"\n",
      "\"Unable to open object (object 'extracted_forces' doesn't exist)\"\n"
     ]
    },
    {
     "name": "stderr",
     "output_type": "stream",
     "text": [
      "[12:15:23] UFFTYPER: Unrecognized charge state for atom: 4\n",
      "[12:15:27] UFFTYPER: Unrecognized charge state for atom: 8\n",
      "[12:15:30] UFFTYPER: Unrecognized charge state for atom: 7\n",
      "[12:15:35] UFFTYPER: Unrecognized charge state for atom: 9\n",
      "[12:15:41] UFFTYPER: Unrecognized charge state for atom: 9\n",
      "[12:15:43] UFFTYPER: Unrecognized charge state for atom: 9\n",
      "[12:15:44] UFFTYPER: Unrecognized charge state for atom: 5\n",
      "[12:15:44] UFFTYPER: Unrecognized charge state for atom: 8\n",
      "[12:15:45] UFFTYPER: Unrecognized charge state for atom: 4\n",
      "[12:15:46] UFFTYPER: Unrecognized charge state for atom: 5\n",
      "[12:15:52] UFFTYPER: Unrecognized charge state for atom: 7\n",
      "[12:15:56] UFFTYPER: Unrecognized charge state for atom: 4\n",
      "[12:15:57] UFFTYPER: Unrecognized charge state for atom: 1\n",
      "[12:16:09] UFFTYPER: Unrecognized charge state for atom: 10\n",
      "[12:16:12] UFFTYPER: Unrecognized charge state for atom: 3\n",
      "[12:16:13] UFFTYPER: Unrecognized charge state for atom: 5\n",
      "[12:16:13] UFFTYPER: Unrecognized charge state for atom: 7\n",
      "[12:16:16] UFFTYPER: Unrecognized charge state for atom: 13\n",
      "[12:16:16] UFFTYPER: Unrecognized charge state for atom: 14\n",
      "[12:16:18] UFFTYPER: Unrecognized charge state for atom: 6\n"
     ]
    },
    {
     "name": "stdout",
     "output_type": "stream",
     "text": [
      "\"Unable to open object (object 'extracted_forces' doesn't exist)\"\n",
      "\"Unable to open object (object 'extracted_forces' doesn't exist)\"\n",
      "\"Unable to open object (object 'extracted_forces' doesn't exist)\"\n",
      "\"Unable to open object (object 'extracted_forces' doesn't exist)\"\n",
      "\"Unable to open object (object 'extracted_forces' doesn't exist)\"\n",
      "\"Unable to open object (object 'extracted_forces' doesn't exist)\"\n",
      "\"Unable to open object (object 'extracted_forces' doesn't exist)\"\n",
      "\"Unable to open object (object 'extracted_forces' doesn't exist)\"\n",
      "\"Unable to open object (object 'extracted_forces' doesn't exist)\"\n",
      "\"Unable to open object (object 'extracted_forces' doesn't exist)\"\n",
      "\"Unable to open object (object 'extracted_forces' doesn't exist)\"\n",
      "\"Unable to open object (object 'extracted_forces' doesn't exist)\"\n",
      "\"Unable to open object (object 'extracted_forces' doesn't exist)\"\n",
      "\"Unable to open object (object 'extracted_forces' doesn't exist)\"\n",
      "\"Unable to open object (object 'extracted_forces' doesn't exist)\"\n",
      "\"Unable to open object (object 'extracted_forces' doesn't exist)\"\n",
      "\"Unable to open object (object 'extracted_forces' doesn't exist)\"\n",
      "\"Unable to open object (object 'extracted_forces' doesn't exist)\"\n",
      "\"Unable to open object (object 'extracted_forces' doesn't exist)\"\n",
      "\"Unable to open object (object 'extracted_forces' doesn't exist)\"\n",
      "\"Unable to open object (object 'extracted_forces' doesn't exist)\"\n",
      "\"Unable to open object (object 'extracted_forces' doesn't exist)\"\n",
      "\"Unable to open object (object 'extracted_forces' doesn't exist)\"\"Unable to open object (object 'extracted_forces' doesn't exist)\"\n",
      "\n",
      "\"Unable to open object (object 'extracted_forces' doesn't exist)\"\"Unable to open object (object 'extracted_forces' doesn't exist)\"\n",
      "\n",
      "\"Unable to open object (object 'extracted_forces' doesn't exist)\"\n",
      "\"Unable to open object (object 'extracted_forces' doesn't exist)\"\n",
      "\"Unable to open object (object 'extracted_forces' doesn't exist)\"\"Unable to open object (object 'extracted_forces' doesn't exist)\"\n",
      "\n",
      "\"Unable to open object (object 'extracted_forces' doesn't exist)\"\n",
      "\"Unable to open object (object 'extracted_forces' doesn't exist)\"\n",
      "\"Unable to open object (object 'extracted_forces' doesn't exist)\"\"Unable to open object (object 'extracted_forces' doesn't exist)\"\n",
      "\n",
      "\"Unable to open object (object 'extracted_forces' doesn't exist)\"\n",
      "\"Unable to open object (object 'extracted_forces' doesn't exist)\"\n",
      "\"Unable to open object (object 'extracted_forces' doesn't exist)\"\n",
      "\"Unable to open object (object 'extracted_forces' doesn't exist)\"\n",
      "\"Unable to open object (object 'extracted_forces' doesn't exist)\"\n",
      "\"Unable to open object (object 'extracted_forces' doesn't exist)\"\n"
     ]
    },
    {
     "name": "stderr",
     "output_type": "stream",
     "text": [
      "[12:16:20] UFFTYPER: Unrecognized charge state for atom: 1\n"
     ]
    },
    {
     "name": "stdout",
     "output_type": "stream",
     "text": [
      "\"Unable to open object (object 'extracted_forces' doesn't exist)\"\"Unable to open object (object 'extracted_forces' doesn't exist)\"\n",
      "\n",
      "\"Unable to open object (object 'extracted_forces' doesn't exist)\"\"Unable to open object (object 'extracted_forces' doesn't exist)\"\n",
      "\n",
      "\"Unable to open object (object 'extracted_forces' doesn't exist)\"\"Unable to open object (object 'extracted_forces' doesn't exist)\"\n",
      "\n",
      "\"Unable to open object (object 'extracted_forces' doesn't exist)\"\"Unable to open object (object 'extracted_forces' doesn't exist)\"\n",
      "\n",
      "\"Unable to open object (object 'extracted_forces' doesn't exist)\"\"Unable to open object (object 'extracted_forces' doesn't exist)\"\n",
      "\n",
      "\"Unable to open object (object 'extracted_forces' doesn't exist)\"\"Unable to open object (object 'extracted_forces' doesn't exist)\"\n",
      "\n",
      "\"Unable to open object (object 'extracted_forces' doesn't exist)\"\n",
      "\"Unable to open object (object 'extracted_forces' doesn't exist)\"\n",
      "\"Unable to open object (object 'extracted_forces' doesn't exist)\"\n",
      "\"Unable to open object (object 'extracted_forces' doesn't exist)\"\n",
      "\"Unable to open object (object 'extracted_forces' doesn't exist)\"\n",
      "\"Unable to open object (object 'extracted_forces' doesn't exist)\"\n",
      "\"Unable to open object (object 'extracted_forces' doesn't exist)\"\n",
      "\"Unable to open object (object 'extracted_forces' doesn't exist)\"\n"
     ]
    },
    {
     "name": "stderr",
     "output_type": "stream",
     "text": [
      "[12:16:24] UFFTYPER: Unrecognized charge state for atom: 20\n",
      "[12:16:26] UFFTYPER: Unrecognized charge state for atom: 2\n",
      "[12:16:27] UFFTYPER: Unrecognized charge state for atom: 5\n"
     ]
    },
    {
     "name": "stdout",
     "output_type": "stream",
     "text": [
      "\"Unable to open object (object 'extracted_forces' doesn't exist)\"\n"
     ]
    },
    {
     "name": "stderr",
     "output_type": "stream",
     "text": [
      "[12:16:30] UFFTYPER: Unrecognized charge state for atom: 1\n",
      "[12:16:36] UFFTYPER: Unrecognized charge state for atom: 9\n",
      "[12:16:36] UFFTYPER: Unrecognized charge state for atom: 9\n",
      "[12:16:37] UFFTYPER: Unrecognized charge state for atom: 1\n",
      "[12:16:41] UFFTYPER: Unrecognized charge state for atom: 4\n",
      "[12:16:44] UFFTYPER: Unrecognized charge state for atom: 18\n",
      "[12:16:45] UFFTYPER: Unrecognized charge state for atom: 8\n",
      "[12:16:46] UFFTYPER: Unrecognized charge state for atom: 14\n",
      "[12:16:48] UFFTYPER: Unrecognized charge state for atom: 7\n",
      "[12:16:54] UFFTYPER: Warning: hybridization set to SP3 for atom 2\n",
      "[12:17:03] UFFTYPER: Unrecognized charge state for atom: 16\n",
      "[12:17:04] UFFTYPER: Unrecognized charge state for atom: 1\n",
      "[12:17:09] UFFTYPER: Unrecognized charge state for atom: 8\n",
      "[12:17:10] UFFTYPER: Unrecognized charge state for atom: 5\n"
     ]
    },
    {
     "name": "stdout",
     "output_type": "stream",
     "text": [
      "\"Unable to open object (object 'extracted_forces' doesn't exist)\"\n",
      "\"Unable to open object (object 'extracted_forces' doesn't exist)\"\n",
      "\"Unable to open object (object 'extracted_forces' doesn't exist)\"\n",
      "\"Unable to open object (object 'extracted_forces' doesn't exist)\"\n",
      "\"Unable to open object (object 'extracted_forces' doesn't exist)\"\n",
      "\"Unable to open object (object 'extracted_forces' doesn't exist)\"\n",
      "\"Unable to open object (object 'extracted_forces' doesn't exist)\"\n",
      "\"Unable to open object (object 'extracted_forces' doesn't exist)\"\n",
      "\"Unable to open object (object 'extracted_forces' doesn't exist)\"\n",
      "\"Unable to open object (object 'extracted_forces' doesn't exist)\"\n",
      "\"Unable to open object (object 'extracted_forces' doesn't exist)\"\n",
      "\"Unable to open object (object 'extracted_forces' doesn't exist)\"\n",
      "\"Unable to open object (object 'extracted_forces' doesn't exist)\"\n",
      "\"Unable to open object (object 'extracted_forces' doesn't exist)\"\n",
      "\"Unable to open object (object 'extracted_forces' doesn't exist)\"\n",
      "\"Unable to open object (object 'extracted_forces' doesn't exist)\"\n",
      "\"Unable to open object (object 'extracted_forces' doesn't exist)\"\n",
      "\"Unable to open object (object 'extracted_forces' doesn't exist)\"\n",
      "\"Unable to open object (object 'extracted_forces' doesn't exist)\"\n",
      "\"Unable to open object (object 'extracted_forces' doesn't exist)\"\n",
      "\"Unable to open object (object 'extracted_forces' doesn't exist)\"\n",
      "\"Unable to open object (object 'extracted_forces' doesn't exist)\"\n",
      "\"Unable to open object (object 'extracted_forces' doesn't exist)\"\n",
      "\"Unable to open object (object 'extracted_forces' doesn't exist)\"\n",
      "\"Unable to open object (object 'extracted_forces' doesn't exist)\"\n",
      "\"Unable to open object (object 'extracted_forces' doesn't exist)\"\n",
      "\"Unable to open object (object 'extracted_forces' doesn't exist)\"\n",
      "\"Unable to open object (object 'extracted_forces' doesn't exist)\"\n",
      "\"Unable to open object (object 'extracted_forces' doesn't exist)\"\n",
      "\"Unable to open object (object 'extracted_forces' doesn't exist)\"\n",
      "\"Unable to open object (object 'extracted_forces' doesn't exist)\"\n",
      "\"Unable to open object (object 'extracted_forces' doesn't exist)\"\n",
      "\"Unable to open object (object 'extracted_forces' doesn't exist)\"\n",
      "\"Unable to open object (object 'extracted_forces' doesn't exist)\"\n",
      "\"Unable to open object (object 'extracted_forces' doesn't exist)\"\n",
      "\"Unable to open object (object 'extracted_forces' doesn't exist)\"\n",
      "\"Unable to open object (object 'extracted_forces' doesn't exist)\"\n",
      "\"Unable to open object (object 'extracted_forces' doesn't exist)\"\n"
     ]
    },
    {
     "name": "stderr",
     "output_type": "stream",
     "text": [
      "[12:17:14] UFFTYPER: Unrecognized charge state for atom: 9\n",
      "[12:17:14] UFFTYPER: Unrecognized charge state for atom: 10\n"
     ]
    },
    {
     "name": "stdout",
     "output_type": "stream",
     "text": [
      "\"Unable to open object (object 'extracted_forces' doesn't exist)\"\n",
      "\"Unable to open object (object 'extracted_forces' doesn't exist)\"\n",
      "\"Unable to open object (object 'extracted_forces' doesn't exist)\"\n",
      "\"Unable to open object (object 'extracted_forces' doesn't exist)\"\n",
      "\"Unable to open object (object 'extracted_forces' doesn't exist)\"\n",
      "\"Unable to open object (object 'extracted_forces' doesn't exist)\"\n",
      "\"Unable to open object (object 'extracted_forces' doesn't exist)\"\n",
      "\"Unable to open object (object 'extracted_forces' doesn't exist)\"\n",
      "\"Unable to open object (object 'extracted_forces' doesn't exist)\"\n",
      "\"Unable to open object (object 'extracted_forces' doesn't exist)\"\n",
      "\"Unable to open object (object 'extracted_forces' doesn't exist)\"\n",
      "\"Unable to open object (object 'extracted_forces' doesn't exist)\"\n",
      "\"Unable to open object (object 'extracted_forces' doesn't exist)\"\n",
      "\"Unable to open object (object 'extracted_forces' doesn't exist)\"\n",
      "\"Unable to open object (object 'extracted_forces' doesn't exist)\"\n",
      "\"Unable to open object (object 'extracted_forces' doesn't exist)\"\n",
      "\"Unable to open object (object 'extracted_forces' doesn't exist)\"\n",
      "\"Unable to open object (object 'extracted_forces' doesn't exist)\"\n",
      "\"Unable to open object (object 'extracted_forces' doesn't exist)\"\n",
      "\"Unable to open object (object 'extracted_forces' doesn't exist)\"\n",
      "\"Unable to open object (object 'extracted_forces' doesn't exist)\"\n",
      "\"Unable to open object (object 'extracted_forces' doesn't exist)\"\n",
      "\"Unable to open object (object 'extracted_forces' doesn't exist)\"\n",
      "\"Unable to open object (object 'extracted_forces' doesn't exist)\"\n",
      "\"Unable to open object (object 'extracted_forces' doesn't exist)\"\n",
      "\"Unable to open object (object 'extracted_forces' doesn't exist)\"\n",
      "\"Unable to open object (object 'extracted_forces' doesn't exist)\"\n",
      "\"Unable to open object (object 'extracted_forces' doesn't exist)\"\n",
      "\"Unable to open object (object 'extracted_forces' doesn't exist)\"\n",
      "\"Unable to open object (object 'extracted_forces' doesn't exist)\"\n",
      "\"Unable to open object (object 'extracted_forces' doesn't exist)\"\n",
      "\"Unable to open object (object 'extracted_forces' doesn't exist)\"\n",
      "\"Unable to open object (object 'extracted_forces' doesn't exist)\"\n",
      "\"Unable to open object (object 'extracted_forces' doesn't exist)\"\n",
      "\"Unable to open object (object 'extracted_forces' doesn't exist)\"\n",
      "\"Unable to open object (object 'extracted_forces' doesn't exist)\"\n",
      "\"Unable to open object (object 'extracted_forces' doesn't exist)\"\n",
      "\"Unable to open object (object 'extracted_forces' doesn't exist)\"\n",
      "\"Unable to open object (object 'extracted_forces' doesn't exist)\"\n"
     ]
    },
    {
     "name": "stderr",
     "output_type": "stream",
     "text": [
      "[12:17:24] UFFTYPER: Unrecognized charge state for atom: 1\n",
      "[12:17:27] UFFTYPER: Unrecognized charge state for atom: 10\n",
      "[12:17:28] UFFTYPER: Unrecognized charge state for atom: 1\n",
      "[12:17:29] UFFTYPER: Unrecognized charge state for atom: 18\n",
      "[12:17:31] UFFTYPER: Unrecognized charge state for atom: 8\n",
      "[12:17:35] UFFTYPER: Unrecognized charge state for atom: 15\n",
      "[12:17:35] UFFTYPER: Unrecognized charge state for atom: 5\n",
      "[12:17:36] UFFTYPER: Unrecognized charge state for atom: 5\n",
      "[12:17:39] UFFTYPER: Unrecognized charge state for atom: 9\n",
      "[12:17:42] UFFTYPER: Unrecognized charge state for atom: 9\n",
      "[12:17:43] UFFTYPER: Unrecognized charge state for atom: 10\n",
      "[12:17:43] UFFTYPER: Unrecognized charge state for atom: 8\n"
     ]
    },
    {
     "name": "stdout",
     "output_type": "stream",
     "text": [
      "\"Unable to open object (object 'extracted_forces' doesn't exist)\"\n",
      "\"Unable to open object (object 'extracted_forces' doesn't exist)\"\n",
      "\"Unable to open object (object 'extracted_forces' doesn't exist)\"\n",
      "\"Unable to open object (object 'extracted_forces' doesn't exist)\"\n",
      "\"Unable to open object (object 'extracted_forces' doesn't exist)\"\n",
      "\"Unable to open object (object 'extracted_forces' doesn't exist)\"\n",
      "\"Unable to open object (object 'extracted_forces' doesn't exist)\"\n",
      "\"Unable to open object (object 'extracted_forces' doesn't exist)\"\n",
      "\"Unable to open object (object 'extracted_forces' doesn't exist)\"\n",
      "\"Unable to open object (object 'extracted_forces' doesn't exist)\"\n",
      "\"Unable to open object (object 'extracted_forces' doesn't exist)\"\n",
      "\"Unable to open object (object 'extracted_forces' doesn't exist)\"\n",
      "\"Unable to open object (object 'extracted_forces' doesn't exist)\"\n",
      "\"Unable to open object (object 'extracted_forces' doesn't exist)\"\n",
      "\"Unable to open object (object 'extracted_forces' doesn't exist)\"\n",
      "\"Unable to open object (object 'extracted_forces' doesn't exist)\"\n",
      "\"Unable to open object (object 'extracted_forces' doesn't exist)\"\n",
      "\"Unable to open object (object 'extracted_forces' doesn't exist)\"\n",
      "\"Unable to open object (object 'extracted_forces' doesn't exist)\"\n",
      "\"Unable to open object (object 'extracted_forces' doesn't exist)\"\n",
      "\"Unable to open object (object 'extracted_forces' doesn't exist)\"\n",
      "\"Unable to open object (object 'extracted_forces' doesn't exist)\"\n",
      "\"Unable to open object (object 'extracted_forces' doesn't exist)\"\n",
      "\"Unable to open object (object 'extracted_forces' doesn't exist)\"\n",
      "\"Unable to open object (object 'extracted_forces' doesn't exist)\"\n",
      "\"Unable to open object (object 'extracted_forces' doesn't exist)\"\n",
      "\"Unable to open object (object 'extracted_forces' doesn't exist)\"\n",
      "\"Unable to open object (object 'extracted_forces' doesn't exist)\"\n"
     ]
    },
    {
     "name": "stderr",
     "output_type": "stream",
     "text": [
      "[12:17:48] UFFTYPER: Unrecognized charge state for atom: 12\n",
      "[12:17:49] UFFTYPER: Unrecognized charge state for atom: 10\n"
     ]
    },
    {
     "name": "stdout",
     "output_type": "stream",
     "text": [
      "\"Unable to open object (object 'extracted_forces' doesn't exist)\"\n",
      "\"Unable to open object (object 'extracted_forces' doesn't exist)\"\n",
      "\"Unable to open object (object 'extracted_forces' doesn't exist)\"\n",
      "\"Unable to open object (object 'extracted_forces' doesn't exist)\"\n",
      "\"Unable to open object (object 'extracted_forces' doesn't exist)\"\n",
      "\"Unable to open object (object 'extracted_forces' doesn't exist)\"\n",
      "\"Unable to open object (object 'extracted_forces' doesn't exist)\"\n",
      "\"Unable to open object (object 'extracted_forces' doesn't exist)\"\n",
      "\"Unable to open object (object 'extracted_forces' doesn't exist)\"\n",
      "\"Unable to open object (object 'extracted_forces' doesn't exist)\"\n",
      "\"Unable to open object (object 'extracted_forces' doesn't exist)\"\n",
      "\"Unable to open object (object 'extracted_forces' doesn't exist)\"\n",
      "\"Unable to open object (object 'extracted_forces' doesn't exist)\"\n",
      "\"Unable to open object (object 'extracted_forces' doesn't exist)\"\n",
      "\"Unable to open object (object 'extracted_forces' doesn't exist)\"\n",
      "\"Unable to open object (object 'extracted_forces' doesn't exist)\"\n",
      "\"Unable to open object (object 'extracted_forces' doesn't exist)\"\n",
      "\"Unable to open object (object 'extracted_forces' doesn't exist)\"\n",
      "\"Unable to open object (object 'extracted_forces' doesn't exist)\"\n",
      "\"Unable to open object (object 'extracted_forces' doesn't exist)\"\n",
      "\"Unable to open object (object 'extracted_forces' doesn't exist)\"\n",
      "\"Unable to open object (object 'extracted_forces' doesn't exist)\"\n",
      "\"Unable to open object (object 'extracted_forces' doesn't exist)\"\n",
      "\"Unable to open object (object 'extracted_forces' doesn't exist)\"\n",
      "\"Unable to open object (object 'extracted_forces' doesn't exist)\"\n",
      "\"Unable to open object (object 'extracted_forces' doesn't exist)\"\n",
      "\"Unable to open object (object 'extracted_forces' doesn't exist)\"\n",
      "\"Unable to open object (object 'extracted_forces' doesn't exist)\"\n",
      "\"Unable to open object (object 'extracted_forces' doesn't exist)\"\n",
      "\"Unable to open object (object 'extracted_forces' doesn't exist)\"\n",
      "\"Unable to open object (object 'extracted_forces' doesn't exist)\"\n",
      "\"Unable to open object (object 'extracted_forces' doesn't exist)\"\n",
      "\"Unable to open object (object 'extracted_forces' doesn't exist)\"\n",
      "\"Unable to open object (object 'extracted_forces' doesn't exist)\"\n"
     ]
    },
    {
     "name": "stderr",
     "output_type": "stream",
     "text": [
      "[12:17:54] UFFTYPER: Unrecognized charge state for atom: 10\n"
     ]
    },
    {
     "name": "stdout",
     "output_type": "stream",
     "text": [
      "\"Unable to open object (object 'extracted_forces' doesn't exist)\"\n",
      "\"Unable to open object (object 'extracted_forces' doesn't exist)\"\n",
      "\"Unable to open object (object 'extracted_forces' doesn't exist)\"\n"
     ]
    },
    {
     "name": "stderr",
     "output_type": "stream",
     "text": [
      "[12:17:57] UFFTYPER: Unrecognized charge state for atom: 13\n",
      "[12:18:03] UFFTYPER: Unrecognized charge state for atom: 1\n",
      "[12:18:05] UFFTYPER: Unrecognized charge state for atom: 17\n",
      "[12:18:05] UFFTYPER: Unrecognized charge state for atom: 12\n",
      "[12:18:11] UFFTYPER: Unrecognized charge state for atom: 15\n",
      "[12:18:13] UFFTYPER: Unrecognized charge state for atom: 7\n",
      "[12:18:13] UFFTYPER: Unrecognized charge state for atom: 5\n",
      "[12:18:17] UFFTYPER: Unrecognized charge state for atom: 12\n",
      "[12:18:18] UFFTYPER: Unrecognized charge state for atom: 1\n",
      "[12:18:23] UFFTYPER: Unrecognized charge state for atom: 9\n"
     ]
    },
    {
     "name": "stdout",
     "output_type": "stream",
     "text": [
      "\"Unable to open object (object 'extracted_forces' doesn't exist)\"\n",
      "\"Unable to open object (object 'extracted_forces' doesn't exist)\"\n",
      "\"Unable to open object (object 'extracted_forces' doesn't exist)\"\n",
      "\"Unable to open object (object 'extracted_forces' doesn't exist)\"\n",
      "\"Unable to open object (object 'extracted_forces' doesn't exist)\"\n",
      "\"Unable to open object (object 'extracted_forces' doesn't exist)\"\n",
      "\"Unable to open object (object 'extracted_forces' doesn't exist)\"\n",
      "\"Unable to open object (object 'extracted_forces' doesn't exist)\"\n",
      "\"Unable to open object (object 'extracted_forces' doesn't exist)\"\n",
      "\"Unable to open object (object 'extracted_forces' doesn't exist)\"\n",
      "\"Unable to open object (object 'extracted_forces' doesn't exist)\"\n",
      "\"Unable to open object (object 'extracted_forces' doesn't exist)\"\n",
      "\"Unable to open object (object 'extracted_forces' doesn't exist)\"\n",
      "\"Unable to open object (object 'extracted_forces' doesn't exist)\"\n",
      "\"Unable to open object (object 'extracted_forces' doesn't exist)\"\n",
      "\"Unable to open object (object 'extracted_forces' doesn't exist)\"\n",
      "\"Unable to open object (object 'extracted_forces' doesn't exist)\"\n",
      "\"Unable to open object (object 'extracted_forces' doesn't exist)\"\n",
      "\"Unable to open object (object 'extracted_forces' doesn't exist)\"\n",
      "\"Unable to open object (object 'extracted_forces' doesn't exist)\"\n",
      "\"Unable to open object (object 'extracted_forces' doesn't exist)\"\n",
      "\"Unable to open object (object 'extracted_forces' doesn't exist)\"\n",
      "\"Unable to open object (object 'extracted_forces' doesn't exist)\"\n",
      "\"Unable to open object (object 'extracted_forces' doesn't exist)\"\n",
      "\"Unable to open object (object 'extracted_forces' doesn't exist)\"\n"
     ]
    },
    {
     "name": "stderr",
     "output_type": "stream",
     "text": [
      "[12:18:25] UFFTYPER: Unrecognized charge state for atom: 5\n",
      "[12:18:26] UFFTYPER: Unrecognized charge state for atom: 1\n",
      "[12:18:26] UFFTYPER: Unrecognized charge state for atom: 8\n",
      "[12:18:31] UFFTYPER: Unrecognized charge state for atom: 13\n"
     ]
    },
    {
     "name": "stdout",
     "output_type": "stream",
     "text": [
      "\"Unable to open object (object 'extracted_forces' doesn't exist)\"\n"
     ]
    },
    {
     "name": "stderr",
     "output_type": "stream",
     "text": [
      "[12:18:34] UFFTYPER: Unrecognized charge state for atom: 9\n",
      "[12:18:38] UFFTYPER: Unrecognized charge state for atom: 11\n",
      "[12:18:48] UFFTYPER: Unrecognized charge state for atom: 5\n",
      "[12:18:52] UFFTYPER: Unrecognized charge state for atom: 8\n",
      "[12:18:53] UFFTYPER: Unrecognized charge state for atom: 14\n"
     ]
    },
    {
     "name": "stdout",
     "output_type": "stream",
     "text": [
      "\"Unable to open object (object 'extracted_forces' doesn't exist)\"\n"
     ]
    },
    {
     "name": "stderr",
     "output_type": "stream",
     "text": [
      "[12:19:09] UFFTYPER: Unrecognized charge state for atom: 10\n",
      "[12:19:13] UFFTYPER: Unrecognized charge state for atom: 18\n",
      "[12:19:14] UFFTYPER: Unrecognized charge state for atom: 4\n",
      "[12:19:16] UFFTYPER: Unrecognized charge state for atom: 9\n",
      "[12:19:19] UFFTYPER: Unrecognized charge state for atom: 4\n",
      "[12:19:34] UFFTYPER: Unrecognized charge state for atom: 5\n",
      "[12:19:34] UFFTYPER: Unrecognized charge state for atom: 6\n",
      "[12:19:37] UFFTYPER: Unrecognized charge state for atom: 15\n",
      "[12:19:38] UFFTYPER: Unrecognized charge state for atom: 6\n",
      "[12:19:38] UFFTYPER: Unrecognized charge state for atom: 1\n",
      "[12:19:42] UFFTYPER: Unrecognized charge state for atom: 15\n",
      "[12:19:45] UFFTYPER: Unrecognized charge state for atom: 21\n",
      "[12:19:46] UFFTYPER: Unrecognized charge state for atom: 15\n",
      "[12:19:49] UFFTYPER: Unrecognized charge state for atom: 5\n",
      "[12:19:55] UFFTYPER: Unrecognized charge state for atom: 1\n",
      "[12:19:56] UFFTYPER: Unrecognized charge state for atom: 18\n",
      "[12:19:57] UFFTYPER: Unrecognized charge state for atom: 2\n",
      "[12:20:00] UFFTYPER: Unrecognized charge state for atom: 15\n",
      "[12:20:00] UFFTYPER: Unrecognized charge state for atom: 7\n",
      "[12:20:02] UFFTYPER: Unrecognized charge state for atom: 16\n",
      "[12:20:02] UFFTYPER: Unrecognized charge state for atom: 19\n",
      "[12:20:03] UFFTYPER: Unrecognized charge state for atom: 6\n",
      "[12:20:03] UFFTYPER: Unrecognized charge state for atom: 6\n",
      "[12:20:06] UFFTYPER: Unrecognized charge state for atom: 2\n",
      "[12:20:12] UFFTYPER: Unrecognized charge state for atom: 1\n",
      "[12:20:12] UFFTYPER: Unrecognized charge state for atom: 8\n",
      "[12:20:13] UFFTYPER: Unrecognized charge state for atom: 10\n",
      "[12:20:18] UFFTYPER: Unrecognized charge state for atom: 4\n",
      "[12:20:23] UFFTYPER: Unrecognized charge state for atom: 9\n",
      "[12:20:23] UFFTYPER: Unrecognized charge state for atom: 8\n",
      "[12:20:24] UFFTYPER: Unrecognized charge state for atom: 5\n",
      "[12:20:24] UFFTYPER: Unrecognized charge state for atom: 4\n",
      "[12:20:25] UFFTYPER: Unrecognized charge state for atom: 9\n"
     ]
    },
    {
     "name": "stdout",
     "output_type": "stream",
     "text": [
      "\"Unable to open object (object 'extracted_forces' doesn't exist)\"\n",
      "\"Unable to open object (object 'extracted_forces' doesn't exist)\"\n",
      "\"Unable to open object (object 'extracted_forces' doesn't exist)\"\n",
      "\"Unable to open object (object 'extracted_forces' doesn't exist)\"\n",
      "\"Unable to open object (object 'extracted_forces' doesn't exist)\"\n",
      "\"Unable to open object (object 'extracted_forces' doesn't exist)\"\n",
      "\"Unable to open object (object 'extracted_forces' doesn't exist)\"\n",
      "\"Unable to open object (object 'extracted_forces' doesn't exist)\"\n",
      "\"Unable to open object (object 'extracted_forces' doesn't exist)\"\n",
      "\"Unable to open object (object 'extracted_forces' doesn't exist)\"\n",
      "\"Unable to open object (object 'extracted_forces' doesn't exist)\"\n",
      "\"Unable to open object (object 'extracted_forces' doesn't exist)\"\n",
      "\"Unable to open object (object 'extracted_forces' doesn't exist)\"\n",
      "\"Unable to open object (object 'extracted_forces' doesn't exist)\"\n",
      "\"Unable to open object (object 'extracted_forces' doesn't exist)\"\n",
      "\"Unable to open object (object 'extracted_forces' doesn't exist)\"\n",
      "\"Unable to open object (object 'extracted_forces' doesn't exist)\"\n",
      "\"Unable to open object (object 'extracted_forces' doesn't exist)\"\n",
      "\"Unable to open object (object 'extracted_forces' doesn't exist)\"\n",
      "\"Unable to open object (object 'extracted_forces' doesn't exist)\"\n",
      "\"Unable to open object (object 'extracted_forces' doesn't exist)\"\n",
      "\"Unable to open object (object 'extracted_forces' doesn't exist)\"\n",
      "\"Unable to open object (object 'extracted_forces' doesn't exist)\"\n",
      "\"Unable to open object (object 'extracted_forces' doesn't exist)\"\n",
      "\"Unable to open object (object 'extracted_forces' doesn't exist)\"\n",
      "\"Unable to open object (object 'extracted_forces' doesn't exist)\"\n",
      "\"Unable to open object (object 'extracted_forces' doesn't exist)\"\n",
      "\"Unable to open object (object 'extracted_forces' doesn't exist)\"\n",
      "\"Unable to open object (object 'extracted_forces' doesn't exist)\"\n",
      "\"Unable to open object (object 'extracted_forces' doesn't exist)\"\n",
      "\"Unable to open object (object 'extracted_forces' doesn't exist)\"\n",
      "\"Unable to open object (object 'extracted_forces' doesn't exist)\"\n",
      "\"Unable to open object (object 'extracted_forces' doesn't exist)\"\n",
      "\"Unable to open object (object 'extracted_forces' doesn't exist)\"\n",
      "\"Unable to open object (object 'extracted_forces' doesn't exist)\"\n",
      "\"Unable to open object (object 'extracted_forces' doesn't exist)\"\n",
      "\"Unable to open object (object 'extracted_forces' doesn't exist)\"\n",
      "\"Unable to open object (object 'extracted_forces' doesn't exist)\"\n",
      "\"Unable to open object (object 'extracted_forces' doesn't exist)\"\n",
      "\"Unable to open object (object 'extracted_forces' doesn't exist)\"\n",
      "\"Unable to open object (object 'extracted_forces' doesn't exist)\"\n",
      "\"Unable to open object (object 'extracted_forces' doesn't exist)\"\n",
      "\"Unable to open object (object 'extracted_forces' doesn't exist)\"\n",
      "\"Unable to open object (object 'extracted_forces' doesn't exist)\"\n",
      "\"Unable to open object (object 'extracted_forces' doesn't exist)\"\n",
      "\"Unable to open object (object 'extracted_forces' doesn't exist)\"\n",
      "\"Unable to open object (object 'extracted_forces' doesn't exist)\"\n",
      "\"Unable to open object (object 'extracted_forces' doesn't exist)\"\n",
      "\"Unable to open object (object 'extracted_forces' doesn't exist)\"\n",
      "\"Unable to open object (object 'extracted_forces' doesn't exist)\"\n",
      "\"Unable to open object (object 'extracted_forces' doesn't exist)\"\n",
      "\"Unable to open object (object 'extracted_forces' doesn't exist)\"\n",
      "\"Unable to open object (object 'extracted_forces' doesn't exist)\"\n",
      "\"Unable to open object (object 'extracted_forces' doesn't exist)\"\n",
      "\"Unable to open object (object 'extracted_forces' doesn't exist)\"\n",
      "\"Unable to open object (object 'extracted_forces' doesn't exist)\"\n",
      "\"Unable to open object (object 'extracted_forces' doesn't exist)\"\n",
      "\"Unable to open object (object 'extracted_forces' doesn't exist)\"\n",
      "\"Unable to open object (object 'extracted_forces' doesn't exist)\"\n",
      "\"Unable to open object (object 'extracted_forces' doesn't exist)\"\n",
      "\"Unable to open object (object 'extracted_forces' doesn't exist)\"\n",
      "\"Unable to open object (object 'extracted_forces' doesn't exist)\"\n",
      "\"Unable to open object (object 'extracted_forces' doesn't exist)\"\n",
      "\"Unable to open object (object 'extracted_forces' doesn't exist)\"\n",
      "\"Unable to open object (object 'extracted_forces' doesn't exist)\"\n",
      "\"Unable to open object (object 'extracted_forces' doesn't exist)\"\n",
      "\"Unable to open object (object 'extracted_forces' doesn't exist)\"\n",
      "\"Unable to open object (object 'extracted_forces' doesn't exist)\"\n",
      "\"Unable to open object (object 'extracted_forces' doesn't exist)\"\n",
      "\"Unable to open object (object 'extracted_forces' doesn't exist)\"\n",
      "\"Unable to open object (object 'extracted_forces' doesn't exist)\"\n",
      "\"Unable to open object (object 'extracted_forces' doesn't exist)\"\n",
      "\"Unable to open object (object 'extracted_forces' doesn't exist)\"\n",
      "\"Unable to open object (object 'extracted_forces' doesn't exist)\"\n",
      "\"Unable to open object (object 'extracted_forces' doesn't exist)\"\n"
     ]
    },
    {
     "name": "stderr",
     "output_type": "stream",
     "text": [
      "[12:20:45] UFFTYPER: Unrecognized charge state for atom: 10\n",
      "[12:20:54] UFFTYPER: Unrecognized charge state for atom: 4\n",
      "[12:20:58] UFFTYPER: Unrecognized charge state for atom: 15\n"
     ]
    },
    {
     "name": "stdout",
     "output_type": "stream",
     "text": [
      "\"Unable to open object (object 'extracted_forces' doesn't exist)\"\n",
      "\"Unable to open object (object 'extracted_forces' doesn't exist)\"\n",
      "\"Unable to open object (object 'extracted_forces' doesn't exist)\"\n",
      "\"Unable to open object (object 'extracted_forces' doesn't exist)\"\n",
      "\"Unable to open object (object 'extracted_forces' doesn't exist)\"\n",
      "\"Unable to open object (object 'extracted_forces' doesn't exist)\"\n",
      "\"Unable to open object (object 'extracted_forces' doesn't exist)\"\n",
      "\"Unable to open object (object 'extracted_forces' doesn't exist)\"\n",
      "\"Unable to open object (object 'extracted_forces' doesn't exist)\"\n",
      "\"Unable to open object (object 'extracted_forces' doesn't exist)\"\n",
      "\"Unable to open object (object 'extracted_forces' doesn't exist)\"\n",
      "\"Unable to open object (object 'extracted_forces' doesn't exist)\"\n",
      "\"Unable to open object (object 'extracted_forces' doesn't exist)\"\n",
      "\"Unable to open object (object 'extracted_forces' doesn't exist)\"\n",
      "\"Unable to open object (object 'extracted_forces' doesn't exist)\"\n",
      "\"Unable to open object (object 'extracted_forces' doesn't exist)\"\n",
      "\"Unable to open object (object 'extracted_forces' doesn't exist)\"\n",
      "\"Unable to open object (object 'extracted_forces' doesn't exist)\"\n",
      "\"Unable to open object (object 'extracted_forces' doesn't exist)\"\n",
      "\"Unable to open object (object 'extracted_forces' doesn't exist)\"\n",
      "\"Unable to open object (object 'extracted_forces' doesn't exist)\"\n",
      "\"Unable to open object (object 'extracted_forces' doesn't exist)\"\n",
      "\"Unable to open object (object 'extracted_forces' doesn't exist)\"\n",
      "\"Unable to open object (object 'extracted_forces' doesn't exist)\"\n",
      "\"Unable to open object (object 'extracted_forces' doesn't exist)\"\n",
      "\"Unable to open object (object 'extracted_forces' doesn't exist)\"\n",
      "\"Unable to open object (object 'extracted_forces' doesn't exist)\"\n",
      "\"Unable to open object (object 'extracted_forces' doesn't exist)\"\n",
      "\"Unable to open object (object 'extracted_forces' doesn't exist)\"\n",
      "\"Unable to open object (object 'extracted_forces' doesn't exist)\"\n",
      "\"Unable to open object (object 'extracted_forces' doesn't exist)\"\n",
      "\"Unable to open object (object 'extracted_forces' doesn't exist)\"\n",
      "\"Unable to open object (object 'extracted_forces' doesn't exist)\"\n",
      "\"Unable to open object (object 'extracted_forces' doesn't exist)\"\n",
      "\"Unable to open object (object 'extracted_forces' doesn't exist)\"\n",
      "\"Unable to open object (object 'extracted_forces' doesn't exist)\"\n",
      "\"Unable to open object (object 'extracted_forces' doesn't exist)\"\n",
      "\"Unable to open object (object 'extracted_forces' doesn't exist)\"\n",
      "\"Unable to open object (object 'extracted_forces' doesn't exist)\"\n",
      "\"Unable to open object (object 'extracted_forces' doesn't exist)\"\n",
      "\"Unable to open object (object 'extracted_forces' doesn't exist)\"\n",
      "\"Unable to open object (object 'extracted_forces' doesn't exist)\"\n",
      "\"Unable to open object (object 'extracted_forces' doesn't exist)\"\n",
      "\"Unable to open object (object 'extracted_forces' doesn't exist)\"\n",
      "\"Unable to open object (object 'extracted_forces' doesn't exist)\"\n",
      "\"Unable to open object (object 'extracted_forces' doesn't exist)\"\n",
      "\"Unable to open object (object 'extracted_forces' doesn't exist)\"\n",
      "\"Unable to open object (object 'extracted_forces' doesn't exist)\"\n"
     ]
    },
    {
     "name": "stderr",
     "output_type": "stream",
     "text": [
      "[12:21:00] UFFTYPER: Unrecognized charge state for atom: 3\n",
      "[12:21:09] UFFTYPER: Unrecognized charge state for atom: 6\n",
      "[12:21:12] UFFTYPER: Unrecognized charge state for atom: 11\n",
      "[12:21:12] UFFTYPER: Unrecognized charge state for atom: 5\n",
      "[12:21:12] UFFTYPER: Unrecognized charge state for atom: 8\n",
      "[12:21:19] UFFTYPER: Unrecognized charge state for atom: 1\n",
      "[12:21:20] UFFTYPER: Unrecognized charge state for atom: 8\n"
     ]
    },
    {
     "name": "stdout",
     "output_type": "stream",
     "text": [
      "\"Unable to open object (object 'extracted_forces' doesn't exist)\"\n",
      "\"Unable to open object (object 'extracted_forces' doesn't exist)\"\n",
      "\"Unable to open object (object 'extracted_forces' doesn't exist)\"\n",
      "\"Unable to open object (object 'extracted_forces' doesn't exist)\"\n",
      "\"Unable to open object (object 'extracted_forces' doesn't exist)\"\n",
      "\"Unable to open object (object 'extracted_forces' doesn't exist)\"\n",
      "\"Unable to open object (object 'extracted_forces' doesn't exist)\"\n",
      "\"Unable to open object (object 'extracted_forces' doesn't exist)\"\n",
      "\"Unable to open object (object 'extracted_forces' doesn't exist)\"\n",
      "\"Unable to open object (object 'extracted_forces' doesn't exist)\"\n",
      "\"Unable to open object (object 'extracted_forces' doesn't exist)\"\n",
      "\"Unable to open object (object 'extracted_forces' doesn't exist)\"\n",
      "\"Unable to open object (object 'extracted_forces' doesn't exist)\"\n",
      "\"Unable to open object (object 'extracted_forces' doesn't exist)\"\n"
     ]
    },
    {
     "name": "stderr",
     "output_type": "stream",
     "text": [
      "[12:21:29] UFFTYPER: Unrecognized charge state for atom: 1\n",
      "[12:21:30] UFFTYPER: Unrecognized charge state for atom: 4\n",
      "[12:21:32] UFFTYPER: Unrecognized charge state for atom: 3\n",
      "[12:21:36] UFFTYPER: Unrecognized charge state for atom: 1\n",
      "[12:21:43] UFFTYPER: Unrecognized charge state for atom: 1\n",
      "[12:21:44] UFFTYPER: Unrecognized charge state for atom: 7\n",
      "[12:21:51] UFFTYPER: Unrecognized charge state for atom: 20\n",
      "[12:21:59] UFFTYPER: Unrecognized charge state for atom: 13\n",
      "[12:22:03] UFFTYPER: Unrecognized charge state for atom: 9\n",
      "[12:22:04] UFFTYPER: Unrecognized charge state for atom: 5\n",
      "[12:22:08] UFFTYPER: Unrecognized charge state for atom: 19\n",
      "[12:22:08] UFFTYPER: Unrecognized charge state for atom: 8\n"
     ]
    },
    {
     "name": "stdout",
     "output_type": "stream",
     "text": [
      "\"Unable to open object (object 'extracted_forces' doesn't exist)\"\n"
     ]
    },
    {
     "name": "stderr",
     "output_type": "stream",
     "text": [
      "[12:22:11] UFFTYPER: Unrecognized charge state for atom: 16\n",
      "[12:22:13] UFFTYPER: Unrecognized charge state for atom: 19\n",
      "[12:22:32] UFFTYPER: Unrecognized charge state for atom: 5\n",
      "[12:22:35] UFFTYPER: Unrecognized charge state for atom: 5\n",
      "[12:22:36] UFFTYPER: Unrecognized charge state for atom: 1\n",
      "[12:22:42] UFFTYPER: Unrecognized charge state for atom: 19\n",
      "[12:22:50] UFFTYPER: Unrecognized charge state for atom: 4\n",
      "[12:22:53] UFFTYPER: Unrecognized charge state for atom: 8\n",
      "[12:22:56] UFFTYPER: Unrecognized charge state for atom: 6\n",
      "[12:22:58] UFFTYPER: Unrecognized charge state for atom: 12\n",
      "[12:23:00] UFFTYPER: Unrecognized charge state for atom: 1\n",
      "[12:23:00] UFFTYPER: Unrecognized charge state for atom: 5\n",
      "[12:23:01] UFFTYPER: Unrecognized charge state for atom: 1\n"
     ]
    },
    {
     "name": "stdout",
     "output_type": "stream",
     "text": [
      "\"Unable to open object (object 'extracted_forces' doesn't exist)\"\n",
      "\"Unable to open object (object 'extracted_forces' doesn't exist)\"\n",
      "\"Unable to open object (object 'extracted_forces' doesn't exist)\"\n",
      "\"Unable to open object (object 'extracted_forces' doesn't exist)\"\n",
      "\"Unable to open object (object 'extracted_forces' doesn't exist)\"\n",
      "\"Unable to open object (object 'extracted_forces' doesn't exist)\"\n",
      "\"Unable to open object (object 'extracted_forces' doesn't exist)\"\n",
      "\"Unable to open object (object 'extracted_forces' doesn't exist)\"\n",
      "\"Unable to open object (object 'extracted_forces' doesn't exist)\"\n",
      "\"Unable to open object (object 'extracted_forces' doesn't exist)\"\n",
      "\"Unable to open object (object 'extracted_forces' doesn't exist)\"\n",
      "\"Unable to open object (object 'extracted_forces' doesn't exist)\"\n",
      "\"Unable to open object (object 'extracted_forces' doesn't exist)\"\n",
      "\"Unable to open object (object 'extracted_forces' doesn't exist)\"\n",
      "\"Unable to open object (object 'extracted_forces' doesn't exist)\"\n",
      "\"Unable to open object (object 'extracted_forces' doesn't exist)\"\n",
      "\"Unable to open object (object 'extracted_forces' doesn't exist)\"\n",
      "\"Unable to open object (object 'extracted_forces' doesn't exist)\"\n",
      "\"Unable to open object (object 'extracted_forces' doesn't exist)\"\n",
      "\"Unable to open object (object 'extracted_forces' doesn't exist)\"\n",
      "\"Unable to open object (object 'extracted_forces' doesn't exist)\"\n",
      "\"Unable to open object (object 'extracted_forces' doesn't exist)\"\n",
      "\"Unable to open object (object 'extracted_forces' doesn't exist)\"\n",
      "\"Unable to open object (object 'extracted_forces' doesn't exist)\"\n",
      "\"Unable to open object (object 'extracted_forces' doesn't exist)\"\n",
      "\"Unable to open object (object 'extracted_forces' doesn't exist)\"\n",
      "\"Unable to open object (object 'extracted_forces' doesn't exist)\"\n",
      "\"Unable to open object (object 'extracted_forces' doesn't exist)\"\n",
      "\"Unable to open object (object 'extracted_forces' doesn't exist)\"\n",
      "\"Unable to open object (object 'extracted_forces' doesn't exist)\"\n",
      "\"Unable to open object (object 'extracted_forces' doesn't exist)\"\n",
      "\"Unable to open object (object 'extracted_forces' doesn't exist)\"\n",
      "\"Unable to open object (object 'extracted_forces' doesn't exist)\"\n",
      "\"Unable to open object (object 'extracted_forces' doesn't exist)\"\n",
      "\"Unable to open object (object 'extracted_forces' doesn't exist)\"\n",
      "\"Unable to open object (object 'extracted_forces' doesn't exist)\"\n"
     ]
    },
    {
     "name": "stderr",
     "output_type": "stream",
     "text": [
      "[12:23:06] UFFTYPER: Unrecognized charge state for atom: 12\n",
      "[12:23:07] UFFTYPER: Unrecognized charge state for atom: 8\n",
      "[12:23:08] UFFTYPER: Unrecognized charge state for atom: 13\n",
      "[12:23:13] UFFTYPER: Unrecognized charge state for atom: 8\n",
      "[12:23:18] UFFTYPER: Unrecognized charge state for atom: 7\n",
      "[12:23:18] UFFTYPER: Unrecognized charge state for atom: 11\n",
      "[12:23:23] UFFTYPER: Unrecognized charge state for atom: 7\n",
      "[12:23:24] UFFTYPER: Unrecognized charge state for atom: 3\n",
      "[12:23:30] UFFTYPER: Unrecognized charge state for atom: 18\n",
      "[12:23:32] UFFTYPER: Unrecognized charge state for atom: 9\n",
      "[12:23:32] UFFTYPER: Unrecognized charge state for atom: 8\n",
      "[12:23:38] UFFTYPER: Warning: hybridization set to SP3 for atom 3\n",
      "[12:23:48] UFFTYPER: Unrecognized charge state for atom: 19\n"
     ]
    },
    {
     "name": "stdout",
     "output_type": "stream",
     "text": [
      "\"Unable to open object (object 'extracted_forces' doesn't exist)\"\n",
      "\"Unable to open object (object 'extracted_forces' doesn't exist)\"\n",
      "\"Unable to open object (object 'extracted_forces' doesn't exist)\"\n",
      "\"Unable to open object (object 'extracted_forces' doesn't exist)\"\n",
      "\"Unable to open object (object 'extracted_forces' doesn't exist)\"\n",
      "\"Unable to open object (object 'extracted_forces' doesn't exist)\"\n",
      "\"Unable to open object (object 'extracted_forces' doesn't exist)\"\n",
      "\"Unable to open object (object 'extracted_forces' doesn't exist)\"\n",
      "\"Unable to open object (object 'extracted_forces' doesn't exist)\"\n",
      "\"Unable to open object (object 'extracted_forces' doesn't exist)\"\n",
      "\"Unable to open object (object 'extracted_forces' doesn't exist)\"\n",
      "\"Unable to open object (object 'extracted_forces' doesn't exist)\"\n",
      "\"Unable to open object (object 'extracted_forces' doesn't exist)\"\n",
      "\"Unable to open object (object 'extracted_forces' doesn't exist)\"\n",
      "\"Unable to open object (object 'extracted_forces' doesn't exist)\"\n",
      "\"Unable to open object (object 'extracted_forces' doesn't exist)\"\n",
      "\"Unable to open object (object 'extracted_forces' doesn't exist)\"\n",
      "\"Unable to open object (object 'extracted_forces' doesn't exist)\"\n",
      "\"Unable to open object (object 'extracted_forces' doesn't exist)\"\n",
      "\"Unable to open object (object 'extracted_forces' doesn't exist)\"\n"
     ]
    },
    {
     "name": "stderr",
     "output_type": "stream",
     "text": [
      "[12:23:50] UFFTYPER: Unrecognized charge state for atom: 4\n"
     ]
    },
    {
     "name": "stdout",
     "output_type": "stream",
     "text": [
      "\"Unable to open object (object 'extracted_forces' doesn't exist)\"\n",
      "\"Unable to open object (object 'extracted_forces' doesn't exist)\"\n",
      "\"Unable to open object (object 'extracted_forces' doesn't exist)\"\n",
      "\"Unable to open object (object 'extracted_forces' doesn't exist)\"\n",
      "\"Unable to open object (object 'extracted_forces' doesn't exist)\"\n",
      "\"Unable to open object (object 'extracted_forces' doesn't exist)\"\n",
      "\"Unable to open object (object 'extracted_forces' doesn't exist)\"\n",
      "\"Unable to open object (object 'extracted_forces' doesn't exist)\"\n",
      "\"Unable to open object (object 'extracted_forces' doesn't exist)\"\n",
      "\"Unable to open object (object 'extracted_forces' doesn't exist)\"\n",
      "\"Unable to open object (object 'extracted_forces' doesn't exist)\"\n",
      "\"Unable to open object (object 'extracted_forces' doesn't exist)\"\n",
      "\"Unable to open object (object 'extracted_forces' doesn't exist)\"\n",
      "\"Unable to open object (object 'extracted_forces' doesn't exist)\"\n",
      "\"Unable to open object (object 'extracted_forces' doesn't exist)\"\n",
      "\"Unable to open object (object 'extracted_forces' doesn't exist)\"\n",
      "\"Unable to open object (object 'extracted_forces' doesn't exist)\"\n",
      "\"Unable to open object (object 'extracted_forces' doesn't exist)\"\n",
      "\"Unable to open object (object 'extracted_forces' doesn't exist)\"\n",
      "\"Unable to open object (object 'extracted_forces' doesn't exist)\"\n",
      "\"Unable to open object (object 'extracted_forces' doesn't exist)\"\n",
      "\"Unable to open object (object 'extracted_forces' doesn't exist)\"\n",
      "\"Unable to open object (object 'extracted_forces' doesn't exist)\"\n",
      "\"Unable to open object (object 'extracted_forces' doesn't exist)\"\n",
      "\"Unable to open object (object 'extracted_forces' doesn't exist)\"\n",
      "\"Unable to open object (object 'extracted_forces' doesn't exist)\"\n",
      "\"Unable to open object (object 'extracted_forces' doesn't exist)\"\n",
      "\"Unable to open object (object 'extracted_forces' doesn't exist)\"\n",
      "\"Unable to open object (object 'extracted_forces' doesn't exist)\"\n",
      "\"Unable to open object (object 'extracted_forces' doesn't exist)\"\n",
      "\"Unable to open object (object 'extracted_forces' doesn't exist)\"\n",
      "\"Unable to open object (object 'extracted_forces' doesn't exist)\"\n",
      "\"Unable to open object (object 'extracted_forces' doesn't exist)\"\n",
      "\"Unable to open object (object 'extracted_forces' doesn't exist)\"\n",
      "\"Unable to open object (object 'extracted_forces' doesn't exist)\"\n",
      "\"Unable to open object (object 'extracted_forces' doesn't exist)\"\n",
      "\"Unable to open object (object 'extracted_forces' doesn't exist)\"\n",
      "\"Unable to open object (object 'extracted_forces' doesn't exist)\"\n",
      "\"Unable to open object (object 'extracted_forces' doesn't exist)\"\n",
      "\"Unable to open object (object 'extracted_forces' doesn't exist)\"\n",
      "\"Unable to open object (object 'extracted_forces' doesn't exist)\"\n"
     ]
    },
    {
     "name": "stderr",
     "output_type": "stream",
     "text": [
      "[12:23:55] UFFTYPER: Unrecognized charge state for atom: 7\n",
      "[12:23:56] UFFTYPER: Unrecognized charge state for atom: 6\n",
      "[12:24:07] UFFTYPER: Unrecognized charge state for atom: 2\n",
      "[12:24:08] UFFTYPER: Unrecognized charge state for atom: 14\n",
      "[12:24:08] UFFTYPER: Unrecognized charge state for atom: 19\n",
      "[12:24:09] UFFTYPER: Unrecognized charge state for atom: 9\n",
      "[12:24:12] UFFTYPER: Unrecognized charge state for atom: 7\n",
      "[12:24:14] UFFTYPER: Unrecognized charge state for atom: 1\n",
      "[12:24:14] UFFTYPER: Unrecognized charge state for atom: 7\n",
      "[12:24:16] UFFTYPER: Unrecognized charge state for atom: 9\n",
      "[12:24:19] UFFTYPER: Unrecognized charge state for atom: 4\n"
     ]
    },
    {
     "name": "stdout",
     "output_type": "stream",
     "text": [
      "\"Unable to open object (object 'extracted_forces' doesn't exist)\"\n",
      "\"Unable to open object (object 'extracted_forces' doesn't exist)\"\n",
      "\"Unable to open object (object 'extracted_forces' doesn't exist)\"\n",
      "\"Unable to open object (object 'extracted_forces' doesn't exist)\"\n",
      "\"Unable to open object (object 'extracted_forces' doesn't exist)\"\n",
      "\"Unable to open object (object 'extracted_forces' doesn't exist)\"\n",
      "\"Unable to open object (object 'extracted_forces' doesn't exist)\"\n",
      "\"Unable to open object (object 'extracted_forces' doesn't exist)\"\n",
      "\"Unable to open object (object 'extracted_forces' doesn't exist)\"\n",
      "\"Unable to open object (object 'extracted_forces' doesn't exist)\"\n",
      "\"Unable to open object (object 'extracted_forces' doesn't exist)\"\n",
      "\"Unable to open object (object 'extracted_forces' doesn't exist)\"\n",
      "\"Unable to open object (object 'extracted_forces' doesn't exist)\"\n",
      "\"Unable to open object (object 'extracted_forces' doesn't exist)\"\n",
      "\"Unable to open object (object 'extracted_forces' doesn't exist)\"\n",
      "\"Unable to open object (object 'extracted_forces' doesn't exist)\"\n",
      "\"Unable to open object (object 'extracted_forces' doesn't exist)\"\n",
      "\"Unable to open object (object 'extracted_forces' doesn't exist)\"\n",
      "\"Unable to open object (object 'extracted_forces' doesn't exist)\"\n",
      "\"Unable to open object (object 'extracted_forces' doesn't exist)\"\n"
     ]
    },
    {
     "name": "stderr",
     "output_type": "stream",
     "text": [
      "[12:24:22] UFFTYPER: Unrecognized charge state for atom: 8\n"
     ]
    },
    {
     "name": "stdout",
     "output_type": "stream",
     "text": [
      "\"Unable to open object (object 'extracted_forces' doesn't exist)\"\n"
     ]
    },
    {
     "name": "stderr",
     "output_type": "stream",
     "text": [
      "[12:24:22] UFFTYPER: Unrecognized charge state for atom: 19\n"
     ]
    },
    {
     "name": "stdout",
     "output_type": "stream",
     "text": [
      "\"Unable to open object (object 'extracted_forces' doesn't exist)\"\n",
      "\"Unable to open object (object 'extracted_forces' doesn't exist)\"\n",
      "\"Unable to open object (object 'extracted_forces' doesn't exist)\"\n",
      "\"Unable to open object (object 'extracted_forces' doesn't exist)\"\n",
      "\"Unable to open object (object 'extracted_forces' doesn't exist)\"\n",
      "\"Unable to open object (object 'extracted_forces' doesn't exist)\"\n",
      "\"Unable to open object (object 'extracted_forces' doesn't exist)\"\n",
      "\"Unable to open object (object 'extracted_forces' doesn't exist)\"\n",
      "\"Unable to open object (object 'extracted_forces' doesn't exist)\"\n",
      "\"Unable to open object (object 'extracted_forces' doesn't exist)\"\n",
      "\"Unable to open object (object 'extracted_forces' doesn't exist)\"\n",
      "\"Unable to open object (object 'extracted_forces' doesn't exist)\"\n",
      "\"Unable to open object (object 'extracted_forces' doesn't exist)\"\n",
      "\"Unable to open object (object 'extracted_forces' doesn't exist)\"\n",
      "\"Unable to open object (object 'extracted_forces' doesn't exist)\"\n",
      "\"Unable to open object (object 'extracted_forces' doesn't exist)\"\n",
      "\"Unable to open object (object 'extracted_forces' doesn't exist)\"\n",
      "\"Unable to open object (object 'extracted_forces' doesn't exist)\"\n",
      "\"Unable to open object (object 'extracted_forces' doesn't exist)\"\n",
      "\"Unable to open object (object 'extracted_forces' doesn't exist)\"\n",
      "\"Unable to open object (object 'extracted_forces' doesn't exist)\"\n",
      "\"Unable to open object (object 'extracted_forces' doesn't exist)\"\n",
      "\"Unable to open object (object 'extracted_forces' doesn't exist)\"\n",
      "\"Unable to open object (object 'extracted_forces' doesn't exist)\"\n"
     ]
    },
    {
     "name": "stderr",
     "output_type": "stream",
     "text": [
      "[12:24:26] UFFTYPER: Unrecognized charge state for atom: 7\n",
      "[12:24:28] UFFTYPER: Unrecognized charge state for atom: 18\n",
      "[12:24:28] UFFTYPER: Unrecognized charge state for atom: 1\n",
      "[12:24:44] UFFTYPER: Unrecognized charge state for atom: 13\n",
      "[12:24:45] UFFTYPER: Unrecognized charge state for atom: 5\n",
      "[12:24:57] UFFTYPER: Unrecognized charge state for atom: 1\n"
     ]
    },
    {
     "name": "stdout",
     "output_type": "stream",
     "text": [
      "\"Unable to open object (object 'extracted_forces' doesn't exist)\"\n"
     ]
    },
    {
     "name": "stderr",
     "output_type": "stream",
     "text": [
      "[12:25:11] UFFTYPER: Unrecognized charge state for atom: 7\n",
      "[12:25:13] UFFTYPER: Unrecognized charge state for atom: 9\n",
      "[12:25:13] UFFTYPER: Unrecognized charge state for atom: 1\n",
      "[12:25:16] UFFTYPER: Unrecognized charge state for atom: 4\n"
     ]
    },
    {
     "name": "stdout",
     "output_type": "stream",
     "text": [
      "\"Unable to open object (object 'extracted_forces' doesn't exist)\"\n",
      "\"Unable to open object (object 'extracted_forces' doesn't exist)\"\n",
      "\"Unable to open object (object 'extracted_forces' doesn't exist)\"\n",
      "\"Unable to open object (object 'extracted_forces' doesn't exist)\"\n",
      "\"Unable to open object (object 'extracted_forces' doesn't exist)\"\n",
      "\"Unable to open object (object 'extracted_forces' doesn't exist)\"\n",
      "\"Unable to open object (object 'extracted_forces' doesn't exist)\"\n",
      "\"Unable to open object (object 'extracted_forces' doesn't exist)\"\n",
      "\"Unable to open object (object 'extracted_forces' doesn't exist)\"\n",
      "\"Unable to open object (object 'extracted_forces' doesn't exist)\"\n",
      "\"Unable to open object (object 'extracted_forces' doesn't exist)\"\n",
      "\"Unable to open object (object 'extracted_forces' doesn't exist)\"\n",
      "\"Unable to open object (object 'extracted_forces' doesn't exist)\"\n",
      "\"Unable to open object (object 'extracted_forces' doesn't exist)\"\n",
      "\"Unable to open object (object 'extracted_forces' doesn't exist)\"\n",
      "\"Unable to open object (object 'extracted_forces' doesn't exist)\"\n",
      "\"Unable to open object (object 'extracted_forces' doesn't exist)\"\n",
      "\"Unable to open object (object 'extracted_forces' doesn't exist)\"\n",
      "\"Unable to open object (object 'extracted_forces' doesn't exist)\"\n",
      "\"Unable to open object (object 'extracted_forces' doesn't exist)\"\n",
      "\"Unable to open object (object 'extracted_forces' doesn't exist)\"\n",
      "\"Unable to open object (object 'extracted_forces' doesn't exist)\"\n",
      "\"Unable to open object (object 'extracted_forces' doesn't exist)\"\n",
      "\"Unable to open object (object 'extracted_forces' doesn't exist)\"\n",
      "\"Unable to open object (object 'extracted_forces' doesn't exist)\"\n",
      "\"Unable to open object (object 'extracted_forces' doesn't exist)\"\n",
      "\"Unable to open object (object 'extracted_forces' doesn't exist)\"\n",
      "\"Unable to open object (object 'extracted_forces' doesn't exist)\"\n",
      "\"Unable to open object (object 'extracted_forces' doesn't exist)\"\n",
      "\"Unable to open object (object 'extracted_forces' doesn't exist)\"\n",
      "\"Unable to open object (object 'extracted_forces' doesn't exist)\"\n",
      "\"Unable to open object (object 'extracted_forces' doesn't exist)\"\n"
     ]
    },
    {
     "name": "stderr",
     "output_type": "stream",
     "text": [
      "[12:25:20] UFFTYPER: Unrecognized charge state for atom: 3\n",
      "[12:25:26] UFFTYPER: Unrecognized charge state for atom: 1\n"
     ]
    },
    {
     "name": "stdout",
     "output_type": "stream",
     "text": [
      "\"Unable to open object (object 'extracted_forces' doesn't exist)\"\n",
      "\"Unable to open object (object 'extracted_forces' doesn't exist)\"\n"
     ]
    },
    {
     "name": "stderr",
     "output_type": "stream",
     "text": [
      "[12:25:35] UFFTYPER: Unrecognized charge state for atom: 12\n",
      "[12:25:35] UFFTYPER: Unrecognized charge state for atom: 9\n",
      "[12:25:42] UFFTYPER: Unrecognized charge state for atom: 1\n",
      "[12:25:42] UFFTYPER: Unrecognized charge state for atom: 6\n",
      "[12:25:43] UFFTYPER: Unrecognized charge state for atom: 7\n",
      "[12:25:48] UFFTYPER: Unrecognized charge state for atom: 6\n",
      "[12:25:52] UFFTYPER: Unrecognized charge state for atom: 5\n",
      "[12:25:55] UFFTYPER: Unrecognized charge state for atom: 10\n"
     ]
    },
    {
     "name": "stdout",
     "output_type": "stream",
     "text": [
      "\"Unable to open object (object 'extracted_forces' doesn't exist)\"\n"
     ]
    },
    {
     "name": "stderr",
     "output_type": "stream",
     "text": [
      "[12:26:05] UFFTYPER: Unrecognized charge state for atom: 10\n",
      "[12:26:06] UFFTYPER: Unrecognized charge state for atom: 13\n",
      "[12:26:10] UFFTYPER: Unrecognized charge state for atom: 13\n",
      "[12:26:10] UFFTYPER: Unrecognized charge state for atom: 3\n",
      "[12:26:11] UFFTYPER: Unrecognized charge state for atom: 5\n",
      "[12:26:14] UFFTYPER: Unrecognized charge state for atom: 1\n",
      "[12:26:16] UFFTYPER: Unrecognized charge state for atom: 6\n",
      "[12:26:19] UFFTYPER: Unrecognized charge state for atom: 1\n",
      "[12:26:23] UFFTYPER: Unrecognized charge state for atom: 9\n",
      "[12:26:23] UFFTYPER: Unrecognized charge state for atom: 6\n",
      "[12:26:33] UFFTYPER: Unrecognized charge state for atom: 13\n",
      "[12:26:35] UFFTYPER: Unrecognized charge state for atom: 18\n",
      "[12:26:41] UFFTYPER: Unrecognized charge state for atom: 6\n",
      "[12:26:43] UFFTYPER: Unrecognized charge state for atom: 3\n",
      "[12:26:44] UFFTYPER: Unrecognized charge state for atom: 10\n",
      "[12:26:45] UFFTYPER: Unrecognized charge state for atom: 2\n",
      "[12:26:45] UFFTYPER: Unrecognized charge state for atom: 12\n",
      "[12:26:48] UFFTYPER: Unrecognized charge state for atom: 5\n",
      "[12:26:50] UFFTYPER: Unrecognized charge state for atom: 9\n",
      "[12:26:51] UFFTYPER: Unrecognized charge state for atom: 10\n",
      "[12:26:56] UFFTYPER: Unrecognized charge state for atom: 1\n",
      "[12:26:57] UFFTYPER: Unrecognized charge state for atom: 16\n"
     ]
    },
    {
     "name": "stdout",
     "output_type": "stream",
     "text": [
      "\"Unable to open object (object 'extracted_forces' doesn't exist)\"\n",
      "\"Unable to open object (object 'extracted_forces' doesn't exist)\"\n",
      "\"Unable to open object (object 'extracted_forces' doesn't exist)\"\n",
      "\"Unable to open object (object 'extracted_forces' doesn't exist)\"\n",
      "\"Unable to open object (object 'extracted_forces' doesn't exist)\"\n",
      "\"Unable to open object (object 'extracted_forces' doesn't exist)\"\n",
      "\"Unable to open object (object 'extracted_forces' doesn't exist)\"\n",
      "\"Unable to open object (object 'extracted_forces' doesn't exist)\"\n",
      "\"Unable to open object (object 'extracted_forces' doesn't exist)\"\n",
      "\"Unable to open object (object 'extracted_forces' doesn't exist)\"\n",
      "\"Unable to open object (object 'extracted_forces' doesn't exist)\"\n",
      "\"Unable to open object (object 'extracted_forces' doesn't exist)\"\n",
      "\"Unable to open object (object 'extracted_forces' doesn't exist)\"\n",
      "\"Unable to open object (object 'extracted_forces' doesn't exist)\"\n",
      "\"Unable to open object (object 'extracted_forces' doesn't exist)\"\n",
      "\"Unable to open object (object 'extracted_forces' doesn't exist)\"\n",
      "\"Unable to open object (object 'extracted_forces' doesn't exist)\"\n",
      "\"Unable to open object (object 'extracted_forces' doesn't exist)\"\n",
      "\"Unable to open object (object 'extracted_forces' doesn't exist)\"\n",
      "\"Unable to open object (object 'extracted_forces' doesn't exist)\"\n",
      "\"Unable to open object (object 'extracted_forces' doesn't exist)\"\n",
      "\"Unable to open object (object 'extracted_forces' doesn't exist)\"\n",
      "\"Unable to open object (object 'extracted_forces' doesn't exist)\"\n",
      "\"Unable to open object (object 'extracted_forces' doesn't exist)\"\n",
      "\"Unable to open object (object 'extracted_forces' doesn't exist)\"\n",
      "\"Unable to open object (object 'extracted_forces' doesn't exist)\"\n",
      "\"Unable to open object (object 'extracted_forces' doesn't exist)\"\n",
      "\"Unable to open object (object 'extracted_forces' doesn't exist)\"\n",
      "\"Unable to open object (object 'extracted_forces' doesn't exist)\"\n",
      "\"Unable to open object (object 'extracted_forces' doesn't exist)\"\n",
      "\"Unable to open object (object 'extracted_forces' doesn't exist)\"\n",
      "\"Unable to open object (object 'extracted_forces' doesn't exist)\"\n",
      "\"Unable to open object (object 'extracted_forces' doesn't exist)\"\n",
      "\"Unable to open object (object 'extracted_forces' doesn't exist)\"\n",
      "\"Unable to open object (object 'extracted_forces' doesn't exist)\"\n",
      "\"Unable to open object (object 'extracted_forces' doesn't exist)\"\n",
      "\"Unable to open object (object 'extracted_forces' doesn't exist)\"\n",
      "\"Unable to open object (object 'extracted_forces' doesn't exist)\"\n",
      "\"Unable to open object (object 'extracted_forces' doesn't exist)\"\n",
      "\"Unable to open object (object 'extracted_forces' doesn't exist)\"\n",
      "\"Unable to open object (object 'extracted_forces' doesn't exist)\"\n",
      "\"Unable to open object (object 'extracted_forces' doesn't exist)\"\n",
      "\"Unable to open object (object 'extracted_forces' doesn't exist)\"\n"
     ]
    },
    {
     "name": "stderr",
     "output_type": "stream",
     "text": [
      "[12:27:15] UFFTYPER: Unrecognized charge state for atom: 10\n"
     ]
    },
    {
     "name": "stdout",
     "output_type": "stream",
     "text": [
      "\"Unable to open object (object 'extracted_forces' doesn't exist)\"\n",
      "\"Unable to open object (object 'extracted_forces' doesn't exist)\"\n",
      "\"Unable to open object (object 'extracted_forces' doesn't exist)\"\n",
      "\"Unable to open object (object 'extracted_forces' doesn't exist)\"\n",
      "\"Unable to open object (object 'extracted_forces' doesn't exist)\"\n"
     ]
    },
    {
     "name": "stderr",
     "output_type": "stream",
     "text": [
      "[12:27:16] UFFTYPER: Unrecognized charge state for atom: 1\n",
      "[12:27:19] UFFTYPER: Unrecognized charge state for atom: 9\n",
      "[12:27:22] UFFTYPER: Unrecognized charge state for atom: 2\n",
      "[12:27:23] UFFTYPER: Unrecognized charge state for atom: 14\n",
      "[12:27:23] UFFTYPER: Unrecognized charge state for atom: 10\n",
      "[12:27:24] UFFTYPER: Unrecognized charge state for atom: 1\n",
      "[12:27:26] UFFTYPER: Unrecognized charge state for atom: 1\n",
      "[12:27:39] UFFTYPER: Unrecognized charge state for atom: 8\n",
      "[12:27:41] UFFTYPER: Unrecognized charge state for atom: 8\n",
      "[12:27:44] UFFTYPER: Unrecognized charge state for atom: 7\n",
      "[12:27:49] UFFTYPER: Unrecognized charge state for atom: 3\n",
      "[12:27:51] UFFTYPER: Unrecognized charge state for atom: 1\n",
      "[12:27:51] UFFTYPER: Unrecognized charge state for atom: 9\n",
      "[12:27:52] UFFTYPER: Unrecognized charge state for atom: 11\n",
      "[12:27:54] UFFTYPER: Unrecognized charge state for atom: 7\n"
     ]
    },
    {
     "name": "stdout",
     "output_type": "stream",
     "text": [
      "\"Unable to open object (object 'extracted_forces' doesn't exist)\"\n",
      "\"Unable to open object (object 'extracted_forces' doesn't exist)\"\n",
      "\"Unable to open object (object 'extracted_forces' doesn't exist)\"\n",
      "\"Unable to open object (object 'extracted_forces' doesn't exist)\"\n",
      "\"Unable to open object (object 'extracted_forces' doesn't exist)\"\n",
      "\"Unable to open object (object 'extracted_forces' doesn't exist)\"\n",
      "\"Unable to open object (object 'extracted_forces' doesn't exist)\"\n",
      "\"Unable to open object (object 'extracted_forces' doesn't exist)\"\n",
      "\"Unable to open object (object 'extracted_forces' doesn't exist)\"\n",
      "\"Unable to open object (object 'extracted_forces' doesn't exist)\"\n",
      "\"Unable to open object (object 'extracted_forces' doesn't exist)\"\n",
      "\"Unable to open object (object 'extracted_forces' doesn't exist)\"\n",
      "\"Unable to open object (object 'extracted_forces' doesn't exist)\"\n",
      "\"Unable to open object (object 'extracted_forces' doesn't exist)\"\n",
      "\"Unable to open object (object 'extracted_forces' doesn't exist)\"\n",
      "\"Unable to open object (object 'extracted_forces' doesn't exist)\"\n",
      "\"Unable to open object (object 'extracted_forces' doesn't exist)\"\n",
      "\"Unable to open object (object 'extracted_forces' doesn't exist)\"\n",
      "\"Unable to open object (object 'extracted_forces' doesn't exist)\"\n",
      "\"Unable to open object (object 'extracted_forces' doesn't exist)\"\n",
      "\"Unable to open object (object 'extracted_forces' doesn't exist)\"\n",
      "\"Unable to open object (object 'extracted_forces' doesn't exist)\"\n",
      "\"Unable to open object (object 'extracted_forces' doesn't exist)\"\n",
      "\"Unable to open object (object 'extracted_forces' doesn't exist)\"\n",
      "\"Unable to open object (object 'extracted_forces' doesn't exist)\"\n",
      "\"Unable to open object (object 'extracted_forces' doesn't exist)\"\n",
      "\"Unable to open object (object 'extracted_forces' doesn't exist)\"\n",
      "\"Unable to open object (object 'extracted_forces' doesn't exist)\"\n",
      "\"Unable to open object (object 'extracted_forces' doesn't exist)\"\n",
      "\"Unable to open object (object 'extracted_forces' doesn't exist)\"\n",
      "\"Unable to open object (object 'extracted_forces' doesn't exist)\"\n",
      "\"Unable to open object (object 'extracted_forces' doesn't exist)\"\n",
      "\"Unable to open object (object 'extracted_forces' doesn't exist)\"\n",
      "\"Unable to open object (object 'extracted_forces' doesn't exist)\"\n",
      "\"Unable to open object (object 'extracted_forces' doesn't exist)\"\n",
      "\"Unable to open object (object 'extracted_forces' doesn't exist)\"\n",
      "\"Unable to open object (object 'extracted_forces' doesn't exist)\"\n",
      "\"Unable to open object (object 'extracted_forces' doesn't exist)\"\n",
      "\"Unable to open object (object 'extracted_forces' doesn't exist)\"\n",
      "\"Unable to open object (object 'extracted_forces' doesn't exist)\"\n",
      "\"Unable to open object (object 'extracted_forces' doesn't exist)\"\n",
      "\"Unable to open object (object 'extracted_forces' doesn't exist)\"\n"
     ]
    },
    {
     "name": "stderr",
     "output_type": "stream",
     "text": [
      "[12:28:14] UFFTYPER: Unrecognized charge state for atom: 1\n",
      "[12:28:15] UFFTYPER: Unrecognized charge state for atom: 2\n",
      "[12:28:16] UFFTYPER: Unrecognized charge state for atom: 11\n",
      "[12:28:19] UFFTYPER: Unrecognized charge state for atom: 5\n",
      "[12:28:21] UFFTYPER: Unrecognized charge state for atom: 1\n",
      "[12:28:23] UFFTYPER: Unrecognized charge state for atom: 1\n",
      "[12:28:24] UFFTYPER: Unrecognized charge state for atom: 4\n",
      "[12:28:27] UFFTYPER: Unrecognized charge state for atom: 6\n"
     ]
    },
    {
     "name": "stdout",
     "output_type": "stream",
     "text": [
      "\"Unable to open object (object 'extracted_forces' doesn't exist)\"\n",
      "\"Unable to open object (object 'extracted_forces' doesn't exist)\"\n",
      "\"Unable to open object (object 'extracted_forces' doesn't exist)\"\n",
      "\"Unable to open object (object 'extracted_forces' doesn't exist)\"\n",
      "\"Unable to open object (object 'extracted_forces' doesn't exist)\"\n",
      "\"Unable to open object (object 'extracted_forces' doesn't exist)\"\n",
      "\"Unable to open object (object 'extracted_forces' doesn't exist)\"\n",
      "\"Unable to open object (object 'extracted_forces' doesn't exist)\"\n",
      "\"Unable to open object (object 'extracted_forces' doesn't exist)\"\n",
      "\"Unable to open object (object 'extracted_forces' doesn't exist)\"\n",
      "\"Unable to open object (object 'extracted_forces' doesn't exist)\"\n",
      "\"Unable to open object (object 'extracted_forces' doesn't exist)\"\n",
      "\"Unable to open object (object 'extracted_forces' doesn't exist)\"\n",
      "\"Unable to open object (object 'extracted_forces' doesn't exist)\"\n",
      "\"Unable to open object (object 'extracted_forces' doesn't exist)\"\n",
      "\"Unable to open object (object 'extracted_forces' doesn't exist)\"\n",
      "\"Unable to open object (object 'extracted_forces' doesn't exist)\"\n",
      "\"Unable to open object (object 'extracted_forces' doesn't exist)\"\n",
      "\"Unable to open object (object 'extracted_forces' doesn't exist)\"\n",
      "\"Unable to open object (object 'extracted_forces' doesn't exist)\"\n",
      "\"Unable to open object (object 'extracted_forces' doesn't exist)\"\n",
      "\"Unable to open object (object 'extracted_forces' doesn't exist)\"\n",
      "\"Unable to open object (object 'extracted_forces' doesn't exist)\"\n",
      "\"Unable to open object (object 'extracted_forces' doesn't exist)\"\n",
      "\"Unable to open object (object 'extracted_forces' doesn't exist)\"\n",
      "\"Unable to open object (object 'extracted_forces' doesn't exist)\"\n",
      "\"Unable to open object (object 'extracted_forces' doesn't exist)\"\n",
      "\"Unable to open object (object 'extracted_forces' doesn't exist)\"\n",
      "\"Unable to open object (object 'extracted_forces' doesn't exist)\"\n",
      "\"Unable to open object (object 'extracted_forces' doesn't exist)\"\n",
      "\"Unable to open object (object 'extracted_forces' doesn't exist)\"\n",
      "\"Unable to open object (object 'extracted_forces' doesn't exist)\"\n",
      "\"Unable to open object (object 'extracted_forces' doesn't exist)\"\n",
      "\"Unable to open object (object 'extracted_forces' doesn't exist)\"\n",
      "\"Unable to open object (object 'extracted_forces' doesn't exist)\"\n",
      "\"Unable to open object (object 'extracted_forces' doesn't exist)\"\n",
      "\"Unable to open object (object 'extracted_forces' doesn't exist)\"\n",
      "\"Unable to open object (object 'extracted_forces' doesn't exist)\"\n",
      "\"Unable to open object (object 'extracted_forces' doesn't exist)\"\n",
      "\"Unable to open object (object 'extracted_forces' doesn't exist)\"\n",
      "\"Unable to open object (object 'extracted_forces' doesn't exist)\"\n",
      "\"Unable to open object (object 'extracted_forces' doesn't exist)\"\n",
      "\"Unable to open object (object 'extracted_forces' doesn't exist)\"\n",
      "\"Unable to open object (object 'extracted_forces' doesn't exist)\"\n",
      "\"Unable to open object (object 'extracted_forces' doesn't exist)\"\n",
      "\"Unable to open object (object 'extracted_forces' doesn't exist)\"\n"
     ]
    },
    {
     "name": "stderr",
     "output_type": "stream",
     "text": [
      "[12:28:33] UFFTYPER: Unrecognized charge state for atom: 13\n",
      "[12:28:35] UFFTYPER: Unrecognized charge state for atom: 1\n",
      "[12:28:36] UFFTYPER: Unrecognized charge state for atom: 6\n",
      "[12:28:40] UFFTYPER: Unrecognized charge state for atom: 10\n",
      "[12:28:45] UFFTYPER: Unrecognized charge state for atom: 5\n",
      "[12:28:46] UFFTYPER: Unrecognized charge state for atom: 14\n",
      "[12:28:47] UFFTYPER: Unrecognized charge state for atom: 4\n",
      "[12:28:48] UFFTYPER: Unrecognized charge state for atom: 3\n",
      "[12:28:48] UFFTYPER: Unrecognized charge state for atom: 14\n",
      "[12:28:55] UFFTYPER: Unrecognized charge state for atom: 5\n",
      "[12:28:59] UFFTYPER: Unrecognized charge state for atom: 1\n"
     ]
    },
    {
     "name": "stdout",
     "output_type": "stream",
     "text": [
      "\"Unable to open object (object 'extracted_forces' doesn't exist)\"\n",
      "\"Unable to open object (object 'extracted_forces' doesn't exist)\"\n",
      "\"Unable to open object (object 'extracted_forces' doesn't exist)\"\n",
      "\"Unable to open object (object 'extracted_forces' doesn't exist)\"\n",
      "\"Unable to open object (object 'extracted_forces' doesn't exist)\"\n"
     ]
    },
    {
     "name": "stderr",
     "output_type": "stream",
     "text": [
      "[12:29:06] UFFTYPER: Unrecognized charge state for atom: 8\n",
      "[12:29:11] UFFTYPER: Unrecognized charge state for atom: 8\n",
      "[12:29:11] UFFTYPER: Unrecognized charge state for atom: 18\n",
      "[12:29:13] UFFTYPER: Unrecognized charge state for atom: 19\n",
      "[12:29:17] UFFTYPER: Unrecognized charge state for atom: 7\n"
     ]
    },
    {
     "name": "stdout",
     "output_type": "stream",
     "text": [
      "\"Unable to open object (object 'extracted_forces' doesn't exist)\"\n"
     ]
    },
    {
     "name": "stderr",
     "output_type": "stream",
     "text": [
      "[12:29:37] UFFTYPER: Unrecognized charge state for atom: 1\n",
      "[12:29:45] UFFTYPER: Unrecognized charge state for atom: 2\n",
      "[12:29:45] UFFTYPER: Unrecognized charge state for atom: 4\n",
      "[12:29:46] UFFTYPER: Unrecognized charge state for atom: 8\n",
      "[12:29:47] UFFTYPER: Unrecognized charge state for atom: 6\n"
     ]
    },
    {
     "name": "stdout",
     "output_type": "stream",
     "text": [
      "\"Unable to open object (object 'extracted_forces' doesn't exist)\"\n"
     ]
    },
    {
     "name": "stderr",
     "output_type": "stream",
     "text": [
      "[12:29:54] UFFTYPER: Unrecognized charge state for atom: 11\n",
      "[12:29:56] UFFTYPER: Unrecognized charge state for atom: 4\n",
      "[12:29:59] UFFTYPER: Unrecognized charge state for atom: 5\n",
      "[12:30:04] UFFTYPER: Unrecognized charge state for atom: 14\n"
     ]
    },
    {
     "name": "stdout",
     "output_type": "stream",
     "text": [
      "\"Unable to open object (object 'extracted_forces' doesn't exist)\"\n",
      "\"Unable to open object (object 'extracted_forces' doesn't exist)\"\n",
      "\"Unable to open object (object 'extracted_forces' doesn't exist)\"\n",
      "\"Unable to open object (object 'extracted_forces' doesn't exist)\"\n",
      "\"Unable to open object (object 'extracted_forces' doesn't exist)\"\n",
      "\"Unable to open object (object 'extracted_forces' doesn't exist)\"\n",
      "\"Unable to open object (object 'extracted_forces' doesn't exist)\"\n",
      "\"Unable to open object (object 'extracted_forces' doesn't exist)\"\n",
      "\"Unable to open object (object 'extracted_forces' doesn't exist)\"\n",
      "\"Unable to open object (object 'extracted_forces' doesn't exist)\"\n",
      "\"Unable to open object (object 'extracted_forces' doesn't exist)\"\n",
      "\"Unable to open object (object 'extracted_forces' doesn't exist)\"\n",
      "\"Unable to open object (object 'extracted_forces' doesn't exist)\"\n",
      "\"Unable to open object (object 'extracted_forces' doesn't exist)\"\n",
      "\"Unable to open object (object 'extracted_forces' doesn't exist)\"\n",
      "\"Unable to open object (object 'extracted_forces' doesn't exist)\"\n",
      "\"Unable to open object (object 'extracted_forces' doesn't exist)\"\n",
      "\"Unable to open object (object 'extracted_forces' doesn't exist)\"\n",
      "\"Unable to open object (object 'extracted_forces' doesn't exist)\"\n",
      "\"Unable to open object (object 'extracted_forces' doesn't exist)\"\n",
      "\"Unable to open object (object 'extracted_forces' doesn't exist)\"\n",
      "\"Unable to open object (object 'extracted_forces' doesn't exist)\"\n",
      "\"Unable to open object (object 'extracted_forces' doesn't exist)\"\n",
      "\"Unable to open object (object 'extracted_forces' doesn't exist)\"\n",
      "\"Unable to open object (object 'extracted_forces' doesn't exist)\"\n",
      "\"Unable to open object (object 'extracted_forces' doesn't exist)\"\n",
      "\"Unable to open object (object 'extracted_forces' doesn't exist)\"\n",
      "\"Unable to open object (object 'extracted_forces' doesn't exist)\"\n",
      "\"Unable to open object (object 'extracted_forces' doesn't exist)\"\n",
      "\"Unable to open object (object 'extracted_forces' doesn't exist)\"\n",
      "\"Unable to open object (object 'extracted_forces' doesn't exist)\"\n",
      "\"Unable to open object (object 'extracted_forces' doesn't exist)\"\n",
      "\"Unable to open object (object 'extracted_forces' doesn't exist)\"\n",
      "\"Unable to open object (object 'extracted_forces' doesn't exist)\"\n",
      "\"Unable to open object (object 'extracted_forces' doesn't exist)\"\n",
      "\"Unable to open object (object 'extracted_forces' doesn't exist)\"\n",
      "\"Unable to open object (object 'extracted_forces' doesn't exist)\"\n",
      "\"Unable to open object (object 'extracted_forces' doesn't exist)\"\n",
      "\"Unable to open object (object 'extracted_forces' doesn't exist)\"\n",
      "\"Unable to open object (object 'extracted_forces' doesn't exist)\"\n",
      "\"Unable to open object (object 'extracted_forces' doesn't exist)\"\n",
      "\"Unable to open object (object 'extracted_forces' doesn't exist)\"\n",
      "\"Unable to open object (object 'extracted_forces' doesn't exist)\"\n",
      "\"Unable to open object (object 'extracted_forces' doesn't exist)\"\n",
      "\"Unable to open object (object 'extracted_forces' doesn't exist)\"\n",
      "\"Unable to open object (object 'extracted_forces' doesn't exist)\"\n",
      "\"Unable to open object (object 'extracted_forces' doesn't exist)\"\n"
     ]
    },
    {
     "name": "stderr",
     "output_type": "stream",
     "text": [
      "[12:30:10] UFFTYPER: Unrecognized charge state for atom: 1\n",
      "[12:30:12] UFFTYPER: Unrecognized charge state for atom: 11\n",
      "[12:30:13] UFFTYPER: Unrecognized charge state for atom: 6\n",
      "[12:30:17] UFFTYPER: Unrecognized charge state for atom: 8\n",
      "[12:30:19] UFFTYPER: Unrecognized charge state for atom: 16\n"
     ]
    },
    {
     "name": "stdout",
     "output_type": "stream",
     "text": [
      "\"Unable to open object (object 'extracted_forces' doesn't exist)\"\n",
      "\"Unable to open object (object 'extracted_forces' doesn't exist)\"\n",
      "\"Unable to open object (object 'extracted_forces' doesn't exist)\"\n",
      "\"Unable to open object (object 'extracted_forces' doesn't exist)\"\n",
      "\"Unable to open object (object 'extracted_forces' doesn't exist)\"\n",
      "\"Unable to open object (object 'extracted_forces' doesn't exist)\"\n",
      "\"Unable to open object (object 'extracted_forces' doesn't exist)\"\n",
      "\"Unable to open object (object 'extracted_forces' doesn't exist)\"\n",
      "\"Unable to open object (object 'extracted_forces' doesn't exist)\"\n",
      "\"Unable to open object (object 'extracted_forces' doesn't exist)\"\n",
      "\"Unable to open object (object 'extracted_forces' doesn't exist)\"\n",
      "\"Unable to open object (object 'extracted_forces' doesn't exist)\"\n",
      "\"Unable to open object (object 'extracted_forces' doesn't exist)\"\n",
      "\"Unable to open object (object 'extracted_forces' doesn't exist)\"\n",
      "\"Unable to open object (object 'extracted_forces' doesn't exist)\"\n",
      "\"Unable to open object (object 'extracted_forces' doesn't exist)\"\n",
      "\"Unable to open object (object 'extracted_forces' doesn't exist)\"\n",
      "\"Unable to open object (object 'extracted_forces' doesn't exist)\"\n",
      "\"Unable to open object (object 'extracted_forces' doesn't exist)\"\n",
      "\"Unable to open object (object 'extracted_forces' doesn't exist)\"\n",
      "\"Unable to open object (object 'extracted_forces' doesn't exist)\"\n",
      "\"Unable to open object (object 'extracted_forces' doesn't exist)\"\n",
      "\"Unable to open object (object 'extracted_forces' doesn't exist)\"\n",
      "\"Unable to open object (object 'extracted_forces' doesn't exist)\"\n",
      "\"Unable to open object (object 'extracted_forces' doesn't exist)\"\n",
      "\"Unable to open object (object 'extracted_forces' doesn't exist)\"\n",
      "\"Unable to open object (object 'extracted_forces' doesn't exist)\"\n",
      "\"Unable to open object (object 'extracted_forces' doesn't exist)\"\n",
      "\"Unable to open object (object 'extracted_forces' doesn't exist)\"\n",
      "\"Unable to open object (object 'extracted_forces' doesn't exist)\"\n",
      "\"Unable to open object (object 'extracted_forces' doesn't exist)\"\n",
      "\"Unable to open object (object 'extracted_forces' doesn't exist)\"\n",
      "\"Unable to open object (object 'extracted_forces' doesn't exist)\"\n",
      "\"Unable to open object (object 'extracted_forces' doesn't exist)\"\n",
      "\"Unable to open object (object 'extracted_forces' doesn't exist)\"\n",
      "\"Unable to open object (object 'extracted_forces' doesn't exist)\"\n",
      "\"Unable to open object (object 'extracted_forces' doesn't exist)\"\n",
      "\"Unable to open object (object 'extracted_forces' doesn't exist)\"\n",
      "\"Unable to open object (object 'extracted_forces' doesn't exist)\"\n",
      "\"Unable to open object (object 'extracted_forces' doesn't exist)\"\n",
      "\"Unable to open object (object 'extracted_forces' doesn't exist)\"\n",
      "\"Unable to open object (object 'extracted_forces' doesn't exist)\"\n",
      "\"Unable to open object (object 'extracted_forces' doesn't exist)\"\n",
      "\"Unable to open object (object 'extracted_forces' doesn't exist)\"\n",
      "\"Unable to open object (object 'extracted_forces' doesn't exist)\"\n",
      "\"Unable to open object (object 'extracted_forces' doesn't exist)\"\n"
     ]
    },
    {
     "name": "stderr",
     "output_type": "stream",
     "text": [
      "[12:30:27] UFFTYPER: Unrecognized charge state for atom: 10\n",
      "[12:30:28] UFFTYPER: Unrecognized charge state for atom: 6\n",
      "[12:30:29] UFFTYPER: Unrecognized charge state for atom: 8\n",
      "[12:30:36] UFFTYPER: Unrecognized charge state for atom: 12\n",
      "[12:30:36] UFFTYPER: Unrecognized charge state for atom: 17\n",
      "[12:30:39] UFFTYPER: Unrecognized charge state for atom: 10\n",
      "[12:30:47] UFFTYPER: Unrecognized charge state for atom: 12\n",
      "[12:30:49] UFFTYPER: Unrecognized charge state for atom: 20\n",
      "[12:30:51] UFFTYPER: Unrecognized charge state for atom: 7\n",
      "[12:30:53] UFFTYPER: Unrecognized charge state for atom: 9\n",
      "[12:31:04] UFFTYPER: Unrecognized charge state for atom: 3\n"
     ]
    },
    {
     "name": "stdout",
     "output_type": "stream",
     "text": [
      "\"Unable to open object (object 'extracted_forces' doesn't exist)\"\n",
      "\"Unable to open object (object 'extracted_forces' doesn't exist)\"\n",
      "\"Unable to open object (object 'extracted_forces' doesn't exist)\"\n",
      "\"Unable to open object (object 'extracted_forces' doesn't exist)\"\n",
      "\"Unable to open object (object 'extracted_forces' doesn't exist)\"\n",
      "\"Unable to open object (object 'extracted_forces' doesn't exist)\"\n",
      "\"Unable to open object (object 'extracted_forces' doesn't exist)\"\n",
      "\"Unable to open object (object 'extracted_forces' doesn't exist)\"\n",
      "\"Unable to open object (object 'extracted_forces' doesn't exist)\"\n",
      "\"Unable to open object (object 'extracted_forces' doesn't exist)\"\n",
      "\"Unable to open object (object 'extracted_forces' doesn't exist)\"\n",
      "\"Unable to open object (object 'extracted_forces' doesn't exist)\"\n",
      "\"Unable to open object (object 'extracted_forces' doesn't exist)\"\n"
     ]
    },
    {
     "name": "stderr",
     "output_type": "stream",
     "text": [
      "[12:31:05] UFFTYPER: Unrecognized charge state for atom: 1\n",
      "[12:31:07] UFFTYPER: Unrecognized charge state for atom: 3\n",
      "[12:31:08] UFFTYPER: Unrecognized charge state for atom: 13\n",
      "[12:31:08] UFFTYPER: Unrecognized charge state for atom: 11\n",
      "[12:31:10] UFFTYPER: Unrecognized charge state for atom: 18\n",
      "[12:31:11] UFFTYPER: Unrecognized charge state for atom: 12\n",
      "[12:31:14] UFFTYPER: Unrecognized charge state for atom: 19\n",
      "[12:31:18] UFFTYPER: Unrecognized charge state for atom: 2\n",
      "[12:31:20] UFFTYPER: Unrecognized charge state for atom: 10\n",
      "[12:31:20] UFFTYPER: Unrecognized charge state for atom: 1\n",
      "[12:31:25] UFFTYPER: Unrecognized charge state for atom: 6\n",
      "[12:31:28] UFFTYPER: Unrecognized charge state for atom: 1\n",
      "[12:31:28] UFFTYPER: Unrecognized charge state for atom: 10\n",
      "[12:31:29] UFFTYPER: Unrecognized charge state for atom: 14\n",
      "[12:31:30] UFFTYPER: Unrecognized charge state for atom: 13\n",
      "[12:31:33] UFFTYPER: Unrecognized charge state for atom: 9\n",
      "[12:31:37] UFFTYPER: Unrecognized charge state for atom: 11\n",
      "[12:31:39] UFFTYPER: Unrecognized charge state for atom: 11\n",
      "[12:31:49] UFFTYPER: Unrecognized charge state for atom: 4\n",
      "[12:31:52] UFFTYPER: Unrecognized charge state for atom: 5\n",
      "[12:31:53] UFFTYPER: Unrecognized charge state for atom: 14\n",
      "[12:31:53] UFFTYPER: Unrecognized charge state for atom: 8\n",
      "[12:31:55] UFFTYPER: Unrecognized charge state for atom: 4\n",
      "[12:31:55] UFFTYPER: Unrecognized charge state for atom: 8\n",
      "[12:31:57] UFFTYPER: Unrecognized charge state for atom: 13\n",
      "[12:31:58] UFFTYPER: Unrecognized charge state for atom: 6\n",
      "[12:31:59] UFFTYPER: Unrecognized charge state for atom: 1\n",
      "[12:32:05] UFFTYPER: Unrecognized charge state for atom: 20\n",
      "[12:32:09] UFFTYPER: Unrecognized charge state for atom: 10\n",
      "[12:32:11] UFFTYPER: Unrecognized charge state for atom: 8\n",
      "[12:32:11] UFFTYPER: Unrecognized charge state for atom: 16\n",
      "[12:32:14] UFFTYPER: Unrecognized charge state for atom: 7\n",
      "[12:32:14] UFFTYPER: Unrecognized charge state for atom: 21\n",
      "[12:32:17] UFFTYPER: Unrecognized charge state for atom: 8\n",
      "[12:32:20] UFFTYPER: Unrecognized charge state for atom: 5\n",
      "[12:32:26] UFFTYPER: Unrecognized charge state for atom: 19\n",
      "[12:32:26] UFFTYPER: Unrecognized charge state for atom: 8\n",
      "[12:32:33] UFFTYPER: Unrecognized charge state for atom: 13\n",
      "[12:32:37] UFFTYPER: Unrecognized charge state for atom: 1\n",
      "[12:32:55] UFFTYPER: Unrecognized charge state for atom: 5\n",
      "[12:32:58] UFFTYPER: Unrecognized charge state for atom: 11\n",
      "[12:33:01] UFFTYPER: Unrecognized charge state for atom: 8\n",
      "[12:33:26] UFFTYPER: Unrecognized charge state for atom: 14\n"
     ]
    },
    {
     "name": "stdout",
     "output_type": "stream",
     "text": [
      "CPU times: user 6.69 s, sys: 4.59 s, total: 11.3 s\n",
      "Wall time: 1h 37min 40s\n"
     ]
    }
   ],
   "source": [
    "pool = Pool(30)\n",
    "%time returns = pool.map(deposit_file,files)"
   ]
  },
  {
   "cell_type": "code",
   "execution_count": 17,
   "metadata": {},
   "outputs": [],
   "source": [
    "arr,counts = np.unique(data,return_counts=True)"
   ]
  },
  {
   "cell_type": "code",
   "execution_count": 18,
   "metadata": {},
   "outputs": [],
   "source": [
    "arr2,counts2 = np.unique(counts,return_counts=True)"
   ]
  },
  {
   "cell_type": "code",
   "execution_count": 21,
   "metadata": {},
   "outputs": [],
   "source": [
    "import matplotlib.pyplot as plt"
   ]
  },
  {
   "cell_type": "code",
   "execution_count": 22,
   "metadata": {},
   "outputs": [
    {
     "data": {
      "image/png": "[encoded data removed]",
      "text/plain": [
       "<Figure size 640x480 with 1 Axes>"
      ]
     },
     "metadata": {},
     "output_type": "display_data"
    }
   ],
   "source": [
    "_ = plt.hist(counts,bins=300)"
   ]
  },
  {
   "cell_type": "code",
   "execution_count": 27,
   "metadata": {},
   "outputs": [
    {
     "data": {
      "text/plain": [
       "(array([  3,   6,   9,  12,  15,  18,  21,  24,  27,  33,  36,  39,  42,\n",
       "         45,  48,  51,  54,  57,  60,  63,  66,  69,  72,  75,  81,  84,\n",
       "         87,  90,  93,  96,  99, 102, 105, 108, 111, 114, 117, 120, 123,\n",
       "        126, 129, 132, 135, 138, 141, 144, 147, 150]),\n",
       " array([   1,    3,    4,    3,    7,    7,    2,    4,    6,    2,    3,\n",
       "           7,    4,    3,    5,    6,    5,    1,    6,    5,    2,    2,\n",
       "           7,    8,    8,    6,    5,    6,    7,    1,    4,    5,    8,\n",
       "           5,    7,    1,    4,    4,    5,    5,    5,    4,    7,    2,\n",
       "           6,   12,  259, 6484]))"
      ]
     },
     "execution_count": 27,
     "metadata": {},
     "output_type": "execute_result"
    }
   ],
   "source": [
    "np.unique(counts,return_counts=True)"
   ]
  },
  {
   "cell_type": "code",
   "execution_count": 23,
   "metadata": {},
   "outputs": [],
   "source": [
    "import pandas as pd"
   ]
  },
  {
   "cell_type": "code",
   "execution_count": null,
   "metadata": {},
   "outputs": [],
   "source": []
  },
  {
   "cell_type": "code",
   "execution_count": 29,
   "metadata": {},
   "outputs": [
    {
     "name": "stdout",
     "output_type": "stream",
     "text": [
      "[(346772, 346777), (346772, 346801), (346772, 346827)]\n"
     ]
    }
   ],
   "source": [
    "for smiles in pd.read_csv('simulation_smiles/intra_molecular_hbond.txt',header=None)._values.flatten():\n",
    "\n",
    "    ids = lwreg.query(config,smiles=smiles,layers=lwreg.utils.HashLayer.NO_STEREO_SMILES)\n",
    "    if len(ids) > 0:\n",
    "        confids = lwreg.query(config,ids=ids)\n",
    "\n",
    "        for m, confid in confids:\n",
    "            cn = lwreg.utils._connect(config) # Connection to the database\n",
    "            curs = cn.cursor() # Command line cursor in postgresql\n",
    "            curs.execute(\"update solvent_CCl3.explicit_calculations set usage_flag = 'prospective_simulations' where conf_id='\"+str(confid)+\"'\")\n",
    "            cn.commit()\n",
    "            \n",
    "for smiles in pd.read_csv('simulation_smiles/conformational_ensemble_smiles.txt',header=None)._values.flatten():\n",
    "\n",
    "    ids = lwreg.query(config,smiles=smiles,layers=lwreg.utils.HashLayer.NO_STEREO_SMILES)\n",
    "    if len(ids) > 0:\n",
    "        confids = lwreg.query(config,ids=ids)\n",
    "\n",
    "        for m, confid in confids:\n",
    "            cn = lwreg.utils._connect(config) # Connection to the database\n",
    "            curs = cn.cursor() # Command line cursor in postgresql\n",
    "            curs.execute(\"update solvent_CCl3.explicit_calculations set usage_flag = 'prospective_simulations' where conf_id='\"+str(confid)+\"'\")\n",
    "            cn.commit()"
   ]
  },
  {
   "cell_type": "code",
   "execution_count": null,
   "metadata": {},
   "outputs": [],
   "source": []
  },
  {
   "cell_type": "code",
   "execution_count": null,
   "metadata": {},
   "outputs": [],
   "source": []
  },
  {
   "cell_type": "code",
   "execution_count": null,
   "metadata": {},
   "outputs": [],
   "source": [
    "\"insert into solvent_tip3p.explicit_calculations (conf_id, positions, forces, atomfeatures, trajectory, origin, usage_flag) values (%s, %s, %s, %s, %s, %s, %s)\", (entry_molregno_confid[1], arr_to_string(pos[k]),arr_to_string(force[k]),arr_to_string(atfeat), None, entry_file, usage_flag)"
   ]
  },
  {
   "cell_type": "code",
   "execution_count": 44,
   "metadata": {},
   "outputs": [],
   "source": []
  },
  {
   "cell_type": "code",
   "execution_count": 52,
   "metadata": {},
   "outputs": [
    {
     "name": "stdout",
     "output_type": "stream",
     "text": [
      "update solvent_tip3p.explicit_calculations set usage_flag = 'prospective_simulations' where conf_id='123'\n"
     ]
    }
   ],
   "source": [
    "confid = 123\n",
    "print(\"update solvent_tip3p.explicit_calculations set usage_flag = 'prospective_simulations' where conf_id='\"+str(confid)+\"'\")"
   ]
  },
  {
   "cell_type": "code",
   "execution_count": 69,
   "metadata": {},
   "outputs": [
    {
     "name": "stdout",
     "output_type": "stream",
     "text": [
      "90 rows affected.\n"
     ]
    }
   ],
   "source": [
    "psql_connection_string = f\"postgresql://{config['user']}:{config['password']}@{config['host']}/{config['dbname']}\"\n",
    "d = %sql $psql_connection_string \\\n",
    "SELECT origin from solvent_tip3p.explicit_calculations where usage_flag='hydration_free_energy_validation';"
   ]
  },
  {
   "cell_type": "code",
   "execution_count": 48,
   "metadata": {},
   "outputs": [
    {
     "data": {
      "text/plain": [
       "(array([ 90, 264, 267, 270]), array([ 1,  2,  4, 26]))"
      ]
     },
     "execution_count": 48,
     "metadata": {},
     "output_type": "execute_result"
    }
   ],
   "source": [
    "arr2, counts2"
   ]
  },
  {
   "cell_type": "code",
   "execution_count": 37,
   "metadata": {},
   "outputs": [
    {
     "data": {
      "text/plain": [
       "216"
      ]
     },
     "execution_count": 37,
     "metadata": {},
     "output_type": "execute_result"
    }
   ],
   "source": [
    "(3*4+6*2) * 3 * 3"
   ]
  },
  {
   "cell_type": "code",
   "execution_count": 30,
   "metadata": {},
   "outputs": [
    {
     "data": {
      "text/plain": [
       "88.0"
      ]
     },
     "execution_count": 30,
     "metadata": {},
     "output_type": "execute_result"
    }
   ],
   "source": [
    "264/3"
   ]
  },
  {
   "cell_type": "code",
   "execution_count": 8,
   "metadata": {},
   "outputs": [],
   "source": [
    "storage = hdf5_storage(files[0])            "
   ]
  },
  {
   "cell_type": "code",
   "execution_count": 9,
   "metadata": {},
   "outputs": [],
   "source": [
    "testsmiles = storage.get_smiles('10')"
   ]
  },
  {
   "cell_type": "code",
   "execution_count": 10,
   "metadata": {},
   "outputs": [
    {
     "data": {
      "text/plain": [
       "'[H]c1c([H])c(Cl)c2c(c1[H])-n1c(nc3c([H])c([H])c([H])c([H])c3c1=O)C2=O'"
      ]
     },
     "execution_count": 10,
     "metadata": {},
     "output_type": "execute_result"
    }
   ],
   "source": [
    "testsmiles"
   ]
  },
  {
   "cell_type": "code",
   "execution_count": 12,
   "metadata": {},
   "outputs": [
    {
     "name": "stdout",
     "output_type": "stream",
     "text": [
      "45\n"
     ]
    }
   ],
   "source": [
    "if len(lwreg.query(config,smiles=testsmiles,layers=lwreg.utils.HashLayer.NO_STEREO_SMILES)) > 0:\n",
    "    print(45)"
   ]
  },
  {
   "cell_type": "code",
   "execution_count": 42,
   "metadata": {},
   "outputs": [
    {
     "data": {
      "text/plain": [
       "[(89978, 89979),\n",
       " (89978, 90059),\n",
       " (89978, 90117),\n",
       " (89978, 90090),\n",
       " (89978, 90001),\n",
       " (89978, 90031),\n",
       " (89978, 92497),\n",
       " (89978, 92529),\n",
       " (89978, 92552)]"
      ]
     },
     "execution_count": 42,
     "metadata": {},
     "output_type": "execute_result"
    }
   ],
   "source": [
    "lwreg.query(config,ids=[89978])"
   ]
  },
  {
   "cell_type": "code",
   "execution_count": 10,
   "metadata": {},
   "outputs": [],
   "source": [
    "psql_connection_string = f\"postgresql://{config['user']}:{config['password']}@{config['host']}/{config['dbname']}\""
   ]
  },
  {
   "cell_type": "code",
   "execution_count": 11,
   "metadata": {},
   "outputs": [],
   "source": [
    "%load_ext sql"
   ]
  },
  {
   "cell_type": "code",
   "execution_count": 12,
   "metadata": {},
   "outputs": [
    {
     "name": "stdout",
     "output_type": "stream",
     "text": [
      "536757 rows affected.\n"
     ]
    }
   ],
   "source": [
    "d = %sql $psql_connection_string \\\n",
    "SELECT * from solvent_tip3p.explicit_calculations;"
   ]
  },
  {
   "cell_type": "code",
   "execution_count": 13,
   "metadata": {},
   "outputs": [
    {
     "data": {
      "text/html": [
       "<div>\n",
       "<style scoped>\n",
       "    .dataframe tbody tr th:only-of-type {\n",
       "        vertical-align: middle;\n",
       "    }\n",
       "\n",
       "    .dataframe tbody tr th {\n",
       "        vertical-align: top;\n",
       "    }\n",
       "\n",
       "    .dataframe thead th {\n",
       "        text-align: right;\n",
       "    }\n",
       "</style>\n",
       "<table border=\"1\" class=\"dataframe\">\n",
       "  <thead>\n",
       "    <tr style=\"text-align: right;\">\n",
       "      <th></th>\n",
       "      <th>conf_id</th>\n",
       "      <th>positions</th>\n",
       "      <th>forces</th>\n",
       "      <th>atomfeatures</th>\n",
       "      <th>trajectory</th>\n",
       "      <th>origin</th>\n",
       "      <th>usage_flag</th>\n",
       "    </tr>\n",
       "  </thead>\n",
       "  <tbody>\n",
       "    <tr>\n",
       "      <th>0</th>\n",
       "      <td>1</td>\n",
       "      <td>[[1.60853994, -0.00276800059, 2.53582788], [1....</td>\n",
       "      <td>[[0.0, -3.17533915, 7.44690002, -21.1766397], ...</td>\n",
       "      <td>[[-0.03805263, 0.1504859, 0.15929745, 0.733756...</td>\n",
       "      <td>None</td>\n",
       "      <td>Additional_elements_16.h5</td>\n",
       "      <td>train</td>\n",
       "    </tr>\n",
       "    <tr>\n",
       "      <th>1</th>\n",
       "      <td>2</td>\n",
       "      <td>[[0.33521423, 1.93776524, 0.65952581], [0.2874...</td>\n",
       "      <td>[[0.0, 477.74500544, -679.77343009, 462.893115...</td>\n",
       "      <td>[[-0.59818696, 0.1304859, 0.13845063, 0.867814...</td>\n",
       "      <td>None</td>\n",
       "      <td>Additional_elements_56.h5</td>\n",
       "      <td>train</td>\n",
       "    </tr>\n",
       "    <tr>\n",
       "      <th>2</th>\n",
       "      <td>3</td>\n",
       "      <td>[[2.32759953, 2.05878758, 2.6759553], [2.33782...</td>\n",
       "      <td>[[0.0, -116.287229, 444.574806, 31.7631949], [...</td>\n",
       "      <td>[[-0.4794455, 0.1354859, 0.09939232, 0.503364,...</td>\n",
       "      <td>None</td>\n",
       "      <td>Additional_elements_80.h5</td>\n",
       "      <td>train</td>\n",
       "    </tr>\n",
       "    <tr>\n",
       "      <th>3</th>\n",
       "      <td>6</td>\n",
       "      <td>[[0.3955453, 0.49953544, 1.91551507], [0.46098...</td>\n",
       "      <td>[[0.0, 128.16029339, 43.17951318, 60.96634311]...</td>\n",
       "      <td>[[-0.18906667, 0.1604859, -0.11289686, 0.86781...</td>\n",
       "      <td>None</td>\n",
       "      <td>Additional_elements_24.h5</td>\n",
       "      <td>train</td>\n",
       "    </tr>\n",
       "    <tr>\n",
       "      <th>4</th>\n",
       "      <td>3286</td>\n",
       "      <td>[[0.13792783, 2.14761448, 1.13500428], [0.2495...</td>\n",
       "      <td>[[0.0, 4.53358489, -104.82649885, 39.11994759]...</td>\n",
       "      <td>[[-0.204, 0.1604859, -0.11289686, 0.867814, 0....</td>\n",
       "      <td>None</td>\n",
       "      <td>Additional_elements_1.h5</td>\n",
       "      <td>train</td>\n",
       "    </tr>\n",
       "    <tr>\n",
       "      <th>...</th>\n",
       "      <td>...</td>\n",
       "      <td>...</td>\n",
       "      <td>...</td>\n",
       "      <td>...</td>\n",
       "      <td>...</td>\n",
       "      <td>...</td>\n",
       "      <td>...</td>\n",
       "    </tr>\n",
       "    <tr>\n",
       "      <th>536752</th>\n",
       "      <td>536855</td>\n",
       "      <td>[[1.24780488, 2.48937988, 3.1832664], [1.18103...</td>\n",
       "      <td>[[0.0, 95.867093, -193.739976, -213.997889], [...</td>\n",
       "      <td>[[0.4192, 0.1504859, 0.15929745, 0.733756, 0.5...</td>\n",
       "      <td>None</td>\n",
       "      <td>Additional_elements_5879.h5</td>\n",
       "      <td>train</td>\n",
       "    </tr>\n",
       "    <tr>\n",
       "      <th>536753</th>\n",
       "      <td>536857</td>\n",
       "      <td>[[0.85108656, 3.35780501, 2.88350081], [0.9697...</td>\n",
       "      <td>[[0.0, -150.315673, 157.741744, -135.907614], ...</td>\n",
       "      <td>[[0.4192, 0.1504859, 0.15929745, 0.733756, 0.5...</td>\n",
       "      <td>None</td>\n",
       "      <td>Additional_elements_5879.h5</td>\n",
       "      <td>train</td>\n",
       "    </tr>\n",
       "    <tr>\n",
       "      <th>536754</th>\n",
       "      <td>536859</td>\n",
       "      <td>[[2.62347865, 0.56198275, 1.43341196], [2.7308...</td>\n",
       "      <td>[[0.0, -35.8997637, -105.957359, 18.169783], [...</td>\n",
       "      <td>[[-0.34462273, 0.1504859, 0.15929745, 0.733756...</td>\n",
       "      <td>None</td>\n",
       "      <td>Additional_elements_5879.h5</td>\n",
       "      <td>train</td>\n",
       "    </tr>\n",
       "    <tr>\n",
       "      <th>536755</th>\n",
       "      <td>536861</td>\n",
       "      <td>[[2.35966825, 1.07118928, 0.43247464], [2.4427...</td>\n",
       "      <td>[[0.0, 87.8305358, 44.2719894, -9.7248125], [0...</td>\n",
       "      <td>[[-0.34462273, 0.1504859, 0.15929745, 0.733756...</td>\n",
       "      <td>None</td>\n",
       "      <td>Additional_elements_5879.h5</td>\n",
       "      <td>train</td>\n",
       "    </tr>\n",
       "    <tr>\n",
       "      <th>536756</th>\n",
       "      <td>536862</td>\n",
       "      <td>[[2.47716618, 1.03165329, 0.58709168], [2.5823...</td>\n",
       "      <td>[[0.0, 44.5636886, 86.8080077, -60.0139147], [...</td>\n",
       "      <td>[[-0.34462273, 0.1504859, 0.15929745, 0.733756...</td>\n",
       "      <td>None</td>\n",
       "      <td>Additional_elements_5879.h5</td>\n",
       "      <td>train</td>\n",
       "    </tr>\n",
       "  </tbody>\n",
       "</table>\n",
       "<p>536757 rows × 7 columns</p>\n",
       "</div>"
      ],
      "text/plain": [
       "        conf_id                                          positions  \\\n",
       "0             1  [[1.60853994, -0.00276800059, 2.53582788], [1....   \n",
       "1             2  [[0.33521423, 1.93776524, 0.65952581], [0.2874...   \n",
       "2             3  [[2.32759953, 2.05878758, 2.6759553], [2.33782...   \n",
       "3             6  [[0.3955453, 0.49953544, 1.91551507], [0.46098...   \n",
       "4          3286  [[0.13792783, 2.14761448, 1.13500428], [0.2495...   \n",
       "...         ...                                                ...   \n",
       "536752   536855  [[1.24780488, 2.48937988, 3.1832664], [1.18103...   \n",
       "536753   536857  [[0.85108656, 3.35780501, 2.88350081], [0.9697...   \n",
       "536754   536859  [[2.62347865, 0.56198275, 1.43341196], [2.7308...   \n",
       "536755   536861  [[2.35966825, 1.07118928, 0.43247464], [2.4427...   \n",
       "536756   536862  [[2.47716618, 1.03165329, 0.58709168], [2.5823...   \n",
       "\n",
       "                                                   forces  \\\n",
       "0       [[0.0, -3.17533915, 7.44690002, -21.1766397], ...   \n",
       "1       [[0.0, 477.74500544, -679.77343009, 462.893115...   \n",
       "2       [[0.0, -116.287229, 444.574806, 31.7631949], [...   \n",
       "3       [[0.0, 128.16029339, 43.17951318, 60.96634311]...   \n",
       "4       [[0.0, 4.53358489, -104.82649885, 39.11994759]...   \n",
       "...                                                   ...   \n",
       "536752  [[0.0, 95.867093, -193.739976, -213.997889], [...   \n",
       "536753  [[0.0, -150.315673, 157.741744, -135.907614], ...   \n",
       "536754  [[0.0, -35.8997637, -105.957359, 18.169783], [...   \n",
       "536755  [[0.0, 87.8305358, 44.2719894, -9.7248125], [0...   \n",
       "536756  [[0.0, 44.5636886, 86.8080077, -60.0139147], [...   \n",
       "\n",
       "                                             atomfeatures trajectory  \\\n",
       "0       [[-0.03805263, 0.1504859, 0.15929745, 0.733756...       None   \n",
       "1       [[-0.59818696, 0.1304859, 0.13845063, 0.867814...       None   \n",
       "2       [[-0.4794455, 0.1354859, 0.09939232, 0.503364,...       None   \n",
       "3       [[-0.18906667, 0.1604859, -0.11289686, 0.86781...       None   \n",
       "4       [[-0.204, 0.1604859, -0.11289686, 0.867814, 0....       None   \n",
       "...                                                   ...        ...   \n",
       "536752  [[0.4192, 0.1504859, 0.15929745, 0.733756, 0.5...       None   \n",
       "536753  [[0.4192, 0.1504859, 0.15929745, 0.733756, 0.5...       None   \n",
       "536754  [[-0.34462273, 0.1504859, 0.15929745, 0.733756...       None   \n",
       "536755  [[-0.34462273, 0.1504859, 0.15929745, 0.733756...       None   \n",
       "536756  [[-0.34462273, 0.1504859, 0.15929745, 0.733756...       None   \n",
       "\n",
       "                             origin usage_flag  \n",
       "0         Additional_elements_16.h5      train  \n",
       "1         Additional_elements_56.h5      train  \n",
       "2         Additional_elements_80.h5      train  \n",
       "3         Additional_elements_24.h5      train  \n",
       "4          Additional_elements_1.h5      train  \n",
       "...                             ...        ...  \n",
       "536752  Additional_elements_5879.h5      train  \n",
       "536753  Additional_elements_5879.h5      train  \n",
       "536754  Additional_elements_5879.h5      train  \n",
       "536755  Additional_elements_5879.h5      train  \n",
       "536756  Additional_elements_5879.h5      train  \n",
       "\n",
       "[536757 rows x 7 columns]"
      ]
     },
     "execution_count": 13,
     "metadata": {},
     "output_type": "execute_result"
    }
   ],
   "source": [
    "d.DataFrame()"
   ]
  },
  {
   "cell_type": "code",
   "execution_count": null,
   "metadata": {},
   "outputs": [],
   "source": []
  }
 ],
 "metadata": {
  "kernelspec": {
   "display_name": "Python 3",
   "language": "python",
   "name": "python3"
  },
  "language_info": {
   "codemirror_mode": {
    "name": "ipython",
    "version": 3
   },
   "file_extension": ".py",
   "mimetype": "text/x-python",
   "name": "python",
   "nbconvert_exporter": "python",
   "pygments_lexer": "ipython3",
   "version": "3.1.-1"
  },
  "orig_nbformat": 4,
  "vscode": {
   "interpreter": {
    "hash": "432a981400c0137948795c5d37430a7be10bc61c9ef928b157d034da2605af36"
   }
  }
 },
 "nbformat": 4,
 "nbformat_minor": 2
}
